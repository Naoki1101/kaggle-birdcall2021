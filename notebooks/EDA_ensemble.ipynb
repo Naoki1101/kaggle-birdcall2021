{
 "cells": [
  {
   "cell_type": "code",
   "execution_count": 155,
   "metadata": {},
   "outputs": [],
   "source": [
    "import sys\n",
    "from collections import Counter\n",
    "\n",
    "import numpy as np\n",
    "import pandas as pd\n",
    "from scipy import stats\n",
    "from tqdm.notebook import tqdm\n",
    "%matplotlib inline\n",
    "import matplotlib.pyplot as plt\n",
    "import warnings\n",
    "warnings.filterwarnings(\"ignore\")\n",
    "\n",
    "sys.path.append('../src')\n",
    "import const\n",
    "from metrics import micro_f1_similarity, row_wise_micro_averaged_f1_score\n",
    "\n",
    "pd.options.display.max_rows = 120"
   ]
  },
  {
   "cell_type": "code",
   "execution_count": 156,
   "metadata": {},
   "outputs": [],
   "source": [
    "valid_df = pd.read_csv('../data/input/train_soundscape_labels.csv')\n",
    "use_idx = valid_df[~valid_df[\"audio_id\"].isin([7019, 7954, 14473])].index\n",
    "# use_idx = valid_df[valid_df[\"audio_id\"].isin([7019, 7954, 14473, 2782, 7843, 20152, 28933, 54955])].index\n",
    "drop_idx = valid_df[valid_df[\"audio_id\"].isin([7019, 7954, 14473])].index\n",
    "valid_df = valid_df.iloc[use_idx].reset_index(drop=True)\n",
    "\n",
    "val_y_labels = valid_df[\"birds\"].tolist()\n",
    "\n",
    "all_diff_scores = {}"
   ]
  },
  {
   "cell_type": "code",
   "execution_count": 10,
   "metadata": {},
   "outputs": [],
   "source": [
    "def fill_dropped(dropped_array, drop_idx):\n",
    "    filled_array = np.zeros(\n",
    "        (len(dropped_array) + len(drop_idx), dropped_array.shape[1])\n",
    "    )\n",
    "    idx_array = np.arange(len(filled_array))\n",
    "    use_idx = np.delete(idx_array, drop_idx)\n",
    "    filled_array[use_idx, :] = dropped_array\n",
    "    return filled_array"
   ]
  },
  {
   "cell_type": "code",
   "execution_count": 11,
   "metadata": {},
   "outputs": [],
   "source": [
    "def extract_label(preds, th=0.5):\n",
    "    events = preds >= th\n",
    "    nocall_col = np.zeros((len(preds), 1)).astype(bool)\n",
    "    nocall_col[events.sum(1) == 0] = True\n",
    "    events = np.concatenate([events, nocall_col], axis=1)\n",
    "    \n",
    "    predict_labels = []\n",
    "    for i in range(len(events)):\n",
    "        event = events[i, :]\n",
    "        labels = np.argwhere(event).reshape(-1).tolist()\n",
    "        \n",
    "        row_labels = []\n",
    "        for label in labels:\n",
    "            row_labels.append(const.INV_BIRD_CODE[label])\n",
    "        predict_labels.append(\" \".join(row_labels))\n",
    "\n",
    "    return predict_labels"
   ]
  },
  {
   "cell_type": "code",
   "execution_count": 12,
   "metadata": {},
   "outputs": [],
   "source": [
    "def set_audio_base_score(pred_labels, df):\n",
    "    score_dict = {}\n",
    "    \n",
    "    gp = df.groupby(\"audio_id\")\n",
    "    for audio_id, audio_df in gp:\n",
    "        idxs = audio_df.index.values\n",
    "        score = row_wise_micro_averaged_f1_score(audio_df[\"birds\"], np.array(pred_labels)[idxs])\n",
    "        score_dict[audio_id] = score\n",
    "        \n",
    "    return score_dict\n",
    "\n",
    "def get_audio_score(pred_labels, df, score_dict):\n",
    "    diff_scores = {}\n",
    "\n",
    "    gp = df.groupby(\"audio_id\")\n",
    "    for audio_id, audio_df in gp:\n",
    "        idxs = audio_df.index.values\n",
    "        score = row_wise_micro_averaged_f1_score(audio_df[\"birds\"], np.array(pred_labels)[idxs])\n",
    "        base_score = score_dict[audio_id]\n",
    "\n",
    "        print(f\"{audio_id}: {score:.4f} [{score - base_score:.3f}]\")\n",
    "        diff_scores[audio_id] = score - base_score\n",
    "        \n",
    "    return diff_scores"
   ]
  },
  {
   "cell_type": "code",
   "execution_count": 13,
   "metadata": {},
   "outputs": [],
   "source": [
    "# oof4 = np.load(\"../logs/exp_004_20210409202215_0.701/oof.npy\")\n",
    "# oof10 = np.load(\"../logs/exp_010_20210412203406_0.684/oof.npy\")\n",
    "# oof11 = np.load(\"../logs/exp_011_20210413092718_0.710/oof.npy\")\n",
    "# oof12 = np.load(\"../logs/exp_012_20210413202510_0.700/oof.npy\")\n",
    "# oof20 = np.load(\"../logs/exp_020_20210420203023_0.698/oof.npy\")\n",
    "# oof21 = np.load(\"../logs/exp_021_20210421105635_0.701/oof.npy\")\n",
    "# oof22 = np.load(\"../logs/exp_022_20210421213519_0.712/oof.npy\")\n",
    "# oof23 = np.load(\"../logs/exp_023_20210422072541_0.696/oof.npy\")\n",
    "# oof24 = np.load(\"../logs/exp_024_20210422215622_0.684/oof.npy\")\n",
    "# oof25 = np.load(\"../logs/exp_025_20210423142123_0.684/oof.npy\")\n",
    "# oof28 = np.load(\"../logs/exp_028_20210425165254_0.671/oof.npy\")\n",
    "# oof28 = np.load(\"../logs/exp_028_20210425165254_0.671/oof.npy\")\n",
    "# # oof29 = np.load(\"../logs/exp_029_20210425212038_0.675/oof.npy\")\n",
    "# # oof32 = np.load(\"../logs/exp_032_20210426185313_0.684/oof.npy\")\n",
    "# # oof33 = np.load(\"../logs/exp_033_20210426230524_0.701/oof.npy\")\n",
    "# # oof34 = np.load(\"../logs/exp_034_20210427025324_0.686/oof.npy\")\n",
    "# # oof35 = np.load(\"../logs/exp_035_20210427085305_0.690/oof.npy\")\n",
    "\n",
    "# oof40 = np.load(\"../logs/exp_040_20210428095746_0.696/oof.npy\")\n",
    "# oof41 = np.load(\"../logs/exp_041_20210428173715_0.689/oof.npy\")\n",
    "# oof42 = np.load(\"../logs/exp_042_20210429120526_0.692/oof.npy\")\n",
    "# oof43 = np.load(\"../logs/exp_043_20210429195623_0.697/oof.npy\")\n",
    "# oof44 = np.load(\"../logs/exp_044_20210429235301_0.707/oof.npy\")\n",
    "# oof45 = np.load(\"../logs/exp_045_20210430131333_0.695/oof.npy\")\n",
    "# oof50 = np.load(\"../logs/exp_050_20210502230529_0.679/oof.npy\")\n",
    "# oof51 = np.load(\"../logs/exp_051_20210503030848_0.694/oof.npy\")\n",
    "# oof52 = np.load(\"../logs/exp_052_20210503093904_0.692/oof.npy\")\n",
    "\n",
    "# oof54 = np.load(\"../logs/exp_054_20210503234704_0.685/oof.npy\")\n",
    "# oof55 = np.load(\"../logs/exp_055_20210504024705_0.693/oof.npy\")\n",
    "# oof55 = oof54 * 0.5 + oof55 * 0.5\n",
    "\n",
    "# oof56 = np.load(\"../logs/exp_056_20210504114210_0.697/oof.npy\")\n",
    "# oof57 = np.load(\"../logs/exp_057_20210504153605_0.690/oof.npy\")\n",
    "# oof58 = np.load(\"../logs/exp_058_20210504202445_0.679/oof.npy\")\n",
    "# oof60 = np.load(\"../logs/exp_060_20210505181921_0.706/oof.npy\")\n",
    "# oof61 = np.load(\"../logs/exp_061_20210505232548_0.656/oof.npy\")\n",
    "# oof62 = np.load(\"../logs/exp_062_20210506032156_0.648/oof.npy\")\n",
    "# oof65 = np.load(\"../logs/exp_065_20210507102634_0.640/oof.npy\")\n",
    "# oof65 = fill_dropped(oof65, drop_idx)\n",
    "# oof66 = np.load(\"../logs/exp_066_20210507141914_0.637/oof.npy\")\n",
    "# oof66 = fill_dropped(oof66, drop_idx)\n",
    "# oof67 = np.load(\"../logs/exp_067_20210507230447_0.629/oof.npy\")\n",
    "# oof68 = np.load(\"../logs/exp_068_20210508025654_0.620/oof.npy\")\n",
    "# oof74 = np.load(\"../logs/exp_074_20210509223155_3.172/oof.npy\")\n",
    "# oof74 = fill_dropped(oof74, drop_idx)\n",
    "# oof76 = np.load(\"../logs/exp_076_20210511000515_0.629/oof.npy\")\n",
    "# oof76 = fill_dropped(oof76, drop_idx)\n",
    "# oof77 = np.load(\"../logs/exp_077_20210511035734_0.629/oof.npy\")\n",
    "# oof77 = fill_dropped(oof77, drop_idx)\n",
    "# oof78 = np.load(\"../logs/exp_078_20210511074917_0.633/oof.npy\")\n",
    "# oof78 = fill_dropped(oof78, drop_idx)\n",
    "# oof81 = np.load(\"../logs/exp_081_20210511225340_0.636/oof.npy\")\n",
    "# oof81 = fill_dropped(oof81, drop_idx)\n",
    "# oof82 = np.load(\"../logs/exp_082_20210512024531_0.625/oof.npy\")\n",
    "# oof82 = fill_dropped(oof82, drop_idx)\n",
    "# oof86 = np.load(\"../logs/exp_086_20210512183544_0.632/oof.npy\")\n",
    "# oof86 = fill_dropped(oof86, drop_idx)\n",
    "# oof87 = np.load(\"../logs/exp_087_20210512231955_0.619/oof.npy\")\n",
    "# oof87 = fill_dropped(oof87, drop_idx)\n",
    "# oof88 = np.load(\"../logs/exp_088_20210513031332_0.628/oof.npy\")\n",
    "# oof88 = fill_dropped(oof88, drop_idx)\n",
    "# oof89 = np.load(\"../logs/exp_089_20210513093810_0.627/oof.npy\")\n",
    "# oof89 = fill_dropped(oof89, drop_idx)\n",
    "# oof91 = np.load(\"../logs/exp_091_20210514120344_0.639/oof.npy\")\n",
    "# oof91 = fill_dropped(oof91, drop_idx)\n",
    "# oof92 = np.load(\"../logs/exp_092_20210514160253_0.650/oof.npy\")\n",
    "# oof92 = fill_dropped(oof92, drop_idx)\n",
    "# oof93 = np.load(\"../logs/exp_093_20210514195743_0.630/oof.npy\")\n",
    "# oof93 = fill_dropped(oof93, drop_idx)\n",
    "# oof95 = np.load(\"../logs/exp_095_20210515002049_0.633/oof.npy\")\n",
    "# oof95 = fill_dropped(oof95, drop_idx)\n",
    "# oof96 = np.load(\"../logs/exp_096_20210515042121_0.636/oof.npy\")\n",
    "# oof96 = fill_dropped(oof96, drop_idx)\n",
    "# oof97 = np.load(\"../logs/exp_097_20210515081329_0.653/oof.npy\")\n",
    "# oof97 = fill_dropped(oof97, drop_idx)\n",
    "# oof100 = np.load(\"../logs/exp_100_20210516094037_0.620/oof.npy\")\n",
    "# oof100 = fill_dropped(oof100, drop_idx)\n",
    "# oof101 = np.load(\"../logs/exp_101_20210516134723_0.650/oof.npy\")\n",
    "# oof101 = fill_dropped(oof101, drop_idx)\n",
    "# oof102 = np.load(\"../logs/exp_102_20210516214845_0.620/oof.npy\")\n",
    "# oof102 = fill_dropped(oof102, drop_idx)\n",
    "# oof106 = np.load(\"../logs/exp_106_20210519022652_0.601/oof.npy\")\n",
    "# oof106 = fill_dropped(oof106, drop_idx)\n",
    "oof112 = np.load(\"../logs/exp_112_20210520045116_0.638/oof.npy\")\n",
    "oof112 = fill_dropped(oof112, drop_idx)\n",
    "oof114 = np.load(\"../logs/exp_114_20210520192947_0.650/oof.npy\")\n",
    "oof114 = fill_dropped(oof114, drop_idx)\n",
    "oof115 = np.load(\"../logs/exp_115_20210520232446_0.631/oof.npy\")\n",
    "oof115 = fill_dropped(oof115, drop_idx)\n",
    "oof116 = np.load(\"../logs/exp_116_20210521031557_0.641/oof.npy\")\n",
    "oof116 = fill_dropped(oof116, drop_idx)\n",
    "oof117 = np.load(\"../logs/exp_117_20210521070917_0.640/oof.npy\")\n",
    "oof117 = fill_dropped(oof117, drop_idx)\n",
    "oof118 = np.load(\"../logs/exp_118_20210521110036_0.653/oof.npy\")\n",
    "oof118 = fill_dropped(oof118, drop_idx)\n",
    "oof121 = np.load(\"../logs/exp_121_20210521215739_0.637/oof.npy\")\n",
    "oof121 = fill_dropped(oof121, drop_idx)\n",
    "\n",
    "# nocall classification\n",
    "oof59 = np.load(\"../logs/exp_059_20210505100513_0.666/oof.npy\")\n",
    "oof70 = np.load(\"../logs/exp_070_20210508193023_0.882/oof.npy\")\n",
    "oof79 = np.load(\"../logs/exp_079_20210511132329_0.874/oof.npy\")\n",
    "oof83 = np.load(\"../logs/exp_083_20210512081958_0.827/oof.npy\")\n",
    "oof99 = np.load(\"../logs/exp_099_20210515202257_0.859/oof.npy\")"
   ]
  },
  {
   "cell_type": "markdown",
   "metadata": {},
   "source": [
    "## BaseScore"
   ]
  },
  {
   "cell_type": "code",
   "execution_count": 14,
   "metadata": {},
   "outputs": [],
   "source": [
    "def post_process_v2(preds, df, c=2, q=0.99, w=1.5):\n",
    "    if \"file_id\" not in df.columns:\n",
    "        df[\"file_id\"] = df[\"audio_id\"].astype(str) + \"_\" + df[\"site\"]\n",
    "\n",
    "    post_weight_dict = {}\n",
    "    init_weight = np.ones(len(const.BIRD_CODE) - 1)\n",
    "\n",
    "    for i, file_id in enumerate(df[\"file_id\"].unique()):\n",
    "        file_id_idx = df[df[\"file_id\"] == file_id].index.values\n",
    "        sum_ = np.sum(preds[file_id_idx, :], axis=0)\n",
    "        sum_ = sum_ / np.max(sum_)\n",
    "        quantile_ = np.quantile(sum_, q)\n",
    "        \n",
    "        \n",
    "        post_weight = init_weight.copy()\n",
    "        for bc in np.argsort(sum_)[::-1]:\n",
    "            v = sum_[bc]\n",
    "            if v >= (quantile_ * c):\n",
    "                post_weight[bc] = w\n",
    "            else:\n",
    "                break\n",
    "                \n",
    "        post_weight_dict[file_id] = post_weight\n",
    "        \n",
    "    post_preds = preds.copy()\n",
    "    for idx in df.index:\n",
    "        file_id = df.loc[idx, \"file_id\"]\n",
    "        post_weight = post_weight_dict[file_id]\n",
    "        post_preds[idx, :] = preds[idx, :] * post_weight\n",
    "    \n",
    "    return post_preds"
   ]
  },
  {
   "cell_type": "code",
   "execution_count": 15,
   "metadata": {},
   "outputs": [],
   "source": [
    "c=2.0\n",
    "q=0.99\n",
    "w=3.0\n",
    "\n",
    "# post_oof4 = post_process_v2(oof4, valid_df, c, q, w)\n",
    "# post_oof10 = post_process_v2(oof10, valid_df, c, q, w)\n",
    "# post_oof11 = post_process_v2(oof11, valid_df, c, q, w)\n",
    "# post_oof12 = post_process_v2(oof12, valid_df, c, q, w)\n",
    "# post_oof20 = post_process_v2(oof20, valid_df, c, q, w)\n",
    "# post_oof28 = post_process_v2(oof28, valid_df, c, q, w)\n",
    "# post_oof44 = post_process_v2(oof44, valid_df, c, q, w)\n",
    "# post_oof45 = post_process_v2(oof45, valid_df, c, q, w)\n",
    "# post_oof51 = post_process_v2(oof51, valid_df, c, q, w)\n",
    "# post_oof61 = post_process_v2(oof61, valid_df, c, q, w)\n",
    "# post_oof74 = post_process_v2(oof74, valid_df, c, q, w)\n",
    "# post_oof76 = post_process_v2(oof76, valid_df, c, q, w)\n",
    "# post_oof77 = post_process_v2(oof77, valid_df, c, q, w)\n",
    "# post_oof78 = post_process_v2(oof78, valid_df, c, q, w)\n",
    "# post_oof81 = post_process_v2(oof81, valid_df, c, q, w)\n",
    "# post_oof87 = post_process_v2(oof87, valid_df, c, q, w)\n",
    "# post_oof91 = post_process_v2(oof91, valid_df, c, q, w)\n",
    "# post_oof92 = post_process_v2(oof92, valid_df, c, q, w)\n",
    "post_oof112 = post_process_v2(oof112, valid_df, c, q, w)\n",
    "post_oof114 = post_process_v2(oof114, valid_df, c, q, w)\n",
    "post_oof115 = post_process_v2(oof115, valid_df, c, q, w)\n",
    "post_oof116 = post_process_v2(oof116, valid_df, c, q, w)\n",
    "post_oof117 = post_process_v2(oof117, valid_df, c, q, w)\n",
    "post_oof118 = post_process_v2(oof118, valid_df, c, q, w)\n",
    "post_oof121 = post_process_v2(oof121, valid_df, c, q, w)\n",
    "\n",
    "concat_oof = np.concatenate([\n",
    "#     post_oof112[np.newaxis, :, :],\n",
    "    post_oof114[np.newaxis, :, :],\n",
    "    post_oof115[np.newaxis, :, :],\n",
    "    post_oof116[np.newaxis, :, :],\n",
    "    post_oof117[np.newaxis, :, :],\n",
    "    post_oof118[np.newaxis, :, :],\n",
    "    post_oof121[np.newaxis, :, :],\n",
    "], axis=0)\n",
    "\n",
    "oof = np.mean(concat_oof, axis=0)[use_idx, :]"
   ]
  },
  {
   "cell_type": "code",
   "execution_count": 16,
   "metadata": {},
   "outputs": [],
   "source": [
    "base_oof_labels = extract_label(oof, th=0.28)\n",
    "score_dict = set_audio_base_score(base_oof_labels, valid_df)"
   ]
  },
  {
   "cell_type": "markdown",
   "metadata": {},
   "source": [
    "## All nocall"
   ]
  },
  {
   "cell_type": "code",
   "execution_count": 17,
   "metadata": {},
   "outputs": [
    {
     "data": {
      "text/plain": [
       "0.5769607843137236"
      ]
     },
     "execution_count": 17,
     "metadata": {},
     "output_type": "execute_result"
    }
   ],
   "source": [
    "oof_labels = [\"nocall\"] * len(valid_df)\n",
    "score = row_wise_micro_averaged_f1_score(val_y_labels, oof_labels)\n",
    "score"
   ]
  },
  {
   "cell_type": "markdown",
   "metadata": {},
   "source": [
    "## Simple Average"
   ]
  },
  {
   "cell_type": "code",
   "execution_count": 144,
   "metadata": {},
   "outputs": [],
   "source": [
    "concat_oof = np.concatenate([\n",
    "    post_oof112[np.newaxis, :, :],\n",
    "    post_oof114[np.newaxis, :, :],\n",
    "    post_oof115[np.newaxis, :, :],\n",
    "    post_oof116[np.newaxis, :, :],\n",
    "    post_oof117[np.newaxis, :, :],\n",
    "    post_oof118[np.newaxis, :, :],\n",
    "#     post_oof121[np.newaxis, :, :],\n",
    "], axis=0)\n",
    "\n",
    "oof = np.mean(concat_oof, axis=0)[use_idx, :]"
   ]
  },
  {
   "cell_type": "code",
   "execution_count": 145,
   "metadata": {
    "scrolled": false
   },
   "outputs": [],
   "source": [
    "th_list = []\n",
    "scores = []\n",
    "\n",
    "best_score = 0\n",
    "besth_th = 0\n",
    "best_final_labels = None\n",
    "\n",
    "for i in range(100):\n",
    "    th = i / 100.0\n",
    "\n",
    "    oof_labels = extract_label(oof, th)\n",
    "\n",
    "    score = row_wise_micro_averaged_f1_score(val_y_labels, oof_labels)\n",
    "    \n",
    "    if best_score < score:\n",
    "        best_score  = score\n",
    "        best_th = th\n",
    "        best_final_labels = oof_labels\n",
    "\n",
    "    th_list.append(th)\n",
    "    scores.append(score)"
   ]
  },
  {
   "cell_type": "code",
   "execution_count": 146,
   "metadata": {},
   "outputs": [
    {
     "name": "stdout",
     "output_type": "stream",
     "text": [
      "best score: 0.6985 (th=0.39)\n"
     ]
    }
   ],
   "source": [
    "print(f\"best score: {best_score:.4f} (th={best_th})\")   # best score: 0.7303 (th=0.16)"
   ]
  },
  {
   "cell_type": "code",
   "execution_count": 21,
   "metadata": {
    "scrolled": true
   },
   "outputs": [
    {
     "data": {
      "image/png": "[encoded data removed]",
      "text/plain": [
       "<Figure size 432x288 with 1 Axes>"
      ]
     },
     "metadata": {
      "needs_background": "light"
     },
     "output_type": "display_data"
    }
   ],
   "source": [
    "plt.plot(th_list, scores)\n",
    "plt.grid()"
   ]
  },
  {
   "cell_type": "code",
   "execution_count": 22,
   "metadata": {},
   "outputs": [
    {
     "name": "stdout",
     "output_type": "stream",
     "text": [
      "2782: 0.3656 [-0.081]\n",
      "7843: 0.9667 [0.008]\n",
      "10534: 0.6694 [-0.006]\n",
      "11254: 0.9083 [0.019]\n",
      "18003: 0.6694 [-0.042]\n",
      "20152: 0.9000 [0.192]\n",
      "21767: 0.3806 [-0.047]\n",
      "26709: 0.5028 [0.022]\n",
      "26746: 0.6764 [0.017]\n",
      "28933: 0.4667 [-0.073]\n",
      "31928: 0.8583 [0.292]\n",
      "42907: 0.6833 [-0.058]\n",
      "44957: 0.7806 [0.044]\n",
      "50878: 0.8833 [0.200]\n",
      "51010: 0.4194 [-0.053]\n",
      "54955: 0.8333 [-0.008]\n",
      "57610: 0.9139 [0.033]\n"
     ]
    }
   ],
   "source": [
    "diff_scores0 = get_audio_score(best_final_labels, valid_df, score_dict)\n",
    "all_diff_scores[\"avg\"] = diff_scores0"
   ]
  },
  {
   "cell_type": "markdown",
   "metadata": {},
   "source": [
    " "
   ]
  },
  {
   "cell_type": "markdown",
   "metadata": {},
   "source": [
    "## Simple Average + nocall classification"
   ]
  },
  {
   "cell_type": "code",
   "execution_count": 27,
   "metadata": {},
   "outputs": [],
   "source": [
    "concat_oof = np.concatenate([\n",
    "#     post_oof112[np.newaxis, :, :],\n",
    "    post_oof114[np.newaxis, :, :],\n",
    "    post_oof115[np.newaxis, :, :],\n",
    "    post_oof116[np.newaxis, :, :],\n",
    "    post_oof117[np.newaxis, :, :],\n",
    "    post_oof118[np.newaxis, :, :],\n",
    "    post_oof121[np.newaxis, :, :],\n",
    "], axis=0)\n",
    "\n",
    "oof = np.mean(concat_oof, axis=0)[use_idx, :]\n",
    "# nc_oof = oof79 * 0.5 + oof83 * 0.5\n",
    "nc_oof = oof99"
   ]
  },
  {
   "cell_type": "code",
   "execution_count": 28,
   "metadata": {},
   "outputs": [],
   "source": [
    "for idx in range(len(oof)):\n",
    "    nocall_p = 1 - nc_oof[idx]\n",
    "    if nocall_p <= 0.1:\n",
    "        col1_idx = np.argsort(oof[idx, :])[-1:]\n",
    "        oof[idx, col1_idx] *= 5"
   ]
  },
  {
   "cell_type": "code",
   "execution_count": 29,
   "metadata": {},
   "outputs": [],
   "source": [
    "th_list = []\n",
    "scores = []\n",
    "\n",
    "best_score = 0\n",
    "besth_th = 0\n",
    "best_final_labels = None\n",
    "\n",
    "for i in range(300):\n",
    "    th = i / 100.0\n",
    "\n",
    "    oof_labels = extract_label(oof, th)\n",
    "\n",
    "    score = row_wise_micro_averaged_f1_score(val_y_labels, oof_labels)\n",
    "    \n",
    "    if best_score < score:\n",
    "        best_score  = score\n",
    "        best_th = th\n",
    "        best_final_labels = oof_labels\n",
    "\n",
    "    th_list.append(th)\n",
    "    scores.append(score)"
   ]
  },
  {
   "cell_type": "code",
   "execution_count": 30,
   "metadata": {},
   "outputs": [
    {
     "name": "stdout",
     "output_type": "stream",
     "text": [
      "best score: 0.7078 (th=1.9)\n"
     ]
    }
   ],
   "source": [
    "print(f\"best score: {best_score:.4f} (th={best_th})\")   # best score:0.7408 (th=0.33)"
   ]
  },
  {
   "cell_type": "code",
   "execution_count": 31,
   "metadata": {
    "scrolled": true
   },
   "outputs": [
    {
     "data": {
      "image/png": "[encoded data removed]",
      "text/plain": [
       "<Figure size 432x288 with 1 Axes>"
      ]
     },
     "metadata": {
      "needs_background": "light"
     },
     "output_type": "display_data"
    }
   ],
   "source": [
    "plt.plot(th_list, scores)\n",
    "plt.grid()"
   ]
  },
  {
   "cell_type": "code",
   "execution_count": 32,
   "metadata": {},
   "outputs": [
    {
     "name": "stdout",
     "output_type": "stream",
     "text": [
      "2782: 0.4086 [-0.038]\n",
      "7843: 0.9667 [0.008]\n",
      "10534: 0.6778 [0.003]\n",
      "11254: 0.9000 [0.011]\n",
      "18003: 0.7000 [-0.011]\n",
      "20152: 0.9667 [0.258]\n",
      "21767: 0.4222 [-0.006]\n",
      "26709: 0.5250 [0.044]\n",
      "26746: 0.6611 [0.001]\n",
      "28933: 0.5042 [-0.036]\n",
      "31928: 0.8000 [0.233]\n",
      "42907: 0.7083 [-0.033]\n",
      "44957: 0.7444 [0.008]\n",
      "50878: 0.8167 [0.133]\n",
      "51010: 0.4750 [0.003]\n",
      "54955: 0.8417 [0.000]\n",
      "57610: 0.9139 [0.033]\n"
     ]
    }
   ],
   "source": [
    "diff_scores1 = get_audio_score(best_final_labels, valid_df, score_dict)\n",
    "all_diff_scores[\"avg_nc\"] = diff_scores1"
   ]
  },
  {
   "cell_type": "markdown",
   "metadata": {},
   "source": [
    " "
   ]
  },
  {
   "cell_type": "markdown",
   "metadata": {},
   "source": [
    " "
   ]
  },
  {
   "cell_type": "markdown",
   "metadata": {},
   "source": [
    "## Voting"
   ]
  },
  {
   "cell_type": "code",
   "execution_count": 35,
   "metadata": {},
   "outputs": [],
   "source": [
    "def voting(pred_labels_list, vote_lim):\n",
    "    final_oof_labels = []\n",
    "    \n",
    "    for idx in range(len(use_idx)):\n",
    "        birds = []\n",
    "\n",
    "        for labels in oof_labels_list:\n",
    "            birds.extend(labels[idx].split(\" \"))\n",
    "\n",
    "        birds = [x for x in birds if \"nocall\" != x and \"\" != x]\n",
    "        count_birds = Counter(birds)\n",
    "\n",
    "        final_birds = []\n",
    "        for key, value in count_birds.items():\n",
    "            if value >= vote_lim:\n",
    "                final_birds.append(key)\n",
    "\n",
    "        if len(final_birds) == 0:\n",
    "            final_birds.append(\"nocall\")\n",
    "\n",
    "        final_oof_labels.append(\" \".join(final_birds))\n",
    "\n",
    "    return final_oof_labels"
   ]
  },
  {
   "cell_type": "code",
   "execution_count": 36,
   "metadata": {
    "scrolled": false
   },
   "outputs": [
    {
     "data": {
      "application/vnd.jupyter.widget-view+json": {
       "model_id": "0df6092be6f14900bbd7bb70ec8712a3",
       "version_major": 2,
       "version_minor": 0
      },
      "text/plain": [
       "HBox(children=(IntProgress(value=0), HTML(value='')))"
      ]
     },
     "metadata": {},
     "output_type": "display_data"
    },
    {
     "name": "stdout",
     "output_type": "stream",
     "text": [
      "\n"
     ]
    },
    {
     "data": {
      "application/vnd.jupyter.widget-view+json": {
       "model_id": "90d3be709a1442a0aba15a419154a9cf",
       "version_major": 2,
       "version_minor": 0
      },
      "text/plain": [
       "HBox(children=(IntProgress(value=0), HTML(value='')))"
      ]
     },
     "metadata": {},
     "output_type": "display_data"
    },
    {
     "name": "stdout",
     "output_type": "stream",
     "text": [
      "\n"
     ]
    },
    {
     "data": {
      "application/vnd.jupyter.widget-view+json": {
       "model_id": "2152a91d441b4230ac3a733c136488f0",
       "version_major": 2,
       "version_minor": 0
      },
      "text/plain": [
       "HBox(children=(IntProgress(value=0), HTML(value='')))"
      ]
     },
     "metadata": {},
     "output_type": "display_data"
    },
    {
     "name": "stdout",
     "output_type": "stream",
     "text": [
      "\n"
     ]
    },
    {
     "data": {
      "application/vnd.jupyter.widget-view+json": {
       "model_id": "4b3c2aa4618043e3909953f927ff4266",
       "version_major": 2,
       "version_minor": 0
      },
      "text/plain": [
       "HBox(children=(IntProgress(value=0), HTML(value='')))"
      ]
     },
     "metadata": {},
     "output_type": "display_data"
    },
    {
     "name": "stdout",
     "output_type": "stream",
     "text": [
      "\n"
     ]
    },
    {
     "data": {
      "application/vnd.jupyter.widget-view+json": {
       "model_id": "9930e723e2f64c79926cd5f8752bc033",
       "version_major": 2,
       "version_minor": 0
      },
      "text/plain": [
       "HBox(children=(IntProgress(value=0), HTML(value='')))"
      ]
     },
     "metadata": {},
     "output_type": "display_data"
    },
    {
     "name": "stdout",
     "output_type": "stream",
     "text": [
      "\n"
     ]
    },
    {
     "data": {
      "application/vnd.jupyter.widget-view+json": {
       "model_id": "90dfb773955b46259af610f1c425b647",
       "version_major": 2,
       "version_minor": 0
      },
      "text/plain": [
       "HBox(children=(IntProgress(value=0), HTML(value='')))"
      ]
     },
     "metadata": {},
     "output_type": "display_data"
    },
    {
     "name": "stdout",
     "output_type": "stream",
     "text": [
      "\n"
     ]
    }
   ],
   "source": [
    "th_list = []\n",
    "scores = []\n",
    "\n",
    "best_score = 0\n",
    "besth_th = 0\n",
    "best_vote_lim = 0\n",
    "best_final_labels = None\n",
    "\n",
    "# for vote_lim in range(1, len(oof_labels_list)):\n",
    "for vote_lim in [1, 2, 3, 4, 5, 6]:\n",
    "    for i in tqdm(range(100)):\n",
    "        th = i / 100.0\n",
    "        \n",
    "        oof112_labels = extract_label(oof112[use_idx, :], th)\n",
    "        oof114_labels = extract_label(oof114[use_idx, :], th)\n",
    "        oof115_labels = extract_label(oof115[use_idx, :], th)\n",
    "        oof116_labels = extract_label(oof116[use_idx, :], th)\n",
    "        oof117_labels = extract_label(oof117[use_idx, :], th)\n",
    "        oof118_labels = extract_label(oof118[use_idx, :], th)\n",
    "        oof121_labels = extract_label(oof121[use_idx, :], th)\n",
    "\n",
    "        oof_labels_list = [\n",
    "#             oof112_labels,\n",
    "            oof114_labels,\n",
    "            oof115_labels,\n",
    "            oof116_labels,\n",
    "            oof117_labels,\n",
    "            oof118_labels,\n",
    "            oof121_labels,\n",
    "        ]\n",
    "\n",
    "        final_oof_labels = voting(oof_labels_list, vote_lim)\n",
    "\n",
    "        score = row_wise_micro_averaged_f1_score(val_y_labels, final_oof_labels)\n",
    "            \n",
    "        if best_score < score:\n",
    "            best_score = score\n",
    "            best_th = th\n",
    "            best_vote_lim = vote_lim\n",
    "            best_final_labels = final_oof_labels\n",
    "                \n",
    "        th_list.append(th)\n",
    "        scores.append(score)"
   ]
  },
  {
   "cell_type": "code",
   "execution_count": 37,
   "metadata": {},
   "outputs": [
    {
     "data": {
      "text/plain": [
       "0.7011601307189518"
      ]
     },
     "execution_count": 37,
     "metadata": {},
     "output_type": "execute_result"
    }
   ],
   "source": [
    "best_score   # 0.7430"
   ]
  },
  {
   "cell_type": "code",
   "execution_count": 38,
   "metadata": {},
   "outputs": [
    {
     "data": {
      "text/plain": [
       "0.13"
      ]
     },
     "execution_count": 38,
     "metadata": {},
     "output_type": "execute_result"
    }
   ],
   "source": [
    "best_th"
   ]
  },
  {
   "cell_type": "code",
   "execution_count": 39,
   "metadata": {},
   "outputs": [
    {
     "data": {
      "text/plain": [
       "4"
      ]
     },
     "execution_count": 39,
     "metadata": {},
     "output_type": "execute_result"
    }
   ],
   "source": [
    "best_vote_lim"
   ]
  },
  {
   "cell_type": "code",
   "execution_count": 40,
   "metadata": {
    "scrolled": true
   },
   "outputs": [
    {
     "data": {
      "text/plain": [
       "[<matplotlib.lines.Line2D at 0x7fb266133fd0>]"
      ]
     },
     "execution_count": 40,
     "metadata": {},
     "output_type": "execute_result"
    },
    {
     "data": {
      "image/png": "[encoded data removed]",
      "text/plain": [
       "<Figure size 1152x360 with 1 Axes>"
      ]
     },
     "metadata": {
      "needs_background": "light"
     },
     "output_type": "display_data"
    }
   ],
   "source": [
    "plt.figure(figsize=(16, 5))\n",
    "plt.plot(scores)"
   ]
  },
  {
   "cell_type": "code",
   "execution_count": 41,
   "metadata": {},
   "outputs": [
    {
     "name": "stdout",
     "output_type": "stream",
     "text": [
      "2782: 0.2850 [-0.161]\n",
      "7843: 0.9750 [0.017]\n",
      "10534: 0.6806 [0.006]\n",
      "11254: 0.9000 [0.011]\n",
      "18003: 0.6528 [-0.058]\n",
      "20152: 0.9417 [0.233]\n",
      "21767: 0.3278 [-0.100]\n",
      "26709: 0.5194 [0.039]\n",
      "26746: 0.6528 [-0.007]\n",
      "28933: 0.4236 [-0.116]\n",
      "31928: 0.9917 [0.425]\n",
      "42907: 0.7917 [0.050]\n",
      "44957: 0.7389 [0.003]\n",
      "50878: 0.8083 [0.125]\n",
      "51010: 0.4667 [-0.006]\n",
      "54955: 0.8500 [0.008]\n",
      "57610: 0.9139 [0.033]\n"
     ]
    }
   ],
   "source": [
    "diff_scores2 = get_audio_score(best_final_labels, valid_df, score_dict)\n",
    "all_diff_scores[\"voting\"] = diff_scores2"
   ]
  },
  {
   "cell_type": "markdown",
   "metadata": {},
   "source": [
    " "
   ]
  },
  {
   "cell_type": "markdown",
   "metadata": {},
   "source": [
    " "
   ]
  },
  {
   "cell_type": "markdown",
   "metadata": {},
   "source": [
    "## Simple Average > PostProcess_v12"
   ]
  },
  {
   "cell_type": "code",
   "execution_count": 42,
   "metadata": {},
   "outputs": [],
   "source": [
    "def post_process_site_12(preds, threshold=0.5, maxpreds=3):\n",
    "    preds = preds * (preds >= threshold)   # remove preds < threshold\n",
    "    \n",
    "#     next_preds = np.concatenate([preds[1:], preds[-1:]])  # pred corresponding to next window\n",
    "#     prev_preds = np.concatenate([preds[:1], preds[:-1]])  # pred corresponding to previous window\n",
    "\n",
    "    next_preds = np.concatenate([preds[1:], np.zeros((1, preds.shape[-1]))])  # pred corresponding to next window\n",
    "    prev_preds = np.concatenate([np.zeros((1, preds.shape[-1])), preds[:-1]])  # pred corresponding to previous window\n",
    "    \n",
    "    score = preds + next_preds + prev_preds  # Aggregating\n",
    "    \n",
    "    n_birds = (score >= threshold - 1e-5).sum(-1)   # threshold ?\n",
    "    n_birds = np.clip(n_birds, 0, maxpreds)  # keep at most maxpreds birds\n",
    "    \n",
    "    labels = [np.argsort(- score[i])[:n_birds[i]].tolist() for i in range(len(preds))]\n",
    "#     class_labels = [\" \".join([CLASSES[l] for l in label]) for label in labels]\n",
    "    class_labels = [\" \".join([const.INV_BIRD_CODE[l] for l in label]) if len(label) > 0 else \"nocall\" for label in labels]\n",
    "    \n",
    "    return class_labels"
   ]
  },
  {
   "cell_type": "code",
   "execution_count": 43,
   "metadata": {},
   "outputs": [],
   "source": [
    "concat_oof = np.concatenate([\n",
    "#     post_oof112[np.newaxis, :, :],\n",
    "    post_oof114[np.newaxis, :, :],\n",
    "    post_oof115[np.newaxis, :, :],\n",
    "    post_oof116[np.newaxis, :, :],\n",
    "    post_oof117[np.newaxis, :, :],\n",
    "    post_oof118[np.newaxis, :, :],\n",
    "    post_oof121[np.newaxis, :, :],\n",
    "], axis=0)\n",
    "\n",
    "oof = np.mean(concat_oof, axis=0)[use_idx, :]"
   ]
  },
  {
   "cell_type": "code",
   "execution_count": 44,
   "metadata": {},
   "outputs": [],
   "source": [
    "th_list = []\n",
    "scores = []\n",
    "\n",
    "best_score = 0\n",
    "besth_th = 0\n",
    "best_final_labels = None\n",
    "\n",
    "for i in range(100):\n",
    "    th = i / 100.0\n",
    "    \n",
    "    oof_labels = post_process_site_12(oof, threshold=th, maxpreds=3)\n",
    "#     oof_labels = extract_label(oof, th)\n",
    "\n",
    "    score = row_wise_micro_averaged_f1_score(val_y_labels, oof_labels)\n",
    "    \n",
    "    if best_score < score:\n",
    "        best_score  = score\n",
    "        best_th = th\n",
    "        best_final_labels = oof_labels\n",
    "\n",
    "    th_list.append(th)\n",
    "    scores.append(score)"
   ]
  },
  {
   "cell_type": "code",
   "execution_count": 45,
   "metadata": {},
   "outputs": [
    {
     "name": "stdout",
     "output_type": "stream",
     "text": [
      "best score: 0.6914 (th=0.91)\n"
     ]
    }
   ],
   "source": [
    "print(f\"best score: {best_score:.4f} (th={best_th})\")   # best score: 0.7082 (th=0.27)"
   ]
  },
  {
   "cell_type": "code",
   "execution_count": 46,
   "metadata": {
    "scrolled": true
   },
   "outputs": [
    {
     "data": {
      "image/png": "[encoded data removed]",
      "text/plain": [
       "<Figure size 432x288 with 1 Axes>"
      ]
     },
     "metadata": {
      "needs_background": "light"
     },
     "output_type": "display_data"
    }
   ],
   "source": [
    "plt.plot(th_list, scores)\n",
    "plt.grid()"
   ]
  },
  {
   "cell_type": "code",
   "execution_count": 47,
   "metadata": {},
   "outputs": [
    {
     "name": "stdout",
     "output_type": "stream",
     "text": [
      "2782: 0.3822 [-0.064]\n",
      "7843: 0.9667 [0.008]\n",
      "10534: 0.5556 [-0.119]\n",
      "11254: 0.8750 [-0.014]\n",
      "18003: 0.7028 [-0.008]\n",
      "20152: 0.9083 [0.200]\n",
      "21767: 0.3750 [-0.053]\n",
      "26709: 0.5139 [0.033]\n",
      "26746: 0.6806 [0.021]\n",
      "28933: 0.5042 [-0.036]\n",
      "31928: 1.0000 [0.433]\n",
      "42907: 0.6250 [-0.117]\n",
      "44957: 0.7667 [0.031]\n",
      "50878: 0.9250 [0.242]\n",
      "51010: 0.3000 [-0.172]\n",
      "54955: 0.8250 [-0.017]\n",
      "57610: 0.8472 [-0.033]\n"
     ]
    }
   ],
   "source": [
    "diff_scores3 = get_audio_score(best_final_labels, valid_df, score_dict)\n",
    "all_diff_scores[\"avg_postv12\"] = diff_scores3"
   ]
  },
  {
   "cell_type": "markdown",
   "metadata": {},
   "source": [
    " "
   ]
  },
  {
   "cell_type": "markdown",
   "metadata": {},
   "source": [
    "## PostProcess_v2 -> Simple Avg"
   ]
  },
  {
   "cell_type": "code",
   "execution_count": 48,
   "metadata": {},
   "outputs": [],
   "source": [
    "def post_process_v2(preds, df, c=2, q=0.99, w=1.5):\n",
    "    if \"file_id\" not in df.columns:\n",
    "        df[\"file_id\"] = df[\"audio_id\"].astype(str) + \"_\" + df[\"site\"]\n",
    "\n",
    "    post_weight_dict = {}\n",
    "    init_weight = np.ones(len(const.BIRD_CODE) - 1)\n",
    "\n",
    "    for i, file_id in enumerate(df[\"file_id\"].unique()):\n",
    "        file_id_idx = df[df[\"file_id\"] == file_id].index.values\n",
    "        sum_ = np.sum(preds[file_id_idx, :], axis=0)\n",
    "        sum_ = sum_ / np.max(sum_)\n",
    "        quantile_ = np.quantile(sum_, q)\n",
    "        \n",
    "        \n",
    "        post_weight = init_weight.copy()\n",
    "        for bc in np.argsort(sum_)[::-1]:\n",
    "            v = sum_[bc]\n",
    "            if v >= (quantile_ * c):\n",
    "                post_weight[bc] = w\n",
    "            else:\n",
    "                break\n",
    "                \n",
    "        post_weight_dict[file_id] = post_weight\n",
    "        \n",
    "    post_preds = preds.copy()\n",
    "    for idx in df.index:\n",
    "        file_id = df.loc[idx, \"file_id\"]\n",
    "        post_weight = post_weight_dict[file_id]\n",
    "        post_preds[idx, :] = preds[idx, :] * post_weight\n",
    "    \n",
    "    return post_preds"
   ]
  },
  {
   "cell_type": "code",
   "execution_count": 64,
   "metadata": {},
   "outputs": [],
   "source": [
    "c=2.0\n",
    "q=0.99\n",
    "w=2.0\n",
    "\n",
    "post_oof112 = post_process_v2(oof112, valid_df, c, q, w)\n",
    "post_oof114 = post_process_v2(oof114, valid_df, c, q, w)\n",
    "post_oof115 = post_process_v2(oof115, valid_df, c, q, w)\n",
    "post_oof116 = post_process_v2(oof116, valid_df, c, q, w)\n",
    "post_oof117 = post_process_v2(oof117, valid_df, c, q, w)\n",
    "post_oof118 = post_process_v2(oof118, valid_df, c, q, w)\n",
    "post_oof121 = post_process_v2(oof121, valid_df, c, q, w)\n",
    "\n",
    "concat_oof = np.concatenate([\n",
    "#     post_oof112[np.newaxis, :, :],\n",
    "    post_oof114[np.newaxis, :, :],\n",
    "    post_oof115[np.newaxis, :, :],\n",
    "    post_oof116[np.newaxis, :, :],\n",
    "    post_oof117[np.newaxis, :, :],\n",
    "    post_oof118[np.newaxis, :, :],\n",
    "    post_oof121[np.newaxis, :, :],\n",
    "], axis=0)\n",
    "\n",
    "oof = np.mean(concat_oof, axis=0)[use_idx, :]"
   ]
  },
  {
   "cell_type": "code",
   "execution_count": 65,
   "metadata": {},
   "outputs": [],
   "source": [
    "th_list = []\n",
    "scores = []\n",
    "\n",
    "best_score = 0\n",
    "besth_th = 0\n",
    "best_final_labels = None\n",
    "\n",
    "for i in range(100):\n",
    "    th = i / 100.0\n",
    "\n",
    "    oof_labels = extract_label(oof, th)\n",
    "\n",
    "    score = row_wise_micro_averaged_f1_score(val_y_labels, oof_labels)\n",
    "    \n",
    "    if best_score < score:\n",
    "        best_score  = score\n",
    "        best_th = th\n",
    "        best_final_labels = oof_labels\n",
    "\n",
    "    th_list.append(th)\n",
    "    scores.append(score)"
   ]
  },
  {
   "cell_type": "code",
   "execution_count": 66,
   "metadata": {},
   "outputs": [
    {
     "name": "stdout",
     "output_type": "stream",
     "text": [
      "best score: 0.7034 (th=0.37)\n"
     ]
    }
   ],
   "source": [
    "print(f\"best score: {best_score:.4f} (th={best_th})\")   # 0.7333 (th=0.28)"
   ]
  },
  {
   "cell_type": "code",
   "execution_count": 67,
   "metadata": {},
   "outputs": [
    {
     "data": {
      "image/png": "[encoded data removed]",
      "text/plain": [
       "<Figure size 432x288 with 1 Axes>"
      ]
     },
     "metadata": {
      "needs_background": "light"
     },
     "output_type": "display_data"
    }
   ],
   "source": [
    "plt.plot(th_list, scores)\n",
    "plt.grid()"
   ]
  },
  {
   "cell_type": "code",
   "execution_count": 68,
   "metadata": {},
   "outputs": [
    {
     "name": "stdout",
     "output_type": "stream",
     "text": [
      "2782: 0.3656 [-0.081]\n",
      "7843: 0.9667 [0.008]\n",
      "10534: 0.6611 [-0.014]\n",
      "11254: 0.9083 [0.019]\n",
      "18003: 0.6611 [-0.050]\n",
      "20152: 0.9083 [0.200]\n",
      "21767: 0.3583 [-0.069]\n",
      "26709: 0.5111 [0.031]\n",
      "26746: 0.6778 [0.018]\n",
      "28933: 0.4625 [-0.077]\n",
      "31928: 0.9000 [0.333]\n",
      "42907: 0.7333 [-0.008]\n",
      "44957: 0.7639 [0.028]\n",
      "50878: 0.8500 [0.167]\n",
      "51010: 0.4750 [0.003]\n",
      "54955: 0.8417 [0.000]\n",
      "57610: 0.9139 [0.033]\n"
     ]
    }
   ],
   "source": [
    "diff_scores4 = get_audio_score(best_final_labels, valid_df, score_dict)\n",
    "all_diff_scores[\"cqw_avg\"] = diff_scores4"
   ]
  },
  {
   "cell_type": "markdown",
   "metadata": {},
   "source": [
    " "
   ]
  },
  {
   "cell_type": "markdown",
   "metadata": {},
   "source": [
    "## PostProcess_v3 -> Simple Avg"
   ]
  },
  {
   "cell_type": "code",
   "execution_count": 69,
   "metadata": {},
   "outputs": [],
   "source": [
    "def post_process_v3(preds, df):\n",
    "    if \"file_id\" not in df.columns:\n",
    "        df[\"file_id\"] = df[\"audio_id\"].astype(str) + \"_\" + df[\"site\"]\n",
    "    \n",
    "    modified_preds = np.zeros_like(preds)\n",
    "    for i, file_id in enumerate(df[\"file_id\"].unique()):\n",
    "        file_id_idx = df[df[\"file_id\"] == file_id].index.values\n",
    "        mean_ = np.mean(preds[file_id_idx, :], axis=0)\n",
    "        \n",
    "        if mean_.std() >= 5e-3:\n",
    "            weight = (mean_ - mean_.mean()) / mean_.std()\n",
    "            modified_preds[file_id_idx, :] = preds[file_id_idx, :] * weight\n",
    "        else:\n",
    "            modified_preds[file_id_idx, :] = preds[file_id_idx, :]\n",
    "    \n",
    "    return modified_preds"
   ]
  },
  {
   "cell_type": "code",
   "execution_count": 71,
   "metadata": {},
   "outputs": [],
   "source": [
    "post_oof112 = post_process_v3(oof112, valid_df)\n",
    "post_oof114 = post_process_v3(oof114, valid_df)\n",
    "post_oof115 = post_process_v3(oof115, valid_df)\n",
    "post_oof116 = post_process_v3(oof116, valid_df)\n",
    "post_oof117 = post_process_v3(oof117, valid_df)\n",
    "post_oof118 = post_process_v3(oof118, valid_df)\n",
    "post_oof121 = post_process_v3(oof121, valid_df)\n",
    "\n",
    "concat_oof = np.concatenate([\n",
    "#     post_oof112[np.newaxis, :, :],\n",
    "    post_oof114[np.newaxis, :, :],\n",
    "    post_oof115[np.newaxis, :, :],\n",
    "    post_oof116[np.newaxis, :, :],\n",
    "    post_oof117[np.newaxis, :, :],\n",
    "    post_oof118[np.newaxis, :, :],\n",
    "    post_oof121[np.newaxis, :, :],\n",
    "], axis=0)\n",
    "\n",
    "oof = np.mean(concat_oof, axis=0)[use_idx, :]"
   ]
  },
  {
   "cell_type": "code",
   "execution_count": 72,
   "metadata": {},
   "outputs": [],
   "source": [
    "th_list = []\n",
    "scores = []\n",
    "\n",
    "best_score = 0\n",
    "besth_th = 0\n",
    "best_final_labels = None\n",
    "\n",
    "for i in range(200):\n",
    "    th = i / 100.0\n",
    "\n",
    "    oof_labels = extract_label(oof, th)\n",
    "\n",
    "    score = row_wise_micro_averaged_f1_score(val_y_labels, oof_labels)\n",
    "    \n",
    "    if best_score < score:\n",
    "        best_score  = score\n",
    "        best_th = th\n",
    "        best_final_labels = oof_labels\n",
    "\n",
    "    th_list.append(th)\n",
    "    scores.append(score)"
   ]
  },
  {
   "cell_type": "code",
   "execution_count": 73,
   "metadata": {},
   "outputs": [
    {
     "name": "stdout",
     "output_type": "stream",
     "text": [
      "best score: 0.6683 (th=1.51)\n"
     ]
    }
   ],
   "source": [
    "print(f\"best score: {best_score:.4f} (th={best_th})\")   # 0.7502 (th=0.44)"
   ]
  },
  {
   "cell_type": "code",
   "execution_count": 74,
   "metadata": {},
   "outputs": [
    {
     "data": {
      "image/png": "[encoded data removed]",
      "text/plain": [
       "<Figure size 432x288 with 1 Axes>"
      ]
     },
     "metadata": {
      "needs_background": "light"
     },
     "output_type": "display_data"
    }
   ],
   "source": [
    "plt.plot(th_list, scores)\n",
    "plt.grid()"
   ]
  },
  {
   "cell_type": "code",
   "execution_count": 75,
   "metadata": {},
   "outputs": [
    {
     "name": "stdout",
     "output_type": "stream",
     "text": [
      "2782: 0.4183 [-0.028]\n",
      "7843: 0.9667 [0.008]\n",
      "10534: 0.6861 [0.011]\n",
      "11254: 0.8750 [-0.014]\n",
      "18003: 0.7583 [0.047]\n",
      "20152: 0.8500 [0.142]\n",
      "21767: 0.4000 [-0.028]\n",
      "26709: 0.5194 [0.039]\n",
      "26746: 0.6222 [-0.037]\n",
      "28933: 0.4956 [-0.044]\n",
      "31928: 0.5833 [0.017]\n",
      "42907: 0.6250 [-0.117]\n",
      "44957: 0.7444 [0.008]\n",
      "50878: 0.8333 [0.150]\n",
      "51010: 0.2333 [-0.239]\n",
      "54955: 0.8333 [-0.008]\n",
      "57610: 0.9167 [0.036]\n"
     ]
    }
   ],
   "source": [
    "diff_scores5 = get_audio_score(best_final_labels, valid_df, score_dict)\n",
    "all_diff_scores[\"std_avg\"] = diff_scores5"
   ]
  },
  {
   "cell_type": "markdown",
   "metadata": {},
   "source": [
    " "
   ]
  },
  {
   "cell_type": "markdown",
   "metadata": {},
   "source": [
    " "
   ]
  },
  {
   "cell_type": "markdown",
   "metadata": {},
   "source": [
    "## PostProcess v4 -> Simple Avg\n",
    "それぞれの鳥の最短距離が近いほど値が大きくなるweightを作成して、oof * weightを計算"
   ]
  },
  {
   "cell_type": "code",
   "execution_count": 76,
   "metadata": {},
   "outputs": [],
   "source": [
    "def post_process_v4(preds, df):\n",
    "    site_names = list(const.POS_DICT.keys())\n",
    "    \n",
    "    distance_array = np.load(\"../data/processed/valid_distance_array_from_min_position.npy\")\n",
    "    weight_array1 = np.where(distance_array <= 1, 2, 0)\n",
    "    weight_array2 = np.where(distance_array <= 3, 1, 0)\n",
    "    weight_array3 = np.where(distance_array <= 5, 0.5, 0)\n",
    "    weight_array = weight_array1 + weight_array2 + weight_array3\n",
    "    \n",
    "    post_preds = np.zeros_like(preds)\n",
    "    for idx in df.index:\n",
    "        site = df.loc[idx, \"site\"]\n",
    "        site_idx = site_names.index(site)\n",
    "        \n",
    "        post_preds[idx, :] = preds[idx, :] * weight_array[site_idx, :]\n",
    "    \n",
    "    return post_preds"
   ]
  },
  {
   "cell_type": "code",
   "execution_count": 77,
   "metadata": {},
   "outputs": [],
   "source": [
    "post_oof112 = post_process_v4(oof112, valid_df)\n",
    "post_oof114 = post_process_v4(oof114, valid_df)\n",
    "post_oof115 = post_process_v4(oof115, valid_df)\n",
    "post_oof116 = post_process_v4(oof116, valid_df)\n",
    "post_oof117 = post_process_v4(oof117, valid_df)\n",
    "post_oof118 = post_process_v4(oof118, valid_df)\n",
    "post_oof121 = post_process_v4(oof121, valid_df)\n",
    "\n",
    "concat_oof = np.concatenate([\n",
    "    post_oof112[np.newaxis, :, :],\n",
    "    post_oof114[np.newaxis, :, :],\n",
    "    post_oof115[np.newaxis, :, :],\n",
    "    post_oof116[np.newaxis, :, :],\n",
    "    post_oof117[np.newaxis, :, :],\n",
    "    post_oof118[np.newaxis, :, :],\n",
    "], axis=0)\n",
    "\n",
    "oof = np.mean(concat_oof, axis=0)[use_idx, :]"
   ]
  },
  {
   "cell_type": "code",
   "execution_count": 78,
   "metadata": {},
   "outputs": [],
   "source": [
    "th_list = []\n",
    "scores = []\n",
    "\n",
    "best_score = 0\n",
    "besth_th = 0\n",
    "best_final_labels = None\n",
    "\n",
    "for i in range(200):\n",
    "    th = i / 100.0\n",
    "\n",
    "    oof_labels = extract_label(oof, th)\n",
    "\n",
    "    score = row_wise_micro_averaged_f1_score(val_y_labels, oof_labels)\n",
    "    \n",
    "    if best_score < score:\n",
    "        best_score  = score\n",
    "        best_th = th\n",
    "        best_final_labels = oof_labels\n",
    "\n",
    "    th_list.append(th)\n",
    "    scores.append(score)"
   ]
  },
  {
   "cell_type": "code",
   "execution_count": 79,
   "metadata": {},
   "outputs": [
    {
     "name": "stdout",
     "output_type": "stream",
     "text": [
      "best score: 0.6873 (th=0.65)\n"
     ]
    }
   ],
   "source": [
    "print(f\"best score: {best_score:.4f} (th={best_th})\")   # 0.7152 (th=0.79)"
   ]
  },
  {
   "cell_type": "code",
   "execution_count": 80,
   "metadata": {},
   "outputs": [
    {
     "data": {
      "image/png": "[encoded data removed]",
      "text/plain": [
       "<Figure size 432x288 with 1 Axes>"
      ]
     },
     "metadata": {
      "needs_background": "light"
     },
     "output_type": "display_data"
    }
   ],
   "source": [
    "plt.plot(th_list, scores)\n",
    "plt.grid()"
   ]
  },
  {
   "cell_type": "code",
   "execution_count": 81,
   "metadata": {},
   "outputs": [
    {
     "name": "stdout",
     "output_type": "stream",
     "text": [
      "2782: 0.3600 [-0.086]\n",
      "7843: 0.9750 [0.017]\n",
      "10534: 0.6500 [-0.025]\n",
      "11254: 0.8778 [-0.011]\n",
      "18003: 0.6528 [-0.058]\n",
      "20152: 0.9333 [0.225]\n",
      "21767: 0.3639 [-0.064]\n",
      "26709: 0.5306 [0.050]\n",
      "26746: 0.7028 [0.043]\n",
      "28933: 0.4903 [-0.050]\n",
      "31928: 0.9917 [0.425]\n",
      "42907: 0.6250 [-0.117]\n",
      "44957: 0.7556 [0.019]\n",
      "50878: 0.9333 [0.250]\n",
      "51010: 0.2333 [-0.239]\n",
      "54955: 0.8333 [-0.008]\n",
      "57610: 0.7750 [-0.106]\n"
     ]
    }
   ],
   "source": [
    "diff_scores6 = get_audio_score(best_final_labels, valid_df, score_dict)\n",
    "all_diff_scores[\"distance_avg\"] = diff_scores6"
   ]
  },
  {
   "cell_type": "markdown",
   "metadata": {},
   "source": [
    " "
   ]
  },
  {
   "cell_type": "markdown",
   "metadata": {},
   "source": [
    " "
   ]
  },
  {
   "cell_type": "markdown",
   "metadata": {},
   "source": [
    "## PostProcess v4 -> Simple Avg + nocall classification\n",
    "それぞれの鳥の最短距離が近いほど値が大きくなるweightを作成して、oof * weightを計算"
   ]
  },
  {
   "cell_type": "code",
   "execution_count": 82,
   "metadata": {},
   "outputs": [],
   "source": [
    "def post_process_v4(preds, df):\n",
    "    site_names = list(const.POS_DICT.keys())\n",
    "    \n",
    "    distance_array = np.load(\"../data/processed/valid_distance_array_from_min_position.npy\")\n",
    "    weight_array1 = np.where(distance_array <= 1, 2, 0)\n",
    "    weight_array2 = np.where(distance_array <= 3, 1, 0)\n",
    "    weight_array3 = np.where(distance_array <= 5, 0.5, 0)\n",
    "    weight_array = weight_array1 + weight_array2 + weight_array3\n",
    "    \n",
    "    post_preds = np.zeros_like(preds)\n",
    "    for idx in df.index:\n",
    "        site = df.loc[idx, \"site\"]\n",
    "        site_idx = site_names.index(site)\n",
    "        \n",
    "        post_preds[idx, :] = preds[idx, :] * weight_array[site_idx, :]\n",
    "    \n",
    "    return post_preds"
   ]
  },
  {
   "cell_type": "code",
   "execution_count": 84,
   "metadata": {},
   "outputs": [],
   "source": [
    "post_oof112 = post_process_v4(oof112, valid_df)\n",
    "post_oof114 = post_process_v4(oof114, valid_df)\n",
    "post_oof115 = post_process_v4(oof115, valid_df)\n",
    "post_oof116 = post_process_v4(oof116, valid_df)\n",
    "post_oof117 = post_process_v4(oof117, valid_df)\n",
    "post_oof118 = post_process_v4(oof118, valid_df)\n",
    "post_oof121 = post_process_v4(oof121, valid_df)\n",
    "\n",
    "concat_oof = np.concatenate([\n",
    "#     post_oof112[np.newaxis, :, :],\n",
    "    post_oof114[np.newaxis, :, :],\n",
    "    post_oof115[np.newaxis, :, :],\n",
    "    post_oof116[np.newaxis, :, :],\n",
    "    post_oof117[np.newaxis, :, :],\n",
    "    post_oof118[np.newaxis, :, :],\n",
    "    post_oof121[np.newaxis, :, :],\n",
    "], axis=0)\n",
    "\n",
    "oof = np.mean(concat_oof, axis=0)[use_idx, :]"
   ]
  },
  {
   "cell_type": "code",
   "execution_count": 85,
   "metadata": {},
   "outputs": [],
   "source": [
    "for idx in range(len(oof)):\n",
    "    nocall_p = 1 - oof99[idx]\n",
    "    if nocall_p <= 0.05:\n",
    "        col_idx = np.argsort(oof[idx, :])[-1:]\n",
    "        oof[idx, col_idx] *= 3"
   ]
  },
  {
   "cell_type": "code",
   "execution_count": 86,
   "metadata": {},
   "outputs": [],
   "source": [
    "th_list = []\n",
    "scores = []\n",
    "\n",
    "best_score = 0\n",
    "besth_th = 0\n",
    "best_final_labels = None\n",
    "\n",
    "for i in range(200):\n",
    "    th = i / 100.0\n",
    "\n",
    "    oof_labels = extract_label(oof, th)\n",
    "\n",
    "    score = row_wise_micro_averaged_f1_score(val_y_labels, oof_labels)\n",
    "    \n",
    "    if best_score < score:\n",
    "        best_score  = score\n",
    "        best_th = th\n",
    "        best_final_labels = oof_labels\n",
    "\n",
    "    th_list.append(th)\n",
    "    scores.append(score)"
   ]
  },
  {
   "cell_type": "code",
   "execution_count": 87,
   "metadata": {},
   "outputs": [
    {
     "name": "stdout",
     "output_type": "stream",
     "text": [
      "best score: 0.6909 (th=1.93)\n"
     ]
    }
   ],
   "source": [
    "print(f\"best score: {best_score:.4f} (th={best_th})\")   # 0.7399 (th=0.95)"
   ]
  },
  {
   "cell_type": "code",
   "execution_count": 88,
   "metadata": {},
   "outputs": [
    {
     "data": {
      "image/png": "[encoded data removed]",
      "text/plain": [
       "<Figure size 432x288 with 1 Axes>"
      ]
     },
     "metadata": {
      "needs_background": "light"
     },
     "output_type": "display_data"
    }
   ],
   "source": [
    "plt.plot(th_list, scores)\n",
    "plt.grid()"
   ]
  },
  {
   "cell_type": "code",
   "execution_count": 89,
   "metadata": {},
   "outputs": [
    {
     "name": "stdout",
     "output_type": "stream",
     "text": [
      "2782: 0.3642 [-0.082]\n",
      "7843: 0.9750 [0.017]\n",
      "10534: 0.6444 [-0.031]\n",
      "11254: 0.8722 [-0.017]\n",
      "18003: 0.6611 [-0.050]\n",
      "20152: 0.9750 [0.267]\n",
      "21767: 0.3833 [-0.044]\n",
      "26709: 0.5556 [0.075]\n",
      "26746: 0.7028 [0.043]\n",
      "28933: 0.4653 [-0.075]\n",
      "31928: 0.9917 [0.425]\n",
      "42907: 0.6250 [-0.117]\n",
      "44957: 0.7639 [0.028]\n",
      "50878: 0.9250 [0.242]\n",
      "51010: 0.2333 [-0.239]\n",
      "54955: 0.8333 [-0.008]\n",
      "57610: 0.7750 [-0.106]\n"
     ]
    }
   ],
   "source": [
    "diff_scores7 = get_audio_score(best_final_labels, valid_df, score_dict)\n",
    "all_diff_scores[\"distance_avg_nc\"] = diff_scores7"
   ]
  },
  {
   "cell_type": "markdown",
   "metadata": {},
   "source": [
    " "
   ]
  },
  {
   "cell_type": "markdown",
   "metadata": {},
   "source": [
    " "
   ]
  },
  {
   "cell_type": "markdown",
   "metadata": {},
   "source": [
    "## PostProcess v2 + v4 -> Simple Avg\n",
    "それぞれの鳥の最短距離が近いほど値が大きくなるweightを作成して、oof * weightを計算"
   ]
  },
  {
   "cell_type": "code",
   "execution_count": 90,
   "metadata": {},
   "outputs": [],
   "source": [
    "c=1.0\n",
    "q=0.99\n",
    "w=1.0\n",
    "\n",
    "post_oof112 = post_process_v2(oof112, valid_df)\n",
    "post_oof112 = post_process_v2(post_oof112, valid_df, c, q, w)\n",
    "\n",
    "post_oof114 = post_process_v2(oof114, valid_df)\n",
    "post_oof114 = post_process_v2(post_oof114, valid_df, c, q, w)\n",
    "\n",
    "post_oof115 = post_process_v2(oof115, valid_df)\n",
    "post_oof115 = post_process_v2(post_oof115, valid_df, c, q, w)\n",
    "\n",
    "post_oof116 = post_process_v2(oof116, valid_df)\n",
    "post_oof116 = post_process_v2(post_oof116, valid_df, c, q, w)\n",
    "\n",
    "post_oof117 = post_process_v2(oof117, valid_df)\n",
    "post_oof117 = post_process_v2(post_oof117, valid_df, c, q, w)\n",
    "\n",
    "post_oof118 = post_process_v2(oof118, valid_df)\n",
    "post_oof118 = post_process_v2(post_oof118, valid_df, c, q, w)\n",
    "\n",
    "post_oof121 = post_process_v2(oof121, valid_df)\n",
    "post_oof121 = post_process_v2(post_oof121, valid_df, c, q, w)\n",
    "\n",
    "\n",
    "concat_oof = np.concatenate([\n",
    "#     post_oof112[np.newaxis, :, :],\n",
    "    post_oof114[np.newaxis, :, :],\n",
    "    post_oof115[np.newaxis, :, :],\n",
    "    post_oof116[np.newaxis, :, :],\n",
    "    post_oof117[np.newaxis, :, :],\n",
    "    post_oof118[np.newaxis, :, :],\n",
    "    post_oof121[np.newaxis, :, :],\n",
    "], axis=0)\n",
    "\n",
    "oof = np.mean(concat_oof, axis=0)[use_idx, :]"
   ]
  },
  {
   "cell_type": "code",
   "execution_count": 91,
   "metadata": {},
   "outputs": [],
   "source": [
    "th_list = []\n",
    "scores = []\n",
    "\n",
    "best_score = 0\n",
    "besth_th = 0\n",
    "best_final_labels = None\n",
    "\n",
    "for i in range(200):\n",
    "    th = i / 100.0\n",
    "\n",
    "    oof_labels = extract_label(oof, th)\n",
    "\n",
    "    score = row_wise_micro_averaged_f1_score(val_y_labels, oof_labels)\n",
    "    \n",
    "    if best_score < score:\n",
    "        best_score  = score\n",
    "        best_th = th\n",
    "        best_final_labels = oof_labels\n",
    "\n",
    "    th_list.append(th)\n",
    "    scores.append(score)"
   ]
  },
  {
   "cell_type": "code",
   "execution_count": 92,
   "metadata": {},
   "outputs": [
    {
     "name": "stdout",
     "output_type": "stream",
     "text": [
      "best score: 0.6968 (th=0.38)\n"
     ]
    }
   ],
   "source": [
    "print(f\"best score: {best_score:.4f} (th={best_th})\")   #  0.6930 (th=0.38)"
   ]
  },
  {
   "cell_type": "code",
   "execution_count": 93,
   "metadata": {},
   "outputs": [
    {
     "data": {
      "image/png": "[encoded data removed]",
      "text/plain": [
       "<Figure size 432x288 with 1 Axes>"
      ]
     },
     "metadata": {
      "needs_background": "light"
     },
     "output_type": "display_data"
    }
   ],
   "source": [
    "plt.plot(th_list, scores)\n",
    "plt.grid()"
   ]
  },
  {
   "cell_type": "code",
   "execution_count": 94,
   "metadata": {},
   "outputs": [
    {
     "name": "stdout",
     "output_type": "stream",
     "text": [
      "2782: 0.2817 [-0.164]\n",
      "7843: 0.9667 [0.008]\n",
      "10534: 0.6611 [-0.014]\n",
      "11254: 0.9000 [0.011]\n",
      "18003: 0.6278 [-0.083]\n",
      "20152: 0.9250 [0.217]\n",
      "21767: 0.3333 [-0.094]\n",
      "26709: 0.5194 [0.039]\n",
      "26746: 0.6694 [0.010]\n",
      "28933: 0.4417 [-0.098]\n",
      "31928: 0.9583 [0.392]\n",
      "42907: 0.7167 [-0.025]\n",
      "44957: 0.7472 [0.011]\n",
      "50878: 0.8667 [0.183]\n",
      "51010: 0.4750 [0.003]\n",
      "54955: 0.8500 [0.008]\n",
      "57610: 0.9056 [0.025]\n"
     ]
    }
   ],
   "source": [
    "diff_scores8 = get_audio_score(best_final_labels, valid_df, score_dict)\n",
    "all_diff_scores[\"distance_cqw_avg\"] = diff_scores8"
   ]
  },
  {
   "cell_type": "markdown",
   "metadata": {},
   "source": [
    " "
   ]
  },
  {
   "cell_type": "markdown",
   "metadata": {},
   "source": [
    " "
   ]
  },
  {
   "cell_type": "markdown",
   "metadata": {},
   "source": [
    "## 前後のlabelがfist_labelと一致していたら..."
   ]
  },
  {
   "cell_type": "code",
   "execution_count": 95,
   "metadata": {},
   "outputs": [],
   "source": [
    "def intersect(df, col1, col2):\n",
    "    intersect_list = []\n",
    "    for idx in df.index.values:\n",
    "        col1_array = df.loc[idx, col1].split(\" \")\n",
    "        col2_array = df.loc[idx, col2].split(\" \")\n",
    "        intersect = np.intersect1d(col1_array, col2_array)\n",
    "        intersect_list.append(\" \".join(list(intersect)))\n",
    "        \n",
    "    return intersect_list\n",
    "\n",
    "\n",
    "def shift(df, freq):\n",
    "    shift_array = np.array([None] * len(df))\n",
    "\n",
    "    gp = df.groupby(\"audio_id\")\n",
    "    for audio_id, audio_df in gp:\n",
    "        idxs = audio_df.index.values\n",
    "        audio_shift_array = audio_df[\"pred_labels\"].shift(freq).values\n",
    "        \n",
    "        if freq > 0:\n",
    "            audio_shift_array[:freq] = \"None\"\n",
    "        elif freq < 0:\n",
    "            audio_shift_array[freq:] = \"None\"\n",
    "            \n",
    "        shift_array[idxs] = audio_shift_array\n",
    "\n",
    "    return shift_array\n",
    "\n",
    "\n",
    "def arrange_label(label_array):\n",
    "    arranged_label_array = label_array.copy()\n",
    "    for idx, label in enumerate(label_array):\n",
    "        label_list = label.split(\" \")\n",
    "        if \"nocall\" in label_list and len(label_list) >= 2:\n",
    "            label_list.remove(\"nocall\")\n",
    "        \n",
    "        arranged_label_array[idx] = \" \".join(set(label_list))\n",
    "        \n",
    "    return arranged_label_array\n",
    "    \n",
    "\n",
    "def post_process_v5(preds, pred_labels, df, window_size=1):\n",
    "    df_  = df.copy()\n",
    "    \n",
    "    df_[\"pred_labels\"] = pred_labels\n",
    "    df_[\"first_label\"] = [const.INV_BIRD_CODE[bc] for bc in np.argsort(preds)[:, -1]]\n",
    "    \n",
    "    for i in range(window_size):\n",
    "        df_[f\"pre_pred_labels{i}\"] = shift(df_, freq=(i + 1))\n",
    "        df_[f\"post_pred_labels{i}\"] = shift(df_, freq=-(i + 1))\n",
    "    \n",
    "        df_[f\"pre_intersect{i}\"] = intersect(df_, \"first_label\", f\"pre_pred_labels{i}\")\n",
    "        df_[f\"post_intersect{i}\"] = intersect(df_, \"first_label\", f\"post_pred_labels{i}\")\n",
    "    \n",
    "    concat_labels = df_[\"pred_labels\"]\n",
    "    for col in df_.columns:\n",
    "        if \"pre_intersect\" in col or \"post_intersect\" in col:\n",
    "            concat_labels += df_[col].apply(lambda x: f\" {x}\" if len(x) > 0 else \"\")\n",
    "            \n",
    "    df_[\"concat_labels\"] = concat_labels\n",
    "    \n",
    "    post_labels = arrange_label(df_[\"concat_labels\"])\n",
    "    \n",
    "    return post_labels"
   ]
  },
  {
   "cell_type": "code",
   "execution_count": 96,
   "metadata": {},
   "outputs": [],
   "source": [
    "valid_df2 = valid_df.copy()\n",
    "\n",
    "concat_oof = np.concatenate([\n",
    "#     post_oof112[np.newaxis, :, :],\n",
    "    post_oof114[np.newaxis, :, :],\n",
    "    post_oof115[np.newaxis, :, :],\n",
    "    post_oof116[np.newaxis, :, :],\n",
    "    post_oof117[np.newaxis, :, :],\n",
    "    post_oof118[np.newaxis, :, :],\n",
    "    post_oof121[np.newaxis, :, :],\n",
    "], axis=0)\n",
    "\n",
    "oof = np.mean(concat_oof, axis=0)[use_idx, :]"
   ]
  },
  {
   "cell_type": "code",
   "execution_count": 97,
   "metadata": {
    "scrolled": true
   },
   "outputs": [
    {
     "data": {
      "application/vnd.jupyter.widget-view+json": {
       "model_id": "3e352b9ca44841edba2c0bff23467937",
       "version_major": 2,
       "version_minor": 0
      },
      "text/plain": [
       "HBox(children=(IntProgress(value=0), HTML(value='')))"
      ]
     },
     "metadata": {},
     "output_type": "display_data"
    },
    {
     "name": "stdout",
     "output_type": "stream",
     "text": [
      "\n"
     ]
    }
   ],
   "source": [
    "th_list = []\n",
    "scores = []\n",
    "\n",
    "best_score = 0\n",
    "besth_th = 0\n",
    "best_final_labels = None\n",
    "\n",
    "for i in tqdm(range(100)):\n",
    "    th = i / 100.0\n",
    "\n",
    "    oof_labels = extract_label(oof, th)\n",
    "    post_labels = post_process_v5(oof, oof_labels, valid_df2, window_size=2)\n",
    "\n",
    "    score = row_wise_micro_averaged_f1_score(val_y_labels, post_labels)\n",
    "    \n",
    "    if best_score < score:\n",
    "        best_score  = score\n",
    "        best_th = th\n",
    "        best_final_labels = post_labels\n",
    "\n",
    "    th_list.append(th)\n",
    "    scores.append(score)"
   ]
  },
  {
   "cell_type": "code",
   "execution_count": 98,
   "metadata": {},
   "outputs": [
    {
     "name": "stdout",
     "output_type": "stream",
     "text": [
      "best score: 0.7213 (th=0.42)\n"
     ]
    }
   ],
   "source": [
    "print(f\"best score: {best_score:.4f} (th={best_th})\")   # 0.7218 (th=0.27)"
   ]
  },
  {
   "cell_type": "code",
   "execution_count": 99,
   "metadata": {},
   "outputs": [
    {
     "data": {
      "image/png": "[encoded data removed]",
      "text/plain": [
       "<Figure size 432x288 with 1 Axes>"
      ]
     },
     "metadata": {
      "needs_background": "light"
     },
     "output_type": "display_data"
    }
   ],
   "source": [
    "plt.plot(th_list, scores)\n",
    "plt.grid()"
   ]
  },
  {
   "cell_type": "code",
   "execution_count": 100,
   "metadata": {},
   "outputs": [
    {
     "name": "stdout",
     "output_type": "stream",
     "text": [
      "2782: 0.3767 [-0.069]\n",
      "7843: 0.9667 [0.008]\n",
      "10534: 0.6694 [-0.006]\n",
      "11254: 0.8889 [-0.000]\n",
      "18003: 0.7278 [0.017]\n",
      "20152: 0.8500 [0.142]\n",
      "21767: 0.3972 [-0.031]\n",
      "26709: 0.5389 [0.058]\n",
      "26746: 0.7028 [0.043]\n",
      "28933: 0.5153 [-0.025]\n",
      "31928: 0.9500 [0.383]\n",
      "42907: 0.7917 [0.050]\n",
      "44957: 0.7861 [0.050]\n",
      "50878: 0.8417 [0.158]\n",
      "51010: 0.5194 [0.047]\n",
      "54955: 0.8417 [0.000]\n",
      "57610: 0.8972 [0.017]\n"
     ]
    }
   ],
   "source": [
    "diff_scores9 = get_audio_score(best_final_labels, valid_df, score_dict)\n",
    "all_diff_scores[\"firstlabel_replace\"] = diff_scores9"
   ]
  },
  {
   "cell_type": "markdown",
   "metadata": {},
   "source": [
    " "
   ]
  },
  {
   "cell_type": "markdown",
   "metadata": {},
   "source": [
    " "
   ]
  },
  {
   "cell_type": "markdown",
   "metadata": {},
   "source": [
    "## PostProcessV6"
   ]
  },
  {
   "cell_type": "markdown",
   "metadata": {},
   "source": [
    "- oof_labels = \"nocall\" & birdcall_p >= 0.99だったら、first_labelを採用"
   ]
  },
  {
   "cell_type": "code",
   "execution_count": 102,
   "metadata": {},
   "outputs": [],
   "source": [
    "def post_process_v6(preds, pred_labels, birdcall_preds, df):\n",
    "    first_label = [const.INV_BIRD_CODE[bc] for bc in np.argsort(preds, axis=1)[:, -1]]\n",
    "\n",
    "    processed_pred_labels = []\n",
    "    for idx, labels in enumerate(pred_labels):\n",
    "        if labels == \"nocall\" and birdcall_preds[idx] >= 0.99 and np.max(preds[idx, :]) >= 0.1:\n",
    "            processed_pred_labels.append(first_label[idx])\n",
    "        else:\n",
    "            processed_pred_labels.append(labels)\n",
    "    \n",
    "    return processed_pred_labels"
   ]
  },
  {
   "cell_type": "code",
   "execution_count": 103,
   "metadata": {},
   "outputs": [],
   "source": [
    "concat_oof = np.concatenate([\n",
    "#     post_oof112[np.newaxis, :, :],\n",
    "    post_oof114[np.newaxis, :, :],\n",
    "    post_oof115[np.newaxis, :, :],\n",
    "    post_oof116[np.newaxis, :, :],\n",
    "    post_oof117[np.newaxis, :, :],\n",
    "    post_oof118[np.newaxis, :, :],\n",
    "    post_oof121[np.newaxis, :, :],\n",
    "], axis=0)\n",
    "\n",
    "oof = np.mean(concat_oof, axis=0)[use_idx, :]"
   ]
  },
  {
   "cell_type": "code",
   "execution_count": 104,
   "metadata": {},
   "outputs": [
    {
     "data": {
      "application/vnd.jupyter.widget-view+json": {
       "model_id": "d9422093dd9846af9c0179fd38b068f4",
       "version_major": 2,
       "version_minor": 0
      },
      "text/plain": [
       "HBox(children=(IntProgress(value=0), HTML(value='')))"
      ]
     },
     "metadata": {},
     "output_type": "display_data"
    },
    {
     "name": "stdout",
     "output_type": "stream",
     "text": [
      "\n"
     ]
    }
   ],
   "source": [
    "th_list = []\n",
    "scores = []\n",
    "\n",
    "best_score = 0\n",
    "besth_th = 0\n",
    "best_final_labels = None\n",
    "\n",
    "for i in tqdm(range(100)):\n",
    "    th = i / 100.0\n",
    "\n",
    "    oof_labels = extract_label(oof, th)\n",
    "    post_labels = post_process_v6(oof, oof_labels, oof99, valid_df)\n",
    "\n",
    "    score = row_wise_micro_averaged_f1_score(val_y_labels, post_labels)\n",
    "    \n",
    "    if best_score < score:\n",
    "        best_score  = score\n",
    "        best_th = th\n",
    "        best_final_labels = oof_labels\n",
    "\n",
    "    th_list.append(th)\n",
    "    scores.append(score)"
   ]
  },
  {
   "cell_type": "code",
   "execution_count": 105,
   "metadata": {},
   "outputs": [
    {
     "name": "stdout",
     "output_type": "stream",
     "text": [
      "best score: 0.6441 (th=0.55)\n"
     ]
    }
   ],
   "source": [
    "print(f\"best score: {best_score:.4f} (th={best_th})\")   # 0.7218 (th=0.27)"
   ]
  },
  {
   "cell_type": "code",
   "execution_count": 106,
   "metadata": {},
   "outputs": [
    {
     "data": {
      "image/png": "[encoded data removed]",
      "text/plain": [
       "<Figure size 432x288 with 1 Axes>"
      ]
     },
     "metadata": {
      "needs_background": "light"
     },
     "output_type": "display_data"
    }
   ],
   "source": [
    "plt.plot(th_list, scores)\n",
    "plt.grid()"
   ]
  },
  {
   "cell_type": "code",
   "execution_count": 107,
   "metadata": {},
   "outputs": [
    {
     "name": "stdout",
     "output_type": "stream",
     "text": [
      "2782: 0.1872 [-0.259]\n",
      "7843: 0.9667 [0.008]\n",
      "10534: 0.6583 [-0.017]\n",
      "11254: 0.9083 [0.019]\n",
      "18003: 0.6028 [-0.108]\n",
      "20152: 0.9667 [0.258]\n",
      "21767: 0.2694 [-0.158]\n",
      "26709: 0.5306 [0.050]\n",
      "26746: 0.6472 [-0.012]\n",
      "28933: 0.3889 [-0.151]\n",
      "31928: 0.9917 [0.425]\n",
      "42907: 0.6500 [-0.092]\n",
      "44957: 0.7472 [0.011]\n",
      "50878: 0.9333 [0.250]\n",
      "51010: 0.4194 [-0.053]\n",
      "54955: 0.8333 [-0.008]\n",
      "57610: 0.9222 [0.042]\n"
     ]
    }
   ],
   "source": [
    "diff_scores10 = get_audio_score(best_final_labels, valid_df, score_dict)\n",
    "all_diff_scores[\"nocall_birdcall_replace\"] = diff_scores10"
   ]
  },
  {
   "cell_type": "markdown",
   "metadata": {},
   "source": [
    " "
   ]
  },
  {
   "cell_type": "markdown",
   "metadata": {},
   "source": [
    " "
   ]
  },
  {
   "cell_type": "markdown",
   "metadata": {},
   "source": [
    "## PostProcessV7"
   ]
  },
  {
   "cell_type": "markdown",
   "metadata": {},
   "source": [
    "- audio_id全体のbirdcall_predsの平均値が0.5以上だったら、PostProcessV5"
   ]
  },
  {
   "cell_type": "code",
   "execution_count": 108,
   "metadata": {},
   "outputs": [],
   "source": [
    "def intersect(df, col1, col2):\n",
    "    intersect_list = []\n",
    "    for idx in df.index.values:\n",
    "        col1_array = df.loc[idx, col1].split(\" \")\n",
    "        col2_array = df.loc[idx, col2].split(\" \")\n",
    "        intersect = np.intersect1d(col1_array, col2_array)\n",
    "        intersect_list.append(\" \".join(list(intersect)))\n",
    "        \n",
    "    return intersect_list\n",
    "\n",
    "\n",
    "def shift(df, freq):\n",
    "    shift_array = np.array([None] * len(df))\n",
    "\n",
    "    gp = df.groupby(\"audio_id\")\n",
    "    for audio_id, audio_df in gp:\n",
    "        idxs = audio_df.index.values\n",
    "        audio_shift_array = audio_df[\"pred_labels\"].shift(freq).values\n",
    "        \n",
    "        if freq > 0:\n",
    "            audio_shift_array[:freq] = \"None\"\n",
    "        elif freq < 0:\n",
    "            audio_shift_array[freq:] = \"None\"\n",
    "            \n",
    "        shift_array[idxs] = audio_shift_array\n",
    "\n",
    "    return shift_array\n",
    "\n",
    "\n",
    "def arrange_label(label_array):\n",
    "    arranged_label_array = label_array.copy()\n",
    "    for idx, label in enumerate(label_array):\n",
    "        label_list = label.split(\" \")\n",
    "        if \"nocall\" in label_list and len(label_list) >= 2:\n",
    "            label_list.remove(\"nocall\")\n",
    "        \n",
    "        arranged_label_array[idx] = \" \".join(set(label_list))\n",
    "        \n",
    "    return arranged_label_array\n",
    "    \n",
    "\n",
    "def post_process_v7(preds, pred_labels, birdcall_preds, df, window_size=1):\n",
    "    df_  = df.copy()\n",
    "    \n",
    "    df_[\"pred_labels\"] = pred_labels\n",
    "    df_[\"first_label\"] = [const.INV_BIRD_CODE[bc] for bc in np.argsort(preds)[:, -1]]\n",
    "    df_[\"birdcall_preds\"] = birdcall_preds\n",
    "    df_[\"sum_birdcall_preds\"] = df_.groupby(\"audio_id\")[\"birdcall_preds\"].transform(\"mean\")\n",
    "    \n",
    "    for i in range(window_size):\n",
    "        df_[f\"pre_pred_labels{i}\"] = shift(df_, freq=(i + 1))\n",
    "        df_[f\"post_pred_labels{i}\"] = shift(df_, freq=-(i + 1))\n",
    "    \n",
    "        df_[f\"pre_intersect{i}\"] = intersect(df_, \"first_label\", f\"pre_pred_labels{i}\")\n",
    "        df_[f\"post_intersect{i}\"] = intersect(df_, \"first_label\", f\"post_pred_labels{i}\")\n",
    "    \n",
    "    concat_labels = df_[\"pred_labels\"]\n",
    "    for col in df_.columns:\n",
    "        if \"pre_intersect\" in col or \"post_intersect\" in col:\n",
    "            concat_labels += df_[col].apply(lambda x: f\" {x}\" if len(x) > 0 else \"\")\n",
    "            \n",
    "    df_[\"concat_labels\"] = arrange_label(concat_labels)\n",
    "    \n",
    "    post_pred_labels = []\n",
    "    for idx in df_.index:\n",
    "        audio_birdcall_preds = df_.loc[idx, \"sum_birdcall_preds\"]\n",
    "        if audio_birdcall_preds >= 0.5:\n",
    "            post_label = df_.loc[idx, \"concat_labels\"]\n",
    "        else:\n",
    "            post_label = df_.loc[idx, \"pred_labels\"]\n",
    "            \n",
    "        post_pred_labels.append(post_label)\n",
    "    \n",
    "    return post_pred_labels"
   ]
  },
  {
   "cell_type": "code",
   "execution_count": 109,
   "metadata": {},
   "outputs": [],
   "source": [
    "concat_oof = np.concatenate([\n",
    "#     post_oof112[np.newaxis, :, :],\n",
    "    post_oof114[np.newaxis, :, :],\n",
    "    post_oof115[np.newaxis, :, :],\n",
    "    post_oof116[np.newaxis, :, :],\n",
    "    post_oof117[np.newaxis, :, :],\n",
    "    post_oof118[np.newaxis, :, :],\n",
    "    post_oof121[np.newaxis, :, :],\n",
    "], axis=0)\n",
    "\n",
    "oof = np.mean(concat_oof, axis=0)[use_idx, :]"
   ]
  },
  {
   "cell_type": "code",
   "execution_count": 110,
   "metadata": {
    "scrolled": true
   },
   "outputs": [
    {
     "data": {
      "application/vnd.jupyter.widget-view+json": {
       "model_id": "e2b6e366bde747bc968bcca5835dcf8c",
       "version_major": 2,
       "version_minor": 0
      },
      "text/plain": [
       "HBox(children=(IntProgress(value=0), HTML(value='')))"
      ]
     },
     "metadata": {},
     "output_type": "display_data"
    },
    {
     "name": "stdout",
     "output_type": "stream",
     "text": [
      "\n"
     ]
    }
   ],
   "source": [
    "th_list = []\n",
    "scores = []\n",
    "\n",
    "best_score = 0\n",
    "besth_th = 0\n",
    "best_final_labels = None\n",
    "\n",
    "for i in tqdm(range(100)):\n",
    "    th = i / 100.0\n",
    "\n",
    "    oof_labels = extract_label(oof, th)\n",
    "    post_labels = post_process_v7(oof, oof_labels, oof99, valid_df, window_size=2)\n",
    "\n",
    "    score = row_wise_micro_averaged_f1_score(val_y_labels, post_labels)\n",
    "    \n",
    "    if best_score < score:\n",
    "        best_score  = score\n",
    "        best_th = th\n",
    "        best_final_labels = oof_labels\n",
    "\n",
    "    th_list.append(th)\n",
    "    scores.append(score)"
   ]
  },
  {
   "cell_type": "code",
   "execution_count": 111,
   "metadata": {},
   "outputs": [
    {
     "name": "stdout",
     "output_type": "stream",
     "text": [
      "best score: 0.7244 (th=0.42)\n"
     ]
    }
   ],
   "source": [
    "print(f\"best score: {best_score:.4f} (th={best_th})\")   # 0.7218 (th=0.27)"
   ]
  },
  {
   "cell_type": "code",
   "execution_count": 112,
   "metadata": {},
   "outputs": [
    {
     "data": {
      "image/png": "[encoded data removed]",
      "text/plain": [
       "<Figure size 432x288 with 1 Axes>"
      ]
     },
     "metadata": {
      "needs_background": "light"
     },
     "output_type": "display_data"
    }
   ],
   "source": [
    "plt.plot(th_list, scores)\n",
    "plt.grid()"
   ]
  },
  {
   "cell_type": "code",
   "execution_count": 114,
   "metadata": {},
   "outputs": [
    {
     "name": "stdout",
     "output_type": "stream",
     "text": [
      "2782: 0.2622 [-0.184]\n",
      "7843: 0.9667 [0.008]\n",
      "10534: 0.6778 [0.003]\n",
      "11254: 0.9167 [0.028]\n",
      "18003: 0.6194 [-0.092]\n",
      "20152: 0.9333 [0.225]\n",
      "21767: 0.3000 [-0.128]\n",
      "26709: 0.5278 [0.047]\n",
      "26746: 0.6472 [-0.012]\n",
      "28933: 0.4417 [-0.098]\n",
      "31928: 0.9833 [0.417]\n",
      "42907: 0.7083 [-0.033]\n",
      "44957: 0.7556 [0.019]\n",
      "50878: 0.8750 [0.192]\n",
      "51010: 0.4583 [-0.014]\n",
      "54955: 0.8417 [0.000]\n",
      "57610: 0.9139 [0.033]\n"
     ]
    }
   ],
   "source": [
    "diff_scores11 = get_audio_score(best_final_labels, valid_df, score_dict)\n",
    "all_diff_scores[\"birdcall_preds0.5_and_v5\"] = diff_scores11"
   ]
  },
  {
   "cell_type": "markdown",
   "metadata": {},
   "source": [
    " "
   ]
  },
  {
   "cell_type": "markdown",
   "metadata": {},
   "source": [
    " "
   ]
  },
  {
   "cell_type": "markdown",
   "metadata": {},
   "source": [
    "## PostProcessV8"
   ]
  },
  {
   "cell_type": "markdown",
   "metadata": {},
   "source": [
    "- PostProcessV5の修正版"
   ]
  },
  {
   "cell_type": "code",
   "execution_count": 124,
   "metadata": {
    "scrolled": true
   },
   "outputs": [],
   "source": [
    "def shift(df, pred_labels, freq):\n",
    "    shift_labels = [None] * len(df)\n",
    "\n",
    "    gp = df.groupby(\"audio_id\")\n",
    "    for audio_id, audio_df in gp:\n",
    "        idxs = audio_df.index.values\n",
    "        audio_shift_labels = np.roll(pred_labels[idxs[0]: idxs[-1] + 1], freq)\n",
    "        \n",
    "        if freq > 0:\n",
    "            audio_shift_labels[:freq] = \"None\"\n",
    "        elif freq < 0:\n",
    "            audio_shift_labels[freq:] = \"None\"\n",
    "            \n",
    "        shift_labels[idxs[0]: idxs[-1] + 1] = audio_shift_labels\n",
    "\n",
    "    return shift_labels\n",
    "\n",
    "\n",
    "def intersect(labels_list1, labels_list2):\n",
    "    intersect_list = []\n",
    "    for idx in range(len(labels_list1)):\n",
    "        lables1 = labels_list1[idx].split(\" \")\n",
    "        lables2 = labels_list2[idx].split(\" \")\n",
    "        \n",
    "        intersect = np.intersect1d(lables1, lables2)\n",
    "        if len(intersect) == 0:\n",
    "            intersect = [\"nocall\"]\n",
    "        intersect_list.append(\" \".join(list(intersect)))\n",
    "        \n",
    "    return intersect_list\n",
    "\n",
    "\n",
    "def add_label(labels_list1, labels_list2):\n",
    "    added_labels_list = []\n",
    "    for labels1, labels2 in zip(labels_list1, labels_list2):\n",
    "\n",
    "        if labels1 == \"nocall\":\n",
    "            if labels2 == \"nocall\":\n",
    "                added_labels_list.append(\"nocall\")\n",
    "            else:\n",
    "                added_labels_list.append(labels2)\n",
    "        \n",
    "        else:\n",
    "            if labels2 == \"nocall\":\n",
    "                added_labels_list.append(labels1)\n",
    "            else:\n",
    "                added_labels = list(set((labels1 + \" \" + labels2).split(\" \")))\n",
    "                added_labels_list.append(\" \".join(added_labels))\n",
    "    \n",
    "    return added_labels_list\n",
    "\n",
    "\n",
    "def post_process_v8(preds, pred_labels, df, window_size=1):\n",
    "    confident_labels = [const.INV_BIRD_CODE[bc] for bc in np.argsort(preds)[:, -1]]\n",
    "\n",
    "    final_labels_list = pred_labels.copy()\n",
    "    for w in range(window_size):\n",
    "        for freq in [w + 1, -(w + 1)]:\n",
    "            shift_labels = shift(df, pred_labels, freq)\n",
    "            shift_intersect_labels = intersect(confident_labels, shift_labels)\n",
    "            final_labels_list = add_label(final_labels_list, shift_intersect_labels)\n",
    "        \n",
    "    return final_labels_list"
   ]
  },
  {
   "cell_type": "code",
   "execution_count": 125,
   "metadata": {
    "scrolled": true
   },
   "outputs": [],
   "source": [
    "concat_oof = np.concatenate([\n",
    "#     post_oof112[np.newaxis, :, :],\n",
    "    post_oof114[np.newaxis, :, :],\n",
    "    post_oof115[np.newaxis, :, :],\n",
    "    post_oof116[np.newaxis, :, :],\n",
    "    post_oof117[np.newaxis, :, :],\n",
    "    post_oof118[np.newaxis, :, :],\n",
    "    post_oof121[np.newaxis, :, :],\n",
    "], axis=0)\n",
    "\n",
    "oof = np.mean(concat_oof, axis=0)[use_idx, :]"
   ]
  },
  {
   "cell_type": "code",
   "execution_count": 126,
   "metadata": {
    "scrolled": true
   },
   "outputs": [
    {
     "data": {
      "application/vnd.jupyter.widget-view+json": {
       "model_id": "bfb50cc1b3d84cd8bed45b0fdbd7156c",
       "version_major": 2,
       "version_minor": 0
      },
      "text/plain": [
       "HBox(children=(IntProgress(value=0), HTML(value='')))"
      ]
     },
     "metadata": {},
     "output_type": "display_data"
    },
    {
     "name": "stdout",
     "output_type": "stream",
     "text": [
      "\n"
     ]
    }
   ],
   "source": [
    "th_list = []\n",
    "scores = []\n",
    "\n",
    "best_score = 0\n",
    "besth_th = 0\n",
    "best_final_labels = None\n",
    "\n",
    "for i in tqdm(range(100)):\n",
    "    th = i / 100.0\n",
    "\n",
    "    oof_labels = extract_label(oof, th)\n",
    "    post_labels = post_process_v8(oof, oof_labels, valid_df, window_size=2)\n",
    "\n",
    "    score = row_wise_micro_averaged_f1_score(val_y_labels, post_labels)\n",
    "    \n",
    "    if best_score < score:\n",
    "        best_score  = score\n",
    "        best_th = th\n",
    "        best_final_labels = oof_labels\n",
    "\n",
    "    th_list.append(th)\n",
    "    scores.append(score)"
   ]
  },
  {
   "cell_type": "code",
   "execution_count": 127,
   "metadata": {},
   "outputs": [
    {
     "name": "stdout",
     "output_type": "stream",
     "text": [
      "best score: 0.7213 (th=0.42)\n"
     ]
    }
   ],
   "source": [
    "print(f\"best score: {best_score:.4f} (th={best_th})\")   # 0.7218 (th=0.27)"
   ]
  },
  {
   "cell_type": "code",
   "execution_count": 128,
   "metadata": {},
   "outputs": [
    {
     "data": {
      "image/png": "[encoded data removed]",
      "text/plain": [
       "<Figure size 432x288 with 1 Axes>"
      ]
     },
     "metadata": {
      "needs_background": "light"
     },
     "output_type": "display_data"
    }
   ],
   "source": [
    "plt.plot(th_list, scores)\n",
    "plt.grid()"
   ]
  },
  {
   "cell_type": "code",
   "execution_count": 129,
   "metadata": {},
   "outputs": [
    {
     "name": "stdout",
     "output_type": "stream",
     "text": [
      "2782: 0.2622 [-0.184]\n",
      "7843: 0.9667 [0.008]\n",
      "10534: 0.6778 [0.003]\n",
      "11254: 0.9167 [0.028]\n",
      "18003: 0.6194 [-0.092]\n",
      "20152: 0.9333 [0.225]\n",
      "21767: 0.3000 [-0.128]\n",
      "26709: 0.5278 [0.047]\n",
      "26746: 0.6472 [-0.012]\n",
      "28933: 0.4417 [-0.098]\n",
      "31928: 0.9833 [0.417]\n",
      "42907: 0.7083 [-0.033]\n",
      "44957: 0.7556 [0.019]\n",
      "50878: 0.8750 [0.192]\n",
      "51010: 0.4583 [-0.014]\n",
      "54955: 0.8417 [0.000]\n",
      "57610: 0.9139 [0.033]\n"
     ]
    }
   ],
   "source": [
    "diff_scores12 = get_audio_score(best_final_labels, valid_df, score_dict)\n",
    "all_diff_scores[\"modified_firstlabel_replace\"] = diff_scores12"
   ]
  },
  {
   "cell_type": "markdown",
   "metadata": {},
   "source": [
    " "
   ]
  },
  {
   "cell_type": "markdown",
   "metadata": {},
   "source": [
    " "
   ]
  },
  {
   "cell_type": "markdown",
   "metadata": {},
   "source": [
    "## Avg -> V2 -> V5"
   ]
  },
  {
   "cell_type": "code",
   "execution_count": 130,
   "metadata": {},
   "outputs": [],
   "source": [
    "def post_process_v2_plus(preds, df, c=2, q=0.99, w=1.5):\n",
    "    post_preds = preds.copy()\n",
    "    \n",
    "    gp = df.groupby(\"audio_id\")\n",
    "    for audio_id, audio_df in gp:\n",
    "        idxs = audio_df.index.values\n",
    "        site = audio_df.loc[idxs[0], \"site\"]\n",
    "        \n",
    "        audio_preds = preds[idxs, :]\n",
    "        audio_preds_mean = np.mean(audio_preds, axis=0)\n",
    "        audio_preds_mean_ = audio_preds_mean / audio_preds_mean.max()\n",
    "        quantile = np.quantile(audio_preds_mean_, q)\n",
    "\n",
    "        for bc in np.argsort(audio_preds_mean_)[::-1]:\n",
    "            v = audio_preds_mean_[bc]\n",
    "            if v >= (quantile * c):\n",
    "                for idx in idxs:\n",
    "                    if np.argmax(post_preds[idx, :]) == bc:\n",
    "                        post_preds[idx, bc] *= w\n",
    "            else:\n",
    "                break\n",
    "\n",
    "    return post_preds"
   ]
  },
  {
   "cell_type": "code",
   "execution_count": 131,
   "metadata": {
    "scrolled": true
   },
   "outputs": [],
   "source": [
    "concat_oof = np.concatenate([\n",
    "#     post_oof112[np.newaxis, :, :],\n",
    "    post_oof114[np.newaxis, :, :],\n",
    "    post_oof115[np.newaxis, :, :],\n",
    "    post_oof116[np.newaxis, :, :],\n",
    "    post_oof117[np.newaxis, :, :],\n",
    "    post_oof118[np.newaxis, :, :],\n",
    "    post_oof121[np.newaxis, :, :],\n",
    "], axis=0)\n",
    "\n",
    "\n",
    "oof = np.mean(concat_oof, axis=0)[use_idx, :]\n",
    "\n",
    "c=2.0\n",
    "q=0.99\n",
    "w=5.0\n",
    "\n",
    "post_oof = post_process_v2_plus(oof, valid_df, c, q, w)"
   ]
  },
  {
   "cell_type": "code",
   "execution_count": 140,
   "metadata": {
    "scrolled": true
   },
   "outputs": [
    {
     "data": {
      "application/vnd.jupyter.widget-view+json": {
       "model_id": "5a103d40dac648ea800944828e3aab6c",
       "version_major": 2,
       "version_minor": 0
      },
      "text/plain": [
       "HBox(children=(IntProgress(value=0, max=300), HTML(value='')))"
      ]
     },
     "metadata": {},
     "output_type": "display_data"
    },
    {
     "name": "stdout",
     "output_type": "stream",
     "text": [
      "\n"
     ]
    }
   ],
   "source": [
    "th_list = []\n",
    "scores = []\n",
    "\n",
    "best_score = 0\n",
    "besth_th = 0\n",
    "best_final_labels = None\n",
    "\n",
    "for i in tqdm(range(300)):\n",
    "    th = i / 100.0\n",
    "\n",
    "    oof_labels = extract_label(post_oof, th)\n",
    "    post_labels = post_process_v8(post_oof, oof_labels, valid_df, window_size=2)\n",
    "\n",
    "    score = row_wise_micro_averaged_f1_score(val_y_labels, post_labels)\n",
    "    \n",
    "    if best_score < score:\n",
    "        best_score  = score\n",
    "        best_th = th\n",
    "        best_final_labels = oof_labels\n",
    "\n",
    "    th_list.append(th)\n",
    "    scores.append(score)"
   ]
  },
  {
   "cell_type": "code",
   "execution_count": 141,
   "metadata": {},
   "outputs": [
    {
     "name": "stdout",
     "output_type": "stream",
     "text": [
      "best score: 0.7163 (th=2.06)\n"
     ]
    }
   ],
   "source": [
    "print(f\"best score: {best_score:.4f} (th={best_th})\")   # 0.7506 (th=0.27)"
   ]
  },
  {
   "cell_type": "code",
   "execution_count": 142,
   "metadata": {},
   "outputs": [
    {
     "data": {
      "image/png": "[encoded data removed]",
      "text/plain": [
       "<Figure size 432x288 with 1 Axes>"
      ]
     },
     "metadata": {
      "needs_background": "light"
     },
     "output_type": "display_data"
    }
   ],
   "source": [
    "plt.plot(th_list, scores)\n",
    "plt.grid()"
   ]
  },
  {
   "cell_type": "code",
   "execution_count": 143,
   "metadata": {
    "scrolled": true
   },
   "outputs": [
    {
     "name": "stdout",
     "output_type": "stream",
     "text": [
      "2782: 0.2664 [-0.180]\n",
      "7843: 0.9667 [0.008]\n",
      "10534: 0.6361 [-0.039]\n",
      "11254: 0.8750 [-0.014]\n",
      "18003: 0.6111 [-0.100]\n",
      "20152: 0.9333 [0.225]\n",
      "21767: 0.2917 [-0.136]\n",
      "26709: 0.5083 [0.028]\n",
      "26746: 0.6472 [-0.012]\n",
      "28933: 0.4194 [-0.121]\n",
      "31928: 0.9917 [0.425]\n",
      "42907: 0.6917 [-0.050]\n",
      "44957: 0.7389 [0.003]\n",
      "50878: 0.9583 [0.275]\n",
      "51010: 0.4083 [-0.064]\n",
      "54955: 0.8333 [-0.008]\n",
      "57610: 0.9194 [0.039]\n"
     ]
    }
   ],
   "source": [
    "diff_scores13 = get_audio_score(best_final_labels, valid_df, score_dict)\n",
    "all_diff_scores[\"cqw_and_modified_firstlabel_replace\"] = diff_scores13"
   ]
  },
  {
   "cell_type": "markdown",
   "metadata": {},
   "source": [
    " "
   ]
  },
  {
   "cell_type": "markdown",
   "metadata": {},
   "source": [
    " "
   ]
  },
  {
   "cell_type": "markdown",
   "metadata": {},
   "source": [
    "## PostProcessV9\n",
    "- https://www.kaggle.com/cdeotte/rainforest-post-process-lb-0-970\n",
    "- 全然うまくいかない......なんかミスってる？？？"
   ]
  },
  {
   "cell_type": "code",
   "execution_count": 96,
   "metadata": {},
   "outputs": [],
   "source": [
    "def scale(probs, factor):\n",
    "    probs = probs.copy()\n",
    "    idx = np.where(probs!=1)[0]\n",
    "    odds = factor * probs[idx] / (1 - probs[idx])\n",
    "    probs[idx] =  odds / (1 + odds)\n",
    "    return probs\n",
    "\n",
    "\n",
    "def post_process_v9(preds):\n",
    "    post_preds = preds.copy()\n",
    "\n",
    "    post_preds -= post_preds.min(0, keepdims=True)\n",
    "    post_preds /= post_preds.max(0, keepdims=True)\n",
    "    d2 = np.mean(post_preds, axis=0)\n",
    "\n",
    "    for k in range(397):\n",
    "        s = (d2[k] / (1 - d2[k])) / 2.0\n",
    "        post_preds[:, k] = scale(post_preds[:, k], s)\n",
    "\n",
    "    return post_preds"
   ]
  },
  {
   "cell_type": "code",
   "execution_count": 97,
   "metadata": {
    "scrolled": true
   },
   "outputs": [],
   "source": [
    "concat_oof = np.concatenate([\n",
    "    post_oof112[np.newaxis, :, :],\n",
    "    post_oof114[np.newaxis, :, :],\n",
    "    post_oof115[np.newaxis, :, :],\n",
    "    post_oof116[np.newaxis, :, :],\n",
    "    post_oof117[np.newaxis, :, :],\n",
    "    post_oof118[np.newaxis, :, :],\n",
    "], axis=0)\n",
    "\n",
    "oof = np.mean(concat_oof, axis=0)[use_idx, :]\n",
    "post_oof = post_process_v9(oof)"
   ]
  },
  {
   "cell_type": "code",
   "execution_count": 98,
   "metadata": {
    "scrolled": true
   },
   "outputs": [
    {
     "data": {
      "application/vnd.jupyter.widget-view+json": {
       "model_id": "cd3cd3e30c9c4bc786ee44e4377f4fa8",
       "version_major": 2,
       "version_minor": 0
      },
      "text/plain": [
       "HBox(children=(IntProgress(value=0), HTML(value='')))"
      ]
     },
     "metadata": {},
     "output_type": "display_data"
    },
    {
     "name": "stdout",
     "output_type": "stream",
     "text": [
      "\n"
     ]
    }
   ],
   "source": [
    "th_list = []\n",
    "scores = []\n",
    "\n",
    "best_score = 0\n",
    "besth_th = 0\n",
    "best_final_labels = None\n",
    "\n",
    "for i in tqdm(range(100)):\n",
    "    th = i / 100.0\n",
    "\n",
    "    oof_labels = extract_label(post_oof, th)\n",
    "    score = row_wise_micro_averaged_f1_score(val_y_labels, oof_labels)\n",
    "    \n",
    "    if best_score < score:\n",
    "        best_score  = score\n",
    "        best_th = th\n",
    "        best_final_labels = oof_labels\n",
    "\n",
    "    th_list.append(th)\n",
    "    scores.append(score)"
   ]
  },
  {
   "cell_type": "code",
   "execution_count": 99,
   "metadata": {},
   "outputs": [
    {
     "name": "stdout",
     "output_type": "stream",
     "text": [
      "best score: 0.5195 (th=0.76)\n"
     ]
    }
   ],
   "source": [
    "print(f\"best score: {best_score:.4f} (th={best_th})\")   # 0.7506 (th=0.27)"
   ]
  },
  {
   "cell_type": "code",
   "execution_count": 100,
   "metadata": {},
   "outputs": [
    {
     "data": {
      "image/png": "[encoded data removed]",
      "text/plain": [
       "<Figure size 432x288 with 1 Axes>"
      ]
     },
     "metadata": {
      "needs_background": "light"
     },
     "output_type": "display_data"
    }
   ],
   "source": [
    "plt.plot(th_list, scores)\n",
    "plt.grid()"
   ]
  },
  {
   "cell_type": "code",
   "execution_count": 101,
   "metadata": {
    "scrolled": false
   },
   "outputs": [
    {
     "name": "stdout",
     "output_type": "stream",
     "text": [
      "2782: 0.0194 [-0.423]\n",
      "7843: 0.9083 [-0.042]\n",
      "10534: 0.4750 [-0.200]\n",
      "11254: 0.7167 [-0.172]\n",
      "18003: 0.1250 [-0.583]\n",
      "20152: 0.9083 [0.208]\n",
      "21767: 0.2144 [-0.219]\n",
      "26709: 0.4583 [-0.019]\n",
      "26746: 0.5000 [-0.160]\n",
      "28933: 0.1681 [-0.371]\n",
      "31928: 0.9333 [0.400]\n",
      "42907: 0.5056 [-0.219]\n",
      "44957: 0.3667 [-0.361]\n",
      "50878: 0.7833 [0.100]\n",
      "51010: 0.2153 [-0.232]\n",
      "54955: 0.8167 [-0.008]\n",
      "57610: 0.7167 [-0.156]\n"
     ]
    }
   ],
   "source": [
    "diff_scores13 = get_audio_score(best_final_labels, valid_df, score_dict)\n",
    "all_diff_scores[\"cqw_and_modified_firstlabel_replace\"] = diff_scores13"
   ]
  },
  {
   "cell_type": "markdown",
   "metadata": {},
   "source": [
    " "
   ]
  },
  {
   "cell_type": "markdown",
   "metadata": {},
   "source": [
    " "
   ]
  },
  {
   "cell_type": "markdown",
   "metadata": {},
   "source": [
    "## PostProcessV10\n",
    "- PPv8の修正版？"
   ]
  },
  {
   "cell_type": "code",
   "execution_count": 102,
   "metadata": {},
   "outputs": [],
   "source": [
    "def shift(df, pred_labels, freq):\n",
    "    shift_labels = [None] * len(df)\n",
    "\n",
    "    gp = df.groupby(\"audio_id\")\n",
    "    for audio_id, audio_df in gp:\n",
    "        idxs = audio_df.index.values\n",
    "        audio_shift_labels = np.roll(pred_labels[idxs[0]: idxs[-1] + 1], freq)\n",
    "        \n",
    "        if freq > 0:\n",
    "            audio_shift_labels[:freq] = \"None\"\n",
    "        elif freq < 0:\n",
    "            audio_shift_labels[freq:] = \"None\"\n",
    "            \n",
    "        shift_labels[idxs[0]: idxs[-1] + 1] = audio_shift_labels\n",
    "\n",
    "    return shift_labels\n",
    "\n",
    "\n",
    "def intersect(labels_list1, labels_list2):\n",
    "    intersect_list = []\n",
    "    for idx in range(len(labels_list1)):\n",
    "        lables1 = labels_list1[idx].split(\" \")\n",
    "        lables2 = labels_list2[idx].split(\" \")\n",
    "        \n",
    "        intersect = np.intersect1d(lables1, lables2)\n",
    "        if len(intersect) == 0:\n",
    "            intersect = [\"nocall\"]\n",
    "        intersect_list.append(\" \".join(list(intersect)))\n",
    "        \n",
    "    return intersect_list\n",
    "\n",
    "\n",
    "def add_label(labels_list1, labels_list2):\n",
    "    added_labels_list = []\n",
    "    for labels1, labels2 in zip(labels_list1, labels_list2):\n",
    "\n",
    "        if labels1 == \"nocall\":\n",
    "            if labels2 == \"nocall\":\n",
    "                added_labels_list.append(\"nocall\")\n",
    "            else:\n",
    "                added_labels_list.append(labels2)\n",
    "        \n",
    "        else:\n",
    "            if labels2 == \"nocall\":\n",
    "                added_labels_list.append(labels1)\n",
    "            else:\n",
    "                added_labels = list(set((labels1 + \" \" + labels2).split(\" \")))\n",
    "                added_labels_list.append(\" \".join(added_labels))\n",
    "    \n",
    "    return added_labels_list\n",
    "\n",
    "\n",
    "def post_process_v10(preds, pred_labels, df, window_size=1, c=2.0):\n",
    "    first_labels = []\n",
    "    for idx in df.index:\n",
    "        row_prob = preds[idx, :]\n",
    "        second_prob = np.sort(row_prob)[-2]\n",
    "\n",
    "        first_label_bc = np.argmax(row_prob)\n",
    "        v = row_prob[first_label_bc]\n",
    "        if v >= (second_prob * c):\n",
    "            first_labels.append(const.INV_BIRD_CODE[first_label_bc])\n",
    "        else:\n",
    "            first_labels.append(\"nocall\")\n",
    "\n",
    "    final_labels_list = pred_labels.copy()\n",
    "    for w in range(window_size):\n",
    "        for freq in [w + 1, -(w + 1)]:\n",
    "            shift_labels = shift(df, pred_labels, freq)\n",
    "            shift_intersect_labels = intersect(first_labels, shift_labels)\n",
    "            final_labels_list = add_label(final_labels_list, shift_intersect_labels)\n",
    "        \n",
    "    return final_labels_list"
   ]
  },
  {
   "cell_type": "code",
   "execution_count": 103,
   "metadata": {
    "scrolled": true
   },
   "outputs": [],
   "source": [
    "concat_oof = np.concatenate([\n",
    "    post_oof112[np.newaxis, :, :],\n",
    "    post_oof114[np.newaxis, :, :],\n",
    "    post_oof115[np.newaxis, :, :],\n",
    "    post_oof116[np.newaxis, :, :],\n",
    "    post_oof117[np.newaxis, :, :],\n",
    "    post_oof118[np.newaxis, :, :],\n",
    "], axis=0)\n",
    "\n",
    "oof = np.mean(concat_oof, axis=0)[use_idx, :]"
   ]
  },
  {
   "cell_type": "code",
   "execution_count": 104,
   "metadata": {
    "scrolled": true
   },
   "outputs": [
    {
     "data": {
      "application/vnd.jupyter.widget-view+json": {
       "model_id": "9dee8d6623f947b99effb40842c6c2e7",
       "version_major": 2,
       "version_minor": 0
      },
      "text/plain": [
       "HBox(children=(IntProgress(value=0), HTML(value='')))"
      ]
     },
     "metadata": {},
     "output_type": "display_data"
    },
    {
     "name": "stdout",
     "output_type": "stream",
     "text": [
      "\n"
     ]
    }
   ],
   "source": [
    "th_list = []\n",
    "scores = []\n",
    "\n",
    "best_score = 0\n",
    "besth_th = 0\n",
    "best_final_labels = None\n",
    "\n",
    "for i in tqdm(range(100)):\n",
    "    th = i / 100.0\n",
    "\n",
    "    oof_labels = extract_label(oof, th)\n",
    "    post_oof_labels = post_process_v10(oof, oof_labels, valid_df, window_size=1, c=2.0)\n",
    "    score = row_wise_micro_averaged_f1_score(val_y_labels, post_oof_labels)\n",
    "    \n",
    "    if best_score < score:\n",
    "        best_score  = score\n",
    "        best_th = th\n",
    "        best_final_labels = post_oof_labels\n",
    "\n",
    "    th_list.append(th)\n",
    "    scores.append(score)"
   ]
  },
  {
   "cell_type": "code",
   "execution_count": 105,
   "metadata": {},
   "outputs": [
    {
     "name": "stdout",
     "output_type": "stream",
     "text": [
      "best score: 0.7091 (th=0.44)\n"
     ]
    }
   ],
   "source": [
    "print(f\"best score: {best_score:.4f} (th={best_th})\")   # 0.7506 (th=0.27)"
   ]
  },
  {
   "cell_type": "code",
   "execution_count": 106,
   "metadata": {},
   "outputs": [
    {
     "data": {
      "image/png": "[encoded data removed]",
      "text/plain": [
       "<Figure size 432x288 with 1 Axes>"
      ]
     },
     "metadata": {
      "needs_background": "light"
     },
     "output_type": "display_data"
    }
   ],
   "source": [
    "plt.plot(th_list, scores)\n",
    "plt.grid()"
   ]
  },
  {
   "cell_type": "code",
   "execution_count": 107,
   "metadata": {
    "scrolled": false
   },
   "outputs": [
    {
     "name": "stdout",
     "output_type": "stream",
     "text": [
      "2782: 0.3086 [-0.134]\n",
      "7843: 0.9667 [0.017]\n",
      "10534: 0.6694 [-0.006]\n",
      "11254: 0.8917 [0.003]\n",
      "18003: 0.6917 [-0.017]\n",
      "20152: 0.9167 [0.217]\n",
      "21767: 0.3667 [-0.067]\n",
      "26709: 0.5000 [0.022]\n",
      "26746: 0.6944 [0.035]\n",
      "28933: 0.4708 [-0.068]\n",
      "31928: 0.9917 [0.458]\n",
      "42907: 0.7500 [0.025]\n",
      "44957: 0.7472 [0.019]\n",
      "50878: 0.8667 [0.183]\n",
      "51010: 0.4667 [0.019]\n",
      "54955: 0.8333 [0.008]\n",
      "57610: 0.9222 [0.050]\n"
     ]
    }
   ],
   "source": [
    "diff_scores14 = get_audio_score(best_final_labels, valid_df, score_dict)\n",
    "all_diff_scores[\"cqw_and_modified_firstlabel_replace\"] = diff_scores14"
   ]
  },
  {
   "cell_type": "code",
   "execution_count": null,
   "metadata": {},
   "outputs": [],
   "source": []
  },
  {
   "cell_type": "code",
   "execution_count": null,
   "metadata": {},
   "outputs": [],
   "source": []
  },
  {
   "cell_type": "code",
   "execution_count": 108,
   "metadata": {},
   "outputs": [],
   "source": [
    "a = valid_df.copy()"
   ]
  },
  {
   "cell_type": "code",
   "execution_count": 109,
   "metadata": {},
   "outputs": [],
   "source": [
    "a[\"bp\"] = oof99"
   ]
  },
  {
   "cell_type": "code",
   "execution_count": 110,
   "metadata": {
    "scrolled": true
   },
   "outputs": [],
   "source": [
    "a[\"mean_bp\"] = a.groupby(\"audio_id\")[\"bp\"].transform(\"mean\")"
   ]
  },
  {
   "cell_type": "code",
   "execution_count": null,
   "metadata": {},
   "outputs": [],
   "source": []
  },
  {
   "cell_type": "code",
   "execution_count": 111,
   "metadata": {
    "scrolled": false
   },
   "outputs": [
    {
     "data": {
      "text/html": [
       "<div>\n",
       "<style scoped>\n",
       "    .dataframe tbody tr th:only-of-type {\n",
       "        vertical-align: middle;\n",
       "    }\n",
       "\n",
       "    .dataframe tbody tr th {\n",
       "        vertical-align: top;\n",
       "    }\n",
       "\n",
       "    .dataframe thead th {\n",
       "        text-align: right;\n",
       "    }\n",
       "</style>\n",
       "<table border=\"1\" class=\"dataframe\">\n",
       "  <thead>\n",
       "    <tr style=\"text-align: right;\">\n",
       "      <th></th>\n",
       "      <th>nocall_num</th>\n",
       "      <th>site</th>\n",
       "      <th>score</th>\n",
       "      <th>avg</th>\n",
       "      <th>avg_nc</th>\n",
       "      <th>voting</th>\n",
       "      <th>avg_postv12</th>\n",
       "      <th>cqw_avg</th>\n",
       "      <th>std_avg</th>\n",
       "      <th>distance_avg</th>\n",
       "      <th>distance_avg_nc</th>\n",
       "      <th>distance_cqw_avg</th>\n",
       "      <th>firstlabel_replace</th>\n",
       "      <th>nocall_birdcall_replace</th>\n",
       "      <th>birdcall_preds0.5_and_v5</th>\n",
       "      <th>modified_firstlabel_replace</th>\n",
       "      <th>cqw_and_modified_firstlabel_replace</th>\n",
       "    </tr>\n",
       "  </thead>\n",
       "  <tbody>\n",
       "    <tr>\n",
       "      <th>2782</th>\n",
       "      <td>0.0</td>\n",
       "      <td>SSW</td>\n",
       "      <td>0.442500</td>\n",
       "      <td>-0.079722</td>\n",
       "      <td>-0.070000</td>\n",
       "      <td>-0.161111</td>\n",
       "      <td>-0.074167</td>\n",
       "      <td>-0.104722</td>\n",
       "      <td>-0.015833</td>\n",
       "      <td>-0.082500</td>\n",
       "      <td>-0.082500</td>\n",
       "      <td>-0.159444</td>\n",
       "      <td>-0.061667</td>\n",
       "      <td>-0.375278</td>\n",
       "      <td>-0.188611</td>\n",
       "      <td>-0.188611</td>\n",
       "      <td>-0.133889</td>\n",
       "    </tr>\n",
       "    <tr>\n",
       "      <th>28933</th>\n",
       "      <td>18.0</td>\n",
       "      <td>SSW</td>\n",
       "      <td>0.538611</td>\n",
       "      <td>-0.067778</td>\n",
       "      <td>-0.076111</td>\n",
       "      <td>-0.110833</td>\n",
       "      <td>-0.056667</td>\n",
       "      <td>-0.084444</td>\n",
       "      <td>-0.054167</td>\n",
       "      <td>-0.048333</td>\n",
       "      <td>-0.062222</td>\n",
       "      <td>-0.096944</td>\n",
       "      <td>-0.027500</td>\n",
       "      <td>-0.228889</td>\n",
       "      <td>-0.109444</td>\n",
       "      <td>-0.109444</td>\n",
       "      <td>-0.067778</td>\n",
       "    </tr>\n",
       "    <tr>\n",
       "      <th>21767</th>\n",
       "      <td>22.0</td>\n",
       "      <td>COR</td>\n",
       "      <td>0.433333</td>\n",
       "      <td>-0.061111</td>\n",
       "      <td>-0.058333</td>\n",
       "      <td>-0.105556</td>\n",
       "      <td>-0.052778</td>\n",
       "      <td>-0.075000</td>\n",
       "      <td>-0.027778</td>\n",
       "      <td>-0.069444</td>\n",
       "      <td>-0.058333</td>\n",
       "      <td>-0.105556</td>\n",
       "      <td>-0.044444</td>\n",
       "      <td>-0.227778</td>\n",
       "      <td>-0.127778</td>\n",
       "      <td>-0.127778</td>\n",
       "      <td>-0.066667</td>\n",
       "    </tr>\n",
       "    <tr>\n",
       "      <th>18003</th>\n",
       "      <td>24.0</td>\n",
       "      <td>COR</td>\n",
       "      <td>0.708333</td>\n",
       "      <td>-0.038889</td>\n",
       "      <td>-0.038889</td>\n",
       "      <td>-0.075000</td>\n",
       "      <td>0.008333</td>\n",
       "      <td>-0.055556</td>\n",
       "      <td>0.041667</td>\n",
       "      <td>-0.055556</td>\n",
       "      <td>-0.055556</td>\n",
       "      <td>-0.063889</td>\n",
       "      <td>0.016667</td>\n",
       "      <td>-0.316667</td>\n",
       "      <td>-0.080556</td>\n",
       "      <td>-0.080556</td>\n",
       "      <td>-0.016667</td>\n",
       "    </tr>\n",
       "    <tr>\n",
       "      <th>51010</th>\n",
       "      <td>28.0</td>\n",
       "      <td>SSW</td>\n",
       "      <td>0.447222</td>\n",
       "      <td>-0.002778</td>\n",
       "      <td>-0.002778</td>\n",
       "      <td>0.011111</td>\n",
       "      <td>-0.197222</td>\n",
       "      <td>0.022222</td>\n",
       "      <td>-0.213889</td>\n",
       "      <td>-0.213889</td>\n",
       "      <td>-0.213889</td>\n",
       "      <td>0.022222</td>\n",
       "      <td>0.063889</td>\n",
       "      <td>-0.183333</td>\n",
       "      <td>0.005556</td>\n",
       "      <td>0.005556</td>\n",
       "      <td>0.019444</td>\n",
       "    </tr>\n",
       "    <tr>\n",
       "      <th>44957</th>\n",
       "      <td>49.0</td>\n",
       "      <td>COR</td>\n",
       "      <td>0.727778</td>\n",
       "      <td>0.052778</td>\n",
       "      <td>0.052778</td>\n",
       "      <td>0.008333</td>\n",
       "      <td>0.013889</td>\n",
       "      <td>0.044444</td>\n",
       "      <td>0.008333</td>\n",
       "      <td>0.027778</td>\n",
       "      <td>0.027778</td>\n",
       "      <td>0.036111</td>\n",
       "      <td>0.041667</td>\n",
       "      <td>-0.047222</td>\n",
       "      <td>0.027778</td>\n",
       "      <td>0.027778</td>\n",
       "      <td>0.019444</td>\n",
       "    </tr>\n",
       "    <tr>\n",
       "      <th>26709</th>\n",
       "      <td>62.0</td>\n",
       "      <td>SSW</td>\n",
       "      <td>0.477778</td>\n",
       "      <td>0.022222</td>\n",
       "      <td>0.047222</td>\n",
       "      <td>0.058333</td>\n",
       "      <td>0.022222</td>\n",
       "      <td>0.022222</td>\n",
       "      <td>0.022222</td>\n",
       "      <td>0.052778</td>\n",
       "      <td>0.069444</td>\n",
       "      <td>0.030556</td>\n",
       "      <td>0.033333</td>\n",
       "      <td>0.038889</td>\n",
       "      <td>0.030556</td>\n",
       "      <td>0.030556</td>\n",
       "      <td>0.022222</td>\n",
       "    </tr>\n",
       "    <tr>\n",
       "      <th>10534</th>\n",
       "      <td>63.0</td>\n",
       "      <td>SSW</td>\n",
       "      <td>0.675000</td>\n",
       "      <td>-0.013889</td>\n",
       "      <td>-0.022222</td>\n",
       "      <td>-0.019444</td>\n",
       "      <td>-0.130556</td>\n",
       "      <td>-0.013889</td>\n",
       "      <td>-0.013889</td>\n",
       "      <td>-0.025000</td>\n",
       "      <td>-0.038889</td>\n",
       "      <td>-0.005556</td>\n",
       "      <td>-0.013889</td>\n",
       "      <td>-0.083333</td>\n",
       "      <td>0.002778</td>\n",
       "      <td>0.002778</td>\n",
       "      <td>-0.005556</td>\n",
       "    </tr>\n",
       "    <tr>\n",
       "      <th>26746</th>\n",
       "      <td>71.0</td>\n",
       "      <td>COR</td>\n",
       "      <td>0.659722</td>\n",
       "      <td>0.008333</td>\n",
       "      <td>0.009722</td>\n",
       "      <td>0.009722</td>\n",
       "      <td>0.012500</td>\n",
       "      <td>0.026389</td>\n",
       "      <td>-0.037500</td>\n",
       "      <td>0.043056</td>\n",
       "      <td>0.043056</td>\n",
       "      <td>0.009722</td>\n",
       "      <td>0.043056</td>\n",
       "      <td>-0.045833</td>\n",
       "      <td>0.001389</td>\n",
       "      <td>0.001389</td>\n",
       "      <td>0.034722</td>\n",
       "    </tr>\n",
       "    <tr>\n",
       "      <th>42907</th>\n",
       "      <td>75.0</td>\n",
       "      <td>SSW</td>\n",
       "      <td>0.725000</td>\n",
       "      <td>-0.050000</td>\n",
       "      <td>-0.050000</td>\n",
       "      <td>0.038889</td>\n",
       "      <td>-0.100000</td>\n",
       "      <td>-0.008333</td>\n",
       "      <td>-0.100000</td>\n",
       "      <td>-0.100000</td>\n",
       "      <td>-0.100000</td>\n",
       "      <td>-0.008333</td>\n",
       "      <td>0.066667</td>\n",
       "      <td>-0.100000</td>\n",
       "      <td>-0.016667</td>\n",
       "      <td>-0.016667</td>\n",
       "      <td>0.025000</td>\n",
       "    </tr>\n",
       "    <tr>\n",
       "      <th>57610</th>\n",
       "      <td>93.0</td>\n",
       "      <td>COR</td>\n",
       "      <td>0.872222</td>\n",
       "      <td>0.041667</td>\n",
       "      <td>0.050000</td>\n",
       "      <td>0.041667</td>\n",
       "      <td>-0.016667</td>\n",
       "      <td>0.041667</td>\n",
       "      <td>0.044444</td>\n",
       "      <td>-0.097222</td>\n",
       "      <td>-0.097222</td>\n",
       "      <td>0.041667</td>\n",
       "      <td>0.033333</td>\n",
       "      <td>0.058333</td>\n",
       "      <td>0.050000</td>\n",
       "      <td>0.050000</td>\n",
       "      <td>0.050000</td>\n",
       "    </tr>\n",
       "    <tr>\n",
       "      <th>54955</th>\n",
       "      <td>100.0</td>\n",
       "      <td>SSW</td>\n",
       "      <td>0.825000</td>\n",
       "      <td>0.008333</td>\n",
       "      <td>0.008333</td>\n",
       "      <td>0.008333</td>\n",
       "      <td>0.000000</td>\n",
       "      <td>0.008333</td>\n",
       "      <td>0.008333</td>\n",
       "      <td>0.008333</td>\n",
       "      <td>0.008333</td>\n",
       "      <td>0.008333</td>\n",
       "      <td>0.008333</td>\n",
       "      <td>0.008333</td>\n",
       "      <td>0.008333</td>\n",
       "      <td>0.008333</td>\n",
       "      <td>0.008333</td>\n",
       "    </tr>\n",
       "    <tr>\n",
       "      <th>11254</th>\n",
       "      <td>105.0</td>\n",
       "      <td>COR</td>\n",
       "      <td>0.888889</td>\n",
       "      <td>0.019444</td>\n",
       "      <td>0.019444</td>\n",
       "      <td>0.011111</td>\n",
       "      <td>0.011111</td>\n",
       "      <td>0.019444</td>\n",
       "      <td>-0.013889</td>\n",
       "      <td>-0.011111</td>\n",
       "      <td>-0.016667</td>\n",
       "      <td>0.011111</td>\n",
       "      <td>-0.013889</td>\n",
       "      <td>-0.013889</td>\n",
       "      <td>0.011111</td>\n",
       "      <td>0.011111</td>\n",
       "      <td>0.002778</td>\n",
       "    </tr>\n",
       "    <tr>\n",
       "      <th>50878</th>\n",
       "      <td>115.0</td>\n",
       "      <td>COR</td>\n",
       "      <td>0.683333</td>\n",
       "      <td>0.208333</td>\n",
       "      <td>0.200000</td>\n",
       "      <td>0.141667</td>\n",
       "      <td>0.250000</td>\n",
       "      <td>0.191667</td>\n",
       "      <td>0.133333</td>\n",
       "      <td>0.250000</td>\n",
       "      <td>0.250000</td>\n",
       "      <td>0.191667</td>\n",
       "      <td>0.166667</td>\n",
       "      <td>0.283333</td>\n",
       "      <td>0.208333</td>\n",
       "      <td>0.208333</td>\n",
       "      <td>0.183333</td>\n",
       "    </tr>\n",
       "    <tr>\n",
       "      <th>20152</th>\n",
       "      <td>116.0</td>\n",
       "      <td>SSW</td>\n",
       "      <td>0.700000</td>\n",
       "      <td>0.200000</td>\n",
       "      <td>0.275000</td>\n",
       "      <td>0.225000</td>\n",
       "      <td>0.233333</td>\n",
       "      <td>0.200000</td>\n",
       "      <td>0.158333</td>\n",
       "      <td>0.233333</td>\n",
       "      <td>0.275000</td>\n",
       "      <td>0.233333</td>\n",
       "      <td>0.183333</td>\n",
       "      <td>0.266667</td>\n",
       "      <td>0.241667</td>\n",
       "      <td>0.241667</td>\n",
       "      <td>0.216667</td>\n",
       "    </tr>\n",
       "    <tr>\n",
       "      <th>7843</th>\n",
       "      <td>116.0</td>\n",
       "      <td>SSW</td>\n",
       "      <td>0.950000</td>\n",
       "      <td>0.016667</td>\n",
       "      <td>0.016667</td>\n",
       "      <td>0.025000</td>\n",
       "      <td>0.016667</td>\n",
       "      <td>0.016667</td>\n",
       "      <td>0.016667</td>\n",
       "      <td>0.025000</td>\n",
       "      <td>0.025000</td>\n",
       "      <td>0.016667</td>\n",
       "      <td>0.016667</td>\n",
       "      <td>0.016667</td>\n",
       "      <td>0.016667</td>\n",
       "      <td>0.016667</td>\n",
       "      <td>0.016667</td>\n",
       "    </tr>\n",
       "    <tr>\n",
       "      <th>31928</th>\n",
       "      <td>120.0</td>\n",
       "      <td>COR</td>\n",
       "      <td>0.533333</td>\n",
       "      <td>0.325000</td>\n",
       "      <td>0.358333</td>\n",
       "      <td>0.450000</td>\n",
       "      <td>0.466667</td>\n",
       "      <td>0.391667</td>\n",
       "      <td>0.075000</td>\n",
       "      <td>0.458333</td>\n",
       "      <td>0.458333</td>\n",
       "      <td>0.425000</td>\n",
       "      <td>0.425000</td>\n",
       "      <td>0.466667</td>\n",
       "      <td>0.458333</td>\n",
       "      <td>0.458333</td>\n",
       "      <td>0.458333</td>\n",
       "    </tr>\n",
       "  </tbody>\n",
       "</table>\n",
       "</div>"
      ],
      "text/plain": [
       "       nocall_num site     score       avg    avg_nc    voting  avg_postv12  \\\n",
       "2782          0.0  SSW  0.442500 -0.079722 -0.070000 -0.161111    -0.074167   \n",
       "28933        18.0  SSW  0.538611 -0.067778 -0.076111 -0.110833    -0.056667   \n",
       "21767        22.0  COR  0.433333 -0.061111 -0.058333 -0.105556    -0.052778   \n",
       "18003        24.0  COR  0.708333 -0.038889 -0.038889 -0.075000     0.008333   \n",
       "51010        28.0  SSW  0.447222 -0.002778 -0.002778  0.011111    -0.197222   \n",
       "44957        49.0  COR  0.727778  0.052778  0.052778  0.008333     0.013889   \n",
       "26709        62.0  SSW  0.477778  0.022222  0.047222  0.058333     0.022222   \n",
       "10534        63.0  SSW  0.675000 -0.013889 -0.022222 -0.019444    -0.130556   \n",
       "26746        71.0  COR  0.659722  0.008333  0.009722  0.009722     0.012500   \n",
       "42907        75.0  SSW  0.725000 -0.050000 -0.050000  0.038889    -0.100000   \n",
       "57610        93.0  COR  0.872222  0.041667  0.050000  0.041667    -0.016667   \n",
       "54955       100.0  SSW  0.825000  0.008333  0.008333  0.008333     0.000000   \n",
       "11254       105.0  COR  0.888889  0.019444  0.019444  0.011111     0.011111   \n",
       "50878       115.0  COR  0.683333  0.208333  0.200000  0.141667     0.250000   \n",
       "20152       116.0  SSW  0.700000  0.200000  0.275000  0.225000     0.233333   \n",
       "7843        116.0  SSW  0.950000  0.016667  0.016667  0.025000     0.016667   \n",
       "31928       120.0  COR  0.533333  0.325000  0.358333  0.450000     0.466667   \n",
       "\n",
       "        cqw_avg   std_avg  distance_avg  distance_avg_nc  distance_cqw_avg  \\\n",
       "2782  -0.104722 -0.015833     -0.082500        -0.082500         -0.159444   \n",
       "28933 -0.084444 -0.054167     -0.048333        -0.062222         -0.096944   \n",
       "21767 -0.075000 -0.027778     -0.069444        -0.058333         -0.105556   \n",
       "18003 -0.055556  0.041667     -0.055556        -0.055556         -0.063889   \n",
       "51010  0.022222 -0.213889     -0.213889        -0.213889          0.022222   \n",
       "44957  0.044444  0.008333      0.027778         0.027778          0.036111   \n",
       "26709  0.022222  0.022222      0.052778         0.069444          0.030556   \n",
       "10534 -0.013889 -0.013889     -0.025000        -0.038889         -0.005556   \n",
       "26746  0.026389 -0.037500      0.043056         0.043056          0.009722   \n",
       "42907 -0.008333 -0.100000     -0.100000        -0.100000         -0.008333   \n",
       "57610  0.041667  0.044444     -0.097222        -0.097222          0.041667   \n",
       "54955  0.008333  0.008333      0.008333         0.008333          0.008333   \n",
       "11254  0.019444 -0.013889     -0.011111        -0.016667          0.011111   \n",
       "50878  0.191667  0.133333      0.250000         0.250000          0.191667   \n",
       "20152  0.200000  0.158333      0.233333         0.275000          0.233333   \n",
       "7843   0.016667  0.016667      0.025000         0.025000          0.016667   \n",
       "31928  0.391667  0.075000      0.458333         0.458333          0.425000   \n",
       "\n",
       "       firstlabel_replace  nocall_birdcall_replace  birdcall_preds0.5_and_v5  \\\n",
       "2782            -0.061667                -0.375278                 -0.188611   \n",
       "28933           -0.027500                -0.228889                 -0.109444   \n",
       "21767           -0.044444                -0.227778                 -0.127778   \n",
       "18003            0.016667                -0.316667                 -0.080556   \n",
       "51010            0.063889                -0.183333                  0.005556   \n",
       "44957            0.041667                -0.047222                  0.027778   \n",
       "26709            0.033333                 0.038889                  0.030556   \n",
       "10534           -0.013889                -0.083333                  0.002778   \n",
       "26746            0.043056                -0.045833                  0.001389   \n",
       "42907            0.066667                -0.100000                 -0.016667   \n",
       "57610            0.033333                 0.058333                  0.050000   \n",
       "54955            0.008333                 0.008333                  0.008333   \n",
       "11254           -0.013889                -0.013889                  0.011111   \n",
       "50878            0.166667                 0.283333                  0.208333   \n",
       "20152            0.183333                 0.266667                  0.241667   \n",
       "7843             0.016667                 0.016667                  0.016667   \n",
       "31928            0.425000                 0.466667                  0.458333   \n",
       "\n",
       "       modified_firstlabel_replace  cqw_and_modified_firstlabel_replace  \n",
       "2782                     -0.188611                            -0.133889  \n",
       "28933                    -0.109444                            -0.067778  \n",
       "21767                    -0.127778                            -0.066667  \n",
       "18003                    -0.080556                            -0.016667  \n",
       "51010                     0.005556                             0.019444  \n",
       "44957                     0.027778                             0.019444  \n",
       "26709                     0.030556                             0.022222  \n",
       "10534                     0.002778                            -0.005556  \n",
       "26746                     0.001389                             0.034722  \n",
       "42907                    -0.016667                             0.025000  \n",
       "57610                     0.050000                             0.050000  \n",
       "54955                     0.008333                             0.008333  \n",
       "11254                     0.011111                             0.002778  \n",
       "50878                     0.208333                             0.183333  \n",
       "20152                     0.241667                             0.216667  \n",
       "7843                      0.016667                             0.016667  \n",
       "31928                     0.458333                             0.458333  "
      ]
     },
     "execution_count": 111,
     "metadata": {},
     "output_type": "execute_result"
    }
   ],
   "source": [
    "diff_df = pd.DataFrame.from_dict(all_diff_scores)\n",
    "columns = list(diff_df.columns)\n",
    "\n",
    "diff_df = pd.concat([\n",
    "    valid_df[valid_df[\"birds\"] == \"nocall\"].groupby(\"audio_id\").size(),\n",
    "    valid_df.groupby(\"audio_id\")[\"site\"].unique(),\n",
    "    pd.DataFrame.from_dict(score_dict, orient=\"index\", columns=[\"score\"]),\n",
    "    diff_df,\n",
    "], axis=1)\n",
    "\n",
    "diff_df.columns = [\"nocall_num\", \"site\", \"score\"] + columns\n",
    "\n",
    "diff_df[\"nocall_num\"] = diff_df[\"nocall_num\"].fillna(0)\n",
    "diff_df[\"site\"] = diff_df[\"site\"].apply(lambda x: x[0])\n",
    "\n",
    "diff_df.sort_values(by=\"nocall_num\")"
   ]
  },
  {
   "cell_type": "code",
   "execution_count": 112,
   "metadata": {},
   "outputs": [
    {
     "data": {
      "text/html": [
       "<div>\n",
       "<style scoped>\n",
       "    .dataframe tbody tr th:only-of-type {\n",
       "        vertical-align: middle;\n",
       "    }\n",
       "\n",
       "    .dataframe tbody tr th {\n",
       "        vertical-align: top;\n",
       "    }\n",
       "\n",
       "    .dataframe thead th {\n",
       "        text-align: right;\n",
       "    }\n",
       "</style>\n",
       "<table border=\"1\" class=\"dataframe\">\n",
       "  <thead>\n",
       "    <tr style=\"text-align: right;\">\n",
       "      <th></th>\n",
       "      <th>nocall_num</th>\n",
       "      <th>site</th>\n",
       "      <th>score</th>\n",
       "      <th>avg</th>\n",
       "      <th>avg_nc</th>\n",
       "      <th>voting</th>\n",
       "      <th>avg_postv12</th>\n",
       "      <th>cqw_avg</th>\n",
       "      <th>std_avg</th>\n",
       "      <th>distance_avg</th>\n",
       "      <th>distance_avg_nc</th>\n",
       "      <th>distance_cqw_avg</th>\n",
       "      <th>firstlabel_replace</th>\n",
       "      <th>nocall_birdcall_replace</th>\n",
       "      <th>birdcall_preds0.5_and_v5</th>\n",
       "      <th>modified_firstlabel_replace</th>\n",
       "      <th>cqw_and_modified_firstlabel_replace</th>\n",
       "    </tr>\n",
       "  </thead>\n",
       "  <tbody>\n",
       "    <tr>\n",
       "      <th>7843</th>\n",
       "      <td>116.0</td>\n",
       "      <td>SSW</td>\n",
       "      <td>0.950000</td>\n",
       "      <td>0.016667</td>\n",
       "      <td>0.016667</td>\n",
       "      <td>0.025000</td>\n",
       "      <td>0.016667</td>\n",
       "      <td>0.016667</td>\n",
       "      <td>0.016667</td>\n",
       "      <td>0.025000</td>\n",
       "      <td>0.025000</td>\n",
       "      <td>0.016667</td>\n",
       "      <td>0.016667</td>\n",
       "      <td>0.016667</td>\n",
       "      <td>0.016667</td>\n",
       "      <td>0.016667</td>\n",
       "      <td>0.016667</td>\n",
       "    </tr>\n",
       "    <tr>\n",
       "      <th>11254</th>\n",
       "      <td>105.0</td>\n",
       "      <td>COR</td>\n",
       "      <td>0.888889</td>\n",
       "      <td>0.019444</td>\n",
       "      <td>0.019444</td>\n",
       "      <td>0.011111</td>\n",
       "      <td>0.011111</td>\n",
       "      <td>0.019444</td>\n",
       "      <td>-0.013889</td>\n",
       "      <td>-0.011111</td>\n",
       "      <td>-0.016667</td>\n",
       "      <td>0.011111</td>\n",
       "      <td>-0.013889</td>\n",
       "      <td>-0.013889</td>\n",
       "      <td>0.011111</td>\n",
       "      <td>0.011111</td>\n",
       "      <td>0.002778</td>\n",
       "    </tr>\n",
       "    <tr>\n",
       "      <th>20152</th>\n",
       "      <td>116.0</td>\n",
       "      <td>SSW</td>\n",
       "      <td>0.700000</td>\n",
       "      <td>0.200000</td>\n",
       "      <td>0.275000</td>\n",
       "      <td>0.225000</td>\n",
       "      <td>0.233333</td>\n",
       "      <td>0.200000</td>\n",
       "      <td>0.158333</td>\n",
       "      <td>0.233333</td>\n",
       "      <td>0.275000</td>\n",
       "      <td>0.233333</td>\n",
       "      <td>0.183333</td>\n",
       "      <td>0.266667</td>\n",
       "      <td>0.241667</td>\n",
       "      <td>0.241667</td>\n",
       "      <td>0.216667</td>\n",
       "    </tr>\n",
       "    <tr>\n",
       "      <th>31928</th>\n",
       "      <td>120.0</td>\n",
       "      <td>COR</td>\n",
       "      <td>0.533333</td>\n",
       "      <td>0.325000</td>\n",
       "      <td>0.358333</td>\n",
       "      <td>0.450000</td>\n",
       "      <td>0.466667</td>\n",
       "      <td>0.391667</td>\n",
       "      <td>0.075000</td>\n",
       "      <td>0.458333</td>\n",
       "      <td>0.458333</td>\n",
       "      <td>0.425000</td>\n",
       "      <td>0.425000</td>\n",
       "      <td>0.466667</td>\n",
       "      <td>0.458333</td>\n",
       "      <td>0.458333</td>\n",
       "      <td>0.458333</td>\n",
       "    </tr>\n",
       "    <tr>\n",
       "      <th>50878</th>\n",
       "      <td>115.0</td>\n",
       "      <td>COR</td>\n",
       "      <td>0.683333</td>\n",
       "      <td>0.208333</td>\n",
       "      <td>0.200000</td>\n",
       "      <td>0.141667</td>\n",
       "      <td>0.250000</td>\n",
       "      <td>0.191667</td>\n",
       "      <td>0.133333</td>\n",
       "      <td>0.250000</td>\n",
       "      <td>0.250000</td>\n",
       "      <td>0.191667</td>\n",
       "      <td>0.166667</td>\n",
       "      <td>0.283333</td>\n",
       "      <td>0.208333</td>\n",
       "      <td>0.208333</td>\n",
       "      <td>0.183333</td>\n",
       "    </tr>\n",
       "    <tr>\n",
       "      <th>54955</th>\n",
       "      <td>100.0</td>\n",
       "      <td>SSW</td>\n",
       "      <td>0.825000</td>\n",
       "      <td>0.008333</td>\n",
       "      <td>0.008333</td>\n",
       "      <td>0.008333</td>\n",
       "      <td>0.000000</td>\n",
       "      <td>0.008333</td>\n",
       "      <td>0.008333</td>\n",
       "      <td>0.008333</td>\n",
       "      <td>0.008333</td>\n",
       "      <td>0.008333</td>\n",
       "      <td>0.008333</td>\n",
       "      <td>0.008333</td>\n",
       "      <td>0.008333</td>\n",
       "      <td>0.008333</td>\n",
       "      <td>0.008333</td>\n",
       "    </tr>\n",
       "  </tbody>\n",
       "</table>\n",
       "</div>"
      ],
      "text/plain": [
       "       nocall_num site     score       avg    avg_nc    voting  avg_postv12  \\\n",
       "7843        116.0  SSW  0.950000  0.016667  0.016667  0.025000     0.016667   \n",
       "11254       105.0  COR  0.888889  0.019444  0.019444  0.011111     0.011111   \n",
       "20152       116.0  SSW  0.700000  0.200000  0.275000  0.225000     0.233333   \n",
       "31928       120.0  COR  0.533333  0.325000  0.358333  0.450000     0.466667   \n",
       "50878       115.0  COR  0.683333  0.208333  0.200000  0.141667     0.250000   \n",
       "54955       100.0  SSW  0.825000  0.008333  0.008333  0.008333     0.000000   \n",
       "\n",
       "        cqw_avg   std_avg  distance_avg  distance_avg_nc  distance_cqw_avg  \\\n",
       "7843   0.016667  0.016667      0.025000         0.025000          0.016667   \n",
       "11254  0.019444 -0.013889     -0.011111        -0.016667          0.011111   \n",
       "20152  0.200000  0.158333      0.233333         0.275000          0.233333   \n",
       "31928  0.391667  0.075000      0.458333         0.458333          0.425000   \n",
       "50878  0.191667  0.133333      0.250000         0.250000          0.191667   \n",
       "54955  0.008333  0.008333      0.008333         0.008333          0.008333   \n",
       "\n",
       "       firstlabel_replace  nocall_birdcall_replace  birdcall_preds0.5_and_v5  \\\n",
       "7843             0.016667                 0.016667                  0.016667   \n",
       "11254           -0.013889                -0.013889                  0.011111   \n",
       "20152            0.183333                 0.266667                  0.241667   \n",
       "31928            0.425000                 0.466667                  0.458333   \n",
       "50878            0.166667                 0.283333                  0.208333   \n",
       "54955            0.008333                 0.008333                  0.008333   \n",
       "\n",
       "       modified_firstlabel_replace  cqw_and_modified_firstlabel_replace  \n",
       "7843                      0.016667                             0.016667  \n",
       "11254                     0.011111                             0.002778  \n",
       "20152                     0.241667                             0.216667  \n",
       "31928                     0.458333                             0.458333  \n",
       "50878                     0.208333                             0.183333  \n",
       "54955                     0.008333                             0.008333  "
      ]
     },
     "execution_count": 112,
     "metadata": {},
     "output_type": "execute_result"
    }
   ],
   "source": [
    "diff_df[diff_df[\"nocall_num\"] >= 100]"
   ]
  },
  {
   "cell_type": "code",
   "execution_count": 113,
   "metadata": {},
   "outputs": [
    {
     "data": {
      "text/html": [
       "<div>\n",
       "<style scoped>\n",
       "    .dataframe tbody tr th:only-of-type {\n",
       "        vertical-align: middle;\n",
       "    }\n",
       "\n",
       "    .dataframe tbody tr th {\n",
       "        vertical-align: top;\n",
       "    }\n",
       "\n",
       "    .dataframe thead th {\n",
       "        text-align: right;\n",
       "    }\n",
       "</style>\n",
       "<table border=\"1\" class=\"dataframe\">\n",
       "  <thead>\n",
       "    <tr style=\"text-align: right;\">\n",
       "      <th></th>\n",
       "      <th>nocall_num</th>\n",
       "      <th>site</th>\n",
       "      <th>score</th>\n",
       "      <th>avg</th>\n",
       "      <th>avg_nc</th>\n",
       "      <th>voting</th>\n",
       "      <th>avg_postv12</th>\n",
       "      <th>cqw_avg</th>\n",
       "      <th>std_avg</th>\n",
       "      <th>distance_avg</th>\n",
       "      <th>distance_avg_nc</th>\n",
       "      <th>distance_cqw_avg</th>\n",
       "      <th>firstlabel_replace</th>\n",
       "      <th>nocall_birdcall_replace</th>\n",
       "      <th>birdcall_preds0.5_and_v5</th>\n",
       "      <th>modified_firstlabel_replace</th>\n",
       "      <th>cqw_and_modified_firstlabel_replace</th>\n",
       "    </tr>\n",
       "  </thead>\n",
       "  <tbody>\n",
       "    <tr>\n",
       "      <th>2782</th>\n",
       "      <td>0.0</td>\n",
       "      <td>SSW</td>\n",
       "      <td>0.442500</td>\n",
       "      <td>-0.079722</td>\n",
       "      <td>-0.070000</td>\n",
       "      <td>-0.161111</td>\n",
       "      <td>-0.074167</td>\n",
       "      <td>-0.104722</td>\n",
       "      <td>-0.015833</td>\n",
       "      <td>-0.082500</td>\n",
       "      <td>-0.082500</td>\n",
       "      <td>-0.159444</td>\n",
       "      <td>-0.061667</td>\n",
       "      <td>-0.375278</td>\n",
       "      <td>-0.188611</td>\n",
       "      <td>-0.188611</td>\n",
       "      <td>-0.133889</td>\n",
       "    </tr>\n",
       "    <tr>\n",
       "      <th>28933</th>\n",
       "      <td>18.0</td>\n",
       "      <td>SSW</td>\n",
       "      <td>0.538611</td>\n",
       "      <td>-0.067778</td>\n",
       "      <td>-0.076111</td>\n",
       "      <td>-0.110833</td>\n",
       "      <td>-0.056667</td>\n",
       "      <td>-0.084444</td>\n",
       "      <td>-0.054167</td>\n",
       "      <td>-0.048333</td>\n",
       "      <td>-0.062222</td>\n",
       "      <td>-0.096944</td>\n",
       "      <td>-0.027500</td>\n",
       "      <td>-0.228889</td>\n",
       "      <td>-0.109444</td>\n",
       "      <td>-0.109444</td>\n",
       "      <td>-0.067778</td>\n",
       "    </tr>\n",
       "    <tr>\n",
       "      <th>51010</th>\n",
       "      <td>28.0</td>\n",
       "      <td>SSW</td>\n",
       "      <td>0.447222</td>\n",
       "      <td>-0.002778</td>\n",
       "      <td>-0.002778</td>\n",
       "      <td>0.011111</td>\n",
       "      <td>-0.197222</td>\n",
       "      <td>0.022222</td>\n",
       "      <td>-0.213889</td>\n",
       "      <td>-0.213889</td>\n",
       "      <td>-0.213889</td>\n",
       "      <td>0.022222</td>\n",
       "      <td>0.063889</td>\n",
       "      <td>-0.183333</td>\n",
       "      <td>0.005556</td>\n",
       "      <td>0.005556</td>\n",
       "      <td>0.019444</td>\n",
       "    </tr>\n",
       "    <tr>\n",
       "      <th>26709</th>\n",
       "      <td>62.0</td>\n",
       "      <td>SSW</td>\n",
       "      <td>0.477778</td>\n",
       "      <td>0.022222</td>\n",
       "      <td>0.047222</td>\n",
       "      <td>0.058333</td>\n",
       "      <td>0.022222</td>\n",
       "      <td>0.022222</td>\n",
       "      <td>0.022222</td>\n",
       "      <td>0.052778</td>\n",
       "      <td>0.069444</td>\n",
       "      <td>0.030556</td>\n",
       "      <td>0.033333</td>\n",
       "      <td>0.038889</td>\n",
       "      <td>0.030556</td>\n",
       "      <td>0.030556</td>\n",
       "      <td>0.022222</td>\n",
       "    </tr>\n",
       "    <tr>\n",
       "      <th>10534</th>\n",
       "      <td>63.0</td>\n",
       "      <td>SSW</td>\n",
       "      <td>0.675000</td>\n",
       "      <td>-0.013889</td>\n",
       "      <td>-0.022222</td>\n",
       "      <td>-0.019444</td>\n",
       "      <td>-0.130556</td>\n",
       "      <td>-0.013889</td>\n",
       "      <td>-0.013889</td>\n",
       "      <td>-0.025000</td>\n",
       "      <td>-0.038889</td>\n",
       "      <td>-0.005556</td>\n",
       "      <td>-0.013889</td>\n",
       "      <td>-0.083333</td>\n",
       "      <td>0.002778</td>\n",
       "      <td>0.002778</td>\n",
       "      <td>-0.005556</td>\n",
       "    </tr>\n",
       "    <tr>\n",
       "      <th>42907</th>\n",
       "      <td>75.0</td>\n",
       "      <td>SSW</td>\n",
       "      <td>0.725000</td>\n",
       "      <td>-0.050000</td>\n",
       "      <td>-0.050000</td>\n",
       "      <td>0.038889</td>\n",
       "      <td>-0.100000</td>\n",
       "      <td>-0.008333</td>\n",
       "      <td>-0.100000</td>\n",
       "      <td>-0.100000</td>\n",
       "      <td>-0.100000</td>\n",
       "      <td>-0.008333</td>\n",
       "      <td>0.066667</td>\n",
       "      <td>-0.100000</td>\n",
       "      <td>-0.016667</td>\n",
       "      <td>-0.016667</td>\n",
       "      <td>0.025000</td>\n",
       "    </tr>\n",
       "    <tr>\n",
       "      <th>54955</th>\n",
       "      <td>100.0</td>\n",
       "      <td>SSW</td>\n",
       "      <td>0.825000</td>\n",
       "      <td>0.008333</td>\n",
       "      <td>0.008333</td>\n",
       "      <td>0.008333</td>\n",
       "      <td>0.000000</td>\n",
       "      <td>0.008333</td>\n",
       "      <td>0.008333</td>\n",
       "      <td>0.008333</td>\n",
       "      <td>0.008333</td>\n",
       "      <td>0.008333</td>\n",
       "      <td>0.008333</td>\n",
       "      <td>0.008333</td>\n",
       "      <td>0.008333</td>\n",
       "      <td>0.008333</td>\n",
       "      <td>0.008333</td>\n",
       "    </tr>\n",
       "    <tr>\n",
       "      <th>7843</th>\n",
       "      <td>116.0</td>\n",
       "      <td>SSW</td>\n",
       "      <td>0.950000</td>\n",
       "      <td>0.016667</td>\n",
       "      <td>0.016667</td>\n",
       "      <td>0.025000</td>\n",
       "      <td>0.016667</td>\n",
       "      <td>0.016667</td>\n",
       "      <td>0.016667</td>\n",
       "      <td>0.025000</td>\n",
       "      <td>0.025000</td>\n",
       "      <td>0.016667</td>\n",
       "      <td>0.016667</td>\n",
       "      <td>0.016667</td>\n",
       "      <td>0.016667</td>\n",
       "      <td>0.016667</td>\n",
       "      <td>0.016667</td>\n",
       "    </tr>\n",
       "    <tr>\n",
       "      <th>20152</th>\n",
       "      <td>116.0</td>\n",
       "      <td>SSW</td>\n",
       "      <td>0.700000</td>\n",
       "      <td>0.200000</td>\n",
       "      <td>0.275000</td>\n",
       "      <td>0.225000</td>\n",
       "      <td>0.233333</td>\n",
       "      <td>0.200000</td>\n",
       "      <td>0.158333</td>\n",
       "      <td>0.233333</td>\n",
       "      <td>0.275000</td>\n",
       "      <td>0.233333</td>\n",
       "      <td>0.183333</td>\n",
       "      <td>0.266667</td>\n",
       "      <td>0.241667</td>\n",
       "      <td>0.241667</td>\n",
       "      <td>0.216667</td>\n",
       "    </tr>\n",
       "  </tbody>\n",
       "</table>\n",
       "</div>"
      ],
      "text/plain": [
       "       nocall_num site     score       avg    avg_nc    voting  avg_postv12  \\\n",
       "2782          0.0  SSW  0.442500 -0.079722 -0.070000 -0.161111    -0.074167   \n",
       "28933        18.0  SSW  0.538611 -0.067778 -0.076111 -0.110833    -0.056667   \n",
       "51010        28.0  SSW  0.447222 -0.002778 -0.002778  0.011111    -0.197222   \n",
       "26709        62.0  SSW  0.477778  0.022222  0.047222  0.058333     0.022222   \n",
       "10534        63.0  SSW  0.675000 -0.013889 -0.022222 -0.019444    -0.130556   \n",
       "42907        75.0  SSW  0.725000 -0.050000 -0.050000  0.038889    -0.100000   \n",
       "54955       100.0  SSW  0.825000  0.008333  0.008333  0.008333     0.000000   \n",
       "7843        116.0  SSW  0.950000  0.016667  0.016667  0.025000     0.016667   \n",
       "20152       116.0  SSW  0.700000  0.200000  0.275000  0.225000     0.233333   \n",
       "\n",
       "        cqw_avg   std_avg  distance_avg  distance_avg_nc  distance_cqw_avg  \\\n",
       "2782  -0.104722 -0.015833     -0.082500        -0.082500         -0.159444   \n",
       "28933 -0.084444 -0.054167     -0.048333        -0.062222         -0.096944   \n",
       "51010  0.022222 -0.213889     -0.213889        -0.213889          0.022222   \n",
       "26709  0.022222  0.022222      0.052778         0.069444          0.030556   \n",
       "10534 -0.013889 -0.013889     -0.025000        -0.038889         -0.005556   \n",
       "42907 -0.008333 -0.100000     -0.100000        -0.100000         -0.008333   \n",
       "54955  0.008333  0.008333      0.008333         0.008333          0.008333   \n",
       "7843   0.016667  0.016667      0.025000         0.025000          0.016667   \n",
       "20152  0.200000  0.158333      0.233333         0.275000          0.233333   \n",
       "\n",
       "       firstlabel_replace  nocall_birdcall_replace  birdcall_preds0.5_and_v5  \\\n",
       "2782            -0.061667                -0.375278                 -0.188611   \n",
       "28933           -0.027500                -0.228889                 -0.109444   \n",
       "51010            0.063889                -0.183333                  0.005556   \n",
       "26709            0.033333                 0.038889                  0.030556   \n",
       "10534           -0.013889                -0.083333                  0.002778   \n",
       "42907            0.066667                -0.100000                 -0.016667   \n",
       "54955            0.008333                 0.008333                  0.008333   \n",
       "7843             0.016667                 0.016667                  0.016667   \n",
       "20152            0.183333                 0.266667                  0.241667   \n",
       "\n",
       "       modified_firstlabel_replace  cqw_and_modified_firstlabel_replace  \n",
       "2782                     -0.188611                            -0.133889  \n",
       "28933                    -0.109444                            -0.067778  \n",
       "51010                     0.005556                             0.019444  \n",
       "26709                     0.030556                             0.022222  \n",
       "10534                     0.002778                            -0.005556  \n",
       "42907                    -0.016667                             0.025000  \n",
       "54955                     0.008333                             0.008333  \n",
       "7843                      0.016667                             0.016667  \n",
       "20152                     0.241667                             0.216667  "
      ]
     },
     "execution_count": 113,
     "metadata": {},
     "output_type": "execute_result"
    }
   ],
   "source": [
    "diff_df[diff_df[\"site\"] == \"SSW\"].sort_values(by=\"nocall_num\")"
   ]
  },
  {
   "cell_type": "code",
   "execution_count": 114,
   "metadata": {},
   "outputs": [
    {
     "data": {
      "text/html": [
       "<div>\n",
       "<style scoped>\n",
       "    .dataframe tbody tr th:only-of-type {\n",
       "        vertical-align: middle;\n",
       "    }\n",
       "\n",
       "    .dataframe tbody tr th {\n",
       "        vertical-align: top;\n",
       "    }\n",
       "\n",
       "    .dataframe thead th {\n",
       "        text-align: right;\n",
       "    }\n",
       "</style>\n",
       "<table border=\"1\" class=\"dataframe\">\n",
       "  <thead>\n",
       "    <tr style=\"text-align: right;\">\n",
       "      <th></th>\n",
       "      <th>nocall_num</th>\n",
       "      <th>site</th>\n",
       "      <th>score</th>\n",
       "      <th>avg</th>\n",
       "      <th>avg_nc</th>\n",
       "      <th>voting</th>\n",
       "      <th>avg_postv12</th>\n",
       "      <th>cqw_avg</th>\n",
       "      <th>std_avg</th>\n",
       "      <th>distance_avg</th>\n",
       "      <th>distance_avg_nc</th>\n",
       "      <th>distance_cqw_avg</th>\n",
       "      <th>firstlabel_replace</th>\n",
       "      <th>nocall_birdcall_replace</th>\n",
       "      <th>birdcall_preds0.5_and_v5</th>\n",
       "      <th>modified_firstlabel_replace</th>\n",
       "      <th>cqw_and_modified_firstlabel_replace</th>\n",
       "    </tr>\n",
       "  </thead>\n",
       "  <tbody>\n",
       "    <tr>\n",
       "      <th>21767</th>\n",
       "      <td>22.0</td>\n",
       "      <td>COR</td>\n",
       "      <td>0.433333</td>\n",
       "      <td>-0.061111</td>\n",
       "      <td>-0.058333</td>\n",
       "      <td>-0.105556</td>\n",
       "      <td>-0.052778</td>\n",
       "      <td>-0.075000</td>\n",
       "      <td>-0.027778</td>\n",
       "      <td>-0.069444</td>\n",
       "      <td>-0.058333</td>\n",
       "      <td>-0.105556</td>\n",
       "      <td>-0.044444</td>\n",
       "      <td>-0.227778</td>\n",
       "      <td>-0.127778</td>\n",
       "      <td>-0.127778</td>\n",
       "      <td>-0.066667</td>\n",
       "    </tr>\n",
       "    <tr>\n",
       "      <th>18003</th>\n",
       "      <td>24.0</td>\n",
       "      <td>COR</td>\n",
       "      <td>0.708333</td>\n",
       "      <td>-0.038889</td>\n",
       "      <td>-0.038889</td>\n",
       "      <td>-0.075000</td>\n",
       "      <td>0.008333</td>\n",
       "      <td>-0.055556</td>\n",
       "      <td>0.041667</td>\n",
       "      <td>-0.055556</td>\n",
       "      <td>-0.055556</td>\n",
       "      <td>-0.063889</td>\n",
       "      <td>0.016667</td>\n",
       "      <td>-0.316667</td>\n",
       "      <td>-0.080556</td>\n",
       "      <td>-0.080556</td>\n",
       "      <td>-0.016667</td>\n",
       "    </tr>\n",
       "    <tr>\n",
       "      <th>44957</th>\n",
       "      <td>49.0</td>\n",
       "      <td>COR</td>\n",
       "      <td>0.727778</td>\n",
       "      <td>0.052778</td>\n",
       "      <td>0.052778</td>\n",
       "      <td>0.008333</td>\n",
       "      <td>0.013889</td>\n",
       "      <td>0.044444</td>\n",
       "      <td>0.008333</td>\n",
       "      <td>0.027778</td>\n",
       "      <td>0.027778</td>\n",
       "      <td>0.036111</td>\n",
       "      <td>0.041667</td>\n",
       "      <td>-0.047222</td>\n",
       "      <td>0.027778</td>\n",
       "      <td>0.027778</td>\n",
       "      <td>0.019444</td>\n",
       "    </tr>\n",
       "    <tr>\n",
       "      <th>26746</th>\n",
       "      <td>71.0</td>\n",
       "      <td>COR</td>\n",
       "      <td>0.659722</td>\n",
       "      <td>0.008333</td>\n",
       "      <td>0.009722</td>\n",
       "      <td>0.009722</td>\n",
       "      <td>0.012500</td>\n",
       "      <td>0.026389</td>\n",
       "      <td>-0.037500</td>\n",
       "      <td>0.043056</td>\n",
       "      <td>0.043056</td>\n",
       "      <td>0.009722</td>\n",
       "      <td>0.043056</td>\n",
       "      <td>-0.045833</td>\n",
       "      <td>0.001389</td>\n",
       "      <td>0.001389</td>\n",
       "      <td>0.034722</td>\n",
       "    </tr>\n",
       "    <tr>\n",
       "      <th>57610</th>\n",
       "      <td>93.0</td>\n",
       "      <td>COR</td>\n",
       "      <td>0.872222</td>\n",
       "      <td>0.041667</td>\n",
       "      <td>0.050000</td>\n",
       "      <td>0.041667</td>\n",
       "      <td>-0.016667</td>\n",
       "      <td>0.041667</td>\n",
       "      <td>0.044444</td>\n",
       "      <td>-0.097222</td>\n",
       "      <td>-0.097222</td>\n",
       "      <td>0.041667</td>\n",
       "      <td>0.033333</td>\n",
       "      <td>0.058333</td>\n",
       "      <td>0.050000</td>\n",
       "      <td>0.050000</td>\n",
       "      <td>0.050000</td>\n",
       "    </tr>\n",
       "    <tr>\n",
       "      <th>11254</th>\n",
       "      <td>105.0</td>\n",
       "      <td>COR</td>\n",
       "      <td>0.888889</td>\n",
       "      <td>0.019444</td>\n",
       "      <td>0.019444</td>\n",
       "      <td>0.011111</td>\n",
       "      <td>0.011111</td>\n",
       "      <td>0.019444</td>\n",
       "      <td>-0.013889</td>\n",
       "      <td>-0.011111</td>\n",
       "      <td>-0.016667</td>\n",
       "      <td>0.011111</td>\n",
       "      <td>-0.013889</td>\n",
       "      <td>-0.013889</td>\n",
       "      <td>0.011111</td>\n",
       "      <td>0.011111</td>\n",
       "      <td>0.002778</td>\n",
       "    </tr>\n",
       "    <tr>\n",
       "      <th>50878</th>\n",
       "      <td>115.0</td>\n",
       "      <td>COR</td>\n",
       "      <td>0.683333</td>\n",
       "      <td>0.208333</td>\n",
       "      <td>0.200000</td>\n",
       "      <td>0.141667</td>\n",
       "      <td>0.250000</td>\n",
       "      <td>0.191667</td>\n",
       "      <td>0.133333</td>\n",
       "      <td>0.250000</td>\n",
       "      <td>0.250000</td>\n",
       "      <td>0.191667</td>\n",
       "      <td>0.166667</td>\n",
       "      <td>0.283333</td>\n",
       "      <td>0.208333</td>\n",
       "      <td>0.208333</td>\n",
       "      <td>0.183333</td>\n",
       "    </tr>\n",
       "    <tr>\n",
       "      <th>31928</th>\n",
       "      <td>120.0</td>\n",
       "      <td>COR</td>\n",
       "      <td>0.533333</td>\n",
       "      <td>0.325000</td>\n",
       "      <td>0.358333</td>\n",
       "      <td>0.450000</td>\n",
       "      <td>0.466667</td>\n",
       "      <td>0.391667</td>\n",
       "      <td>0.075000</td>\n",
       "      <td>0.458333</td>\n",
       "      <td>0.458333</td>\n",
       "      <td>0.425000</td>\n",
       "      <td>0.425000</td>\n",
       "      <td>0.466667</td>\n",
       "      <td>0.458333</td>\n",
       "      <td>0.458333</td>\n",
       "      <td>0.458333</td>\n",
       "    </tr>\n",
       "  </tbody>\n",
       "</table>\n",
       "</div>"
      ],
      "text/plain": [
       "       nocall_num site     score       avg    avg_nc    voting  avg_postv12  \\\n",
       "21767        22.0  COR  0.433333 -0.061111 -0.058333 -0.105556    -0.052778   \n",
       "18003        24.0  COR  0.708333 -0.038889 -0.038889 -0.075000     0.008333   \n",
       "44957        49.0  COR  0.727778  0.052778  0.052778  0.008333     0.013889   \n",
       "26746        71.0  COR  0.659722  0.008333  0.009722  0.009722     0.012500   \n",
       "57610        93.0  COR  0.872222  0.041667  0.050000  0.041667    -0.016667   \n",
       "11254       105.0  COR  0.888889  0.019444  0.019444  0.011111     0.011111   \n",
       "50878       115.0  COR  0.683333  0.208333  0.200000  0.141667     0.250000   \n",
       "31928       120.0  COR  0.533333  0.325000  0.358333  0.450000     0.466667   \n",
       "\n",
       "        cqw_avg   std_avg  distance_avg  distance_avg_nc  distance_cqw_avg  \\\n",
       "21767 -0.075000 -0.027778     -0.069444        -0.058333         -0.105556   \n",
       "18003 -0.055556  0.041667     -0.055556        -0.055556         -0.063889   \n",
       "44957  0.044444  0.008333      0.027778         0.027778          0.036111   \n",
       "26746  0.026389 -0.037500      0.043056         0.043056          0.009722   \n",
       "57610  0.041667  0.044444     -0.097222        -0.097222          0.041667   \n",
       "11254  0.019444 -0.013889     -0.011111        -0.016667          0.011111   \n",
       "50878  0.191667  0.133333      0.250000         0.250000          0.191667   \n",
       "31928  0.391667  0.075000      0.458333         0.458333          0.425000   \n",
       "\n",
       "       firstlabel_replace  nocall_birdcall_replace  birdcall_preds0.5_and_v5  \\\n",
       "21767           -0.044444                -0.227778                 -0.127778   \n",
       "18003            0.016667                -0.316667                 -0.080556   \n",
       "44957            0.041667                -0.047222                  0.027778   \n",
       "26746            0.043056                -0.045833                  0.001389   \n",
       "57610            0.033333                 0.058333                  0.050000   \n",
       "11254           -0.013889                -0.013889                  0.011111   \n",
       "50878            0.166667                 0.283333                  0.208333   \n",
       "31928            0.425000                 0.466667                  0.458333   \n",
       "\n",
       "       modified_firstlabel_replace  cqw_and_modified_firstlabel_replace  \n",
       "21767                    -0.127778                            -0.066667  \n",
       "18003                    -0.080556                            -0.016667  \n",
       "44957                     0.027778                             0.019444  \n",
       "26746                     0.001389                             0.034722  \n",
       "57610                     0.050000                             0.050000  \n",
       "11254                     0.011111                             0.002778  \n",
       "50878                     0.208333                             0.183333  \n",
       "31928                     0.458333                             0.458333  "
      ]
     },
     "execution_count": 114,
     "metadata": {},
     "output_type": "execute_result"
    }
   ],
   "source": [
    "diff_df[diff_df[\"site\"] == \"COR\"].sort_values(by=\"nocall_num\")"
   ]
  },
  {
   "cell_type": "code",
   "execution_count": 115,
   "metadata": {},
   "outputs": [
    {
     "ename": "NameError",
     "evalue": "name 'Module' is not defined",
     "output_type": "error",
     "traceback": [
      "\u001b[0;31m----------------------------------------------------------------\u001b[0m",
      "\u001b[0;31mNameError\u001b[0m                      Traceback (most recent call last)",
      "\u001b[0;32m<ipython-input-115-6b2e3b52e70a>\u001b[0m in \u001b[0;36m<module>\u001b[0;34m\u001b[0m\n\u001b[0;32m----> 1\u001b[0;31m \u001b[0;32mclass\u001b[0m \u001b[0mTropicModel\u001b[0m\u001b[0;34m(\u001b[0m\u001b[0mModule\u001b[0m\u001b[0;34m)\u001b[0m\u001b[0;34m:\u001b[0m\u001b[0;34m\u001b[0m\u001b[0;34m\u001b[0m\u001b[0m\n\u001b[0m\u001b[1;32m      2\u001b[0m     \u001b[0;32mdef\u001b[0m \u001b[0m__init__\u001b[0m\u001b[0;34m(\u001b[0m\u001b[0mself\u001b[0m\u001b[0;34m)\u001b[0m\u001b[0;34m:\u001b[0m\u001b[0;34m\u001b[0m\u001b[0;34m\u001b[0m\u001b[0m\n\u001b[1;32m      3\u001b[0m         \u001b[0mself\u001b[0m\u001b[0;34m.\u001b[0m\u001b[0mtrunk\u001b[0m \u001b[0;34m=\u001b[0m \u001b[0mtimm\u001b[0m\u001b[0;34m.\u001b[0m\u001b[0mcreate_model\u001b[0m\u001b[0;34m(\u001b[0m\u001b[0ma\u001b[0m\u001b[0;34m.\u001b[0m\u001b[0march\u001b[0m\u001b[0;34m,\u001b[0m\u001b[0mpretrained\u001b[0m\u001b[0;34m=\u001b[0m\u001b[0;32mTrue\u001b[0m\u001b[0;34m,\u001b[0m\u001b[0mnum_classes\u001b[0m\u001b[0;34m=\u001b[0m\u001b[0mn_species\u001b[0m\u001b[0;34m,\u001b[0m\u001b[0min_chans\u001b[0m\u001b[0;34m=\u001b[0m\u001b[0;36m1\u001b[0m\u001b[0;34m+\u001b[0m\u001b[0ma\u001b[0m\u001b[0;34m.\u001b[0m\u001b[0mcoord\u001b[0m\u001b[0;34m)\u001b[0m\u001b[0;34m\u001b[0m\u001b[0;34m\u001b[0m\u001b[0m\n\u001b[1;32m      4\u001b[0m         \u001b[0mself\u001b[0m\u001b[0;34m.\u001b[0m\u001b[0mdo\u001b[0m \u001b[0;34m=\u001b[0m \u001b[0mnn\u001b[0m\u001b[0;34m.\u001b[0m\u001b[0mDropout2d\u001b[0m\u001b[0;34m(\u001b[0m\u001b[0ma\u001b[0m\u001b[0;34m.\u001b[0m\u001b[0mdo\u001b[0m\u001b[0;34m)\u001b[0m\u001b[0;34m\u001b[0m\u001b[0;34m\u001b[0m\u001b[0m\n\u001b[1;32m      5\u001b[0m \u001b[0;34m\u001b[0m\u001b[0m\n",
      "\u001b[0;31mNameError\u001b[0m: name 'Module' is not defined"
     ]
    }
   ],
   "source": [
    "class TropicModel(Module):\n",
    "    def __init__(self):\n",
    "        self.trunk = timm.create_model(a.arch,pretrained=True,num_classes=n_species,in_chans=1+a.coord)\n",
    "        self.do = nn.Dropout2d(a.do)\n",
    "        \n",
    "    def forward(self,x):\n",
    "        bs,_,freq_bins,time_bins = x.size()\n",
    "        coord = torch.linspace(-1,1,freq_bins,dtype=x.dtype,device=x.device).view(1,1,-1,1).expand(bs,1,-1,time_bins)\n",
    "        if a.coord: x = torch.cat((x,coord),dim=1)\n",
    "        x = self.do(x)\n",
    "        return self.trunk(x)"
   ]
  },
  {
   "cell_type": "code",
   "execution_count": null,
   "metadata": {},
   "outputs": [],
   "source": [
    "round(1123.55, 1)"
   ]
  },
  {
   "cell_type": "code",
   "execution_count": null,
   "metadata": {},
   "outputs": [],
   "source": [
    "np.round(1123.45, 1)"
   ]
  },
  {
   "cell_type": "code",
   "execution_count": null,
   "metadata": {},
   "outputs": [],
   "source": [
    "np.round(1123.55, 1)"
   ]
  },
  {
   "cell_type": "code",
   "execution_count": null,
   "metadata": {},
   "outputs": [],
   "source": []
  },
  {
   "cell_type": "code",
   "execution_count": 154,
   "metadata": {
    "scrolled": true
   },
   "outputs": [
    {
     "data": {
      "text/plain": [
       "nocall    100\n",
       "Name: birds, dtype: int64"
      ]
     },
     "execution_count": 154,
     "metadata": {},
     "output_type": "execute_result"
    }
   ],
   "source": [
    "valid_df = pd.read_csv('../data/input/train_soundscape_labels.csv')\n",
    "valid_df.iloc[:100]['birds'].value_counts()"
   ]
  },
  {
   "cell_type": "code",
   "execution_count": null,
   "metadata": {},
   "outputs": [],
   "source": []
  }
 ],
 "metadata": {
  "kernelspec": {
   "display_name": "plot",
   "language": "python",
   "name": "plot"
  },
  "language_info": {
   "codemirror_mode": {
    "name": "ipython",
    "version": 3
   },
   "file_extension": ".py",
   "mimetype": "text/x-python",
   "name": "python",
   "nbconvert_exporter": "python",
   "pygments_lexer": "ipython3",
   "version": "3.6.13"
  }
 },
 "nbformat": 4,
 "nbformat_minor": 4
}
