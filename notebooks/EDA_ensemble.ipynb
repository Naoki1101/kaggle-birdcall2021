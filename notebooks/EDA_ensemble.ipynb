{
 "cells": [
  {
   "cell_type": "code",
   "execution_count": 1,
   "metadata": {},
   "outputs": [],
   "source": [
    "import sys\n",
    "from collections import Counter\n",
    "\n",
    "import numpy as np\n",
    "import pandas as pd\n",
    "from scipy import stats\n",
    "from tqdm.notebook import tqdm\n",
    "import optuna\n",
    "import joblib\n",
    "from sklearn.metrics import accuracy_score\n",
    "%matplotlib inline\n",
    "import matplotlib.pyplot as plt\n",
    "import warnings\n",
    "warnings.filterwarnings(\"ignore\")\n",
    "\n",
    "sys.path.append('../src')\n",
    "import const\n",
    "from metrics import micro_f1_similarity, row_wise_micro_averaged_f1_score\n",
    "\n",
    "pd.options.display.max_rows = 120"
   ]
  },
  {
   "cell_type": "code",
   "execution_count": 2,
   "metadata": {},
   "outputs": [],
   "source": [
    "valid_df = pd.read_csv('../data/input/train_soundscape_labels.csv')\n",
    "use_idx = valid_df[~valid_df[\"audio_id\"].isin([7019, 7954, 14473])].index\n",
    "# use_idx = valid_df[valid_df[\"audio_id\"].isin([7019, 7954, 14473, 2782, 7843, 20152, 28933, 54955])].index\n",
    "drop_idx = valid_df[valid_df[\"audio_id\"].isin([7019, 7954, 14473])].index\n",
    "valid_df = valid_df.iloc[use_idx].reset_index(drop=True)\n",
    "\n",
    "val_y_labels = valid_df[\"birds\"].tolist()\n",
    "\n",
    "all_diff_scores = {}"
   ]
  },
  {
   "cell_type": "code",
   "execution_count": 3,
   "metadata": {},
   "outputs": [],
   "source": [
    "def fill_dropped(dropped_array, drop_idx):\n",
    "    filled_array = np.zeros(\n",
    "        (len(dropped_array) + len(drop_idx), dropped_array.shape[1])\n",
    "    )\n",
    "    idx_array = np.arange(len(filled_array))\n",
    "    use_idx = np.delete(idx_array, drop_idx)\n",
    "    filled_array[use_idx, :] = dropped_array\n",
    "    return filled_array"
   ]
  },
  {
   "cell_type": "code",
   "execution_count": 4,
   "metadata": {},
   "outputs": [],
   "source": [
    "def extract_label(preds, th=0.5):\n",
    "    events = preds >= th\n",
    "    nocall_col = np.zeros((len(preds), 1)).astype(bool)\n",
    "    nocall_col[events.sum(1) == 0] = True\n",
    "    events = np.concatenate([events, nocall_col], axis=1)\n",
    "    \n",
    "    predict_labels = []\n",
    "    for i in range(len(events)):\n",
    "        event = events[i, :]\n",
    "        labels = np.argwhere(event).reshape(-1).tolist()\n",
    "        \n",
    "        row_labels = []\n",
    "        for label in labels:\n",
    "            row_labels.append(const.INV_BIRD_CODE[label])\n",
    "        predict_labels.append(\" \".join(row_labels))\n",
    "\n",
    "    return predict_labels"
   ]
  },
  {
   "cell_type": "code",
   "execution_count": 5,
   "metadata": {},
   "outputs": [],
   "source": [
    "def set_audio_base_score(pred_labels, df):\n",
    "    score_dict = {}\n",
    "    \n",
    "    gp = df.groupby(\"audio_id\")\n",
    "    for audio_id, audio_df in gp:\n",
    "        idxs = audio_df.index.values\n",
    "        score = row_wise_micro_averaged_f1_score(audio_df[\"birds\"], np.array(pred_labels)[idxs])\n",
    "        score_dict[audio_id] = score\n",
    "        \n",
    "    return score_dict\n",
    "\n",
    "def get_audio_score(pred_labels, df, score_dict):\n",
    "    diff_scores = {}\n",
    "\n",
    "    gp = df.groupby(\"audio_id\")\n",
    "    for audio_id, audio_df in gp:\n",
    "        idxs = audio_df.index.values\n",
    "        score = row_wise_micro_averaged_f1_score(audio_df[\"birds\"], np.array(pred_labels)[idxs])\n",
    "        base_score = score_dict[audio_id]\n",
    "\n",
    "        print(f\"{audio_id}: {score:.4f} [{score - base_score:.3f}]\")\n",
    "        diff_scores[audio_id] = score - base_score\n",
    "        \n",
    "    return diff_scores"
   ]
  },
  {
   "cell_type": "code",
   "execution_count": 170,
   "metadata": {},
   "outputs": [],
   "source": [
    "oof112 = np.load(\"../logs/exp_112_20210520045116_0.638/oof.npy\")\n",
    "oof112 = fill_dropped(oof112, drop_idx)\n",
    "oof114 = np.load(\"../logs/exp_114_20210520192947_0.650/oof.npy\")\n",
    "oof114 = fill_dropped(oof114, drop_idx)\n",
    "oof115 = np.load(\"../logs/exp_115_20210520232446_0.631/oof.npy\")\n",
    "oof115 = fill_dropped(oof115, drop_idx)\n",
    "oof116 = np.load(\"../logs/exp_116_20210521031557_0.641/oof.npy\")\n",
    "oof116 = fill_dropped(oof116, drop_idx)\n",
    "oof117 = np.load(\"../logs/exp_117_20210521070917_0.640/oof.npy\")\n",
    "oof117 = fill_dropped(oof117, drop_idx)\n",
    "oof118 = np.load(\"../logs/exp_118_20210521110036_0.653/oof.npy\")\n",
    "oof118 = fill_dropped(oof118, drop_idx)\n",
    "oof121 = np.load(\"../logs/exp_121_20210521215739_0.637/oof.npy\")\n",
    "oof121 = fill_dropped(oof121, drop_idx)\n",
    "\n",
    "oof129 = np.load(\"../logs/exp_129_20210523145254_0.641/oof.npy\")\n",
    "oof129 = fill_dropped(oof129, drop_idx)\n",
    "oof131 = np.load(\"../logs/exp_131_20210524005536_0.641/oof.npy\")\n",
    "oof131 = fill_dropped(oof131, drop_idx)\n",
    "oof132 = np.load(\"../logs/exp_132_20210524061303_0.623/oof.npy\")\n",
    "oof132 = fill_dropped(oof132, drop_idx)\n",
    "oof133 = np.load(\"../logs/exp_133_20210524105841_0.630/oof.npy\")\n",
    "oof133 = fill_dropped(oof133, drop_idx)\n",
    "oof134 = np.load(\"../logs/exp_134_20210524160839_0.636/oof.npy\")\n",
    "oof134 = fill_dropped(oof134, drop_idx)\n",
    "oof135 = np.load(\"../logs/exp_135_20210524214504_0.649/oof.npy\")\n",
    "oof135 = fill_dropped(oof135, drop_idx)\n",
    "oof136 = np.load(\"../logs/exp_136_20210525032138_0.623/oof.npy\")\n",
    "oof136 = fill_dropped(oof136, drop_idx)\n",
    "oof137 = np.load(\"../logs/exp_137_20210525173848_0.631/oof.npy\")\n",
    "oof137 = fill_dropped(oof137, drop_idx)\n",
    "oof139 = np.load(\"../logs/exp_139_20210526031224_0.661/oof.npy\")\n",
    "oof139 = fill_dropped(oof139, drop_idx)\n",
    "oof140 = np.load(\"../logs/exp_140_20210525120925_0.577/oof.npy\")\n",
    "oof140 = fill_dropped(oof140, drop_idx)\n",
    "oof142 = np.load(\"../logs/exp_142_20210526125837_0.651/oof.npy\")\n",
    "oof142 = fill_dropped(oof142, drop_idx)\n",
    "oof143 = np.load(\"../logs/exp_143_20210526174719_0.642/oof.npy\")\n",
    "oof143 = fill_dropped(oof143, drop_idx)\n",
    "oof144 = np.load(\"../logs/exp_144_20210526221306_0.654/oof.npy\")\n",
    "oof144 = fill_dropped(oof144, drop_idx)\n",
    "oof145 = np.load(\"../logs/exp_145_20210527081010_0.640/oof.npy\")\n",
    "oof145 = fill_dropped(oof145, drop_idx)\n",
    "oof156 = np.load(\"../logs/exp_156_20210528092304_0.643/oof.npy\")\n",
    "oof156 = fill_dropped(oof156, drop_idx)\n",
    "\n",
    "oof144 = np.load(\"../logs/exp_144_20210526221306_0.654/oof.npy\")\n",
    "oof144 = fill_dropped(oof144, drop_idx)\n",
    "oof146 = np.load(\"../logs/exp_146_20210527110713_0.637/oof.npy\")\n",
    "oof146 = fill_dropped(oof146, drop_idx)\n",
    "oof149 = np.load(\"../logs/exp_149_20210527160401_0.633/oof.npy\")\n",
    "oof149 = fill_dropped(oof149, drop_idx)\n",
    "oof150 = np.load(\"../logs/exp_150_20210527195843_0.640/oof.npy\")\n",
    "oof150 = fill_dropped(oof150, drop_idx)\n",
    "oof151 = np.load(\"../logs/exp_151_20210527195745_0.645/oof.npy\")\n",
    "oof151 = fill_dropped(oof151, drop_idx)\n",
    "oof152 = np.load(\"../logs/exp_152_20210527200140_0.625/oof.npy\")\n",
    "oof152 = fill_dropped(oof152, drop_idx)\n",
    "oof153 = np.load(\"../logs/exp_153_20210527200336_0.643/oof.npy\")\n",
    "oof153 = fill_dropped(oof153, drop_idx)\n",
    "oof154 = np.load(\"../logs/exp_154_20210528013208_0.635/oof.npy\")\n",
    "oof154 = fill_dropped(oof154, drop_idx)\n",
    "oof155 = np.load(\"../logs/exp_155_20210528053901_0.638/oof.npy\")\n",
    "oof155 = fill_dropped(oof155, drop_idx)\n",
    "oof156 = np.load(\"../logs/exp_156_20210528092304_0.643/oof.npy\")\n",
    "oof156 = fill_dropped(oof156, drop_idx)\n",
    "oof157 = np.load(\"../logs/exp_157_20210528131517_0.645/oof.npy\")\n",
    "oof157 = fill_dropped(oof157, drop_idx)\n",
    "oof158 = np.load(\"../logs/exp_158_20210528172326_0.633/oof.npy\")\n",
    "oof158 = fill_dropped(oof158, drop_idx)\n",
    "oof159 = np.load(\"../logs/exp_159_20210528075925_0.639/oof.npy\")\n",
    "oof159 = fill_dropped(oof159, drop_idx)\n",
    "oof160 = np.load(\"../logs/exp_160_20210528080013_0.628/oof.npy\")\n",
    "oof160 = fill_dropped(oof160, drop_idx)\n",
    "oof161 = np.load(\"../logs/exp_161_20210528080055_0.638/oof.npy\")\n",
    "oof161 = fill_dropped(oof161, drop_idx)\n",
    "\n",
    "\n",
    "\n",
    "# nocall classification\n",
    "oof59 = np.load(\"../logs/exp_059_20210505100513_0.666/oof.npy\")\n",
    "oof70 = np.load(\"../logs/exp_070_20210508193023_0.882/oof.npy\")\n",
    "oof79 = np.load(\"../logs/exp_079_20210511132329_0.874/oof.npy\")\n",
    "oof83 = np.load(\"../logs/exp_083_20210512081958_0.827/oof.npy\")\n",
    "oof99 = np.load(\"../logs/exp_099_20210515202257_0.859/oof.npy\")"
   ]
  },
  {
   "cell_type": "code",
   "execution_count": 7,
   "metadata": {},
   "outputs": [],
   "source": [
    "# oof_list = [\n",
    "#     oof112,\n",
    "#     oof114,\n",
    "#     oof115,\n",
    "#     oof116,\n",
    "#     oof117,\n",
    "#     oof118,\n",
    "\n",
    "#     oof129,\n",
    "#     oof131,\n",
    "#     oof132,\n",
    "#     oof139,\n",
    "# ]\n",
    "\n",
    "oof_list = [\n",
    "    oof144,\n",
    "    oof146,\n",
    "    oof149,\n",
    "    oof150,\n",
    "    oof151,\n",
    "    oof152,\n",
    "    oof153,\n",
    "    oof154,\n",
    "    oof155,\n",
    "    oof156,\n",
    "    oof157,\n",
    "    oof158,\n",
    "]\n",
    "\n",
    "concat_oof = []\n",
    "for oof_ in oof_list:\n",
    "    concat_oof.append(oof_[np.newaxis, :, :])\n",
    "concat_oof = np.concatenate(concat_oof)"
   ]
  },
  {
   "cell_type": "code",
   "execution_count": null,
   "metadata": {},
   "outputs": [],
   "source": []
  },
  {
   "cell_type": "code",
   "execution_count": null,
   "metadata": {},
   "outputs": [],
   "source": []
  },
  {
   "cell_type": "markdown",
   "metadata": {},
   "source": [
    " "
   ]
  },
  {
   "cell_type": "markdown",
   "metadata": {},
   "source": [
    " "
   ]
  },
  {
   "cell_type": "markdown",
   "metadata": {},
   "source": [
    "## BaseScore"
   ]
  },
  {
   "cell_type": "code",
   "execution_count": 8,
   "metadata": {},
   "outputs": [
    {
     "data": {
      "text/plain": [
       "0.692598039215686"
      ]
     },
     "execution_count": 8,
     "metadata": {},
     "output_type": "execute_result"
    }
   ],
   "source": [
    "oof = np.mean(concat_oof, axis=0)[use_idx, :]\n",
    "base_oof_labels = extract_label(oof, th=0.33)\n",
    "score_dict = set_audio_base_score(base_oof_labels, valid_df)\n",
    "np.mean(list(score_dict.values()))"
   ]
  },
  {
   "cell_type": "markdown",
   "metadata": {},
   "source": [
    " "
   ]
  },
  {
   "cell_type": "markdown",
   "metadata": {},
   "source": [
    " "
   ]
  },
  {
   "cell_type": "markdown",
   "metadata": {},
   "source": [
    "## All nocall"
   ]
  },
  {
   "cell_type": "code",
   "execution_count": 9,
   "metadata": {},
   "outputs": [
    {
     "data": {
      "text/plain": [
       "0.5769607843137236"
      ]
     },
     "execution_count": 9,
     "metadata": {},
     "output_type": "execute_result"
    }
   ],
   "source": [
    "oof_labels = [\"nocall\"] * len(valid_df)\n",
    "score = row_wise_micro_averaged_f1_score(val_y_labels, oof_labels)\n",
    "score"
   ]
  },
  {
   "cell_type": "markdown",
   "metadata": {},
   "source": [
    " "
   ]
  },
  {
   "cell_type": "markdown",
   "metadata": {},
   "source": [
    " "
   ]
  },
  {
   "cell_type": "markdown",
   "metadata": {},
   "source": [
    "## Simple Average"
   ]
  },
  {
   "cell_type": "code",
   "execution_count": 10,
   "metadata": {},
   "outputs": [],
   "source": [
    "oof = np.mean(concat_oof, axis=0)[use_idx, :]\n",
    "\n",
    "\n",
    "th_list = []\n",
    "scores = []\n",
    "\n",
    "best_score = 0\n",
    "besth_th = 0\n",
    "best_final_labels = None\n",
    "\n",
    "for i in range(100):\n",
    "    th = i / 100.0\n",
    "\n",
    "    oof_labels = extract_label(oof, th)\n",
    "    score = row_wise_micro_averaged_f1_score(val_y_labels, oof_labels)\n",
    "    \n",
    "    if best_score < score:\n",
    "        best_score  = score\n",
    "        best_th = th\n",
    "        best_final_labels = oof_labels\n",
    "\n",
    "    th_list.append(th)\n",
    "    scores.append(score)"
   ]
  },
  {
   "cell_type": "code",
   "execution_count": 11,
   "metadata": {},
   "outputs": [
    {
     "name": "stdout",
     "output_type": "stream",
     "text": [
      "best score: 0.6981 (th=0.27)\n"
     ]
    }
   ],
   "source": [
    "print(f\"best score: {best_score:.4f} (th={best_th})\")   # best score: 0.7017 (th=0.26)"
   ]
  },
  {
   "cell_type": "code",
   "execution_count": 12,
   "metadata": {},
   "outputs": [
    {
     "data": {
      "image/png": "[encoded data removed]",
      "text/plain": [
       "<Figure size 432x288 with 1 Axes>"
      ]
     },
     "metadata": {
      "needs_background": "light"
     },
     "output_type": "display_data"
    }
   ],
   "source": [
    "plt.plot(th_list, scores)\n",
    "plt.grid()"
   ]
  },
  {
   "cell_type": "code",
   "execution_count": 13,
   "metadata": {},
   "outputs": [
    {
     "name": "stdout",
     "output_type": "stream",
     "text": [
      "2782: 0.3164 [0.071]\n",
      "7843: 0.9750 [0.000]\n",
      "10534: 0.6500 [-0.019]\n",
      "11254: 0.8917 [-0.008]\n",
      "18003: 0.5528 [0.056]\n",
      "20152: 0.9500 [0.000]\n",
      "21767: 0.2792 [0.038]\n",
      "26709: 0.5361 [0.000]\n",
      "26746: 0.7028 [0.008]\n",
      "28933: 0.4667 [0.004]\n",
      "31928: 0.9917 [0.000]\n",
      "42907: 0.7250 [-0.008]\n",
      "44957: 0.7278 [0.008]\n",
      "50878: 0.8333 [-0.033]\n",
      "51010: 0.5028 [0.019]\n",
      "54955: 0.8667 [-0.008]\n",
      "57610: 0.9000 [-0.033]\n"
     ]
    }
   ],
   "source": [
    "best_labels1 = best_final_labels\n",
    "diff_scores0 = get_audio_score(best_final_labels, valid_df, score_dict)\n",
    "all_diff_scores[\"avg\"] = diff_scores0"
   ]
  },
  {
   "cell_type": "markdown",
   "metadata": {},
   "source": [
    " "
   ]
  },
  {
   "cell_type": "markdown",
   "metadata": {},
   "source": [
    " "
   ]
  },
  {
   "cell_type": "markdown",
   "metadata": {},
   "source": [
    "## Simple Average + nocall classification"
   ]
  },
  {
   "cell_type": "code",
   "execution_count": 14,
   "metadata": {},
   "outputs": [],
   "source": [
    "oof = np.mean(concat_oof, axis=0)[use_idx, :]"
   ]
  },
  {
   "cell_type": "code",
   "execution_count": 15,
   "metadata": {},
   "outputs": [],
   "source": [
    "birdcall_p = oof99\n",
    "\n",
    "for idx in range(len(oof)):\n",
    "    bp = birdcall_p[idx]\n",
    "    if bp <= 0.3:\n",
    "        col1_idx = np.argsort(oof[idx, :])[-1:]\n",
    "        oof[idx, col1_idx] /= 5"
   ]
  },
  {
   "cell_type": "code",
   "execution_count": 16,
   "metadata": {},
   "outputs": [],
   "source": [
    "th_list = []\n",
    "scores = []\n",
    "\n",
    "best_score = 0\n",
    "besth_th = 0\n",
    "best_final_labels = None\n",
    "\n",
    "for i in range(300):\n",
    "    th = i / 100.0\n",
    "\n",
    "    oof_labels = extract_label(oof, th)\n",
    "    score = row_wise_micro_averaged_f1_score(val_y_labels, oof_labels)\n",
    "    \n",
    "    if best_score < score:\n",
    "        best_score  = score\n",
    "        best_th = th\n",
    "        best_final_labels = oof_labels\n",
    "\n",
    "    th_list.append(th)\n",
    "    scores.append(score)"
   ]
  },
  {
   "cell_type": "code",
   "execution_count": 17,
   "metadata": {},
   "outputs": [
    {
     "name": "stdout",
     "output_type": "stream",
     "text": [
      "best score: 0.6991 (th=0.27)\n"
     ]
    }
   ],
   "source": [
    "print(f\"best score: {best_score:.4f} (th={best_th})\")   # best score:0.7027 (th=0.26)"
   ]
  },
  {
   "cell_type": "code",
   "execution_count": 18,
   "metadata": {},
   "outputs": [
    {
     "data": {
      "image/png": "[encoded data removed]",
      "text/plain": [
       "<Figure size 432x288 with 1 Axes>"
      ]
     },
     "metadata": {
      "needs_background": "light"
     },
     "output_type": "display_data"
    }
   ],
   "source": [
    "plt.plot(th_list, scores)\n",
    "plt.grid()"
   ]
  },
  {
   "cell_type": "code",
   "execution_count": 19,
   "metadata": {},
   "outputs": [
    {
     "name": "stdout",
     "output_type": "stream",
     "text": [
      "2782: 0.3164 [0.071]\n",
      "7843: 0.9750 [0.000]\n",
      "10534: 0.6500 [-0.019]\n",
      "11254: 0.8917 [-0.008]\n",
      "18003: 0.5528 [0.056]\n",
      "20152: 0.9583 [0.008]\n",
      "21767: 0.2792 [0.038]\n",
      "26709: 0.5361 [0.000]\n",
      "26746: 0.7028 [0.008]\n",
      "28933: 0.4667 [0.004]\n",
      "31928: 0.9917 [0.000]\n",
      "42907: 0.7250 [-0.008]\n",
      "44957: 0.7278 [0.008]\n",
      "50878: 0.8333 [-0.033]\n",
      "51010: 0.5028 [0.019]\n",
      "54955: 0.8750 [0.000]\n",
      "57610: 0.9000 [-0.033]\n"
     ]
    }
   ],
   "source": [
    "best_labels_nc = best_final_labels\n",
    "diff_scores1 = get_audio_score(best_final_labels, valid_df, score_dict)\n",
    "all_diff_scores[\"avg_nc\"] = diff_scores1"
   ]
  },
  {
   "cell_type": "markdown",
   "metadata": {},
   "source": [
    " "
   ]
  },
  {
   "cell_type": "markdown",
   "metadata": {},
   "source": [
    " "
   ]
  },
  {
   "cell_type": "markdown",
   "metadata": {},
   "source": [
    "## Voting"
   ]
  },
  {
   "cell_type": "code",
   "execution_count": 20,
   "metadata": {},
   "outputs": [],
   "source": [
    "def voting(oof_labels_list, vote_lim):\n",
    "    final_oof_labels = []\n",
    "    \n",
    "    for idx in range(len(oof_labels_list[0])):\n",
    "        birds = []\n",
    "\n",
    "        for labels in oof_labels_list:\n",
    "            birds.extend(labels[idx].split(\" \"))\n",
    "\n",
    "        birds = [x for x in birds if \"nocall\" != x and \"\" != x]\n",
    "        count_birds = Counter(birds)\n",
    "\n",
    "        final_birds = []\n",
    "        for key, value in count_birds.items():\n",
    "            if value >= vote_lim:\n",
    "                final_birds.append(key)\n",
    "\n",
    "        if len(final_birds) == 0:\n",
    "            final_birds.append(\"nocall\")\n",
    "\n",
    "        final_oof_labels.append(\" \".join(final_birds))\n",
    "\n",
    "    return final_oof_labels"
   ]
  },
  {
   "cell_type": "code",
   "execution_count": 21,
   "metadata": {},
   "outputs": [
    {
     "data": {
      "application/vnd.jupyter.widget-view+json": {
       "model_id": "3e0c43f6b22b42d9a36434e343bc9250",
       "version_major": 2,
       "version_minor": 0
      },
      "text/plain": [
       "HBox(children=(IntProgress(value=0), HTML(value='')))"
      ]
     },
     "metadata": {},
     "output_type": "display_data"
    },
    {
     "name": "stdout",
     "output_type": "stream",
     "text": [
      "\n"
     ]
    },
    {
     "data": {
      "application/vnd.jupyter.widget-view+json": {
       "model_id": "331400e30b0a42bca596e9bd4510022f",
       "version_major": 2,
       "version_minor": 0
      },
      "text/plain": [
       "HBox(children=(IntProgress(value=0), HTML(value='')))"
      ]
     },
     "metadata": {},
     "output_type": "display_data"
    },
    {
     "name": "stdout",
     "output_type": "stream",
     "text": [
      "\n"
     ]
    },
    {
     "data": {
      "application/vnd.jupyter.widget-view+json": {
       "model_id": "84cb8e34f82447f4ac3b291a321f6ddb",
       "version_major": 2,
       "version_minor": 0
      },
      "text/plain": [
       "HBox(children=(IntProgress(value=0), HTML(value='')))"
      ]
     },
     "metadata": {},
     "output_type": "display_data"
    },
    {
     "name": "stdout",
     "output_type": "stream",
     "text": [
      "\n"
     ]
    }
   ],
   "source": [
    "th_list = []\n",
    "scores = []\n",
    "\n",
    "best_score = 0\n",
    "besth_th = 0\n",
    "best_vote_lim = 0\n",
    "best_final_labels = None\n",
    "\n",
    "# for vote_lim in range(1, len(oof_labels_list)):\n",
    "for vote_lim in [1, 2, 3]:\n",
    "    for i in tqdm(range(100)):\n",
    "        th = i / 100.0\n",
    "        \n",
    "        oof_labels_list = []\n",
    "        for oof_ in oof_list:\n",
    "            oof_labels_ = extract_label(oof_[use_idx, :], th)\n",
    "            oof_labels_list.append(oof_labels_)\n",
    "\n",
    "        final_oof_labels = voting(oof_labels_list, vote_lim)\n",
    "\n",
    "        score = row_wise_micro_averaged_f1_score(val_y_labels, final_oof_labels)\n",
    "            \n",
    "        if best_score < score:\n",
    "            best_score = score\n",
    "            best_th = th\n",
    "            best_vote_lim = vote_lim\n",
    "            best_final_labels = final_oof_labels\n",
    "                \n",
    "        th_list.append(th)\n",
    "        scores.append(score)"
   ]
  },
  {
   "cell_type": "code",
   "execution_count": 22,
   "metadata": {},
   "outputs": [
    {
     "data": {
      "text/plain": [
       "0.6945915032679715"
      ]
     },
     "execution_count": 22,
     "metadata": {},
     "output_type": "execute_result"
    }
   ],
   "source": [
    "best_score   # 0.7430"
   ]
  },
  {
   "cell_type": "code",
   "execution_count": 23,
   "metadata": {},
   "outputs": [
    {
     "data": {
      "text/plain": [
       "0.44"
      ]
     },
     "execution_count": 23,
     "metadata": {},
     "output_type": "execute_result"
    }
   ],
   "source": [
    "best_th"
   ]
  },
  {
   "cell_type": "code",
   "execution_count": 24,
   "metadata": {},
   "outputs": [
    {
     "data": {
      "text/plain": [
       "3"
      ]
     },
     "execution_count": 24,
     "metadata": {},
     "output_type": "execute_result"
    }
   ],
   "source": [
    "best_vote_lim"
   ]
  },
  {
   "cell_type": "code",
   "execution_count": 25,
   "metadata": {},
   "outputs": [
    {
     "data": {
      "text/plain": [
       "[<matplotlib.lines.Line2D at 0x7f957e8b0940>]"
      ]
     },
     "execution_count": 25,
     "metadata": {},
     "output_type": "execute_result"
    },
    {
     "data": {
      "image/png": "[encoded data removed]",
      "text/plain": [
       "<Figure size 1152x360 with 1 Axes>"
      ]
     },
     "metadata": {
      "needs_background": "light"
     },
     "output_type": "display_data"
    }
   ],
   "source": [
    "plt.figure(figsize=(16, 5))\n",
    "plt.plot(scores)"
   ]
  },
  {
   "cell_type": "code",
   "execution_count": 26,
   "metadata": {},
   "outputs": [
    {
     "name": "stdout",
     "output_type": "stream",
     "text": [
      "2782: 0.3275 [0.083]\n",
      "7843: 0.9750 [0.000]\n",
      "10534: 0.6583 [-0.011]\n",
      "11254: 0.8806 [-0.019]\n",
      "18003: 0.5361 [0.039]\n",
      "20152: 0.9417 [-0.008]\n",
      "21767: 0.2681 [0.026]\n",
      "26709: 0.5444 [0.008]\n",
      "26746: 0.6833 [-0.011]\n",
      "28933: 0.4667 [0.004]\n",
      "31928: 0.9917 [0.000]\n",
      "42907: 0.7583 [0.025]\n",
      "44957: 0.7167 [-0.003]\n",
      "50878: 0.8000 [-0.067]\n",
      "51010: 0.4903 [0.007]\n",
      "54955: 0.8667 [-0.008]\n",
      "57610: 0.9028 [-0.031]\n"
     ]
    }
   ],
   "source": [
    "diff_scores2 = get_audio_score(best_final_labels, valid_df, score_dict)\n",
    "all_diff_scores[\"voting\"] = diff_scores2"
   ]
  },
  {
   "cell_type": "markdown",
   "metadata": {},
   "source": [
    " "
   ]
  },
  {
   "cell_type": "markdown",
   "metadata": {},
   "source": [
    " "
   ]
  },
  {
   "cell_type": "markdown",
   "metadata": {},
   "source": [
    "## Simple Average > PostProcess_v12"
   ]
  },
  {
   "cell_type": "code",
   "execution_count": 27,
   "metadata": {},
   "outputs": [],
   "source": [
    "def post_process_site_12(preds, threshold=0.5, maxpreds=3):\n",
    "    preds = preds * (preds >= threshold)   # remove preds < threshold\n",
    "    \n",
    "#     next_preds = np.concatenate([preds[1:], preds[-1:]])  # pred corresponding to next window\n",
    "#     prev_preds = np.concatenate([preds[:1], preds[:-1]])  # pred corresponding to previous window\n",
    "\n",
    "    next_preds = np.concatenate([preds[1:], np.zeros((1, preds.shape[-1]))])  # pred corresponding to next window\n",
    "    prev_preds = np.concatenate([np.zeros((1, preds.shape[-1])), preds[:-1]])  # pred corresponding to previous window\n",
    "    \n",
    "    score = preds + next_preds + prev_preds  # Aggregating\n",
    "    \n",
    "    n_birds = (score >= threshold - 1e-5).sum(-1)   # threshold ?\n",
    "    n_birds = np.clip(n_birds, 0, maxpreds)  # keep at most maxpreds birds\n",
    "    \n",
    "    labels = [np.argsort(- score[i])[:n_birds[i]].tolist() for i in range(len(preds))]\n",
    "#     class_labels = [\" \".join([CLASSES[l] for l in label]) for label in labels]\n",
    "    class_labels = [\" \".join([const.INV_BIRD_CODE[l] for l in label]) if len(label) > 0 else \"nocall\" for label in labels]\n",
    "    \n",
    "    return class_labels"
   ]
  },
  {
   "cell_type": "code",
   "execution_count": 28,
   "metadata": {},
   "outputs": [],
   "source": [
    "oof = np.mean(concat_oof, axis=0)[use_idx, :]\n",
    "\n",
    "th_list = []\n",
    "scores = []\n",
    "\n",
    "best_score = 0\n",
    "besth_th = 0\n",
    "best_final_labels = None\n",
    "\n",
    "for i in range(100):\n",
    "    th = i / 100.0\n",
    "    \n",
    "    oof_labels = post_process_site_12(oof, threshold=th, maxpreds=3)\n",
    "#     oof_labels = extract_label(oof, th)\n",
    "\n",
    "    score = row_wise_micro_averaged_f1_score(val_y_labels, oof_labels)\n",
    "    \n",
    "    if best_score < score:\n",
    "        best_score  = score\n",
    "        best_th = th\n",
    "        best_final_labels = oof_labels\n",
    "\n",
    "    th_list.append(th)\n",
    "    scores.append(score)"
   ]
  },
  {
   "cell_type": "code",
   "execution_count": 29,
   "metadata": {},
   "outputs": [
    {
     "name": "stdout",
     "output_type": "stream",
     "text": [
      "best score: 0.6759 (th=0.33)\n"
     ]
    }
   ],
   "source": [
    "print(f\"best score: {best_score:.4f} (th={best_th})\")   # best score: 0.7082 (th=0.27)"
   ]
  },
  {
   "cell_type": "code",
   "execution_count": 30,
   "metadata": {},
   "outputs": [
    {
     "data": {
      "image/png": "[encoded data removed]",
      "text/plain": [
       "<Figure size 432x288 with 1 Axes>"
      ]
     },
     "metadata": {
      "needs_background": "light"
     },
     "output_type": "display_data"
    }
   ],
   "source": [
    "plt.plot(th_list, scores)\n",
    "plt.grid()"
   ]
  },
  {
   "cell_type": "code",
   "execution_count": 31,
   "metadata": {},
   "outputs": [
    {
     "name": "stdout",
     "output_type": "stream",
     "text": [
      "2782: 0.3614 [0.116]\n",
      "7843: 0.9750 [0.000]\n",
      "10534: 0.4833 [-0.186]\n",
      "11254: 0.7917 [-0.108]\n",
      "18003: 0.6417 [0.144]\n",
      "20152: 0.8833 [-0.067]\n",
      "21767: 0.2583 [0.017]\n",
      "26709: 0.5500 [0.014]\n",
      "26746: 0.6833 [-0.011]\n",
      "28933: 0.5153 [0.053]\n",
      "31928: 0.9750 [-0.017]\n",
      "42907: 0.7667 [0.033]\n",
      "44957: 0.7194 [0.000]\n",
      "50878: 0.7333 [-0.133]\n",
      "51010: 0.5083 [0.025]\n",
      "54955: 0.8083 [-0.067]\n",
      "57610: 0.8361 [-0.097]\n"
     ]
    }
   ],
   "source": [
    "diff_scores3 = get_audio_score(best_final_labels, valid_df, score_dict)\n",
    "all_diff_scores[\"avg_postv12\"] = diff_scores3"
   ]
  },
  {
   "cell_type": "markdown",
   "metadata": {},
   "source": [
    " "
   ]
  },
  {
   "cell_type": "markdown",
   "metadata": {},
   "source": [
    " "
   ]
  },
  {
   "cell_type": "markdown",
   "metadata": {},
   "source": [
    "## PostProcess_v2 -> Simple Avg"
   ]
  },
  {
   "cell_type": "code",
   "execution_count": 32,
   "metadata": {},
   "outputs": [],
   "source": [
    "def post_process_v2(preds, df, c=2, q=0.99, w=1.5):\n",
    "    if \"file_id\" not in df.columns:\n",
    "        df[\"file_id\"] = df[\"audio_id\"].astype(str) + \"_\" + df[\"site\"]\n",
    "\n",
    "    post_weight_dict = {}\n",
    "    init_weight = np.ones(len(const.BIRD_CODE) - 1)\n",
    "\n",
    "    for i, file_id in enumerate(df[\"file_id\"].unique()):\n",
    "        file_id_idx = df[df[\"file_id\"] == file_id].index.values\n",
    "        sum_ = np.sum(preds[file_id_idx, :], axis=0)\n",
    "        sum_ = sum_ / np.max(sum_)\n",
    "        quantile_ = np.quantile(sum_, q)\n",
    "        \n",
    "        \n",
    "        post_weight = init_weight.copy()\n",
    "        for bc in np.argsort(sum_)[::-1]:\n",
    "            v = sum_[bc]\n",
    "            if v >= (quantile_ * c):\n",
    "                post_weight[bc] = w\n",
    "            else:\n",
    "                break\n",
    "                \n",
    "        post_weight_dict[file_id] = post_weight\n",
    "        \n",
    "    post_preds = preds.copy()\n",
    "    for idx in df.index:\n",
    "        file_id = df.loc[idx, \"file_id\"]\n",
    "        post_weight = post_weight_dict[file_id]\n",
    "        post_preds[idx, :] = preds[idx, :] * post_weight\n",
    "    \n",
    "    return post_preds"
   ]
  },
  {
   "cell_type": "code",
   "execution_count": 33,
   "metadata": {},
   "outputs": [],
   "source": [
    "c=2.0\n",
    "q=0.99\n",
    "w=2.0\n",
    "\n",
    "post_oof_list = []\n",
    "for oof_ in oof_list:\n",
    "    post_oof = post_process_v2(oof_, valid_df, c, q, w)\n",
    "    post_oof_list.append(post_oof[np.newaxis, :, :])\n",
    "post_concat_oof = np.concatenate(post_oof_list)\n",
    "\n",
    "oof = np.mean(post_concat_oof, axis=0)[use_idx, :]"
   ]
  },
  {
   "cell_type": "code",
   "execution_count": 34,
   "metadata": {},
   "outputs": [],
   "source": [
    "th_list = []\n",
    "scores = []\n",
    "\n",
    "best_score = 0\n",
    "besth_th = 0\n",
    "best_final_labels = None\n",
    "\n",
    "for i in range(100):\n",
    "    th = i / 100.0\n",
    "\n",
    "    oof_labels = extract_label(oof, th)\n",
    "\n",
    "    score = row_wise_micro_averaged_f1_score(val_y_labels, oof_labels)\n",
    "    \n",
    "    if best_score < score:\n",
    "        best_score  = score\n",
    "        best_th = th\n",
    "        best_final_labels = oof_labels\n",
    "\n",
    "    th_list.append(th)\n",
    "    scores.append(score)"
   ]
  },
  {
   "cell_type": "code",
   "execution_count": 35,
   "metadata": {},
   "outputs": [
    {
     "name": "stdout",
     "output_type": "stream",
     "text": [
      "best score: 0.7070 (th=0.31)\n"
     ]
    }
   ],
   "source": [
    "print(f\"best score: {best_score:.4f} (th={best_th})\")   # best_score: 0.7038 (th=0.49)"
   ]
  },
  {
   "cell_type": "code",
   "execution_count": 36,
   "metadata": {},
   "outputs": [
    {
     "data": {
      "image/png": "[encoded data removed]",
      "text/plain": [
       "<Figure size 432x288 with 1 Axes>"
      ]
     },
     "metadata": {
      "needs_background": "light"
     },
     "output_type": "display_data"
    }
   ],
   "source": [
    "plt.plot(th_list, scores)\n",
    "plt.grid()"
   ]
  },
  {
   "cell_type": "code",
   "execution_count": 37,
   "metadata": {},
   "outputs": [
    {
     "name": "stdout",
     "output_type": "stream",
     "text": [
      "2782: 0.4053 [0.160]\n",
      "7843: 0.9750 [0.000]\n",
      "10534: 0.7000 [0.031]\n",
      "11254: 0.8917 [-0.008]\n",
      "18003: 0.6306 [0.133]\n",
      "20152: 0.8583 [-0.092]\n",
      "21767: 0.2750 [0.033]\n",
      "26709: 0.5361 [0.000]\n",
      "26746: 0.6944 [0.000]\n",
      "28933: 0.5164 [0.054]\n",
      "31928: 0.9667 [-0.025]\n",
      "42907: 0.7417 [0.008]\n",
      "44957: 0.7528 [0.033]\n",
      "50878: 0.8250 [-0.042]\n",
      "51010: 0.4889 [0.006]\n",
      "54955: 0.8833 [0.008]\n",
      "57610: 0.8778 [-0.056]\n"
     ]
    }
   ],
   "source": [
    "best_labels2 = best_final_labels\n",
    "diff_scores4 = get_audio_score(best_final_labels, valid_df, score_dict)\n",
    "all_diff_scores[\"cqw_avg\"] = diff_scores4"
   ]
  },
  {
   "cell_type": "markdown",
   "metadata": {},
   "source": [
    " "
   ]
  },
  {
   "cell_type": "markdown",
   "metadata": {},
   "source": [
    "## PostProcess_v3 -> Simple Avg"
   ]
  },
  {
   "cell_type": "code",
   "execution_count": 38,
   "metadata": {},
   "outputs": [],
   "source": [
    "def post_process_v3(preds, df):\n",
    "    if \"file_id\" not in df.columns:\n",
    "        df[\"file_id\"] = df[\"audio_id\"].astype(str) + \"_\" + df[\"site\"]\n",
    "    \n",
    "    modified_preds = np.zeros_like(preds)\n",
    "    for i, file_id in enumerate(df[\"file_id\"].unique()):\n",
    "        file_id_idx = df[df[\"file_id\"] == file_id].index.values\n",
    "        mean_ = np.mean(preds[file_id_idx, :], axis=0)\n",
    "        \n",
    "        if mean_.std() >= 5e-3:\n",
    "            weight = (mean_ - mean_.mean()) / mean_.std()\n",
    "            modified_preds[file_id_idx, :] = preds[file_id_idx, :] * weight\n",
    "        else:\n",
    "            modified_preds[file_id_idx, :] = preds[file_id_idx, :]\n",
    "    \n",
    "    return modified_preds"
   ]
  },
  {
   "cell_type": "code",
   "execution_count": 39,
   "metadata": {},
   "outputs": [],
   "source": [
    "post_oof_list = []\n",
    "for oof_ in oof_list:\n",
    "    post_oof = post_process_v3(oof_, valid_df)\n",
    "    post_oof_list.append(post_oof[np.newaxis, :, :])\n",
    "post_concat_oof = np.concatenate(post_oof_list)\n",
    "\n",
    "oof = np.mean(post_concat_oof, axis=0)[use_idx, :]"
   ]
  },
  {
   "cell_type": "code",
   "execution_count": 40,
   "metadata": {},
   "outputs": [],
   "source": [
    "th_list = []\n",
    "scores = []\n",
    "\n",
    "best_score = 0\n",
    "besth_th = 0\n",
    "best_final_labels = None\n",
    "\n",
    "for i in range(300):\n",
    "    th = i / 100.0\n",
    "\n",
    "    oof_labels = extract_label(oof, th)\n",
    "\n",
    "    score = row_wise_micro_averaged_f1_score(val_y_labels, oof_labels)\n",
    "    \n",
    "    if best_score < score:\n",
    "        best_score  = score\n",
    "        best_th = th\n",
    "        best_final_labels = oof_labels\n",
    "\n",
    "    th_list.append(th)\n",
    "    scores.append(score)"
   ]
  },
  {
   "cell_type": "code",
   "execution_count": 41,
   "metadata": {},
   "outputs": [
    {
     "name": "stdout",
     "output_type": "stream",
     "text": [
      "best score: 0.6877 (th=2.3)\n"
     ]
    }
   ],
   "source": [
    "print(f\"best score: {best_score:.4f} (th={best_th})\")   # 0.6807 (th=2.56)"
   ]
  },
  {
   "cell_type": "code",
   "execution_count": 42,
   "metadata": {},
   "outputs": [
    {
     "data": {
      "image/png": "[encoded data removed]",
      "text/plain": [
       "<Figure size 432x288 with 1 Axes>"
      ]
     },
     "metadata": {
      "needs_background": "light"
     },
     "output_type": "display_data"
    }
   ],
   "source": [
    "plt.plot(th_list, scores)\n",
    "plt.grid()"
   ]
  },
  {
   "cell_type": "code",
   "execution_count": 43,
   "metadata": {},
   "outputs": [
    {
     "name": "stdout",
     "output_type": "stream",
     "text": [
      "2782: 0.3900 [0.145]\n",
      "7843: 0.9667 [-0.008]\n",
      "10534: 0.6944 [0.025]\n",
      "11254: 0.8667 [-0.033]\n",
      "18003: 0.7028 [0.206]\n",
      "20152: 0.9167 [-0.033]\n",
      "21767: 0.2139 [-0.028]\n",
      "26709: 0.5167 [-0.019]\n",
      "26746: 0.6861 [-0.008]\n",
      "28933: 0.4764 [0.014]\n",
      "31928: 1.0000 [0.008]\n",
      "42907: 0.6250 [-0.108]\n",
      "44957: 0.7583 [0.039]\n",
      "50878: 0.9000 [0.033]\n",
      "51010: 0.2333 [-0.250]\n",
      "54955: 0.8333 [-0.042]\n",
      "57610: 0.9111 [-0.022]\n"
     ]
    }
   ],
   "source": [
    "diff_scores5 = get_audio_score(best_final_labels, valid_df, score_dict)\n",
    "all_diff_scores[\"std_avg\"] = diff_scores5"
   ]
  },
  {
   "cell_type": "markdown",
   "metadata": {},
   "source": [
    " "
   ]
  },
  {
   "cell_type": "markdown",
   "metadata": {},
   "source": [
    " "
   ]
  },
  {
   "cell_type": "markdown",
   "metadata": {},
   "source": [
    "## PostProcess v4 -> Simple Avg\n",
    "それぞれの鳥の最短距離が近いほど値が大きくなるweightを作成して、oof * weightを計算"
   ]
  },
  {
   "cell_type": "code",
   "execution_count": 44,
   "metadata": {},
   "outputs": [],
   "source": [
    "def post_process_v4(preds, df):\n",
    "    site_names = list(const.POS_DICT.keys())\n",
    "    \n",
    "    distance_array = np.load(\"../data/processed/valid_distance_array_from_min_position.npy\")\n",
    "    weight_array1 = np.where(distance_array <= 1, 2, 0)\n",
    "    weight_array2 = np.where(distance_array <= 3, 1, 0)\n",
    "    weight_array3 = np.where(distance_array <= 5, 0.5, 0)\n",
    "    weight_array = weight_array1 + weight_array2 + weight_array3\n",
    "    \n",
    "    post_preds = np.zeros_like(preds)\n",
    "    for idx in df.index:\n",
    "        site = df.loc[idx, \"site\"]\n",
    "        site_idx = site_names.index(site)\n",
    "        \n",
    "        post_preds[idx, :] = preds[idx, :] * weight_array[site_idx, :]\n",
    "    \n",
    "    return post_preds"
   ]
  },
  {
   "cell_type": "code",
   "execution_count": 45,
   "metadata": {},
   "outputs": [],
   "source": [
    "post_oof_list = []\n",
    "for oof_ in oof_list:\n",
    "    post_oof = post_process_v4(oof_, valid_df)\n",
    "    post_oof_list.append(post_oof[np.newaxis, :, :])\n",
    "post_concat_oof = np.concatenate(post_oof_list)\n",
    "\n",
    "oof = np.mean(post_concat_oof, axis=0)[use_idx, :]"
   ]
  },
  {
   "cell_type": "code",
   "execution_count": 46,
   "metadata": {},
   "outputs": [],
   "source": [
    "th_list = []\n",
    "scores = []\n",
    "\n",
    "best_score = 0\n",
    "besth_th = 0\n",
    "best_final_labels = None\n",
    "\n",
    "for i in range(200):\n",
    "    th = i / 100.0\n",
    "\n",
    "    oof_labels = extract_label(oof, th)\n",
    "\n",
    "    score = row_wise_micro_averaged_f1_score(val_y_labels, oof_labels)\n",
    "    \n",
    "    if best_score < score:\n",
    "        best_score  = score\n",
    "        best_th = th\n",
    "        best_final_labels = oof_labels\n",
    "\n",
    "    th_list.append(th)\n",
    "    scores.append(score)"
   ]
  },
  {
   "cell_type": "code",
   "execution_count": 47,
   "metadata": {},
   "outputs": [
    {
     "name": "stdout",
     "output_type": "stream",
     "text": [
      "best score: 0.6856 (th=0.48)\n"
     ]
    }
   ],
   "source": [
    "print(f\"best score: {best_score:.4f} (th={best_th})\")   # best_score: 0.6879 (th=0.8)"
   ]
  },
  {
   "cell_type": "code",
   "execution_count": 48,
   "metadata": {},
   "outputs": [
    {
     "data": {
      "image/png": "[encoded data removed]",
      "text/plain": [
       "<Figure size 432x288 with 1 Axes>"
      ]
     },
     "metadata": {
      "needs_background": "light"
     },
     "output_type": "display_data"
    }
   ],
   "source": [
    "plt.plot(th_list, scores)\n",
    "plt.grid()"
   ]
  },
  {
   "cell_type": "code",
   "execution_count": 49,
   "metadata": {},
   "outputs": [
    {
     "name": "stdout",
     "output_type": "stream",
     "text": [
      "2782: 0.4644 [0.219]\n",
      "7843: 0.9833 [0.008]\n",
      "10534: 0.6833 [0.014]\n",
      "11254: 0.8194 [-0.081]\n",
      "18003: 0.6611 [0.164]\n",
      "20152: 0.9500 [0.000]\n",
      "21767: 0.3125 [0.071]\n",
      "26709: 0.5361 [0.000]\n",
      "26746: 0.6917 [-0.003]\n",
      "28933: 0.5442 [0.082]\n",
      "31928: 0.9250 [-0.067]\n",
      "42907: 0.6250 [-0.108]\n",
      "44957: 0.7083 [-0.011]\n",
      "50878: 0.9083 [0.042]\n",
      "51010: 0.2333 [-0.250]\n",
      "54955: 0.8333 [-0.042]\n",
      "57610: 0.7750 [-0.158]\n"
     ]
    }
   ],
   "source": [
    "diff_scores6 = get_audio_score(best_final_labels, valid_df, score_dict)\n",
    "all_diff_scores[\"distance_avg\"] = diff_scores6"
   ]
  },
  {
   "cell_type": "markdown",
   "metadata": {},
   "source": [
    " "
   ]
  },
  {
   "cell_type": "markdown",
   "metadata": {},
   "source": [
    " "
   ]
  },
  {
   "cell_type": "markdown",
   "metadata": {},
   "source": [
    "## PostProcess v4 -> Simple Avg + nocall classification\n",
    "それぞれの鳥の最短距離が近いほど値が大きくなるweightを作成して、oof * weightを計算"
   ]
  },
  {
   "cell_type": "code",
   "execution_count": 50,
   "metadata": {},
   "outputs": [],
   "source": [
    "def post_process_v4(preds, df):\n",
    "    site_names = list(const.POS_DICT.keys())\n",
    "    \n",
    "    distance_array = np.load(\"../data/processed/valid_distance_array_from_min_position.npy\")\n",
    "    weight_array1 = np.where(distance_array <= 1, 2, 0)\n",
    "    weight_array2 = np.where(distance_array <= 3, 1, 0)\n",
    "    weight_array3 = np.where(distance_array <= 5, 0.5, 0)\n",
    "    weight_array = weight_array1 + weight_array2 + weight_array3\n",
    "    \n",
    "    post_preds = np.zeros_like(preds)\n",
    "    for idx in df.index:\n",
    "        site = df.loc[idx, \"site\"]\n",
    "        site_idx = site_names.index(site)\n",
    "        \n",
    "        post_preds[idx, :] = preds[idx, :] * weight_array[site_idx, :]\n",
    "    \n",
    "    return post_preds"
   ]
  },
  {
   "cell_type": "code",
   "execution_count": 51,
   "metadata": {},
   "outputs": [],
   "source": [
    "post_oof_list = []\n",
    "for oof_ in oof_list:\n",
    "    post_oof = post_process_v4(oof_, valid_df)\n",
    "    post_oof_list.append(post_oof[np.newaxis, :, :])\n",
    "post_concat_oof = np.concatenate(post_oof_list)\n",
    "\n",
    "oof = np.mean(post_concat_oof, axis=0)[use_idx, :]"
   ]
  },
  {
   "cell_type": "code",
   "execution_count": 52,
   "metadata": {},
   "outputs": [],
   "source": [
    "for idx in range(len(oof)):\n",
    "    nocall_p = 1 - oof99[idx]\n",
    "    if nocall_p <= 0.05:\n",
    "        col_idx = np.argsort(oof[idx, :])[-1:]\n",
    "        oof[idx, col_idx] *= 3"
   ]
  },
  {
   "cell_type": "code",
   "execution_count": 53,
   "metadata": {},
   "outputs": [],
   "source": [
    "th_list = []\n",
    "scores = []\n",
    "\n",
    "best_score = 0\n",
    "besth_th = 0\n",
    "best_final_labels = None\n",
    "\n",
    "for i in range(300):\n",
    "    th = i / 100.0\n",
    "\n",
    "    oof_labels = extract_label(oof, th)\n",
    "\n",
    "    score = row_wise_micro_averaged_f1_score(val_y_labels, oof_labels)\n",
    "    \n",
    "    if best_score < score:\n",
    "        best_score  = score\n",
    "        best_th = th\n",
    "        best_final_labels = oof_labels\n",
    "\n",
    "    th_list.append(th)\n",
    "    scores.append(score)"
   ]
  },
  {
   "cell_type": "code",
   "execution_count": 54,
   "metadata": {},
   "outputs": [
    {
     "name": "stdout",
     "output_type": "stream",
     "text": [
      "best score: 0.6877 (th=1.41)\n"
     ]
    }
   ],
   "source": [
    "print(f\"best score: {best_score:.4f} (th={best_th})\")   # best_score: 0.6902 (th=1.61)"
   ]
  },
  {
   "cell_type": "code",
   "execution_count": 55,
   "metadata": {},
   "outputs": [
    {
     "data": {
      "image/png": "[encoded data removed]",
      "text/plain": [
       "<Figure size 432x288 with 1 Axes>"
      ]
     },
     "metadata": {
      "needs_background": "light"
     },
     "output_type": "display_data"
    }
   ],
   "source": [
    "plt.plot(th_list, scores)\n",
    "plt.grid()"
   ]
  },
  {
   "cell_type": "code",
   "execution_count": 56,
   "metadata": {},
   "outputs": [
    {
     "name": "stdout",
     "output_type": "stream",
     "text": [
      "2782: 0.4544 [0.209]\n",
      "7843: 0.9750 [0.000]\n",
      "10534: 0.6944 [0.025]\n",
      "11254: 0.8139 [-0.086]\n",
      "18003: 0.6528 [0.156]\n",
      "20152: 0.9750 [0.025]\n",
      "21767: 0.3153 [0.074]\n",
      "26709: 0.5611 [0.025]\n",
      "26746: 0.6861 [-0.008]\n",
      "28933: 0.5347 [0.072]\n",
      "31928: 0.9417 [-0.050]\n",
      "42907: 0.6250 [-0.108]\n",
      "44957: 0.7111 [-0.008]\n",
      "50878: 0.9083 [0.042]\n",
      "51010: 0.2333 [-0.250]\n",
      "54955: 0.8333 [-0.042]\n",
      "57610: 0.7750 [-0.158]\n"
     ]
    }
   ],
   "source": [
    "diff_scores7 = get_audio_score(best_final_labels, valid_df, score_dict)\n",
    "all_diff_scores[\"distance_avg_nc\"] = diff_scores7"
   ]
  },
  {
   "cell_type": "markdown",
   "metadata": {},
   "source": [
    " "
   ]
  },
  {
   "cell_type": "markdown",
   "metadata": {},
   "source": [
    " "
   ]
  },
  {
   "cell_type": "markdown",
   "metadata": {},
   "source": [
    "## PostProcess v2 + v4 -> Simple Avg"
   ]
  },
  {
   "cell_type": "code",
   "execution_count": 57,
   "metadata": {},
   "outputs": [],
   "source": [
    "c=1.0\n",
    "q=0.99\n",
    "w=1.0\n",
    "\n",
    "post_oof_list= []\n",
    "for oof_ in oof_list:\n",
    "    post_oof_ = post_process_v4(oof_, valid_df)\n",
    "    post_oof_ = post_process_v2(post_oof_, valid_df, c, q, w)\n",
    "    post_oof_list.append(post_oof_[np.newaxis, :, :])\n",
    "\n",
    "post_concat_oof = np.concatenate(post_oof_list, axis=0)\n",
    "oof = np.mean(post_concat_oof, axis=0)[use_idx, :]"
   ]
  },
  {
   "cell_type": "code",
   "execution_count": 58,
   "metadata": {},
   "outputs": [],
   "source": [
    "th_list = []\n",
    "scores = []\n",
    "\n",
    "best_score = 0\n",
    "besth_th = 0\n",
    "best_final_labels = None\n",
    "\n",
    "for i in range(200):\n",
    "    th = i / 100.0\n",
    "\n",
    "    oof_labels = extract_label(oof, th)\n",
    "\n",
    "    score = row_wise_micro_averaged_f1_score(val_y_labels, oof_labels)\n",
    "    \n",
    "    if best_score < score:\n",
    "        best_score  = score\n",
    "        best_th = th\n",
    "        best_final_labels = oof_labels\n",
    "\n",
    "    th_list.append(th)\n",
    "    scores.append(score)"
   ]
  },
  {
   "cell_type": "code",
   "execution_count": 59,
   "metadata": {},
   "outputs": [
    {
     "name": "stdout",
     "output_type": "stream",
     "text": [
      "best score: 0.6856 (th=0.48)\n"
     ]
    }
   ],
   "source": [
    "print(f\"best score: {best_score:.4f} (th={best_th})\")   #  best_score: 0.6879 (th=0.8)"
   ]
  },
  {
   "cell_type": "code",
   "execution_count": 60,
   "metadata": {},
   "outputs": [
    {
     "data": {
      "image/png": "[encoded data removed]",
      "text/plain": [
       "<Figure size 432x288 with 1 Axes>"
      ]
     },
     "metadata": {
      "needs_background": "light"
     },
     "output_type": "display_data"
    }
   ],
   "source": [
    "plt.plot(th_list, scores)\n",
    "plt.grid()"
   ]
  },
  {
   "cell_type": "code",
   "execution_count": 61,
   "metadata": {},
   "outputs": [
    {
     "name": "stdout",
     "output_type": "stream",
     "text": [
      "2782: 0.4644 [0.219]\n",
      "7843: 0.9833 [0.008]\n",
      "10534: 0.6833 [0.014]\n",
      "11254: 0.8194 [-0.081]\n",
      "18003: 0.6611 [0.164]\n",
      "20152: 0.9500 [0.000]\n",
      "21767: 0.3125 [0.071]\n",
      "26709: 0.5361 [0.000]\n",
      "26746: 0.6917 [-0.003]\n",
      "28933: 0.5442 [0.082]\n",
      "31928: 0.9250 [-0.067]\n",
      "42907: 0.6250 [-0.108]\n",
      "44957: 0.7083 [-0.011]\n",
      "50878: 0.9083 [0.042]\n",
      "51010: 0.2333 [-0.250]\n",
      "54955: 0.8333 [-0.042]\n",
      "57610: 0.7750 [-0.158]\n"
     ]
    }
   ],
   "source": [
    "diff_scores8 = get_audio_score(best_final_labels, valid_df, score_dict)\n",
    "all_diff_scores[\"distance_cqw_avg\"] = diff_scores8"
   ]
  },
  {
   "cell_type": "markdown",
   "metadata": {},
   "source": [
    " "
   ]
  },
  {
   "cell_type": "markdown",
   "metadata": {},
   "source": [
    " "
   ]
  },
  {
   "cell_type": "markdown",
   "metadata": {},
   "source": [
    "## 前後のlabelがfist_labelと一致していたら..."
   ]
  },
  {
   "cell_type": "code",
   "execution_count": 62,
   "metadata": {},
   "outputs": [],
   "source": [
    "def intersect(df, col1, col2):\n",
    "    intersect_list = []\n",
    "    for idx in df.index.values:\n",
    "        col1_array = df.loc[idx, col1].split(\" \")\n",
    "        col2_array = df.loc[idx, col2].split(\" \")\n",
    "        intersect = np.intersect1d(col1_array, col2_array)\n",
    "        intersect_list.append(\" \".join(list(intersect)))\n",
    "        \n",
    "    return intersect_list\n",
    "\n",
    "\n",
    "def shift(df, freq):\n",
    "    shift_array = np.array([None] * len(df))\n",
    "\n",
    "    gp = df.groupby(\"audio_id\")\n",
    "    for audio_id, audio_df in gp:\n",
    "        idxs = audio_df.index.values\n",
    "        audio_shift_array = audio_df[\"pred_labels\"].shift(freq).values\n",
    "        \n",
    "        if freq > 0:\n",
    "            audio_shift_array[:freq] = \"None\"\n",
    "        elif freq < 0:\n",
    "            audio_shift_array[freq:] = \"None\"\n",
    "            \n",
    "        shift_array[idxs] = audio_shift_array\n",
    "\n",
    "    return shift_array\n",
    "\n",
    "\n",
    "def arrange_label(label_array):\n",
    "    arranged_label_array = label_array.copy()\n",
    "    for idx, label in enumerate(label_array):\n",
    "        label_list = label.split(\" \")\n",
    "        if \"nocall\" in label_list and len(label_list) >= 2:\n",
    "            label_list.remove(\"nocall\")\n",
    "        \n",
    "        arranged_label_array[idx] = \" \".join(set(label_list))\n",
    "        \n",
    "    return arranged_label_array\n",
    "    \n",
    "\n",
    "def post_process_v5(preds, pred_labels, df, window_size=1):\n",
    "    df_  = df.copy()\n",
    "    \n",
    "    df_[\"pred_labels\"] = pred_labels\n",
    "    df_[\"first_label\"] = [const.INV_BIRD_CODE[bc] for bc in np.argsort(preds)[:, -1]]\n",
    "    \n",
    "    for i in range(window_size):\n",
    "        df_[f\"pre_pred_labels{i}\"] = shift(df_, freq=(i + 1))\n",
    "        df_[f\"post_pred_labels{i}\"] = shift(df_, freq=-(i + 1))\n",
    "    \n",
    "        df_[f\"pre_intersect{i}\"] = intersect(df_, \"first_label\", f\"pre_pred_labels{i}\")\n",
    "        df_[f\"post_intersect{i}\"] = intersect(df_, \"first_label\", f\"post_pred_labels{i}\")\n",
    "    \n",
    "    concat_labels = df_[\"pred_labels\"]\n",
    "    for col in df_.columns:\n",
    "        if \"pre_intersect\" in col or \"post_intersect\" in col:\n",
    "            concat_labels += df_[col].apply(lambda x: f\" {x}\" if len(x) > 0 else \"\")\n",
    "            \n",
    "    df_[\"concat_labels\"] = concat_labels\n",
    "    \n",
    "    post_labels = arrange_label(df_[\"concat_labels\"])\n",
    "    \n",
    "    return post_labels"
   ]
  },
  {
   "cell_type": "code",
   "execution_count": 63,
   "metadata": {},
   "outputs": [],
   "source": [
    "valid_df2 = valid_df.copy()\n",
    "\n",
    "oof = np.mean(concat_oof, axis=0)[use_idx, :]"
   ]
  },
  {
   "cell_type": "code",
   "execution_count": 64,
   "metadata": {
    "scrolled": true
   },
   "outputs": [
    {
     "data": {
      "application/vnd.jupyter.widget-view+json": {
       "model_id": "7759c84267214cb984f2dd41b0de4e81",
       "version_major": 2,
       "version_minor": 0
      },
      "text/plain": [
       "HBox(children=(IntProgress(value=0), HTML(value='')))"
      ]
     },
     "metadata": {},
     "output_type": "display_data"
    },
    {
     "name": "stdout",
     "output_type": "stream",
     "text": [
      "\n"
     ]
    }
   ],
   "source": [
    "th_list = []\n",
    "scores = []\n",
    "\n",
    "best_score = 0\n",
    "besth_th = 0\n",
    "best_final_labels = None\n",
    "\n",
    "for i in tqdm(range(100)):\n",
    "    th = i / 100.0\n",
    "\n",
    "    oof_labels = extract_label(oof, th)\n",
    "    post_labels = post_process_v5(oof, oof_labels, valid_df2, window_size=2)\n",
    "\n",
    "    score = row_wise_micro_averaged_f1_score(val_y_labels, post_labels)\n",
    "    \n",
    "    if best_score < score:\n",
    "        best_score  = score\n",
    "        best_th = th\n",
    "        best_final_labels = post_labels\n",
    "\n",
    "    th_list.append(th)\n",
    "    scores.append(score)"
   ]
  },
  {
   "cell_type": "code",
   "execution_count": 65,
   "metadata": {},
   "outputs": [
    {
     "name": "stdout",
     "output_type": "stream",
     "text": [
      "best score: 0.7115 (th=0.3)\n"
     ]
    }
   ],
   "source": [
    "print(f\"best score: {best_score:.4f} (th={best_th})\")   # best score: 0.7218 (th=0.26)"
   ]
  },
  {
   "cell_type": "code",
   "execution_count": 66,
   "metadata": {},
   "outputs": [
    {
     "data": {
      "image/png": "[encoded data removed]",
      "text/plain": [
       "<Figure size 432x288 with 1 Axes>"
      ]
     },
     "metadata": {
      "needs_background": "light"
     },
     "output_type": "display_data"
    }
   ],
   "source": [
    "plt.plot(th_list, scores)\n",
    "plt.grid()"
   ]
  },
  {
   "cell_type": "code",
   "execution_count": 67,
   "metadata": {},
   "outputs": [
    {
     "name": "stdout",
     "output_type": "stream",
     "text": [
      "2782: 0.3558 [0.111]\n",
      "7843: 0.9833 [0.008]\n",
      "10534: 0.6667 [-0.003]\n",
      "11254: 0.8583 [-0.042]\n",
      "18003: 0.6444 [0.147]\n",
      "20152: 0.8833 [-0.067]\n",
      "21767: 0.2944 [0.053]\n",
      "26709: 0.5500 [0.014]\n",
      "26746: 0.7028 [0.008]\n",
      "28933: 0.5181 [0.056]\n",
      "31928: 0.9917 [0.000]\n",
      "42907: 0.8083 [0.075]\n",
      "44957: 0.7278 [0.008]\n",
      "50878: 0.7917 [-0.075]\n",
      "51010: 0.5528 [0.069]\n",
      "54955: 0.8750 [0.000]\n",
      "57610: 0.8917 [-0.042]\n"
     ]
    }
   ],
   "source": [
    "diff_scores9 = get_audio_score(best_final_labels, valid_df, score_dict)\n",
    "all_diff_scores[\"firstlabel_replace\"] = diff_scores9"
   ]
  },
  {
   "cell_type": "markdown",
   "metadata": {},
   "source": [
    " "
   ]
  },
  {
   "cell_type": "markdown",
   "metadata": {},
   "source": [
    " "
   ]
  },
  {
   "cell_type": "markdown",
   "metadata": {},
   "source": [
    "## PostProcessV6"
   ]
  },
  {
   "cell_type": "markdown",
   "metadata": {},
   "source": [
    "- oof_labels = \"nocall\" & birdcall_p >= 0.99だったら、first_labelを採用"
   ]
  },
  {
   "cell_type": "code",
   "execution_count": 68,
   "metadata": {},
   "outputs": [],
   "source": [
    "def post_process_v6(preds, pred_labels, birdcall_preds, df):\n",
    "    first_label = [const.INV_BIRD_CODE[bc] for bc in np.argsort(preds, axis=1)[:, -1]]\n",
    "\n",
    "    processed_pred_labels = []\n",
    "    for idx, labels in enumerate(pred_labels):\n",
    "        if labels == \"nocall\" and birdcall_preds[idx] >= 0.99 and np.max(preds[idx, :]) >= 0.1:\n",
    "            processed_pred_labels.append(first_label[idx])\n",
    "        else:\n",
    "            processed_pred_labels.append(labels)\n",
    "    \n",
    "    return processed_pred_labels"
   ]
  },
  {
   "cell_type": "code",
   "execution_count": 69,
   "metadata": {},
   "outputs": [],
   "source": [
    "oof = np.mean(concat_oof, axis=0)[use_idx, :]"
   ]
  },
  {
   "cell_type": "code",
   "execution_count": 70,
   "metadata": {},
   "outputs": [
    {
     "data": {
      "application/vnd.jupyter.widget-view+json": {
       "model_id": "a8417d392f6048ab8506b4d30cb7d97c",
       "version_major": 2,
       "version_minor": 0
      },
      "text/plain": [
       "HBox(children=(IntProgress(value=0), HTML(value='')))"
      ]
     },
     "metadata": {},
     "output_type": "display_data"
    },
    {
     "name": "stdout",
     "output_type": "stream",
     "text": [
      "\n"
     ]
    }
   ],
   "source": [
    "th_list = []\n",
    "scores = []\n",
    "\n",
    "best_score = 0\n",
    "besth_th = 0\n",
    "best_final_labels = None\n",
    "\n",
    "for i in tqdm(range(100)):\n",
    "    th = i / 100.0\n",
    "\n",
    "    oof_labels = extract_label(oof, th)\n",
    "    post_labels = post_process_v6(oof, oof_labels, oof99, valid_df)\n",
    "\n",
    "    score = row_wise_micro_averaged_f1_score(val_y_labels, post_labels)\n",
    "    \n",
    "    if best_score < score:\n",
    "        best_score  = score\n",
    "        best_th = th\n",
    "        best_final_labels = oof_labels\n",
    "\n",
    "    th_list.append(th)\n",
    "    scores.append(score)"
   ]
  },
  {
   "cell_type": "code",
   "execution_count": 71,
   "metadata": {},
   "outputs": [
    {
     "name": "stdout",
     "output_type": "stream",
     "text": [
      "best score: 0.6645 (th=0.31)\n"
     ]
    }
   ],
   "source": [
    "print(f\"best score: {best_score:.4f} (th={best_th})\")   # best score: 0.6610 (th=0.36)"
   ]
  },
  {
   "cell_type": "code",
   "execution_count": 72,
   "metadata": {},
   "outputs": [
    {
     "data": {
      "image/png": "[encoded data removed]",
      "text/plain": [
       "<Figure size 432x288 with 1 Axes>"
      ]
     },
     "metadata": {
      "needs_background": "light"
     },
     "output_type": "display_data"
    }
   ],
   "source": [
    "plt.plot(th_list, scores)\n",
    "plt.grid()"
   ]
  },
  {
   "cell_type": "code",
   "execution_count": 73,
   "metadata": {},
   "outputs": [
    {
     "name": "stdout",
     "output_type": "stream",
     "text": [
      "2782: 0.2533 [0.008]\n",
      "7843: 0.9750 [0.000]\n",
      "10534: 0.6583 [-0.011]\n",
      "11254: 0.8917 [-0.008]\n",
      "18003: 0.5139 [0.017]\n",
      "20152: 0.9500 [0.000]\n",
      "21767: 0.2583 [0.017]\n",
      "26709: 0.5361 [0.000]\n",
      "26746: 0.7028 [0.008]\n",
      "28933: 0.4625 [0.000]\n",
      "31928: 0.9917 [0.000]\n",
      "42907: 0.7417 [0.008]\n",
      "44957: 0.7194 [0.000]\n",
      "50878: 0.8500 [-0.017]\n",
      "51010: 0.4889 [0.006]\n",
      "54955: 0.8833 [0.008]\n",
      "57610: 0.9333 [0.000]\n"
     ]
    }
   ],
   "source": [
    "diff_scores10 = get_audio_score(best_final_labels, valid_df, score_dict)\n",
    "all_diff_scores[\"nocall_birdcall_replace\"] = diff_scores10"
   ]
  },
  {
   "cell_type": "markdown",
   "metadata": {},
   "source": [
    " "
   ]
  },
  {
   "cell_type": "markdown",
   "metadata": {},
   "source": [
    " "
   ]
  },
  {
   "cell_type": "markdown",
   "metadata": {},
   "source": [
    "## PostProcessV7"
   ]
  },
  {
   "cell_type": "markdown",
   "metadata": {},
   "source": [
    "- audio_id全体のbirdcall_predsの平均値が0.5以上だったら、PostProcessV5"
   ]
  },
  {
   "cell_type": "code",
   "execution_count": 74,
   "metadata": {},
   "outputs": [],
   "source": [
    "def intersect(df, col1, col2):\n",
    "    intersect_list = []\n",
    "    for idx in df.index.values:\n",
    "        col1_array = df.loc[idx, col1].split(\" \")\n",
    "        col2_array = df.loc[idx, col2].split(\" \")\n",
    "        intersect = np.intersect1d(col1_array, col2_array)\n",
    "        intersect_list.append(\" \".join(list(intersect)))\n",
    "        \n",
    "    return intersect_list\n",
    "\n",
    "\n",
    "def shift(df, freq):\n",
    "    shift_array = np.array([None] * len(df))\n",
    "\n",
    "    gp = df.groupby(\"audio_id\")\n",
    "    for audio_id, audio_df in gp:\n",
    "        idxs = audio_df.index.values\n",
    "        audio_shift_array = audio_df[\"pred_labels\"].shift(freq).values\n",
    "        \n",
    "        if freq > 0:\n",
    "            audio_shift_array[:freq] = \"None\"\n",
    "        elif freq < 0:\n",
    "            audio_shift_array[freq:] = \"None\"\n",
    "            \n",
    "        shift_array[idxs] = audio_shift_array\n",
    "\n",
    "    return shift_array\n",
    "\n",
    "\n",
    "def arrange_label(label_array):\n",
    "    arranged_label_array = label_array.copy()\n",
    "    for idx, label in enumerate(label_array):\n",
    "        label_list = label.split(\" \")\n",
    "        if \"nocall\" in label_list and len(label_list) >= 2:\n",
    "            label_list.remove(\"nocall\")\n",
    "        \n",
    "        arranged_label_array[idx] = \" \".join(set(label_list))\n",
    "        \n",
    "    return arranged_label_array\n",
    "    \n",
    "\n",
    "def post_process_v7(preds, pred_labels, birdcall_preds, df, window_size=1):\n",
    "    df_  = df.copy()\n",
    "    \n",
    "    df_[\"pred_labels\"] = pred_labels\n",
    "    df_[\"first_label\"] = [const.INV_BIRD_CODE[bc] for bc in np.argsort(preds)[:, -1]]\n",
    "    df_[\"birdcall_preds\"] = birdcall_preds\n",
    "    df_[\"sum_birdcall_preds\"] = df_.groupby(\"audio_id\")[\"birdcall_preds\"].transform(\"mean\")\n",
    "    \n",
    "    for i in range(window_size):\n",
    "        df_[f\"pre_pred_labels{i}\"] = shift(df_, freq=(i + 1))\n",
    "        df_[f\"post_pred_labels{i}\"] = shift(df_, freq=-(i + 1))\n",
    "    \n",
    "        df_[f\"pre_intersect{i}\"] = intersect(df_, \"first_label\", f\"pre_pred_labels{i}\")\n",
    "        df_[f\"post_intersect{i}\"] = intersect(df_, \"first_label\", f\"post_pred_labels{i}\")\n",
    "    \n",
    "    concat_labels = df_[\"pred_labels\"]\n",
    "    for col in df_.columns:\n",
    "        if \"pre_intersect\" in col or \"post_intersect\" in col:\n",
    "            concat_labels += df_[col].apply(lambda x: f\" {x}\" if len(x) > 0 else \"\")\n",
    "            \n",
    "    df_[\"concat_labels\"] = arrange_label(concat_labels)\n",
    "    \n",
    "    post_pred_labels = []\n",
    "    for idx in df_.index:\n",
    "        audio_birdcall_preds = df_.loc[idx, \"sum_birdcall_preds\"]\n",
    "        if audio_birdcall_preds >= 0.5:\n",
    "            post_label = df_.loc[idx, \"concat_labels\"]\n",
    "        else:\n",
    "            post_label = df_.loc[idx, \"pred_labels\"]\n",
    "            \n",
    "        post_pred_labels.append(post_label)\n",
    "    \n",
    "    return post_pred_labels"
   ]
  },
  {
   "cell_type": "code",
   "execution_count": 75,
   "metadata": {},
   "outputs": [],
   "source": [
    "oof = np.mean(concat_oof, axis=0)[use_idx, :]"
   ]
  },
  {
   "cell_type": "code",
   "execution_count": 76,
   "metadata": {
    "scrolled": true
   },
   "outputs": [
    {
     "data": {
      "application/vnd.jupyter.widget-view+json": {
       "model_id": "38ed675e5631450f9687319ae891cda4",
       "version_major": 2,
       "version_minor": 0
      },
      "text/plain": [
       "HBox(children=(IntProgress(value=0), HTML(value='')))"
      ]
     },
     "metadata": {},
     "output_type": "display_data"
    },
    {
     "name": "stdout",
     "output_type": "stream",
     "text": [
      "\n"
     ]
    }
   ],
   "source": [
    "th_list = []\n",
    "scores = []\n",
    "\n",
    "best_score = 0\n",
    "besth_th = 0\n",
    "best_final_labels = None\n",
    "\n",
    "for i in tqdm(range(100)):\n",
    "    th = i / 100.0\n",
    "\n",
    "    oof_labels = extract_label(oof, th)\n",
    "    post_labels = post_process_v7(oof, oof_labels, oof99, valid_df, window_size=2)\n",
    "\n",
    "    score = row_wise_micro_averaged_f1_score(val_y_labels, post_labels)\n",
    "    \n",
    "    if best_score < score:\n",
    "        best_score  = score\n",
    "        best_th = th\n",
    "        best_final_labels = oof_labels\n",
    "\n",
    "    th_list.append(th)\n",
    "    scores.append(score)"
   ]
  },
  {
   "cell_type": "code",
   "execution_count": 77,
   "metadata": {},
   "outputs": [
    {
     "name": "stdout",
     "output_type": "stream",
     "text": [
      "best score: 0.7143 (th=0.3)\n"
     ]
    }
   ],
   "source": [
    "print(f\"best score: {best_score:.4f} (th={best_th})\")   # 0.7243 (th=0.26)"
   ]
  },
  {
   "cell_type": "code",
   "execution_count": 78,
   "metadata": {},
   "outputs": [
    {
     "data": {
      "image/png": "[encoded data removed]",
      "text/plain": [
       "<Figure size 432x288 with 1 Axes>"
      ]
     },
     "metadata": {
      "needs_background": "light"
     },
     "output_type": "display_data"
    }
   ],
   "source": [
    "plt.plot(th_list, scores)\n",
    "plt.grid()"
   ]
  },
  {
   "cell_type": "code",
   "execution_count": 79,
   "metadata": {},
   "outputs": [
    {
     "name": "stdout",
     "output_type": "stream",
     "text": [
      "2782: 0.2664 [0.021]\n",
      "7843: 0.9750 [0.000]\n",
      "10534: 0.6667 [-0.003]\n",
      "11254: 0.8917 [-0.008]\n",
      "18003: 0.5139 [0.017]\n",
      "20152: 0.9500 [0.000]\n",
      "21767: 0.2667 [0.025]\n",
      "26709: 0.5361 [0.000]\n",
      "26746: 0.7028 [0.008]\n",
      "28933: 0.4667 [0.004]\n",
      "31928: 0.9917 [0.000]\n",
      "42907: 0.7417 [0.008]\n",
      "44957: 0.7194 [0.000]\n",
      "50878: 0.8417 [-0.025]\n",
      "51010: 0.4972 [0.014]\n",
      "54955: 0.8667 [-0.008]\n",
      "57610: 0.9333 [0.000]\n"
     ]
    }
   ],
   "source": [
    "diff_scores11 = get_audio_score(best_final_labels, valid_df, score_dict)\n",
    "all_diff_scores[\"birdcall_preds0.5_and_v5\"] = diff_scores11"
   ]
  },
  {
   "cell_type": "markdown",
   "metadata": {},
   "source": [
    " "
   ]
  },
  {
   "cell_type": "markdown",
   "metadata": {},
   "source": [
    " "
   ]
  },
  {
   "cell_type": "markdown",
   "metadata": {},
   "source": [
    "## PostProcessV8"
   ]
  },
  {
   "cell_type": "markdown",
   "metadata": {},
   "source": [
    "- PostProcessV5の修正版"
   ]
  },
  {
   "cell_type": "code",
   "execution_count": 80,
   "metadata": {
    "scrolled": true
   },
   "outputs": [],
   "source": [
    "def shift(df, pred_labels, freq):\n",
    "    shift_labels = [None] * len(df)\n",
    "\n",
    "    gp = df.groupby(\"audio_id\")\n",
    "    for audio_id, audio_df in gp:\n",
    "        idxs = audio_df.index.values\n",
    "        audio_shift_labels = np.roll(pred_labels[idxs[0]: idxs[-1] + 1], freq)\n",
    "        \n",
    "        if freq > 0:\n",
    "            audio_shift_labels[:freq] = \"None\"\n",
    "        elif freq < 0:\n",
    "            audio_shift_labels[freq:] = \"None\"\n",
    "            \n",
    "        shift_labels[idxs[0]: idxs[-1] + 1] = audio_shift_labels\n",
    "\n",
    "    return shift_labels\n",
    "\n",
    "\n",
    "def intersect(labels_list1, labels_list2):\n",
    "    intersect_list = []\n",
    "    for idx in range(len(labels_list1)):\n",
    "        lables1 = labels_list1[idx].split(\" \")\n",
    "        lables2 = labels_list2[idx].split(\" \")\n",
    "        \n",
    "        intersect = np.intersect1d(lables1, lables2)\n",
    "        if len(intersect) == 0:\n",
    "            intersect = [\"nocall\"]\n",
    "        intersect_list.append(\" \".join(list(intersect)))\n",
    "        \n",
    "    return intersect_list\n",
    "\n",
    "\n",
    "def add_label(labels_list1, labels_list2):\n",
    "    added_labels_list = []\n",
    "    for labels1, labels2 in zip(labels_list1, labels_list2):\n",
    "\n",
    "        if labels1 == \"nocall\":\n",
    "            if labels2 == \"nocall\":\n",
    "                added_labels_list.append(\"nocall\")\n",
    "            else:\n",
    "                added_labels_list.append(labels2)\n",
    "        \n",
    "        else:\n",
    "            if labels2 == \"nocall\":\n",
    "                added_labels_list.append(labels1)\n",
    "            else:\n",
    "                added_labels = list(set((labels1 + \" \" + labels2).split(\" \")))\n",
    "                added_labels_list.append(\" \".join(added_labels))\n",
    "    \n",
    "    return added_labels_list\n",
    "\n",
    "\n",
    "def post_process_v8(preds, pred_labels, df, window_size=1):\n",
    "    confident_labels = [const.INV_BIRD_CODE[bc] for bc in np.argsort(preds)[:, -1]]\n",
    "\n",
    "    final_labels_list = pred_labels.copy()\n",
    "    for w in range(window_size):\n",
    "        for freq in [w + 1, -(w + 1)]:\n",
    "            shift_labels = shift(df, pred_labels, freq)\n",
    "            shift_intersect_labels = intersect(confident_labels, shift_labels)\n",
    "            final_labels_list = add_label(final_labels_list, shift_intersect_labels)\n",
    "        \n",
    "    return final_labels_list"
   ]
  },
  {
   "cell_type": "code",
   "execution_count": 81,
   "metadata": {
    "scrolled": true
   },
   "outputs": [],
   "source": [
    "oof = np.mean(concat_oof, axis=0)[use_idx, :]"
   ]
  },
  {
   "cell_type": "code",
   "execution_count": 82,
   "metadata": {
    "scrolled": true
   },
   "outputs": [
    {
     "data": {
      "application/vnd.jupyter.widget-view+json": {
       "model_id": "f700220ccfe04577991209573c8f9377",
       "version_major": 2,
       "version_minor": 0
      },
      "text/plain": [
       "HBox(children=(IntProgress(value=0), HTML(value='')))"
      ]
     },
     "metadata": {},
     "output_type": "display_data"
    },
    {
     "name": "stdout",
     "output_type": "stream",
     "text": [
      "\n"
     ]
    }
   ],
   "source": [
    "th_list = []\n",
    "scores = []\n",
    "\n",
    "best_score = 0\n",
    "besth_th = 0\n",
    "best_final_labels = None\n",
    "\n",
    "for i in tqdm(range(100)):\n",
    "    th = i / 100.0\n",
    "\n",
    "    oof_labels = extract_label(oof, th)\n",
    "    post_labels = post_process_v8(oof, oof_labels, valid_df, window_size=3)\n",
    "\n",
    "    score = row_wise_micro_averaged_f1_score(val_y_labels, post_labels)\n",
    "    \n",
    "    if best_score < score:\n",
    "        best_score  = score\n",
    "        best_th = th\n",
    "        best_final_labels = post_labels\n",
    "\n",
    "    th_list.append(th)\n",
    "    scores.append(score)"
   ]
  },
  {
   "cell_type": "code",
   "execution_count": 83,
   "metadata": {},
   "outputs": [
    {
     "name": "stdout",
     "output_type": "stream",
     "text": [
      "best score: 0.7120 (th=0.42)\n"
     ]
    }
   ],
   "source": [
    "print(f\"best score: {best_score:.4f} (th={best_th})\")   # best score: 0.7224 (th=0.27)"
   ]
  },
  {
   "cell_type": "code",
   "execution_count": 84,
   "metadata": {},
   "outputs": [
    {
     "data": {
      "image/png": "[encoded data removed]",
      "text/plain": [
       "<Figure size 432x288 with 1 Axes>"
      ]
     },
     "metadata": {
      "needs_background": "light"
     },
     "output_type": "display_data"
    }
   ],
   "source": [
    "plt.plot(th_list, scores)\n",
    "plt.grid()"
   ]
  },
  {
   "cell_type": "code",
   "execution_count": 85,
   "metadata": {
    "scrolled": true
   },
   "outputs": [
    {
     "name": "stdout",
     "output_type": "stream",
     "text": [
      "2782: 0.3372 [0.092]\n",
      "7843: 0.9833 [0.008]\n",
      "10534: 0.6861 [0.017]\n",
      "11254: 0.8833 [-0.017]\n",
      "18003: 0.6444 [0.147]\n",
      "20152: 0.9167 [-0.033]\n",
      "21767: 0.2750 [0.033]\n",
      "26709: 0.5444 [0.008]\n",
      "26746: 0.7028 [0.008]\n",
      "28933: 0.4861 [0.024]\n",
      "31928: 0.9917 [0.000]\n",
      "42907: 0.8167 [0.083]\n",
      "44957: 0.7194 [0.000]\n",
      "50878: 0.7917 [-0.075]\n",
      "51010: 0.5444 [0.061]\n",
      "54955: 0.8833 [0.008]\n",
      "57610: 0.8972 [-0.036]\n"
     ]
    }
   ],
   "source": [
    "best_labels8 = best_final_labels\n",
    "diff_scores12 = get_audio_score(best_final_labels, valid_df, score_dict)\n",
    "all_diff_scores[\"modified_firstlabel_replace\"] = diff_scores12"
   ]
  },
  {
   "cell_type": "code",
   "execution_count": 86,
   "metadata": {
    "scrolled": true
   },
   "outputs": [
    {
     "data": {
      "text/plain": [
       "nocall     156\n",
       "rucwar      63\n",
       "obnthr1      7\n",
       "grasal1      4\n",
       "wbwwre1      3\n",
       "rubwre1      3\n",
       "bucmot2      2\n",
       "sthwoo1      1\n",
       "yebfly       1\n",
       "Name: preds, dtype: int64"
      ]
     },
     "execution_count": 86,
     "metadata": {},
     "output_type": "execute_result"
    }
   ],
   "source": [
    "a = valid_df.copy()\n",
    "a[\"preds\"] = best_final_labels\n",
    "a.iloc[:240][\"preds\"].value_counts()"
   ]
  },
  {
   "cell_type": "markdown",
   "metadata": {},
   "source": [
    " "
   ]
  },
  {
   "cell_type": "markdown",
   "metadata": {},
   "source": [
    " "
   ]
  },
  {
   "cell_type": "markdown",
   "metadata": {},
   "source": [
    "## Avg -> V2 -> V8"
   ]
  },
  {
   "cell_type": "code",
   "execution_count": 87,
   "metadata": {},
   "outputs": [],
   "source": [
    "def post_process_v2_plus(preds, df, c=2, q=0.99, w=1.5):\n",
    "    post_preds = preds.copy()\n",
    "    \n",
    "    gp = df.groupby(\"audio_id\")\n",
    "    for audio_id, audio_df in gp:\n",
    "        idxs = audio_df.index.values\n",
    "        \n",
    "        audio_preds = preds[idxs, :]\n",
    "        audio_preds_mean = np.mean(audio_preds, axis=0)\n",
    "        audio_preds_mean_ = audio_preds_mean / audio_preds_mean.max()\n",
    "        quantile = np.quantile(audio_preds_mean_, q)\n",
    "\n",
    "        for bc in np.argsort(audio_preds_mean_)[::-1]:\n",
    "            v = audio_preds_mean_[bc]\n",
    "            if v >= (quantile * c):\n",
    "                for idx in idxs:\n",
    "                    if np.argmax(post_preds[idx, :]) == bc:\n",
    "                        post_preds[idx, bc] *= w\n",
    "            else:\n",
    "                break\n",
    "\n",
    "    return post_preds"
   ]
  },
  {
   "cell_type": "code",
   "execution_count": 88,
   "metadata": {
    "scrolled": true
   },
   "outputs": [],
   "source": [
    "c=2.0\n",
    "q=0.99\n",
    "w=2.0\n",
    "\n",
    "oof = np.mean(concat_oof, axis=0)[use_idx, :]\n",
    "post_oof = post_process_v2_plus(oof, valid_df, c, q, w)"
   ]
  },
  {
   "cell_type": "code",
   "execution_count": 89,
   "metadata": {
    "scrolled": true
   },
   "outputs": [
    {
     "data": {
      "application/vnd.jupyter.widget-view+json": {
       "model_id": "e6364f9027bc4284a36977136f62d805",
       "version_major": 2,
       "version_minor": 0
      },
      "text/plain": [
       "HBox(children=(IntProgress(value=0, max=300), HTML(value='')))"
      ]
     },
     "metadata": {},
     "output_type": "display_data"
    },
    {
     "name": "stdout",
     "output_type": "stream",
     "text": [
      "\n"
     ]
    }
   ],
   "source": [
    "th_list = []\n",
    "scores = []\n",
    "\n",
    "best_score = 0\n",
    "besth_th = 0\n",
    "best_final_labels = None\n",
    "\n",
    "for i in tqdm(range(300)):\n",
    "    th = i / 100.0\n",
    "\n",
    "    oof_labels = extract_label(post_oof, th)\n",
    "    post_labels = post_process_v8(post_oof, oof_labels, valid_df, window_size=2)\n",
    "\n",
    "    score = row_wise_micro_averaged_f1_score(val_y_labels, post_labels)\n",
    "    \n",
    "    if best_score < score:\n",
    "        best_score  = score\n",
    "        best_th = th\n",
    "        best_final_labels = post_labels\n",
    "\n",
    "    th_list.append(th)\n",
    "    scores.append(score)"
   ]
  },
  {
   "cell_type": "code",
   "execution_count": 90,
   "metadata": {},
   "outputs": [
    {
     "name": "stdout",
     "output_type": "stream",
     "text": [
      "best score: 0.7200 (th=0.59)\n"
     ]
    }
   ],
   "source": [
    "print(f\"best score: {best_score:.4f} (th={best_th})\")   # 0.7294 (th=0.55)"
   ]
  },
  {
   "cell_type": "code",
   "execution_count": 91,
   "metadata": {
    "scrolled": true
   },
   "outputs": [
    {
     "data": {
      "image/png": "[encoded data removed]",
      "text/plain": [
       "<Figure size 432x288 with 1 Axes>"
      ]
     },
     "metadata": {
      "needs_background": "light"
     },
     "output_type": "display_data"
    }
   ],
   "source": [
    "plt.plot(th_list, scores)\n",
    "plt.grid()"
   ]
  },
  {
   "cell_type": "code",
   "execution_count": 92,
   "metadata": {
    "scrolled": false
   },
   "outputs": [
    {
     "name": "stdout",
     "output_type": "stream",
     "text": [
      "2782: 0.3531 [0.108]\n",
      "7843: 0.9833 [0.008]\n",
      "10534: 0.6528 [-0.017]\n",
      "11254: 0.8500 [-0.050]\n",
      "18003: 0.6694 [0.172]\n",
      "20152: 0.9250 [-0.025]\n",
      "21767: 0.2944 [0.053]\n",
      "26709: 0.5444 [0.008]\n",
      "26746: 0.7028 [0.008]\n",
      "28933: 0.5125 [0.050]\n",
      "31928: 1.0000 [0.008]\n",
      "42907: 0.8000 [0.067]\n",
      "44957: 0.7611 [0.042]\n",
      "50878: 0.9417 [0.075]\n",
      "51010: 0.4778 [-0.006]\n",
      "54955: 0.8333 [-0.042]\n",
      "57610: 0.9389 [0.006]\n"
     ]
    }
   ],
   "source": [
    "diff_scores13 = get_audio_score(best_final_labels, valid_df, score_dict)\n",
    "all_diff_scores[\"cqw_and_modified_firstlabel_replace\"] = diff_scores13"
   ]
  },
  {
   "cell_type": "code",
   "execution_count": 93,
   "metadata": {
    "scrolled": false
   },
   "outputs": [
    {
     "data": {
      "text/plain": [
       "nocall     166\n",
       "rucwar      63\n",
       "grasal1      4\n",
       "wbwwre1      3\n",
       "rubwre1      3\n",
       "sthwoo1      1\n",
       "Name: preds, dtype: int64"
      ]
     },
     "execution_count": 93,
     "metadata": {},
     "output_type": "execute_result"
    }
   ],
   "source": [
    "a = valid_df.copy()\n",
    "a[\"preds\"] = best_final_labels\n",
    "a.iloc[:240][\"preds\"].value_counts()"
   ]
  },
  {
   "cell_type": "markdown",
   "metadata": {},
   "source": [
    " "
   ]
  },
  {
   "cell_type": "markdown",
   "metadata": {},
   "source": [
    " "
   ]
  },
  {
   "cell_type": "markdown",
   "metadata": {},
   "source": [
    "## PostProcessV9\n",
    "- https://www.kaggle.com/cdeotte/rainforest-post-process-lb-0-970\n",
    "- 全然うまくいかない......というかよく分かっていない"
   ]
  },
  {
   "cell_type": "code",
   "execution_count": 94,
   "metadata": {},
   "outputs": [],
   "source": [
    "def scale(probs, factor):\n",
    "    probs = probs.copy()\n",
    "    idx = np.where(probs!=1)[0]\n",
    "    odds = factor * probs[idx] / (1 - probs[idx])\n",
    "    probs[idx] =  odds / (1 + odds)\n",
    "    return probs\n",
    "\n",
    "\n",
    "def post_process_v9(preds):\n",
    "    post_preds = preds.copy()\n",
    "\n",
    "    post_preds -= post_preds.min(0, keepdims=True)\n",
    "    post_preds /= post_preds.max(0, keepdims=True)\n",
    "    d2 = np.mean(post_preds, axis=0)\n",
    "\n",
    "    for k in range(397):\n",
    "        s = (d2[k] / (1 - d2[k])) / 2.0\n",
    "        post_preds[:, k] = scale(post_preds[:, k], s)\n",
    "\n",
    "    return post_preds"
   ]
  },
  {
   "cell_type": "code",
   "execution_count": 95,
   "metadata": {
    "scrolled": true
   },
   "outputs": [],
   "source": [
    "oof = np.mean(concat_oof, axis=0)[use_idx, :]\n",
    "post_oof = post_process_v9(oof)"
   ]
  },
  {
   "cell_type": "code",
   "execution_count": 96,
   "metadata": {
    "scrolled": true
   },
   "outputs": [
    {
     "data": {
      "application/vnd.jupyter.widget-view+json": {
       "model_id": "fb725a0d927b4d8db1e468e1e37bd2a3",
       "version_major": 2,
       "version_minor": 0
      },
      "text/plain": [
       "HBox(children=(IntProgress(value=0), HTML(value='')))"
      ]
     },
     "metadata": {},
     "output_type": "display_data"
    },
    {
     "name": "stdout",
     "output_type": "stream",
     "text": [
      "\n"
     ]
    }
   ],
   "source": [
    "th_list = []\n",
    "scores = []\n",
    "\n",
    "best_score = 0\n",
    "besth_th = 0\n",
    "best_final_labels = None\n",
    "\n",
    "for i in tqdm(range(100)):\n",
    "    th = i / 100.0\n",
    "\n",
    "    oof_labels = extract_label(post_oof, th)\n",
    "    score = row_wise_micro_averaged_f1_score(val_y_labels, oof_labels)\n",
    "    \n",
    "    if best_score < score:\n",
    "        best_score  = score\n",
    "        best_th = th\n",
    "        best_final_labels = oof_labels\n",
    "\n",
    "    th_list.append(th)\n",
    "    scores.append(score)"
   ]
  },
  {
   "cell_type": "code",
   "execution_count": 97,
   "metadata": {},
   "outputs": [
    {
     "name": "stdout",
     "output_type": "stream",
     "text": [
      "best score: 0.5267 (th=0.28)\n"
     ]
    }
   ],
   "source": [
    "print(f\"best score: {best_score:.4f} (th={best_th})\")   # 0.7506 (th=0.27)"
   ]
  },
  {
   "cell_type": "code",
   "execution_count": 98,
   "metadata": {},
   "outputs": [
    {
     "data": {
      "image/png": "[encoded data removed]",
      "text/plain": [
       "<Figure size 432x288 with 1 Axes>"
      ]
     },
     "metadata": {
      "needs_background": "light"
     },
     "output_type": "display_data"
    }
   ],
   "source": [
    "plt.plot(th_list, scores)\n",
    "plt.grid()"
   ]
  },
  {
   "cell_type": "code",
   "execution_count": 99,
   "metadata": {
    "scrolled": false
   },
   "outputs": [
    {
     "name": "stdout",
     "output_type": "stream",
     "text": [
      "2782: 0.0139 [-0.231]\n",
      "7843: 0.9500 [-0.025]\n",
      "10534: 0.4083 [-0.261]\n",
      "11254: 0.7333 [-0.167]\n",
      "18003: 0.1306 [-0.367]\n",
      "20152: 0.9250 [-0.025]\n",
      "21767: 0.1750 [-0.067]\n",
      "26709: 0.4667 [-0.069]\n",
      "26746: 0.5083 [-0.186]\n",
      "28933: 0.1625 [-0.300]\n",
      "31928: 0.9417 [-0.050]\n",
      "42907: 0.5222 [-0.211]\n",
      "44957: 0.4917 [-0.228]\n",
      "50878: 0.8000 [-0.067]\n",
      "51010: 0.2194 [-0.264]\n",
      "54955: 0.7917 [-0.083]\n",
      "57610: 0.7139 [-0.219]\n"
     ]
    }
   ],
   "source": [
    "diff_scores13 = get_audio_score(best_final_labels, valid_df, score_dict)\n",
    "all_diff_scores[\"cqw_and_modified_firstlabel_replace\"] = diff_scores13"
   ]
  },
  {
   "cell_type": "markdown",
   "metadata": {},
   "source": [
    " "
   ]
  },
  {
   "cell_type": "markdown",
   "metadata": {},
   "source": [
    " "
   ]
  },
  {
   "cell_type": "markdown",
   "metadata": {},
   "source": [
    "## PostProcessV10\n",
    "- PPv8の修正版？"
   ]
  },
  {
   "cell_type": "code",
   "execution_count": 100,
   "metadata": {},
   "outputs": [],
   "source": [
    "def shift(df, pred_labels, freq):\n",
    "    shift_labels = [None] * len(df)\n",
    "\n",
    "    gp = df.groupby(\"audio_id\")\n",
    "    for audio_id, audio_df in gp:\n",
    "        idxs = audio_df.index.values\n",
    "        audio_shift_labels = np.roll(pred_labels[idxs[0]: idxs[-1] + 1], freq)\n",
    "        \n",
    "        if freq > 0:\n",
    "            audio_shift_labels[:freq] = \"None\"\n",
    "        elif freq < 0:\n",
    "            audio_shift_labels[freq:] = \"None\"\n",
    "            \n",
    "        shift_labels[idxs[0]: idxs[-1] + 1] = audio_shift_labels\n",
    "\n",
    "    return shift_labels\n",
    "\n",
    "\n",
    "def intersect(labels_list1, labels_list2):\n",
    "    intersect_list = []\n",
    "    for idx in range(len(labels_list1)):\n",
    "        lables1 = labels_list1[idx].split(\" \")\n",
    "        lables2 = labels_list2[idx].split(\" \")\n",
    "        \n",
    "        intersect = np.intersect1d(lables1, lables2)\n",
    "        if len(intersect) == 0:\n",
    "            intersect = [\"nocall\"]\n",
    "        intersect_list.append(\" \".join(list(intersect)))\n",
    "        \n",
    "    return intersect_list\n",
    "\n",
    "\n",
    "def add_label(labels_list1, labels_list2):\n",
    "    added_labels_list = []\n",
    "    for labels1, labels2 in zip(labels_list1, labels_list2):\n",
    "\n",
    "        if labels1 == \"nocall\":\n",
    "            if labels2 == \"nocall\":\n",
    "                added_labels_list.append(\"nocall\")\n",
    "            else:\n",
    "                added_labels_list.append(labels2)\n",
    "        \n",
    "        else:\n",
    "            if labels2 == \"nocall\":\n",
    "                added_labels_list.append(labels1)\n",
    "            else:\n",
    "                added_labels = list(set((labels1 + \" \" + labels2).split(\" \")))\n",
    "                added_labels_list.append(\" \".join(added_labels))\n",
    "    \n",
    "    return added_labels_list\n",
    "\n",
    "\n",
    "def post_process_v10(preds, pred_labels, df, window_size=1, c=2.0):\n",
    "    first_labels = []\n",
    "    for idx in df.index:\n",
    "        row_prob = preds[idx, :]\n",
    "        second_prob = np.sort(row_prob)[-2]\n",
    "\n",
    "        first_label_bc = np.argmax(row_prob)\n",
    "        v = row_prob[first_label_bc]\n",
    "        if v >= (second_prob * c):\n",
    "            first_labels.append(const.INV_BIRD_CODE[first_label_bc])\n",
    "        else:\n",
    "            first_labels.append(\"nocall\")\n",
    "\n",
    "    final_labels_list = pred_labels.copy()\n",
    "    for w in range(window_size):\n",
    "        for freq in [w + 1, -(w + 1)]:\n",
    "            shift_labels = shift(df, pred_labels, freq)\n",
    "            shift_intersect_labels = intersect(first_labels, shift_labels)\n",
    "            final_labels_list = add_label(final_labels_list, shift_intersect_labels)\n",
    "        \n",
    "    return final_labels_list"
   ]
  },
  {
   "cell_type": "code",
   "execution_count": 101,
   "metadata": {
    "scrolled": true
   },
   "outputs": [],
   "source": [
    "oof = np.mean(concat_oof, axis=0)[use_idx, :]"
   ]
  },
  {
   "cell_type": "code",
   "execution_count": 102,
   "metadata": {
    "scrolled": true
   },
   "outputs": [
    {
     "data": {
      "application/vnd.jupyter.widget-view+json": {
       "model_id": "87d90376866343f4b6f0fe788cacf823",
       "version_major": 2,
       "version_minor": 0
      },
      "text/plain": [
       "HBox(children=(IntProgress(value=0), HTML(value='')))"
      ]
     },
     "metadata": {},
     "output_type": "display_data"
    },
    {
     "name": "stdout",
     "output_type": "stream",
     "text": [
      "\n"
     ]
    }
   ],
   "source": [
    "th_list = []\n",
    "scores = []\n",
    "\n",
    "best_score = 0\n",
    "besth_th = 0\n",
    "best_final_labels = None\n",
    "\n",
    "for i in tqdm(range(100)):\n",
    "    th = i / 100.0\n",
    "\n",
    "    oof_labels = extract_label(oof, th)\n",
    "    post_oof_labels = post_process_v10(oof, oof_labels, valid_df, window_size=2, c=2)\n",
    "    score = row_wise_micro_averaged_f1_score(val_y_labels, post_oof_labels)\n",
    "    \n",
    "    if best_score < score:\n",
    "        best_score  = score\n",
    "        best_th = th\n",
    "        best_final_labels = post_oof_labels\n",
    "\n",
    "    th_list.append(th)\n",
    "    scores.append(score)"
   ]
  },
  {
   "cell_type": "code",
   "execution_count": 103,
   "metadata": {},
   "outputs": [
    {
     "name": "stdout",
     "output_type": "stream",
     "text": [
      "best score: 0.7071 (th=0.3)\n"
     ]
    }
   ],
   "source": [
    "print(f\"best score: {best_score:.4f} (th={best_th})\")   # 0.7140 (th=0.29)"
   ]
  },
  {
   "cell_type": "code",
   "execution_count": 104,
   "metadata": {
    "scrolled": true
   },
   "outputs": [
    {
     "data": {
      "image/png": "[encoded data removed]",
      "text/plain": [
       "<Figure size 432x288 with 1 Axes>"
      ]
     },
     "metadata": {
      "needs_background": "light"
     },
     "output_type": "display_data"
    }
   ],
   "source": [
    "plt.plot(th_list, scores)\n",
    "plt.grid()"
   ]
  },
  {
   "cell_type": "code",
   "execution_count": 105,
   "metadata": {
    "scrolled": true
   },
   "outputs": [
    {
     "name": "stdout",
     "output_type": "stream",
     "text": [
      "2782: 0.3308 [0.086]\n",
      "7843: 0.9833 [0.008]\n",
      "10534: 0.6667 [-0.003]\n",
      "11254: 0.8667 [-0.033]\n",
      "18003: 0.6194 [0.122]\n",
      "20152: 0.8917 [-0.058]\n",
      "21767: 0.2806 [0.039]\n",
      "26709: 0.5583 [0.022]\n",
      "26746: 0.6944 [0.000]\n",
      "28933: 0.5181 [0.056]\n",
      "31928: 0.9917 [0.000]\n",
      "42907: 0.7667 [0.033]\n",
      "44957: 0.7444 [0.025]\n",
      "50878: 0.8250 [-0.042]\n",
      "51010: 0.5250 [0.042]\n",
      "54955: 0.8583 [-0.017]\n",
      "57610: 0.9000 [-0.033]\n"
     ]
    }
   ],
   "source": [
    "best_labels10 = best_final_labels\n",
    "diff_scores14 = get_audio_score(best_final_labels, valid_df, score_dict)\n",
    "all_diff_scores[\"cqw_and_modified_firstlabel_replace\"] = diff_scores14"
   ]
  },
  {
   "cell_type": "markdown",
   "metadata": {},
   "source": [
    " "
   ]
  },
  {
   "cell_type": "markdown",
   "metadata": {},
   "source": [
    " "
   ]
  },
  {
   "cell_type": "markdown",
   "metadata": {},
   "source": [
    "## Avg -> V2 -> V10"
   ]
  },
  {
   "cell_type": "code",
   "execution_count": 195,
   "metadata": {},
   "outputs": [],
   "source": [
    "oof_list = [\n",
    "    oof112,\n",
    "    oof114,\n",
    "    oof115,\n",
    "    oof116,\n",
    "    oof117,\n",
    "    oof118,\n",
    "\n",
    "    oof129,\n",
    "    oof131,\n",
    "    oof132,\n",
    "    oof139,\n",
    "    oof159,\n",
    "#     oof160,\n",
    "    oof161,\n",
    "]\n",
    "\n",
    "concat_oof = []\n",
    "for oof_ in oof_list:\n",
    "    concat_oof.append(oof_[np.newaxis, :, :])\n",
    "concat_oof = np.concatenate(concat_oof)"
   ]
  },
  {
   "cell_type": "code",
   "execution_count": 196,
   "metadata": {},
   "outputs": [],
   "source": [
    "def post_process_v2_plus(preds, df, c=2, q=0.99, w=1.5):\n",
    "    post_preds = preds.copy()\n",
    "    \n",
    "    gp = df.groupby(\"audio_id\")\n",
    "    for audio_id, audio_df in gp:\n",
    "        idxs = audio_df.index.values\n",
    "        \n",
    "        audio_preds = preds[idxs, :]\n",
    "        audio_preds_mean = np.mean(audio_preds, axis=0)\n",
    "        audio_preds_mean_ = audio_preds_mean / audio_preds_mean.max()\n",
    "        quantile = np.quantile(audio_preds_mean_, q)\n",
    "\n",
    "        for bc in np.argsort(audio_preds_mean_)[::-1]:\n",
    "            v = audio_preds_mean_[bc]\n",
    "            if v >= (quantile * c):\n",
    "                for idx in idxs:\n",
    "                    if np.argmax(post_preds[idx, :]) == bc:\n",
    "                        post_preds[idx, bc] *= w\n",
    "            else:\n",
    "                break\n",
    "\n",
    "    return post_preds"
   ]
  },
  {
   "cell_type": "code",
   "execution_count": 197,
   "metadata": {
    "scrolled": true
   },
   "outputs": [],
   "source": [
    "c=2.5\n",
    "q=0.99\n",
    "w=2.0\n",
    "\n",
    "oof = np.mean(concat_oof, axis=0)[use_idx, :]\n",
    "post_oof = post_process_v2_plus(oof, valid_df, c, q, w)"
   ]
  },
  {
   "cell_type": "code",
   "execution_count": 198,
   "metadata": {
    "scrolled": true
   },
   "outputs": [
    {
     "data": {
      "application/vnd.jupyter.widget-view+json": {
       "model_id": "5be3263ab97d455fadbd497e499d0eb4",
       "version_major": 2,
       "version_minor": 0
      },
      "text/plain": [
       "HBox(children=(IntProgress(value=0, max=50), HTML(value='')))"
      ]
     },
     "metadata": {},
     "output_type": "display_data"
    },
    {
     "name": "stdout",
     "output_type": "stream",
     "text": [
      "\n"
     ]
    }
   ],
   "source": [
    "th_list = []\n",
    "scores = []\n",
    "\n",
    "best_score = 0\n",
    "besth_th = 0\n",
    "best_final_labels = None\n",
    "\n",
    "for i in tqdm(range(30, 80)):\n",
    "    th = i / 100.0\n",
    "\n",
    "    oof_labels = extract_label(post_oof, th)\n",
    "    post_labels = post_process_v10(post_oof, oof_labels, valid_df, window_size=5, c=2.0)\n",
    "\n",
    "    score = row_wise_micro_averaged_f1_score(val_y_labels, post_labels)\n",
    "    \n",
    "    if best_score < score:\n",
    "        best_score  = score\n",
    "        best_th = th\n",
    "        best_final_labels = post_labels\n",
    "\n",
    "    th_list.append(th)\n",
    "    scores.append(score)"
   ]
  },
  {
   "cell_type": "code",
   "execution_count": 199,
   "metadata": {},
   "outputs": [
    {
     "name": "stdout",
     "output_type": "stream",
     "text": [
      "best score: 0.7494 (th=0.61)\n"
     ]
    }
   ],
   "source": [
    "print(f\"best score: {best_score:.4f} (th={best_th})\")   # best score: 0.7472 (th=0.65)"
   ]
  },
  {
   "cell_type": "code",
   "execution_count": 200,
   "metadata": {
    "scrolled": true
   },
   "outputs": [
    {
     "data": {
      "image/png": "[encoded data removed]",
      "text/plain": [
       "<Figure size 432x288 with 1 Axes>"
      ]
     },
     "metadata": {
      "needs_background": "light"
     },
     "output_type": "display_data"
    }
   ],
   "source": [
    "plt.plot(th_list, scores)\n",
    "plt.grid()"
   ]
  },
  {
   "cell_type": "code",
   "execution_count": 201,
   "metadata": {
    "scrolled": true
   },
   "outputs": [
    {
     "name": "stdout",
     "output_type": "stream",
     "text": [
      "2782: 0.4494 [0.204]\n",
      "7843: 0.9667 [-0.008]\n",
      "10534: 0.6583 [-0.011]\n",
      "11254: 0.8833 [-0.017]\n",
      "18003: 0.7583 [0.261]\n",
      "20152: 0.9750 [0.025]\n",
      "21767: 0.3861 [0.144]\n",
      "26709: 0.5444 [0.008]\n",
      "26746: 0.7028 [0.008]\n",
      "28933: 0.5181 [0.056]\n",
      "31928: 1.0000 [0.008]\n",
      "42907: 0.8417 [0.108]\n",
      "44957: 0.8250 [0.106]\n",
      "50878: 0.9333 [0.067]\n",
      "51010: 0.5333 [0.050]\n",
      "54955: 0.8333 [-0.042]\n",
      "57610: 0.9306 [-0.003]\n"
     ]
    }
   ],
   "source": [
    "best_labels_2_10 = best_final_labels\n",
    "diff_scores13 = get_audio_score(best_final_labels, valid_df, score_dict)\n",
    "all_diff_scores[\"cqw_and_modified_firstlabel_replace\"] = diff_scores13"
   ]
  },
  {
   "cell_type": "code",
   "execution_count": 202,
   "metadata": {
    "scrolled": false
   },
   "outputs": [
    {
     "data": {
      "text/plain": [
       "nocall     145\n",
       "rucwar      76\n",
       "obnthr1      6\n",
       "wbwwre1      5\n",
       "rubwre1      3\n",
       "grasal1      3\n",
       "sthwoo1      1\n",
       "yebfly       1\n",
       "Name: preds, dtype: int64"
      ]
     },
     "execution_count": 202,
     "metadata": {},
     "output_type": "execute_result"
    }
   ],
   "source": [
    "a = valid_df.copy()\n",
    "a[\"preds\"] = best_final_labels\n",
    "a.iloc[:240][\"preds\"].value_counts()"
   ]
  },
  {
   "cell_type": "markdown",
   "metadata": {},
   "source": [
    " "
   ]
  },
  {
   "cell_type": "markdown",
   "metadata": {},
   "source": [
    " "
   ]
  },
  {
   "cell_type": "markdown",
   "metadata": {},
   "source": [
    "## Avg -> V2 -> nc -> V10"
   ]
  },
  {
   "cell_type": "code",
   "execution_count": 113,
   "metadata": {
    "scrolled": true
   },
   "outputs": [],
   "source": [
    "c=2.5\n",
    "q=0.99\n",
    "w=2.0\n",
    "\n",
    "oof = np.mean(concat_oof, axis=0)[use_idx, :]\n",
    "post_oof = post_process_v2_plus(oof, valid_df, c, q, w)"
   ]
  },
  {
   "cell_type": "code",
   "execution_count": 114,
   "metadata": {},
   "outputs": [],
   "source": [
    "birdcall_p = oof99\n",
    "\n",
    "for idx in range(len(post_oof)):\n",
    "    bp = birdcall_p[idx]\n",
    "    if bp <= 0.1:\n",
    "        col1_idx = np.argsort(post_oof[idx, :])[-1:]\n",
    "        post_oof[idx, col1_idx] /= 2"
   ]
  },
  {
   "cell_type": "code",
   "execution_count": 115,
   "metadata": {
    "scrolled": true
   },
   "outputs": [
    {
     "data": {
      "application/vnd.jupyter.widget-view+json": {
       "model_id": "75a74a0d0d374efcb099838e018a5f8c",
       "version_major": 2,
       "version_minor": 0
      },
      "text/plain": [
       "HBox(children=(IntProgress(value=0, max=50), HTML(value='')))"
      ]
     },
     "metadata": {},
     "output_type": "display_data"
    },
    {
     "name": "stdout",
     "output_type": "stream",
     "text": [
      "\n"
     ]
    }
   ],
   "source": [
    "th_list = []\n",
    "scores = []\n",
    "\n",
    "best_score = 0\n",
    "besth_th = 0\n",
    "best_final_labels = None\n",
    "\n",
    "for i in tqdm(range(30, 80)):\n",
    "    th = i / 100.0\n",
    "\n",
    "    oof_labels = extract_label(post_oof, th)\n",
    "    post_labels = post_process_v10(post_oof, oof_labels, valid_df, window_size=5, c=2.0)\n",
    "\n",
    "    score = row_wise_micro_averaged_f1_score(val_y_labels, post_labels)\n",
    "    \n",
    "    if best_score < score:\n",
    "        best_score  = score\n",
    "        best_th = th\n",
    "        best_final_labels = post_labels\n",
    "\n",
    "    th_list.append(th)\n",
    "    scores.append(score)"
   ]
  },
  {
   "cell_type": "code",
   "execution_count": 116,
   "metadata": {},
   "outputs": [
    {
     "name": "stdout",
     "output_type": "stream",
     "text": [
      "best score: 0.7289 (th=0.59)\n"
     ]
    }
   ],
   "source": [
    "print(f\"best score: {best_score:.4f} (th={best_th})\")   # best score: 0.7472 (th=0.65)"
   ]
  },
  {
   "cell_type": "code",
   "execution_count": 117,
   "metadata": {
    "scrolled": true
   },
   "outputs": [
    {
     "data": {
      "image/png": "[encoded data removed]",
      "text/plain": [
       "<Figure size 432x288 with 1 Axes>"
      ]
     },
     "metadata": {
      "needs_background": "light"
     },
     "output_type": "display_data"
    }
   ],
   "source": [
    "plt.plot(th_list, scores)\n",
    "plt.grid()"
   ]
  },
  {
   "cell_type": "code",
   "execution_count": 118,
   "metadata": {
    "scrolled": false
   },
   "outputs": [
    {
     "name": "stdout",
     "output_type": "stream",
     "text": [
      "2782: 0.4003 [0.155]\n",
      "7843: 0.9833 [0.008]\n",
      "10534: 0.6917 [0.022]\n",
      "11254: 0.8417 [-0.058]\n",
      "18003: 0.6944 [0.197]\n",
      "20152: 0.9667 [0.017]\n",
      "21767: 0.3167 [0.075]\n",
      "26709: 0.5444 [0.008]\n",
      "26746: 0.7028 [0.008]\n",
      "28933: 0.5139 [0.051]\n",
      "31928: 1.0000 [0.008]\n",
      "42907: 0.8000 [0.067]\n",
      "44957: 0.7833 [0.064]\n",
      "50878: 0.9250 [0.058]\n",
      "51010: 0.4556 [-0.028]\n",
      "54955: 0.8333 [-0.042]\n",
      "57610: 0.9389 [0.006]\n"
     ]
    }
   ],
   "source": [
    "best_labels_2_10 = best_final_labels\n",
    "diff_scores13 = get_audio_score(best_final_labels, valid_df, score_dict)\n",
    "all_diff_scores[\"cqw_and_modified_firstlabel_replace\"] = diff_scores13"
   ]
  },
  {
   "cell_type": "code",
   "execution_count": 119,
   "metadata": {
    "scrolled": true
   },
   "outputs": [
    {
     "data": {
      "text/plain": [
       "nocall     160\n",
       "rucwar      68\n",
       "wbwwre1      5\n",
       "rubwre1      3\n",
       "grasal1      3\n",
       "sthwoo1      1\n",
       "Name: preds, dtype: int64"
      ]
     },
     "execution_count": 119,
     "metadata": {},
     "output_type": "execute_result"
    }
   ],
   "source": [
    "a = valid_df.copy()\n",
    "a[\"preds\"] = best_final_labels\n",
    "a.iloc[:240][\"preds\"].value_counts()"
   ]
  },
  {
   "cell_type": "markdown",
   "metadata": {},
   "source": [
    " "
   ]
  },
  {
   "cell_type": "markdown",
   "metadata": {},
   "source": [
    " "
   ]
  },
  {
   "cell_type": "markdown",
   "metadata": {},
   "source": [
    "## PostProcessV11"
   ]
  },
  {
   "cell_type": "code",
   "execution_count": 120,
   "metadata": {},
   "outputs": [],
   "source": [
    "def post_process_v11(preds, birdcall_preds, th=0.3, w=0.5):\n",
    "    post_preds = preds.copy()\n",
    "    for idx in range(len(preds)):\n",
    "        bc_prob = birdcall_preds[idx]\n",
    "        if bc_prob <= th:\n",
    "            post_preds[idx, :] = preds[idx, :] * w\n",
    "    \n",
    "    return post_preds"
   ]
  },
  {
   "cell_type": "code",
   "execution_count": 121,
   "metadata": {},
   "outputs": [],
   "source": [
    "oof = np.mean(concat_oof, axis=0)[use_idx, :]\n",
    "bc_oof = oof99.copy()\n",
    "post_oof = post_process_v11(oof, bc_oof, th=0.5, w=0.1)"
   ]
  },
  {
   "cell_type": "code",
   "execution_count": 122,
   "metadata": {},
   "outputs": [],
   "source": [
    "th_list = []\n",
    "scores = []\n",
    "\n",
    "best_score = 0\n",
    "besth_th = 0\n",
    "best_final_labels = None\n",
    "\n",
    "for i in range(100):\n",
    "    th = i / 100.0\n",
    "\n",
    "    oof_labels = extract_label(post_oof, th)\n",
    "\n",
    "    score = row_wise_micro_averaged_f1_score(val_y_labels, oof_labels)\n",
    "    \n",
    "    if best_score < score:\n",
    "        best_score  = score\n",
    "        best_th = th\n",
    "        best_final_labels = oof_labels\n",
    "\n",
    "    th_list.append(th)\n",
    "    scores.append(score)"
   ]
  },
  {
   "cell_type": "code",
   "execution_count": 123,
   "metadata": {},
   "outputs": [
    {
     "name": "stdout",
     "output_type": "stream",
     "text": [
      "best score: 0.6991 (th=0.27)\n"
     ]
    }
   ],
   "source": [
    "print(f\"best score: {best_score:.4f} (th={best_th})\")   # best score: 0.7027 (th=0.26)"
   ]
  },
  {
   "cell_type": "code",
   "execution_count": 124,
   "metadata": {
    "scrolled": true
   },
   "outputs": [
    {
     "data": {
      "image/png": "[encoded data removed]",
      "text/plain": [
       "<Figure size 432x288 with 1 Axes>"
      ]
     },
     "metadata": {
      "needs_background": "light"
     },
     "output_type": "display_data"
    }
   ],
   "source": [
    "plt.plot(th_list, scores)\n",
    "plt.grid()"
   ]
  },
  {
   "cell_type": "code",
   "execution_count": 125,
   "metadata": {
    "scrolled": false
   },
   "outputs": [
    {
     "name": "stdout",
     "output_type": "stream",
     "text": [
      "2782: 0.3164 [0.071]\n",
      "7843: 0.9750 [0.000]\n",
      "10534: 0.6500 [-0.019]\n",
      "11254: 0.8917 [-0.008]\n",
      "18003: 0.5528 [0.056]\n",
      "20152: 0.9583 [0.008]\n",
      "21767: 0.2792 [0.038]\n",
      "26709: 0.5361 [0.000]\n",
      "26746: 0.7028 [0.008]\n",
      "28933: 0.4667 [0.004]\n",
      "31928: 0.9917 [0.000]\n",
      "42907: 0.7250 [-0.008]\n",
      "44957: 0.7278 [0.008]\n",
      "50878: 0.8333 [-0.033]\n",
      "51010: 0.5028 [0.019]\n",
      "54955: 0.8750 [0.000]\n",
      "57610: 0.9000 [-0.033]\n"
     ]
    }
   ],
   "source": [
    "diff_scores1 = get_audio_score(best_final_labels, valid_df, score_dict)\n",
    "all_diff_scores[\"avg_nc\"] = diff_scores1"
   ]
  },
  {
   "cell_type": "markdown",
   "metadata": {},
   "source": [
    " "
   ]
  },
  {
   "cell_type": "markdown",
   "metadata": {},
   "source": [
    " "
   ]
  },
  {
   "cell_type": "markdown",
   "metadata": {},
   "source": [
    "## PostProcessV12\n",
    "- V2_plusの改良版"
   ]
  },
  {
   "cell_type": "code",
   "execution_count": 126,
   "metadata": {},
   "outputs": [],
   "source": [
    "def post_process_v12(preds, df, window_size=5, c=2, q=0.99, w=1.5):\n",
    "    post_preds = preds.copy()\n",
    "    \n",
    "    gp = df.groupby(\"audio_id\")\n",
    "    for audio_id, audio_df in gp:\n",
    "        idxs = audio_df.index.values\n",
    "        \n",
    "        for i, idx in enumerate(idxs):\n",
    "            if i < window_size:\n",
    "                start = idxs[0]\n",
    "                end = min(idx + window_size + 1, idxs[-1] + 1)\n",
    "            else:\n",
    "                start = idx - window_size\n",
    "                end = min(idx + window_size + 1, idxs[-1] + 1)\n",
    "\n",
    "            marginal_preds = preds[start: end, :]\n",
    "            marginal_preds_mean = np.mean(marginal_preds, axis=0)\n",
    "            quantile = np.quantile(marginal_preds_mean, q)\n",
    "            \n",
    "            for bc in np.argsort(marginal_preds_mean)[::-1]:\n",
    "                v = marginal_preds_mean[bc]\n",
    "                if v >= max(0.1, (quantile * c)) and np.argmax(post_preds[idx, :]) == bc:\n",
    "                    post_preds[idx, bc] *= w\n",
    "                else:\n",
    "                    break\n",
    "\n",
    "    return post_preds"
   ]
  },
  {
   "cell_type": "code",
   "execution_count": 127,
   "metadata": {},
   "outputs": [],
   "source": [
    "window_size = 10\n",
    "c=2.0\n",
    "q=0.99\n",
    "w=2.0\n",
    "\n",
    "oof = np.mean(concat_oof, axis=0)[use_idx, :]\n",
    "post_oof = post_process_v12(oof, valid_df, window_size, c, q, w)"
   ]
  },
  {
   "cell_type": "code",
   "execution_count": 128,
   "metadata": {},
   "outputs": [],
   "source": [
    "th_list = []\n",
    "scores = []\n",
    "\n",
    "best_score = 0\n",
    "besth_th = 0\n",
    "best_final_labels = None\n",
    "\n",
    "for i in range(100):\n",
    "    th = i / 100.0\n",
    "\n",
    "    oof_labels = extract_label(post_oof, th)\n",
    "\n",
    "    score = row_wise_micro_averaged_f1_score(val_y_labels, oof_labels)\n",
    "    \n",
    "    if best_score < score:\n",
    "        best_score  = score\n",
    "        best_th = th\n",
    "        best_final_labels = oof_labels\n",
    "\n",
    "    th_list.append(th)\n",
    "    scores.append(score)"
   ]
  },
  {
   "cell_type": "code",
   "execution_count": 129,
   "metadata": {},
   "outputs": [
    {
     "name": "stdout",
     "output_type": "stream",
     "text": [
      "best score: 0.7068 (th=0.34)\n"
     ]
    }
   ],
   "source": [
    "print(f\"best score: {best_score:.4f} (th={best_th})\")   # best score: 0.7027 (th=0.26)"
   ]
  },
  {
   "cell_type": "code",
   "execution_count": 130,
   "metadata": {
    "scrolled": true
   },
   "outputs": [
    {
     "data": {
      "image/png": "[encoded data removed]",
      "text/plain": [
       "<Figure size 432x288 with 1 Axes>"
      ]
     },
     "metadata": {
      "needs_background": "light"
     },
     "output_type": "display_data"
    }
   ],
   "source": [
    "plt.plot(th_list, scores)\n",
    "plt.grid()"
   ]
  },
  {
   "cell_type": "markdown",
   "metadata": {},
   "source": [
    " "
   ]
  },
  {
   "cell_type": "markdown",
   "metadata": {},
   "source": [
    " "
   ]
  },
  {
   "cell_type": "markdown",
   "metadata": {},
   "source": [
    "## Avg -> V12 -> V10"
   ]
  },
  {
   "cell_type": "code",
   "execution_count": 131,
   "metadata": {
    "scrolled": true
   },
   "outputs": [],
   "source": [
    "window_size = 50\n",
    "c = 2.5\n",
    "q=0.99\n",
    "w=1.5\n",
    "\n",
    "oof = np.mean(concat_oof, axis=0)[use_idx, :]\n",
    "post_oof = post_process_v12(oof, valid_df, window_size, c, q, w)"
   ]
  },
  {
   "cell_type": "code",
   "execution_count": 132,
   "metadata": {
    "scrolled": true
   },
   "outputs": [
    {
     "data": {
      "application/vnd.jupyter.widget-view+json": {
       "model_id": "6649eabfa8444791a7bfc6f538149b8f",
       "version_major": 2,
       "version_minor": 0
      },
      "text/plain": [
       "HBox(children=(IntProgress(value=0), HTML(value='')))"
      ]
     },
     "metadata": {},
     "output_type": "display_data"
    },
    {
     "name": "stdout",
     "output_type": "stream",
     "text": [
      "\n"
     ]
    }
   ],
   "source": [
    "th_list = []\n",
    "scores = []\n",
    "\n",
    "best_score = 0\n",
    "besth_th = 0\n",
    "best_final_labels = None\n",
    "\n",
    "for i in tqdm(range(100)):\n",
    "    th = i / 100.0\n",
    "\n",
    "    oof_labels = extract_label(post_oof, th)\n",
    "    post_labels = post_process_v10(post_oof, oof_labels, valid_df, window_size=5, c=2.0)\n",
    "\n",
    "    score = row_wise_micro_averaged_f1_score(val_y_labels, post_labels)\n",
    "    \n",
    "    if best_score < score:\n",
    "        best_score  = score\n",
    "        best_th = th\n",
    "        best_final_labels = post_labels\n",
    "\n",
    "    th_list.append(th)\n",
    "    scores.append(score)"
   ]
  },
  {
   "cell_type": "code",
   "execution_count": 133,
   "metadata": {},
   "outputs": [
    {
     "name": "stdout",
     "output_type": "stream",
     "text": [
      "best score: 0.7186 (th=0.37)\n"
     ]
    }
   ],
   "source": [
    "print(f\"best score: {best_score:.4f} (th={best_th})\")   # best score: 0.7472 (th=0.65)"
   ]
  },
  {
   "cell_type": "code",
   "execution_count": 134,
   "metadata": {
    "scrolled": true
   },
   "outputs": [
    {
     "data": {
      "image/png": "[encoded data removed]",
      "text/plain": [
       "<Figure size 432x288 with 1 Axes>"
      ]
     },
     "metadata": {
      "needs_background": "light"
     },
     "output_type": "display_data"
    }
   ],
   "source": [
    "plt.plot(th_list, scores)\n",
    "plt.grid()"
   ]
  },
  {
   "cell_type": "code",
   "execution_count": 135,
   "metadata": {
    "scrolled": true
   },
   "outputs": [
    {
     "name": "stdout",
     "output_type": "stream",
     "text": [
      "2782: 0.3864 [0.141]\n",
      "7843: 0.9833 [0.008]\n",
      "10534: 0.6778 [0.008]\n",
      "11254: 0.8750 [-0.025]\n",
      "18003: 0.6778 [0.181]\n",
      "20152: 0.9167 [-0.033]\n",
      "21767: 0.2722 [0.031]\n",
      "26709: 0.5444 [0.008]\n",
      "26746: 0.6944 [0.000]\n",
      "28933: 0.5236 [0.061]\n",
      "31928: 0.9917 [0.000]\n",
      "42907: 0.8000 [0.067]\n",
      "44957: 0.7667 [0.047]\n",
      "50878: 0.8417 [-0.025]\n",
      "51010: 0.5083 [0.025]\n",
      "54955: 0.8667 [-0.008]\n",
      "57610: 0.8889 [-0.044]\n"
     ]
    }
   ],
   "source": [
    "best_labels_2_10 = best_final_labels\n",
    "diff_scores13 = get_audio_score(best_final_labels, valid_df, score_dict)\n",
    "all_diff_scores[\"cqw_and_modified_firstlabel_replace\"] = diff_scores13"
   ]
  },
  {
   "cell_type": "code",
   "execution_count": 136,
   "metadata": {
    "scrolled": false
   },
   "outputs": [
    {
     "data": {
      "text/plain": [
       "nocall     151\n",
       "rucwar      67\n",
       "obnthr1      7\n",
       "wbwwre1      5\n",
       "rubwre1      3\n",
       "grasal1      3\n",
       "bucmot2      2\n",
       "sthwoo1      1\n",
       "yebfly       1\n",
       "Name: preds, dtype: int64"
      ]
     },
     "execution_count": 136,
     "metadata": {},
     "output_type": "execute_result"
    }
   ],
   "source": [
    "a = valid_df.copy()\n",
    "a[\"preds\"] = best_final_labels\n",
    "a.iloc[:240][\"preds\"].value_counts()"
   ]
  },
  {
   "cell_type": "markdown",
   "metadata": {},
   "source": [
    " "
   ]
  },
  {
   "cell_type": "markdown",
   "metadata": {},
   "source": [
    " "
   ]
  },
  {
   "cell_type": "markdown",
   "metadata": {},
   "source": [
    "## PostProcess V13\n",
    "- V2の改良版"
   ]
  },
  {
   "cell_type": "code",
   "execution_count": 137,
   "metadata": {},
   "outputs": [],
   "source": [
    "def post_process_v13(preds, df, c=2, q=0.99, w1=1.5, w2=1.5):\n",
    "    post_preds = preds.copy()\n",
    "    \n",
    "    gp = df.groupby(\"audio_id\")\n",
    "    for audio_id, audio_df in gp:\n",
    "        idxs = audio_df.index.values\n",
    "        \n",
    "        audio_preds = preds[idxs, :]\n",
    "        audio_preds_mean = np.mean(audio_preds, axis=0)\n",
    "        audio_preds_mean_ = audio_preds_mean / audio_preds_mean.max()\n",
    "        quantile = np.quantile(audio_preds_mean_, q)\n",
    "        prior_flg = False\n",
    "\n",
    "        for bc in np.argsort(audio_preds_mean_)[::-1]:\n",
    "            v = audio_preds_mean_[bc]\n",
    "            if v >= (quantile * c):\n",
    "                for idx in idxs:\n",
    "                    if np.argmax(post_preds[idx, :]) == bc:\n",
    "                        post_preds[idx, bc] *= w1\n",
    "                        if prior_flg:\n",
    "                            post_preds[idx, bc] *= w2\n",
    "                        prior_flg = True\n",
    "                    else:\n",
    "                        prior_flg = False\n",
    "            else:\n",
    "                break\n",
    "\n",
    "    return post_preds"
   ]
  },
  {
   "cell_type": "code",
   "execution_count": 138,
   "metadata": {
    "scrolled": true
   },
   "outputs": [],
   "source": [
    "c=2.5\n",
    "q=0.99\n",
    "w1=2.0\n",
    "w2=1.2\n",
    "\n",
    "oof = np.mean(concat_oof, axis=0)[use_idx, :]\n",
    "post_oof = post_process_v13(oof, valid_df, c, q, w1, w2)"
   ]
  },
  {
   "cell_type": "code",
   "execution_count": 139,
   "metadata": {
    "scrolled": true
   },
   "outputs": [
    {
     "data": {
      "application/vnd.jupyter.widget-view+json": {
       "model_id": "691b09825f7645ff8a4dad762223fd36",
       "version_major": 2,
       "version_minor": 0
      },
      "text/plain": [
       "HBox(children=(IntProgress(value=0, max=70), HTML(value='')))"
      ]
     },
     "metadata": {},
     "output_type": "display_data"
    },
    {
     "name": "stdout",
     "output_type": "stream",
     "text": [
      "\n"
     ]
    }
   ],
   "source": [
    "th_list = []\n",
    "scores = []\n",
    "\n",
    "best_score = 0\n",
    "besth_th = 0\n",
    "best_final_labels = None\n",
    "\n",
    "for i in tqdm(range(30, 100)):\n",
    "    th = i / 100.0\n",
    "\n",
    "    oof_labels = extract_label(post_oof, th)\n",
    "    post_labels = post_process_v8(post_oof, oof_labels, valid_df, window_size=2)\n",
    "\n",
    "    score = row_wise_micro_averaged_f1_score(val_y_labels, post_labels)\n",
    "    \n",
    "    if best_score < score:\n",
    "        best_score  = score\n",
    "        best_th = th\n",
    "        best_final_labels = post_labels\n",
    "\n",
    "    th_list.append(th)\n",
    "    scores.append(score)"
   ]
  },
  {
   "cell_type": "code",
   "execution_count": 140,
   "metadata": {},
   "outputs": [
    {
     "name": "stdout",
     "output_type": "stream",
     "text": [
      "best score: 0.7212 (th=0.59)\n"
     ]
    }
   ],
   "source": [
    "print(f\"best score: {best_score:.4f} (th={best_th})\")   # 0.7294 (th=0.55)"
   ]
  },
  {
   "cell_type": "code",
   "execution_count": 141,
   "metadata": {
    "scrolled": true
   },
   "outputs": [
    {
     "data": {
      "image/png": "[encoded data removed]",
      "text/plain": [
       "<Figure size 432x288 with 1 Axes>"
      ]
     },
     "metadata": {
      "needs_background": "light"
     },
     "output_type": "display_data"
    }
   ],
   "source": [
    "plt.plot(th_list, scores)\n",
    "plt.grid()"
   ]
  },
  {
   "cell_type": "code",
   "execution_count": 142,
   "metadata": {
    "scrolled": false
   },
   "outputs": [
    {
     "name": "stdout",
     "output_type": "stream",
     "text": [
      "2782: 0.3697 [0.125]\n",
      "7843: 0.9833 [0.008]\n",
      "10534: 0.6444 [-0.025]\n",
      "11254: 0.8500 [-0.050]\n",
      "18003: 0.6694 [0.172]\n",
      "20152: 0.9667 [0.017]\n",
      "21767: 0.2944 [0.053]\n",
      "26709: 0.5444 [0.008]\n",
      "26746: 0.7028 [0.008]\n",
      "28933: 0.4958 [0.033]\n",
      "31928: 1.0000 [0.008]\n",
      "42907: 0.8000 [0.067]\n",
      "44957: 0.7611 [0.042]\n",
      "50878: 0.9417 [0.075]\n",
      "51010: 0.4639 [-0.019]\n",
      "54955: 0.8333 [-0.042]\n",
      "57610: 0.9389 [0.006]\n"
     ]
    }
   ],
   "source": [
    "diff_scores13 = get_audio_score(best_final_labels, valid_df, score_dict)\n",
    "all_diff_scores[\"cqw_and_modified_firstlabel_replace\"] = diff_scores13"
   ]
  },
  {
   "cell_type": "code",
   "execution_count": 143,
   "metadata": {
    "scrolled": false
   },
   "outputs": [
    {
     "data": {
      "text/plain": [
       "nocall     166\n",
       "rucwar      63\n",
       "grasal1      4\n",
       "wbwwre1      3\n",
       "rubwre1      3\n",
       "sthwoo1      1\n",
       "Name: preds, dtype: int64"
      ]
     },
     "execution_count": 143,
     "metadata": {},
     "output_type": "execute_result"
    }
   ],
   "source": [
    "a = valid_df.copy()\n",
    "a[\"preds\"] = best_final_labels\n",
    "a.iloc[:240][\"preds\"].value_counts()"
   ]
  },
  {
   "cell_type": "markdown",
   "metadata": {},
   "source": [
    " "
   ]
  },
  {
   "cell_type": "markdown",
   "metadata": {},
   "source": [
    " "
   ]
  },
  {
   "cell_type": "markdown",
   "metadata": {},
   "source": [
    "## Avg -> V13 -> V10"
   ]
  },
  {
   "cell_type": "code",
   "execution_count": 144,
   "metadata": {
    "scrolled": true
   },
   "outputs": [],
   "source": [
    "c=2.5\n",
    "q=0.99\n",
    "w1=2.0\n",
    "w2=1.3\n",
    "\n",
    "oof = np.mean(concat_oof, axis=0)[use_idx, :]\n",
    "post_oof = post_process_v13(oof, valid_df, c, q, w1, w2)"
   ]
  },
  {
   "cell_type": "code",
   "execution_count": 145,
   "metadata": {
    "scrolled": true
   },
   "outputs": [
    {
     "data": {
      "application/vnd.jupyter.widget-view+json": {
       "model_id": "70a33816341146e4b286ec894bd5da00",
       "version_major": 2,
       "version_minor": 0
      },
      "text/plain": [
       "HBox(children=(IntProgress(value=0, max=50), HTML(value='')))"
      ]
     },
     "metadata": {},
     "output_type": "display_data"
    },
    {
     "name": "stdout",
     "output_type": "stream",
     "text": [
      "\n"
     ]
    }
   ],
   "source": [
    "th_list = []\n",
    "scores = []\n",
    "\n",
    "best_score = 0\n",
    "besth_th = 0\n",
    "best_final_labels = None\n",
    "\n",
    "for i in tqdm(range(30, 80)):\n",
    "    th = i / 100.0\n",
    "\n",
    "    oof_labels = extract_label(post_oof, th)\n",
    "    post_labels = post_process_v10(post_oof, oof_labels, valid_df, window_size=5, c=1.5)\n",
    "\n",
    "    score = row_wise_micro_averaged_f1_score(val_y_labels, post_labels)\n",
    "    \n",
    "    if best_score < score:\n",
    "        best_score  = score\n",
    "        best_th = th\n",
    "        best_final_labels = post_labels\n",
    "\n",
    "    th_list.append(th)\n",
    "    scores.append(score)"
   ]
  },
  {
   "cell_type": "code",
   "execution_count": 146,
   "metadata": {},
   "outputs": [
    {
     "name": "stdout",
     "output_type": "stream",
     "text": [
      "best score: 0.7331 (th=0.59)\n"
     ]
    }
   ],
   "source": [
    "print(f\"best score: {best_score:.4f} (th={best_th})\")   # best score: 0.7517 (th=0.65)"
   ]
  },
  {
   "cell_type": "code",
   "execution_count": 147,
   "metadata": {
    "scrolled": true
   },
   "outputs": [
    {
     "data": {
      "image/png": "[encoded data removed]",
      "text/plain": [
       "<Figure size 432x288 with 1 Axes>"
      ]
     },
     "metadata": {
      "needs_background": "light"
     },
     "output_type": "display_data"
    }
   ],
   "source": [
    "plt.plot(th_list, scores)\n",
    "plt.grid()"
   ]
  },
  {
   "cell_type": "code",
   "execution_count": 148,
   "metadata": {
    "scrolled": true
   },
   "outputs": [
    {
     "name": "stdout",
     "output_type": "stream",
     "text": [
      "2782: 0.4350 [0.190]\n",
      "7843: 0.9833 [0.008]\n",
      "10534: 0.6917 [0.022]\n",
      "11254: 0.8417 [-0.058]\n",
      "18003: 0.7028 [0.206]\n",
      "20152: 0.9667 [0.017]\n",
      "21767: 0.3167 [0.075]\n",
      "26709: 0.5444 [0.008]\n",
      "26746: 0.7028 [0.008]\n",
      "28933: 0.5222 [0.060]\n",
      "31928: 1.0000 [0.008]\n",
      "42907: 0.7917 [0.058]\n",
      "44957: 0.7833 [0.064]\n",
      "50878: 0.9167 [0.050]\n",
      "51010: 0.4917 [0.008]\n",
      "54955: 0.8333 [-0.042]\n",
      "57610: 0.9389 [0.006]\n"
     ]
    }
   ],
   "source": [
    "best_labels_2_10 = best_final_labels\n",
    "diff_scores13 = get_audio_score(best_final_labels, valid_df, score_dict)\n",
    "all_diff_scores[\"cqw_and_modified_firstlabel_replace\"] = diff_scores13"
   ]
  },
  {
   "cell_type": "code",
   "execution_count": 149,
   "metadata": {
    "scrolled": true
   },
   "outputs": [
    {
     "data": {
      "text/plain": [
       "nocall     159\n",
       "rucwar      69\n",
       "wbwwre1      5\n",
       "rubwre1      3\n",
       "grasal1      3\n",
       "sthwoo1      1\n",
       "Name: preds, dtype: int64"
      ]
     },
     "execution_count": 149,
     "metadata": {},
     "output_type": "execute_result"
    }
   ],
   "source": [
    "a = valid_df.copy()\n",
    "a[\"preds\"] = best_final_labels\n",
    "a.iloc[:240][\"preds\"].value_counts()"
   ]
  },
  {
   "cell_type": "markdown",
   "metadata": {},
   "source": [
    " "
   ]
  },
  {
   "cell_type": "markdown",
   "metadata": {},
   "source": [
    " "
   ]
  },
  {
   "cell_type": "markdown",
   "metadata": {},
   "source": [
    "## Avg -> V13_plus -> V10"
   ]
  },
  {
   "cell_type": "code",
   "execution_count": 150,
   "metadata": {},
   "outputs": [],
   "source": [
    "def post_process_v13_plus(preds, df, c=2, q=0.99, w1=1.5, ws=1.5):\n",
    "    post_preds = preds.copy()\n",
    "    \n",
    "    gp = df.groupby(\"audio_id\")\n",
    "    for audio_id, audio_df in gp:\n",
    "        idxs = audio_df.index.values\n",
    "        \n",
    "        audio_preds = preds[idxs, :]\n",
    "        audio_preds_mean = np.mean(audio_preds, axis=0)\n",
    "        audio_preds_mean_ = audio_preds_mean / audio_preds_mean.max()\n",
    "        quantile = np.quantile(audio_preds_mean_, q)\n",
    "        counter = 0\n",
    "\n",
    "        for bc in np.argsort(audio_preds_mean_)[::-1]:\n",
    "            v = audio_preds_mean_[bc]\n",
    "            if v >= (quantile * c):\n",
    "                for idx in idxs:\n",
    "                    if np.argmax(post_preds[idx, :]) == bc:\n",
    "                        post_preds[idx, bc] *= w1\n",
    "                        if counter > 0:\n",
    "                            post_preds[idx, bc] *= (w2 ** counter)\n",
    "                        counter += 1\n",
    "                    else:\n",
    "                        counter = 0\n",
    "            else:\n",
    "                break\n",
    "\n",
    "    return post_preds"
   ]
  },
  {
   "cell_type": "code",
   "execution_count": 151,
   "metadata": {
    "scrolled": true
   },
   "outputs": [],
   "source": [
    "c=2.5\n",
    "q=0.99\n",
    "w1=2.0\n",
    "w2=1.05\n",
    "\n",
    "oof = np.mean(concat_oof, axis=0)[use_idx, :]\n",
    "post_oof = post_process_v13_plus(oof, valid_df, c, q, w1, w2)"
   ]
  },
  {
   "cell_type": "code",
   "execution_count": 152,
   "metadata": {
    "scrolled": true
   },
   "outputs": [
    {
     "data": {
      "application/vnd.jupyter.widget-view+json": {
       "model_id": "150e05208a48424e9e9578d2521b6bd0",
       "version_major": 2,
       "version_minor": 0
      },
      "text/plain": [
       "HBox(children=(IntProgress(value=0, max=50), HTML(value='')))"
      ]
     },
     "metadata": {},
     "output_type": "display_data"
    },
    {
     "name": "stdout",
     "output_type": "stream",
     "text": [
      "\n"
     ]
    }
   ],
   "source": [
    "th_list = []\n",
    "scores = []\n",
    "\n",
    "best_score = 0\n",
    "besth_th = 0\n",
    "best_final_labels = None\n",
    "\n",
    "for i in tqdm(range(30, 80)):\n",
    "    th = i / 100.0\n",
    "\n",
    "    oof_labels = extract_label(post_oof, th)\n",
    "    post_labels = post_process_v10(post_oof, oof_labels, valid_df, window_size=5, c=1.5)\n",
    "\n",
    "    score = row_wise_micro_averaged_f1_score(val_y_labels, post_labels)\n",
    "    \n",
    "    if best_score < score:\n",
    "        best_score  = score\n",
    "        best_th = th\n",
    "        best_final_labels = post_labels\n",
    "\n",
    "    th_list.append(th)\n",
    "    scores.append(score)"
   ]
  },
  {
   "cell_type": "code",
   "execution_count": 153,
   "metadata": {},
   "outputs": [
    {
     "name": "stdout",
     "output_type": "stream",
     "text": [
      "best score: 0.7308 (th=0.59)\n"
     ]
    }
   ],
   "source": [
    "print(f\"best score: {best_score:.4f} (th={best_th})\")   # best score: 0.7472 (th=0.65)"
   ]
  },
  {
   "cell_type": "code",
   "execution_count": 154,
   "metadata": {
    "scrolled": true
   },
   "outputs": [
    {
     "data": {
      "image/png": "[encoded data removed]",
      "text/plain": [
       "<Figure size 432x288 with 1 Axes>"
      ]
     },
     "metadata": {
      "needs_background": "light"
     },
     "output_type": "display_data"
    }
   ],
   "source": [
    "plt.plot(th_list, scores)\n",
    "plt.grid()"
   ]
  },
  {
   "cell_type": "code",
   "execution_count": 155,
   "metadata": {
    "scrolled": true
   },
   "outputs": [
    {
     "name": "stdout",
     "output_type": "stream",
     "text": [
      "2782: 0.4003 [0.155]\n",
      "7843: 0.9833 [0.008]\n",
      "10534: 0.6917 [0.022]\n",
      "11254: 0.8417 [-0.058]\n",
      "18003: 0.7028 [0.206]\n",
      "20152: 0.9667 [0.017]\n",
      "21767: 0.3167 [0.075]\n",
      "26709: 0.5444 [0.008]\n",
      "26746: 0.7028 [0.008]\n",
      "28933: 0.5181 [0.056]\n",
      "31928: 1.0000 [0.008]\n",
      "42907: 0.7917 [0.058]\n",
      "44957: 0.7833 [0.064]\n",
      "50878: 0.9167 [0.050]\n",
      "51010: 0.4917 [0.008]\n",
      "54955: 0.8333 [-0.042]\n",
      "57610: 0.9389 [0.006]\n"
     ]
    }
   ],
   "source": [
    "best_labels_2_10 = best_final_labels\n",
    "diff_scores13 = get_audio_score(best_final_labels, valid_df, score_dict)\n",
    "all_diff_scores[\"cqw_and_modified_firstlabel_replace\"] = diff_scores13"
   ]
  },
  {
   "cell_type": "code",
   "execution_count": 156,
   "metadata": {
    "scrolled": true
   },
   "outputs": [
    {
     "data": {
      "text/plain": [
       "nocall     159\n",
       "rucwar      69\n",
       "wbwwre1      5\n",
       "rubwre1      3\n",
       "grasal1      3\n",
       "sthwoo1      1\n",
       "Name: preds, dtype: int64"
      ]
     },
     "execution_count": 156,
     "metadata": {},
     "output_type": "execute_result"
    }
   ],
   "source": [
    "a = valid_df.copy()\n",
    "a[\"preds\"] = best_final_labels\n",
    "a.iloc[:240][\"preds\"].value_counts()"
   ]
  },
  {
   "cell_type": "markdown",
   "metadata": {},
   "source": [
    " "
   ]
  },
  {
   "cell_type": "markdown",
   "metadata": {},
   "source": [
    " "
   ]
  },
  {
   "cell_type": "markdown",
   "metadata": {},
   "source": [
    "## SED"
   ]
  },
  {
   "cell_type": "code",
   "execution_count": 157,
   "metadata": {},
   "outputs": [],
   "source": [
    "clip_framewise_outputs_dict = joblib.load(\"./clip_framewise_outputs_dict.pkl\")\n",
    "clip_clipwise_outputs_dict = joblib.load(\"./clip_clipwise_outputs_dict.pkl\")"
   ]
  },
  {
   "cell_type": "code",
   "execution_count": 158,
   "metadata": {},
   "outputs": [
    {
     "data": {
      "text/plain": [
       "[1, 0, 0, 0, 1, 0, 0, 0, 0, 0, 0, 0, 0, 1, 0, 0, 0, 0, 0, 0]"
      ]
     },
     "execution_count": 158,
     "metadata": {},
     "output_type": "execute_result"
    }
   ],
   "source": [
    "unit = 3001\n",
    "\n",
    "a = np.where(clip_framewise_outputs_dict[\"7843\"] >= 0.95, 1, 0)\n",
    "clip_list = []\n",
    "\n",
    "for i in range(20):\n",
    "    b = a[unit * i: unit * (i + 1), :]\n",
    "    c = np.where(b.sum(0) >= 1, 1, 0).sum()\n",
    "    clip_list.append(c)\n",
    "    \n",
    "clip_list"
   ]
  },
  {
   "cell_type": "markdown",
   "metadata": {},
   "source": [
    " "
   ]
  },
  {
   "cell_type": "markdown",
   "metadata": {},
   "source": [
    " "
   ]
  },
  {
   "cell_type": "markdown",
   "metadata": {},
   "source": [
    "## Final Voting\n",
    "- Simple Avg\n",
    "- Nocall Classification\n",
    "- V2\n",
    "- V8\n",
    "- V10\n",
    "- Avg > V2 > V10"
   ]
  },
  {
   "cell_type": "code",
   "execution_count": 159,
   "metadata": {},
   "outputs": [
    {
     "name": "stdout",
     "output_type": "stream",
     "text": [
      "vote_lim=0   0.7170\n",
      "vote_lim=1   0.7170\n",
      "vote_lim=2   0.7255\n",
      "vote_lim=3   0.7086\n",
      "vote_lim=4   0.7001\n"
     ]
    }
   ],
   "source": [
    "post_labels_list = [\n",
    "    best_labels1,\n",
    "    best_labels_nc,\n",
    "    best_labels2,\n",
    "    best_labels8,\n",
    "    best_labels_2_10,\n",
    "]\n",
    "\n",
    "for vote_lim in range(len(post_labels_list)):\n",
    "    final_oof_labels = voting(post_labels_list, vote_lim=vote_lim)\n",
    "    score = row_wise_micro_averaged_f1_score(val_y_labels, final_oof_labels)\n",
    "    print(f\"vote_lim={vote_lim}   {score:.4f}\")"
   ]
  },
  {
   "cell_type": "code",
   "execution_count": 160,
   "metadata": {
    "scrolled": true
   },
   "outputs": [
    {
     "data": {
      "text/html": [
       "<div>\n",
       "<style scoped>\n",
       "    .dataframe tbody tr th:only-of-type {\n",
       "        vertical-align: middle;\n",
       "    }\n",
       "\n",
       "    .dataframe tbody tr th {\n",
       "        vertical-align: top;\n",
       "    }\n",
       "\n",
       "    .dataframe thead th {\n",
       "        text-align: right;\n",
       "    }\n",
       "</style>\n",
       "<table border=\"1\" class=\"dataframe\">\n",
       "  <thead>\n",
       "    <tr style=\"text-align: right;\">\n",
       "      <th></th>\n",
       "      <th>post0</th>\n",
       "      <th>post1</th>\n",
       "      <th>post2</th>\n",
       "      <th>post3</th>\n",
       "      <th>post4</th>\n",
       "      <th>final</th>\n",
       "    </tr>\n",
       "  </thead>\n",
       "  <tbody>\n",
       "    <tr>\n",
       "      <th>0</th>\n",
       "      <td>wbwwre1</td>\n",
       "      <td>wbwwre1</td>\n",
       "      <td>wbwwre1</td>\n",
       "      <td>wbwwre1</td>\n",
       "      <td>wbwwre1</td>\n",
       "      <td>wbwwre1</td>\n",
       "    </tr>\n",
       "    <tr>\n",
       "      <th>1</th>\n",
       "      <td>wbwwre1</td>\n",
       "      <td>wbwwre1</td>\n",
       "      <td>wbwwre1</td>\n",
       "      <td>wbwwre1</td>\n",
       "      <td>wbwwre1</td>\n",
       "      <td>wbwwre1</td>\n",
       "    </tr>\n",
       "    <tr>\n",
       "      <th>2</th>\n",
       "      <td>wbwwre1</td>\n",
       "      <td>wbwwre1</td>\n",
       "      <td>wbwwre1</td>\n",
       "      <td>wbwwre1</td>\n",
       "      <td>wbwwre1</td>\n",
       "      <td>wbwwre1</td>\n",
       "    </tr>\n",
       "    <tr>\n",
       "      <th>3</th>\n",
       "      <td>nocall</td>\n",
       "      <td>nocall</td>\n",
       "      <td>nocall</td>\n",
       "      <td>nocall</td>\n",
       "      <td>nocall</td>\n",
       "      <td>nocall</td>\n",
       "    </tr>\n",
       "    <tr>\n",
       "      <th>4</th>\n",
       "      <td>rubwre1</td>\n",
       "      <td>rubwre1</td>\n",
       "      <td>rubwre1</td>\n",
       "      <td>rubwre1</td>\n",
       "      <td>rubwre1</td>\n",
       "      <td>rubwre1</td>\n",
       "    </tr>\n",
       "    <tr>\n",
       "      <th>...</th>\n",
       "      <td>...</td>\n",
       "      <td>...</td>\n",
       "      <td>...</td>\n",
       "      <td>...</td>\n",
       "      <td>...</td>\n",
       "      <td>...</td>\n",
       "    </tr>\n",
       "    <tr>\n",
       "      <th>2035</th>\n",
       "      <td>nocall</td>\n",
       "      <td>nocall</td>\n",
       "      <td>nocall</td>\n",
       "      <td>nocall</td>\n",
       "      <td>nocall</td>\n",
       "      <td>nocall</td>\n",
       "    </tr>\n",
       "    <tr>\n",
       "      <th>2036</th>\n",
       "      <td>nocall</td>\n",
       "      <td>nocall</td>\n",
       "      <td>nocall</td>\n",
       "      <td>nocall</td>\n",
       "      <td>nocall</td>\n",
       "      <td>nocall</td>\n",
       "    </tr>\n",
       "    <tr>\n",
       "      <th>2037</th>\n",
       "      <td>grycat</td>\n",
       "      <td>nocall</td>\n",
       "      <td>grycat</td>\n",
       "      <td>nocall</td>\n",
       "      <td>nocall</td>\n",
       "      <td>nocall</td>\n",
       "    </tr>\n",
       "    <tr>\n",
       "      <th>2038</th>\n",
       "      <td>grycat</td>\n",
       "      <td>nocall</td>\n",
       "      <td>nocall</td>\n",
       "      <td>nocall</td>\n",
       "      <td>nocall</td>\n",
       "      <td>nocall</td>\n",
       "    </tr>\n",
       "    <tr>\n",
       "      <th>2039</th>\n",
       "      <td>nocall</td>\n",
       "      <td>nocall</td>\n",
       "      <td>nocall</td>\n",
       "      <td>nocall</td>\n",
       "      <td>nocall</td>\n",
       "      <td>nocall</td>\n",
       "    </tr>\n",
       "  </tbody>\n",
       "</table>\n",
       "<p>2040 rows × 6 columns</p>\n",
       "</div>"
      ],
      "text/plain": [
       "        post0    post1    post2    post3    post4    final\n",
       "0     wbwwre1  wbwwre1  wbwwre1  wbwwre1  wbwwre1  wbwwre1\n",
       "1     wbwwre1  wbwwre1  wbwwre1  wbwwre1  wbwwre1  wbwwre1\n",
       "2     wbwwre1  wbwwre1  wbwwre1  wbwwre1  wbwwre1  wbwwre1\n",
       "3      nocall   nocall   nocall   nocall   nocall   nocall\n",
       "4     rubwre1  rubwre1  rubwre1  rubwre1  rubwre1  rubwre1\n",
       "...       ...      ...      ...      ...      ...      ...\n",
       "2035   nocall   nocall   nocall   nocall   nocall   nocall\n",
       "2036   nocall   nocall   nocall   nocall   nocall   nocall\n",
       "2037   grycat   nocall   grycat   nocall   nocall   nocall\n",
       "2038   grycat   nocall   nocall   nocall   nocall   nocall\n",
       "2039   nocall   nocall   nocall   nocall   nocall   nocall\n",
       "\n",
       "[2040 rows x 6 columns]"
      ]
     },
     "execution_count": 160,
     "metadata": {},
     "output_type": "execute_result"
    }
   ],
   "source": [
    "a = pd.DataFrame(post_labels_list).T\n",
    "a.columns = [f\"post{i}\" for i in range(len(post_labels_list))]\n",
    "a[\"final\"] = final_oof_labels\n",
    "a"
   ]
  },
  {
   "cell_type": "markdown",
   "metadata": {},
   "source": [
    " "
   ]
  },
  {
   "cell_type": "markdown",
   "metadata": {},
   "source": [
    " "
   ]
  },
  {
   "cell_type": "markdown",
   "metadata": {},
   "source": [
    "## 閾値研究"
   ]
  },
  {
   "cell_type": "code",
   "execution_count": 161,
   "metadata": {},
   "outputs": [],
   "source": [
    "def optim_th(y_labels, preds):\n",
    "    best_score = 0\n",
    "    besth_th = 0\n",
    "    best_final_labels = None\n",
    "    base_score = 0\n",
    "\n",
    "    for i in range(100):\n",
    "        th = i / 100.0\n",
    "\n",
    "        pred_labels = extract_label(preds, th)\n",
    "\n",
    "        score = row_wise_micro_averaged_f1_score(y_labels, pred_labels)\n",
    "\n",
    "        if best_score < score:\n",
    "            best_score  = score\n",
    "            best_th = th\n",
    "            best_final_labels = pred_labels\n",
    "            \n",
    "        if th == 0.33:\n",
    "            base_score = score\n",
    "        \n",
    "    return best_score, best_th, base_score\n",
    "\n",
    "\n",
    "def get_info(df):\n",
    "    site = df[\"site\"].values[0]\n",
    "    nocall_num = len(df[df[\"birds\"] == \"nocall\"])\n",
    "    birdcall_num = len(df[df[\"birds\"] != \"nocall\"])\n",
    "    return site, nocall_num, birdcall_num\n",
    "\n",
    "\n",
    "def get_preds_info(preds):\n",
    "    mean_row_mean = preds.mean(axis=0).mean()\n",
    "    mean_row_max = preds.max(axis=0).mean()\n",
    "    return mean_row_mean, mean_row_max\n",
    "\n",
    "def get_pred_labels_info(pred_labels):\n",
    "    pred_nocall_count = 0\n",
    "    for labels in pred_labels:\n",
    "        if labels == \"nocall\":\n",
    "            pred_nocall_count += 1\n",
    "    \n",
    "    return pred_nocall_count"
   ]
  },
  {
   "cell_type": "code",
   "execution_count": 162,
   "metadata": {},
   "outputs": [],
   "source": [
    "oof = np.mean(concat_oof, axis=0)[use_idx, :]\n",
    "oof_labels = extract_label(oof, th=0.26)"
   ]
  },
  {
   "cell_type": "code",
   "execution_count": 163,
   "metadata": {},
   "outputs": [],
   "source": [
    "th_dict = {}\n",
    "\n",
    "gp = valid_df.groupby(\"audio_id\")\n",
    "for audio_id, audio_df in gp:\n",
    "    idx = audio_df.index.values\n",
    "    score, th, base_score = optim_th(audio_df[\"birds\"].values, oof[idx, :])\n",
    "    site, nocall_num, birdcall_num = get_info(audio_df)\n",
    "    mean_row_mean, mean_row_max = get_preds_info(oof[idx, :])\n",
    "    birdcall_p = oof99[idx, :].mean()\n",
    "    pred_nocall_count = get_pred_labels_info(oof_labels[idx[0]: idx[-1] + 1])\n",
    "\n",
    "    th_dict[audio_id] = {\n",
    "        \"site\": site,\n",
    "        \"best_th\": th,\n",
    "        \"score\": score,\n",
    "        \"change_score\": score - base_score,\n",
    "        \"nocall_num\": nocall_num,\n",
    "        \"birdcall_num\": birdcall_num,\n",
    "        \"mean_row_mean\": mean_row_mean,\n",
    "        \"mean_row_max\": mean_row_max,\n",
    "        \"birdcall_p\": birdcall_p,\n",
    "        \"pred_nocall_count\": pred_nocall_count,\n",
    "    }"
   ]
  },
  {
   "cell_type": "code",
   "execution_count": 164,
   "metadata": {},
   "outputs": [
    {
     "data": {
      "text/html": [
       "<div>\n",
       "<style scoped>\n",
       "    .dataframe tbody tr th:only-of-type {\n",
       "        vertical-align: middle;\n",
       "    }\n",
       "\n",
       "    .dataframe tbody tr th {\n",
       "        vertical-align: top;\n",
       "    }\n",
       "\n",
       "    .dataframe thead th {\n",
       "        text-align: right;\n",
       "    }\n",
       "</style>\n",
       "<table border=\"1\" class=\"dataframe\">\n",
       "  <thead>\n",
       "    <tr style=\"text-align: right;\">\n",
       "      <th></th>\n",
       "      <th>site</th>\n",
       "      <th>best_th</th>\n",
       "      <th>score</th>\n",
       "      <th>change_score</th>\n",
       "      <th>nocall_num</th>\n",
       "      <th>birdcall_num</th>\n",
       "      <th>mean_row_mean</th>\n",
       "      <th>mean_row_max</th>\n",
       "      <th>birdcall_p</th>\n",
       "      <th>pred_nocall_count</th>\n",
       "    </tr>\n",
       "  </thead>\n",
       "  <tbody>\n",
       "    <tr>\n",
       "      <th>21767</th>\n",
       "      <td>COR</td>\n",
       "      <td>0.06</td>\n",
       "      <td>0.315000</td>\n",
       "      <td>0.073333</td>\n",
       "      <td>22</td>\n",
       "      <td>98</td>\n",
       "      <td>0.001689</td>\n",
       "      <td>0.031201</td>\n",
       "      <td>0.999986</td>\n",
       "      <td>90</td>\n",
       "    </tr>\n",
       "    <tr>\n",
       "      <th>2782</th>\n",
       "      <td>SSW</td>\n",
       "      <td>0.07</td>\n",
       "      <td>0.531389</td>\n",
       "      <td>0.286389</td>\n",
       "      <td>0</td>\n",
       "      <td>120</td>\n",
       "      <td>0.002126</td>\n",
       "      <td>0.019707</td>\n",
       "      <td>0.993905</td>\n",
       "      <td>63</td>\n",
       "    </tr>\n",
       "    <tr>\n",
       "      <th>28933</th>\n",
       "      <td>SSW</td>\n",
       "      <td>0.08</td>\n",
       "      <td>0.553056</td>\n",
       "      <td>0.090556</td>\n",
       "      <td>18</td>\n",
       "      <td>102</td>\n",
       "      <td>0.002131</td>\n",
       "      <td>0.025237</td>\n",
       "      <td>0.956717</td>\n",
       "      <td>66</td>\n",
       "    </tr>\n",
       "    <tr>\n",
       "      <th>18003</th>\n",
       "      <td>COR</td>\n",
       "      <td>0.13</td>\n",
       "      <td>0.652778</td>\n",
       "      <td>0.155556</td>\n",
       "      <td>24</td>\n",
       "      <td>96</td>\n",
       "      <td>0.001851</td>\n",
       "      <td>0.024733</td>\n",
       "      <td>0.993982</td>\n",
       "      <td>65</td>\n",
       "    </tr>\n",
       "    <tr>\n",
       "      <th>7843</th>\n",
       "      <td>SSW</td>\n",
       "      <td>0.14</td>\n",
       "      <td>0.983333</td>\n",
       "      <td>0.008333</td>\n",
       "      <td>116</td>\n",
       "      <td>4</td>\n",
       "      <td>0.002432</td>\n",
       "      <td>0.009063</td>\n",
       "      <td>0.639814</td>\n",
       "      <td>119</td>\n",
       "    </tr>\n",
       "    <tr>\n",
       "      <th>42907</th>\n",
       "      <td>SSW</td>\n",
       "      <td>0.15</td>\n",
       "      <td>0.744444</td>\n",
       "      <td>0.011111</td>\n",
       "      <td>75</td>\n",
       "      <td>45</td>\n",
       "      <td>0.002052</td>\n",
       "      <td>0.020365</td>\n",
       "      <td>0.725713</td>\n",
       "      <td>101</td>\n",
       "    </tr>\n",
       "    <tr>\n",
       "      <th>26709</th>\n",
       "      <td>SSW</td>\n",
       "      <td>0.19</td>\n",
       "      <td>0.552778</td>\n",
       "      <td>0.016667</td>\n",
       "      <td>62</td>\n",
       "      <td>58</td>\n",
       "      <td>0.001990</td>\n",
       "      <td>0.016315</td>\n",
       "      <td>0.690525</td>\n",
       "      <td>115</td>\n",
       "    </tr>\n",
       "    <tr>\n",
       "      <th>51010</th>\n",
       "      <td>SSW</td>\n",
       "      <td>0.25</td>\n",
       "      <td>0.511111</td>\n",
       "      <td>0.027778</td>\n",
       "      <td>28</td>\n",
       "      <td>92</td>\n",
       "      <td>0.002125</td>\n",
       "      <td>0.033224</td>\n",
       "      <td>0.984260</td>\n",
       "      <td>73</td>\n",
       "    </tr>\n",
       "    <tr>\n",
       "      <th>26746</th>\n",
       "      <td>COR</td>\n",
       "      <td>0.27</td>\n",
       "      <td>0.702778</td>\n",
       "      <td>0.008333</td>\n",
       "      <td>71</td>\n",
       "      <td>49</td>\n",
       "      <td>0.001908</td>\n",
       "      <td>0.022899</td>\n",
       "      <td>0.999573</td>\n",
       "      <td>103</td>\n",
       "    </tr>\n",
       "    <tr>\n",
       "      <th>44957</th>\n",
       "      <td>COR</td>\n",
       "      <td>0.29</td>\n",
       "      <td>0.736111</td>\n",
       "      <td>0.016667</td>\n",
       "      <td>49</td>\n",
       "      <td>71</td>\n",
       "      <td>0.002156</td>\n",
       "      <td>0.028263</td>\n",
       "      <td>0.994803</td>\n",
       "      <td>68</td>\n",
       "    </tr>\n",
       "    <tr>\n",
       "      <th>57610</th>\n",
       "      <td>COR</td>\n",
       "      <td>0.30</td>\n",
       "      <td>0.933333</td>\n",
       "      <td>0.000000</td>\n",
       "      <td>93</td>\n",
       "      <td>27</td>\n",
       "      <td>0.002006</td>\n",
       "      <td>0.021211</td>\n",
       "      <td>0.999944</td>\n",
       "      <td>89</td>\n",
       "    </tr>\n",
       "    <tr>\n",
       "      <th>54955</th>\n",
       "      <td>SSW</td>\n",
       "      <td>0.31</td>\n",
       "      <td>0.883333</td>\n",
       "      <td>0.008333</td>\n",
       "      <td>100</td>\n",
       "      <td>20</td>\n",
       "      <td>0.002240</td>\n",
       "      <td>0.015737</td>\n",
       "      <td>0.198811</td>\n",
       "      <td>112</td>\n",
       "    </tr>\n",
       "    <tr>\n",
       "      <th>11254</th>\n",
       "      <td>COR</td>\n",
       "      <td>0.35</td>\n",
       "      <td>0.908333</td>\n",
       "      <td>0.008333</td>\n",
       "      <td>105</td>\n",
       "      <td>15</td>\n",
       "      <td>0.001955</td>\n",
       "      <td>0.026205</td>\n",
       "      <td>0.999824</td>\n",
       "      <td>101</td>\n",
       "    </tr>\n",
       "    <tr>\n",
       "      <th>20152</th>\n",
       "      <td>SSW</td>\n",
       "      <td>0.37</td>\n",
       "      <td>0.966667</td>\n",
       "      <td>0.016667</td>\n",
       "      <td>116</td>\n",
       "      <td>4</td>\n",
       "      <td>0.002170</td>\n",
       "      <td>0.013643</td>\n",
       "      <td>0.113140</td>\n",
       "      <td>114</td>\n",
       "    </tr>\n",
       "    <tr>\n",
       "      <th>10534</th>\n",
       "      <td>SSW</td>\n",
       "      <td>0.49</td>\n",
       "      <td>0.672222</td>\n",
       "      <td>0.002778</td>\n",
       "      <td>63</td>\n",
       "      <td>57</td>\n",
       "      <td>0.002043</td>\n",
       "      <td>0.032231</td>\n",
       "      <td>0.904794</td>\n",
       "      <td>75</td>\n",
       "    </tr>\n",
       "    <tr>\n",
       "      <th>31928</th>\n",
       "      <td>COR</td>\n",
       "      <td>0.53</td>\n",
       "      <td>1.000000</td>\n",
       "      <td>0.008333</td>\n",
       "      <td>120</td>\n",
       "      <td>0</td>\n",
       "      <td>0.001798</td>\n",
       "      <td>0.008232</td>\n",
       "      <td>0.862850</td>\n",
       "      <td>119</td>\n",
       "    </tr>\n",
       "    <tr>\n",
       "      <th>50878</th>\n",
       "      <td>COR</td>\n",
       "      <td>0.59</td>\n",
       "      <td>0.983333</td>\n",
       "      <td>0.116667</td>\n",
       "      <td>115</td>\n",
       "      <td>5</td>\n",
       "      <td>0.001890</td>\n",
       "      <td>0.025413</td>\n",
       "      <td>0.999571</td>\n",
       "      <td>93</td>\n",
       "    </tr>\n",
       "  </tbody>\n",
       "</table>\n",
       "</div>"
      ],
      "text/plain": [
       "      site  best_th     score  change_score  nocall_num  birdcall_num  \\\n",
       "21767  COR     0.06  0.315000      0.073333          22            98   \n",
       "2782   SSW     0.07  0.531389      0.286389           0           120   \n",
       "28933  SSW     0.08  0.553056      0.090556          18           102   \n",
       "18003  COR     0.13  0.652778      0.155556          24            96   \n",
       "7843   SSW     0.14  0.983333      0.008333         116             4   \n",
       "42907  SSW     0.15  0.744444      0.011111          75            45   \n",
       "26709  SSW     0.19  0.552778      0.016667          62            58   \n",
       "51010  SSW     0.25  0.511111      0.027778          28            92   \n",
       "26746  COR     0.27  0.702778      0.008333          71            49   \n",
       "44957  COR     0.29  0.736111      0.016667          49            71   \n",
       "57610  COR     0.30  0.933333      0.000000          93            27   \n",
       "54955  SSW     0.31  0.883333      0.008333         100            20   \n",
       "11254  COR     0.35  0.908333      0.008333         105            15   \n",
       "20152  SSW     0.37  0.966667      0.016667         116             4   \n",
       "10534  SSW     0.49  0.672222      0.002778          63            57   \n",
       "31928  COR     0.53  1.000000      0.008333         120             0   \n",
       "50878  COR     0.59  0.983333      0.116667         115             5   \n",
       "\n",
       "       mean_row_mean  mean_row_max  birdcall_p  pred_nocall_count  \n",
       "21767       0.001689      0.031201    0.999986                 90  \n",
       "2782        0.002126      0.019707    0.993905                 63  \n",
       "28933       0.002131      0.025237    0.956717                 66  \n",
       "18003       0.001851      0.024733    0.993982                 65  \n",
       "7843        0.002432      0.009063    0.639814                119  \n",
       "42907       0.002052      0.020365    0.725713                101  \n",
       "26709       0.001990      0.016315    0.690525                115  \n",
       "51010       0.002125      0.033224    0.984260                 73  \n",
       "26746       0.001908      0.022899    0.999573                103  \n",
       "44957       0.002156      0.028263    0.994803                 68  \n",
       "57610       0.002006      0.021211    0.999944                 89  \n",
       "54955       0.002240      0.015737    0.198811                112  \n",
       "11254       0.001955      0.026205    0.999824                101  \n",
       "20152       0.002170      0.013643    0.113140                114  \n",
       "10534       0.002043      0.032231    0.904794                 75  \n",
       "31928       0.001798      0.008232    0.862850                119  \n",
       "50878       0.001890      0.025413    0.999571                 93  "
      ]
     },
     "execution_count": 164,
     "metadata": {},
     "output_type": "execute_result"
    }
   ],
   "source": [
    "score_df = pd.DataFrame.from_dict(th_dict, orient=\"index\")\n",
    "score_df.sort_values(by=\"best_th\")"
   ]
  },
  {
   "cell_type": "code",
   "execution_count": 165,
   "metadata": {},
   "outputs": [
    {
     "data": {
      "text/plain": [
       "0.7429411764705879"
      ]
     },
     "execution_count": 165,
     "metadata": {},
     "output_type": "execute_result"
    }
   ],
   "source": [
    "(score_df[\"score\"].values * 120).sum() / 2040"
   ]
  },
  {
   "cell_type": "code",
   "execution_count": null,
   "metadata": {},
   "outputs": [],
   "source": []
  },
  {
   "cell_type": "code",
   "execution_count": null,
   "metadata": {},
   "outputs": [],
   "source": []
  },
  {
   "cell_type": "code",
   "execution_count": null,
   "metadata": {},
   "outputs": [],
   "source": []
  },
  {
   "cell_type": "code",
   "execution_count": 166,
   "metadata": {
    "scrolled": false
   },
   "outputs": [
    {
     "data": {
      "text/html": [
       "<div>\n",
       "<style scoped>\n",
       "    .dataframe tbody tr th:only-of-type {\n",
       "        vertical-align: middle;\n",
       "    }\n",
       "\n",
       "    .dataframe tbody tr th {\n",
       "        vertical-align: top;\n",
       "    }\n",
       "\n",
       "    .dataframe thead th {\n",
       "        text-align: right;\n",
       "    }\n",
       "</style>\n",
       "<table border=\"1\" class=\"dataframe\">\n",
       "  <thead>\n",
       "    <tr style=\"text-align: right;\">\n",
       "      <th></th>\n",
       "      <th>nocall_num</th>\n",
       "      <th>site</th>\n",
       "      <th>score</th>\n",
       "      <th>avg</th>\n",
       "      <th>avg_nc</th>\n",
       "      <th>voting</th>\n",
       "      <th>avg_postv12</th>\n",
       "      <th>cqw_avg</th>\n",
       "      <th>std_avg</th>\n",
       "      <th>distance_avg</th>\n",
       "      <th>distance_avg_nc</th>\n",
       "      <th>distance_cqw_avg</th>\n",
       "      <th>firstlabel_replace</th>\n",
       "      <th>nocall_birdcall_replace</th>\n",
       "      <th>birdcall_preds0.5_and_v5</th>\n",
       "      <th>modified_firstlabel_replace</th>\n",
       "      <th>cqw_and_modified_firstlabel_replace</th>\n",
       "    </tr>\n",
       "  </thead>\n",
       "  <tbody>\n",
       "    <tr>\n",
       "      <th>2782</th>\n",
       "      <td>0.0</td>\n",
       "      <td>SSW</td>\n",
       "      <td>0.245000</td>\n",
       "      <td>0.071389</td>\n",
       "      <td>0.071389</td>\n",
       "      <td>0.082500</td>\n",
       "      <td>0.116389</td>\n",
       "      <td>0.160278</td>\n",
       "      <td>0.145000</td>\n",
       "      <td>0.219444</td>\n",
       "      <td>0.209444</td>\n",
       "      <td>0.219444</td>\n",
       "      <td>0.110833</td>\n",
       "      <td>0.008333</td>\n",
       "      <td>0.021389</td>\n",
       "      <td>9.222222e-02</td>\n",
       "      <td>0.155278</td>\n",
       "    </tr>\n",
       "    <tr>\n",
       "      <th>28933</th>\n",
       "      <td>18.0</td>\n",
       "      <td>SSW</td>\n",
       "      <td>0.462500</td>\n",
       "      <td>0.004167</td>\n",
       "      <td>0.004167</td>\n",
       "      <td>0.004167</td>\n",
       "      <td>0.052778</td>\n",
       "      <td>0.053889</td>\n",
       "      <td>0.013889</td>\n",
       "      <td>0.081667</td>\n",
       "      <td>0.072222</td>\n",
       "      <td>0.081667</td>\n",
       "      <td>0.055556</td>\n",
       "      <td>0.000000</td>\n",
       "      <td>0.004167</td>\n",
       "      <td>2.361111e-02</td>\n",
       "      <td>0.055556</td>\n",
       "    </tr>\n",
       "    <tr>\n",
       "      <th>21767</th>\n",
       "      <td>22.0</td>\n",
       "      <td>COR</td>\n",
       "      <td>0.241667</td>\n",
       "      <td>0.037500</td>\n",
       "      <td>0.037500</td>\n",
       "      <td>0.026389</td>\n",
       "      <td>0.016667</td>\n",
       "      <td>0.033333</td>\n",
       "      <td>-0.027778</td>\n",
       "      <td>0.070833</td>\n",
       "      <td>0.073611</td>\n",
       "      <td>0.070833</td>\n",
       "      <td>0.052778</td>\n",
       "      <td>0.016667</td>\n",
       "      <td>0.025000</td>\n",
       "      <td>3.333333e-02</td>\n",
       "      <td>0.075000</td>\n",
       "    </tr>\n",
       "    <tr>\n",
       "      <th>18003</th>\n",
       "      <td>24.0</td>\n",
       "      <td>COR</td>\n",
       "      <td>0.497222</td>\n",
       "      <td>0.055556</td>\n",
       "      <td>0.055556</td>\n",
       "      <td>0.038889</td>\n",
       "      <td>0.144444</td>\n",
       "      <td>0.133333</td>\n",
       "      <td>0.205556</td>\n",
       "      <td>0.163889</td>\n",
       "      <td>0.155556</td>\n",
       "      <td>0.163889</td>\n",
       "      <td>0.147222</td>\n",
       "      <td>0.016667</td>\n",
       "      <td>0.016667</td>\n",
       "      <td>1.472222e-01</td>\n",
       "      <td>0.205556</td>\n",
       "    </tr>\n",
       "    <tr>\n",
       "      <th>51010</th>\n",
       "      <td>28.0</td>\n",
       "      <td>SSW</td>\n",
       "      <td>0.483333</td>\n",
       "      <td>0.019444</td>\n",
       "      <td>0.019444</td>\n",
       "      <td>0.006944</td>\n",
       "      <td>0.025000</td>\n",
       "      <td>0.005556</td>\n",
       "      <td>-0.250000</td>\n",
       "      <td>-0.250000</td>\n",
       "      <td>-0.250000</td>\n",
       "      <td>-0.250000</td>\n",
       "      <td>0.069444</td>\n",
       "      <td>0.005556</td>\n",
       "      <td>0.013889</td>\n",
       "      <td>6.111111e-02</td>\n",
       "      <td>0.008333</td>\n",
       "    </tr>\n",
       "    <tr>\n",
       "      <th>44957</th>\n",
       "      <td>49.0</td>\n",
       "      <td>COR</td>\n",
       "      <td>0.719444</td>\n",
       "      <td>0.008333</td>\n",
       "      <td>0.008333</td>\n",
       "      <td>-0.002778</td>\n",
       "      <td>0.000000</td>\n",
       "      <td>0.033333</td>\n",
       "      <td>0.038889</td>\n",
       "      <td>-0.011111</td>\n",
       "      <td>-0.008333</td>\n",
       "      <td>-0.011111</td>\n",
       "      <td>0.008333</td>\n",
       "      <td>0.000000</td>\n",
       "      <td>0.000000</td>\n",
       "      <td>1.110223e-16</td>\n",
       "      <td>0.063889</td>\n",
       "    </tr>\n",
       "    <tr>\n",
       "      <th>26709</th>\n",
       "      <td>62.0</td>\n",
       "      <td>SSW</td>\n",
       "      <td>0.536111</td>\n",
       "      <td>0.000000</td>\n",
       "      <td>0.000000</td>\n",
       "      <td>0.008333</td>\n",
       "      <td>0.013889</td>\n",
       "      <td>0.000000</td>\n",
       "      <td>-0.019444</td>\n",
       "      <td>0.000000</td>\n",
       "      <td>0.025000</td>\n",
       "      <td>0.000000</td>\n",
       "      <td>0.013889</td>\n",
       "      <td>0.000000</td>\n",
       "      <td>0.000000</td>\n",
       "      <td>8.333333e-03</td>\n",
       "      <td>0.008333</td>\n",
       "    </tr>\n",
       "    <tr>\n",
       "      <th>10534</th>\n",
       "      <td>63.0</td>\n",
       "      <td>SSW</td>\n",
       "      <td>0.669444</td>\n",
       "      <td>-0.019444</td>\n",
       "      <td>-0.019444</td>\n",
       "      <td>-0.011111</td>\n",
       "      <td>-0.186111</td>\n",
       "      <td>0.030556</td>\n",
       "      <td>0.025000</td>\n",
       "      <td>0.013889</td>\n",
       "      <td>0.025000</td>\n",
       "      <td>0.013889</td>\n",
       "      <td>-0.002778</td>\n",
       "      <td>-0.011111</td>\n",
       "      <td>-0.002778</td>\n",
       "      <td>1.666667e-02</td>\n",
       "      <td>0.022222</td>\n",
       "    </tr>\n",
       "    <tr>\n",
       "      <th>26746</th>\n",
       "      <td>71.0</td>\n",
       "      <td>COR</td>\n",
       "      <td>0.694444</td>\n",
       "      <td>0.008333</td>\n",
       "      <td>0.008333</td>\n",
       "      <td>-0.011111</td>\n",
       "      <td>-0.011111</td>\n",
       "      <td>0.000000</td>\n",
       "      <td>-0.008333</td>\n",
       "      <td>-0.002778</td>\n",
       "      <td>-0.008333</td>\n",
       "      <td>-0.002778</td>\n",
       "      <td>0.008333</td>\n",
       "      <td>0.008333</td>\n",
       "      <td>0.008333</td>\n",
       "      <td>8.333333e-03</td>\n",
       "      <td>0.008333</td>\n",
       "    </tr>\n",
       "    <tr>\n",
       "      <th>42907</th>\n",
       "      <td>75.0</td>\n",
       "      <td>SSW</td>\n",
       "      <td>0.733333</td>\n",
       "      <td>-0.008333</td>\n",
       "      <td>-0.008333</td>\n",
       "      <td>0.025000</td>\n",
       "      <td>0.033333</td>\n",
       "      <td>0.008333</td>\n",
       "      <td>-0.108333</td>\n",
       "      <td>-0.108333</td>\n",
       "      <td>-0.108333</td>\n",
       "      <td>-0.108333</td>\n",
       "      <td>0.075000</td>\n",
       "      <td>0.008333</td>\n",
       "      <td>0.008333</td>\n",
       "      <td>8.333333e-02</td>\n",
       "      <td>0.058333</td>\n",
       "    </tr>\n",
       "    <tr>\n",
       "      <th>57610</th>\n",
       "      <td>93.0</td>\n",
       "      <td>COR</td>\n",
       "      <td>0.933333</td>\n",
       "      <td>-0.033333</td>\n",
       "      <td>-0.033333</td>\n",
       "      <td>-0.030556</td>\n",
       "      <td>-0.097222</td>\n",
       "      <td>-0.055556</td>\n",
       "      <td>-0.022222</td>\n",
       "      <td>-0.158333</td>\n",
       "      <td>-0.158333</td>\n",
       "      <td>-0.158333</td>\n",
       "      <td>-0.041667</td>\n",
       "      <td>0.000000</td>\n",
       "      <td>0.000000</td>\n",
       "      <td>-3.611111e-02</td>\n",
       "      <td>0.005556</td>\n",
       "    </tr>\n",
       "    <tr>\n",
       "      <th>54955</th>\n",
       "      <td>100.0</td>\n",
       "      <td>SSW</td>\n",
       "      <td>0.875000</td>\n",
       "      <td>-0.008333</td>\n",
       "      <td>0.000000</td>\n",
       "      <td>-0.008333</td>\n",
       "      <td>-0.066667</td>\n",
       "      <td>0.008333</td>\n",
       "      <td>-0.041667</td>\n",
       "      <td>-0.041667</td>\n",
       "      <td>-0.041667</td>\n",
       "      <td>-0.041667</td>\n",
       "      <td>0.000000</td>\n",
       "      <td>0.008333</td>\n",
       "      <td>-0.008333</td>\n",
       "      <td>8.333333e-03</td>\n",
       "      <td>-0.041667</td>\n",
       "    </tr>\n",
       "    <tr>\n",
       "      <th>11254</th>\n",
       "      <td>105.0</td>\n",
       "      <td>COR</td>\n",
       "      <td>0.900000</td>\n",
       "      <td>-0.008333</td>\n",
       "      <td>-0.008333</td>\n",
       "      <td>-0.019444</td>\n",
       "      <td>-0.108333</td>\n",
       "      <td>-0.008333</td>\n",
       "      <td>-0.033333</td>\n",
       "      <td>-0.080556</td>\n",
       "      <td>-0.086111</td>\n",
       "      <td>-0.080556</td>\n",
       "      <td>-0.041667</td>\n",
       "      <td>-0.008333</td>\n",
       "      <td>-0.008333</td>\n",
       "      <td>-1.666667e-02</td>\n",
       "      <td>-0.058333</td>\n",
       "    </tr>\n",
       "    <tr>\n",
       "      <th>50878</th>\n",
       "      <td>115.0</td>\n",
       "      <td>COR</td>\n",
       "      <td>0.866667</td>\n",
       "      <td>-0.033333</td>\n",
       "      <td>-0.033333</td>\n",
       "      <td>-0.066667</td>\n",
       "      <td>-0.133333</td>\n",
       "      <td>-0.041667</td>\n",
       "      <td>0.033333</td>\n",
       "      <td>0.041667</td>\n",
       "      <td>0.041667</td>\n",
       "      <td>0.041667</td>\n",
       "      <td>-0.075000</td>\n",
       "      <td>-0.016667</td>\n",
       "      <td>-0.025000</td>\n",
       "      <td>-7.500000e-02</td>\n",
       "      <td>0.050000</td>\n",
       "    </tr>\n",
       "    <tr>\n",
       "      <th>20152</th>\n",
       "      <td>116.0</td>\n",
       "      <td>SSW</td>\n",
       "      <td>0.950000</td>\n",
       "      <td>0.000000</td>\n",
       "      <td>0.008333</td>\n",
       "      <td>-0.008333</td>\n",
       "      <td>-0.066667</td>\n",
       "      <td>-0.091667</td>\n",
       "      <td>-0.033333</td>\n",
       "      <td>0.000000</td>\n",
       "      <td>0.025000</td>\n",
       "      <td>0.000000</td>\n",
       "      <td>-0.066667</td>\n",
       "      <td>0.000000</td>\n",
       "      <td>0.000000</td>\n",
       "      <td>-3.333333e-02</td>\n",
       "      <td>0.016667</td>\n",
       "    </tr>\n",
       "    <tr>\n",
       "      <th>7843</th>\n",
       "      <td>116.0</td>\n",
       "      <td>SSW</td>\n",
       "      <td>0.975000</td>\n",
       "      <td>0.000000</td>\n",
       "      <td>0.000000</td>\n",
       "      <td>0.000000</td>\n",
       "      <td>0.000000</td>\n",
       "      <td>0.000000</td>\n",
       "      <td>-0.008333</td>\n",
       "      <td>0.008333</td>\n",
       "      <td>0.000000</td>\n",
       "      <td>0.008333</td>\n",
       "      <td>0.008333</td>\n",
       "      <td>0.000000</td>\n",
       "      <td>0.000000</td>\n",
       "      <td>8.333333e-03</td>\n",
       "      <td>0.008333</td>\n",
       "    </tr>\n",
       "    <tr>\n",
       "      <th>31928</th>\n",
       "      <td>120.0</td>\n",
       "      <td>COR</td>\n",
       "      <td>0.991667</td>\n",
       "      <td>0.000000</td>\n",
       "      <td>0.000000</td>\n",
       "      <td>0.000000</td>\n",
       "      <td>-0.016667</td>\n",
       "      <td>-0.025000</td>\n",
       "      <td>0.008333</td>\n",
       "      <td>-0.066667</td>\n",
       "      <td>-0.050000</td>\n",
       "      <td>-0.066667</td>\n",
       "      <td>0.000000</td>\n",
       "      <td>0.000000</td>\n",
       "      <td>0.000000</td>\n",
       "      <td>0.000000e+00</td>\n",
       "      <td>0.008333</td>\n",
       "    </tr>\n",
       "  </tbody>\n",
       "</table>\n",
       "</div>"
      ],
      "text/plain": [
       "       nocall_num site     score       avg    avg_nc    voting  avg_postv12  \\\n",
       "2782          0.0  SSW  0.245000  0.071389  0.071389  0.082500     0.116389   \n",
       "28933        18.0  SSW  0.462500  0.004167  0.004167  0.004167     0.052778   \n",
       "21767        22.0  COR  0.241667  0.037500  0.037500  0.026389     0.016667   \n",
       "18003        24.0  COR  0.497222  0.055556  0.055556  0.038889     0.144444   \n",
       "51010        28.0  SSW  0.483333  0.019444  0.019444  0.006944     0.025000   \n",
       "44957        49.0  COR  0.719444  0.008333  0.008333 -0.002778     0.000000   \n",
       "26709        62.0  SSW  0.536111  0.000000  0.000000  0.008333     0.013889   \n",
       "10534        63.0  SSW  0.669444 -0.019444 -0.019444 -0.011111    -0.186111   \n",
       "26746        71.0  COR  0.694444  0.008333  0.008333 -0.011111    -0.011111   \n",
       "42907        75.0  SSW  0.733333 -0.008333 -0.008333  0.025000     0.033333   \n",
       "57610        93.0  COR  0.933333 -0.033333 -0.033333 -0.030556    -0.097222   \n",
       "54955       100.0  SSW  0.875000 -0.008333  0.000000 -0.008333    -0.066667   \n",
       "11254       105.0  COR  0.900000 -0.008333 -0.008333 -0.019444    -0.108333   \n",
       "50878       115.0  COR  0.866667 -0.033333 -0.033333 -0.066667    -0.133333   \n",
       "20152       116.0  SSW  0.950000  0.000000  0.008333 -0.008333    -0.066667   \n",
       "7843        116.0  SSW  0.975000  0.000000  0.000000  0.000000     0.000000   \n",
       "31928       120.0  COR  0.991667  0.000000  0.000000  0.000000    -0.016667   \n",
       "\n",
       "        cqw_avg   std_avg  distance_avg  distance_avg_nc  distance_cqw_avg  \\\n",
       "2782   0.160278  0.145000      0.219444         0.209444          0.219444   \n",
       "28933  0.053889  0.013889      0.081667         0.072222          0.081667   \n",
       "21767  0.033333 -0.027778      0.070833         0.073611          0.070833   \n",
       "18003  0.133333  0.205556      0.163889         0.155556          0.163889   \n",
       "51010  0.005556 -0.250000     -0.250000        -0.250000         -0.250000   \n",
       "44957  0.033333  0.038889     -0.011111        -0.008333         -0.011111   \n",
       "26709  0.000000 -0.019444      0.000000         0.025000          0.000000   \n",
       "10534  0.030556  0.025000      0.013889         0.025000          0.013889   \n",
       "26746  0.000000 -0.008333     -0.002778        -0.008333         -0.002778   \n",
       "42907  0.008333 -0.108333     -0.108333        -0.108333         -0.108333   \n",
       "57610 -0.055556 -0.022222     -0.158333        -0.158333         -0.158333   \n",
       "54955  0.008333 -0.041667     -0.041667        -0.041667         -0.041667   \n",
       "11254 -0.008333 -0.033333     -0.080556        -0.086111         -0.080556   \n",
       "50878 -0.041667  0.033333      0.041667         0.041667          0.041667   \n",
       "20152 -0.091667 -0.033333      0.000000         0.025000          0.000000   \n",
       "7843   0.000000 -0.008333      0.008333         0.000000          0.008333   \n",
       "31928 -0.025000  0.008333     -0.066667        -0.050000         -0.066667   \n",
       "\n",
       "       firstlabel_replace  nocall_birdcall_replace  birdcall_preds0.5_and_v5  \\\n",
       "2782             0.110833                 0.008333                  0.021389   \n",
       "28933            0.055556                 0.000000                  0.004167   \n",
       "21767            0.052778                 0.016667                  0.025000   \n",
       "18003            0.147222                 0.016667                  0.016667   \n",
       "51010            0.069444                 0.005556                  0.013889   \n",
       "44957            0.008333                 0.000000                  0.000000   \n",
       "26709            0.013889                 0.000000                  0.000000   \n",
       "10534           -0.002778                -0.011111                 -0.002778   \n",
       "26746            0.008333                 0.008333                  0.008333   \n",
       "42907            0.075000                 0.008333                  0.008333   \n",
       "57610           -0.041667                 0.000000                  0.000000   \n",
       "54955            0.000000                 0.008333                 -0.008333   \n",
       "11254           -0.041667                -0.008333                 -0.008333   \n",
       "50878           -0.075000                -0.016667                 -0.025000   \n",
       "20152           -0.066667                 0.000000                  0.000000   \n",
       "7843             0.008333                 0.000000                  0.000000   \n",
       "31928            0.000000                 0.000000                  0.000000   \n",
       "\n",
       "       modified_firstlabel_replace  cqw_and_modified_firstlabel_replace  \n",
       "2782                  9.222222e-02                             0.155278  \n",
       "28933                 2.361111e-02                             0.055556  \n",
       "21767                 3.333333e-02                             0.075000  \n",
       "18003                 1.472222e-01                             0.205556  \n",
       "51010                 6.111111e-02                             0.008333  \n",
       "44957                 1.110223e-16                             0.063889  \n",
       "26709                 8.333333e-03                             0.008333  \n",
       "10534                 1.666667e-02                             0.022222  \n",
       "26746                 8.333333e-03                             0.008333  \n",
       "42907                 8.333333e-02                             0.058333  \n",
       "57610                -3.611111e-02                             0.005556  \n",
       "54955                 8.333333e-03                            -0.041667  \n",
       "11254                -1.666667e-02                            -0.058333  \n",
       "50878                -7.500000e-02                             0.050000  \n",
       "20152                -3.333333e-02                             0.016667  \n",
       "7843                  8.333333e-03                             0.008333  \n",
       "31928                 0.000000e+00                             0.008333  "
      ]
     },
     "execution_count": 166,
     "metadata": {},
     "output_type": "execute_result"
    }
   ],
   "source": [
    "diff_df = pd.DataFrame.from_dict(all_diff_scores)\n",
    "columns = list(diff_df.columns)\n",
    "\n",
    "diff_df = pd.concat([\n",
    "    valid_df[valid_df[\"birds\"] == \"nocall\"].groupby(\"audio_id\").size(),\n",
    "    valid_df.groupby(\"audio_id\")[\"site\"].unique(),\n",
    "    pd.DataFrame.from_dict(score_dict, orient=\"index\", columns=[\"score\"]),\n",
    "    diff_df,\n",
    "], axis=1)\n",
    "\n",
    "diff_df.columns = [\"nocall_num\", \"site\", \"score\"] + columns\n",
    "\n",
    "diff_df[\"nocall_num\"] = diff_df[\"nocall_num\"].fillna(0)\n",
    "diff_df[\"site\"] = diff_df[\"site\"].apply(lambda x: x[0])\n",
    "\n",
    "diff_df.sort_values(by=\"nocall_num\")"
   ]
  },
  {
   "cell_type": "code",
   "execution_count": 167,
   "metadata": {},
   "outputs": [
    {
     "data": {
      "text/html": [
       "<div>\n",
       "<style scoped>\n",
       "    .dataframe tbody tr th:only-of-type {\n",
       "        vertical-align: middle;\n",
       "    }\n",
       "\n",
       "    .dataframe tbody tr th {\n",
       "        vertical-align: top;\n",
       "    }\n",
       "\n",
       "    .dataframe thead th {\n",
       "        text-align: right;\n",
       "    }\n",
       "</style>\n",
       "<table border=\"1\" class=\"dataframe\">\n",
       "  <thead>\n",
       "    <tr style=\"text-align: right;\">\n",
       "      <th></th>\n",
       "      <th>nocall_num</th>\n",
       "      <th>site</th>\n",
       "      <th>score</th>\n",
       "      <th>avg</th>\n",
       "      <th>avg_nc</th>\n",
       "      <th>voting</th>\n",
       "      <th>avg_postv12</th>\n",
       "      <th>cqw_avg</th>\n",
       "      <th>std_avg</th>\n",
       "      <th>distance_avg</th>\n",
       "      <th>distance_avg_nc</th>\n",
       "      <th>distance_cqw_avg</th>\n",
       "      <th>firstlabel_replace</th>\n",
       "      <th>nocall_birdcall_replace</th>\n",
       "      <th>birdcall_preds0.5_and_v5</th>\n",
       "      <th>modified_firstlabel_replace</th>\n",
       "      <th>cqw_and_modified_firstlabel_replace</th>\n",
       "    </tr>\n",
       "  </thead>\n",
       "  <tbody>\n",
       "    <tr>\n",
       "      <th>7843</th>\n",
       "      <td>116.0</td>\n",
       "      <td>SSW</td>\n",
       "      <td>0.975000</td>\n",
       "      <td>0.000000</td>\n",
       "      <td>0.000000</td>\n",
       "      <td>0.000000</td>\n",
       "      <td>0.000000</td>\n",
       "      <td>0.000000</td>\n",
       "      <td>-0.008333</td>\n",
       "      <td>0.008333</td>\n",
       "      <td>0.000000</td>\n",
       "      <td>0.008333</td>\n",
       "      <td>0.008333</td>\n",
       "      <td>0.000000</td>\n",
       "      <td>0.000000</td>\n",
       "      <td>0.008333</td>\n",
       "      <td>0.008333</td>\n",
       "    </tr>\n",
       "    <tr>\n",
       "      <th>11254</th>\n",
       "      <td>105.0</td>\n",
       "      <td>COR</td>\n",
       "      <td>0.900000</td>\n",
       "      <td>-0.008333</td>\n",
       "      <td>-0.008333</td>\n",
       "      <td>-0.019444</td>\n",
       "      <td>-0.108333</td>\n",
       "      <td>-0.008333</td>\n",
       "      <td>-0.033333</td>\n",
       "      <td>-0.080556</td>\n",
       "      <td>-0.086111</td>\n",
       "      <td>-0.080556</td>\n",
       "      <td>-0.041667</td>\n",
       "      <td>-0.008333</td>\n",
       "      <td>-0.008333</td>\n",
       "      <td>-0.016667</td>\n",
       "      <td>-0.058333</td>\n",
       "    </tr>\n",
       "    <tr>\n",
       "      <th>20152</th>\n",
       "      <td>116.0</td>\n",
       "      <td>SSW</td>\n",
       "      <td>0.950000</td>\n",
       "      <td>0.000000</td>\n",
       "      <td>0.008333</td>\n",
       "      <td>-0.008333</td>\n",
       "      <td>-0.066667</td>\n",
       "      <td>-0.091667</td>\n",
       "      <td>-0.033333</td>\n",
       "      <td>0.000000</td>\n",
       "      <td>0.025000</td>\n",
       "      <td>0.000000</td>\n",
       "      <td>-0.066667</td>\n",
       "      <td>0.000000</td>\n",
       "      <td>0.000000</td>\n",
       "      <td>-0.033333</td>\n",
       "      <td>0.016667</td>\n",
       "    </tr>\n",
       "    <tr>\n",
       "      <th>31928</th>\n",
       "      <td>120.0</td>\n",
       "      <td>COR</td>\n",
       "      <td>0.991667</td>\n",
       "      <td>0.000000</td>\n",
       "      <td>0.000000</td>\n",
       "      <td>0.000000</td>\n",
       "      <td>-0.016667</td>\n",
       "      <td>-0.025000</td>\n",
       "      <td>0.008333</td>\n",
       "      <td>-0.066667</td>\n",
       "      <td>-0.050000</td>\n",
       "      <td>-0.066667</td>\n",
       "      <td>0.000000</td>\n",
       "      <td>0.000000</td>\n",
       "      <td>0.000000</td>\n",
       "      <td>0.000000</td>\n",
       "      <td>0.008333</td>\n",
       "    </tr>\n",
       "    <tr>\n",
       "      <th>50878</th>\n",
       "      <td>115.0</td>\n",
       "      <td>COR</td>\n",
       "      <td>0.866667</td>\n",
       "      <td>-0.033333</td>\n",
       "      <td>-0.033333</td>\n",
       "      <td>-0.066667</td>\n",
       "      <td>-0.133333</td>\n",
       "      <td>-0.041667</td>\n",
       "      <td>0.033333</td>\n",
       "      <td>0.041667</td>\n",
       "      <td>0.041667</td>\n",
       "      <td>0.041667</td>\n",
       "      <td>-0.075000</td>\n",
       "      <td>-0.016667</td>\n",
       "      <td>-0.025000</td>\n",
       "      <td>-0.075000</td>\n",
       "      <td>0.050000</td>\n",
       "    </tr>\n",
       "    <tr>\n",
       "      <th>54955</th>\n",
       "      <td>100.0</td>\n",
       "      <td>SSW</td>\n",
       "      <td>0.875000</td>\n",
       "      <td>-0.008333</td>\n",
       "      <td>0.000000</td>\n",
       "      <td>-0.008333</td>\n",
       "      <td>-0.066667</td>\n",
       "      <td>0.008333</td>\n",
       "      <td>-0.041667</td>\n",
       "      <td>-0.041667</td>\n",
       "      <td>-0.041667</td>\n",
       "      <td>-0.041667</td>\n",
       "      <td>0.000000</td>\n",
       "      <td>0.008333</td>\n",
       "      <td>-0.008333</td>\n",
       "      <td>0.008333</td>\n",
       "      <td>-0.041667</td>\n",
       "    </tr>\n",
       "  </tbody>\n",
       "</table>\n",
       "</div>"
      ],
      "text/plain": [
       "       nocall_num site     score       avg    avg_nc    voting  avg_postv12  \\\n",
       "7843        116.0  SSW  0.975000  0.000000  0.000000  0.000000     0.000000   \n",
       "11254       105.0  COR  0.900000 -0.008333 -0.008333 -0.019444    -0.108333   \n",
       "20152       116.0  SSW  0.950000  0.000000  0.008333 -0.008333    -0.066667   \n",
       "31928       120.0  COR  0.991667  0.000000  0.000000  0.000000    -0.016667   \n",
       "50878       115.0  COR  0.866667 -0.033333 -0.033333 -0.066667    -0.133333   \n",
       "54955       100.0  SSW  0.875000 -0.008333  0.000000 -0.008333    -0.066667   \n",
       "\n",
       "        cqw_avg   std_avg  distance_avg  distance_avg_nc  distance_cqw_avg  \\\n",
       "7843   0.000000 -0.008333      0.008333         0.000000          0.008333   \n",
       "11254 -0.008333 -0.033333     -0.080556        -0.086111         -0.080556   \n",
       "20152 -0.091667 -0.033333      0.000000         0.025000          0.000000   \n",
       "31928 -0.025000  0.008333     -0.066667        -0.050000         -0.066667   \n",
       "50878 -0.041667  0.033333      0.041667         0.041667          0.041667   \n",
       "54955  0.008333 -0.041667     -0.041667        -0.041667         -0.041667   \n",
       "\n",
       "       firstlabel_replace  nocall_birdcall_replace  birdcall_preds0.5_and_v5  \\\n",
       "7843             0.008333                 0.000000                  0.000000   \n",
       "11254           -0.041667                -0.008333                 -0.008333   \n",
       "20152           -0.066667                 0.000000                  0.000000   \n",
       "31928            0.000000                 0.000000                  0.000000   \n",
       "50878           -0.075000                -0.016667                 -0.025000   \n",
       "54955            0.000000                 0.008333                 -0.008333   \n",
       "\n",
       "       modified_firstlabel_replace  cqw_and_modified_firstlabel_replace  \n",
       "7843                      0.008333                             0.008333  \n",
       "11254                    -0.016667                            -0.058333  \n",
       "20152                    -0.033333                             0.016667  \n",
       "31928                     0.000000                             0.008333  \n",
       "50878                    -0.075000                             0.050000  \n",
       "54955                     0.008333                            -0.041667  "
      ]
     },
     "execution_count": 167,
     "metadata": {},
     "output_type": "execute_result"
    }
   ],
   "source": [
    "diff_df[diff_df[\"nocall_num\"] >= 100]"
   ]
  },
  {
   "cell_type": "code",
   "execution_count": 168,
   "metadata": {},
   "outputs": [
    {
     "data": {
      "text/html": [
       "<div>\n",
       "<style scoped>\n",
       "    .dataframe tbody tr th:only-of-type {\n",
       "        vertical-align: middle;\n",
       "    }\n",
       "\n",
       "    .dataframe tbody tr th {\n",
       "        vertical-align: top;\n",
       "    }\n",
       "\n",
       "    .dataframe thead th {\n",
       "        text-align: right;\n",
       "    }\n",
       "</style>\n",
       "<table border=\"1\" class=\"dataframe\">\n",
       "  <thead>\n",
       "    <tr style=\"text-align: right;\">\n",
       "      <th></th>\n",
       "      <th>nocall_num</th>\n",
       "      <th>site</th>\n",
       "      <th>score</th>\n",
       "      <th>avg</th>\n",
       "      <th>avg_nc</th>\n",
       "      <th>voting</th>\n",
       "      <th>avg_postv12</th>\n",
       "      <th>cqw_avg</th>\n",
       "      <th>std_avg</th>\n",
       "      <th>distance_avg</th>\n",
       "      <th>distance_avg_nc</th>\n",
       "      <th>distance_cqw_avg</th>\n",
       "      <th>firstlabel_replace</th>\n",
       "      <th>nocall_birdcall_replace</th>\n",
       "      <th>birdcall_preds0.5_and_v5</th>\n",
       "      <th>modified_firstlabel_replace</th>\n",
       "      <th>cqw_and_modified_firstlabel_replace</th>\n",
       "    </tr>\n",
       "  </thead>\n",
       "  <tbody>\n",
       "    <tr>\n",
       "      <th>2782</th>\n",
       "      <td>0.0</td>\n",
       "      <td>SSW</td>\n",
       "      <td>0.245000</td>\n",
       "      <td>0.071389</td>\n",
       "      <td>0.071389</td>\n",
       "      <td>0.082500</td>\n",
       "      <td>0.116389</td>\n",
       "      <td>0.160278</td>\n",
       "      <td>0.145000</td>\n",
       "      <td>0.219444</td>\n",
       "      <td>0.209444</td>\n",
       "      <td>0.219444</td>\n",
       "      <td>0.110833</td>\n",
       "      <td>0.008333</td>\n",
       "      <td>0.021389</td>\n",
       "      <td>0.092222</td>\n",
       "      <td>0.155278</td>\n",
       "    </tr>\n",
       "    <tr>\n",
       "      <th>28933</th>\n",
       "      <td>18.0</td>\n",
       "      <td>SSW</td>\n",
       "      <td>0.462500</td>\n",
       "      <td>0.004167</td>\n",
       "      <td>0.004167</td>\n",
       "      <td>0.004167</td>\n",
       "      <td>0.052778</td>\n",
       "      <td>0.053889</td>\n",
       "      <td>0.013889</td>\n",
       "      <td>0.081667</td>\n",
       "      <td>0.072222</td>\n",
       "      <td>0.081667</td>\n",
       "      <td>0.055556</td>\n",
       "      <td>0.000000</td>\n",
       "      <td>0.004167</td>\n",
       "      <td>0.023611</td>\n",
       "      <td>0.055556</td>\n",
       "    </tr>\n",
       "    <tr>\n",
       "      <th>51010</th>\n",
       "      <td>28.0</td>\n",
       "      <td>SSW</td>\n",
       "      <td>0.483333</td>\n",
       "      <td>0.019444</td>\n",
       "      <td>0.019444</td>\n",
       "      <td>0.006944</td>\n",
       "      <td>0.025000</td>\n",
       "      <td>0.005556</td>\n",
       "      <td>-0.250000</td>\n",
       "      <td>-0.250000</td>\n",
       "      <td>-0.250000</td>\n",
       "      <td>-0.250000</td>\n",
       "      <td>0.069444</td>\n",
       "      <td>0.005556</td>\n",
       "      <td>0.013889</td>\n",
       "      <td>0.061111</td>\n",
       "      <td>0.008333</td>\n",
       "    </tr>\n",
       "    <tr>\n",
       "      <th>26709</th>\n",
       "      <td>62.0</td>\n",
       "      <td>SSW</td>\n",
       "      <td>0.536111</td>\n",
       "      <td>0.000000</td>\n",
       "      <td>0.000000</td>\n",
       "      <td>0.008333</td>\n",
       "      <td>0.013889</td>\n",
       "      <td>0.000000</td>\n",
       "      <td>-0.019444</td>\n",
       "      <td>0.000000</td>\n",
       "      <td>0.025000</td>\n",
       "      <td>0.000000</td>\n",
       "      <td>0.013889</td>\n",
       "      <td>0.000000</td>\n",
       "      <td>0.000000</td>\n",
       "      <td>0.008333</td>\n",
       "      <td>0.008333</td>\n",
       "    </tr>\n",
       "    <tr>\n",
       "      <th>10534</th>\n",
       "      <td>63.0</td>\n",
       "      <td>SSW</td>\n",
       "      <td>0.669444</td>\n",
       "      <td>-0.019444</td>\n",
       "      <td>-0.019444</td>\n",
       "      <td>-0.011111</td>\n",
       "      <td>-0.186111</td>\n",
       "      <td>0.030556</td>\n",
       "      <td>0.025000</td>\n",
       "      <td>0.013889</td>\n",
       "      <td>0.025000</td>\n",
       "      <td>0.013889</td>\n",
       "      <td>-0.002778</td>\n",
       "      <td>-0.011111</td>\n",
       "      <td>-0.002778</td>\n",
       "      <td>0.016667</td>\n",
       "      <td>0.022222</td>\n",
       "    </tr>\n",
       "    <tr>\n",
       "      <th>42907</th>\n",
       "      <td>75.0</td>\n",
       "      <td>SSW</td>\n",
       "      <td>0.733333</td>\n",
       "      <td>-0.008333</td>\n",
       "      <td>-0.008333</td>\n",
       "      <td>0.025000</td>\n",
       "      <td>0.033333</td>\n",
       "      <td>0.008333</td>\n",
       "      <td>-0.108333</td>\n",
       "      <td>-0.108333</td>\n",
       "      <td>-0.108333</td>\n",
       "      <td>-0.108333</td>\n",
       "      <td>0.075000</td>\n",
       "      <td>0.008333</td>\n",
       "      <td>0.008333</td>\n",
       "      <td>0.083333</td>\n",
       "      <td>0.058333</td>\n",
       "    </tr>\n",
       "    <tr>\n",
       "      <th>54955</th>\n",
       "      <td>100.0</td>\n",
       "      <td>SSW</td>\n",
       "      <td>0.875000</td>\n",
       "      <td>-0.008333</td>\n",
       "      <td>0.000000</td>\n",
       "      <td>-0.008333</td>\n",
       "      <td>-0.066667</td>\n",
       "      <td>0.008333</td>\n",
       "      <td>-0.041667</td>\n",
       "      <td>-0.041667</td>\n",
       "      <td>-0.041667</td>\n",
       "      <td>-0.041667</td>\n",
       "      <td>0.000000</td>\n",
       "      <td>0.008333</td>\n",
       "      <td>-0.008333</td>\n",
       "      <td>0.008333</td>\n",
       "      <td>-0.041667</td>\n",
       "    </tr>\n",
       "    <tr>\n",
       "      <th>7843</th>\n",
       "      <td>116.0</td>\n",
       "      <td>SSW</td>\n",
       "      <td>0.975000</td>\n",
       "      <td>0.000000</td>\n",
       "      <td>0.000000</td>\n",
       "      <td>0.000000</td>\n",
       "      <td>0.000000</td>\n",
       "      <td>0.000000</td>\n",
       "      <td>-0.008333</td>\n",
       "      <td>0.008333</td>\n",
       "      <td>0.000000</td>\n",
       "      <td>0.008333</td>\n",
       "      <td>0.008333</td>\n",
       "      <td>0.000000</td>\n",
       "      <td>0.000000</td>\n",
       "      <td>0.008333</td>\n",
       "      <td>0.008333</td>\n",
       "    </tr>\n",
       "    <tr>\n",
       "      <th>20152</th>\n",
       "      <td>116.0</td>\n",
       "      <td>SSW</td>\n",
       "      <td>0.950000</td>\n",
       "      <td>0.000000</td>\n",
       "      <td>0.008333</td>\n",
       "      <td>-0.008333</td>\n",
       "      <td>-0.066667</td>\n",
       "      <td>-0.091667</td>\n",
       "      <td>-0.033333</td>\n",
       "      <td>0.000000</td>\n",
       "      <td>0.025000</td>\n",
       "      <td>0.000000</td>\n",
       "      <td>-0.066667</td>\n",
       "      <td>0.000000</td>\n",
       "      <td>0.000000</td>\n",
       "      <td>-0.033333</td>\n",
       "      <td>0.016667</td>\n",
       "    </tr>\n",
       "  </tbody>\n",
       "</table>\n",
       "</div>"
      ],
      "text/plain": [
       "       nocall_num site     score       avg    avg_nc    voting  avg_postv12  \\\n",
       "2782          0.0  SSW  0.245000  0.071389  0.071389  0.082500     0.116389   \n",
       "28933        18.0  SSW  0.462500  0.004167  0.004167  0.004167     0.052778   \n",
       "51010        28.0  SSW  0.483333  0.019444  0.019444  0.006944     0.025000   \n",
       "26709        62.0  SSW  0.536111  0.000000  0.000000  0.008333     0.013889   \n",
       "10534        63.0  SSW  0.669444 -0.019444 -0.019444 -0.011111    -0.186111   \n",
       "42907        75.0  SSW  0.733333 -0.008333 -0.008333  0.025000     0.033333   \n",
       "54955       100.0  SSW  0.875000 -0.008333  0.000000 -0.008333    -0.066667   \n",
       "7843        116.0  SSW  0.975000  0.000000  0.000000  0.000000     0.000000   \n",
       "20152       116.0  SSW  0.950000  0.000000  0.008333 -0.008333    -0.066667   \n",
       "\n",
       "        cqw_avg   std_avg  distance_avg  distance_avg_nc  distance_cqw_avg  \\\n",
       "2782   0.160278  0.145000      0.219444         0.209444          0.219444   \n",
       "28933  0.053889  0.013889      0.081667         0.072222          0.081667   \n",
       "51010  0.005556 -0.250000     -0.250000        -0.250000         -0.250000   \n",
       "26709  0.000000 -0.019444      0.000000         0.025000          0.000000   \n",
       "10534  0.030556  0.025000      0.013889         0.025000          0.013889   \n",
       "42907  0.008333 -0.108333     -0.108333        -0.108333         -0.108333   \n",
       "54955  0.008333 -0.041667     -0.041667        -0.041667         -0.041667   \n",
       "7843   0.000000 -0.008333      0.008333         0.000000          0.008333   \n",
       "20152 -0.091667 -0.033333      0.000000         0.025000          0.000000   \n",
       "\n",
       "       firstlabel_replace  nocall_birdcall_replace  birdcall_preds0.5_and_v5  \\\n",
       "2782             0.110833                 0.008333                  0.021389   \n",
       "28933            0.055556                 0.000000                  0.004167   \n",
       "51010            0.069444                 0.005556                  0.013889   \n",
       "26709            0.013889                 0.000000                  0.000000   \n",
       "10534           -0.002778                -0.011111                 -0.002778   \n",
       "42907            0.075000                 0.008333                  0.008333   \n",
       "54955            0.000000                 0.008333                 -0.008333   \n",
       "7843             0.008333                 0.000000                  0.000000   \n",
       "20152           -0.066667                 0.000000                  0.000000   \n",
       "\n",
       "       modified_firstlabel_replace  cqw_and_modified_firstlabel_replace  \n",
       "2782                      0.092222                             0.155278  \n",
       "28933                     0.023611                             0.055556  \n",
       "51010                     0.061111                             0.008333  \n",
       "26709                     0.008333                             0.008333  \n",
       "10534                     0.016667                             0.022222  \n",
       "42907                     0.083333                             0.058333  \n",
       "54955                     0.008333                            -0.041667  \n",
       "7843                      0.008333                             0.008333  \n",
       "20152                    -0.033333                             0.016667  "
      ]
     },
     "execution_count": 168,
     "metadata": {},
     "output_type": "execute_result"
    }
   ],
   "source": [
    "diff_df[diff_df[\"site\"] == \"SSW\"].sort_values(by=\"nocall_num\")"
   ]
  },
  {
   "cell_type": "code",
   "execution_count": 169,
   "metadata": {},
   "outputs": [
    {
     "data": {
      "text/html": [
       "<div>\n",
       "<style scoped>\n",
       "    .dataframe tbody tr th:only-of-type {\n",
       "        vertical-align: middle;\n",
       "    }\n",
       "\n",
       "    .dataframe tbody tr th {\n",
       "        vertical-align: top;\n",
       "    }\n",
       "\n",
       "    .dataframe thead th {\n",
       "        text-align: right;\n",
       "    }\n",
       "</style>\n",
       "<table border=\"1\" class=\"dataframe\">\n",
       "  <thead>\n",
       "    <tr style=\"text-align: right;\">\n",
       "      <th></th>\n",
       "      <th>nocall_num</th>\n",
       "      <th>site</th>\n",
       "      <th>score</th>\n",
       "      <th>avg</th>\n",
       "      <th>avg_nc</th>\n",
       "      <th>voting</th>\n",
       "      <th>avg_postv12</th>\n",
       "      <th>cqw_avg</th>\n",
       "      <th>std_avg</th>\n",
       "      <th>distance_avg</th>\n",
       "      <th>distance_avg_nc</th>\n",
       "      <th>distance_cqw_avg</th>\n",
       "      <th>firstlabel_replace</th>\n",
       "      <th>nocall_birdcall_replace</th>\n",
       "      <th>birdcall_preds0.5_and_v5</th>\n",
       "      <th>modified_firstlabel_replace</th>\n",
       "      <th>cqw_and_modified_firstlabel_replace</th>\n",
       "    </tr>\n",
       "  </thead>\n",
       "  <tbody>\n",
       "    <tr>\n",
       "      <th>21767</th>\n",
       "      <td>22.0</td>\n",
       "      <td>COR</td>\n",
       "      <td>0.241667</td>\n",
       "      <td>0.037500</td>\n",
       "      <td>0.037500</td>\n",
       "      <td>0.026389</td>\n",
       "      <td>0.016667</td>\n",
       "      <td>0.033333</td>\n",
       "      <td>-0.027778</td>\n",
       "      <td>0.070833</td>\n",
       "      <td>0.073611</td>\n",
       "      <td>0.070833</td>\n",
       "      <td>0.052778</td>\n",
       "      <td>0.016667</td>\n",
       "      <td>0.025000</td>\n",
       "      <td>3.333333e-02</td>\n",
       "      <td>0.075000</td>\n",
       "    </tr>\n",
       "    <tr>\n",
       "      <th>18003</th>\n",
       "      <td>24.0</td>\n",
       "      <td>COR</td>\n",
       "      <td>0.497222</td>\n",
       "      <td>0.055556</td>\n",
       "      <td>0.055556</td>\n",
       "      <td>0.038889</td>\n",
       "      <td>0.144444</td>\n",
       "      <td>0.133333</td>\n",
       "      <td>0.205556</td>\n",
       "      <td>0.163889</td>\n",
       "      <td>0.155556</td>\n",
       "      <td>0.163889</td>\n",
       "      <td>0.147222</td>\n",
       "      <td>0.016667</td>\n",
       "      <td>0.016667</td>\n",
       "      <td>1.472222e-01</td>\n",
       "      <td>0.205556</td>\n",
       "    </tr>\n",
       "    <tr>\n",
       "      <th>44957</th>\n",
       "      <td>49.0</td>\n",
       "      <td>COR</td>\n",
       "      <td>0.719444</td>\n",
       "      <td>0.008333</td>\n",
       "      <td>0.008333</td>\n",
       "      <td>-0.002778</td>\n",
       "      <td>0.000000</td>\n",
       "      <td>0.033333</td>\n",
       "      <td>0.038889</td>\n",
       "      <td>-0.011111</td>\n",
       "      <td>-0.008333</td>\n",
       "      <td>-0.011111</td>\n",
       "      <td>0.008333</td>\n",
       "      <td>0.000000</td>\n",
       "      <td>0.000000</td>\n",
       "      <td>1.110223e-16</td>\n",
       "      <td>0.063889</td>\n",
       "    </tr>\n",
       "    <tr>\n",
       "      <th>26746</th>\n",
       "      <td>71.0</td>\n",
       "      <td>COR</td>\n",
       "      <td>0.694444</td>\n",
       "      <td>0.008333</td>\n",
       "      <td>0.008333</td>\n",
       "      <td>-0.011111</td>\n",
       "      <td>-0.011111</td>\n",
       "      <td>0.000000</td>\n",
       "      <td>-0.008333</td>\n",
       "      <td>-0.002778</td>\n",
       "      <td>-0.008333</td>\n",
       "      <td>-0.002778</td>\n",
       "      <td>0.008333</td>\n",
       "      <td>0.008333</td>\n",
       "      <td>0.008333</td>\n",
       "      <td>8.333333e-03</td>\n",
       "      <td>0.008333</td>\n",
       "    </tr>\n",
       "    <tr>\n",
       "      <th>57610</th>\n",
       "      <td>93.0</td>\n",
       "      <td>COR</td>\n",
       "      <td>0.933333</td>\n",
       "      <td>-0.033333</td>\n",
       "      <td>-0.033333</td>\n",
       "      <td>-0.030556</td>\n",
       "      <td>-0.097222</td>\n",
       "      <td>-0.055556</td>\n",
       "      <td>-0.022222</td>\n",
       "      <td>-0.158333</td>\n",
       "      <td>-0.158333</td>\n",
       "      <td>-0.158333</td>\n",
       "      <td>-0.041667</td>\n",
       "      <td>0.000000</td>\n",
       "      <td>0.000000</td>\n",
       "      <td>-3.611111e-02</td>\n",
       "      <td>0.005556</td>\n",
       "    </tr>\n",
       "    <tr>\n",
       "      <th>11254</th>\n",
       "      <td>105.0</td>\n",
       "      <td>COR</td>\n",
       "      <td>0.900000</td>\n",
       "      <td>-0.008333</td>\n",
       "      <td>-0.008333</td>\n",
       "      <td>-0.019444</td>\n",
       "      <td>-0.108333</td>\n",
       "      <td>-0.008333</td>\n",
       "      <td>-0.033333</td>\n",
       "      <td>-0.080556</td>\n",
       "      <td>-0.086111</td>\n",
       "      <td>-0.080556</td>\n",
       "      <td>-0.041667</td>\n",
       "      <td>-0.008333</td>\n",
       "      <td>-0.008333</td>\n",
       "      <td>-1.666667e-02</td>\n",
       "      <td>-0.058333</td>\n",
       "    </tr>\n",
       "    <tr>\n",
       "      <th>50878</th>\n",
       "      <td>115.0</td>\n",
       "      <td>COR</td>\n",
       "      <td>0.866667</td>\n",
       "      <td>-0.033333</td>\n",
       "      <td>-0.033333</td>\n",
       "      <td>-0.066667</td>\n",
       "      <td>-0.133333</td>\n",
       "      <td>-0.041667</td>\n",
       "      <td>0.033333</td>\n",
       "      <td>0.041667</td>\n",
       "      <td>0.041667</td>\n",
       "      <td>0.041667</td>\n",
       "      <td>-0.075000</td>\n",
       "      <td>-0.016667</td>\n",
       "      <td>-0.025000</td>\n",
       "      <td>-7.500000e-02</td>\n",
       "      <td>0.050000</td>\n",
       "    </tr>\n",
       "    <tr>\n",
       "      <th>31928</th>\n",
       "      <td>120.0</td>\n",
       "      <td>COR</td>\n",
       "      <td>0.991667</td>\n",
       "      <td>0.000000</td>\n",
       "      <td>0.000000</td>\n",
       "      <td>0.000000</td>\n",
       "      <td>-0.016667</td>\n",
       "      <td>-0.025000</td>\n",
       "      <td>0.008333</td>\n",
       "      <td>-0.066667</td>\n",
       "      <td>-0.050000</td>\n",
       "      <td>-0.066667</td>\n",
       "      <td>0.000000</td>\n",
       "      <td>0.000000</td>\n",
       "      <td>0.000000</td>\n",
       "      <td>0.000000e+00</td>\n",
       "      <td>0.008333</td>\n",
       "    </tr>\n",
       "  </tbody>\n",
       "</table>\n",
       "</div>"
      ],
      "text/plain": [
       "       nocall_num site     score       avg    avg_nc    voting  avg_postv12  \\\n",
       "21767        22.0  COR  0.241667  0.037500  0.037500  0.026389     0.016667   \n",
       "18003        24.0  COR  0.497222  0.055556  0.055556  0.038889     0.144444   \n",
       "44957        49.0  COR  0.719444  0.008333  0.008333 -0.002778     0.000000   \n",
       "26746        71.0  COR  0.694444  0.008333  0.008333 -0.011111    -0.011111   \n",
       "57610        93.0  COR  0.933333 -0.033333 -0.033333 -0.030556    -0.097222   \n",
       "11254       105.0  COR  0.900000 -0.008333 -0.008333 -0.019444    -0.108333   \n",
       "50878       115.0  COR  0.866667 -0.033333 -0.033333 -0.066667    -0.133333   \n",
       "31928       120.0  COR  0.991667  0.000000  0.000000  0.000000    -0.016667   \n",
       "\n",
       "        cqw_avg   std_avg  distance_avg  distance_avg_nc  distance_cqw_avg  \\\n",
       "21767  0.033333 -0.027778      0.070833         0.073611          0.070833   \n",
       "18003  0.133333  0.205556      0.163889         0.155556          0.163889   \n",
       "44957  0.033333  0.038889     -0.011111        -0.008333         -0.011111   \n",
       "26746  0.000000 -0.008333     -0.002778        -0.008333         -0.002778   \n",
       "57610 -0.055556 -0.022222     -0.158333        -0.158333         -0.158333   \n",
       "11254 -0.008333 -0.033333     -0.080556        -0.086111         -0.080556   \n",
       "50878 -0.041667  0.033333      0.041667         0.041667          0.041667   \n",
       "31928 -0.025000  0.008333     -0.066667        -0.050000         -0.066667   \n",
       "\n",
       "       firstlabel_replace  nocall_birdcall_replace  birdcall_preds0.5_and_v5  \\\n",
       "21767            0.052778                 0.016667                  0.025000   \n",
       "18003            0.147222                 0.016667                  0.016667   \n",
       "44957            0.008333                 0.000000                  0.000000   \n",
       "26746            0.008333                 0.008333                  0.008333   \n",
       "57610           -0.041667                 0.000000                  0.000000   \n",
       "11254           -0.041667                -0.008333                 -0.008333   \n",
       "50878           -0.075000                -0.016667                 -0.025000   \n",
       "31928            0.000000                 0.000000                  0.000000   \n",
       "\n",
       "       modified_firstlabel_replace  cqw_and_modified_firstlabel_replace  \n",
       "21767                 3.333333e-02                             0.075000  \n",
       "18003                 1.472222e-01                             0.205556  \n",
       "44957                 1.110223e-16                             0.063889  \n",
       "26746                 8.333333e-03                             0.008333  \n",
       "57610                -3.611111e-02                             0.005556  \n",
       "11254                -1.666667e-02                            -0.058333  \n",
       "50878                -7.500000e-02                             0.050000  \n",
       "31928                 0.000000e+00                             0.008333  "
      ]
     },
     "execution_count": 169,
     "metadata": {},
     "output_type": "execute_result"
    }
   ],
   "source": [
    "diff_df[diff_df[\"site\"] == \"COR\"].sort_values(by=\"nocall_num\")"
   ]
  },
  {
   "cell_type": "code",
   "execution_count": null,
   "metadata": {},
   "outputs": [],
   "source": []
  },
  {
   "cell_type": "code",
   "execution_count": null,
   "metadata": {},
   "outputs": [],
   "source": []
  }
 ],
 "metadata": {
  "kernelspec": {
   "display_name": "plot",
   "language": "python",
   "name": "plot"
  },
  "language_info": {
   "codemirror_mode": {
    "name": "ipython",
    "version": 3
   },
   "file_extension": ".py",
   "mimetype": "text/x-python",
   "name": "python",
   "nbconvert_exporter": "python",
   "pygments_lexer": "ipython3",
   "version": "3.6.13"
  }
 },
 "nbformat": 4,
 "nbformat_minor": 4
}
