{
 "cells": [
  {
   "cell_type": "code",
   "execution_count": 1,
   "metadata": {},
   "outputs": [],
   "source": [
    "import sys\n",
    "from collections import Counter\n",
    "\n",
    "import numpy as np\n",
    "import pandas as pd\n",
    "from scipy import stats\n",
    "from tqdm.notebook import tqdm\n",
    "import optuna\n",
    "import joblib\n",
    "from sklearn.metrics import accuracy_score\n",
    "%matplotlib inline\n",
    "import matplotlib.pyplot as plt\n",
    "import warnings\n",
    "warnings.filterwarnings(\"ignore\")\n",
    "\n",
    "sys.path.append('../src')\n",
    "import const\n",
    "from metrics import micro_f1_similarity, row_wise_micro_averaged_f1_score\n",
    "\n",
    "pd.options.display.max_rows = 120"
   ]
  },
  {
   "cell_type": "code",
   "execution_count": 2,
   "metadata": {},
   "outputs": [],
   "source": [
    "valid_df = pd.read_csv('../data/input/train_soundscape_labels.csv')\n",
    "use_idx = valid_df[~valid_df[\"audio_id\"].isin([7019, 7954, 14473])].index\n",
    "# use_idx = valid_df[valid_df[\"audio_id\"].isin([7019, 7954, 14473, 2782, 7843, 20152, 28933, 54955])].index\n",
    "drop_idx = valid_df[valid_df[\"audio_id\"].isin([7019, 7954, 14473])].index\n",
    "valid_df = valid_df.iloc[use_idx].reset_index(drop=True)\n",
    "\n",
    "val_y_labels = valid_df[\"birds\"].tolist()\n",
    "\n",
    "all_diff_scores = {}"
   ]
  },
  {
   "cell_type": "code",
   "execution_count": 3,
   "metadata": {},
   "outputs": [],
   "source": [
    "def fill_dropped(dropped_array, drop_idx):\n",
    "    filled_array = np.zeros(\n",
    "        (len(dropped_array) + len(drop_idx), dropped_array.shape[1])\n",
    "    )\n",
    "    idx_array = np.arange(len(filled_array))\n",
    "    use_idx = np.delete(idx_array, drop_idx)\n",
    "    filled_array[use_idx, :] = dropped_array\n",
    "    return filled_array"
   ]
  },
  {
   "cell_type": "code",
   "execution_count": 4,
   "metadata": {},
   "outputs": [],
   "source": [
    "def extract_label(preds, th=0.5):\n",
    "    events = preds >= th\n",
    "    nocall_col = np.zeros((len(preds), 1)).astype(bool)\n",
    "    nocall_col[events.sum(1) == 0] = True\n",
    "    events = np.concatenate([events, nocall_col], axis=1)\n",
    "    \n",
    "    predict_labels = []\n",
    "    for i in range(len(events)):\n",
    "        event = events[i, :]\n",
    "        labels = np.argwhere(event).reshape(-1).tolist()\n",
    "        \n",
    "        row_labels = []\n",
    "        for label in labels:\n",
    "            row_labels.append(const.INV_BIRD_CODE[label])\n",
    "        predict_labels.append(\" \".join(row_labels))\n",
    "\n",
    "    return predict_labels"
   ]
  },
  {
   "cell_type": "code",
   "execution_count": 5,
   "metadata": {},
   "outputs": [],
   "source": [
    "def set_audio_base_score(pred_labels, df):\n",
    "    score_dict = {}\n",
    "    \n",
    "    gp = df.groupby(\"audio_id\")\n",
    "    for audio_id, audio_df in gp:\n",
    "        idxs = audio_df.index.values\n",
    "        score = row_wise_micro_averaged_f1_score(audio_df[\"birds\"], np.array(pred_labels)[idxs])\n",
    "        score_dict[audio_id] = score\n",
    "        \n",
    "    return score_dict\n",
    "\n",
    "def get_audio_score(pred_labels, df, score_dict):\n",
    "    diff_scores = {}\n",
    "\n",
    "    gp = df.groupby(\"audio_id\")\n",
    "    for audio_id, audio_df in gp:\n",
    "        idxs = audio_df.index.values\n",
    "        score = row_wise_micro_averaged_f1_score(audio_df[\"birds\"], np.array(pred_labels)[idxs])\n",
    "        base_score = score_dict[audio_id]\n",
    "\n",
    "        print(f\"{audio_id}: {score:.4f} [{score - base_score:.3f}]\")\n",
    "        diff_scores[audio_id] = score - base_score\n",
    "        \n",
    "    return diff_scores"
   ]
  },
  {
   "cell_type": "code",
   "execution_count": 6,
   "metadata": {},
   "outputs": [],
   "source": [
    "# oof112 = np.load(\"../logs/exp_112_20210520045116_0.638/oof.npy\")\n",
    "# oof112 = fill_dropped(oof112, drop_idx)\n",
    "# oof114 = np.load(\"../logs/exp_114_20210520192947_0.650/oof.npy\")\n",
    "# oof114 = fill_dropped(oof114, drop_idx)\n",
    "# oof115 = np.load(\"../logs/exp_115_20210520232446_0.631/oof.npy\")\n",
    "# oof115 = fill_dropped(oof115, drop_idx)\n",
    "# oof116 = np.load(\"../logs/exp_116_20210521031557_0.641/oof.npy\")\n",
    "# oof116 = fill_dropped(oof116, drop_idx)\n",
    "# oof117 = np.load(\"../logs/exp_117_20210521070917_0.640/oof.npy\")\n",
    "# oof117 = fill_dropped(oof117, drop_idx)\n",
    "# oof118 = np.load(\"../logs/exp_118_20210521110036_0.653/oof.npy\")\n",
    "# oof118 = fill_dropped(oof118, drop_idx)\n",
    "# oof121 = np.load(\"../logs/exp_121_20210521215739_0.637/oof.npy\")\n",
    "# oof121 = fill_dropped(oof121, drop_idx)\n",
    "\n",
    "# oof129 = np.load(\"../logs/exp_129_20210523145254_0.641/oof.npy\")\n",
    "# oof129 = fill_dropped(oof129, drop_idx)\n",
    "# oof131 = np.load(\"../logs/exp_131_20210524005536_0.641/oof.npy\")\n",
    "# oof131 = fill_dropped(oof131, drop_idx)\n",
    "# oof132 = np.load(\"../logs/exp_132_20210524061303_0.623/oof.npy\")\n",
    "# oof132 = fill_dropped(oof132, drop_idx)\n",
    "# oof133 = np.load(\"../logs/exp_133_20210524105841_0.630/oof.npy\")\n",
    "# oof133 = fill_dropped(oof133, drop_idx)\n",
    "# oof134 = np.load(\"../logs/exp_134_20210524160839_0.636/oof.npy\")\n",
    "# oof134 = fill_dropped(oof134, drop_idx)\n",
    "# oof135 = np.load(\"../logs/exp_135_20210524214504_0.649/oof.npy\")\n",
    "# oof135 = fill_dropped(oof135, drop_idx)\n",
    "# oof136 = np.load(\"../logs/exp_136_20210525032138_0.623/oof.npy\")\n",
    "# oof136 = fill_dropped(oof136, drop_idx)\n",
    "# oof137 = np.load(\"../logs/exp_137_20210525173848_0.631/oof.npy\")\n",
    "# oof137 = fill_dropped(oof137, drop_idx)\n",
    "# oof139 = np.load(\"../logs/exp_139_20210526031224_0.661/oof.npy\")\n",
    "# oof139 = fill_dropped(oof139, drop_idx)\n",
    "# oof140 = np.load(\"../logs/exp_140_20210525120925_0.577/oof.npy\")\n",
    "# oof140 = fill_dropped(oof140, drop_idx)\n",
    "# oof142 = np.load(\"../logs/exp_142_20210526125837_0.651/oof.npy\")\n",
    "# oof142 = fill_dropped(oof142, drop_idx)\n",
    "# oof143 = np.load(\"../logs/exp_143_20210526174719_0.642/oof.npy\")\n",
    "# oof143 = fill_dropped(oof143, drop_idx)\n",
    "# oof144 = np.load(\"../logs/exp_144_20210526221306_0.654/oof.npy\")\n",
    "# oof144 = fill_dropped(oof144, drop_idx)\n",
    "# oof145 = np.load(\"../logs/exp_145_20210527081010_0.640/oof.npy\")\n",
    "# oof145 = fill_dropped(oof145, drop_idx)\n",
    "# oof156 = np.load(\"../logs/exp_156_20210528092304_0.643/oof.npy\")\n",
    "# oof156 = fill_dropped(oof156, drop_idx)\n",
    "\n",
    "# oof144 = np.load(\"../logs/exp_144_20210526221306_0.654/oof.npy\")\n",
    "# oof144 = fill_dropped(oof144, drop_idx)\n",
    "# oof146 = np.load(\"../logs/exp_146_20210527110713_0.637/oof.npy\")\n",
    "# oof146 = fill_dropped(oof146, drop_idx)\n",
    "# oof149 = np.load(\"../logs/exp_149_20210527160401_0.633/oof.npy\")\n",
    "# oof149 = fill_dropped(oof149, drop_idx)\n",
    "# oof150 = np.load(\"../logs/exp_150_20210527195843_0.640/oof.npy\")\n",
    "# oof150 = fill_dropped(oof150, drop_idx)\n",
    "# oof151 = np.load(\"../logs/exp_151_20210527195745_0.645/oof.npy\")\n",
    "# oof151 = fill_dropped(oof151, drop_idx)\n",
    "# oof152 = np.load(\"../logs/exp_152_20210527200140_0.625/oof.npy\")\n",
    "# oof152 = fill_dropped(oof152, drop_idx)\n",
    "# oof153 = np.load(\"../logs/exp_153_20210527200336_0.643/oof.npy\")\n",
    "# oof153 = fill_dropped(oof153, drop_idx)\n",
    "# oof154 = np.load(\"../logs/exp_154_20210528013208_0.635/oof.npy\")\n",
    "# oof154 = fill_dropped(oof154, drop_idx)\n",
    "# oof155 = np.load(\"../logs/exp_155_20210528053901_0.638/oof.npy\")\n",
    "# oof155 = fill_dropped(oof155, drop_idx)\n",
    "# oof156 = np.load(\"../logs/exp_156_20210528092304_0.643/oof.npy\")\n",
    "# oof156 = fill_dropped(oof156, drop_idx)\n",
    "# oof157 = np.load(\"../logs/exp_157_20210528131517_0.645/oof.npy\")\n",
    "# oof157 = fill_dropped(oof157, drop_idx)\n",
    "# oof158 = np.load(\"../logs/exp_158_20210528172326_0.633/oof.npy\")\n",
    "# oof158 = fill_dropped(oof158, drop_idx)\n",
    "# oof159 = np.load(\"../logs/exp_159_20210528075925_0.639/oof.npy\")\n",
    "# oof159 = fill_dropped(oof159, drop_idx)\n",
    "# oof160 = np.load(\"../logs/exp_160_20210528080013_0.628/oof.npy\")\n",
    "# oof160 = fill_dropped(oof160, drop_idx)\n",
    "# oof161 = np.load(\"../logs/exp_161_20210528080055_0.638/oof.npy\")\n",
    "# oof161 = fill_dropped(oof161, drop_idx)\n",
    "\n",
    "oof163 = np.load(\"../logs/exp_163_20210529161018_0.648/oof.npy\")\n",
    "oof163 = fill_dropped(oof163, drop_idx)\n",
    "oof164 = np.load(\"../logs/exp_164_20210529204320_0.654/oof.npy\")\n",
    "oof164 = fill_dropped(oof164, drop_idx)\n",
    "oof165 = np.load(\"../logs/exp_165_20210530010704_0.654/oof.npy\")\n",
    "oof165 = fill_dropped(oof165, drop_idx)\n",
    "oof166 = np.load(\"../logs/exp_166_20210530055519_0.659/oof.npy\")\n",
    "oof166 = fill_dropped(oof166, drop_idx)\n",
    "oof167 = np.load(\"../logs/exp_167_20210529114938_0.638/oof.npy\")\n",
    "oof167 = fill_dropped(oof167, drop_idx)\n",
    "oof168 = np.load(\"../logs/exp_168_20210529115009_0.645/oof.npy\")\n",
    "oof168 = fill_dropped(oof168, drop_idx)\n",
    "oof169 = np.load(\"../logs/exp_169_20210529115052_0.658/oof.npy\")\n",
    "oof169 = fill_dropped(oof169, drop_idx)\n",
    "oof170 = np.load(\"../logs/exp_170_20210529115126_0.660/oof.npy\")\n",
    "oof170 = fill_dropped(oof170, drop_idx)\n",
    "oof171 = np.load(\"../logs/exp_171_20210530010436_0.634/oof.npy\")\n",
    "oof171 = fill_dropped(oof171, drop_idx)\n",
    "oof172 = np.load(\"../logs/exp_172_20210530010440_0.644/oof.npy\")\n",
    "oof172 = fill_dropped(oof172, drop_idx)\n",
    "oof173 = np.load(\"../logs/exp_173_20210530010446_0.637/oof.npy\")\n",
    "oof173 = fill_dropped(oof173, drop_idx)\n",
    "oof174 = np.load(\"../logs/exp_174_20210530010451_0.647/oof.npy\")\n",
    "oof174 = fill_dropped(oof174, drop_idx)\n",
    "oof175 = np.load(\"../logs/exp_175_20210530105944_0.666/oof.npy\")\n",
    "oof175 = fill_dropped(oof175, drop_idx)\n",
    "\n",
    "\n",
    "\n",
    "# nocall classification\n",
    "# oof59 = np.load(\"../logs/exp_059_20210505100513_0.666/oof.npy\")\n",
    "# oof70 = np.load(\"../logs/exp_070_20210508193023_0.882/oof.npy\")\n",
    "# oof79 = np.load(\"../logs/exp_079_20210511132329_0.874/oof.npy\")\n",
    "# oof83 = np.load(\"../logs/exp_083_20210512081958_0.827/oof.npy\")\n",
    "oof99 = np.load(\"../logs/exp_099_20210515202257_0.859/oof.npy\")"
   ]
  },
  {
   "cell_type": "code",
   "execution_count": 7,
   "metadata": {},
   "outputs": [],
   "source": [
    "# oof_list = [\n",
    "#     oof112,\n",
    "#     oof114,\n",
    "#     oof115,\n",
    "#     oof116,\n",
    "#     oof117,\n",
    "#     oof118,\n",
    "\n",
    "#     oof129,\n",
    "#     oof131,\n",
    "#     oof132,\n",
    "#     oof139,\n",
    "# ]\n",
    "\n",
    "oof_list = [\n",
    "    oof163,\n",
    "    oof164,\n",
    "    oof165,\n",
    "    oof166,\n",
    "    oof167,\n",
    "    oof168,\n",
    "    oof169,\n",
    "    oof170,\n",
    "    oof171,\n",
    "    oof172,\n",
    "    oof173,\n",
    "    oof174,\n",
    "]\n",
    "\n",
    "concat_oof = []\n",
    "for oof_ in oof_list:\n",
    "    concat_oof.append(oof_[np.newaxis, :, :])\n",
    "concat_oof = np.concatenate(concat_oof)"
   ]
  },
  {
   "cell_type": "code",
   "execution_count": null,
   "metadata": {},
   "outputs": [],
   "source": []
  },
  {
   "cell_type": "code",
   "execution_count": null,
   "metadata": {},
   "outputs": [],
   "source": []
  },
  {
   "cell_type": "markdown",
   "metadata": {},
   "source": [
    " "
   ]
  },
  {
   "cell_type": "markdown",
   "metadata": {},
   "source": [
    " "
   ]
  },
  {
   "cell_type": "markdown",
   "metadata": {},
   "source": [
    "## BaseScore"
   ]
  },
  {
   "cell_type": "code",
   "execution_count": 8,
   "metadata": {},
   "outputs": [
    {
     "data": {
      "text/plain": [
       "0.723660130718954"
      ]
     },
     "execution_count": 8,
     "metadata": {},
     "output_type": "execute_result"
    }
   ],
   "source": [
    "oof = np.mean(concat_oof, axis=0)[use_idx, :]\n",
    "base_oof_labels = extract_label(oof, th=0.27)\n",
    "score_dict = set_audio_base_score(base_oof_labels, valid_df)\n",
    "np.mean(list(score_dict.values()))"
   ]
  },
  {
   "cell_type": "markdown",
   "metadata": {},
   "source": [
    " "
   ]
  },
  {
   "cell_type": "markdown",
   "metadata": {},
   "source": [
    " "
   ]
  },
  {
   "cell_type": "markdown",
   "metadata": {},
   "source": [
    "## All nocall"
   ]
  },
  {
   "cell_type": "code",
   "execution_count": 9,
   "metadata": {},
   "outputs": [
    {
     "data": {
      "text/plain": [
       "0.5769607843137236"
      ]
     },
     "execution_count": 9,
     "metadata": {},
     "output_type": "execute_result"
    }
   ],
   "source": [
    "oof_labels = [\"nocall\"] * len(valid_df)\n",
    "score = row_wise_micro_averaged_f1_score(val_y_labels, oof_labels)\n",
    "score"
   ]
  },
  {
   "cell_type": "markdown",
   "metadata": {},
   "source": [
    " "
   ]
  },
  {
   "cell_type": "markdown",
   "metadata": {},
   "source": [
    " "
   ]
  },
  {
   "cell_type": "markdown",
   "metadata": {},
   "source": [
    "## Simple Average"
   ]
  },
  {
   "cell_type": "code",
   "execution_count": 10,
   "metadata": {},
   "outputs": [
    {
     "data": {
      "application/vnd.jupyter.widget-view+json": {
       "model_id": "9bdf5a49668b427aa41cc87aa95dddb8",
       "version_major": 2,
       "version_minor": 0
      },
      "text/plain": [
       "HBox(children=(IntProgress(value=0), HTML(value='')))"
      ]
     },
     "metadata": {},
     "output_type": "display_data"
    },
    {
     "name": "stdout",
     "output_type": "stream",
     "text": [
      "\n"
     ]
    }
   ],
   "source": [
    "oof = np.mean(concat_oof, axis=0)[use_idx, :]\n",
    "\n",
    "\n",
    "th_list = []\n",
    "scores = []\n",
    "\n",
    "best_score = 0\n",
    "besth_th = 0\n",
    "best_final_labels = None\n",
    "\n",
    "for i in tqdm(range(100)):\n",
    "    th = i / 100.0\n",
    "\n",
    "    oof_labels = extract_label(oof, th)\n",
    "    score = row_wise_micro_averaged_f1_score(val_y_labels, oof_labels)\n",
    "    \n",
    "    if best_score < score:\n",
    "        best_score  = score\n",
    "        best_th = th\n",
    "        best_final_labels = oof_labels\n",
    "\n",
    "    th_list.append(th)\n",
    "    scores.append(score)"
   ]
  },
  {
   "cell_type": "code",
   "execution_count": 11,
   "metadata": {},
   "outputs": [
    {
     "name": "stdout",
     "output_type": "stream",
     "text": [
      "best score: 0.7237 (th=0.27)\n"
     ]
    }
   ],
   "source": [
    "print(f\"best score: {best_score:.4f} (th={best_th})\")   # best score: 0.7017 (th=0.26)"
   ]
  },
  {
   "cell_type": "code",
   "execution_count": 12,
   "metadata": {},
   "outputs": [
    {
     "data": {
      "image/png": "[encoded data removed]",
      "text/plain": [
       "<Figure size 432x288 with 1 Axes>"
      ]
     },
     "metadata": {
      "needs_background": "light"
     },
     "output_type": "display_data"
    }
   ],
   "source": [
    "plt.plot(th_list, scores)\n",
    "plt.grid()"
   ]
  },
  {
   "cell_type": "code",
   "execution_count": 13,
   "metadata": {},
   "outputs": [
    {
     "name": "stdout",
     "output_type": "stream",
     "text": [
      "2782: 0.5019 [0.000]\n",
      "7843: 0.9833 [0.000]\n",
      "10534: 0.6472 [0.000]\n",
      "11254: 0.8750 [0.000]\n",
      "18003: 0.6861 [0.000]\n",
      "20152: 0.9417 [0.000]\n",
      "21767: 0.3250 [0.000]\n",
      "26709: 0.5500 [0.000]\n",
      "26746: 0.7194 [0.000]\n",
      "28933: 0.5442 [0.000]\n",
      "31928: 0.9583 [0.000]\n",
      "42907: 0.7333 [0.000]\n",
      "44957: 0.7694 [0.000]\n",
      "50878: 0.8083 [0.000]\n",
      "51010: 0.5006 [0.000]\n",
      "54955: 0.8667 [0.000]\n",
      "57610: 0.8917 [0.000]\n"
     ]
    }
   ],
   "source": [
    "best_labels1 = best_final_labels\n",
    "diff_scores0 = get_audio_score(best_final_labels, valid_df, score_dict)\n",
    "all_diff_scores[\"avg\"] = diff_scores0"
   ]
  },
  {
   "cell_type": "code",
   "execution_count": 14,
   "metadata": {
    "scrolled": true
   },
   "outputs": [
    {
     "data": {
      "text/html": [
       "<div>\n",
       "<style scoped>\n",
       "    .dataframe tbody tr th:only-of-type {\n",
       "        vertical-align: middle;\n",
       "    }\n",
       "\n",
       "    .dataframe tbody tr th {\n",
       "        vertical-align: top;\n",
       "    }\n",
       "\n",
       "    .dataframe thead th {\n",
       "        text-align: right;\n",
       "    }\n",
       "</style>\n",
       "<table border=\"1\" class=\"dataframe\">\n",
       "  <thead>\n",
       "    <tr style=\"text-align: right;\">\n",
       "      <th></th>\n",
       "      <th>row_id</th>\n",
       "      <th>site</th>\n",
       "      <th>audio_id</th>\n",
       "      <th>seconds</th>\n",
       "      <th>birds</th>\n",
       "      <th>oof_labels</th>\n",
       "    </tr>\n",
       "  </thead>\n",
       "  <tbody>\n",
       "    <tr>\n",
       "      <th>960</th>\n",
       "      <td>2782_SSW_5</td>\n",
       "      <td>SSW</td>\n",
       "      <td>2782</td>\n",
       "      <td>5</td>\n",
       "      <td>bkcchi grycat reevir1</td>\n",
       "      <td>gbwwre1 grycat</td>\n",
       "    </tr>\n",
       "    <tr>\n",
       "      <th>961</th>\n",
       "      <td>2782_SSW_10</td>\n",
       "      <td>SSW</td>\n",
       "      <td>2782</td>\n",
       "      <td>10</td>\n",
       "      <td>eawpew grycat reevir1</td>\n",
       "      <td>grycat</td>\n",
       "    </tr>\n",
       "    <tr>\n",
       "      <th>962</th>\n",
       "      <td>2782_SSW_15</td>\n",
       "      <td>SSW</td>\n",
       "      <td>2782</td>\n",
       "      <td>15</td>\n",
       "      <td>bkcchi eawpew grycat reevir1</td>\n",
       "      <td>grasal1 grycat</td>\n",
       "    </tr>\n",
       "    <tr>\n",
       "      <th>963</th>\n",
       "      <td>2782_SSW_20</td>\n",
       "      <td>SSW</td>\n",
       "      <td>2782</td>\n",
       "      <td>20</td>\n",
       "      <td>eawpew grycat reevir1</td>\n",
       "      <td>grycat</td>\n",
       "    </tr>\n",
       "    <tr>\n",
       "      <th>964</th>\n",
       "      <td>2782_SSW_25</td>\n",
       "      <td>SSW</td>\n",
       "      <td>2782</td>\n",
       "      <td>25</td>\n",
       "      <td>eawpew grycat reevir1</td>\n",
       "      <td>grycat</td>\n",
       "    </tr>\n",
       "    <tr>\n",
       "      <th>965</th>\n",
       "      <td>2782_SSW_30</td>\n",
       "      <td>SSW</td>\n",
       "      <td>2782</td>\n",
       "      <td>30</td>\n",
       "      <td>bkcchi reevir1</td>\n",
       "      <td>reevir1</td>\n",
       "    </tr>\n",
       "    <tr>\n",
       "      <th>966</th>\n",
       "      <td>2782_SSW_35</td>\n",
       "      <td>SSW</td>\n",
       "      <td>2782</td>\n",
       "      <td>35</td>\n",
       "      <td>eawpew grycat reevir1</td>\n",
       "      <td>grycat obnthr1</td>\n",
       "    </tr>\n",
       "    <tr>\n",
       "      <th>967</th>\n",
       "      <td>2782_SSW_40</td>\n",
       "      <td>SSW</td>\n",
       "      <td>2782</td>\n",
       "      <td>40</td>\n",
       "      <td>bkcchi eawpew grycat reevir1</td>\n",
       "      <td>grycat</td>\n",
       "    </tr>\n",
       "    <tr>\n",
       "      <th>968</th>\n",
       "      <td>2782_SSW_45</td>\n",
       "      <td>SSW</td>\n",
       "      <td>2782</td>\n",
       "      <td>45</td>\n",
       "      <td>eawpew reevir1</td>\n",
       "      <td>eawpew reevir1</td>\n",
       "    </tr>\n",
       "    <tr>\n",
       "      <th>969</th>\n",
       "      <td>2782_SSW_50</td>\n",
       "      <td>SSW</td>\n",
       "      <td>2782</td>\n",
       "      <td>50</td>\n",
       "      <td>bkcchi eawpew reevir1</td>\n",
       "      <td>eawpew reevir1</td>\n",
       "    </tr>\n",
       "    <tr>\n",
       "      <th>970</th>\n",
       "      <td>2782_SSW_55</td>\n",
       "      <td>SSW</td>\n",
       "      <td>2782</td>\n",
       "      <td>55</td>\n",
       "      <td>bkcchi eawpew reevir1</td>\n",
       "      <td>eawpew reevir1</td>\n",
       "    </tr>\n",
       "    <tr>\n",
       "      <th>971</th>\n",
       "      <td>2782_SSW_60</td>\n",
       "      <td>SSW</td>\n",
       "      <td>2782</td>\n",
       "      <td>60</td>\n",
       "      <td>bkcchi eawpew reevir1</td>\n",
       "      <td>reevir1</td>\n",
       "    </tr>\n",
       "    <tr>\n",
       "      <th>972</th>\n",
       "      <td>2782_SSW_65</td>\n",
       "      <td>SSW</td>\n",
       "      <td>2782</td>\n",
       "      <td>65</td>\n",
       "      <td>bkcchi eawpew reevir1</td>\n",
       "      <td>reevir1</td>\n",
       "    </tr>\n",
       "    <tr>\n",
       "      <th>973</th>\n",
       "      <td>2782_SSW_70</td>\n",
       "      <td>SSW</td>\n",
       "      <td>2782</td>\n",
       "      <td>70</td>\n",
       "      <td>eawpew reevir1</td>\n",
       "      <td>eawpew reevir1</td>\n",
       "    </tr>\n",
       "    <tr>\n",
       "      <th>974</th>\n",
       "      <td>2782_SSW_75</td>\n",
       "      <td>SSW</td>\n",
       "      <td>2782</td>\n",
       "      <td>75</td>\n",
       "      <td>bkcchi eawpew grycat reevir1</td>\n",
       "      <td>grycat</td>\n",
       "    </tr>\n",
       "    <tr>\n",
       "      <th>975</th>\n",
       "      <td>2782_SSW_80</td>\n",
       "      <td>SSW</td>\n",
       "      <td>2782</td>\n",
       "      <td>80</td>\n",
       "      <td>eawpew grycat reevir1</td>\n",
       "      <td>grycat</td>\n",
       "    </tr>\n",
       "    <tr>\n",
       "      <th>976</th>\n",
       "      <td>2782_SSW_85</td>\n",
       "      <td>SSW</td>\n",
       "      <td>2782</td>\n",
       "      <td>85</td>\n",
       "      <td>grycat reevir1</td>\n",
       "      <td>grycat</td>\n",
       "    </tr>\n",
       "    <tr>\n",
       "      <th>977</th>\n",
       "      <td>2782_SSW_90</td>\n",
       "      <td>SSW</td>\n",
       "      <td>2782</td>\n",
       "      <td>90</td>\n",
       "      <td>eawpew grycat reevir1</td>\n",
       "      <td>acafly leafly</td>\n",
       "    </tr>\n",
       "    <tr>\n",
       "      <th>978</th>\n",
       "      <td>2782_SSW_95</td>\n",
       "      <td>SSW</td>\n",
       "      <td>2782</td>\n",
       "      <td>95</td>\n",
       "      <td>eawpew grycat reevir1</td>\n",
       "      <td>reevir1</td>\n",
       "    </tr>\n",
       "    <tr>\n",
       "      <th>979</th>\n",
       "      <td>2782_SSW_100</td>\n",
       "      <td>SSW</td>\n",
       "      <td>2782</td>\n",
       "      <td>100</td>\n",
       "      <td>bkcchi reevir1</td>\n",
       "      <td>ovenbi1 reevir1</td>\n",
       "    </tr>\n",
       "    <tr>\n",
       "      <th>980</th>\n",
       "      <td>2782_SSW_105</td>\n",
       "      <td>SSW</td>\n",
       "      <td>2782</td>\n",
       "      <td>105</td>\n",
       "      <td>eawpew reevir1</td>\n",
       "      <td>eawpew reevir1</td>\n",
       "    </tr>\n",
       "    <tr>\n",
       "      <th>981</th>\n",
       "      <td>2782_SSW_110</td>\n",
       "      <td>SSW</td>\n",
       "      <td>2782</td>\n",
       "      <td>110</td>\n",
       "      <td>bkcchi eawpew reevir1</td>\n",
       "      <td>eawpew herthr reevir1</td>\n",
       "    </tr>\n",
       "    <tr>\n",
       "      <th>982</th>\n",
       "      <td>2782_SSW_115</td>\n",
       "      <td>SSW</td>\n",
       "      <td>2782</td>\n",
       "      <td>115</td>\n",
       "      <td>eawpew reevir1</td>\n",
       "      <td>eawpew reevir1</td>\n",
       "    </tr>\n",
       "    <tr>\n",
       "      <th>983</th>\n",
       "      <td>2782_SSW_120</td>\n",
       "      <td>SSW</td>\n",
       "      <td>2782</td>\n",
       "      <td>120</td>\n",
       "      <td>reevir1</td>\n",
       "      <td>gbwwre1 grycat reevir1</td>\n",
       "    </tr>\n",
       "    <tr>\n",
       "      <th>984</th>\n",
       "      <td>2782_SSW_125</td>\n",
       "      <td>SSW</td>\n",
       "      <td>2782</td>\n",
       "      <td>125</td>\n",
       "      <td>bkcchi eawpew reevir1</td>\n",
       "      <td>reevir1</td>\n",
       "    </tr>\n",
       "    <tr>\n",
       "      <th>985</th>\n",
       "      <td>2782_SSW_130</td>\n",
       "      <td>SSW</td>\n",
       "      <td>2782</td>\n",
       "      <td>130</td>\n",
       "      <td>grycat reevir1</td>\n",
       "      <td>grycat obnthr1</td>\n",
       "    </tr>\n",
       "    <tr>\n",
       "      <th>986</th>\n",
       "      <td>2782_SSW_135</td>\n",
       "      <td>SSW</td>\n",
       "      <td>2782</td>\n",
       "      <td>135</td>\n",
       "      <td>eawpew grycat reevir1</td>\n",
       "      <td>reevir1</td>\n",
       "    </tr>\n",
       "    <tr>\n",
       "      <th>987</th>\n",
       "      <td>2782_SSW_140</td>\n",
       "      <td>SSW</td>\n",
       "      <td>2782</td>\n",
       "      <td>140</td>\n",
       "      <td>eawpew grycat reevir1</td>\n",
       "      <td>eawpew</td>\n",
       "    </tr>\n",
       "    <tr>\n",
       "      <th>988</th>\n",
       "      <td>2782_SSW_145</td>\n",
       "      <td>SSW</td>\n",
       "      <td>2782</td>\n",
       "      <td>145</td>\n",
       "      <td>eawpew reevir1</td>\n",
       "      <td>eawpew reevir1</td>\n",
       "    </tr>\n",
       "    <tr>\n",
       "      <th>989</th>\n",
       "      <td>2782_SSW_150</td>\n",
       "      <td>SSW</td>\n",
       "      <td>2782</td>\n",
       "      <td>150</td>\n",
       "      <td>reevir1</td>\n",
       "      <td>eawpew reevir1</td>\n",
       "    </tr>\n",
       "    <tr>\n",
       "      <th>990</th>\n",
       "      <td>2782_SSW_155</td>\n",
       "      <td>SSW</td>\n",
       "      <td>2782</td>\n",
       "      <td>155</td>\n",
       "      <td>eawpew reevir1</td>\n",
       "      <td>eawpew reevir1</td>\n",
       "    </tr>\n",
       "    <tr>\n",
       "      <th>991</th>\n",
       "      <td>2782_SSW_160</td>\n",
       "      <td>SSW</td>\n",
       "      <td>2782</td>\n",
       "      <td>160</td>\n",
       "      <td>eawpew reevir1</td>\n",
       "      <td>eawpew reevir1</td>\n",
       "    </tr>\n",
       "    <tr>\n",
       "      <th>992</th>\n",
       "      <td>2782_SSW_165</td>\n",
       "      <td>SSW</td>\n",
       "      <td>2782</td>\n",
       "      <td>165</td>\n",
       "      <td>reevir1</td>\n",
       "      <td>eawpew reevir1</td>\n",
       "    </tr>\n",
       "    <tr>\n",
       "      <th>993</th>\n",
       "      <td>2782_SSW_170</td>\n",
       "      <td>SSW</td>\n",
       "      <td>2782</td>\n",
       "      <td>170</td>\n",
       "      <td>eawpew reevir1</td>\n",
       "      <td>eawpew reevir1</td>\n",
       "    </tr>\n",
       "    <tr>\n",
       "      <th>994</th>\n",
       "      <td>2782_SSW_175</td>\n",
       "      <td>SSW</td>\n",
       "      <td>2782</td>\n",
       "      <td>175</td>\n",
       "      <td>eawpew reevir1</td>\n",
       "      <td>reevir1</td>\n",
       "    </tr>\n",
       "    <tr>\n",
       "      <th>995</th>\n",
       "      <td>2782_SSW_180</td>\n",
       "      <td>SSW</td>\n",
       "      <td>2782</td>\n",
       "      <td>180</td>\n",
       "      <td>reevir1</td>\n",
       "      <td>eawpew reevir1</td>\n",
       "    </tr>\n",
       "    <tr>\n",
       "      <th>996</th>\n",
       "      <td>2782_SSW_185</td>\n",
       "      <td>SSW</td>\n",
       "      <td>2782</td>\n",
       "      <td>185</td>\n",
       "      <td>eawpew grycat reevir1</td>\n",
       "      <td>buhvir reevir1</td>\n",
       "    </tr>\n",
       "    <tr>\n",
       "      <th>997</th>\n",
       "      <td>2782_SSW_190</td>\n",
       "      <td>SSW</td>\n",
       "      <td>2782</td>\n",
       "      <td>190</td>\n",
       "      <td>eawpew grycat reevir1</td>\n",
       "      <td>eawpew reevir1</td>\n",
       "    </tr>\n",
       "    <tr>\n",
       "      <th>998</th>\n",
       "      <td>2782_SSW_195</td>\n",
       "      <td>SSW</td>\n",
       "      <td>2782</td>\n",
       "      <td>195</td>\n",
       "      <td>grycat reevir1</td>\n",
       "      <td>grycat</td>\n",
       "    </tr>\n",
       "    <tr>\n",
       "      <th>999</th>\n",
       "      <td>2782_SSW_200</td>\n",
       "      <td>SSW</td>\n",
       "      <td>2782</td>\n",
       "      <td>200</td>\n",
       "      <td>eawpew grycat reevir1</td>\n",
       "      <td>eawpew grycat reevir1</td>\n",
       "    </tr>\n",
       "    <tr>\n",
       "      <th>1000</th>\n",
       "      <td>2782_SSW_205</td>\n",
       "      <td>SSW</td>\n",
       "      <td>2782</td>\n",
       "      <td>205</td>\n",
       "      <td>grycat reevir1</td>\n",
       "      <td>grycat obnthr1</td>\n",
       "    </tr>\n",
       "    <tr>\n",
       "      <th>1001</th>\n",
       "      <td>2782_SSW_210</td>\n",
       "      <td>SSW</td>\n",
       "      <td>2782</td>\n",
       "      <td>210</td>\n",
       "      <td>eawpew grycat reevir1</td>\n",
       "      <td>grycat</td>\n",
       "    </tr>\n",
       "    <tr>\n",
       "      <th>1002</th>\n",
       "      <td>2782_SSW_215</td>\n",
       "      <td>SSW</td>\n",
       "      <td>2782</td>\n",
       "      <td>215</td>\n",
       "      <td>grycat reevir1</td>\n",
       "      <td>grycat</td>\n",
       "    </tr>\n",
       "    <tr>\n",
       "      <th>1003</th>\n",
       "      <td>2782_SSW_220</td>\n",
       "      <td>SSW</td>\n",
       "      <td>2782</td>\n",
       "      <td>220</td>\n",
       "      <td>eawpew grycat reevir1</td>\n",
       "      <td>eawpew reevir1</td>\n",
       "    </tr>\n",
       "    <tr>\n",
       "      <th>1004</th>\n",
       "      <td>2782_SSW_225</td>\n",
       "      <td>SSW</td>\n",
       "      <td>2782</td>\n",
       "      <td>225</td>\n",
       "      <td>eawpew grycat reevir1</td>\n",
       "      <td>eawpew grycat reevir1</td>\n",
       "    </tr>\n",
       "    <tr>\n",
       "      <th>1005</th>\n",
       "      <td>2782_SSW_230</td>\n",
       "      <td>SSW</td>\n",
       "      <td>2782</td>\n",
       "      <td>230</td>\n",
       "      <td>chswar eawpew grycat reevir1</td>\n",
       "      <td>acafly reevir1</td>\n",
       "    </tr>\n",
       "    <tr>\n",
       "      <th>1006</th>\n",
       "      <td>2782_SSW_235</td>\n",
       "      <td>SSW</td>\n",
       "      <td>2782</td>\n",
       "      <td>235</td>\n",
       "      <td>grycat reevir1</td>\n",
       "      <td>grycat</td>\n",
       "    </tr>\n",
       "    <tr>\n",
       "      <th>1007</th>\n",
       "      <td>2782_SSW_240</td>\n",
       "      <td>SSW</td>\n",
       "      <td>2782</td>\n",
       "      <td>240</td>\n",
       "      <td>chswar eawpew reevir1</td>\n",
       "      <td>chswar eawpew reevir1</td>\n",
       "    </tr>\n",
       "    <tr>\n",
       "      <th>1008</th>\n",
       "      <td>2782_SSW_245</td>\n",
       "      <td>SSW</td>\n",
       "      <td>2782</td>\n",
       "      <td>245</td>\n",
       "      <td>grycat reevir1</td>\n",
       "      <td>grycat</td>\n",
       "    </tr>\n",
       "    <tr>\n",
       "      <th>1009</th>\n",
       "      <td>2782_SSW_250</td>\n",
       "      <td>SSW</td>\n",
       "      <td>2782</td>\n",
       "      <td>250</td>\n",
       "      <td>eawpew grycat reevir1</td>\n",
       "      <td>eawpew grycat</td>\n",
       "    </tr>\n",
       "    <tr>\n",
       "      <th>1010</th>\n",
       "      <td>2782_SSW_255</td>\n",
       "      <td>SSW</td>\n",
       "      <td>2782</td>\n",
       "      <td>255</td>\n",
       "      <td>grycat reevir1</td>\n",
       "      <td>grycat obnthr1</td>\n",
       "    </tr>\n",
       "    <tr>\n",
       "      <th>1011</th>\n",
       "      <td>2782_SSW_260</td>\n",
       "      <td>SSW</td>\n",
       "      <td>2782</td>\n",
       "      <td>260</td>\n",
       "      <td>grycat reevir1</td>\n",
       "      <td>reevir1</td>\n",
       "    </tr>\n",
       "    <tr>\n",
       "      <th>1012</th>\n",
       "      <td>2782_SSW_265</td>\n",
       "      <td>SSW</td>\n",
       "      <td>2782</td>\n",
       "      <td>265</td>\n",
       "      <td>eawpew reevir1</td>\n",
       "      <td>eawpew reevir1</td>\n",
       "    </tr>\n",
       "    <tr>\n",
       "      <th>1013</th>\n",
       "      <td>2782_SSW_270</td>\n",
       "      <td>SSW</td>\n",
       "      <td>2782</td>\n",
       "      <td>270</td>\n",
       "      <td>eawpew reevir1</td>\n",
       "      <td>eawpew reevir1</td>\n",
       "    </tr>\n",
       "    <tr>\n",
       "      <th>1014</th>\n",
       "      <td>2782_SSW_275</td>\n",
       "      <td>SSW</td>\n",
       "      <td>2782</td>\n",
       "      <td>275</td>\n",
       "      <td>bkcchi grycat reevir1</td>\n",
       "      <td>reevir1</td>\n",
       "    </tr>\n",
       "    <tr>\n",
       "      <th>1015</th>\n",
       "      <td>2782_SSW_280</td>\n",
       "      <td>SSW</td>\n",
       "      <td>2782</td>\n",
       "      <td>280</td>\n",
       "      <td>eawpew reevir1</td>\n",
       "      <td>eawpew reevir1</td>\n",
       "    </tr>\n",
       "    <tr>\n",
       "      <th>1016</th>\n",
       "      <td>2782_SSW_285</td>\n",
       "      <td>SSW</td>\n",
       "      <td>2782</td>\n",
       "      <td>285</td>\n",
       "      <td>reevir1</td>\n",
       "      <td>eawpew ovenbi1 reevir1</td>\n",
       "    </tr>\n",
       "    <tr>\n",
       "      <th>1017</th>\n",
       "      <td>2782_SSW_290</td>\n",
       "      <td>SSW</td>\n",
       "      <td>2782</td>\n",
       "      <td>290</td>\n",
       "      <td>eawpew reevir1</td>\n",
       "      <td>eawpew reevir1</td>\n",
       "    </tr>\n",
       "    <tr>\n",
       "      <th>1018</th>\n",
       "      <td>2782_SSW_295</td>\n",
       "      <td>SSW</td>\n",
       "      <td>2782</td>\n",
       "      <td>295</td>\n",
       "      <td>reevir1</td>\n",
       "      <td>reevir1</td>\n",
       "    </tr>\n",
       "    <tr>\n",
       "      <th>1019</th>\n",
       "      <td>2782_SSW_300</td>\n",
       "      <td>SSW</td>\n",
       "      <td>2782</td>\n",
       "      <td>300</td>\n",
       "      <td>eawpew reevir1</td>\n",
       "      <td>eawpew</td>\n",
       "    </tr>\n",
       "    <tr>\n",
       "      <th>1020</th>\n",
       "      <td>2782_SSW_305</td>\n",
       "      <td>SSW</td>\n",
       "      <td>2782</td>\n",
       "      <td>305</td>\n",
       "      <td>eawpew reevir1</td>\n",
       "      <td>eawpew</td>\n",
       "    </tr>\n",
       "    <tr>\n",
       "      <th>1021</th>\n",
       "      <td>2782_SSW_310</td>\n",
       "      <td>SSW</td>\n",
       "      <td>2782</td>\n",
       "      <td>310</td>\n",
       "      <td>bkcchi reevir1</td>\n",
       "      <td>reevir1</td>\n",
       "    </tr>\n",
       "    <tr>\n",
       "      <th>1022</th>\n",
       "      <td>2782_SSW_315</td>\n",
       "      <td>SSW</td>\n",
       "      <td>2782</td>\n",
       "      <td>315</td>\n",
       "      <td>eawpew reevir1</td>\n",
       "      <td>eawpew reevir1</td>\n",
       "    </tr>\n",
       "    <tr>\n",
       "      <th>1023</th>\n",
       "      <td>2782_SSW_320</td>\n",
       "      <td>SSW</td>\n",
       "      <td>2782</td>\n",
       "      <td>320</td>\n",
       "      <td>reevir1</td>\n",
       "      <td>eawpew reevir1</td>\n",
       "    </tr>\n",
       "    <tr>\n",
       "      <th>1024</th>\n",
       "      <td>2782_SSW_325</td>\n",
       "      <td>SSW</td>\n",
       "      <td>2782</td>\n",
       "      <td>325</td>\n",
       "      <td>eawpew reevir1</td>\n",
       "      <td>eawpew reevir1</td>\n",
       "    </tr>\n",
       "    <tr>\n",
       "      <th>1025</th>\n",
       "      <td>2782_SSW_330</td>\n",
       "      <td>SSW</td>\n",
       "      <td>2782</td>\n",
       "      <td>330</td>\n",
       "      <td>reevir1</td>\n",
       "      <td>reevir1</td>\n",
       "    </tr>\n",
       "    <tr>\n",
       "      <th>1026</th>\n",
       "      <td>2782_SSW_335</td>\n",
       "      <td>SSW</td>\n",
       "      <td>2782</td>\n",
       "      <td>335</td>\n",
       "      <td>eawpew reevir1</td>\n",
       "      <td>eawpew reevir1</td>\n",
       "    </tr>\n",
       "    <tr>\n",
       "      <th>1027</th>\n",
       "      <td>2782_SSW_340</td>\n",
       "      <td>SSW</td>\n",
       "      <td>2782</td>\n",
       "      <td>340</td>\n",
       "      <td>reevir1</td>\n",
       "      <td>reevir1 scatan</td>\n",
       "    </tr>\n",
       "    <tr>\n",
       "      <th>1028</th>\n",
       "      <td>2782_SSW_345</td>\n",
       "      <td>SSW</td>\n",
       "      <td>2782</td>\n",
       "      <td>345</td>\n",
       "      <td>eawpew reevir1</td>\n",
       "      <td>eawpew reevir1</td>\n",
       "    </tr>\n",
       "    <tr>\n",
       "      <th>1029</th>\n",
       "      <td>2782_SSW_350</td>\n",
       "      <td>SSW</td>\n",
       "      <td>2782</td>\n",
       "      <td>350</td>\n",
       "      <td>reevir1</td>\n",
       "      <td>reevir1</td>\n",
       "    </tr>\n",
       "    <tr>\n",
       "      <th>1030</th>\n",
       "      <td>2782_SSW_355</td>\n",
       "      <td>SSW</td>\n",
       "      <td>2782</td>\n",
       "      <td>355</td>\n",
       "      <td>eawpew reevir1</td>\n",
       "      <td>eawpew reevir1</td>\n",
       "    </tr>\n",
       "    <tr>\n",
       "      <th>1031</th>\n",
       "      <td>2782_SSW_360</td>\n",
       "      <td>SSW</td>\n",
       "      <td>2782</td>\n",
       "      <td>360</td>\n",
       "      <td>reevir1</td>\n",
       "      <td>reevir1</td>\n",
       "    </tr>\n",
       "    <tr>\n",
       "      <th>1032</th>\n",
       "      <td>2782_SSW_365</td>\n",
       "      <td>SSW</td>\n",
       "      <td>2782</td>\n",
       "      <td>365</td>\n",
       "      <td>eawpew reevir1</td>\n",
       "      <td>eawpew reevir1</td>\n",
       "    </tr>\n",
       "    <tr>\n",
       "      <th>1033</th>\n",
       "      <td>2782_SSW_370</td>\n",
       "      <td>SSW</td>\n",
       "      <td>2782</td>\n",
       "      <td>370</td>\n",
       "      <td>reevir1</td>\n",
       "      <td>nocall</td>\n",
       "    </tr>\n",
       "    <tr>\n",
       "      <th>1034</th>\n",
       "      <td>2782_SSW_375</td>\n",
       "      <td>SSW</td>\n",
       "      <td>2782</td>\n",
       "      <td>375</td>\n",
       "      <td>reevir1</td>\n",
       "      <td>reevir1</td>\n",
       "    </tr>\n",
       "    <tr>\n",
       "      <th>1035</th>\n",
       "      <td>2782_SSW_380</td>\n",
       "      <td>SSW</td>\n",
       "      <td>2782</td>\n",
       "      <td>380</td>\n",
       "      <td>reevir1</td>\n",
       "      <td>reevir1</td>\n",
       "    </tr>\n",
       "    <tr>\n",
       "      <th>1036</th>\n",
       "      <td>2782_SSW_385</td>\n",
       "      <td>SSW</td>\n",
       "      <td>2782</td>\n",
       "      <td>385</td>\n",
       "      <td>eawpew reevir1</td>\n",
       "      <td>eawpew reevir1</td>\n",
       "    </tr>\n",
       "    <tr>\n",
       "      <th>1037</th>\n",
       "      <td>2782_SSW_390</td>\n",
       "      <td>SSW</td>\n",
       "      <td>2782</td>\n",
       "      <td>390</td>\n",
       "      <td>bkcchi reevir1</td>\n",
       "      <td>reevir1</td>\n",
       "    </tr>\n",
       "    <tr>\n",
       "      <th>1038</th>\n",
       "      <td>2782_SSW_395</td>\n",
       "      <td>SSW</td>\n",
       "      <td>2782</td>\n",
       "      <td>395</td>\n",
       "      <td>eawpew reevir1</td>\n",
       "      <td>reevir1</td>\n",
       "    </tr>\n",
       "    <tr>\n",
       "      <th>1039</th>\n",
       "      <td>2782_SSW_400</td>\n",
       "      <td>SSW</td>\n",
       "      <td>2782</td>\n",
       "      <td>400</td>\n",
       "      <td>reevir1</td>\n",
       "      <td>eawpew ovenbi1 reevir1</td>\n",
       "    </tr>\n",
       "    <tr>\n",
       "      <th>1040</th>\n",
       "      <td>2782_SSW_405</td>\n",
       "      <td>SSW</td>\n",
       "      <td>2782</td>\n",
       "      <td>405</td>\n",
       "      <td>eawpew reevir1</td>\n",
       "      <td>ovenbi1 reevir1</td>\n",
       "    </tr>\n",
       "    <tr>\n",
       "      <th>1041</th>\n",
       "      <td>2782_SSW_410</td>\n",
       "      <td>SSW</td>\n",
       "      <td>2782</td>\n",
       "      <td>410</td>\n",
       "      <td>reevir1</td>\n",
       "      <td>reevir1</td>\n",
       "    </tr>\n",
       "    <tr>\n",
       "      <th>1042</th>\n",
       "      <td>2782_SSW_415</td>\n",
       "      <td>SSW</td>\n",
       "      <td>2782</td>\n",
       "      <td>415</td>\n",
       "      <td>eawpew reevir1</td>\n",
       "      <td>eawpew reevir1</td>\n",
       "    </tr>\n",
       "    <tr>\n",
       "      <th>1043</th>\n",
       "      <td>2782_SSW_420</td>\n",
       "      <td>SSW</td>\n",
       "      <td>2782</td>\n",
       "      <td>420</td>\n",
       "      <td>reevir1</td>\n",
       "      <td>eawpew ovenbi1 reevir1</td>\n",
       "    </tr>\n",
       "    <tr>\n",
       "      <th>1044</th>\n",
       "      <td>2782_SSW_425</td>\n",
       "      <td>SSW</td>\n",
       "      <td>2782</td>\n",
       "      <td>425</td>\n",
       "      <td>reevir1</td>\n",
       "      <td>reevir1</td>\n",
       "    </tr>\n",
       "    <tr>\n",
       "      <th>1045</th>\n",
       "      <td>2782_SSW_430</td>\n",
       "      <td>SSW</td>\n",
       "      <td>2782</td>\n",
       "      <td>430</td>\n",
       "      <td>eawpew reevir1</td>\n",
       "      <td>eawpew reevir1</td>\n",
       "    </tr>\n",
       "    <tr>\n",
       "      <th>1046</th>\n",
       "      <td>2782_SSW_435</td>\n",
       "      <td>SSW</td>\n",
       "      <td>2782</td>\n",
       "      <td>435</td>\n",
       "      <td>reevir1</td>\n",
       "      <td>eawpew reevir1</td>\n",
       "    </tr>\n",
       "    <tr>\n",
       "      <th>1047</th>\n",
       "      <td>2782_SSW_440</td>\n",
       "      <td>SSW</td>\n",
       "      <td>2782</td>\n",
       "      <td>440</td>\n",
       "      <td>eawpew reevir1</td>\n",
       "      <td>nocall</td>\n",
       "    </tr>\n",
       "    <tr>\n",
       "      <th>1048</th>\n",
       "      <td>2782_SSW_445</td>\n",
       "      <td>SSW</td>\n",
       "      <td>2782</td>\n",
       "      <td>445</td>\n",
       "      <td>bkcchi eawpew reevir1</td>\n",
       "      <td>bkcchi</td>\n",
       "    </tr>\n",
       "    <tr>\n",
       "      <th>1049</th>\n",
       "      <td>2782_SSW_450</td>\n",
       "      <td>SSW</td>\n",
       "      <td>2782</td>\n",
       "      <td>450</td>\n",
       "      <td>eawpew reevir1</td>\n",
       "      <td>eawpew reevir1</td>\n",
       "    </tr>\n",
       "    <tr>\n",
       "      <th>1050</th>\n",
       "      <td>2782_SSW_455</td>\n",
       "      <td>SSW</td>\n",
       "      <td>2782</td>\n",
       "      <td>455</td>\n",
       "      <td>eawpew reevir1</td>\n",
       "      <td>ovenbi1 reevir1</td>\n",
       "    </tr>\n",
       "    <tr>\n",
       "      <th>1051</th>\n",
       "      <td>2782_SSW_460</td>\n",
       "      <td>SSW</td>\n",
       "      <td>2782</td>\n",
       "      <td>460</td>\n",
       "      <td>bkcchi reevir1</td>\n",
       "      <td>cedwax reevir1</td>\n",
       "    </tr>\n",
       "    <tr>\n",
       "      <th>1052</th>\n",
       "      <td>2782_SSW_465</td>\n",
       "      <td>SSW</td>\n",
       "      <td>2782</td>\n",
       "      <td>465</td>\n",
       "      <td>eawpew reevir1</td>\n",
       "      <td>reevir1</td>\n",
       "    </tr>\n",
       "    <tr>\n",
       "      <th>1053</th>\n",
       "      <td>2782_SSW_470</td>\n",
       "      <td>SSW</td>\n",
       "      <td>2782</td>\n",
       "      <td>470</td>\n",
       "      <td>bkcchi eawpew reevir1</td>\n",
       "      <td>acafly eawpew reevir1</td>\n",
       "    </tr>\n",
       "    <tr>\n",
       "      <th>1054</th>\n",
       "      <td>2782_SSW_475</td>\n",
       "      <td>SSW</td>\n",
       "      <td>2782</td>\n",
       "      <td>475</td>\n",
       "      <td>bkcchi reevir1</td>\n",
       "      <td>reevir1</td>\n",
       "    </tr>\n",
       "    <tr>\n",
       "      <th>1055</th>\n",
       "      <td>2782_SSW_480</td>\n",
       "      <td>SSW</td>\n",
       "      <td>2782</td>\n",
       "      <td>480</td>\n",
       "      <td>bkcchi eawpew reevir1</td>\n",
       "      <td>eawpew</td>\n",
       "    </tr>\n",
       "    <tr>\n",
       "      <th>1056</th>\n",
       "      <td>2782_SSW_485</td>\n",
       "      <td>SSW</td>\n",
       "      <td>2782</td>\n",
       "      <td>485</td>\n",
       "      <td>bkcchi eawpew reevir1</td>\n",
       "      <td>reevir1</td>\n",
       "    </tr>\n",
       "    <tr>\n",
       "      <th>1057</th>\n",
       "      <td>2782_SSW_490</td>\n",
       "      <td>SSW</td>\n",
       "      <td>2782</td>\n",
       "      <td>490</td>\n",
       "      <td>bkcchi eawpew reevir1</td>\n",
       "      <td>reevir1</td>\n",
       "    </tr>\n",
       "    <tr>\n",
       "      <th>1058</th>\n",
       "      <td>2782_SSW_495</td>\n",
       "      <td>SSW</td>\n",
       "      <td>2782</td>\n",
       "      <td>495</td>\n",
       "      <td>bkcchi eawpew reevir1</td>\n",
       "      <td>eawpew reevir1</td>\n",
       "    </tr>\n",
       "    <tr>\n",
       "      <th>1059</th>\n",
       "      <td>2782_SSW_500</td>\n",
       "      <td>SSW</td>\n",
       "      <td>2782</td>\n",
       "      <td>500</td>\n",
       "      <td>bkcchi eawpew reevir1</td>\n",
       "      <td>eawpew reevir1</td>\n",
       "    </tr>\n",
       "    <tr>\n",
       "      <th>1060</th>\n",
       "      <td>2782_SSW_505</td>\n",
       "      <td>SSW</td>\n",
       "      <td>2782</td>\n",
       "      <td>505</td>\n",
       "      <td>bkcchi eawpew reevir1</td>\n",
       "      <td>eawpew reevir1</td>\n",
       "    </tr>\n",
       "    <tr>\n",
       "      <th>1061</th>\n",
       "      <td>2782_SSW_510</td>\n",
       "      <td>SSW</td>\n",
       "      <td>2782</td>\n",
       "      <td>510</td>\n",
       "      <td>bkcchi eawpew reevir1</td>\n",
       "      <td>reevir1</td>\n",
       "    </tr>\n",
       "    <tr>\n",
       "      <th>1062</th>\n",
       "      <td>2782_SSW_515</td>\n",
       "      <td>SSW</td>\n",
       "      <td>2782</td>\n",
       "      <td>515</td>\n",
       "      <td>eawpew reevir1</td>\n",
       "      <td>ovenbi1 reevir1</td>\n",
       "    </tr>\n",
       "    <tr>\n",
       "      <th>1063</th>\n",
       "      <td>2782_SSW_520</td>\n",
       "      <td>SSW</td>\n",
       "      <td>2782</td>\n",
       "      <td>520</td>\n",
       "      <td>bkcchi reevir1</td>\n",
       "      <td>eawpew reevir1</td>\n",
       "    </tr>\n",
       "    <tr>\n",
       "      <th>1064</th>\n",
       "      <td>2782_SSW_525</td>\n",
       "      <td>SSW</td>\n",
       "      <td>2782</td>\n",
       "      <td>525</td>\n",
       "      <td>bkcchi eawpew reevir1</td>\n",
       "      <td>eawpew reevir1</td>\n",
       "    </tr>\n",
       "    <tr>\n",
       "      <th>1065</th>\n",
       "      <td>2782_SSW_530</td>\n",
       "      <td>SSW</td>\n",
       "      <td>2782</td>\n",
       "      <td>530</td>\n",
       "      <td>reevir1</td>\n",
       "      <td>ovenbi1 reevir1</td>\n",
       "    </tr>\n",
       "    <tr>\n",
       "      <th>1066</th>\n",
       "      <td>2782_SSW_535</td>\n",
       "      <td>SSW</td>\n",
       "      <td>2782</td>\n",
       "      <td>535</td>\n",
       "      <td>bkcchi eawpew reevir1</td>\n",
       "      <td>reevir1</td>\n",
       "    </tr>\n",
       "    <tr>\n",
       "      <th>1067</th>\n",
       "      <td>2782_SSW_540</td>\n",
       "      <td>SSW</td>\n",
       "      <td>2782</td>\n",
       "      <td>540</td>\n",
       "      <td>bkcchi eawpew reevir1</td>\n",
       "      <td>reevir1</td>\n",
       "    </tr>\n",
       "    <tr>\n",
       "      <th>1068</th>\n",
       "      <td>2782_SSW_545</td>\n",
       "      <td>SSW</td>\n",
       "      <td>2782</td>\n",
       "      <td>545</td>\n",
       "      <td>reevir1</td>\n",
       "      <td>reevir1</td>\n",
       "    </tr>\n",
       "    <tr>\n",
       "      <th>1069</th>\n",
       "      <td>2782_SSW_550</td>\n",
       "      <td>SSW</td>\n",
       "      <td>2782</td>\n",
       "      <td>550</td>\n",
       "      <td>bkcchi eawpew reevir1</td>\n",
       "      <td>nocall</td>\n",
       "    </tr>\n",
       "    <tr>\n",
       "      <th>1070</th>\n",
       "      <td>2782_SSW_555</td>\n",
       "      <td>SSW</td>\n",
       "      <td>2782</td>\n",
       "      <td>555</td>\n",
       "      <td>reevir1</td>\n",
       "      <td>gbwwre1 reevir1</td>\n",
       "    </tr>\n",
       "    <tr>\n",
       "      <th>1071</th>\n",
       "      <td>2782_SSW_560</td>\n",
       "      <td>SSW</td>\n",
       "      <td>2782</td>\n",
       "      <td>560</td>\n",
       "      <td>reevir1</td>\n",
       "      <td>reevir1</td>\n",
       "    </tr>\n",
       "    <tr>\n",
       "      <th>1072</th>\n",
       "      <td>2782_SSW_565</td>\n",
       "      <td>SSW</td>\n",
       "      <td>2782</td>\n",
       "      <td>565</td>\n",
       "      <td>eawpew reevir1</td>\n",
       "      <td>eawpew reevir1</td>\n",
       "    </tr>\n",
       "    <tr>\n",
       "      <th>1073</th>\n",
       "      <td>2782_SSW_570</td>\n",
       "      <td>SSW</td>\n",
       "      <td>2782</td>\n",
       "      <td>570</td>\n",
       "      <td>eawpew reevir1</td>\n",
       "      <td>eawpew reevir1 scatan</td>\n",
       "    </tr>\n",
       "    <tr>\n",
       "      <th>1074</th>\n",
       "      <td>2782_SSW_575</td>\n",
       "      <td>SSW</td>\n",
       "      <td>2782</td>\n",
       "      <td>575</td>\n",
       "      <td>eawpew reevir1</td>\n",
       "      <td>eawpew reevir1</td>\n",
       "    </tr>\n",
       "    <tr>\n",
       "      <th>1075</th>\n",
       "      <td>2782_SSW_580</td>\n",
       "      <td>SSW</td>\n",
       "      <td>2782</td>\n",
       "      <td>580</td>\n",
       "      <td>eawpew reevir1</td>\n",
       "      <td>reevir1</td>\n",
       "    </tr>\n",
       "    <tr>\n",
       "      <th>1076</th>\n",
       "      <td>2782_SSW_585</td>\n",
       "      <td>SSW</td>\n",
       "      <td>2782</td>\n",
       "      <td>585</td>\n",
       "      <td>eawpew reevir1</td>\n",
       "      <td>reevir1</td>\n",
       "    </tr>\n",
       "    <tr>\n",
       "      <th>1077</th>\n",
       "      <td>2782_SSW_590</td>\n",
       "      <td>SSW</td>\n",
       "      <td>2782</td>\n",
       "      <td>590</td>\n",
       "      <td>bkcchi reevir1</td>\n",
       "      <td>reevir1</td>\n",
       "    </tr>\n",
       "    <tr>\n",
       "      <th>1078</th>\n",
       "      <td>2782_SSW_595</td>\n",
       "      <td>SSW</td>\n",
       "      <td>2782</td>\n",
       "      <td>595</td>\n",
       "      <td>bkcchi eawpew reevir1</td>\n",
       "      <td>reevir1</td>\n",
       "    </tr>\n",
       "    <tr>\n",
       "      <th>1079</th>\n",
       "      <td>2782_SSW_600</td>\n",
       "      <td>SSW</td>\n",
       "      <td>2782</td>\n",
       "      <td>600</td>\n",
       "      <td>eawpew reevir1</td>\n",
       "      <td>nocall</td>\n",
       "    </tr>\n",
       "  </tbody>\n",
       "</table>\n",
       "</div>"
      ],
      "text/plain": [
       "            row_id site  audio_id  seconds                         birds  \\\n",
       "960     2782_SSW_5  SSW      2782        5         bkcchi grycat reevir1   \n",
       "961    2782_SSW_10  SSW      2782       10         eawpew grycat reevir1   \n",
       "962    2782_SSW_15  SSW      2782       15  bkcchi eawpew grycat reevir1   \n",
       "963    2782_SSW_20  SSW      2782       20         eawpew grycat reevir1   \n",
       "964    2782_SSW_25  SSW      2782       25         eawpew grycat reevir1   \n",
       "965    2782_SSW_30  SSW      2782       30                bkcchi reevir1   \n",
       "966    2782_SSW_35  SSW      2782       35         eawpew grycat reevir1   \n",
       "967    2782_SSW_40  SSW      2782       40  bkcchi eawpew grycat reevir1   \n",
       "968    2782_SSW_45  SSW      2782       45                eawpew reevir1   \n",
       "969    2782_SSW_50  SSW      2782       50         bkcchi eawpew reevir1   \n",
       "970    2782_SSW_55  SSW      2782       55         bkcchi eawpew reevir1   \n",
       "971    2782_SSW_60  SSW      2782       60         bkcchi eawpew reevir1   \n",
       "972    2782_SSW_65  SSW      2782       65         bkcchi eawpew reevir1   \n",
       "973    2782_SSW_70  SSW      2782       70                eawpew reevir1   \n",
       "974    2782_SSW_75  SSW      2782       75  bkcchi eawpew grycat reevir1   \n",
       "975    2782_SSW_80  SSW      2782       80         eawpew grycat reevir1   \n",
       "976    2782_SSW_85  SSW      2782       85                grycat reevir1   \n",
       "977    2782_SSW_90  SSW      2782       90         eawpew grycat reevir1   \n",
       "978    2782_SSW_95  SSW      2782       95         eawpew grycat reevir1   \n",
       "979   2782_SSW_100  SSW      2782      100                bkcchi reevir1   \n",
       "980   2782_SSW_105  SSW      2782      105                eawpew reevir1   \n",
       "981   2782_SSW_110  SSW      2782      110         bkcchi eawpew reevir1   \n",
       "982   2782_SSW_115  SSW      2782      115                eawpew reevir1   \n",
       "983   2782_SSW_120  SSW      2782      120                       reevir1   \n",
       "984   2782_SSW_125  SSW      2782      125         bkcchi eawpew reevir1   \n",
       "985   2782_SSW_130  SSW      2782      130                grycat reevir1   \n",
       "986   2782_SSW_135  SSW      2782      135         eawpew grycat reevir1   \n",
       "987   2782_SSW_140  SSW      2782      140         eawpew grycat reevir1   \n",
       "988   2782_SSW_145  SSW      2782      145                eawpew reevir1   \n",
       "989   2782_SSW_150  SSW      2782      150                       reevir1   \n",
       "990   2782_SSW_155  SSW      2782      155                eawpew reevir1   \n",
       "991   2782_SSW_160  SSW      2782      160                eawpew reevir1   \n",
       "992   2782_SSW_165  SSW      2782      165                       reevir1   \n",
       "993   2782_SSW_170  SSW      2782      170                eawpew reevir1   \n",
       "994   2782_SSW_175  SSW      2782      175                eawpew reevir1   \n",
       "995   2782_SSW_180  SSW      2782      180                       reevir1   \n",
       "996   2782_SSW_185  SSW      2782      185         eawpew grycat reevir1   \n",
       "997   2782_SSW_190  SSW      2782      190         eawpew grycat reevir1   \n",
       "998   2782_SSW_195  SSW      2782      195                grycat reevir1   \n",
       "999   2782_SSW_200  SSW      2782      200         eawpew grycat reevir1   \n",
       "1000  2782_SSW_205  SSW      2782      205                grycat reevir1   \n",
       "1001  2782_SSW_210  SSW      2782      210         eawpew grycat reevir1   \n",
       "1002  2782_SSW_215  SSW      2782      215                grycat reevir1   \n",
       "1003  2782_SSW_220  SSW      2782      220         eawpew grycat reevir1   \n",
       "1004  2782_SSW_225  SSW      2782      225         eawpew grycat reevir1   \n",
       "1005  2782_SSW_230  SSW      2782      230  chswar eawpew grycat reevir1   \n",
       "1006  2782_SSW_235  SSW      2782      235                grycat reevir1   \n",
       "1007  2782_SSW_240  SSW      2782      240         chswar eawpew reevir1   \n",
       "1008  2782_SSW_245  SSW      2782      245                grycat reevir1   \n",
       "1009  2782_SSW_250  SSW      2782      250         eawpew grycat reevir1   \n",
       "1010  2782_SSW_255  SSW      2782      255                grycat reevir1   \n",
       "1011  2782_SSW_260  SSW      2782      260                grycat reevir1   \n",
       "1012  2782_SSW_265  SSW      2782      265                eawpew reevir1   \n",
       "1013  2782_SSW_270  SSW      2782      270                eawpew reevir1   \n",
       "1014  2782_SSW_275  SSW      2782      275         bkcchi grycat reevir1   \n",
       "1015  2782_SSW_280  SSW      2782      280                eawpew reevir1   \n",
       "1016  2782_SSW_285  SSW      2782      285                       reevir1   \n",
       "1017  2782_SSW_290  SSW      2782      290                eawpew reevir1   \n",
       "1018  2782_SSW_295  SSW      2782      295                       reevir1   \n",
       "1019  2782_SSW_300  SSW      2782      300                eawpew reevir1   \n",
       "1020  2782_SSW_305  SSW      2782      305                eawpew reevir1   \n",
       "1021  2782_SSW_310  SSW      2782      310                bkcchi reevir1   \n",
       "1022  2782_SSW_315  SSW      2782      315                eawpew reevir1   \n",
       "1023  2782_SSW_320  SSW      2782      320                       reevir1   \n",
       "1024  2782_SSW_325  SSW      2782      325                eawpew reevir1   \n",
       "1025  2782_SSW_330  SSW      2782      330                       reevir1   \n",
       "1026  2782_SSW_335  SSW      2782      335                eawpew reevir1   \n",
       "1027  2782_SSW_340  SSW      2782      340                       reevir1   \n",
       "1028  2782_SSW_345  SSW      2782      345                eawpew reevir1   \n",
       "1029  2782_SSW_350  SSW      2782      350                       reevir1   \n",
       "1030  2782_SSW_355  SSW      2782      355                eawpew reevir1   \n",
       "1031  2782_SSW_360  SSW      2782      360                       reevir1   \n",
       "1032  2782_SSW_365  SSW      2782      365                eawpew reevir1   \n",
       "1033  2782_SSW_370  SSW      2782      370                       reevir1   \n",
       "1034  2782_SSW_375  SSW      2782      375                       reevir1   \n",
       "1035  2782_SSW_380  SSW      2782      380                       reevir1   \n",
       "1036  2782_SSW_385  SSW      2782      385                eawpew reevir1   \n",
       "1037  2782_SSW_390  SSW      2782      390                bkcchi reevir1   \n",
       "1038  2782_SSW_395  SSW      2782      395                eawpew reevir1   \n",
       "1039  2782_SSW_400  SSW      2782      400                       reevir1   \n",
       "1040  2782_SSW_405  SSW      2782      405                eawpew reevir1   \n",
       "1041  2782_SSW_410  SSW      2782      410                       reevir1   \n",
       "1042  2782_SSW_415  SSW      2782      415                eawpew reevir1   \n",
       "1043  2782_SSW_420  SSW      2782      420                       reevir1   \n",
       "1044  2782_SSW_425  SSW      2782      425                       reevir1   \n",
       "1045  2782_SSW_430  SSW      2782      430                eawpew reevir1   \n",
       "1046  2782_SSW_435  SSW      2782      435                       reevir1   \n",
       "1047  2782_SSW_440  SSW      2782      440                eawpew reevir1   \n",
       "1048  2782_SSW_445  SSW      2782      445         bkcchi eawpew reevir1   \n",
       "1049  2782_SSW_450  SSW      2782      450                eawpew reevir1   \n",
       "1050  2782_SSW_455  SSW      2782      455                eawpew reevir1   \n",
       "1051  2782_SSW_460  SSW      2782      460                bkcchi reevir1   \n",
       "1052  2782_SSW_465  SSW      2782      465                eawpew reevir1   \n",
       "1053  2782_SSW_470  SSW      2782      470         bkcchi eawpew reevir1   \n",
       "1054  2782_SSW_475  SSW      2782      475                bkcchi reevir1   \n",
       "1055  2782_SSW_480  SSW      2782      480         bkcchi eawpew reevir1   \n",
       "1056  2782_SSW_485  SSW      2782      485         bkcchi eawpew reevir1   \n",
       "1057  2782_SSW_490  SSW      2782      490         bkcchi eawpew reevir1   \n",
       "1058  2782_SSW_495  SSW      2782      495         bkcchi eawpew reevir1   \n",
       "1059  2782_SSW_500  SSW      2782      500         bkcchi eawpew reevir1   \n",
       "1060  2782_SSW_505  SSW      2782      505         bkcchi eawpew reevir1   \n",
       "1061  2782_SSW_510  SSW      2782      510         bkcchi eawpew reevir1   \n",
       "1062  2782_SSW_515  SSW      2782      515                eawpew reevir1   \n",
       "1063  2782_SSW_520  SSW      2782      520                bkcchi reevir1   \n",
       "1064  2782_SSW_525  SSW      2782      525         bkcchi eawpew reevir1   \n",
       "1065  2782_SSW_530  SSW      2782      530                       reevir1   \n",
       "1066  2782_SSW_535  SSW      2782      535         bkcchi eawpew reevir1   \n",
       "1067  2782_SSW_540  SSW      2782      540         bkcchi eawpew reevir1   \n",
       "1068  2782_SSW_545  SSW      2782      545                       reevir1   \n",
       "1069  2782_SSW_550  SSW      2782      550         bkcchi eawpew reevir1   \n",
       "1070  2782_SSW_555  SSW      2782      555                       reevir1   \n",
       "1071  2782_SSW_560  SSW      2782      560                       reevir1   \n",
       "1072  2782_SSW_565  SSW      2782      565                eawpew reevir1   \n",
       "1073  2782_SSW_570  SSW      2782      570                eawpew reevir1   \n",
       "1074  2782_SSW_575  SSW      2782      575                eawpew reevir1   \n",
       "1075  2782_SSW_580  SSW      2782      580                eawpew reevir1   \n",
       "1076  2782_SSW_585  SSW      2782      585                eawpew reevir1   \n",
       "1077  2782_SSW_590  SSW      2782      590                bkcchi reevir1   \n",
       "1078  2782_SSW_595  SSW      2782      595         bkcchi eawpew reevir1   \n",
       "1079  2782_SSW_600  SSW      2782      600                eawpew reevir1   \n",
       "\n",
       "                  oof_labels  \n",
       "960           gbwwre1 grycat  \n",
       "961                   grycat  \n",
       "962           grasal1 grycat  \n",
       "963                   grycat  \n",
       "964                   grycat  \n",
       "965                  reevir1  \n",
       "966           grycat obnthr1  \n",
       "967                   grycat  \n",
       "968           eawpew reevir1  \n",
       "969           eawpew reevir1  \n",
       "970           eawpew reevir1  \n",
       "971                  reevir1  \n",
       "972                  reevir1  \n",
       "973           eawpew reevir1  \n",
       "974                   grycat  \n",
       "975                   grycat  \n",
       "976                   grycat  \n",
       "977            acafly leafly  \n",
       "978                  reevir1  \n",
       "979          ovenbi1 reevir1  \n",
       "980           eawpew reevir1  \n",
       "981    eawpew herthr reevir1  \n",
       "982           eawpew reevir1  \n",
       "983   gbwwre1 grycat reevir1  \n",
       "984                  reevir1  \n",
       "985           grycat obnthr1  \n",
       "986                  reevir1  \n",
       "987                   eawpew  \n",
       "988           eawpew reevir1  \n",
       "989           eawpew reevir1  \n",
       "990           eawpew reevir1  \n",
       "991           eawpew reevir1  \n",
       "992           eawpew reevir1  \n",
       "993           eawpew reevir1  \n",
       "994                  reevir1  \n",
       "995           eawpew reevir1  \n",
       "996           buhvir reevir1  \n",
       "997           eawpew reevir1  \n",
       "998                   grycat  \n",
       "999    eawpew grycat reevir1  \n",
       "1000          grycat obnthr1  \n",
       "1001                  grycat  \n",
       "1002                  grycat  \n",
       "1003          eawpew reevir1  \n",
       "1004   eawpew grycat reevir1  \n",
       "1005          acafly reevir1  \n",
       "1006                  grycat  \n",
       "1007   chswar eawpew reevir1  \n",
       "1008                  grycat  \n",
       "1009           eawpew grycat  \n",
       "1010          grycat obnthr1  \n",
       "1011                 reevir1  \n",
       "1012          eawpew reevir1  \n",
       "1013          eawpew reevir1  \n",
       "1014                 reevir1  \n",
       "1015          eawpew reevir1  \n",
       "1016  eawpew ovenbi1 reevir1  \n",
       "1017          eawpew reevir1  \n",
       "1018                 reevir1  \n",
       "1019                  eawpew  \n",
       "1020                  eawpew  \n",
       "1021                 reevir1  \n",
       "1022          eawpew reevir1  \n",
       "1023          eawpew reevir1  \n",
       "1024          eawpew reevir1  \n",
       "1025                 reevir1  \n",
       "1026          eawpew reevir1  \n",
       "1027          reevir1 scatan  \n",
       "1028          eawpew reevir1  \n",
       "1029                 reevir1  \n",
       "1030          eawpew reevir1  \n",
       "1031                 reevir1  \n",
       "1032          eawpew reevir1  \n",
       "1033                  nocall  \n",
       "1034                 reevir1  \n",
       "1035                 reevir1  \n",
       "1036          eawpew reevir1  \n",
       "1037                 reevir1  \n",
       "1038                 reevir1  \n",
       "1039  eawpew ovenbi1 reevir1  \n",
       "1040         ovenbi1 reevir1  \n",
       "1041                 reevir1  \n",
       "1042          eawpew reevir1  \n",
       "1043  eawpew ovenbi1 reevir1  \n",
       "1044                 reevir1  \n",
       "1045          eawpew reevir1  \n",
       "1046          eawpew reevir1  \n",
       "1047                  nocall  \n",
       "1048                  bkcchi  \n",
       "1049          eawpew reevir1  \n",
       "1050         ovenbi1 reevir1  \n",
       "1051          cedwax reevir1  \n",
       "1052                 reevir1  \n",
       "1053   acafly eawpew reevir1  \n",
       "1054                 reevir1  \n",
       "1055                  eawpew  \n",
       "1056                 reevir1  \n",
       "1057                 reevir1  \n",
       "1058          eawpew reevir1  \n",
       "1059          eawpew reevir1  \n",
       "1060          eawpew reevir1  \n",
       "1061                 reevir1  \n",
       "1062         ovenbi1 reevir1  \n",
       "1063          eawpew reevir1  \n",
       "1064          eawpew reevir1  \n",
       "1065         ovenbi1 reevir1  \n",
       "1066                 reevir1  \n",
       "1067                 reevir1  \n",
       "1068                 reevir1  \n",
       "1069                  nocall  \n",
       "1070         gbwwre1 reevir1  \n",
       "1071                 reevir1  \n",
       "1072          eawpew reevir1  \n",
       "1073   eawpew reevir1 scatan  \n",
       "1074          eawpew reevir1  \n",
       "1075                 reevir1  \n",
       "1076                 reevir1  \n",
       "1077                 reevir1  \n",
       "1078                 reevir1  \n",
       "1079                  nocall  "
      ]
     },
     "execution_count": 14,
     "metadata": {},
     "output_type": "execute_result"
    }
   ],
   "source": [
    "a = valid_df.copy()\n",
    "a[\"oof_labels\"] = extract_label(oof, th=0.1)\n",
    "# a[\"oof_labels_num\"] = a[\"oof_labels\"].apply(lambda x: len(x.split(\" \")))\n",
    "a[a[\"audio_id\"] == 2782]"
   ]
  },
  {
   "cell_type": "markdown",
   "metadata": {},
   "source": [
    " "
   ]
  },
  {
   "cell_type": "markdown",
   "metadata": {},
   "source": [
    " "
   ]
  },
  {
   "cell_type": "markdown",
   "metadata": {},
   "source": [
    "## Simple Average + nocall classification"
   ]
  },
  {
   "cell_type": "code",
   "execution_count": 15,
   "metadata": {},
   "outputs": [],
   "source": [
    "oof = np.mean(concat_oof, axis=0)[use_idx, :]"
   ]
  },
  {
   "cell_type": "code",
   "execution_count": 16,
   "metadata": {},
   "outputs": [],
   "source": [
    "birdcall_p = oof99\n",
    "\n",
    "for idx in range(len(oof)):\n",
    "    bp = birdcall_p[idx]\n",
    "    if bp <= 0.3:\n",
    "        col1_idx = np.argsort(oof[idx, :])[-1:]\n",
    "        oof[idx, col1_idx] /= 5"
   ]
  },
  {
   "cell_type": "code",
   "execution_count": 17,
   "metadata": {},
   "outputs": [],
   "source": [
    "th_list = []\n",
    "scores = []\n",
    "\n",
    "best_score = 0\n",
    "besth_th = 0\n",
    "best_final_labels = None\n",
    "\n",
    "for i in range(300):\n",
    "    th = i / 100.0\n",
    "\n",
    "    oof_labels = extract_label(oof, th)\n",
    "    score = row_wise_micro_averaged_f1_score(val_y_labels, oof_labels)\n",
    "    \n",
    "    if best_score < score:\n",
    "        best_score  = score\n",
    "        best_th = th\n",
    "        best_final_labels = oof_labels\n",
    "\n",
    "    th_list.append(th)\n",
    "    scores.append(score)"
   ]
  },
  {
   "cell_type": "code",
   "execution_count": 18,
   "metadata": {},
   "outputs": [
    {
     "name": "stdout",
     "output_type": "stream",
     "text": [
      "best score: 0.7261 (th=0.25)\n"
     ]
    }
   ],
   "source": [
    "print(f\"best score: {best_score:.4f} (th={best_th})\")   # best score:0.7027 (th=0.26)"
   ]
  },
  {
   "cell_type": "code",
   "execution_count": 19,
   "metadata": {},
   "outputs": [
    {
     "data": {
      "image/png": "[encoded data removed]",
      "text/plain": [
       "<Figure size 432x288 with 1 Axes>"
      ]
     },
     "metadata": {
      "needs_background": "light"
     },
     "output_type": "display_data"
    }
   ],
   "source": [
    "plt.plot(th_list, scores)\n",
    "plt.grid()"
   ]
  },
  {
   "cell_type": "code",
   "execution_count": 20,
   "metadata": {},
   "outputs": [
    {
     "name": "stdout",
     "output_type": "stream",
     "text": [
      "2782: 0.5372 [0.035]\n",
      "7843: 0.9833 [0.000]\n",
      "10534: 0.6389 [-0.008]\n",
      "11254: 0.8750 [0.000]\n",
      "18003: 0.7083 [0.022]\n",
      "20152: 0.9583 [0.017]\n",
      "21767: 0.3333 [0.008]\n",
      "26709: 0.5583 [0.008]\n",
      "26746: 0.7111 [-0.008]\n",
      "28933: 0.5331 [-0.011]\n",
      "31928: 0.9417 [-0.017]\n",
      "42907: 0.7417 [0.008]\n",
      "44957: 0.7806 [0.011]\n",
      "50878: 0.7833 [-0.025]\n",
      "51010: 0.5006 [0.000]\n",
      "54955: 0.8833 [0.017]\n",
      "57610: 0.8750 [-0.017]\n"
     ]
    }
   ],
   "source": [
    "best_labels_nc = best_final_labels\n",
    "diff_scores1 = get_audio_score(best_final_labels, valid_df, score_dict)\n",
    "all_diff_scores[\"avg_nc\"] = diff_scores1"
   ]
  },
  {
   "cell_type": "markdown",
   "metadata": {},
   "source": [
    " "
   ]
  },
  {
   "cell_type": "markdown",
   "metadata": {},
   "source": [
    " "
   ]
  },
  {
   "cell_type": "markdown",
   "metadata": {},
   "source": [
    "## Voting"
   ]
  },
  {
   "cell_type": "code",
   "execution_count": 21,
   "metadata": {},
   "outputs": [],
   "source": [
    "def voting(oof_labels_list, vote_lim):\n",
    "    final_oof_labels = []\n",
    "    \n",
    "    for idx in range(len(oof_labels_list[0])):\n",
    "        birds = []\n",
    "\n",
    "        for labels in oof_labels_list:\n",
    "            birds.extend(labels[idx].split(\" \"))\n",
    "\n",
    "        birds = [x for x in birds if \"nocall\" != x and \"\" != x]\n",
    "        count_birds = Counter(birds)\n",
    "\n",
    "        final_birds = []\n",
    "        for key, value in count_birds.items():\n",
    "            if value >= vote_lim:\n",
    "                final_birds.append(key)\n",
    "\n",
    "        if len(final_birds) == 0:\n",
    "            final_birds.append(\"nocall\")\n",
    "\n",
    "        final_oof_labels.append(\" \".join(final_birds))\n",
    "\n",
    "    return final_oof_labels"
   ]
  },
  {
   "cell_type": "code",
   "execution_count": 22,
   "metadata": {},
   "outputs": [
    {
     "data": {
      "application/vnd.jupyter.widget-view+json": {
       "model_id": "91ac19594fac4d5eb3da5ce133c0c817",
       "version_major": 2,
       "version_minor": 0
      },
      "text/plain": [
       "HBox(children=(IntProgress(value=0), HTML(value='')))"
      ]
     },
     "metadata": {},
     "output_type": "display_data"
    },
    {
     "name": "stdout",
     "output_type": "stream",
     "text": [
      "\n"
     ]
    },
    {
     "data": {
      "application/vnd.jupyter.widget-view+json": {
       "model_id": "262cc462499047b5acbe4f507922db3a",
       "version_major": 2,
       "version_minor": 0
      },
      "text/plain": [
       "HBox(children=(IntProgress(value=0), HTML(value='')))"
      ]
     },
     "metadata": {},
     "output_type": "display_data"
    },
    {
     "name": "stdout",
     "output_type": "stream",
     "text": [
      "\n"
     ]
    },
    {
     "data": {
      "application/vnd.jupyter.widget-view+json": {
       "model_id": "88a73f34117543f8a6d72cbc4a5bef9e",
       "version_major": 2,
       "version_minor": 0
      },
      "text/plain": [
       "HBox(children=(IntProgress(value=0), HTML(value='')))"
      ]
     },
     "metadata": {},
     "output_type": "display_data"
    },
    {
     "name": "stdout",
     "output_type": "stream",
     "text": [
      "\n"
     ]
    }
   ],
   "source": [
    "th_list = []\n",
    "scores = []\n",
    "\n",
    "best_score = 0\n",
    "besth_th = 0\n",
    "best_vote_lim = 0\n",
    "best_final_labels = None\n",
    "\n",
    "# for vote_lim in range(1, len(oof_labels_list)):\n",
    "for vote_lim in [1, 2, 3]:\n",
    "    for i in tqdm(range(100)):\n",
    "        th = i / 100.0\n",
    "        \n",
    "        oof_labels_list = []\n",
    "        for oof_ in oof_list:\n",
    "            oof_labels_ = extract_label(oof_[use_idx, :], th)\n",
    "            oof_labels_list.append(oof_labels_)\n",
    "\n",
    "        final_oof_labels = voting(oof_labels_list, vote_lim)\n",
    "\n",
    "        score = row_wise_micro_averaged_f1_score(val_y_labels, final_oof_labels)\n",
    "            \n",
    "        if best_score < score:\n",
    "            best_score = score\n",
    "            best_th = th\n",
    "            best_vote_lim = vote_lim\n",
    "            best_final_labels = final_oof_labels\n",
    "                \n",
    "        th_list.append(th)\n",
    "        scores.append(score)"
   ]
  },
  {
   "cell_type": "code",
   "execution_count": 23,
   "metadata": {},
   "outputs": [
    {
     "data": {
      "text/plain": [
       "0.710555555555553"
      ]
     },
     "execution_count": 23,
     "metadata": {},
     "output_type": "execute_result"
    }
   ],
   "source": [
    "best_score   # 0.7430"
   ]
  },
  {
   "cell_type": "code",
   "execution_count": 24,
   "metadata": {},
   "outputs": [
    {
     "data": {
      "text/plain": [
       "0.45"
      ]
     },
     "execution_count": 24,
     "metadata": {},
     "output_type": "execute_result"
    }
   ],
   "source": [
    "best_th"
   ]
  },
  {
   "cell_type": "code",
   "execution_count": 25,
   "metadata": {},
   "outputs": [
    {
     "data": {
      "text/plain": [
       "3"
      ]
     },
     "execution_count": 25,
     "metadata": {},
     "output_type": "execute_result"
    }
   ],
   "source": [
    "best_vote_lim"
   ]
  },
  {
   "cell_type": "code",
   "execution_count": 26,
   "metadata": {},
   "outputs": [
    {
     "data": {
      "text/plain": [
       "[<matplotlib.lines.Line2D at 0x7f681c66a198>]"
      ]
     },
     "execution_count": 26,
     "metadata": {},
     "output_type": "execute_result"
    },
    {
     "data": {
      "image/png": "[encoded data removed]",
      "text/plain": [
       "<Figure size 1152x360 with 1 Axes>"
      ]
     },
     "metadata": {
      "needs_background": "light"
     },
     "output_type": "display_data"
    }
   ],
   "source": [
    "plt.figure(figsize=(16, 5))\n",
    "plt.plot(scores)"
   ]
  },
  {
   "cell_type": "code",
   "execution_count": 27,
   "metadata": {},
   "outputs": [
    {
     "name": "stdout",
     "output_type": "stream",
     "text": [
      "2782: 0.4486 [-0.053]\n",
      "7843: 0.9833 [0.000]\n",
      "10534: 0.6472 [0.000]\n",
      "11254: 0.8583 [-0.017]\n",
      "18003: 0.6583 [-0.028]\n",
      "20152: 0.9417 [0.000]\n",
      "21767: 0.3389 [0.014]\n",
      "26709: 0.5417 [-0.008]\n",
      "26746: 0.7194 [0.000]\n",
      "28933: 0.5442 [0.000]\n",
      "31928: 0.9750 [0.017]\n",
      "42907: 0.6583 [-0.075]\n",
      "44957: 0.7361 [-0.033]\n",
      "50878: 0.7750 [-0.033]\n",
      "51010: 0.5061 [0.006]\n",
      "54955: 0.8667 [0.000]\n",
      "57610: 0.8806 [-0.011]\n"
     ]
    }
   ],
   "source": [
    "diff_scores2 = get_audio_score(best_final_labels, valid_df, score_dict)\n",
    "all_diff_scores[\"voting\"] = diff_scores2"
   ]
  },
  {
   "cell_type": "markdown",
   "metadata": {},
   "source": [
    " "
   ]
  },
  {
   "cell_type": "markdown",
   "metadata": {},
   "source": [
    " "
   ]
  },
  {
   "cell_type": "markdown",
   "metadata": {},
   "source": [
    "## Simple Average > PostProcess_v12"
   ]
  },
  {
   "cell_type": "code",
   "execution_count": 28,
   "metadata": {},
   "outputs": [],
   "source": [
    "def post_process_site_12(preds, threshold=0.5, maxpreds=3):\n",
    "    preds = preds * (preds >= threshold)   # remove preds < threshold\n",
    "    \n",
    "#     next_preds = np.concatenate([preds[1:], preds[-1:]])  # pred corresponding to next window\n",
    "#     prev_preds = np.concatenate([preds[:1], preds[:-1]])  # pred corresponding to previous window\n",
    "\n",
    "    next_preds = np.concatenate([preds[1:], np.zeros((1, preds.shape[-1]))])  # pred corresponding to next window\n",
    "    prev_preds = np.concatenate([np.zeros((1, preds.shape[-1])), preds[:-1]])  # pred corresponding to previous window\n",
    "    \n",
    "    score = preds + next_preds + prev_preds  # Aggregating\n",
    "    \n",
    "    n_birds = (score >= threshold - 1e-5).sum(-1)   # threshold ?\n",
    "    n_birds = np.clip(n_birds, 0, maxpreds)  # keep at most maxpreds birds\n",
    "    \n",
    "    labels = [np.argsort(- score[i])[:n_birds[i]].tolist() for i in range(len(preds))]\n",
    "#     class_labels = [\" \".join([CLASSES[l] for l in label]) for label in labels]\n",
    "    class_labels = [\" \".join([const.INV_BIRD_CODE[l] for l in label]) if len(label) > 0 else \"nocall\" for label in labels]\n",
    "    \n",
    "    return class_labels"
   ]
  },
  {
   "cell_type": "code",
   "execution_count": 29,
   "metadata": {},
   "outputs": [],
   "source": [
    "oof = np.mean(concat_oof, axis=0)[use_idx, :]\n",
    "\n",
    "th_list = []\n",
    "scores = []\n",
    "\n",
    "best_score = 0\n",
    "besth_th = 0\n",
    "best_final_labels = None\n",
    "\n",
    "for i in range(100):\n",
    "    th = i / 100.0\n",
    "    \n",
    "    oof_labels = post_process_site_12(oof, threshold=th, maxpreds=3)\n",
    "#     oof_labels = extract_label(oof, th)\n",
    "\n",
    "    score = row_wise_micro_averaged_f1_score(val_y_labels, oof_labels)\n",
    "    \n",
    "    if best_score < score:\n",
    "        best_score  = score\n",
    "        best_th = th\n",
    "        best_final_labels = oof_labels\n",
    "\n",
    "    th_list.append(th)\n",
    "    scores.append(score)"
   ]
  },
  {
   "cell_type": "code",
   "execution_count": 30,
   "metadata": {},
   "outputs": [
    {
     "name": "stdout",
     "output_type": "stream",
     "text": [
      "best score: 0.6827 (th=0.33)\n"
     ]
    }
   ],
   "source": [
    "print(f\"best score: {best_score:.4f} (th={best_th})\")   # best score: 0.7082 (th=0.27)"
   ]
  },
  {
   "cell_type": "code",
   "execution_count": 31,
   "metadata": {},
   "outputs": [
    {
     "data": {
      "image/png": "[encoded data removed]",
      "text/plain": [
       "<Figure size 432x288 with 1 Axes>"
      ]
     },
     "metadata": {
      "needs_background": "light"
     },
     "output_type": "display_data"
    }
   ],
   "source": [
    "plt.plot(th_list, scores)\n",
    "plt.grid()"
   ]
  },
  {
   "cell_type": "code",
   "execution_count": 32,
   "metadata": {},
   "outputs": [
    {
     "name": "stdout",
     "output_type": "stream",
     "text": [
      "2782: 0.5642 [0.062]\n",
      "7843: 0.9750 [-0.008]\n",
      "10534: 0.4444 [-0.203]\n",
      "11254: 0.7583 [-0.117]\n",
      "18003: 0.7333 [0.047]\n",
      "20152: 0.8833 [-0.058]\n",
      "21767: 0.3847 [0.060]\n",
      "26709: 0.5083 [-0.042]\n",
      "26746: 0.7083 [-0.011]\n",
      "28933: 0.5381 [-0.006]\n",
      "31928: 0.9500 [-0.008]\n",
      "42907: 0.7000 [-0.033]\n",
      "44957: 0.7278 [-0.042]\n",
      "50878: 0.7250 [-0.083]\n",
      "51010: 0.4294 [-0.071]\n",
      "54955: 0.7861 [-0.081]\n",
      "57610: 0.7889 [-0.103]\n"
     ]
    }
   ],
   "source": [
    "diff_scores3 = get_audio_score(best_final_labels, valid_df, score_dict)\n",
    "all_diff_scores[\"avg_postv12\"] = diff_scores3"
   ]
  },
  {
   "cell_type": "markdown",
   "metadata": {},
   "source": [
    " "
   ]
  },
  {
   "cell_type": "markdown",
   "metadata": {},
   "source": [
    " "
   ]
  },
  {
   "cell_type": "markdown",
   "metadata": {},
   "source": [
    "## PostProcess_v2 -> Simple Avg"
   ]
  },
  {
   "cell_type": "code",
   "execution_count": 33,
   "metadata": {},
   "outputs": [],
   "source": [
    "def post_process_v2(preds, df, c=2, q=0.99, w=1.5):\n",
    "    if \"file_id\" not in df.columns:\n",
    "        df[\"file_id\"] = df[\"audio_id\"].astype(str) + \"_\" + df[\"site\"]\n",
    "\n",
    "    post_weight_dict = {}\n",
    "    init_weight = np.ones(len(const.BIRD_CODE) - 1)\n",
    "\n",
    "    for i, file_id in enumerate(df[\"file_id\"].unique()):\n",
    "        file_id_idx = df[df[\"file_id\"] == file_id].index.values\n",
    "        sum_ = np.sum(preds[file_id_idx, :], axis=0)\n",
    "        sum_ = sum_ / np.max(sum_)\n",
    "        quantile_ = np.quantile(sum_, q)\n",
    "        \n",
    "        \n",
    "        post_weight = init_weight.copy()\n",
    "        for bc in np.argsort(sum_)[::-1]:\n",
    "            v = sum_[bc]\n",
    "            if v >= (quantile_ * c):\n",
    "                post_weight[bc] = w\n",
    "            else:\n",
    "                break\n",
    "                \n",
    "        post_weight_dict[file_id] = post_weight\n",
    "        \n",
    "    post_preds = preds.copy()\n",
    "    for idx in df.index:\n",
    "        file_id = df.loc[idx, \"file_id\"]\n",
    "        post_weight = post_weight_dict[file_id]\n",
    "        post_preds[idx, :] = preds[idx, :] * post_weight\n",
    "    \n",
    "    return post_preds"
   ]
  },
  {
   "cell_type": "code",
   "execution_count": 34,
   "metadata": {},
   "outputs": [],
   "source": [
    "c=2.0\n",
    "q=0.99\n",
    "w=2.0\n",
    "\n",
    "post_oof_list = []\n",
    "for oof_ in oof_list:\n",
    "    post_oof = post_process_v2(oof_, valid_df, c, q, w)\n",
    "    post_oof_list.append(post_oof[np.newaxis, :, :])\n",
    "post_concat_oof = np.concatenate(post_oof_list)\n",
    "\n",
    "oof = np.mean(post_concat_oof, axis=0)[use_idx, :]"
   ]
  },
  {
   "cell_type": "code",
   "execution_count": 35,
   "metadata": {},
   "outputs": [],
   "source": [
    "th_list = []\n",
    "scores = []\n",
    "\n",
    "best_score = 0\n",
    "besth_th = 0\n",
    "best_final_labels = None\n",
    "\n",
    "for i in range(100):\n",
    "    th = i / 100.0\n",
    "\n",
    "    oof_labels = extract_label(oof, th)\n",
    "\n",
    "    score = row_wise_micro_averaged_f1_score(val_y_labels, oof_labels)\n",
    "    \n",
    "    if best_score < score:\n",
    "        best_score  = score\n",
    "        best_th = th\n",
    "        best_final_labels = oof_labels\n",
    "\n",
    "    th_list.append(th)\n",
    "    scores.append(score)"
   ]
  },
  {
   "cell_type": "code",
   "execution_count": 36,
   "metadata": {},
   "outputs": [
    {
     "name": "stdout",
     "output_type": "stream",
     "text": [
      "best score: 0.7298 (th=0.39)\n"
     ]
    }
   ],
   "source": [
    "print(f\"best score: {best_score:.4f} (th={best_th})\")   # best_score: 0.7038 (th=0.49)"
   ]
  },
  {
   "cell_type": "code",
   "execution_count": 37,
   "metadata": {},
   "outputs": [
    {
     "data": {
      "image/png": "[encoded data removed]",
      "text/plain": [
       "<Figure size 432x288 with 1 Axes>"
      ]
     },
     "metadata": {
      "needs_background": "light"
     },
     "output_type": "display_data"
    }
   ],
   "source": [
    "plt.plot(th_list, scores)\n",
    "plt.grid()"
   ]
  },
  {
   "cell_type": "code",
   "execution_count": 38,
   "metadata": {
    "scrolled": true
   },
   "outputs": [
    {
     "name": "stdout",
     "output_type": "stream",
     "text": [
      "2782: 0.5914 [0.089]\n",
      "7843: 0.9750 [-0.008]\n",
      "10534: 0.6694 [0.022]\n",
      "11254: 0.8833 [0.008]\n",
      "18003: 0.7361 [0.050]\n",
      "20152: 0.9417 [0.000]\n",
      "21767: 0.3917 [0.067]\n",
      "26709: 0.5500 [0.000]\n",
      "26746: 0.7278 [0.008]\n",
      "28933: 0.5303 [-0.014]\n",
      "31928: 0.8500 [-0.108]\n",
      "42907: 0.6583 [-0.075]\n",
      "44957: 0.7861 [0.017]\n",
      "50878: 0.8417 [0.033]\n",
      "51010: 0.4819 [-0.019]\n",
      "54955: 0.8667 [0.000]\n",
      "57610: 0.9250 [0.033]\n"
     ]
    }
   ],
   "source": [
    "best_labels2 = best_final_labels\n",
    "diff_scores4 = get_audio_score(best_final_labels, valid_df, score_dict)\n",
    "all_diff_scores[\"cqw_avg\"] = diff_scores4"
   ]
  },
  {
   "cell_type": "markdown",
   "metadata": {},
   "source": [
    " "
   ]
  },
  {
   "cell_type": "markdown",
   "metadata": {},
   "source": [
    "## PostProcess_v3 -> Simple Avg"
   ]
  },
  {
   "cell_type": "code",
   "execution_count": 39,
   "metadata": {},
   "outputs": [],
   "source": [
    "def post_process_v3(preds, df):\n",
    "    if \"file_id\" not in df.columns:\n",
    "        df[\"file_id\"] = df[\"audio_id\"].astype(str) + \"_\" + df[\"site\"]\n",
    "    \n",
    "    modified_preds = np.zeros_like(preds)\n",
    "    for i, file_id in enumerate(df[\"file_id\"].unique()):\n",
    "        file_id_idx = df[df[\"file_id\"] == file_id].index.values\n",
    "        mean_ = np.mean(preds[file_id_idx, :], axis=0)\n",
    "        \n",
    "        if mean_.std() >= 5e-3:\n",
    "            weight = (mean_ - mean_.mean()) / mean_.std()\n",
    "            modified_preds[file_id_idx, :] = preds[file_id_idx, :] * weight\n",
    "        else:\n",
    "            modified_preds[file_id_idx, :] = preds[file_id_idx, :]\n",
    "    \n",
    "    return modified_preds"
   ]
  },
  {
   "cell_type": "code",
   "execution_count": 40,
   "metadata": {},
   "outputs": [],
   "source": [
    "post_oof_list = []\n",
    "for oof_ in oof_list:\n",
    "    post_oof = post_process_v3(oof_, valid_df)\n",
    "    post_oof_list.append(post_oof[np.newaxis, :, :])\n",
    "post_concat_oof = np.concatenate(post_oof_list)\n",
    "\n",
    "oof = np.mean(post_concat_oof, axis=0)[use_idx, :]"
   ]
  },
  {
   "cell_type": "code",
   "execution_count": 41,
   "metadata": {},
   "outputs": [],
   "source": [
    "th_list = []\n",
    "scores = []\n",
    "\n",
    "best_score = 0\n",
    "besth_th = 0\n",
    "best_final_labels = None\n",
    "\n",
    "for i in range(300):\n",
    "    th = i / 100.0\n",
    "\n",
    "    oof_labels = extract_label(oof, th)\n",
    "\n",
    "    score = row_wise_micro_averaged_f1_score(val_y_labels, oof_labels)\n",
    "    \n",
    "    if best_score < score:\n",
    "        best_score  = score\n",
    "        best_th = th\n",
    "        best_final_labels = oof_labels\n",
    "\n",
    "    th_list.append(th)\n",
    "    scores.append(score)"
   ]
  },
  {
   "cell_type": "code",
   "execution_count": 42,
   "metadata": {},
   "outputs": [
    {
     "name": "stdout",
     "output_type": "stream",
     "text": [
      "best score: 0.7000 (th=2.57)\n"
     ]
    }
   ],
   "source": [
    "print(f\"best score: {best_score:.4f} (th={best_th})\")   # 0.6807 (th=2.56)"
   ]
  },
  {
   "cell_type": "code",
   "execution_count": 43,
   "metadata": {},
   "outputs": [
    {
     "data": {
      "image/png": "[encoded data removed]",
      "text/plain": [
       "<Figure size 432x288 with 1 Axes>"
      ]
     },
     "metadata": {
      "needs_background": "light"
     },
     "output_type": "display_data"
    }
   ],
   "source": [
    "plt.plot(th_list, scores)\n",
    "plt.grid()"
   ]
  },
  {
   "cell_type": "code",
   "execution_count": 44,
   "metadata": {},
   "outputs": [
    {
     "name": "stdout",
     "output_type": "stream",
     "text": [
      "2782: 0.5903 [0.088]\n",
      "7843: 0.9667 [-0.017]\n",
      "10534: 0.6278 [-0.019]\n",
      "11254: 0.8750 [0.000]\n",
      "18003: 0.8111 [0.125]\n",
      "20152: 0.9417 [0.000]\n",
      "21767: 0.3639 [0.039]\n",
      "26709: 0.5111 [-0.039]\n",
      "26746: 0.7028 [-0.017]\n",
      "28933: 0.4819 [-0.062]\n",
      "31928: 0.8167 [-0.142]\n",
      "42907: 0.6250 [-0.108]\n",
      "44957: 0.7333 [-0.036]\n",
      "50878: 0.8583 [0.050]\n",
      "51010: 0.2333 [-0.267]\n",
      "54955: 0.8333 [-0.033]\n",
      "57610: 0.9278 [0.036]\n"
     ]
    }
   ],
   "source": [
    "diff_scores5 = get_audio_score(best_final_labels, valid_df, score_dict)\n",
    "all_diff_scores[\"std_avg\"] = diff_scores5"
   ]
  },
  {
   "cell_type": "markdown",
   "metadata": {},
   "source": [
    " "
   ]
  },
  {
   "cell_type": "markdown",
   "metadata": {},
   "source": [
    " "
   ]
  },
  {
   "cell_type": "markdown",
   "metadata": {},
   "source": [
    "## PostProcess v4 -> Simple Avg\n",
    "それぞれの鳥の最短距離が近いほど値が大きくなるweightを作成して、oof * weightを計算"
   ]
  },
  {
   "cell_type": "code",
   "execution_count": 45,
   "metadata": {},
   "outputs": [],
   "source": [
    "def post_process_v4(preds, df):\n",
    "    site_names = list(const.POS_DICT.keys())\n",
    "    \n",
    "    distance_array = np.load(\"../data/processed/valid_distance_array_from_min_position.npy\")\n",
    "    weight_array1 = np.where(distance_array <= 1, 2, 0)\n",
    "    weight_array2 = np.where(distance_array <= 3, 1, 0)\n",
    "    weight_array3 = np.where(distance_array <= 5, 0.5, 0)\n",
    "    weight_array = weight_array1 + weight_array2 + weight_array3\n",
    "    \n",
    "    post_preds = np.zeros_like(preds)\n",
    "    for idx in df.index:\n",
    "        site = df.loc[idx, \"site\"]\n",
    "        site_idx = site_names.index(site)\n",
    "        \n",
    "        post_preds[idx, :] = preds[idx, :] * weight_array[site_idx, :]\n",
    "    \n",
    "    return post_preds"
   ]
  },
  {
   "cell_type": "code",
   "execution_count": 46,
   "metadata": {},
   "outputs": [],
   "source": [
    "post_oof_list = []\n",
    "for oof_ in oof_list:\n",
    "    post_oof = post_process_v4(oof_, valid_df)\n",
    "    post_oof_list.append(post_oof[np.newaxis, :, :])\n",
    "post_concat_oof = np.concatenate(post_oof_list)\n",
    "\n",
    "oof = np.mean(post_concat_oof, axis=0)[use_idx, :]"
   ]
  },
  {
   "cell_type": "code",
   "execution_count": 47,
   "metadata": {},
   "outputs": [],
   "source": [
    "th_list = []\n",
    "scores = []\n",
    "\n",
    "best_score = 0\n",
    "besth_th = 0\n",
    "best_final_labels = None\n",
    "\n",
    "for i in range(200):\n",
    "    th = i / 100.0\n",
    "\n",
    "    oof_labels = extract_label(oof, th)\n",
    "\n",
    "    score = row_wise_micro_averaged_f1_score(val_y_labels, oof_labels)\n",
    "    \n",
    "    if best_score < score:\n",
    "        best_score  = score\n",
    "        best_th = th\n",
    "        best_final_labels = oof_labels\n",
    "\n",
    "    th_list.append(th)\n",
    "    scores.append(score)"
   ]
  },
  {
   "cell_type": "code",
   "execution_count": 48,
   "metadata": {},
   "outputs": [
    {
     "name": "stdout",
     "output_type": "stream",
     "text": [
      "best score: 0.7112 (th=0.73)\n"
     ]
    }
   ],
   "source": [
    "print(f\"best score: {best_score:.4f} (th={best_th})\")   # best_score: 0.6879 (th=0.8)"
   ]
  },
  {
   "cell_type": "code",
   "execution_count": 49,
   "metadata": {},
   "outputs": [
    {
     "data": {
      "image/png": "[encoded data removed]",
      "text/plain": [
       "<Figure size 432x288 with 1 Axes>"
      ]
     },
     "metadata": {
      "needs_background": "light"
     },
     "output_type": "display_data"
    }
   ],
   "source": [
    "plt.plot(th_list, scores)\n",
    "plt.grid()"
   ]
  },
  {
   "cell_type": "code",
   "execution_count": 50,
   "metadata": {},
   "outputs": [
    {
     "name": "stdout",
     "output_type": "stream",
     "text": [
      "2782: 0.5781 [0.076]\n",
      "7843: 0.9833 [0.000]\n",
      "10534: 0.6361 [-0.011]\n",
      "11254: 0.8667 [-0.008]\n",
      "18003: 0.7139 [0.028]\n",
      "20152: 0.9667 [0.025]\n",
      "21767: 0.3778 [0.053]\n",
      "26709: 0.5417 [-0.008]\n",
      "26746: 0.7278 [0.008]\n",
      "28933: 0.5619 [0.018]\n",
      "31928: 0.9667 [0.008]\n",
      "42907: 0.6250 [-0.108]\n",
      "44957: 0.7611 [-0.008]\n",
      "50878: 0.9417 [0.133]\n",
      "51010: 0.2333 [-0.267]\n",
      "54955: 0.8333 [-0.033]\n",
      "57610: 0.7750 [-0.117]\n"
     ]
    }
   ],
   "source": [
    "diff_scores6 = get_audio_score(best_final_labels, valid_df, score_dict)\n",
    "all_diff_scores[\"distance_avg\"] = diff_scores6"
   ]
  },
  {
   "cell_type": "markdown",
   "metadata": {},
   "source": [
    " "
   ]
  },
  {
   "cell_type": "markdown",
   "metadata": {},
   "source": [
    " "
   ]
  },
  {
   "cell_type": "markdown",
   "metadata": {},
   "source": [
    "## PostProcess v4 -> Simple Avg + nocall classification\n",
    "それぞれの鳥の最短距離が近いほど値が大きくなるweightを作成して、oof * weightを計算"
   ]
  },
  {
   "cell_type": "code",
   "execution_count": 51,
   "metadata": {},
   "outputs": [],
   "source": [
    "def post_process_v4(preds, df):\n",
    "    site_names = list(const.POS_DICT.keys())\n",
    "    \n",
    "    distance_array = np.load(\"../data/processed/valid_distance_array_from_min_position.npy\")\n",
    "    weight_array1 = np.where(distance_array <= 1, 2, 0)\n",
    "    weight_array2 = np.where(distance_array <= 3, 1, 0)\n",
    "    weight_array3 = np.where(distance_array <= 5, 0.5, 0)\n",
    "    weight_array = weight_array1 + weight_array2 + weight_array3\n",
    "    \n",
    "    post_preds = np.zeros_like(preds)\n",
    "    for idx in df.index:\n",
    "        site = df.loc[idx, \"site\"]\n",
    "        site_idx = site_names.index(site)\n",
    "        \n",
    "        post_preds[idx, :] = preds[idx, :] * weight_array[site_idx, :]\n",
    "    \n",
    "    return post_preds"
   ]
  },
  {
   "cell_type": "code",
   "execution_count": 52,
   "metadata": {},
   "outputs": [],
   "source": [
    "post_oof_list = []\n",
    "for oof_ in oof_list:\n",
    "    post_oof = post_process_v4(oof_, valid_df)\n",
    "    post_oof_list.append(post_oof[np.newaxis, :, :])\n",
    "post_concat_oof = np.concatenate(post_oof_list)\n",
    "\n",
    "oof = np.mean(post_concat_oof, axis=0)[use_idx, :]"
   ]
  },
  {
   "cell_type": "code",
   "execution_count": 53,
   "metadata": {},
   "outputs": [],
   "source": [
    "for idx in range(len(oof)):\n",
    "    nocall_p = 1 - oof99[idx]\n",
    "    if nocall_p <= 0.05:\n",
    "        col_idx = np.argsort(oof[idx, :])[-1:]\n",
    "        oof[idx, col_idx] *= 3"
   ]
  },
  {
   "cell_type": "code",
   "execution_count": 54,
   "metadata": {},
   "outputs": [],
   "source": [
    "th_list = []\n",
    "scores = []\n",
    "\n",
    "best_score = 0\n",
    "besth_th = 0\n",
    "best_final_labels = None\n",
    "\n",
    "for i in range(300):\n",
    "    th = i / 100.0\n",
    "\n",
    "    oof_labels = extract_label(oof, th)\n",
    "\n",
    "    score = row_wise_micro_averaged_f1_score(val_y_labels, oof_labels)\n",
    "    \n",
    "    if best_score < score:\n",
    "        best_score  = score\n",
    "        best_th = th\n",
    "        best_final_labels = oof_labels\n",
    "\n",
    "    th_list.append(th)\n",
    "    scores.append(score)"
   ]
  },
  {
   "cell_type": "code",
   "execution_count": 55,
   "metadata": {},
   "outputs": [
    {
     "name": "stdout",
     "output_type": "stream",
     "text": [
      "best score: 0.7099 (th=2.05)\n"
     ]
    }
   ],
   "source": [
    "print(f\"best score: {best_score:.4f} (th={best_th})\")   # best_score: 0.6902 (th=1.61)"
   ]
  },
  {
   "cell_type": "code",
   "execution_count": 56,
   "metadata": {},
   "outputs": [
    {
     "data": {
      "image/png": "[encoded data removed]",
      "text/plain": [
       "<Figure size 432x288 with 1 Axes>"
      ]
     },
     "metadata": {
      "needs_background": "light"
     },
     "output_type": "display_data"
    }
   ],
   "source": [
    "plt.plot(th_list, scores)\n",
    "plt.grid()"
   ]
  },
  {
   "cell_type": "code",
   "execution_count": 57,
   "metadata": {},
   "outputs": [
    {
     "name": "stdout",
     "output_type": "stream",
     "text": [
      "2782: 0.5433 [0.041]\n",
      "7843: 0.9750 [-0.008]\n",
      "10534: 0.6444 [-0.003]\n",
      "11254: 0.8417 [-0.033]\n",
      "18003: 0.7278 [0.042]\n",
      "20152: 0.9667 [0.025]\n",
      "21767: 0.3750 [0.050]\n",
      "26709: 0.5667 [0.017]\n",
      "26746: 0.7361 [0.017]\n",
      "28933: 0.5722 [0.028]\n",
      "31928: 0.9667 [0.008]\n",
      "42907: 0.6250 [-0.108]\n",
      "44957: 0.7528 [-0.017]\n",
      "50878: 0.9333 [0.125]\n",
      "51010: 0.2333 [-0.267]\n",
      "54955: 0.8333 [-0.033]\n",
      "57610: 0.7750 [-0.117]\n"
     ]
    }
   ],
   "source": [
    "diff_scores7 = get_audio_score(best_final_labels, valid_df, score_dict)\n",
    "all_diff_scores[\"distance_avg_nc\"] = diff_scores7"
   ]
  },
  {
   "cell_type": "markdown",
   "metadata": {},
   "source": [
    " "
   ]
  },
  {
   "cell_type": "markdown",
   "metadata": {},
   "source": [
    " "
   ]
  },
  {
   "cell_type": "markdown",
   "metadata": {},
   "source": [
    "## PostProcess v2 + v4 -> Simple Avg"
   ]
  },
  {
   "cell_type": "code",
   "execution_count": 58,
   "metadata": {},
   "outputs": [],
   "source": [
    "c=1.0\n",
    "q=0.99\n",
    "w=1.0\n",
    "\n",
    "post_oof_list= []\n",
    "for oof_ in oof_list:\n",
    "    post_oof_ = post_process_v4(oof_, valid_df)\n",
    "    post_oof_ = post_process_v2(post_oof_, valid_df, c, q, w)\n",
    "    post_oof_list.append(post_oof_[np.newaxis, :, :])\n",
    "\n",
    "post_concat_oof = np.concatenate(post_oof_list, axis=0)\n",
    "oof = np.mean(post_concat_oof, axis=0)[use_idx, :]"
   ]
  },
  {
   "cell_type": "code",
   "execution_count": 59,
   "metadata": {},
   "outputs": [],
   "source": [
    "th_list = []\n",
    "scores = []\n",
    "\n",
    "best_score = 0\n",
    "besth_th = 0\n",
    "best_final_labels = None\n",
    "\n",
    "for i in range(200):\n",
    "    th = i / 100.0\n",
    "\n",
    "    oof_labels = extract_label(oof, th)\n",
    "\n",
    "    score = row_wise_micro_averaged_f1_score(val_y_labels, oof_labels)\n",
    "    \n",
    "    if best_score < score:\n",
    "        best_score  = score\n",
    "        best_th = th\n",
    "        best_final_labels = oof_labels\n",
    "\n",
    "    th_list.append(th)\n",
    "    scores.append(score)"
   ]
  },
  {
   "cell_type": "code",
   "execution_count": 60,
   "metadata": {},
   "outputs": [
    {
     "name": "stdout",
     "output_type": "stream",
     "text": [
      "best score: 0.7112 (th=0.73)\n"
     ]
    }
   ],
   "source": [
    "print(f\"best score: {best_score:.4f} (th={best_th})\")   #  best_score: 0.6879 (th=0.8)"
   ]
  },
  {
   "cell_type": "code",
   "execution_count": 61,
   "metadata": {},
   "outputs": [
    {
     "data": {
      "image/png": "[encoded data removed]",
      "text/plain": [
       "<Figure size 432x288 with 1 Axes>"
      ]
     },
     "metadata": {
      "needs_background": "light"
     },
     "output_type": "display_data"
    }
   ],
   "source": [
    "plt.plot(th_list, scores)\n",
    "plt.grid()"
   ]
  },
  {
   "cell_type": "code",
   "execution_count": 62,
   "metadata": {},
   "outputs": [
    {
     "name": "stdout",
     "output_type": "stream",
     "text": [
      "2782: 0.5781 [0.076]\n",
      "7843: 0.9833 [0.000]\n",
      "10534: 0.6361 [-0.011]\n",
      "11254: 0.8667 [-0.008]\n",
      "18003: 0.7139 [0.028]\n",
      "20152: 0.9667 [0.025]\n",
      "21767: 0.3778 [0.053]\n",
      "26709: 0.5417 [-0.008]\n",
      "26746: 0.7278 [0.008]\n",
      "28933: 0.5619 [0.018]\n",
      "31928: 0.9667 [0.008]\n",
      "42907: 0.6250 [-0.108]\n",
      "44957: 0.7611 [-0.008]\n",
      "50878: 0.9417 [0.133]\n",
      "51010: 0.2333 [-0.267]\n",
      "54955: 0.8333 [-0.033]\n",
      "57610: 0.7750 [-0.117]\n"
     ]
    }
   ],
   "source": [
    "diff_scores8 = get_audio_score(best_final_labels, valid_df, score_dict)\n",
    "all_diff_scores[\"distance_cqw_avg\"] = diff_scores8"
   ]
  },
  {
   "cell_type": "markdown",
   "metadata": {},
   "source": [
    " "
   ]
  },
  {
   "cell_type": "markdown",
   "metadata": {},
   "source": [
    " "
   ]
  },
  {
   "cell_type": "markdown",
   "metadata": {},
   "source": [
    "## 前後のlabelがfist_labelと一致していたら..."
   ]
  },
  {
   "cell_type": "code",
   "execution_count": 63,
   "metadata": {},
   "outputs": [],
   "source": [
    "def intersect(df, col1, col2):\n",
    "    intersect_list = []\n",
    "    for idx in df.index.values:\n",
    "        col1_array = df.loc[idx, col1].split(\" \")\n",
    "        col2_array = df.loc[idx, col2].split(\" \")\n",
    "        intersect = np.intersect1d(col1_array, col2_array)\n",
    "        intersect_list.append(\" \".join(list(intersect)))\n",
    "        \n",
    "    return intersect_list\n",
    "\n",
    "\n",
    "def shift(df, freq):\n",
    "    shift_array = np.array([None] * len(df))\n",
    "\n",
    "    gp = df.groupby(\"audio_id\")\n",
    "    for audio_id, audio_df in gp:\n",
    "        idxs = audio_df.index.values\n",
    "        audio_shift_array = audio_df[\"pred_labels\"].shift(freq).values\n",
    "        \n",
    "        if freq > 0:\n",
    "            audio_shift_array[:freq] = \"None\"\n",
    "        elif freq < 0:\n",
    "            audio_shift_array[freq:] = \"None\"\n",
    "            \n",
    "        shift_array[idxs] = audio_shift_array\n",
    "\n",
    "    return shift_array\n",
    "\n",
    "\n",
    "def arrange_label(label_array):\n",
    "    arranged_label_array = label_array.copy()\n",
    "    for idx, label in enumerate(label_array):\n",
    "        label_list = label.split(\" \")\n",
    "        if \"nocall\" in label_list and len(label_list) >= 2:\n",
    "            label_list.remove(\"nocall\")\n",
    "        \n",
    "        arranged_label_array[idx] = \" \".join(set(label_list))\n",
    "        \n",
    "    return arranged_label_array\n",
    "    \n",
    "\n",
    "def post_process_v5(preds, pred_labels, df, window_size=1):\n",
    "    df_  = df.copy()\n",
    "    \n",
    "    df_[\"pred_labels\"] = pred_labels\n",
    "    df_[\"first_label\"] = [const.INV_BIRD_CODE[bc] for bc in np.argsort(preds)[:, -1]]\n",
    "    \n",
    "    for i in range(window_size):\n",
    "        df_[f\"pre_pred_labels{i}\"] = shift(df_, freq=(i + 1))\n",
    "        df_[f\"post_pred_labels{i}\"] = shift(df_, freq=-(i + 1))\n",
    "    \n",
    "        df_[f\"pre_intersect{i}\"] = intersect(df_, \"first_label\", f\"pre_pred_labels{i}\")\n",
    "        df_[f\"post_intersect{i}\"] = intersect(df_, \"first_label\", f\"post_pred_labels{i}\")\n",
    "    \n",
    "    concat_labels = df_[\"pred_labels\"]\n",
    "    for col in df_.columns:\n",
    "        if \"pre_intersect\" in col or \"post_intersect\" in col:\n",
    "            concat_labels += df_[col].apply(lambda x: f\" {x}\" if len(x) > 0 else \"\")\n",
    "            \n",
    "    df_[\"concat_labels\"] = concat_labels\n",
    "    \n",
    "    post_labels = arrange_label(df_[\"concat_labels\"])\n",
    "    \n",
    "    return post_labels"
   ]
  },
  {
   "cell_type": "code",
   "execution_count": 64,
   "metadata": {},
   "outputs": [],
   "source": [
    "valid_df2 = valid_df.copy()\n",
    "\n",
    "oof = np.mean(concat_oof, axis=0)[use_idx, :]"
   ]
  },
  {
   "cell_type": "code",
   "execution_count": 65,
   "metadata": {
    "scrolled": true
   },
   "outputs": [
    {
     "data": {
      "application/vnd.jupyter.widget-view+json": {
       "model_id": "d028d2151f09421aa747be87c2597c85",
       "version_major": 2,
       "version_minor": 0
      },
      "text/plain": [
       "HBox(children=(IntProgress(value=0), HTML(value='')))"
      ]
     },
     "metadata": {},
     "output_type": "display_data"
    },
    {
     "name": "stdout",
     "output_type": "stream",
     "text": [
      "\n"
     ]
    }
   ],
   "source": [
    "th_list = []\n",
    "scores = []\n",
    "\n",
    "best_score = 0\n",
    "besth_th = 0\n",
    "best_final_labels = None\n",
    "\n",
    "for i in tqdm(range(100)):\n",
    "    th = i / 100.0\n",
    "\n",
    "    oof_labels = extract_label(oof, th)\n",
    "    post_labels = post_process_v5(oof, oof_labels, valid_df2, window_size=2)\n",
    "\n",
    "    score = row_wise_micro_averaged_f1_score(val_y_labels, post_labels)\n",
    "    \n",
    "    if best_score < score:\n",
    "        best_score  = score\n",
    "        best_th = th\n",
    "        best_final_labels = post_labels\n",
    "\n",
    "    th_list.append(th)\n",
    "    scores.append(score)"
   ]
  },
  {
   "cell_type": "code",
   "execution_count": 66,
   "metadata": {},
   "outputs": [
    {
     "name": "stdout",
     "output_type": "stream",
     "text": [
      "best score: 0.7261 (th=0.36)\n"
     ]
    }
   ],
   "source": [
    "print(f\"best score: {best_score:.4f} (th={best_th})\")   # best score: 0.7218 (th=0.26)"
   ]
  },
  {
   "cell_type": "code",
   "execution_count": 67,
   "metadata": {},
   "outputs": [
    {
     "data": {
      "image/png": "[encoded data removed]",
      "text/plain": [
       "<Figure size 432x288 with 1 Axes>"
      ]
     },
     "metadata": {
      "needs_background": "light"
     },
     "output_type": "display_data"
    }
   ],
   "source": [
    "plt.plot(th_list, scores)\n",
    "plt.grid()"
   ]
  },
  {
   "cell_type": "code",
   "execution_count": 68,
   "metadata": {},
   "outputs": [
    {
     "name": "stdout",
     "output_type": "stream",
     "text": [
      "2782: 0.5231 [0.021]\n",
      "7843: 0.9750 [-0.008]\n",
      "10534: 0.6444 [-0.003]\n",
      "11254: 0.8333 [-0.042]\n",
      "18003: 0.7361 [0.050]\n",
      "20152: 0.8750 [-0.067]\n",
      "21767: 0.3694 [0.044]\n",
      "26709: 0.5167 [-0.033]\n",
      "26746: 0.7111 [-0.008]\n",
      "28933: 0.5597 [0.016]\n",
      "31928: 0.9833 [0.025]\n",
      "42907: 0.7833 [0.050]\n",
      "44957: 0.7444 [-0.025]\n",
      "50878: 0.8083 [0.000]\n",
      "51010: 0.5250 [0.024]\n",
      "54955: 0.8833 [0.017]\n",
      "57610: 0.8722 [-0.019]\n"
     ]
    }
   ],
   "source": [
    "diff_scores9 = get_audio_score(best_final_labels, valid_df, score_dict)\n",
    "all_diff_scores[\"firstlabel_replace\"] = diff_scores9"
   ]
  },
  {
   "cell_type": "markdown",
   "metadata": {},
   "source": [
    " "
   ]
  },
  {
   "cell_type": "markdown",
   "metadata": {},
   "source": [
    " "
   ]
  },
  {
   "cell_type": "markdown",
   "metadata": {},
   "source": [
    "## PostProcessV6"
   ]
  },
  {
   "cell_type": "markdown",
   "metadata": {},
   "source": [
    "- oof_labels = \"nocall\" & birdcall_p >= 0.99だったら、first_labelを採用"
   ]
  },
  {
   "cell_type": "code",
   "execution_count": 69,
   "metadata": {},
   "outputs": [],
   "source": [
    "def post_process_v6(preds, pred_labels, birdcall_preds, df):\n",
    "    first_label = [const.INV_BIRD_CODE[bc] for bc in np.argsort(preds, axis=1)[:, -1]]\n",
    "\n",
    "    processed_pred_labels = []\n",
    "    for idx, labels in enumerate(pred_labels):\n",
    "        if labels == \"nocall\" and birdcall_preds[idx] >= 0.99 and np.max(preds[idx, :]) >= 0.1:\n",
    "            processed_pred_labels.append(first_label[idx])\n",
    "        else:\n",
    "            processed_pred_labels.append(labels)\n",
    "    \n",
    "    return processed_pred_labels"
   ]
  },
  {
   "cell_type": "code",
   "execution_count": 70,
   "metadata": {},
   "outputs": [],
   "source": [
    "oof = np.mean(concat_oof, axis=0)[use_idx, :]"
   ]
  },
  {
   "cell_type": "code",
   "execution_count": 71,
   "metadata": {},
   "outputs": [
    {
     "data": {
      "application/vnd.jupyter.widget-view+json": {
       "model_id": "a7484f5d0b0f4ff292fb1c062fe77592",
       "version_major": 2,
       "version_minor": 0
      },
      "text/plain": [
       "HBox(children=(IntProgress(value=0), HTML(value='')))"
      ]
     },
     "metadata": {},
     "output_type": "display_data"
    },
    {
     "name": "stdout",
     "output_type": "stream",
     "text": [
      "\n"
     ]
    }
   ],
   "source": [
    "th_list = []\n",
    "scores = []\n",
    "\n",
    "best_score = 0\n",
    "besth_th = 0\n",
    "best_final_labels = None\n",
    "\n",
    "for i in tqdm(range(100)):\n",
    "    th = i / 100.0\n",
    "\n",
    "    oof_labels = extract_label(oof, th)\n",
    "    post_labels = post_process_v6(oof, oof_labels, oof99, valid_df)\n",
    "\n",
    "    score = row_wise_micro_averaged_f1_score(val_y_labels, post_labels)\n",
    "    \n",
    "    if best_score < score:\n",
    "        best_score  = score\n",
    "        best_th = th\n",
    "        best_final_labels = oof_labels\n",
    "\n",
    "    th_list.append(th)\n",
    "    scores.append(score)"
   ]
  },
  {
   "cell_type": "code",
   "execution_count": 72,
   "metadata": {},
   "outputs": [
    {
     "name": "stdout",
     "output_type": "stream",
     "text": [
      "best score: 0.6795 (th=0.4)\n"
     ]
    }
   ],
   "source": [
    "print(f\"best score: {best_score:.4f} (th={best_th})\")   # best score: 0.6610 (th=0.36)"
   ]
  },
  {
   "cell_type": "code",
   "execution_count": 73,
   "metadata": {},
   "outputs": [
    {
     "data": {
      "image/png": "[encoded data removed]",
      "text/plain": [
       "<Figure size 432x288 with 1 Axes>"
      ]
     },
     "metadata": {
      "needs_background": "light"
     },
     "output_type": "display_data"
    }
   ],
   "source": [
    "plt.plot(th_list, scores)\n",
    "plt.grid()"
   ]
  },
  {
   "cell_type": "code",
   "execution_count": 74,
   "metadata": {},
   "outputs": [
    {
     "name": "stdout",
     "output_type": "stream",
     "text": [
      "2782: 0.3622 [-0.140]\n",
      "7843: 0.9750 [-0.008]\n",
      "10534: 0.6472 [0.000]\n",
      "11254: 0.8917 [0.017]\n",
      "18003: 0.5722 [-0.114]\n",
      "20152: 0.9667 [0.025]\n",
      "21767: 0.2806 [-0.044]\n",
      "26709: 0.5417 [-0.008]\n",
      "26746: 0.6861 [-0.033]\n",
      "28933: 0.4528 [-0.091]\n",
      "31928: 0.9917 [0.033]\n",
      "42907: 0.6583 [-0.075]\n",
      "44957: 0.7278 [-0.042]\n",
      "50878: 0.8667 [0.058]\n",
      "51010: 0.4819 [-0.019]\n",
      "54955: 0.8667 [0.000]\n",
      "57610: 0.9083 [0.017]\n"
     ]
    }
   ],
   "source": [
    "diff_scores10 = get_audio_score(best_final_labels, valid_df, score_dict)\n",
    "all_diff_scores[\"nocall_birdcall_replace\"] = diff_scores10"
   ]
  },
  {
   "cell_type": "markdown",
   "metadata": {},
   "source": [
    " "
   ]
  },
  {
   "cell_type": "markdown",
   "metadata": {},
   "source": [
    " "
   ]
  },
  {
   "cell_type": "markdown",
   "metadata": {},
   "source": [
    "## PostProcessV7"
   ]
  },
  {
   "cell_type": "markdown",
   "metadata": {},
   "source": [
    "- audio_id全体のbirdcall_predsの平均値が0.5以上だったら、PostProcessV5"
   ]
  },
  {
   "cell_type": "code",
   "execution_count": 75,
   "metadata": {},
   "outputs": [],
   "source": [
    "def intersect(df, col1, col2):\n",
    "    intersect_list = []\n",
    "    for idx in df.index.values:\n",
    "        col1_array = df.loc[idx, col1].split(\" \")\n",
    "        col2_array = df.loc[idx, col2].split(\" \")\n",
    "        intersect = np.intersect1d(col1_array, col2_array)\n",
    "        intersect_list.append(\" \".join(list(intersect)))\n",
    "        \n",
    "    return intersect_list\n",
    "\n",
    "\n",
    "def shift(df, freq):\n",
    "    shift_array = np.array([None] * len(df))\n",
    "\n",
    "    gp = df.groupby(\"audio_id\")\n",
    "    for audio_id, audio_df in gp:\n",
    "        idxs = audio_df.index.values\n",
    "        audio_shift_array = audio_df[\"pred_labels\"].shift(freq).values\n",
    "        \n",
    "        if freq > 0:\n",
    "            audio_shift_array[:freq] = \"None\"\n",
    "        elif freq < 0:\n",
    "            audio_shift_array[freq:] = \"None\"\n",
    "            \n",
    "        shift_array[idxs] = audio_shift_array\n",
    "\n",
    "    return shift_array\n",
    "\n",
    "\n",
    "def arrange_label(label_array):\n",
    "    arranged_label_array = label_array.copy()\n",
    "    for idx, label in enumerate(label_array):\n",
    "        label_list = label.split(\" \")\n",
    "        if \"nocall\" in label_list and len(label_list) >= 2:\n",
    "            label_list.remove(\"nocall\")\n",
    "        \n",
    "        arranged_label_array[idx] = \" \".join(set(label_list))\n",
    "        \n",
    "    return arranged_label_array\n",
    "    \n",
    "\n",
    "def post_process_v7(preds, pred_labels, birdcall_preds, df, window_size=1):\n",
    "    df_  = df.copy()\n",
    "    \n",
    "    df_[\"pred_labels\"] = pred_labels\n",
    "    df_[\"first_label\"] = [const.INV_BIRD_CODE[bc] for bc in np.argsort(preds)[:, -1]]\n",
    "    df_[\"birdcall_preds\"] = birdcall_preds\n",
    "    df_[\"sum_birdcall_preds\"] = df_.groupby(\"audio_id\")[\"birdcall_preds\"].transform(\"mean\")\n",
    "    \n",
    "    for i in range(window_size):\n",
    "        df_[f\"pre_pred_labels{i}\"] = shift(df_, freq=(i + 1))\n",
    "        df_[f\"post_pred_labels{i}\"] = shift(df_, freq=-(i + 1))\n",
    "    \n",
    "        df_[f\"pre_intersect{i}\"] = intersect(df_, \"first_label\", f\"pre_pred_labels{i}\")\n",
    "        df_[f\"post_intersect{i}\"] = intersect(df_, \"first_label\", f\"post_pred_labels{i}\")\n",
    "    \n",
    "    concat_labels = df_[\"pred_labels\"]\n",
    "    for col in df_.columns:\n",
    "        if \"pre_intersect\" in col or \"post_intersect\" in col:\n",
    "            concat_labels += df_[col].apply(lambda x: f\" {x}\" if len(x) > 0 else \"\")\n",
    "            \n",
    "    df_[\"concat_labels\"] = arrange_label(concat_labels)\n",
    "    \n",
    "    post_pred_labels = []\n",
    "    for idx in df_.index:\n",
    "        audio_birdcall_preds = df_.loc[idx, \"sum_birdcall_preds\"]\n",
    "        if audio_birdcall_preds >= 0.5:\n",
    "            post_label = df_.loc[idx, \"concat_labels\"]\n",
    "        else:\n",
    "            post_label = df_.loc[idx, \"pred_labels\"]\n",
    "            \n",
    "        post_pred_labels.append(post_label)\n",
    "    \n",
    "    return post_pred_labels"
   ]
  },
  {
   "cell_type": "code",
   "execution_count": 76,
   "metadata": {},
   "outputs": [],
   "source": [
    "oof = np.mean(concat_oof, axis=0)[use_idx, :]"
   ]
  },
  {
   "cell_type": "code",
   "execution_count": 77,
   "metadata": {
    "scrolled": true
   },
   "outputs": [
    {
     "data": {
      "application/vnd.jupyter.widget-view+json": {
       "model_id": "3945aa6c292a4441b37c4a588ab9b827",
       "version_major": 2,
       "version_minor": 0
      },
      "text/plain": [
       "HBox(children=(IntProgress(value=0), HTML(value='')))"
      ]
     },
     "metadata": {},
     "output_type": "display_data"
    },
    {
     "name": "stdout",
     "output_type": "stream",
     "text": [
      "\n"
     ]
    }
   ],
   "source": [
    "th_list = []\n",
    "scores = []\n",
    "\n",
    "best_score = 0\n",
    "besth_th = 0\n",
    "best_final_labels = None\n",
    "\n",
    "for i in tqdm(range(100)):\n",
    "    th = i / 100.0\n",
    "\n",
    "    oof_labels = extract_label(oof, th)\n",
    "    post_labels = post_process_v7(oof, oof_labels, oof99, valid_df, window_size=2)\n",
    "\n",
    "    score = row_wise_micro_averaged_f1_score(val_y_labels, post_labels)\n",
    "    \n",
    "    if best_score < score:\n",
    "        best_score  = score\n",
    "        best_th = th\n",
    "        best_final_labels = oof_labels\n",
    "\n",
    "    th_list.append(th)\n",
    "    scores.append(score)"
   ]
  },
  {
   "cell_type": "code",
   "execution_count": 78,
   "metadata": {},
   "outputs": [
    {
     "name": "stdout",
     "output_type": "stream",
     "text": [
      "best score: 0.7289 (th=0.36)\n"
     ]
    }
   ],
   "source": [
    "print(f\"best score: {best_score:.4f} (th={best_th})\")   # 0.7243 (th=0.26)"
   ]
  },
  {
   "cell_type": "code",
   "execution_count": 79,
   "metadata": {},
   "outputs": [
    {
     "data": {
      "image/png": "[encoded data removed]",
      "text/plain": [
       "<Figure size 432x288 with 1 Axes>"
      ]
     },
     "metadata": {
      "needs_background": "light"
     },
     "output_type": "display_data"
    }
   ],
   "source": [
    "plt.plot(th_list, scores)\n",
    "plt.grid()"
   ]
  },
  {
   "cell_type": "code",
   "execution_count": 80,
   "metadata": {},
   "outputs": [
    {
     "name": "stdout",
     "output_type": "stream",
     "text": [
      "2782: 0.3844 [-0.118]\n",
      "7843: 0.9750 [-0.008]\n",
      "10534: 0.6528 [0.006]\n",
      "11254: 0.8917 [0.017]\n",
      "18003: 0.6028 [-0.083]\n",
      "20152: 0.9417 [0.000]\n",
      "21767: 0.3000 [-0.025]\n",
      "26709: 0.5333 [-0.017]\n",
      "26746: 0.6861 [-0.033]\n",
      "28933: 0.4736 [-0.071]\n",
      "31928: 0.9917 [0.033]\n",
      "42907: 0.6833 [-0.050]\n",
      "44957: 0.7444 [-0.025]\n",
      "50878: 0.8500 [0.042]\n",
      "51010: 0.5167 [0.016]\n",
      "54955: 0.8750 [0.008]\n",
      "57610: 0.9000 [0.008]\n"
     ]
    }
   ],
   "source": [
    "diff_scores11 = get_audio_score(best_final_labels, valid_df, score_dict)\n",
    "all_diff_scores[\"birdcall_preds0.5_and_v5\"] = diff_scores11"
   ]
  },
  {
   "cell_type": "markdown",
   "metadata": {},
   "source": [
    " "
   ]
  },
  {
   "cell_type": "markdown",
   "metadata": {},
   "source": [
    " "
   ]
  },
  {
   "cell_type": "markdown",
   "metadata": {},
   "source": [
    "## PostProcessV8"
   ]
  },
  {
   "cell_type": "markdown",
   "metadata": {},
   "source": [
    "- PostProcessV5の修正版"
   ]
  },
  {
   "cell_type": "code",
   "execution_count": 81,
   "metadata": {
    "scrolled": true
   },
   "outputs": [],
   "source": [
    "def shift(df, pred_labels, freq):\n",
    "    shift_labels = [None] * len(df)\n",
    "\n",
    "    gp = df.groupby(\"audio_id\")\n",
    "    for audio_id, audio_df in gp:\n",
    "        idxs = audio_df.index.values\n",
    "        audio_shift_labels = np.roll(pred_labels[idxs[0]: idxs[-1] + 1], freq)\n",
    "        \n",
    "        if freq > 0:\n",
    "            audio_shift_labels[:freq] = \"None\"\n",
    "        elif freq < 0:\n",
    "            audio_shift_labels[freq:] = \"None\"\n",
    "            \n",
    "        shift_labels[idxs[0]: idxs[-1] + 1] = audio_shift_labels\n",
    "\n",
    "    return shift_labels\n",
    "\n",
    "\n",
    "def intersect(labels_list1, labels_list2):\n",
    "    intersect_list = []\n",
    "    for idx in range(len(labels_list1)):\n",
    "        lables1 = labels_list1[idx].split(\" \")\n",
    "        lables2 = labels_list2[idx].split(\" \")\n",
    "        \n",
    "        intersect = np.intersect1d(lables1, lables2)\n",
    "        if len(intersect) == 0:\n",
    "            intersect = [\"nocall\"]\n",
    "        intersect_list.append(\" \".join(list(intersect)))\n",
    "        \n",
    "    return intersect_list\n",
    "\n",
    "\n",
    "def add_label(labels_list1, labels_list2):\n",
    "    added_labels_list = []\n",
    "    for labels1, labels2 in zip(labels_list1, labels_list2):\n",
    "\n",
    "        if labels1 == \"nocall\":\n",
    "            if labels2 == \"nocall\":\n",
    "                added_labels_list.append(\"nocall\")\n",
    "            else:\n",
    "                added_labels_list.append(labels2)\n",
    "        \n",
    "        else:\n",
    "            if labels2 == \"nocall\":\n",
    "                added_labels_list.append(labels1)\n",
    "            else:\n",
    "                added_labels = list(set((labels1 + \" \" + labels2).split(\" \")))\n",
    "                added_labels_list.append(\" \".join(added_labels))\n",
    "    \n",
    "    return added_labels_list\n",
    "\n",
    "\n",
    "def post_process_v8(preds, pred_labels, df, window_size=1):\n",
    "    confident_labels = [const.INV_BIRD_CODE[bc] for bc in np.argsort(preds)[:, -1]]\n",
    "\n",
    "    final_labels_list = pred_labels.copy()\n",
    "    for w in range(window_size):\n",
    "        for freq in [w + 1, -(w + 1)]:\n",
    "            shift_labels = shift(df, pred_labels, freq)\n",
    "            shift_intersect_labels = intersect(confident_labels, shift_labels)\n",
    "            final_labels_list = add_label(final_labels_list, shift_intersect_labels)\n",
    "        \n",
    "    return final_labels_list"
   ]
  },
  {
   "cell_type": "code",
   "execution_count": 82,
   "metadata": {
    "scrolled": true
   },
   "outputs": [],
   "source": [
    "oof = np.mean(concat_oof, axis=0)[use_idx, :]"
   ]
  },
  {
   "cell_type": "code",
   "execution_count": 83,
   "metadata": {
    "scrolled": true
   },
   "outputs": [
    {
     "data": {
      "application/vnd.jupyter.widget-view+json": {
       "model_id": "73e0163c3eba49e79f05399579f2635d",
       "version_major": 2,
       "version_minor": 0
      },
      "text/plain": [
       "HBox(children=(IntProgress(value=0), HTML(value='')))"
      ]
     },
     "metadata": {},
     "output_type": "display_data"
    },
    {
     "name": "stdout",
     "output_type": "stream",
     "text": [
      "\n"
     ]
    }
   ],
   "source": [
    "th_list = []\n",
    "scores = []\n",
    "\n",
    "best_score = 0\n",
    "besth_th = 0\n",
    "best_final_labels = None\n",
    "\n",
    "for i in tqdm(range(100)):\n",
    "    th = i / 100.0\n",
    "\n",
    "    oof_labels = extract_label(oof, th)\n",
    "    post_labels = post_process_v8(oof, oof_labels, valid_df, window_size=3)\n",
    "\n",
    "    score = row_wise_micro_averaged_f1_score(val_y_labels, post_labels)\n",
    "    \n",
    "    if best_score < score:\n",
    "        best_score  = score\n",
    "        best_th = th\n",
    "        best_final_labels = post_labels\n",
    "\n",
    "    th_list.append(th)\n",
    "    scores.append(score)"
   ]
  },
  {
   "cell_type": "code",
   "execution_count": 84,
   "metadata": {},
   "outputs": [
    {
     "name": "stdout",
     "output_type": "stream",
     "text": [
      "best score: 0.7291 (th=0.36)\n"
     ]
    }
   ],
   "source": [
    "print(f\"best score: {best_score:.4f} (th={best_th})\")   # best score: 0.7224 (th=0.27)"
   ]
  },
  {
   "cell_type": "code",
   "execution_count": 85,
   "metadata": {},
   "outputs": [
    {
     "data": {
      "image/png": "[encoded data removed]",
      "text/plain": [
       "<Figure size 432x288 with 1 Axes>"
      ]
     },
     "metadata": {
      "needs_background": "light"
     },
     "output_type": "display_data"
    }
   ],
   "source": [
    "plt.plot(th_list, scores)\n",
    "plt.grid()"
   ]
  },
  {
   "cell_type": "code",
   "execution_count": 86,
   "metadata": {
    "scrolled": true
   },
   "outputs": [
    {
     "name": "stdout",
     "output_type": "stream",
     "text": [
      "2782: 0.5536 [0.052]\n",
      "7843: 0.9750 [-0.008]\n",
      "10534: 0.6667 [0.019]\n",
      "11254: 0.8333 [-0.042]\n",
      "18003: 0.7528 [0.067]\n",
      "20152: 0.8417 [-0.100]\n",
      "21767: 0.3861 [0.061]\n",
      "26709: 0.5139 [-0.036]\n",
      "26746: 0.7194 [0.000]\n",
      "28933: 0.5764 [0.032]\n",
      "31928: 0.9750 [0.017]\n",
      "42907: 0.8333 [0.100]\n",
      "44957: 0.7194 [-0.050]\n",
      "50878: 0.7917 [-0.017]\n",
      "51010: 0.5000 [-0.001]\n",
      "54955: 0.8833 [0.017]\n",
      "57610: 0.8722 [-0.019]\n"
     ]
    }
   ],
   "source": [
    "best_labels8 = best_final_labels\n",
    "diff_scores12 = get_audio_score(best_final_labels, valid_df, score_dict)\n",
    "all_diff_scores[\"modified_firstlabel_replace\"] = diff_scores12"
   ]
  },
  {
   "cell_type": "code",
   "execution_count": 87,
   "metadata": {
    "scrolled": true
   },
   "outputs": [
    {
     "data": {
      "text/plain": [
       "nocall     137\n",
       "rucwar      75\n",
       "yebfly       7\n",
       "obnthr1      7\n",
       "rubwre1      4\n",
       "wbwwre1      3\n",
       "orbspa1      2\n",
       "grasal1      2\n",
       "melbla1      2\n",
       "sthwoo1      1\n",
       "Name: preds, dtype: int64"
      ]
     },
     "execution_count": 87,
     "metadata": {},
     "output_type": "execute_result"
    }
   ],
   "source": [
    "a = valid_df.copy()\n",
    "a[\"preds\"] = best_final_labels\n",
    "a.iloc[:240][\"preds\"].value_counts()"
   ]
  },
  {
   "cell_type": "markdown",
   "metadata": {},
   "source": [
    " "
   ]
  },
  {
   "cell_type": "markdown",
   "metadata": {},
   "source": [
    " "
   ]
  },
  {
   "cell_type": "markdown",
   "metadata": {},
   "source": [
    "## Avg -> V2 -> V8"
   ]
  },
  {
   "cell_type": "code",
   "execution_count": 88,
   "metadata": {},
   "outputs": [],
   "source": [
    "def post_process_v2_plus(preds, df, c=2, q=0.99, w=1.5):\n",
    "    post_preds = preds.copy()\n",
    "    \n",
    "    gp = df.groupby(\"audio_id\")\n",
    "    for audio_id, audio_df in gp:\n",
    "        idxs = audio_df.index.values\n",
    "        \n",
    "        audio_preds = preds[idxs, :]\n",
    "        audio_preds_mean = np.mean(audio_preds, axis=0)\n",
    "        audio_preds_mean_ = audio_preds_mean / audio_preds_mean.max()\n",
    "        quantile = np.quantile(audio_preds_mean_, q)\n",
    "\n",
    "        for bc in np.argsort(audio_preds_mean_)[::-1]:\n",
    "            v = audio_preds_mean_[bc]\n",
    "            if v >= (quantile * c):\n",
    "                for idx in idxs:\n",
    "                    if np.argmax(post_preds[idx, :]) == bc:\n",
    "                        post_preds[idx, bc] *= w\n",
    "            else:\n",
    "                break\n",
    "\n",
    "    return post_preds"
   ]
  },
  {
   "cell_type": "code",
   "execution_count": 89,
   "metadata": {
    "scrolled": true
   },
   "outputs": [],
   "source": [
    "c=2.0\n",
    "q=0.99\n",
    "w=2.0\n",
    "\n",
    "oof = np.mean(concat_oof, axis=0)[use_idx, :]\n",
    "post_oof = post_process_v2_plus(oof, valid_df, c, q, w)"
   ]
  },
  {
   "cell_type": "code",
   "execution_count": 90,
   "metadata": {
    "scrolled": true
   },
   "outputs": [
    {
     "data": {
      "application/vnd.jupyter.widget-view+json": {
       "model_id": "4a9c9dac6c264cd4913a2f96adf666a0",
       "version_major": 2,
       "version_minor": 0
      },
      "text/plain": [
       "HBox(children=(IntProgress(value=0, max=300), HTML(value='')))"
      ]
     },
     "metadata": {},
     "output_type": "display_data"
    },
    {
     "name": "stdout",
     "output_type": "stream",
     "text": [
      "\n"
     ]
    }
   ],
   "source": [
    "th_list = []\n",
    "scores = []\n",
    "\n",
    "best_score = 0\n",
    "besth_th = 0\n",
    "best_final_labels = None\n",
    "\n",
    "for i in tqdm(range(300)):\n",
    "    th = i / 100.0\n",
    "\n",
    "    oof_labels = extract_label(post_oof, th)\n",
    "    post_labels = post_process_v8(post_oof, oof_labels, valid_df, window_size=2)\n",
    "\n",
    "    score = row_wise_micro_averaged_f1_score(val_y_labels, post_labels)\n",
    "    \n",
    "    if best_score < score:\n",
    "        best_score  = score\n",
    "        best_th = th\n",
    "        best_final_labels = post_labels\n",
    "\n",
    "    th_list.append(th)\n",
    "    scores.append(score)"
   ]
  },
  {
   "cell_type": "code",
   "execution_count": 91,
   "metadata": {},
   "outputs": [
    {
     "name": "stdout",
     "output_type": "stream",
     "text": [
      "best score: 0.7387 (th=0.59)\n"
     ]
    }
   ],
   "source": [
    "print(f\"best score: {best_score:.4f} (th={best_th})\")   # 0.7294 (th=0.55)"
   ]
  },
  {
   "cell_type": "code",
   "execution_count": 92,
   "metadata": {
    "scrolled": true
   },
   "outputs": [
    {
     "data": {
      "image/png": "[encoded data removed]",
      "text/plain": [
       "<Figure size 432x288 with 1 Axes>"
      ]
     },
     "metadata": {
      "needs_background": "light"
     },
     "output_type": "display_data"
    }
   ],
   "source": [
    "plt.plot(th_list, scores)\n",
    "plt.grid()"
   ]
  },
  {
   "cell_type": "code",
   "execution_count": 93,
   "metadata": {
    "scrolled": false
   },
   "outputs": [
    {
     "name": "stdout",
     "output_type": "stream",
     "text": [
      "2782: 0.5703 [0.068]\n",
      "7843: 0.9667 [-0.017]\n",
      "10534: 0.6333 [-0.014]\n",
      "11254: 0.8917 [0.017]\n",
      "18003: 0.7611 [0.075]\n",
      "20152: 0.9333 [-0.008]\n",
      "21767: 0.3806 [0.056]\n",
      "26709: 0.4944 [-0.056]\n",
      "26746: 0.6944 [-0.025]\n",
      "28933: 0.5403 [-0.004]\n",
      "31928: 0.9167 [-0.042]\n",
      "42907: 0.8250 [0.092]\n",
      "44957: 0.7694 [-0.000]\n",
      "50878: 0.8750 [0.067]\n",
      "51010: 0.5167 [0.016]\n",
      "54955: 0.8583 [-0.008]\n",
      "57610: 0.9306 [0.039]\n"
     ]
    }
   ],
   "source": [
    "diff_scores13 = get_audio_score(best_final_labels, valid_df, score_dict)\n",
    "all_diff_scores[\"cqw_and_modified_firstlabel_replace\"] = diff_scores13"
   ]
  },
  {
   "cell_type": "code",
   "execution_count": 94,
   "metadata": {
    "scrolled": false
   },
   "outputs": [
    {
     "data": {
      "text/plain": [
       "nocall     148\n",
       "rucwar      74\n",
       "obnthr1      7\n",
       "rubwre1      4\n",
       "wbwwre1      3\n",
       "grasal1      2\n",
       "yebfly       1\n",
       "sthwoo1      1\n",
       "Name: preds, dtype: int64"
      ]
     },
     "execution_count": 94,
     "metadata": {},
     "output_type": "execute_result"
    }
   ],
   "source": [
    "a = valid_df.copy()\n",
    "a[\"preds\"] = best_final_labels\n",
    "a.iloc[:240][\"preds\"].value_counts()"
   ]
  },
  {
   "cell_type": "markdown",
   "metadata": {},
   "source": [
    " "
   ]
  },
  {
   "cell_type": "markdown",
   "metadata": {},
   "source": [
    " "
   ]
  },
  {
   "cell_type": "markdown",
   "metadata": {},
   "source": [
    "## PostProcessV9\n",
    "- https://www.kaggle.com/cdeotte/rainforest-post-process-lb-0-970\n",
    "- 全然うまくいかない......というかよく分かっていない"
   ]
  },
  {
   "cell_type": "code",
   "execution_count": 95,
   "metadata": {},
   "outputs": [],
   "source": [
    "def scale(probs, factor):\n",
    "    probs = probs.copy()\n",
    "    idx = np.where(probs!=1)[0]\n",
    "    odds = factor * probs[idx] / (1 - probs[idx])\n",
    "    probs[idx] =  odds / (1 + odds)\n",
    "    return probs\n",
    "\n",
    "\n",
    "def post_process_v9(preds):\n",
    "    post_preds = preds.copy()\n",
    "\n",
    "    post_preds -= post_preds.min(0, keepdims=True)\n",
    "    post_preds /= post_preds.max(0, keepdims=True)\n",
    "    d2 = np.mean(post_preds, axis=0)\n",
    "\n",
    "    for k in range(397):\n",
    "        s = (d2[k] / (1 - d2[k])) / 2.0\n",
    "        post_preds[:, k] = scale(post_preds[:, k], s)\n",
    "\n",
    "    return post_preds"
   ]
  },
  {
   "cell_type": "code",
   "execution_count": 96,
   "metadata": {
    "scrolled": true
   },
   "outputs": [],
   "source": [
    "oof = np.mean(concat_oof, axis=0)[use_idx, :]\n",
    "post_oof = post_process_v9(oof)"
   ]
  },
  {
   "cell_type": "code",
   "execution_count": 97,
   "metadata": {
    "scrolled": true
   },
   "outputs": [
    {
     "data": {
      "application/vnd.jupyter.widget-view+json": {
       "model_id": "253ec341b74f4a8a811eafd78b9fa86d",
       "version_major": 2,
       "version_minor": 0
      },
      "text/plain": [
       "HBox(children=(IntProgress(value=0), HTML(value='')))"
      ]
     },
     "metadata": {},
     "output_type": "display_data"
    },
    {
     "name": "stdout",
     "output_type": "stream",
     "text": [
      "\n"
     ]
    }
   ],
   "source": [
    "th_list = []\n",
    "scores = []\n",
    "\n",
    "best_score = 0\n",
    "besth_th = 0\n",
    "best_final_labels = None\n",
    "\n",
    "for i in tqdm(range(100)):\n",
    "    th = i / 100.0\n",
    "\n",
    "    oof_labels = extract_label(post_oof, th)\n",
    "    score = row_wise_micro_averaged_f1_score(val_y_labels, oof_labels)\n",
    "    \n",
    "    if best_score < score:\n",
    "        best_score  = score\n",
    "        best_th = th\n",
    "        best_final_labels = oof_labels\n",
    "\n",
    "    th_list.append(th)\n",
    "    scores.append(score)"
   ]
  },
  {
   "cell_type": "code",
   "execution_count": 98,
   "metadata": {},
   "outputs": [
    {
     "name": "stdout",
     "output_type": "stream",
     "text": [
      "best score: 0.5230 (th=0.67)\n"
     ]
    }
   ],
   "source": [
    "print(f\"best score: {best_score:.4f} (th={best_th})\")   # best score: 0.5275 (th=0.38)"
   ]
  },
  {
   "cell_type": "code",
   "execution_count": 99,
   "metadata": {},
   "outputs": [
    {
     "data": {
      "image/png": "[encoded data removed]",
      "text/plain": [
       "<Figure size 432x288 with 1 Axes>"
      ]
     },
     "metadata": {
      "needs_background": "light"
     },
     "output_type": "display_data"
    }
   ],
   "source": [
    "plt.plot(th_list, scores)\n",
    "plt.grid()"
   ]
  },
  {
   "cell_type": "code",
   "execution_count": 100,
   "metadata": {
    "scrolled": false
   },
   "outputs": [
    {
     "name": "stdout",
     "output_type": "stream",
     "text": [
      "2782: 0.0194 [-0.483]\n",
      "7843: 0.9333 [-0.050]\n",
      "10534: 0.4417 [-0.206]\n",
      "11254: 0.7500 [-0.125]\n",
      "18003: 0.1389 [-0.547]\n",
      "20152: 0.9000 [-0.042]\n",
      "21767: 0.1917 [-0.133]\n",
      "26709: 0.4667 [-0.083]\n",
      "26746: 0.4667 [-0.253]\n",
      "28933: 0.1556 [-0.389]\n",
      "31928: 0.9500 [-0.008]\n",
      "42907: 0.5083 [-0.225]\n",
      "44957: 0.4500 [-0.319]\n",
      "50878: 0.8306 [0.022]\n",
      "51010: 0.2069 [-0.294]\n",
      "54955: 0.8250 [-0.042]\n",
      "57610: 0.6556 [-0.236]\n"
     ]
    }
   ],
   "source": [
    "diff_scores13 = get_audio_score(best_final_labels, valid_df, score_dict)\n",
    "all_diff_scores[\"cqw_and_modified_firstlabel_replace\"] = diff_scores13"
   ]
  },
  {
   "cell_type": "markdown",
   "metadata": {},
   "source": [
    " "
   ]
  },
  {
   "cell_type": "markdown",
   "metadata": {},
   "source": [
    " "
   ]
  },
  {
   "cell_type": "markdown",
   "metadata": {},
   "source": [
    "## PostProcessV10\n",
    "- PPv8の修正版？"
   ]
  },
  {
   "cell_type": "code",
   "execution_count": 101,
   "metadata": {},
   "outputs": [],
   "source": [
    "def shift(df, pred_labels, freq):\n",
    "    shift_labels = [None] * len(df)\n",
    "\n",
    "    gp = df.groupby(\"audio_id\")\n",
    "    for audio_id, audio_df in gp:\n",
    "        idxs = audio_df.index.values\n",
    "        audio_shift_labels = np.roll(pred_labels[idxs[0]: idxs[-1] + 1], freq)\n",
    "        \n",
    "        if freq > 0:\n",
    "            audio_shift_labels[:freq] = \"None\"\n",
    "        elif freq < 0:\n",
    "            audio_shift_labels[freq:] = \"None\"\n",
    "            \n",
    "        shift_labels[idxs[0]: idxs[-1] + 1] = audio_shift_labels\n",
    "\n",
    "    return shift_labels\n",
    "\n",
    "\n",
    "def intersect(labels_list1, labels_list2):\n",
    "    intersect_list = []\n",
    "    for idx in range(len(labels_list1)):\n",
    "        lables1 = labels_list1[idx].split(\" \")\n",
    "        lables2 = labels_list2[idx].split(\" \")\n",
    "        \n",
    "        intersect = np.intersect1d(lables1, lables2)\n",
    "        if len(intersect) == 0:\n",
    "            intersect = [\"nocall\"]\n",
    "        intersect_list.append(\" \".join(list(intersect)))\n",
    "        \n",
    "    return intersect_list\n",
    "\n",
    "\n",
    "def add_label(labels_list1, labels_list2):\n",
    "    added_labels_list = []\n",
    "    for labels1, labels2 in zip(labels_list1, labels_list2):\n",
    "\n",
    "        if labels1 == \"nocall\":\n",
    "            if labels2 == \"nocall\":\n",
    "                added_labels_list.append(\"nocall\")\n",
    "            else:\n",
    "                added_labels_list.append(labels2)\n",
    "        \n",
    "        else:\n",
    "            if labels2 == \"nocall\":\n",
    "                added_labels_list.append(labels1)\n",
    "            else:\n",
    "                added_labels = list(set((labels1 + \" \" + labels2).split(\" \")))\n",
    "                added_labels_list.append(\" \".join(added_labels))\n",
    "    \n",
    "    return added_labels_list\n",
    "\n",
    "\n",
    "def post_process_v10(preds, pred_labels, df, window_size=1, c=2.0, min_th=0.1, max_th=0.5):\n",
    "    first_labels = []\n",
    "    for idx in df.index:\n",
    "        row_prob = preds[idx, :]\n",
    "        second_prob = np.sort(row_prob)[-2]\n",
    "\n",
    "        first_label_bc = np.argmax(row_prob)\n",
    "        v = row_prob[first_label_bc]\n",
    "        if (v >= (second_prob * c) and v >= min_th) or v >= max_th:\n",
    "            first_labels.append(const.INV_BIRD_CODE[first_label_bc])\n",
    "        else:\n",
    "            first_labels.append(\"nocall\")\n",
    "\n",
    "    final_labels_list = pred_labels.copy()\n",
    "    for w in range(window_size):\n",
    "        for freq in [w + 1, -(w + 1)]:\n",
    "            shift_labels = shift(df, pred_labels, freq)\n",
    "            shift_intersect_labels = intersect(first_labels, shift_labels)\n",
    "            final_labels_list = add_label(final_labels_list, shift_intersect_labels)\n",
    "        \n",
    "    return final_labels_list"
   ]
  },
  {
   "cell_type": "code",
   "execution_count": 102,
   "metadata": {
    "scrolled": true
   },
   "outputs": [],
   "source": [
    "oof = np.mean(concat_oof, axis=0)[use_idx, :]"
   ]
  },
  {
   "cell_type": "code",
   "execution_count": 103,
   "metadata": {
    "scrolled": true
   },
   "outputs": [
    {
     "data": {
      "application/vnd.jupyter.widget-view+json": {
       "model_id": "aec7b6dc9ce6468dacf12cec844b3801",
       "version_major": 2,
       "version_minor": 0
      },
      "text/plain": [
       "HBox(children=(IntProgress(value=0), HTML(value='')))"
      ]
     },
     "metadata": {},
     "output_type": "display_data"
    },
    {
     "name": "stdout",
     "output_type": "stream",
     "text": [
      "\n"
     ]
    }
   ],
   "source": [
    "th_list = []\n",
    "scores = []\n",
    "\n",
    "best_score = 0\n",
    "besth_th = 0\n",
    "best_final_labels = None\n",
    "\n",
    "for i in tqdm(range(100)):\n",
    "    th = i / 100.0\n",
    "\n",
    "    oof_labels = extract_label(oof, th)\n",
    "    post_oof_labels = post_process_v10(oof, oof_labels, valid_df, window_size=2, c=2)\n",
    "    score = row_wise_micro_averaged_f1_score(val_y_labels, post_oof_labels)\n",
    "    \n",
    "    if best_score < score:\n",
    "        best_score  = score\n",
    "        best_th = th\n",
    "        best_final_labels = post_oof_labels\n",
    "\n",
    "    th_list.append(th)\n",
    "    scores.append(score)"
   ]
  },
  {
   "cell_type": "code",
   "execution_count": 104,
   "metadata": {},
   "outputs": [
    {
     "name": "stdout",
     "output_type": "stream",
     "text": [
      "best score: 0.7264 (th=0.32)\n"
     ]
    }
   ],
   "source": [
    "print(f\"best score: {best_score:.4f} (th={best_th})\")   # 0.7140 (th=0.29)"
   ]
  },
  {
   "cell_type": "code",
   "execution_count": 105,
   "metadata": {
    "scrolled": true
   },
   "outputs": [
    {
     "data": {
      "image/png": "[encoded data removed]",
      "text/plain": [
       "<Figure size 432x288 with 1 Axes>"
      ]
     },
     "metadata": {
      "needs_background": "light"
     },
     "output_type": "display_data"
    }
   ],
   "source": [
    "plt.plot(th_list, scores)\n",
    "plt.grid()"
   ]
  },
  {
   "cell_type": "code",
   "execution_count": 106,
   "metadata": {
    "scrolled": false
   },
   "outputs": [
    {
     "name": "stdout",
     "output_type": "stream",
     "text": [
      "2782: 0.5197 [0.018]\n",
      "7843: 0.9833 [0.000]\n",
      "10534: 0.6333 [-0.014]\n",
      "11254: 0.8833 [0.008]\n",
      "18003: 0.7028 [0.017]\n",
      "20152: 0.9250 [-0.017]\n",
      "21767: 0.3556 [0.031]\n",
      "26709: 0.5250 [-0.025]\n",
      "26746: 0.7111 [-0.008]\n",
      "28933: 0.5344 [-0.010]\n",
      "31928: 0.9667 [0.008]\n",
      "42907: 0.7500 [0.017]\n",
      "44957: 0.7389 [-0.031]\n",
      "50878: 0.8167 [0.008]\n",
      "51010: 0.5028 [0.002]\n",
      "54955: 0.9000 [0.033]\n",
      "57610: 0.9000 [0.008]\n"
     ]
    }
   ],
   "source": [
    "best_labels10 = best_final_labels\n",
    "diff_scores14 = get_audio_score(best_final_labels, valid_df, score_dict)\n",
    "all_diff_scores[\"cqw_and_modified_firstlabel_replace\"] = diff_scores14"
   ]
  },
  {
   "cell_type": "markdown",
   "metadata": {},
   "source": [
    " "
   ]
  },
  {
   "cell_type": "markdown",
   "metadata": {},
   "source": [
    " "
   ]
  },
  {
   "cell_type": "markdown",
   "metadata": {},
   "source": [
    "## Avg -> V2 -> V10"
   ]
  },
  {
   "cell_type": "code",
   "execution_count": 107,
   "metadata": {},
   "outputs": [],
   "source": [
    "oof_list = [\n",
    "    oof163,\n",
    "    oof164,\n",
    "    oof165,\n",
    "    oof166,\n",
    "    oof167,\n",
    "    oof168,\n",
    "    oof169,\n",
    "    oof170,\n",
    "]\n",
    "\n",
    "concat_oof = []\n",
    "for oof_ in oof_list:\n",
    "    concat_oof.append(oof_[np.newaxis, :, :])\n",
    "concat_oof = np.concatenate(concat_oof)"
   ]
  },
  {
   "cell_type": "code",
   "execution_count": 108,
   "metadata": {},
   "outputs": [],
   "source": [
    "def post_process_v2_plus(preds, df, c=2, q=0.99, w=1.5, min_th=0.1, max_th=0.27):\n",
    "    post_preds = preds.copy()\n",
    "    \n",
    "    gp = df.groupby(\"audio_id\")\n",
    "    for audio_id, audio_df in gp:\n",
    "        idxs = audio_df.index.values\n",
    "        \n",
    "        audio_preds = preds[idxs, :]\n",
    "        audio_preds_mean = np.mean(audio_preds, axis=0)\n",
    "        audio_preds_mean_ = audio_preds_mean / audio_preds_mean.max()\n",
    "        quantile = np.quantile(audio_preds_mean_, q)\n",
    "\n",
    "        for bc in np.argsort(audio_preds_mean_)[::-1]:\n",
    "            v = audio_preds_mean_[bc]\n",
    "            if v >= (quantile * c):\n",
    "                for idx in idxs:\n",
    "                    if (np.argmax(post_preds[idx, :]) == bc and np.max(post_preds[idx, :]) >= 0.1) or post_preds[idx, bc] >= max_th:\n",
    "                        post_preds[idx, bc] *= w\n",
    "            else:\n",
    "                break\n",
    "\n",
    "    return post_preds\n",
    "\n",
    "\n",
    "# def post_process_v2_plus(preds, df, c=2, q=0.99, w=1.5, th=0.27):\n",
    "#     post_preds = preds.copy()\n",
    "    \n",
    "#     gp = df.groupby(\"audio_id\")\n",
    "#     for audio_id, audio_df in gp:\n",
    "#         idxs = audio_df.index.values\n",
    "        \n",
    "#         audio_preds = preds[idxs, :]\n",
    "#         audio_preds_mean = np.mean(audio_preds, axis=0)\n",
    "#         audio_preds_mean_ = audio_preds_mean / audio_preds_mean.max()\n",
    "#         quantile = np.quantile(audio_preds_mean_, q)\n",
    "\n",
    "#         for i, bc in enumerate(np.argsort(audio_preds_mean_)[::-1]):\n",
    "#             v = audio_preds_mean_[bc]\n",
    "#             if v >= (quantile * c):\n",
    "#                 for idx in idxs:\n",
    "#                     if np.argmax(post_preds[idx, :]) == bc or post_preds[idx, bc] >= th:\n",
    "#                         post_preds[idx, bc] *= w\n",
    "#             elif i <= 6:\n",
    "#                 for idx in idxs:\n",
    "#                     if post_preds[idx, bc] >= 0.5:\n",
    "#                         post_preds[idx, bc] *= w\n",
    "#             else:\n",
    "#                 break\n",
    "\n",
    "#     return post_preds"
   ]
  },
  {
   "cell_type": "code",
   "execution_count": 109,
   "metadata": {
    "scrolled": true
   },
   "outputs": [],
   "source": [
    "c=2.5\n",
    "q=0.99\n",
    "w=2.0\n",
    "min_th = 0.1\n",
    "max_th=0.20\n",
    "\n",
    "oof = np.mean(concat_oof, axis=0)[use_idx, :]\n",
    "post_oof = post_process_v2_plus(oof, valid_df, c, q, w, min_th, max_th)"
   ]
  },
  {
   "cell_type": "code",
   "execution_count": 110,
   "metadata": {
    "scrolled": true
   },
   "outputs": [
    {
     "data": {
      "application/vnd.jupyter.widget-view+json": {
       "model_id": "e80e52689241420788bd6f55accd5b78",
       "version_major": 2,
       "version_minor": 0
      },
      "text/plain": [
       "HBox(children=(IntProgress(value=0, max=70), HTML(value='')))"
      ]
     },
     "metadata": {},
     "output_type": "display_data"
    },
    {
     "name": "stdout",
     "output_type": "stream",
     "text": [
      "\n"
     ]
    }
   ],
   "source": [
    "th_list = []\n",
    "scores = []\n",
    "\n",
    "best_score = 0\n",
    "besth_th = 0\n",
    "best_final_labels = None\n",
    "\n",
    "for i in tqdm(range(30, 100)):\n",
    "    th = i / 100.0\n",
    "\n",
    "    oof_labels = extract_label(post_oof, th)\n",
    "    post_labels = post_process_v10(post_oof, oof_labels, valid_df, window_size=5, c=1.2, min_th=0.1, max_th=0.5)\n",
    "\n",
    "    score = row_wise_micro_averaged_f1_score(val_y_labels, post_labels)\n",
    "    \n",
    "    if best_score < score:\n",
    "        best_score  = score\n",
    "        best_th = th\n",
    "        best_final_labels = post_labels\n",
    "\n",
    "    th_list.append(th)\n",
    "    scores.append(score)"
   ]
  },
  {
   "cell_type": "code",
   "execution_count": 111,
   "metadata": {},
   "outputs": [
    {
     "name": "stdout",
     "output_type": "stream",
     "text": [
      "best score: 0.7535 (th=0.6)\n"
     ]
    }
   ],
   "source": [
    "print(f\"best score: {best_score:.4f} (th={best_th})\")   # best score: 0.7535 (th=0.6)"
   ]
  },
  {
   "cell_type": "code",
   "execution_count": 112,
   "metadata": {
    "scrolled": true
   },
   "outputs": [
    {
     "data": {
      "image/png": "[encoded data removed]",
      "text/plain": [
       "<Figure size 432x288 with 1 Axes>"
      ]
     },
     "metadata": {
      "needs_background": "light"
     },
     "output_type": "display_data"
    }
   ],
   "source": [
    "plt.plot(th_list, scores)\n",
    "plt.grid()"
   ]
  },
  {
   "cell_type": "code",
   "execution_count": 113,
   "metadata": {
    "scrolled": true
   },
   "outputs": [
    {
     "name": "stdout",
     "output_type": "stream",
     "text": [
      "2782: 0.6058 [0.104]\n",
      "7843: 0.9667 [-0.017]\n",
      "10534: 0.6667 [0.019]\n",
      "11254: 0.8917 [0.017]\n",
      "18003: 0.8167 [0.131]\n",
      "20152: 0.8917 [-0.050]\n",
      "21767: 0.3972 [0.072]\n",
      "26709: 0.5167 [-0.033]\n",
      "26746: 0.7278 [0.008]\n",
      "28933: 0.5236 [-0.021]\n",
      "31928: 0.9333 [-0.025]\n",
      "42907: 0.8667 [0.133]\n",
      "44957: 0.7611 [-0.008]\n",
      "50878: 0.8583 [0.050]\n",
      "51010: 0.5806 [0.080]\n",
      "54955: 0.8667 [0.000]\n",
      "57610: 0.9389 [0.047]\n"
     ]
    }
   ],
   "source": [
    "best_labels_2_10 = best_final_labels\n",
    "diff_scores13 = get_audio_score(best_final_labels, valid_df, score_dict)\n",
    "all_diff_scores[\"cqw_and_modified_firstlabel_replace\"] = diff_scores13"
   ]
  },
  {
   "cell_type": "code",
   "execution_count": 114,
   "metadata": {},
   "outputs": [
    {
     "data": {
      "text/plain": [
       "'nocall'"
      ]
     },
     "execution_count": 114,
     "metadata": {},
     "output_type": "execute_result"
    }
   ],
   "source": [
    "best_final_labels[1293]"
   ]
  },
  {
   "cell_type": "code",
   "execution_count": 115,
   "metadata": {
    "scrolled": false
   },
   "outputs": [
    {
     "data": {
      "text/plain": [
       "nocall     141\n",
       "rucwar      81\n",
       "obnthr1      7\n",
       "rubwre1      3\n",
       "yebfly       3\n",
       "wbwwre1      3\n",
       "grasal1      1\n",
       "sthwoo1      1\n",
       "Name: preds, dtype: int64"
      ]
     },
     "execution_count": 115,
     "metadata": {},
     "output_type": "execute_result"
    }
   ],
   "source": [
    "a = valid_df.copy()\n",
    "a[\"preds\"] = best_final_labels\n",
    "a.iloc[:240][\"preds\"].value_counts()"
   ]
  },
  {
   "cell_type": "code",
   "execution_count": 116,
   "metadata": {
    "scrolled": false
   },
   "outputs": [
    {
     "data": {
      "text/plain": [
       "reevir1           56\n",
       "eawpew            22\n",
       "grycat            18\n",
       "nocall            13\n",
       "eawpew reevir1    11\n",
       "Name: preds, dtype: int64"
      ]
     },
     "execution_count": 116,
     "metadata": {},
     "output_type": "execute_result"
    }
   ],
   "source": [
    "a.iloc[960: 960 + 120][\"preds\"].value_counts()"
   ]
  },
  {
   "cell_type": "markdown",
   "metadata": {},
   "source": [
    " "
   ]
  },
  {
   "cell_type": "markdown",
   "metadata": {},
   "source": [
    " "
   ]
  },
  {
   "cell_type": "markdown",
   "metadata": {},
   "source": [
    "## Avg -> V2 -> nc -> V10"
   ]
  },
  {
   "cell_type": "code",
   "execution_count": 117,
   "metadata": {
    "scrolled": true
   },
   "outputs": [],
   "source": [
    "c=2.5\n",
    "q=0.99\n",
    "w=2.0\n",
    "\n",
    "oof = np.mean(concat_oof, axis=0)[use_idx, :]\n",
    "post_oof = post_process_v2_plus(oof, valid_df, c, q, w)"
   ]
  },
  {
   "cell_type": "code",
   "execution_count": 118,
   "metadata": {},
   "outputs": [],
   "source": [
    "birdcall_p = oof99\n",
    "\n",
    "for idx in range(len(post_oof)):\n",
    "    bp = birdcall_p[idx]\n",
    "    if bp <= 0.1:\n",
    "        col1_idx = np.argsort(post_oof[idx, :])[-1:]\n",
    "        post_oof[idx, col1_idx] /= 2"
   ]
  },
  {
   "cell_type": "code",
   "execution_count": 119,
   "metadata": {
    "scrolled": true
   },
   "outputs": [
    {
     "data": {
      "application/vnd.jupyter.widget-view+json": {
       "model_id": "71fd319b41bf49e98111d0d9728e6692",
       "version_major": 2,
       "version_minor": 0
      },
      "text/plain": [
       "HBox(children=(IntProgress(value=0, max=70), HTML(value='')))"
      ]
     },
     "metadata": {},
     "output_type": "display_data"
    },
    {
     "name": "stdout",
     "output_type": "stream",
     "text": [
      "\n"
     ]
    }
   ],
   "source": [
    "th_list = []\n",
    "scores = []\n",
    "\n",
    "best_score = 0\n",
    "besth_th = 0\n",
    "best_final_labels = None\n",
    "\n",
    "for i in tqdm(range(30, 100)):\n",
    "    th = i / 100.0\n",
    "\n",
    "    oof_labels = extract_label(post_oof, th)\n",
    "    post_labels = post_process_v10(post_oof, oof_labels, valid_df, window_size=5, c=2.0)\n",
    "\n",
    "    score = row_wise_micro_averaged_f1_score(val_y_labels, post_labels)\n",
    "    \n",
    "    if best_score < score:\n",
    "        best_score  = score\n",
    "        best_th = th\n",
    "        best_final_labels = post_labels\n",
    "\n",
    "    th_list.append(th)\n",
    "    scores.append(score)"
   ]
  },
  {
   "cell_type": "code",
   "execution_count": 120,
   "metadata": {},
   "outputs": [
    {
     "name": "stdout",
     "output_type": "stream",
     "text": [
      "best score: 0.7525 (th=0.6)\n"
     ]
    }
   ],
   "source": [
    "print(f\"best score: {best_score:.4f} (th={best_th})\")   # best score: 0.7472 (th=0.65)"
   ]
  },
  {
   "cell_type": "code",
   "execution_count": 121,
   "metadata": {
    "scrolled": true
   },
   "outputs": [
    {
     "data": {
      "image/png": "[encoded data removed]",
      "text/plain": [
       "<Figure size 432x288 with 1 Axes>"
      ]
     },
     "metadata": {
      "needs_background": "light"
     },
     "output_type": "display_data"
    }
   ],
   "source": [
    "plt.plot(th_list, scores)\n",
    "plt.grid()"
   ]
  },
  {
   "cell_type": "code",
   "execution_count": 122,
   "metadata": {
    "scrolled": false
   },
   "outputs": [
    {
     "name": "stdout",
     "output_type": "stream",
     "text": [
      "2782: 0.5961 [0.094]\n",
      "7843: 0.9667 [-0.017]\n",
      "10534: 0.6750 [0.028]\n",
      "11254: 0.8917 [0.017]\n",
      "18003: 0.8167 [0.131]\n",
      "20152: 0.9750 [0.033]\n",
      "21767: 0.3972 [0.072]\n",
      "26709: 0.5250 [-0.025]\n",
      "26746: 0.7278 [0.008]\n",
      "28933: 0.5194 [-0.025]\n",
      "31928: 0.9333 [-0.025]\n",
      "42907: 0.8417 [0.108]\n",
      "44957: 0.7611 [-0.008]\n",
      "50878: 0.8583 [0.050]\n",
      "51010: 0.5083 [0.008]\n",
      "54955: 0.8667 [0.000]\n",
      "57610: 0.9333 [0.042]\n"
     ]
    }
   ],
   "source": [
    "best_labels_2_10 = best_final_labels\n",
    "diff_scores13 = get_audio_score(best_final_labels, valid_df, score_dict)\n",
    "all_diff_scores[\"cqw_and_modified_firstlabel_replace\"] = diff_scores13"
   ]
  },
  {
   "cell_type": "code",
   "execution_count": 123,
   "metadata": {
    "scrolled": true
   },
   "outputs": [
    {
     "data": {
      "text/plain": [
       "nocall     142\n",
       "rucwar      81\n",
       "obnthr1      7\n",
       "rubwre1      3\n",
       "wbwwre1      3\n",
       "yebfly       2\n",
       "grasal1      1\n",
       "sthwoo1      1\n",
       "Name: preds, dtype: int64"
      ]
     },
     "execution_count": 123,
     "metadata": {},
     "output_type": "execute_result"
    }
   ],
   "source": [
    "a = valid_df.copy()\n",
    "a[\"preds\"] = best_final_labels\n",
    "a.iloc[:240][\"preds\"].value_counts()"
   ]
  },
  {
   "cell_type": "markdown",
   "metadata": {},
   "source": [
    " "
   ]
  },
  {
   "cell_type": "markdown",
   "metadata": {},
   "source": [
    " "
   ]
  },
  {
   "cell_type": "markdown",
   "metadata": {},
   "source": [
    "## PostProcessV11"
   ]
  },
  {
   "cell_type": "code",
   "execution_count": 124,
   "metadata": {},
   "outputs": [],
   "source": [
    "def post_process_v11(preds, birdcall_preds, th=0.3, w=0.5):\n",
    "    post_preds = preds.copy()\n",
    "    for idx in range(len(preds)):\n",
    "        bc_prob = birdcall_preds[idx]\n",
    "        if bc_prob <= th:\n",
    "            post_preds[idx, :] = preds[idx, :] * w\n",
    "    \n",
    "    return post_preds"
   ]
  },
  {
   "cell_type": "code",
   "execution_count": 125,
   "metadata": {},
   "outputs": [],
   "source": [
    "oof = np.mean(concat_oof, axis=0)[use_idx, :]\n",
    "bc_oof = oof99.copy()\n",
    "post_oof = post_process_v11(oof, bc_oof, th=0.5, w=0.1)"
   ]
  },
  {
   "cell_type": "code",
   "execution_count": 126,
   "metadata": {},
   "outputs": [],
   "source": [
    "th_list = []\n",
    "scores = []\n",
    "\n",
    "best_score = 0\n",
    "besth_th = 0\n",
    "best_final_labels = None\n",
    "\n",
    "for i in range(100):\n",
    "    th = i / 100.0\n",
    "\n",
    "    oof_labels = extract_label(post_oof, th)\n",
    "\n",
    "    score = row_wise_micro_averaged_f1_score(val_y_labels, oof_labels)\n",
    "    \n",
    "    if best_score < score:\n",
    "        best_score  = score\n",
    "        best_th = th\n",
    "        best_final_labels = oof_labels\n",
    "\n",
    "    th_list.append(th)\n",
    "    scores.append(score)"
   ]
  },
  {
   "cell_type": "code",
   "execution_count": 127,
   "metadata": {},
   "outputs": [
    {
     "name": "stdout",
     "output_type": "stream",
     "text": [
      "best score: 0.7263 (th=0.25)\n"
     ]
    }
   ],
   "source": [
    "print(f\"best score: {best_score:.4f} (th={best_th})\")   # best score: 0.7027 (th=0.26)"
   ]
  },
  {
   "cell_type": "code",
   "execution_count": 128,
   "metadata": {
    "scrolled": true
   },
   "outputs": [
    {
     "data": {
      "image/png": "[encoded data removed]",
      "text/plain": [
       "<Figure size 432x288 with 1 Axes>"
      ]
     },
     "metadata": {
      "needs_background": "light"
     },
     "output_type": "display_data"
    }
   ],
   "source": [
    "plt.plot(th_list, scores)\n",
    "plt.grid()"
   ]
  },
  {
   "cell_type": "code",
   "execution_count": 129,
   "metadata": {
    "scrolled": false
   },
   "outputs": [
    {
     "name": "stdout",
     "output_type": "stream",
     "text": [
      "2782: 0.5250 [0.023]\n",
      "7843: 0.9833 [0.000]\n",
      "10534: 0.6167 [-0.031]\n",
      "11254: 0.8778 [0.003]\n",
      "18003: 0.7167 [0.031]\n",
      "20152: 0.9583 [0.017]\n",
      "21767: 0.3500 [0.025]\n",
      "26709: 0.5583 [0.008]\n",
      "26746: 0.7361 [0.017]\n",
      "28933: 0.5356 [-0.009]\n",
      "31928: 0.9583 [0.000]\n",
      "42907: 0.6917 [-0.042]\n",
      "44957: 0.7694 [-0.000]\n",
      "50878: 0.7917 [-0.017]\n",
      "51010: 0.5289 [0.028]\n",
      "54955: 0.8750 [0.008]\n",
      "57610: 0.8750 [-0.017]\n"
     ]
    }
   ],
   "source": [
    "diff_scores1 = get_audio_score(best_final_labels, valid_df, score_dict)\n",
    "all_diff_scores[\"avg_nc\"] = diff_scores1"
   ]
  },
  {
   "cell_type": "markdown",
   "metadata": {},
   "source": [
    " "
   ]
  },
  {
   "cell_type": "markdown",
   "metadata": {},
   "source": [
    " "
   ]
  },
  {
   "cell_type": "markdown",
   "metadata": {},
   "source": [
    "## PostProcessV12\n",
    "- V2_plusの改良版"
   ]
  },
  {
   "cell_type": "code",
   "execution_count": 130,
   "metadata": {},
   "outputs": [],
   "source": [
    "def post_process_v12(preds, df, window_size=5, c=2, q=0.99, w=1.5, th=0.28):\n",
    "    post_preds = preds.copy()\n",
    "    \n",
    "    gp = df.groupby(\"audio_id\")\n",
    "    for audio_id, audio_df in gp:\n",
    "        idxs = audio_df.index.values\n",
    "        \n",
    "        for i, idx in enumerate(idxs):\n",
    "            if i < window_size:\n",
    "                start = idxs[0]\n",
    "                end = min(idx + window_size + 1, idxs[-1] + 1)\n",
    "            else:\n",
    "                start = idx - window_size\n",
    "                end = min(idx + window_size + 1, idxs[-1] + 1)\n",
    "\n",
    "            marginal_preds = preds[start: end, :]\n",
    "            marginal_preds_mean = np.mean(marginal_preds, axis=0)\n",
    "            quantile = np.quantile(marginal_preds_mean, q)\n",
    "            \n",
    "            for bc in np.argsort(marginal_preds_mean)[::-1]:\n",
    "                v = marginal_preds_mean[bc]\n",
    "                if (v >= max(0.1, (quantile * c)) and np.argmax(post_preds[idx, :]) == bc) or post_preds[idx, bc] >= th:\n",
    "                    post_preds[idx, bc] *= w\n",
    "                else:\n",
    "                    break\n",
    "\n",
    "    return post_preds"
   ]
  },
  {
   "cell_type": "code",
   "execution_count": 131,
   "metadata": {},
   "outputs": [],
   "source": [
    "window_size = 10\n",
    "c=2.0\n",
    "q=0.99\n",
    "w=2.0\n",
    "\n",
    "oof = np.mean(concat_oof, axis=0)[use_idx, :]\n",
    "post_oof = post_process_v12(oof, valid_df, window_size, c, q, w)"
   ]
  },
  {
   "cell_type": "code",
   "execution_count": 132,
   "metadata": {},
   "outputs": [],
   "source": [
    "th_list = []\n",
    "scores = []\n",
    "\n",
    "best_score = 0\n",
    "besth_th = 0\n",
    "best_final_labels = None\n",
    "\n",
    "for i in range(100):\n",
    "    th = i / 100.0\n",
    "\n",
    "    oof_labels = extract_label(post_oof, th)\n",
    "\n",
    "    score = row_wise_micro_averaged_f1_score(val_y_labels, oof_labels)\n",
    "    \n",
    "    if best_score < score:\n",
    "        best_score  = score\n",
    "        best_th = th\n",
    "        best_final_labels = oof_labels\n",
    "\n",
    "    th_list.append(th)\n",
    "    scores.append(score)"
   ]
  },
  {
   "cell_type": "code",
   "execution_count": 133,
   "metadata": {},
   "outputs": [
    {
     "name": "stdout",
     "output_type": "stream",
     "text": [
      "best score: 0.7339 (th=0.43)\n"
     ]
    }
   ],
   "source": [
    "print(f\"best score: {best_score:.4f} (th={best_th})\")   # best score: 0.7027 (th=0.26)"
   ]
  },
  {
   "cell_type": "code",
   "execution_count": 134,
   "metadata": {
    "scrolled": true
   },
   "outputs": [
    {
     "data": {
      "image/png": "[encoded data removed]",
      "text/plain": [
       "<Figure size 432x288 with 1 Axes>"
      ]
     },
     "metadata": {
      "needs_background": "light"
     },
     "output_type": "display_data"
    }
   ],
   "source": [
    "plt.plot(th_list, scores)\n",
    "plt.grid()"
   ]
  },
  {
   "cell_type": "markdown",
   "metadata": {},
   "source": [
    " "
   ]
  },
  {
   "cell_type": "markdown",
   "metadata": {},
   "source": [
    " "
   ]
  },
  {
   "cell_type": "markdown",
   "metadata": {},
   "source": [
    "## Avg -> V12 -> V10"
   ]
  },
  {
   "cell_type": "code",
   "execution_count": 135,
   "metadata": {
    "scrolled": true
   },
   "outputs": [],
   "source": [
    "window_size = 1\n",
    "c = 2.5\n",
    "q=0.99\n",
    "w=2.0\n",
    "th=0.28\n",
    "\n",
    "oof = np.mean(concat_oof, axis=0)[use_idx, :]\n",
    "post_oof = post_process_v12(oof, valid_df, window_size, c, q, w, th)"
   ]
  },
  {
   "cell_type": "code",
   "execution_count": 136,
   "metadata": {
    "scrolled": true
   },
   "outputs": [
    {
     "data": {
      "application/vnd.jupyter.widget-view+json": {
       "model_id": "efb852b81eb04709a01d692a856cfab7",
       "version_major": 2,
       "version_minor": 0
      },
      "text/plain": [
       "HBox(children=(IntProgress(value=0), HTML(value='')))"
      ]
     },
     "metadata": {},
     "output_type": "display_data"
    },
    {
     "name": "stdout",
     "output_type": "stream",
     "text": [
      "\n"
     ]
    }
   ],
   "source": [
    "th_list = []\n",
    "scores = []\n",
    "\n",
    "best_score = 0\n",
    "besth_th = 0\n",
    "best_final_labels = None\n",
    "\n",
    "for i in tqdm(range(100)):\n",
    "    th = i / 100.0\n",
    "\n",
    "    oof_labels = extract_label(post_oof, th)\n",
    "    post_labels = post_process_v10(post_oof, oof_labels, valid_df, window_size=5, c=1.2)\n",
    "\n",
    "    score = row_wise_micro_averaged_f1_score(val_y_labels, post_labels)\n",
    "    \n",
    "    if best_score < score:\n",
    "        best_score  = score\n",
    "        best_th = th\n",
    "        best_final_labels = post_labels\n",
    "\n",
    "    th_list.append(th)\n",
    "    scores.append(score)"
   ]
  },
  {
   "cell_type": "code",
   "execution_count": 137,
   "metadata": {},
   "outputs": [
    {
     "name": "stdout",
     "output_type": "stream",
     "text": [
      "best score: 0.7364 (th=0.72)\n"
     ]
    }
   ],
   "source": [
    "print(f\"best score: {best_score:.4f} (th={best_th})\")   # best score: 0.7431 (th=0.72)"
   ]
  },
  {
   "cell_type": "code",
   "execution_count": 138,
   "metadata": {
    "scrolled": true
   },
   "outputs": [
    {
     "data": {
      "image/png": "[encoded data removed]",
      "text/plain": [
       "<Figure size 432x288 with 1 Axes>"
      ]
     },
     "metadata": {
      "needs_background": "light"
     },
     "output_type": "display_data"
    }
   ],
   "source": [
    "plt.plot(th_list, scores)\n",
    "plt.grid()"
   ]
  },
  {
   "cell_type": "code",
   "execution_count": 139,
   "metadata": {
    "scrolled": true
   },
   "outputs": [
    {
     "name": "stdout",
     "output_type": "stream",
     "text": [
      "2782: 0.5222 [0.020]\n",
      "7843: 0.9750 [-0.008]\n",
      "10534: 0.6667 [0.019]\n",
      "11254: 0.8583 [-0.017]\n",
      "18003: 0.7750 [0.089]\n",
      "20152: 0.8333 [-0.108]\n",
      "21767: 0.3889 [0.064]\n",
      "26709: 0.4972 [-0.053]\n",
      "26746: 0.7528 [0.033]\n",
      "28933: 0.5483 [0.004]\n",
      "31928: 0.9917 [0.033]\n",
      "42907: 0.8250 [0.092]\n",
      "44957: 0.7556 [-0.014]\n",
      "50878: 0.8083 [0.000]\n",
      "51010: 0.5292 [0.029]\n",
      "54955: 0.8917 [0.025]\n",
      "57610: 0.9000 [0.008]\n"
     ]
    }
   ],
   "source": [
    "best_labels_2_10 = best_final_labels\n",
    "diff_scores13 = get_audio_score(best_final_labels, valid_df, score_dict)\n",
    "all_diff_scores[\"cqw_and_modified_firstlabel_replace\"] = diff_scores13"
   ]
  },
  {
   "cell_type": "code",
   "execution_count": 140,
   "metadata": {},
   "outputs": [
    {
     "data": {
      "text/plain": [
       "'nocall'"
      ]
     },
     "execution_count": 140,
     "metadata": {},
     "output_type": "execute_result"
    }
   ],
   "source": [
    "best_final_labels[1210]"
   ]
  },
  {
   "cell_type": "code",
   "execution_count": 141,
   "metadata": {
    "scrolled": false
   },
   "outputs": [
    {
     "data": {
      "text/plain": [
       "nocall     137\n",
       "rucwar      78\n",
       "yebfly       7\n",
       "obnthr1      7\n",
       "wbwwre1      4\n",
       "rubwre1      3\n",
       "melbla1      2\n",
       "grasal1      1\n",
       "sthwoo1      1\n",
       "Name: preds, dtype: int64"
      ]
     },
     "execution_count": 141,
     "metadata": {},
     "output_type": "execute_result"
    }
   ],
   "source": [
    "a = valid_df.copy()\n",
    "a[\"preds\"] = best_final_labels\n",
    "a.iloc[:240][\"preds\"].value_counts()"
   ]
  },
  {
   "cell_type": "markdown",
   "metadata": {},
   "source": [
    " "
   ]
  },
  {
   "cell_type": "markdown",
   "metadata": {},
   "source": [
    " "
   ]
  },
  {
   "cell_type": "markdown",
   "metadata": {},
   "source": [
    "## Avg -> V12 -> V10 -> voting"
   ]
  },
  {
   "cell_type": "code",
   "execution_count": 142,
   "metadata": {},
   "outputs": [],
   "source": [
    "# window_size = 5: 0.72\n",
    "# window_size = 10: 0.66\n",
    "# window_size = 20:  0.64\n",
    "# window_size = 30:  0.66\n",
    "# window_size = 50: 0.66\n",
    "# window_size = 70: 0.66\n",
    "# window_size = 100: 0.66"
   ]
  },
  {
   "cell_type": "code",
   "execution_count": 143,
   "metadata": {},
   "outputs": [],
   "source": [
    "oof = np.mean(concat_oof, axis=0)[use_idx, :]\n",
    "c = 2.5\n",
    "q = 0.99\n",
    "w = 2.0\n",
    "th = 0.28\n",
    "\n",
    "post_oof_list = [\n",
    "    post_process_v12(oof, valid_df, 5, c, q, w, th),\n",
    "    post_process_v12(oof, valid_df, 10, c, q, w, th),\n",
    "    post_process_v12(oof, valid_df, 20, c, q, w, th),\n",
    "    post_process_v12(oof, valid_df, 30, c, q, w, th),\n",
    "    post_process_v12(oof, valid_df, 50, c, q, w, th),\n",
    "    post_process_v12(oof, valid_df, 70, c, q, w, th),\n",
    "    post_process_v12(oof, valid_df, 100, c, q, w, th),\n",
    "]"
   ]
  },
  {
   "cell_type": "code",
   "execution_count": 144,
   "metadata": {},
   "outputs": [
    {
     "data": {
      "application/vnd.jupyter.widget-view+json": {
       "model_id": "1d27bb828f374be4bfe320c01c67764c",
       "version_major": 2,
       "version_minor": 0
      },
      "text/plain": [
       "HBox(children=(IntProgress(value=0), HTML(value='')))"
      ]
     },
     "metadata": {},
     "output_type": "display_data"
    },
    {
     "name": "stdout",
     "output_type": "stream",
     "text": [
      "\n"
     ]
    }
   ],
   "source": [
    "th_list = []\n",
    "scores = []\n",
    "\n",
    "best_score = 0\n",
    "besth_th = 0\n",
    "best_vote_lim = 0\n",
    "best_final_labels = None\n",
    "\n",
    "# for vote_lim in range(1, len(oof_labels_list)):\n",
    "for vote_lim in [5]:\n",
    "    for i in tqdm(range(100)):\n",
    "        th = i / 100.0\n",
    "        \n",
    "        oof_labels_list = []\n",
    "        for oof_ in post_oof_list:\n",
    "            oof_labels_ = extract_label(oof_, th)\n",
    "            oof_labels_list.append(oof_labels_)\n",
    "\n",
    "        final_oof_labels = voting(oof_labels_list, vote_lim)\n",
    "\n",
    "        score = row_wise_micro_averaged_f1_score(val_y_labels, final_oof_labels)\n",
    "            \n",
    "        if best_score < score:\n",
    "            best_score = score\n",
    "            best_th = th\n",
    "            best_vote_lim = vote_lim\n",
    "            best_final_labels = final_oof_labels\n",
    "                \n",
    "        th_list.append(th)\n",
    "        scores.append(score)"
   ]
  },
  {
   "cell_type": "code",
   "execution_count": 145,
   "metadata": {},
   "outputs": [
    {
     "name": "stdout",
     "output_type": "stream",
     "text": [
      "best score: 0.7374 (th=0.36)\n"
     ]
    }
   ],
   "source": [
    "print(f\"best score: {best_score:.4f} (th={best_th})\")   # best score: 0.7431 (th=0.72)"
   ]
  },
  {
   "cell_type": "code",
   "execution_count": 146,
   "metadata": {},
   "outputs": [
    {
     "data": {
      "image/png": "[encoded data removed]",
      "text/plain": [
       "<Figure size 432x288 with 1 Axes>"
      ]
     },
     "metadata": {
      "needs_background": "light"
     },
     "output_type": "display_data"
    }
   ],
   "source": [
    "plt.plot(th_list, scores)\n",
    "plt.grid()"
   ]
  },
  {
   "cell_type": "code",
   "execution_count": 147,
   "metadata": {},
   "outputs": [
    {
     "name": "stdout",
     "output_type": "stream",
     "text": [
      "2782: 0.5350 [0.033]\n",
      "7843: 0.9750 [-0.008]\n",
      "10534: 0.6972 [0.050]\n",
      "11254: 0.9000 [0.025]\n",
      "18003: 0.7444 [0.058]\n",
      "20152: 0.9500 [0.008]\n",
      "21767: 0.4028 [0.078]\n",
      "26709: 0.5333 [-0.017]\n",
      "26746: 0.7111 [-0.008]\n",
      "28933: 0.5192 [-0.025]\n",
      "31928: 0.8667 [-0.092]\n",
      "42907: 0.7417 [0.008]\n",
      "44957: 0.7694 [-0.000]\n",
      "50878: 0.8500 [0.042]\n",
      "51010: 0.5456 [0.045]\n",
      "54955: 0.8750 [0.008]\n",
      "57610: 0.9194 [0.028]\n"
     ]
    }
   ],
   "source": [
    "best_labels_2_10 = best_final_labels\n",
    "diff_scores13 = get_audio_score(best_final_labels, valid_df, score_dict)\n",
    "all_diff_scores[\"cqw_and_modified_firstlabel_replace\"] = diff_scores13"
   ]
  },
  {
   "cell_type": "markdown",
   "metadata": {},
   "source": [
    " "
   ]
  },
  {
   "cell_type": "markdown",
   "metadata": {},
   "source": [
    " "
   ]
  },
  {
   "cell_type": "markdown",
   "metadata": {},
   "source": [
    "## PostProcess V13\n",
    "- V2の改良版"
   ]
  },
  {
   "cell_type": "code",
   "execution_count": 148,
   "metadata": {},
   "outputs": [],
   "source": [
    "def post_process_v13(preds, df, c=2, q=0.99, w1=1.5, w2=1.5):\n",
    "    post_preds = preds.copy()\n",
    "    \n",
    "    gp = df.groupby(\"audio_id\")\n",
    "    for audio_id, audio_df in gp:\n",
    "        idxs = audio_df.index.values\n",
    "        \n",
    "        audio_preds = preds[idxs, :]\n",
    "        audio_preds_mean = np.mean(audio_preds, axis=0)\n",
    "        audio_preds_mean_ = audio_preds_mean / audio_preds_mean.max()\n",
    "        quantile = np.quantile(audio_preds_mean_, q)\n",
    "        prior_flg = False\n",
    "\n",
    "        for bc in np.argsort(audio_preds_mean_)[::-1]:\n",
    "            v = audio_preds_mean_[bc]\n",
    "            if v >= (quantile * c):\n",
    "                for idx in idxs:\n",
    "                    if np.argmax(post_preds[idx, :]) == bc:\n",
    "                        post_preds[idx, bc] *= w1\n",
    "                        if prior_flg:\n",
    "                            post_preds[idx, bc] *= w2\n",
    "                        prior_flg = True\n",
    "                    else:\n",
    "                        prior_flg = False\n",
    "            else:\n",
    "                break\n",
    "\n",
    "    return post_preds"
   ]
  },
  {
   "cell_type": "code",
   "execution_count": 149,
   "metadata": {
    "scrolled": true
   },
   "outputs": [],
   "source": [
    "c=2.5\n",
    "q=0.99\n",
    "w1=2.0\n",
    "w2=1.2\n",
    "\n",
    "oof = np.mean(concat_oof, axis=0)[use_idx, :]\n",
    "post_oof = post_process_v13(oof, valid_df, c, q, w1, w2)"
   ]
  },
  {
   "cell_type": "code",
   "execution_count": null,
   "metadata": {
    "scrolled": true
   },
   "outputs": [
    {
     "data": {
      "application/vnd.jupyter.widget-view+json": {
       "model_id": "d609dd90efa24847964cbfce6b4ca013",
       "version_major": 2,
       "version_minor": 0
      },
      "text/plain": [
       "HBox(children=(IntProgress(value=0, max=70), HTML(value='')))"
      ]
     },
     "metadata": {},
     "output_type": "display_data"
    }
   ],
   "source": [
    "th_list = []\n",
    "scores = []\n",
    "\n",
    "best_score = 0\n",
    "besth_th = 0\n",
    "best_final_labels = None\n",
    "\n",
    "for i in tqdm(range(30, 100)):\n",
    "    th = i / 100.0\n",
    "\n",
    "    oof_labels = extract_label(post_oof, th)\n",
    "    post_labels = post_process_v8(post_oof, oof_labels, valid_df, window_size=2)\n",
    "\n",
    "    score = row_wise_micro_averaged_f1_score(val_y_labels, post_labels)\n",
    "    \n",
    "    if best_score < score:\n",
    "        best_score  = score\n",
    "        best_th = th\n",
    "        best_final_labels = post_labels\n",
    "\n",
    "    th_list.append(th)\n",
    "    scores.append(score)"
   ]
  },
  {
   "cell_type": "code",
   "execution_count": null,
   "metadata": {},
   "outputs": [],
   "source": [
    "print(f\"best score: {best_score:.4f} (th={best_th})\")   # 0.7294 (th=0.55)"
   ]
  },
  {
   "cell_type": "code",
   "execution_count": null,
   "metadata": {
    "scrolled": true
   },
   "outputs": [],
   "source": [
    "plt.plot(th_list, scores)\n",
    "plt.grid()"
   ]
  },
  {
   "cell_type": "code",
   "execution_count": null,
   "metadata": {
    "scrolled": false
   },
   "outputs": [],
   "source": [
    "diff_scores13 = get_audio_score(best_final_labels, valid_df, score_dict)\n",
    "all_diff_scores[\"cqw_and_modified_firstlabel_replace\"] = diff_scores13"
   ]
  },
  {
   "cell_type": "code",
   "execution_count": null,
   "metadata": {
    "scrolled": false
   },
   "outputs": [],
   "source": [
    "a = valid_df.copy()\n",
    "a[\"preds\"] = best_final_labels\n",
    "a.iloc[:240][\"preds\"].value_counts()"
   ]
  },
  {
   "cell_type": "markdown",
   "metadata": {},
   "source": [
    " "
   ]
  },
  {
   "cell_type": "markdown",
   "metadata": {},
   "source": [
    " "
   ]
  },
  {
   "cell_type": "markdown",
   "metadata": {},
   "source": [
    "## Avg -> V13 -> V10"
   ]
  },
  {
   "cell_type": "code",
   "execution_count": null,
   "metadata": {
    "scrolled": true
   },
   "outputs": [],
   "source": [
    "c=2.5\n",
    "q=0.99\n",
    "w1=2.0\n",
    "w2=1.3\n",
    "\n",
    "oof = np.mean(concat_oof, axis=0)[use_idx, :]\n",
    "post_oof = post_process_v13(oof, valid_df, c, q, w1, w2)"
   ]
  },
  {
   "cell_type": "code",
   "execution_count": null,
   "metadata": {
    "scrolled": true
   },
   "outputs": [],
   "source": [
    "th_list = []\n",
    "scores = []\n",
    "\n",
    "best_score = 0\n",
    "besth_th = 0\n",
    "best_final_labels = None\n",
    "\n",
    "for i in tqdm(range(50, 150)):\n",
    "    th = i / 100.0\n",
    "\n",
    "    oof_labels = extract_label(post_oof, th)\n",
    "    post_labels = post_process_v10(post_oof, oof_labels, valid_df, window_size=5, c=1.5)\n",
    "\n",
    "    score = row_wise_micro_averaged_f1_score(val_y_labels, post_labels)\n",
    "    \n",
    "    if best_score < score:\n",
    "        best_score  = score\n",
    "        best_th = th\n",
    "        best_final_labels = post_labels\n",
    "\n",
    "    th_list.append(th)\n",
    "    scores.append(score)"
   ]
  },
  {
   "cell_type": "code",
   "execution_count": null,
   "metadata": {},
   "outputs": [],
   "source": [
    "print(f\"best score: {best_score:.4f} (th={best_th})\")   # best score: 0.7517 (th=0.65)"
   ]
  },
  {
   "cell_type": "code",
   "execution_count": null,
   "metadata": {
    "scrolled": true
   },
   "outputs": [],
   "source": [
    "plt.plot(th_list, scores)\n",
    "plt.grid()"
   ]
  },
  {
   "cell_type": "code",
   "execution_count": null,
   "metadata": {
    "scrolled": true
   },
   "outputs": [],
   "source": [
    "best_labels_2_10 = best_final_labels\n",
    "diff_scores13 = get_audio_score(best_final_labels, valid_df, score_dict)\n",
    "all_diff_scores[\"cqw_and_modified_firstlabel_replace\"] = diff_scores13"
   ]
  },
  {
   "cell_type": "code",
   "execution_count": null,
   "metadata": {
    "scrolled": true
   },
   "outputs": [],
   "source": [
    "a = valid_df.copy()\n",
    "a[\"preds\"] = best_final_labels\n",
    "a.iloc[:240][\"preds\"].value_counts()"
   ]
  },
  {
   "cell_type": "markdown",
   "metadata": {},
   "source": [
    " "
   ]
  },
  {
   "cell_type": "markdown",
   "metadata": {},
   "source": [
    " "
   ]
  },
  {
   "cell_type": "markdown",
   "metadata": {},
   "source": [
    "## Avg -> V13_plus -> V10"
   ]
  },
  {
   "cell_type": "code",
   "execution_count": null,
   "metadata": {},
   "outputs": [],
   "source": [
    "def post_process_v13_plus(preds, df, c=2, q=0.99, w1=1.5, ws=1.5):\n",
    "    post_preds = preds.copy()\n",
    "    \n",
    "    gp = df.groupby(\"audio_id\")\n",
    "    for audio_id, audio_df in gp:\n",
    "        idxs = audio_df.index.values\n",
    "        \n",
    "        audio_preds = preds[idxs, :]\n",
    "        audio_preds_mean = np.mean(audio_preds, axis=0)\n",
    "        audio_preds_mean_ = audio_preds_mean / audio_preds_mean.max()\n",
    "        quantile = np.quantile(audio_preds_mean_, q)\n",
    "        counter = 0\n",
    "\n",
    "        for bc in np.argsort(audio_preds_mean_)[::-1]:\n",
    "            v = audio_preds_mean_[bc]\n",
    "            if v >= (quantile * c):\n",
    "                for idx in idxs:\n",
    "                    if np.argmax(post_preds[idx, :]) == bc:\n",
    "                        post_preds[idx, bc] *= w1\n",
    "                        if counter > 0:\n",
    "                            post_preds[idx, bc] *= (w2 ** counter)\n",
    "                        counter += 1\n",
    "                    else:\n",
    "                        counter = 0\n",
    "            else:\n",
    "                break\n",
    "\n",
    "    return post_preds"
   ]
  },
  {
   "cell_type": "code",
   "execution_count": null,
   "metadata": {
    "scrolled": true
   },
   "outputs": [],
   "source": [
    "c=2.5\n",
    "q=0.99\n",
    "w1=2.0\n",
    "w2=1.05\n",
    "\n",
    "oof = np.mean(concat_oof, axis=0)[use_idx, :]\n",
    "post_oof = post_process_v13_plus(oof, valid_df, c, q, w1, w2)"
   ]
  },
  {
   "cell_type": "code",
   "execution_count": null,
   "metadata": {
    "scrolled": true
   },
   "outputs": [],
   "source": [
    "th_list = []\n",
    "scores = []\n",
    "\n",
    "best_score = 0\n",
    "besth_th = 0\n",
    "best_final_labels = None\n",
    "\n",
    "for i in tqdm(range(30, 150)):\n",
    "    th = i / 100.0\n",
    "\n",
    "    oof_labels = extract_label(post_oof, th)\n",
    "    post_labels = post_process_v10(post_oof, oof_labels, valid_df, window_size=5, c=1.5)\n",
    "\n",
    "    score = row_wise_micro_averaged_f1_score(val_y_labels, post_labels)\n",
    "    \n",
    "    if best_score < score:\n",
    "        best_score  = score\n",
    "        best_th = th\n",
    "        best_final_labels = post_labels\n",
    "\n",
    "    th_list.append(th)\n",
    "    scores.append(score)"
   ]
  },
  {
   "cell_type": "code",
   "execution_count": null,
   "metadata": {},
   "outputs": [],
   "source": [
    "print(f\"best score: {best_score:.4f} (th={best_th})\")   # best score: 0.7472 (th=0.65)"
   ]
  },
  {
   "cell_type": "code",
   "execution_count": null,
   "metadata": {
    "scrolled": true
   },
   "outputs": [],
   "source": [
    "plt.plot(th_list, scores)\n",
    "plt.grid()"
   ]
  },
  {
   "cell_type": "code",
   "execution_count": null,
   "metadata": {
    "scrolled": true
   },
   "outputs": [],
   "source": [
    "best_labels_2_10 = best_final_labels\n",
    "diff_scores13 = get_audio_score(best_final_labels, valid_df, score_dict)\n",
    "all_diff_scores[\"cqw_and_modified_firstlabel_replace\"] = diff_scores13"
   ]
  },
  {
   "cell_type": "code",
   "execution_count": null,
   "metadata": {
    "scrolled": false
   },
   "outputs": [],
   "source": [
    "a = valid_df.copy()\n",
    "a[\"preds\"] = best_final_labels\n",
    "a.iloc[:240][\"preds\"].value_counts()"
   ]
  },
  {
   "cell_type": "markdown",
   "metadata": {},
   "source": [
    "　"
   ]
  },
  {
   "cell_type": "markdown",
   "metadata": {},
   "source": [
    " "
   ]
  },
  {
   "cell_type": "markdown",
   "metadata": {},
   "source": [
    "## Avg -> V2 -> V10 -> V14"
   ]
  },
  {
   "cell_type": "code",
   "execution_count": null,
   "metadata": {},
   "outputs": [],
   "source": [
    "oof_list = [\n",
    "    oof163,\n",
    "    oof164,\n",
    "    oof165,\n",
    "    oof166,\n",
    "    oof167,\n",
    "    oof168,\n",
    "    oof169,\n",
    "    oof170,\n",
    "]\n",
    "\n",
    "concat_oof = []\n",
    "for oof_ in oof_list:\n",
    "    concat_oof.append(oof_[np.newaxis, :, :])\n",
    "concat_oof = np.concatenate(concat_oof)"
   ]
  },
  {
   "cell_type": "code",
   "execution_count": null,
   "metadata": {},
   "outputs": [],
   "source": [
    "def post_process_v14(post_labels, avg_labels, df):\n",
    "    final_labels = post_labels.copy()\n",
    "    \n",
    "    gp = df.groupby(\"audio_id\")\n",
    "    \n",
    "    for audio_id, audio_df in gp:\n",
    "        idxs = audio_df.index.values\n",
    "        \n",
    "        multi_label_counter = 0\n",
    "        multi_label_idxs = []\n",
    "        for idx in idxs:\n",
    "            if len(avg_labels[idx].split(\" \")) >= 2:\n",
    "                multi_label_idxs.append(idx)\n",
    "                multi_label_counter += 1\n",
    "                \n",
    "        if multi_label_counter >= 10:\n",
    "            for ml_idx in multi_label_idxs:\n",
    "                row_post_labels = post_labels[ml_idx].split(\" \")\n",
    "                row_avg_labels = avg_labels[ml_idx].split(\" \")\n",
    "\n",
    "                if len(row_post_labels) == 1 and  (row_post_labels[0] in row_avg_labels or row_post_labels[0] == \"nocall\"):\n",
    "                    final_labels[ml_idx] = avg_labels[ml_idx]\n",
    "            \n",
    "    return final_labels"
   ]
  },
  {
   "cell_type": "code",
   "execution_count": null,
   "metadata": {
    "scrolled": true
   },
   "outputs": [],
   "source": [
    "c=2.5\n",
    "q=0.99\n",
    "w=2.0\n",
    "\n",
    "oof = np.mean(concat_oof, axis=0)[use_idx, :]\n",
    "post_oof = post_process_v2_plus(oof, valid_df, c, q, w)\n",
    "\n",
    "avg_oof_labels = extract_label(oof, th=0.27)"
   ]
  },
  {
   "cell_type": "code",
   "execution_count": null,
   "metadata": {
    "scrolled": true
   },
   "outputs": [],
   "source": [
    "th_list = []\n",
    "scores = []\n",
    "\n",
    "best_score = 0\n",
    "besth_th = 0\n",
    "best_final_labels = None\n",
    "\n",
    "for i in tqdm(range(30, 200)):\n",
    "    th = i / 100.0\n",
    "\n",
    "    oof_labels = extract_label(post_oof, th)\n",
    "    post_labels = post_process_v10(post_oof, oof_labels, valid_df, window_size=5, c=1.2)\n",
    "    post_labels = post_process_v14(post_labels, avg_oof_labels, valid_df)\n",
    "\n",
    "    score = row_wise_micro_averaged_f1_score(val_y_labels, post_labels)\n",
    "    \n",
    "    if best_score < score:\n",
    "        best_score  = score\n",
    "        best_th = th\n",
    "        best_final_labels = post_labels\n",
    "\n",
    "    th_list.append(th)\n",
    "    scores.append(score)"
   ]
  },
  {
   "cell_type": "code",
   "execution_count": null,
   "metadata": {},
   "outputs": [],
   "source": [
    "print(f\"best score: {best_score:.4f} (th={best_th})\")   # 0.7500 (th=0.64)"
   ]
  },
  {
   "cell_type": "code",
   "execution_count": null,
   "metadata": {
    "scrolled": true
   },
   "outputs": [],
   "source": [
    "plt.plot(th_list, scores)\n",
    "plt.grid()"
   ]
  },
  {
   "cell_type": "code",
   "execution_count": null,
   "metadata": {
    "scrolled": true
   },
   "outputs": [],
   "source": [
    "best_labels_2_10 = best_final_labels\n",
    "diff_scores13 = get_audio_score(best_final_labels, valid_df, score_dict)\n",
    "all_diff_scores[\"cqw_and_modified_firstlabel_replace\"] = diff_scores13"
   ]
  },
  {
   "cell_type": "code",
   "execution_count": null,
   "metadata": {
    "scrolled": false
   },
   "outputs": [],
   "source": [
    "a = valid_df.copy()\n",
    "a[\"preds\"] = best_final_labels\n",
    "a.iloc[:240][\"preds\"].value_counts()"
   ]
  },
  {
   "cell_type": "code",
   "execution_count": null,
   "metadata": {
    "scrolled": false
   },
   "outputs": [],
   "source": [
    "a.iloc[960: 960 + 120][\"preds\"].value_counts()"
   ]
  },
  {
   "cell_type": "markdown",
   "metadata": {},
   "source": [
    " "
   ]
  },
  {
   "cell_type": "markdown",
   "metadata": {},
   "source": [
    " "
   ]
  },
  {
   "cell_type": "code",
   "execution_count": null,
   "metadata": {
    "scrolled": true
   },
   "outputs": [],
   "source": [
    "s = 960\n",
    "e = s + 120\n",
    "\n",
    "a = valid_df.iloc[s: e].copy()\n",
    "a = a.reset_index(drop=True)\n",
    "a[\"oof_labels\"] = extract_label(oof[s: e], th=0.27)\n",
    "\n",
    "post_oof = post_process_v2_plus(oof[s: e], a, 2.5, 0.99, 2.0)\n",
    "post_labels_ = extract_label(post_oof, th=0.65)\n",
    "a[\"post_oof_labels\"] = post_process_v10(post_oof, post_labels_, a, window_size=5, c=1.2)\n",
    "\n",
    "a[\"oof_and_post_oof_labels\"] = a[\"post_oof_labels\"].copy()\n",
    "for idx in a.index:\n",
    "    labels1 = a.loc[idx, \"oof_labels\"].split(\" \")\n",
    "    labels2 = a.loc[idx, \"post_oof_labels\"].split(\" \")\n",
    "    \n",
    "    if len(labels1) >= 2 and len(labels2) == 1:\n",
    "        if labels2[0] in labels1:\n",
    "            a.loc[idx, \"oof_and_post_oof_labels\"] = a.loc[idx, \"oof_labels\"]"
   ]
  },
  {
   "cell_type": "code",
   "execution_count": null,
   "metadata": {},
   "outputs": [],
   "source": [
    "score1 = row_wise_micro_averaged_f1_score(a[\"birds\"].tolist(), a[\"oof_labels\"].tolist())\n",
    "score1"
   ]
  },
  {
   "cell_type": "code",
   "execution_count": null,
   "metadata": {},
   "outputs": [],
   "source": [
    "score2 = row_wise_micro_averaged_f1_score(a[\"birds\"].tolist(), a[\"post_oof_labels\"].tolist())\n",
    "score2"
   ]
  },
  {
   "cell_type": "code",
   "execution_count": null,
   "metadata": {},
   "outputs": [],
   "source": [
    "score3 = row_wise_micro_averaged_f1_score(a[\"birds\"].tolist(), a[\"oof_and_post_oof_labels\"].tolist())\n",
    "score3"
   ]
  },
  {
   "cell_type": "code",
   "execution_count": null,
   "metadata": {},
   "outputs": [],
   "source": [
    "a"
   ]
  },
  {
   "cell_type": "markdown",
   "metadata": {},
   "source": [
    " "
   ]
  },
  {
   "cell_type": "markdown",
   "metadata": {},
   "source": [
    " "
   ]
  },
  {
   "cell_type": "markdown",
   "metadata": {},
   "source": [
    "## SED"
   ]
  },
  {
   "cell_type": "code",
   "execution_count": null,
   "metadata": {},
   "outputs": [],
   "source": [
    "clip_framewise_outputs_dict = joblib.load(\"./clip_framewise_outputs_dict.pkl\")\n",
    "clip_clipwise_outputs_dict = joblib.load(\"./clip_clipwise_outputs_dict.pkl\")"
   ]
  },
  {
   "cell_type": "code",
   "execution_count": null,
   "metadata": {},
   "outputs": [],
   "source": [
    "unit = 3001\n",
    "\n",
    "a = np.where(clip_framewise_outputs_dict[\"7843\"] >= 0.95, 1, 0)\n",
    "clip_list = []\n",
    "\n",
    "for i in range(20):\n",
    "    b = a[unit * i: unit * (i + 1), :]\n",
    "    c = np.where(b.sum(0) >= 1, 1, 0).sum()\n",
    "    clip_list.append(c)\n",
    "    \n",
    "clip_list"
   ]
  },
  {
   "cell_type": "markdown",
   "metadata": {},
   "source": [
    " "
   ]
  },
  {
   "cell_type": "markdown",
   "metadata": {},
   "source": [
    " "
   ]
  },
  {
   "cell_type": "markdown",
   "metadata": {},
   "source": [
    "## Final Voting\n",
    "- Simple Avg\n",
    "- Avg > V2 > V10\n",
    "- Avg > V12(window_size=5) > V10"
   ]
  },
  {
   "cell_type": "code",
   "execution_count": null,
   "metadata": {},
   "outputs": [],
   "source": [
    "post_labels_list = [\n",
    "    best_labels1,\n",
    "    best_labels_nc,\n",
    "    best_labels2,\n",
    "    best_labels8,\n",
    "    best_labels_2_10,\n",
    "]\n",
    "\n",
    "for vote_lim in range(len(post_labels_list)):\n",
    "    final_oof_labels = voting(post_labels_list, vote_lim=vote_lim)\n",
    "    score = row_wise_micro_averaged_f1_score(val_y_labels, final_oof_labels)\n",
    "    print(f\"vote_lim={vote_lim}   {score:.4f}\")"
   ]
  },
  {
   "cell_type": "code",
   "execution_count": null,
   "metadata": {
    "scrolled": true
   },
   "outputs": [],
   "source": [
    "a = pd.DataFrame(post_labels_list).T\n",
    "a.columns = [f\"post{i}\" for i in range(len(post_labels_list))]\n",
    "a[\"final\"] = final_oof_labels\n",
    "a"
   ]
  },
  {
   "cell_type": "markdown",
   "metadata": {},
   "source": [
    " "
   ]
  },
  {
   "cell_type": "markdown",
   "metadata": {},
   "source": [
    " "
   ]
  },
  {
   "cell_type": "markdown",
   "metadata": {},
   "source": [
    "## 閾値研究"
   ]
  },
  {
   "cell_type": "code",
   "execution_count": null,
   "metadata": {},
   "outputs": [],
   "source": [
    "def optim_th(y_labels, preds):\n",
    "    best_score = 0\n",
    "    besth_th = 0\n",
    "    best_final_labels = None\n",
    "    base_score = 0\n",
    "\n",
    "    for i in range(100):\n",
    "        th = i / 100.0\n",
    "\n",
    "        pred_labels = extract_label(preds, th)\n",
    "\n",
    "        score = row_wise_micro_averaged_f1_score(y_labels, pred_labels)\n",
    "\n",
    "        if best_score < score:\n",
    "            best_score  = score\n",
    "            best_th = th\n",
    "            best_final_labels = pred_labels\n",
    "            \n",
    "        if th == 0.27:\n",
    "            base_score = score\n",
    "        \n",
    "    return best_score, best_th, base_score\n",
    "\n",
    "\n",
    "def get_info(df):\n",
    "    site = df[\"site\"].values[0]\n",
    "    nocall_num = len(df[df[\"birds\"] == \"nocall\"])\n",
    "    birdcall_num = len(df[df[\"birds\"] != \"nocall\"])\n",
    "    return site, nocall_num, birdcall_num\n",
    "\n",
    "\n",
    "def get_preds_info(preds):\n",
    "    mean_row_mean = preds.mean(axis=0).mean()\n",
    "    mean_row_max = preds.max(axis=0).mean()\n",
    "    return mean_row_mean, mean_row_max\n",
    "\n",
    "def get_pred_labels_info(pred_labels):\n",
    "    pred_nocall_count = 0\n",
    "    for labels in pred_labels:\n",
    "        if labels == \"nocall\":\n",
    "            pred_nocall_count += 1\n",
    "    \n",
    "    return pred_nocall_count"
   ]
  },
  {
   "cell_type": "code",
   "execution_count": null,
   "metadata": {},
   "outputs": [],
   "source": [
    "oof = np.mean(concat_oof, axis=0)[use_idx, :]\n",
    "oof_labels = extract_label(oof, th=0.27)\n",
    "\n",
    "post_oof = post_process_v2_plus(oof, valid_df, c=2.5, q=0.99, w=2.0)"
   ]
  },
  {
   "cell_type": "code",
   "execution_count": null,
   "metadata": {},
   "outputs": [],
   "source": [
    "th_dict = {}\n",
    "\n",
    "gp = valid_df.groupby(\"audio_id\")\n",
    "for audio_id, audio_df in gp:\n",
    "    idx = audio_df.index.values\n",
    "    score, th, base_score = optim_th(audio_df[\"birds\"].values, oof[idx, :])\n",
    "    post_score, post_th, _ = optim_th(audio_df[\"birds\"].values, post_oof[idx, :])\n",
    "    site, nocall_num, birdcall_num = get_info(audio_df)\n",
    "    mean_row_mean, mean_row_max = get_preds_info(oof[idx, :])\n",
    "    birdcall_p = oof99[idx, :].mean()\n",
    "    pred_nocall_count = get_pred_labels_info(oof_labels[idx[0]: idx[-1] + 1])\n",
    "\n",
    "    th_dict[audio_id] = {\n",
    "        \"site\": site,\n",
    "        \"best_th\": th,\n",
    "        \"score\": score,\n",
    "        \"post_th\": post_th,\n",
    "        \"post_score\": post_score,\n",
    "        \"change_score\": score - base_score,\n",
    "        \"nocall_num\": nocall_num,\n",
    "        \"birdcall_num\": birdcall_num,\n",
    "        \"mean_row_mean\": mean_row_mean,\n",
    "        \"mean_row_max\": mean_row_max,\n",
    "        \"birdcall_p\": birdcall_p,\n",
    "        \"pred_nocall_count\": pred_nocall_count,\n",
    "    }"
   ]
  },
  {
   "cell_type": "code",
   "execution_count": null,
   "metadata": {},
   "outputs": [],
   "source": [
    "score_df = pd.DataFrame.from_dict(th_dict, orient=\"index\")\n",
    "score_df.sort_values(by=\"best_th\")"
   ]
  },
  {
   "cell_type": "code",
   "execution_count": null,
   "metadata": {},
   "outputs": [],
   "source": [
    "(score_df[\"score\"].values * 120).sum() / 2040"
   ]
  },
  {
   "cell_type": "code",
   "execution_count": null,
   "metadata": {},
   "outputs": [],
   "source": [
    "# audio_id  oof_labels_num\n",
    "# 2782      1                 102\n",
    "#           2                  18\n",
    "# 7843      1                 120\n",
    "# 10534     1                 116\n",
    "#           2                   4\n",
    "# 11254     1                 120\n",
    "# 18003     1                 119\n",
    "#           2                   1\n",
    "# 20152     1                 120\n",
    "# 21767     1                 119\n",
    "#           2                   1\n",
    "# 26709     1                 120\n",
    "# 26746     1                 120\n",
    "# 28933     1                 117\n",
    "#           2                   3\n",
    "# 31928     1                 120\n",
    "# 42907     1                 120\n",
    "# 44957     1                 119\n",
    "#           2                   1\n",
    "# 50878     1                 118\n",
    "#           2                   2\n",
    "# 51010     1                 114\n",
    "#           2                   6\n",
    "# 54955     1                 120\n",
    "# 57610     1                 119\n",
    "#           2                   1\n",
    "# dtype: int64"
   ]
  },
  {
   "cell_type": "code",
   "execution_count": null,
   "metadata": {},
   "outputs": [],
   "source": []
  },
  {
   "cell_type": "code",
   "execution_count": null,
   "metadata": {
    "scrolled": false
   },
   "outputs": [],
   "source": [
    "diff_df = pd.DataFrame.from_dict(all_diff_scores)\n",
    "columns = list(diff_df.columns)\n",
    "\n",
    "diff_df = pd.concat([\n",
    "    valid_df[valid_df[\"birds\"] == \"nocall\"].groupby(\"audio_id\").size(),\n",
    "    valid_df.groupby(\"audio_id\")[\"site\"].unique(),\n",
    "    pd.DataFrame.from_dict(score_dict, orient=\"index\", columns=[\"score\"]),\n",
    "    diff_df,\n",
    "], axis=1)\n",
    "\n",
    "diff_df.columns = [\"nocall_num\", \"site\", \"score\"] + columns\n",
    "\n",
    "diff_df[\"nocall_num\"] = diff_df[\"nocall_num\"].fillna(0)\n",
    "diff_df[\"site\"] = diff_df[\"site\"].apply(lambda x: x[0])\n",
    "\n",
    "diff_df.sort_values(by=\"nocall_num\")"
   ]
  },
  {
   "cell_type": "code",
   "execution_count": null,
   "metadata": {},
   "outputs": [],
   "source": [
    "diff_df[diff_df[\"nocall_num\"] >= 100]"
   ]
  },
  {
   "cell_type": "code",
   "execution_count": null,
   "metadata": {},
   "outputs": [],
   "source": [
    "diff_df[diff_df[\"site\"] == \"SSW\"].sort_values(by=\"nocall_num\")"
   ]
  },
  {
   "cell_type": "code",
   "execution_count": null,
   "metadata": {},
   "outputs": [],
   "source": [
    "diff_df[diff_df[\"site\"] == \"COR\"].sort_values(by=\"nocall_num\")"
   ]
  },
  {
   "cell_type": "code",
   "execution_count": null,
   "metadata": {},
   "outputs": [],
   "source": []
  },
  {
   "cell_type": "code",
   "execution_count": null,
   "metadata": {},
   "outputs": [],
   "source": [
    "valid_df"
   ]
  },
  {
   "cell_type": "code",
   "execution_count": null,
   "metadata": {},
   "outputs": [],
   "source": []
  }
 ],
 "metadata": {
  "kernelspec": {
   "display_name": "plot",
   "language": "python",
   "name": "plot"
  },
  "language_info": {
   "codemirror_mode": {
    "name": "ipython",
    "version": 3
   },
   "file_extension": ".py",
   "mimetype": "text/x-python",
   "name": "python",
   "nbconvert_exporter": "python",
   "pygments_lexer": "ipython3",
   "version": "3.6.13"
  }
 },
 "nbformat": 4,
 "nbformat_minor": 4
}
