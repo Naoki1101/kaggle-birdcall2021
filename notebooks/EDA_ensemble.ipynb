{
 "cells": [
  {
   "cell_type": "code",
   "execution_count": 1,
   "metadata": {},
   "outputs": [],
   "source": [
    "import sys\n",
    "from collections import Counter\n",
    "\n",
    "import numpy as np\n",
    "import pandas as pd\n",
    "from scipy import stats\n",
    "from tqdm.notebook import tqdm\n",
    "import optuna\n",
    "import joblib\n",
    "from sklearn.metrics import accuracy_score\n",
    "%matplotlib inline\n",
    "import matplotlib.pyplot as plt\n",
    "import warnings\n",
    "warnings.filterwarnings(\"ignore\")\n",
    "\n",
    "sys.path.append('../src')\n",
    "import const\n",
    "from metrics import micro_f1_similarity, row_wise_micro_averaged_f1_score\n",
    "\n",
    "pd.options.display.max_rows = 120"
   ]
  },
  {
   "cell_type": "code",
   "execution_count": 2,
   "metadata": {},
   "outputs": [],
   "source": [
    "valid_df = pd.read_csv('../data/input/train_soundscape_labels.csv')\n",
    "use_idx = valid_df[~valid_df[\"audio_id\"].isin([7019, 7954, 14473])].index\n",
    "# use_idx = valid_df[valid_df[\"audio_id\"].isin([7019, 7954, 14473, 2782, 7843, 20152, 28933, 54955])].index\n",
    "drop_idx = valid_df[valid_df[\"audio_id\"].isin([7019, 7954, 14473])].index\n",
    "valid_df = valid_df.iloc[use_idx].reset_index(drop=True)\n",
    "\n",
    "val_y_labels = valid_df[\"birds\"].tolist()\n",
    "\n",
    "all_diff_scores = {}"
   ]
  },
  {
   "cell_type": "code",
   "execution_count": 3,
   "metadata": {},
   "outputs": [],
   "source": [
    "def fill_dropped(dropped_array, drop_idx):\n",
    "    filled_array = np.zeros(\n",
    "        (len(dropped_array) + len(drop_idx), dropped_array.shape[1])\n",
    "    )\n",
    "    idx_array = np.arange(len(filled_array))\n",
    "    use_idx = np.delete(idx_array, drop_idx)\n",
    "    filled_array[use_idx, :] = dropped_array\n",
    "    return filled_array"
   ]
  },
  {
   "cell_type": "code",
   "execution_count": 4,
   "metadata": {},
   "outputs": [],
   "source": [
    "def extract_label(preds, th=0.5):\n",
    "    events = preds >= th\n",
    "    nocall_col = np.zeros((len(preds), 1)).astype(bool)\n",
    "    nocall_col[events.sum(1) == 0] = True\n",
    "    events = np.concatenate([events, nocall_col], axis=1)\n",
    "    \n",
    "    predict_labels = []\n",
    "    for i in range(len(events)):\n",
    "        event = events[i, :]\n",
    "        labels = np.argwhere(event).reshape(-1).tolist()\n",
    "        \n",
    "        row_labels = []\n",
    "        for label in labels:\n",
    "            row_labels.append(const.INV_BIRD_CODE[label])\n",
    "        predict_labels.append(\" \".join(row_labels))\n",
    "\n",
    "    return predict_labels"
   ]
  },
  {
   "cell_type": "code",
   "execution_count": 5,
   "metadata": {},
   "outputs": [],
   "source": [
    "def set_audio_base_score(pred_labels, df):\n",
    "    score_dict = {}\n",
    "    \n",
    "    gp = df.groupby(\"audio_id\")\n",
    "    for audio_id, audio_df in gp:\n",
    "        idxs = audio_df.index.values\n",
    "        score = row_wise_micro_averaged_f1_score(audio_df[\"birds\"], np.array(pred_labels)[idxs])\n",
    "        score_dict[audio_id] = score\n",
    "        \n",
    "    return score_dict\n",
    "\n",
    "def get_audio_score(pred_labels, df, score_dict):\n",
    "    diff_scores = {}\n",
    "\n",
    "    gp = df.groupby(\"audio_id\")\n",
    "    for audio_id, audio_df in gp:\n",
    "        idxs = audio_df.index.values\n",
    "        score = row_wise_micro_averaged_f1_score(audio_df[\"birds\"], np.array(pred_labels)[idxs])\n",
    "        base_score = score_dict[audio_id]\n",
    "\n",
    "        print(f\"{audio_id}: {score:.4f} [{score - base_score:.3f}]\")\n",
    "        diff_scores[audio_id] = score - base_score\n",
    "        \n",
    "    return diff_scores"
   ]
  },
  {
   "cell_type": "code",
   "execution_count": 6,
   "metadata": {},
   "outputs": [],
   "source": [
    "oof112 = np.load(\"../logs/exp_112_20210520045116_0.638/oof.npy\")\n",
    "oof112 = fill_dropped(oof112, drop_idx)\n",
    "oof114 = np.load(\"../logs/exp_114_20210520192947_0.650/oof.npy\")\n",
    "oof114 = fill_dropped(oof114, drop_idx)\n",
    "oof115 = np.load(\"../logs/exp_115_20210520232446_0.631/oof.npy\")\n",
    "oof115 = fill_dropped(oof115, drop_idx)\n",
    "oof116 = np.load(\"../logs/exp_116_20210521031557_0.641/oof.npy\")\n",
    "oof116 = fill_dropped(oof116, drop_idx)\n",
    "oof117 = np.load(\"../logs/exp_117_20210521070917_0.640/oof.npy\")\n",
    "oof117 = fill_dropped(oof117, drop_idx)\n",
    "oof118 = np.load(\"../logs/exp_118_20210521110036_0.653/oof.npy\")\n",
    "oof118 = fill_dropped(oof118, drop_idx)\n",
    "oof121 = np.load(\"../logs/exp_121_20210521215739_0.637/oof.npy\")\n",
    "oof121 = fill_dropped(oof121, drop_idx)\n",
    "\n",
    "oof129 = np.load(\"../logs/exp_129_20210523145254_0.641/oof.npy\")\n",
    "oof129 = fill_dropped(oof129, drop_idx)\n",
    "oof131 = np.load(\"../logs/exp_131_20210524005536_0.641/oof.npy\")\n",
    "oof131 = fill_dropped(oof131, drop_idx)\n",
    "oof132 = np.load(\"../logs/exp_132_20210524061303_0.623/oof.npy\")\n",
    "oof132 = fill_dropped(oof132, drop_idx)\n",
    "oof133 = np.load(\"../logs/exp_133_20210524105841_0.630/oof.npy\")\n",
    "oof133 = fill_dropped(oof133, drop_idx)\n",
    "oof134 = np.load(\"../logs/exp_134_20210524160839_0.636/oof.npy\")\n",
    "oof134 = fill_dropped(oof134, drop_idx)\n",
    "oof135 = np.load(\"../logs/exp_135_20210524214504_0.649/oof.npy\")\n",
    "oof135 = fill_dropped(oof135, drop_idx)\n",
    "oof136 = np.load(\"../logs/exp_136_20210525032138_0.623/oof.npy\")\n",
    "oof136 = fill_dropped(oof136, drop_idx)\n",
    "oof137 = np.load(\"../logs/exp_137_20210525173848_0.631/oof.npy\")\n",
    "oof137 = fill_dropped(oof137, drop_idx)\n",
    "oof139 = np.load(\"../logs/exp_139_20210526031224_0.661/oof.npy\")\n",
    "oof139 = fill_dropped(oof139, drop_idx)\n",
    "oof140 = np.load(\"../logs/exp_140_20210525120925_0.577/oof.npy\")\n",
    "oof140 = fill_dropped(oof140, drop_idx)\n",
    "oof142 = np.load(\"../logs/exp_142_20210526125837_0.651/oof.npy\")\n",
    "oof142 = fill_dropped(oof142, drop_idx)\n",
    "oof143 = np.load(\"../logs/exp_143_20210526174719_0.642/oof.npy\")\n",
    "oof143 = fill_dropped(oof143, drop_idx)\n",
    "oof144 = np.load(\"../logs/exp_144_20210526221306_0.654/oof.npy\")\n",
    "oof144 = fill_dropped(oof144, drop_idx)\n",
    "oof145 = np.load(\"../logs/exp_145_20210527081010_0.640/oof.npy\")\n",
    "oof145 = fill_dropped(oof145, drop_idx)\n",
    "\n",
    "# nocall classification\n",
    "oof59 = np.load(\"../logs/exp_059_20210505100513_0.666/oof.npy\")\n",
    "oof70 = np.load(\"../logs/exp_070_20210508193023_0.882/oof.npy\")\n",
    "oof79 = np.load(\"../logs/exp_079_20210511132329_0.874/oof.npy\")\n",
    "oof83 = np.load(\"../logs/exp_083_20210512081958_0.827/oof.npy\")\n",
    "oof99 = np.load(\"../logs/exp_099_20210515202257_0.859/oof.npy\")"
   ]
  },
  {
   "cell_type": "code",
   "execution_count": 7,
   "metadata": {},
   "outputs": [],
   "source": [
    "oof_list = [\n",
    "    oof112,\n",
    "    oof114,\n",
    "    oof115,\n",
    "    oof116,\n",
    "    oof117,\n",
    "    oof118,\n",
    "\n",
    "    oof129,\n",
    "    oof131,\n",
    "    oof132,\n",
    "#     oof137,\n",
    "    oof139,\n",
    "#     oof145\n",
    "]\n",
    "\n",
    "concat_oof = []\n",
    "for oof_ in oof_list:\n",
    "    concat_oof.append(oof_[np.newaxis, :, :])\n",
    "concat_oof = np.concatenate(concat_oof)"
   ]
  },
  {
   "cell_type": "markdown",
   "metadata": {},
   "source": [
    " "
   ]
  },
  {
   "cell_type": "markdown",
   "metadata": {},
   "source": [
    " "
   ]
  },
  {
   "cell_type": "markdown",
   "metadata": {},
   "source": [
    "## BaseScore"
   ]
  },
  {
   "cell_type": "code",
   "execution_count": 8,
   "metadata": {},
   "outputs": [
    {
     "data": {
      "text/plain": [
       "0.6936928104575161"
      ]
     },
     "execution_count": 8,
     "metadata": {},
     "output_type": "execute_result"
    }
   ],
   "source": [
    "oof = np.mean(concat_oof, axis=0)[use_idx, :]\n",
    "base_oof_labels = extract_label(oof, th=0.33)\n",
    "score_dict = set_audio_base_score(base_oof_labels, valid_df)\n",
    "np.mean(list(score_dict.values()))"
   ]
  },
  {
   "cell_type": "markdown",
   "metadata": {},
   "source": [
    " "
   ]
  },
  {
   "cell_type": "markdown",
   "metadata": {},
   "source": [
    " "
   ]
  },
  {
   "cell_type": "markdown",
   "metadata": {},
   "source": [
    "## All nocall"
   ]
  },
  {
   "cell_type": "code",
   "execution_count": 9,
   "metadata": {},
   "outputs": [
    {
     "data": {
      "text/plain": [
       "0.5769607843137236"
      ]
     },
     "execution_count": 9,
     "metadata": {},
     "output_type": "execute_result"
    }
   ],
   "source": [
    "oof_labels = [\"nocall\"] * len(valid_df)\n",
    "score = row_wise_micro_averaged_f1_score(val_y_labels, oof_labels)\n",
    "score"
   ]
  },
  {
   "cell_type": "markdown",
   "metadata": {},
   "source": [
    " "
   ]
  },
  {
   "cell_type": "markdown",
   "metadata": {},
   "source": [
    " "
   ]
  },
  {
   "cell_type": "markdown",
   "metadata": {},
   "source": [
    "## Simple Average"
   ]
  },
  {
   "cell_type": "code",
   "execution_count": 10,
   "metadata": {},
   "outputs": [],
   "source": [
    "oof = np.mean(concat_oof, axis=0)[use_idx, :]\n",
    "\n",
    "\n",
    "th_list = []\n",
    "scores = []\n",
    "\n",
    "best_score = 0\n",
    "besth_th = 0\n",
    "best_final_labels = None\n",
    "\n",
    "for i in range(100):\n",
    "    th = i / 100.0\n",
    "\n",
    "    oof_labels = extract_label(oof, th)\n",
    "    score = row_wise_micro_averaged_f1_score(val_y_labels, oof_labels)\n",
    "    \n",
    "    if best_score < score:\n",
    "        best_score  = score\n",
    "        best_th = th\n",
    "        best_final_labels = oof_labels\n",
    "\n",
    "    th_list.append(th)\n",
    "    scores.append(score)"
   ]
  },
  {
   "cell_type": "code",
   "execution_count": 11,
   "metadata": {},
   "outputs": [
    {
     "name": "stdout",
     "output_type": "stream",
     "text": [
      "best score: 0.7049 (th=0.25)\n"
     ]
    }
   ],
   "source": [
    "print(f\"best score: {best_score:.4f} (th={best_th})\")   # best score: 0.7017 (th=0.26)"
   ]
  },
  {
   "cell_type": "code",
   "execution_count": 12,
   "metadata": {},
   "outputs": [
    {
     "data": {
      "image/png": "[encoded data removed]",
      "text/plain": [
       "<Figure size 432x288 with 1 Axes>"
      ]
     },
     "metadata": {
      "needs_background": "light"
     },
     "output_type": "display_data"
    }
   ],
   "source": [
    "plt.plot(th_list, scores)\n",
    "plt.grid()"
   ]
  },
  {
   "cell_type": "code",
   "execution_count": 13,
   "metadata": {},
   "outputs": [
    {
     "name": "stdout",
     "output_type": "stream",
     "text": [
      "2782: 0.3281 [0.069]\n",
      "7843: 0.9667 [0.000]\n",
      "10534: 0.6861 [0.031]\n",
      "11254: 0.8722 [-0.019]\n",
      "18003: 0.6528 [0.058]\n",
      "20152: 0.9250 [-0.017]\n",
      "21767: 0.3667 [0.078]\n",
      "26709: 0.5111 [-0.025]\n",
      "26746: 0.6833 [0.019]\n",
      "28933: 0.4667 [0.058]\n",
      "31928: 0.9917 [0.000]\n",
      "42907: 0.7333 [0.000]\n",
      "44957: 0.7472 [0.008]\n",
      "50878: 0.8167 [-0.058]\n",
      "51010: 0.4889 [0.000]\n",
      "54955: 0.8583 [0.008]\n",
      "57610: 0.8889 [-0.019]\n"
     ]
    }
   ],
   "source": [
    "best_labels1 = best_final_labels\n",
    "diff_scores0 = get_audio_score(best_final_labels, valid_df, score_dict)\n",
    "all_diff_scores[\"avg\"] = diff_scores0"
   ]
  },
  {
   "cell_type": "markdown",
   "metadata": {},
   "source": [
    " "
   ]
  },
  {
   "cell_type": "markdown",
   "metadata": {},
   "source": [
    " "
   ]
  },
  {
   "cell_type": "markdown",
   "metadata": {},
   "source": [
    "## Simple Average + nocall classification"
   ]
  },
  {
   "cell_type": "code",
   "execution_count": 14,
   "metadata": {},
   "outputs": [],
   "source": [
    "oof = np.mean(concat_oof, axis=0)[use_idx, :]"
   ]
  },
  {
   "cell_type": "code",
   "execution_count": 15,
   "metadata": {},
   "outputs": [],
   "source": [
    "birdcall_p = oof99\n",
    "\n",
    "for idx in range(len(oof)):\n",
    "    bp = birdcall_p[idx]\n",
    "    if bp <= 0.3:\n",
    "        col1_idx = np.argsort(oof[idx, :])[-1:]\n",
    "        oof[idx, col1_idx] /= 5"
   ]
  },
  {
   "cell_type": "code",
   "execution_count": 16,
   "metadata": {},
   "outputs": [],
   "source": [
    "th_list = []\n",
    "scores = []\n",
    "\n",
    "best_score = 0\n",
    "besth_th = 0\n",
    "best_final_labels = None\n",
    "\n",
    "for i in range(300):\n",
    "    th = i / 100.0\n",
    "\n",
    "    oof_labels = extract_label(oof, th)\n",
    "    score = row_wise_micro_averaged_f1_score(val_y_labels, oof_labels)\n",
    "    \n",
    "    if best_score < score:\n",
    "        best_score  = score\n",
    "        best_th = th\n",
    "        best_final_labels = oof_labels\n",
    "\n",
    "    th_list.append(th)\n",
    "    scores.append(score)"
   ]
  },
  {
   "cell_type": "code",
   "execution_count": 17,
   "metadata": {},
   "outputs": [
    {
     "name": "stdout",
     "output_type": "stream",
     "text": [
      "best score: 0.7064 (th=0.25)\n"
     ]
    }
   ],
   "source": [
    "print(f\"best score: {best_score:.4f} (th={best_th})\")   # best score:0.7027 (th=0.26)"
   ]
  },
  {
   "cell_type": "code",
   "execution_count": 18,
   "metadata": {},
   "outputs": [
    {
     "data": {
      "image/png": "[encoded data removed]",
      "text/plain": [
       "<Figure size 432x288 with 1 Axes>"
      ]
     },
     "metadata": {
      "needs_background": "light"
     },
     "output_type": "display_data"
    }
   ],
   "source": [
    "plt.plot(th_list, scores)\n",
    "plt.grid()"
   ]
  },
  {
   "cell_type": "code",
   "execution_count": 19,
   "metadata": {},
   "outputs": [
    {
     "name": "stdout",
     "output_type": "stream",
     "text": [
      "2782: 0.3281 [0.069]\n",
      "7843: 0.9667 [0.000]\n",
      "10534: 0.6861 [0.031]\n",
      "11254: 0.8722 [-0.019]\n",
      "18003: 0.6528 [0.058]\n",
      "20152: 0.9500 [0.008]\n",
      "21767: 0.3667 [0.078]\n",
      "26709: 0.5278 [-0.008]\n",
      "26746: 0.6833 [0.019]\n",
      "28933: 0.4583 [0.050]\n",
      "31928: 0.9917 [0.000]\n",
      "42907: 0.7250 [-0.008]\n",
      "44957: 0.7472 [0.008]\n",
      "50878: 0.8167 [-0.058]\n",
      "51010: 0.4889 [0.000]\n",
      "54955: 0.8583 [0.008]\n",
      "57610: 0.8889 [-0.019]\n"
     ]
    }
   ],
   "source": [
    "best_labels_nc = best_final_labels\n",
    "diff_scores1 = get_audio_score(best_final_labels, valid_df, score_dict)\n",
    "all_diff_scores[\"avg_nc\"] = diff_scores1"
   ]
  },
  {
   "cell_type": "markdown",
   "metadata": {},
   "source": [
    " "
   ]
  },
  {
   "cell_type": "markdown",
   "metadata": {},
   "source": [
    " "
   ]
  },
  {
   "cell_type": "markdown",
   "metadata": {},
   "source": [
    "## Voting"
   ]
  },
  {
   "cell_type": "code",
   "execution_count": 20,
   "metadata": {},
   "outputs": [],
   "source": [
    "def voting(oof_labels_list, vote_lim):\n",
    "    final_oof_labels = []\n",
    "    \n",
    "    for idx in range(len(oof_labels_list[0])):\n",
    "        birds = []\n",
    "\n",
    "        for labels in oof_labels_list:\n",
    "            birds.extend(labels[idx].split(\" \"))\n",
    "\n",
    "        birds = [x for x in birds if \"nocall\" != x and \"\" != x]\n",
    "        count_birds = Counter(birds)\n",
    "\n",
    "        final_birds = []\n",
    "        for key, value in count_birds.items():\n",
    "            if value >= vote_lim:\n",
    "                final_birds.append(key)\n",
    "\n",
    "        if len(final_birds) == 0:\n",
    "            final_birds.append(\"nocall\")\n",
    "\n",
    "        final_oof_labels.append(\" \".join(final_birds))\n",
    "\n",
    "    return final_oof_labels"
   ]
  },
  {
   "cell_type": "code",
   "execution_count": 21,
   "metadata": {},
   "outputs": [
    {
     "data": {
      "application/vnd.jupyter.widget-view+json": {
       "model_id": "a4d65ef8f36646f0a4c2e51137b9e42c",
       "version_major": 2,
       "version_minor": 0
      },
      "text/plain": [
       "HBox(children=(IntProgress(value=0), HTML(value='')))"
      ]
     },
     "metadata": {},
     "output_type": "display_data"
    },
    {
     "name": "stdout",
     "output_type": "stream",
     "text": [
      "\n"
     ]
    },
    {
     "data": {
      "application/vnd.jupyter.widget-view+json": {
       "model_id": "45bfefd2ca9f44a6863a4419a383068e",
       "version_major": 2,
       "version_minor": 0
      },
      "text/plain": [
       "HBox(children=(IntProgress(value=0), HTML(value='')))"
      ]
     },
     "metadata": {},
     "output_type": "display_data"
    },
    {
     "name": "stdout",
     "output_type": "stream",
     "text": [
      "\n"
     ]
    },
    {
     "data": {
      "application/vnd.jupyter.widget-view+json": {
       "model_id": "85024b54c677453d9e2c62f2c54c9e8c",
       "version_major": 2,
       "version_minor": 0
      },
      "text/plain": [
       "HBox(children=(IntProgress(value=0), HTML(value='')))"
      ]
     },
     "metadata": {},
     "output_type": "display_data"
    },
    {
     "name": "stdout",
     "output_type": "stream",
     "text": [
      "\n"
     ]
    }
   ],
   "source": [
    "th_list = []\n",
    "scores = []\n",
    "\n",
    "best_score = 0\n",
    "besth_th = 0\n",
    "best_vote_lim = 0\n",
    "best_final_labels = None\n",
    "\n",
    "# for vote_lim in range(1, len(oof_labels_list)):\n",
    "for vote_lim in [1, 2, 3]:\n",
    "    for i in tqdm(range(100)):\n",
    "        th = i / 100.0\n",
    "        \n",
    "        oof_labels_list = []\n",
    "        for oof_ in oof_list:\n",
    "            oof_labels_ = extract_label(oof_[use_idx, :], th)\n",
    "            oof_labels_list.append(oof_labels_)\n",
    "\n",
    "        final_oof_labels = voting(oof_labels_list, vote_lim)\n",
    "\n",
    "        score = row_wise_micro_averaged_f1_score(val_y_labels, final_oof_labels)\n",
    "            \n",
    "        if best_score < score:\n",
    "            best_score = score\n",
    "            best_th = th\n",
    "            best_vote_lim = vote_lim\n",
    "            best_final_labels = final_oof_labels\n",
    "                \n",
    "        th_list.append(th)\n",
    "        scores.append(score)"
   ]
  },
  {
   "cell_type": "code",
   "execution_count": 22,
   "metadata": {},
   "outputs": [
    {
     "data": {
      "text/plain": [
       "0.6958986928104551"
      ]
     },
     "execution_count": 22,
     "metadata": {},
     "output_type": "execute_result"
    }
   ],
   "source": [
    "best_score   # 0.7430"
   ]
  },
  {
   "cell_type": "code",
   "execution_count": 23,
   "metadata": {},
   "outputs": [
    {
     "data": {
      "text/plain": [
       "0.42"
      ]
     },
     "execution_count": 23,
     "metadata": {},
     "output_type": "execute_result"
    }
   ],
   "source": [
    "best_th"
   ]
  },
  {
   "cell_type": "code",
   "execution_count": 24,
   "metadata": {},
   "outputs": [
    {
     "data": {
      "text/plain": [
       "3"
      ]
     },
     "execution_count": 24,
     "metadata": {},
     "output_type": "execute_result"
    }
   ],
   "source": [
    "best_vote_lim"
   ]
  },
  {
   "cell_type": "code",
   "execution_count": 25,
   "metadata": {},
   "outputs": [
    {
     "data": {
      "text/plain": [
       "[<matplotlib.lines.Line2D at 0x7f4431daf240>]"
      ]
     },
     "execution_count": 25,
     "metadata": {},
     "output_type": "execute_result"
    },
    {
     "data": {
      "image/png": "[encoded data removed]",
      "text/plain": [
       "<Figure size 1152x360 with 1 Axes>"
      ]
     },
     "metadata": {
      "needs_background": "light"
     },
     "output_type": "display_data"
    }
   ],
   "source": [
    "plt.figure(figsize=(16, 5))\n",
    "plt.plot(scores)"
   ]
  },
  {
   "cell_type": "code",
   "execution_count": 26,
   "metadata": {},
   "outputs": [
    {
     "name": "stdout",
     "output_type": "stream",
     "text": [
      "2782: 0.3053 [0.046]\n",
      "7843: 0.9667 [0.000]\n",
      "10534: 0.6889 [0.033]\n",
      "11254: 0.8722 [-0.019]\n",
      "18003: 0.6194 [0.025]\n",
      "20152: 0.9333 [-0.008]\n",
      "21767: 0.3056 [0.017]\n",
      "26709: 0.5278 [-0.008]\n",
      "26746: 0.6833 [0.019]\n",
      "28933: 0.4667 [0.058]\n",
      "31928: 0.9917 [0.000]\n",
      "42907: 0.7167 [-0.017]\n",
      "44957: 0.7389 [0.000]\n",
      "50878: 0.8000 [-0.075]\n",
      "51010: 0.4889 [0.000]\n",
      "54955: 0.8583 [0.008]\n",
      "57610: 0.8667 [-0.042]\n"
     ]
    }
   ],
   "source": [
    "diff_scores2 = get_audio_score(best_final_labels, valid_df, score_dict)\n",
    "all_diff_scores[\"voting\"] = diff_scores2"
   ]
  },
  {
   "cell_type": "markdown",
   "metadata": {},
   "source": [
    " "
   ]
  },
  {
   "cell_type": "markdown",
   "metadata": {},
   "source": [
    " "
   ]
  },
  {
   "cell_type": "markdown",
   "metadata": {},
   "source": [
    "## Simple Average > PostProcess_v12"
   ]
  },
  {
   "cell_type": "code",
   "execution_count": 27,
   "metadata": {},
   "outputs": [],
   "source": [
    "def post_process_site_12(preds, threshold=0.5, maxpreds=3):\n",
    "    preds = preds * (preds >= threshold)   # remove preds < threshold\n",
    "    \n",
    "#     next_preds = np.concatenate([preds[1:], preds[-1:]])  # pred corresponding to next window\n",
    "#     prev_preds = np.concatenate([preds[:1], preds[:-1]])  # pred corresponding to previous window\n",
    "\n",
    "    next_preds = np.concatenate([preds[1:], np.zeros((1, preds.shape[-1]))])  # pred corresponding to next window\n",
    "    prev_preds = np.concatenate([np.zeros((1, preds.shape[-1])), preds[:-1]])  # pred corresponding to previous window\n",
    "    \n",
    "    score = preds + next_preds + prev_preds  # Aggregating\n",
    "    \n",
    "    n_birds = (score >= threshold - 1e-5).sum(-1)   # threshold ?\n",
    "    n_birds = np.clip(n_birds, 0, maxpreds)  # keep at most maxpreds birds\n",
    "    \n",
    "    labels = [np.argsort(- score[i])[:n_birds[i]].tolist() for i in range(len(preds))]\n",
    "#     class_labels = [\" \".join([CLASSES[l] for l in label]) for label in labels]\n",
    "    class_labels = [\" \".join([const.INV_BIRD_CODE[l] for l in label]) if len(label) > 0 else \"nocall\" for label in labels]\n",
    "    \n",
    "    return class_labels"
   ]
  },
  {
   "cell_type": "code",
   "execution_count": 28,
   "metadata": {},
   "outputs": [],
   "source": [
    "oof = np.mean(concat_oof, axis=0)[use_idx, :]\n",
    "\n",
    "th_list = []\n",
    "scores = []\n",
    "\n",
    "best_score = 0\n",
    "besth_th = 0\n",
    "best_final_labels = None\n",
    "\n",
    "for i in range(100):\n",
    "    th = i / 100.0\n",
    "    \n",
    "    oof_labels = post_process_site_12(oof, threshold=th, maxpreds=3)\n",
    "#     oof_labels = extract_label(oof, th)\n",
    "\n",
    "    score = row_wise_micro_averaged_f1_score(val_y_labels, oof_labels)\n",
    "    \n",
    "    if best_score < score:\n",
    "        best_score  = score\n",
    "        best_th = th\n",
    "        best_final_labels = oof_labels\n",
    "\n",
    "    th_list.append(th)\n",
    "    scores.append(score)"
   ]
  },
  {
   "cell_type": "code",
   "execution_count": 29,
   "metadata": {},
   "outputs": [
    {
     "name": "stdout",
     "output_type": "stream",
     "text": [
      "best score: 0.6759 (th=0.35)\n"
     ]
    }
   ],
   "source": [
    "print(f\"best score: {best_score:.4f} (th={best_th})\")   # best score: 0.7082 (th=0.27)"
   ]
  },
  {
   "cell_type": "code",
   "execution_count": 30,
   "metadata": {},
   "outputs": [
    {
     "data": {
      "image/png": "[encoded data removed]",
      "text/plain": [
       "<Figure size 432x288 with 1 Axes>"
      ]
     },
     "metadata": {
      "needs_background": "light"
     },
     "output_type": "display_data"
    }
   ],
   "source": [
    "plt.plot(th_list, scores)\n",
    "plt.grid()"
   ]
  },
  {
   "cell_type": "code",
   "execution_count": 31,
   "metadata": {},
   "outputs": [
    {
     "name": "stdout",
     "output_type": "stream",
     "text": [
      "2782: 0.3681 [0.109]\n",
      "7843: 0.9667 [0.000]\n",
      "10534: 0.4944 [-0.161]\n",
      "11254: 0.7583 [-0.133]\n",
      "18003: 0.7000 [0.106]\n",
      "20152: 0.8917 [-0.050]\n",
      "21767: 0.3750 [0.086]\n",
      "26709: 0.5444 [0.008]\n",
      "26746: 0.6472 [-0.017]\n",
      "28933: 0.4764 [0.068]\n",
      "31928: 0.9750 [-0.017]\n",
      "42907: 0.7167 [-0.017]\n",
      "44957: 0.7222 [-0.017]\n",
      "50878: 0.7500 [-0.125]\n",
      "51010: 0.4764 [-0.013]\n",
      "54955: 0.8167 [-0.033]\n",
      "57610: 0.8111 [-0.097]\n"
     ]
    }
   ],
   "source": [
    "diff_scores3 = get_audio_score(best_final_labels, valid_df, score_dict)\n",
    "all_diff_scores[\"avg_postv12\"] = diff_scores3"
   ]
  },
  {
   "cell_type": "markdown",
   "metadata": {},
   "source": [
    " "
   ]
  },
  {
   "cell_type": "markdown",
   "metadata": {},
   "source": [
    " "
   ]
  },
  {
   "cell_type": "markdown",
   "metadata": {},
   "source": [
    "## PostProcess_v2 -> Simple Avg"
   ]
  },
  {
   "cell_type": "code",
   "execution_count": 32,
   "metadata": {},
   "outputs": [],
   "source": [
    "def post_process_v2(preds, df, c=2, q=0.99, w=1.5):\n",
    "    if \"file_id\" not in df.columns:\n",
    "        df[\"file_id\"] = df[\"audio_id\"].astype(str) + \"_\" + df[\"site\"]\n",
    "\n",
    "    post_weight_dict = {}\n",
    "    init_weight = np.ones(len(const.BIRD_CODE) - 1)\n",
    "\n",
    "    for i, file_id in enumerate(df[\"file_id\"].unique()):\n",
    "        file_id_idx = df[df[\"file_id\"] == file_id].index.values\n",
    "        sum_ = np.sum(preds[file_id_idx, :], axis=0)\n",
    "        sum_ = sum_ / np.max(sum_)\n",
    "        quantile_ = np.quantile(sum_, q)\n",
    "        \n",
    "        \n",
    "        post_weight = init_weight.copy()\n",
    "        for bc in np.argsort(sum_)[::-1]:\n",
    "            v = sum_[bc]\n",
    "            if v >= (quantile_ * c):\n",
    "                post_weight[bc] = w\n",
    "            else:\n",
    "                break\n",
    "                \n",
    "        post_weight_dict[file_id] = post_weight\n",
    "        \n",
    "    post_preds = preds.copy()\n",
    "    for idx in df.index:\n",
    "        file_id = df.loc[idx, \"file_id\"]\n",
    "        post_weight = post_weight_dict[file_id]\n",
    "        post_preds[idx, :] = preds[idx, :] * post_weight\n",
    "    \n",
    "    return post_preds"
   ]
  },
  {
   "cell_type": "code",
   "execution_count": 33,
   "metadata": {},
   "outputs": [],
   "source": [
    "c=2.0\n",
    "q=0.99\n",
    "w=2.0\n",
    "\n",
    "post_oof_list = []\n",
    "for oof_ in oof_list:\n",
    "    post_oof = post_process_v2(oof_, valid_df, c, q, w)\n",
    "    post_oof_list.append(post_oof[np.newaxis, :, :])\n",
    "post_concat_oof = np.concatenate(post_oof_list)\n",
    "\n",
    "oof = np.mean(post_concat_oof, axis=0)[use_idx, :]"
   ]
  },
  {
   "cell_type": "code",
   "execution_count": 34,
   "metadata": {},
   "outputs": [],
   "source": [
    "th_list = []\n",
    "scores = []\n",
    "\n",
    "best_score = 0\n",
    "besth_th = 0\n",
    "best_final_labels = None\n",
    "\n",
    "for i in range(100):\n",
    "    th = i / 100.0\n",
    "\n",
    "    oof_labels = extract_label(oof, th)\n",
    "\n",
    "    score = row_wise_micro_averaged_f1_score(val_y_labels, oof_labels)\n",
    "    \n",
    "    if best_score < score:\n",
    "        best_score  = score\n",
    "        best_th = th\n",
    "        best_final_labels = oof_labels\n",
    "\n",
    "    th_list.append(th)\n",
    "    scores.append(score)"
   ]
  },
  {
   "cell_type": "code",
   "execution_count": 35,
   "metadata": {},
   "outputs": [
    {
     "name": "stdout",
     "output_type": "stream",
     "text": [
      "best score: 0.7079 (th=0.47)\n"
     ]
    }
   ],
   "source": [
    "print(f\"best score: {best_score:.4f} (th={best_th})\")   # best_score: 0.7038 (th=0.49)"
   ]
  },
  {
   "cell_type": "code",
   "execution_count": 36,
   "metadata": {},
   "outputs": [
    {
     "data": {
      "image/png": "[encoded data removed]",
      "text/plain": [
       "<Figure size 432x288 with 1 Axes>"
      ]
     },
     "metadata": {
      "needs_background": "light"
     },
     "output_type": "display_data"
    }
   ],
   "source": [
    "plt.plot(th_list, scores)\n",
    "plt.grid()"
   ]
  },
  {
   "cell_type": "code",
   "execution_count": 37,
   "metadata": {},
   "outputs": [
    {
     "name": "stdout",
     "output_type": "stream",
     "text": [
      "2782: 0.3461 [0.087]\n",
      "7843: 0.9667 [0.000]\n",
      "10534: 0.6694 [0.014]\n",
      "11254: 0.9000 [0.008]\n",
      "18003: 0.6611 [0.067]\n",
      "20152: 0.9500 [0.008]\n",
      "21767: 0.3500 [0.061]\n",
      "26709: 0.5222 [-0.014]\n",
      "26746: 0.6861 [0.022]\n",
      "28933: 0.4625 [0.054]\n",
      "31928: 1.0000 [0.008]\n",
      "42907: 0.6750 [-0.058]\n",
      "44957: 0.7806 [0.042]\n",
      "50878: 0.8917 [0.017]\n",
      "51010: 0.4250 [-0.064]\n",
      "54955: 0.8333 [-0.017]\n",
      "57610: 0.9139 [0.006]\n"
     ]
    }
   ],
   "source": [
    "best_labels2 = best_final_labels\n",
    "diff_scores4 = get_audio_score(best_final_labels, valid_df, score_dict)\n",
    "all_diff_scores[\"cqw_avg\"] = diff_scores4"
   ]
  },
  {
   "cell_type": "markdown",
   "metadata": {},
   "source": [
    " "
   ]
  },
  {
   "cell_type": "markdown",
   "metadata": {},
   "source": [
    "## PostProcess_v3 -> Simple Avg"
   ]
  },
  {
   "cell_type": "code",
   "execution_count": 38,
   "metadata": {},
   "outputs": [],
   "source": [
    "def post_process_v3(preds, df):\n",
    "    if \"file_id\" not in df.columns:\n",
    "        df[\"file_id\"] = df[\"audio_id\"].astype(str) + \"_\" + df[\"site\"]\n",
    "    \n",
    "    modified_preds = np.zeros_like(preds)\n",
    "    for i, file_id in enumerate(df[\"file_id\"].unique()):\n",
    "        file_id_idx = df[df[\"file_id\"] == file_id].index.values\n",
    "        mean_ = np.mean(preds[file_id_idx, :], axis=0)\n",
    "        \n",
    "        if mean_.std() >= 5e-3:\n",
    "            weight = (mean_ - mean_.mean()) / mean_.std()\n",
    "            modified_preds[file_id_idx, :] = preds[file_id_idx, :] * weight\n",
    "        else:\n",
    "            modified_preds[file_id_idx, :] = preds[file_id_idx, :]\n",
    "    \n",
    "    return modified_preds"
   ]
  },
  {
   "cell_type": "code",
   "execution_count": 39,
   "metadata": {},
   "outputs": [],
   "source": [
    "post_oof_list = []\n",
    "for oof_ in oof_list:\n",
    "    post_oof = post_process_v3(oof_, valid_df)\n",
    "    post_oof_list.append(post_oof[np.newaxis, :, :])\n",
    "post_concat_oof = np.concatenate(post_oof_list)\n",
    "\n",
    "oof = np.mean(post_concat_oof, axis=0)[use_idx, :]"
   ]
  },
  {
   "cell_type": "code",
   "execution_count": 40,
   "metadata": {},
   "outputs": [],
   "source": [
    "th_list = []\n",
    "scores = []\n",
    "\n",
    "best_score = 0\n",
    "besth_th = 0\n",
    "best_final_labels = None\n",
    "\n",
    "for i in range(300):\n",
    "    th = i / 100.0\n",
    "\n",
    "    oof_labels = extract_label(oof, th)\n",
    "\n",
    "    score = row_wise_micro_averaged_f1_score(val_y_labels, oof_labels)\n",
    "    \n",
    "    if best_score < score:\n",
    "        best_score  = score\n",
    "        best_th = th\n",
    "        best_final_labels = oof_labels\n",
    "\n",
    "    th_list.append(th)\n",
    "    scores.append(score)"
   ]
  },
  {
   "cell_type": "code",
   "execution_count": 41,
   "metadata": {},
   "outputs": [
    {
     "name": "stdout",
     "output_type": "stream",
     "text": [
      "best score: 0.6887 (th=2.77)\n"
     ]
    }
   ],
   "source": [
    "print(f\"best score: {best_score:.4f} (th={best_th})\")   # 0.6807 (th=2.56)"
   ]
  },
  {
   "cell_type": "code",
   "execution_count": 42,
   "metadata": {},
   "outputs": [
    {
     "data": {
      "image/png": "[encoded data removed]",
      "text/plain": [
       "<Figure size 432x288 with 1 Axes>"
      ]
     },
     "metadata": {
      "needs_background": "light"
     },
     "output_type": "display_data"
    }
   ],
   "source": [
    "plt.plot(th_list, scores)\n",
    "plt.grid()"
   ]
  },
  {
   "cell_type": "code",
   "execution_count": 43,
   "metadata": {},
   "outputs": [
    {
     "name": "stdout",
     "output_type": "stream",
     "text": [
      "2782: 0.3989 [0.139]\n",
      "7843: 0.9667 [0.000]\n",
      "10534: 0.6444 [-0.011]\n",
      "11254: 0.8750 [-0.017]\n",
      "18003: 0.7028 [0.108]\n",
      "20152: 0.9333 [-0.008]\n",
      "21767: 0.3611 [0.072]\n",
      "26709: 0.5167 [-0.019]\n",
      "26746: 0.6639 [0.000]\n",
      "28933: 0.4403 [0.032]\n",
      "31928: 0.9583 [-0.033]\n",
      "42907: 0.6250 [-0.108]\n",
      "44957: 0.7528 [0.014]\n",
      "50878: 0.8833 [0.008]\n",
      "51010: 0.2333 [-0.256]\n",
      "54955: 0.8333 [-0.017]\n",
      "57610: 0.9194 [0.011]\n"
     ]
    }
   ],
   "source": [
    "diff_scores5 = get_audio_score(best_final_labels, valid_df, score_dict)\n",
    "all_diff_scores[\"std_avg\"] = diff_scores5"
   ]
  },
  {
   "cell_type": "markdown",
   "metadata": {},
   "source": [
    " "
   ]
  },
  {
   "cell_type": "markdown",
   "metadata": {},
   "source": [
    " "
   ]
  },
  {
   "cell_type": "markdown",
   "metadata": {},
   "source": [
    "## PostProcess v4 -> Simple Avg\n",
    "それぞれの鳥の最短距離が近いほど値が大きくなるweightを作成して、oof * weightを計算"
   ]
  },
  {
   "cell_type": "code",
   "execution_count": 44,
   "metadata": {},
   "outputs": [],
   "source": [
    "def post_process_v4(preds, df):\n",
    "    site_names = list(const.POS_DICT.keys())\n",
    "    \n",
    "    distance_array = np.load(\"../data/processed/valid_distance_array_from_min_position.npy\")\n",
    "    weight_array1 = np.where(distance_array <= 1, 2, 0)\n",
    "    weight_array2 = np.where(distance_array <= 3, 1, 0)\n",
    "    weight_array3 = np.where(distance_array <= 5, 0.5, 0)\n",
    "    weight_array = weight_array1 + weight_array2 + weight_array3\n",
    "    \n",
    "    post_preds = np.zeros_like(preds)\n",
    "    for idx in df.index:\n",
    "        site = df.loc[idx, \"site\"]\n",
    "        site_idx = site_names.index(site)\n",
    "        \n",
    "        post_preds[idx, :] = preds[idx, :] * weight_array[site_idx, :]\n",
    "    \n",
    "    return post_preds"
   ]
  },
  {
   "cell_type": "code",
   "execution_count": 45,
   "metadata": {},
   "outputs": [],
   "source": [
    "post_oof_list = []\n",
    "for oof_ in oof_list:\n",
    "    post_oof = post_process_v4(oof_, valid_df)\n",
    "    post_oof_list.append(post_oof[np.newaxis, :, :])\n",
    "post_concat_oof = np.concatenate(post_oof_list)\n",
    "\n",
    "oof = np.mean(post_concat_oof, axis=0)[use_idx, :]"
   ]
  },
  {
   "cell_type": "code",
   "execution_count": 46,
   "metadata": {},
   "outputs": [],
   "source": [
    "th_list = []\n",
    "scores = []\n",
    "\n",
    "best_score = 0\n",
    "besth_th = 0\n",
    "best_final_labels = None\n",
    "\n",
    "for i in range(200):\n",
    "    th = i / 100.0\n",
    "\n",
    "    oof_labels = extract_label(oof, th)\n",
    "\n",
    "    score = row_wise_micro_averaged_f1_score(val_y_labels, oof_labels)\n",
    "    \n",
    "    if best_score < score:\n",
    "        best_score  = score\n",
    "        best_th = th\n",
    "        best_final_labels = oof_labels\n",
    "\n",
    "    th_list.append(th)\n",
    "    scores.append(score)"
   ]
  },
  {
   "cell_type": "code",
   "execution_count": 47,
   "metadata": {},
   "outputs": [
    {
     "name": "stdout",
     "output_type": "stream",
     "text": [
      "best score: 0.6894 (th=0.54)\n"
     ]
    }
   ],
   "source": [
    "print(f\"best score: {best_score:.4f} (th={best_th})\")   # best_score: 0.6879 (th=0.8)"
   ]
  },
  {
   "cell_type": "code",
   "execution_count": 48,
   "metadata": {},
   "outputs": [
    {
     "data": {
      "image/png": "[encoded data removed]",
      "text/plain": [
       "<Figure size 432x288 with 1 Axes>"
      ]
     },
     "metadata": {
      "needs_background": "light"
     },
     "output_type": "display_data"
    }
   ],
   "source": [
    "plt.plot(th_list, scores)\n",
    "plt.grid()"
   ]
  },
  {
   "cell_type": "code",
   "execution_count": 49,
   "metadata": {},
   "outputs": [
    {
     "name": "stdout",
     "output_type": "stream",
     "text": [
      "2782: 0.4544 [0.195]\n",
      "7843: 0.9667 [0.000]\n",
      "10534: 0.6417 [-0.014]\n",
      "11254: 0.8306 [-0.061]\n",
      "18003: 0.6778 [0.083]\n",
      "20152: 0.8917 [-0.050]\n",
      "21767: 0.4083 [0.119]\n",
      "26709: 0.5333 [-0.003]\n",
      "26746: 0.7000 [0.036]\n",
      "28933: 0.5372 [0.129]\n",
      "31928: 0.9500 [-0.042]\n",
      "42907: 0.6250 [-0.108]\n",
      "44957: 0.7278 [-0.011]\n",
      "50878: 0.9333 [0.058]\n",
      "51010: 0.2333 [-0.256]\n",
      "54955: 0.8333 [-0.017]\n",
      "57610: 0.7750 [-0.133]\n"
     ]
    }
   ],
   "source": [
    "diff_scores6 = get_audio_score(best_final_labels, valid_df, score_dict)\n",
    "all_diff_scores[\"distance_avg\"] = diff_scores6"
   ]
  },
  {
   "cell_type": "markdown",
   "metadata": {},
   "source": [
    " "
   ]
  },
  {
   "cell_type": "markdown",
   "metadata": {},
   "source": [
    " "
   ]
  },
  {
   "cell_type": "markdown",
   "metadata": {},
   "source": [
    "## PostProcess v4 -> Simple Avg + nocall classification\n",
    "それぞれの鳥の最短距離が近いほど値が大きくなるweightを作成して、oof * weightを計算"
   ]
  },
  {
   "cell_type": "code",
   "execution_count": 50,
   "metadata": {},
   "outputs": [],
   "source": [
    "def post_process_v4(preds, df):\n",
    "    site_names = list(const.POS_DICT.keys())\n",
    "    \n",
    "    distance_array = np.load(\"../data/processed/valid_distance_array_from_min_position.npy\")\n",
    "    weight_array1 = np.where(distance_array <= 1, 2, 0)\n",
    "    weight_array2 = np.where(distance_array <= 3, 1, 0)\n",
    "    weight_array3 = np.where(distance_array <= 5, 0.5, 0)\n",
    "    weight_array = weight_array1 + weight_array2 + weight_array3\n",
    "    \n",
    "    post_preds = np.zeros_like(preds)\n",
    "    for idx in df.index:\n",
    "        site = df.loc[idx, \"site\"]\n",
    "        site_idx = site_names.index(site)\n",
    "        \n",
    "        post_preds[idx, :] = preds[idx, :] * weight_array[site_idx, :]\n",
    "    \n",
    "    return post_preds"
   ]
  },
  {
   "cell_type": "code",
   "execution_count": 51,
   "metadata": {},
   "outputs": [],
   "source": [
    "post_oof_list = []\n",
    "for oof_ in oof_list:\n",
    "    post_oof = post_process_v4(oof_, valid_df)\n",
    "    post_oof_list.append(post_oof[np.newaxis, :, :])\n",
    "post_concat_oof = np.concatenate(post_oof_list)\n",
    "\n",
    "oof = np.mean(post_concat_oof, axis=0)[use_idx, :]"
   ]
  },
  {
   "cell_type": "code",
   "execution_count": 52,
   "metadata": {},
   "outputs": [],
   "source": [
    "for idx in range(len(oof)):\n",
    "    nocall_p = 1 - oof99[idx]\n",
    "    if nocall_p <= 0.05:\n",
    "        col_idx = np.argsort(oof[idx, :])[-1:]\n",
    "        oof[idx, col_idx] *= 3"
   ]
  },
  {
   "cell_type": "code",
   "execution_count": 53,
   "metadata": {},
   "outputs": [],
   "source": [
    "th_list = []\n",
    "scores = []\n",
    "\n",
    "best_score = 0\n",
    "besth_th = 0\n",
    "best_final_labels = None\n",
    "\n",
    "for i in range(300):\n",
    "    th = i / 100.0\n",
    "\n",
    "    oof_labels = extract_label(oof, th)\n",
    "\n",
    "    score = row_wise_micro_averaged_f1_score(val_y_labels, oof_labels)\n",
    "    \n",
    "    if best_score < score:\n",
    "        best_score  = score\n",
    "        best_th = th\n",
    "        best_final_labels = oof_labels\n",
    "\n",
    "    th_list.append(th)\n",
    "    scores.append(score)"
   ]
  },
  {
   "cell_type": "code",
   "execution_count": 54,
   "metadata": {},
   "outputs": [
    {
     "name": "stdout",
     "output_type": "stream",
     "text": [
      "best score: 0.6943 (th=1.47)\n"
     ]
    }
   ],
   "source": [
    "print(f\"best score: {best_score:.4f} (th={best_th})\")   # best_score: 0.6902 (th=1.61)"
   ]
  },
  {
   "cell_type": "code",
   "execution_count": 55,
   "metadata": {},
   "outputs": [
    {
     "data": {
      "image/png": "[encoded data removed]",
      "text/plain": [
       "<Figure size 432x288 with 1 Axes>"
      ]
     },
     "metadata": {
      "needs_background": "light"
     },
     "output_type": "display_data"
    }
   ],
   "source": [
    "plt.plot(th_list, scores)\n",
    "plt.grid()"
   ]
  },
  {
   "cell_type": "code",
   "execution_count": 56,
   "metadata": {},
   "outputs": [
    {
     "name": "stdout",
     "output_type": "stream",
     "text": [
      "2782: 0.4656 [0.206]\n",
      "7843: 0.9750 [0.008]\n",
      "10534: 0.6194 [-0.036]\n",
      "11254: 0.8250 [-0.067]\n",
      "18003: 0.6861 [0.092]\n",
      "20152: 0.9667 [0.025]\n",
      "21767: 0.4306 [0.142]\n",
      "26709: 0.5500 [0.014]\n",
      "26746: 0.6861 [0.022]\n",
      "28933: 0.5125 [0.104]\n",
      "31928: 0.9500 [-0.042]\n",
      "42907: 0.6250 [-0.108]\n",
      "44957: 0.7361 [-0.003]\n",
      "50878: 0.9333 [0.058]\n",
      "51010: 0.2333 [-0.256]\n",
      "54955: 0.8333 [-0.017]\n",
      "57610: 0.7750 [-0.133]\n"
     ]
    }
   ],
   "source": [
    "diff_scores7 = get_audio_score(best_final_labels, valid_df, score_dict)\n",
    "all_diff_scores[\"distance_avg_nc\"] = diff_scores7"
   ]
  },
  {
   "cell_type": "markdown",
   "metadata": {},
   "source": [
    " "
   ]
  },
  {
   "cell_type": "markdown",
   "metadata": {},
   "source": [
    " "
   ]
  },
  {
   "cell_type": "markdown",
   "metadata": {},
   "source": [
    "## PostProcess v2 + v4 -> Simple Avg"
   ]
  },
  {
   "cell_type": "code",
   "execution_count": 57,
   "metadata": {},
   "outputs": [],
   "source": [
    "c=1.0\n",
    "q=0.99\n",
    "w=1.0\n",
    "\n",
    "post_oof_list= []\n",
    "for oof_ in oof_list:\n",
    "    post_oof_ = post_process_v4(oof_, valid_df)\n",
    "    post_oof_ = post_process_v2(post_oof_, valid_df, c, q, w)\n",
    "    post_oof_list.append(post_oof_[np.newaxis, :, :])\n",
    "\n",
    "post_concat_oof = np.concatenate(post_oof_list, axis=0)\n",
    "oof = np.mean(post_concat_oof, axis=0)[use_idx, :]"
   ]
  },
  {
   "cell_type": "code",
   "execution_count": 58,
   "metadata": {},
   "outputs": [],
   "source": [
    "th_list = []\n",
    "scores = []\n",
    "\n",
    "best_score = 0\n",
    "besth_th = 0\n",
    "best_final_labels = None\n",
    "\n",
    "for i in range(200):\n",
    "    th = i / 100.0\n",
    "\n",
    "    oof_labels = extract_label(oof, th)\n",
    "\n",
    "    score = row_wise_micro_averaged_f1_score(val_y_labels, oof_labels)\n",
    "    \n",
    "    if best_score < score:\n",
    "        best_score  = score\n",
    "        best_th = th\n",
    "        best_final_labels = oof_labels\n",
    "\n",
    "    th_list.append(th)\n",
    "    scores.append(score)"
   ]
  },
  {
   "cell_type": "code",
   "execution_count": 59,
   "metadata": {},
   "outputs": [
    {
     "name": "stdout",
     "output_type": "stream",
     "text": [
      "best score: 0.6894 (th=0.54)\n"
     ]
    }
   ],
   "source": [
    "print(f\"best score: {best_score:.4f} (th={best_th})\")   #  best_score: 0.6879 (th=0.8)"
   ]
  },
  {
   "cell_type": "code",
   "execution_count": 60,
   "metadata": {},
   "outputs": [
    {
     "data": {
      "image/png": "[encoded data removed]",
      "text/plain": [
       "<Figure size 432x288 with 1 Axes>"
      ]
     },
     "metadata": {
      "needs_background": "light"
     },
     "output_type": "display_data"
    }
   ],
   "source": [
    "plt.plot(th_list, scores)\n",
    "plt.grid()"
   ]
  },
  {
   "cell_type": "code",
   "execution_count": 61,
   "metadata": {},
   "outputs": [
    {
     "name": "stdout",
     "output_type": "stream",
     "text": [
      "2782: 0.4544 [0.195]\n",
      "7843: 0.9667 [0.000]\n",
      "10534: 0.6417 [-0.014]\n",
      "11254: 0.8306 [-0.061]\n",
      "18003: 0.6778 [0.083]\n",
      "20152: 0.8917 [-0.050]\n",
      "21767: 0.4083 [0.119]\n",
      "26709: 0.5333 [-0.003]\n",
      "26746: 0.7000 [0.036]\n",
      "28933: 0.5372 [0.129]\n",
      "31928: 0.9500 [-0.042]\n",
      "42907: 0.6250 [-0.108]\n",
      "44957: 0.7278 [-0.011]\n",
      "50878: 0.9333 [0.058]\n",
      "51010: 0.2333 [-0.256]\n",
      "54955: 0.8333 [-0.017]\n",
      "57610: 0.7750 [-0.133]\n"
     ]
    }
   ],
   "source": [
    "diff_scores8 = get_audio_score(best_final_labels, valid_df, score_dict)\n",
    "all_diff_scores[\"distance_cqw_avg\"] = diff_scores8"
   ]
  },
  {
   "cell_type": "markdown",
   "metadata": {},
   "source": [
    " "
   ]
  },
  {
   "cell_type": "markdown",
   "metadata": {},
   "source": [
    " "
   ]
  },
  {
   "cell_type": "markdown",
   "metadata": {},
   "source": [
    "## 前後のlabelがfist_labelと一致していたら..."
   ]
  },
  {
   "cell_type": "code",
   "execution_count": 62,
   "metadata": {},
   "outputs": [],
   "source": [
    "def intersect(df, col1, col2):\n",
    "    intersect_list = []\n",
    "    for idx in df.index.values:\n",
    "        col1_array = df.loc[idx, col1].split(\" \")\n",
    "        col2_array = df.loc[idx, col2].split(\" \")\n",
    "        intersect = np.intersect1d(col1_array, col2_array)\n",
    "        intersect_list.append(\" \".join(list(intersect)))\n",
    "        \n",
    "    return intersect_list\n",
    "\n",
    "\n",
    "def shift(df, freq):\n",
    "    shift_array = np.array([None] * len(df))\n",
    "\n",
    "    gp = df.groupby(\"audio_id\")\n",
    "    for audio_id, audio_df in gp:\n",
    "        idxs = audio_df.index.values\n",
    "        audio_shift_array = audio_df[\"pred_labels\"].shift(freq).values\n",
    "        \n",
    "        if freq > 0:\n",
    "            audio_shift_array[:freq] = \"None\"\n",
    "        elif freq < 0:\n",
    "            audio_shift_array[freq:] = \"None\"\n",
    "            \n",
    "        shift_array[idxs] = audio_shift_array\n",
    "\n",
    "    return shift_array\n",
    "\n",
    "\n",
    "def arrange_label(label_array):\n",
    "    arranged_label_array = label_array.copy()\n",
    "    for idx, label in enumerate(label_array):\n",
    "        label_list = label.split(\" \")\n",
    "        if \"nocall\" in label_list and len(label_list) >= 2:\n",
    "            label_list.remove(\"nocall\")\n",
    "        \n",
    "        arranged_label_array[idx] = \" \".join(set(label_list))\n",
    "        \n",
    "    return arranged_label_array\n",
    "    \n",
    "\n",
    "def post_process_v5(preds, pred_labels, df, window_size=1):\n",
    "    df_  = df.copy()\n",
    "    \n",
    "    df_[\"pred_labels\"] = pred_labels\n",
    "    df_[\"first_label\"] = [const.INV_BIRD_CODE[bc] for bc in np.argsort(preds)[:, -1]]\n",
    "    \n",
    "    for i in range(window_size):\n",
    "        df_[f\"pre_pred_labels{i}\"] = shift(df_, freq=(i + 1))\n",
    "        df_[f\"post_pred_labels{i}\"] = shift(df_, freq=-(i + 1))\n",
    "    \n",
    "        df_[f\"pre_intersect{i}\"] = intersect(df_, \"first_label\", f\"pre_pred_labels{i}\")\n",
    "        df_[f\"post_intersect{i}\"] = intersect(df_, \"first_label\", f\"post_pred_labels{i}\")\n",
    "    \n",
    "    concat_labels = df_[\"pred_labels\"]\n",
    "    for col in df_.columns:\n",
    "        if \"pre_intersect\" in col or \"post_intersect\" in col:\n",
    "            concat_labels += df_[col].apply(lambda x: f\" {x}\" if len(x) > 0 else \"\")\n",
    "            \n",
    "    df_[\"concat_labels\"] = concat_labels\n",
    "    \n",
    "    post_labels = arrange_label(df_[\"concat_labels\"])\n",
    "    \n",
    "    return post_labels"
   ]
  },
  {
   "cell_type": "code",
   "execution_count": 63,
   "metadata": {},
   "outputs": [],
   "source": [
    "valid_df2 = valid_df.copy()\n",
    "\n",
    "oof = np.mean(concat_oof, axis=0)[use_idx, :]"
   ]
  },
  {
   "cell_type": "code",
   "execution_count": 64,
   "metadata": {
    "scrolled": true
   },
   "outputs": [
    {
     "data": {
      "application/vnd.jupyter.widget-view+json": {
       "model_id": "f0adbc172279468a90383ba9326baeff",
       "version_major": 2,
       "version_minor": 0
      },
      "text/plain": [
       "HBox(children=(IntProgress(value=0), HTML(value='')))"
      ]
     },
     "metadata": {},
     "output_type": "display_data"
    },
    {
     "name": "stdout",
     "output_type": "stream",
     "text": [
      "\n"
     ]
    }
   ],
   "source": [
    "th_list = []\n",
    "scores = []\n",
    "\n",
    "best_score = 0\n",
    "besth_th = 0\n",
    "best_final_labels = None\n",
    "\n",
    "for i in tqdm(range(100)):\n",
    "    th = i / 100.0\n",
    "\n",
    "    oof_labels = extract_label(oof, th)\n",
    "    post_labels = post_process_v5(oof, oof_labels, valid_df2, window_size=2)\n",
    "\n",
    "    score = row_wise_micro_averaged_f1_score(val_y_labels, post_labels)\n",
    "    \n",
    "    if best_score < score:\n",
    "        best_score  = score\n",
    "        best_th = th\n",
    "        best_final_labels = post_labels\n",
    "\n",
    "    th_list.append(th)\n",
    "    scores.append(score)"
   ]
  },
  {
   "cell_type": "code",
   "execution_count": 65,
   "metadata": {},
   "outputs": [
    {
     "name": "stdout",
     "output_type": "stream",
     "text": [
      "best score: 0.7263 (th=0.27)\n"
     ]
    }
   ],
   "source": [
    "print(f\"best score: {best_score:.4f} (th={best_th})\")   # best score: 0.7218 (th=0.26)"
   ]
  },
  {
   "cell_type": "code",
   "execution_count": 66,
   "metadata": {},
   "outputs": [
    {
     "data": {
      "image/png": "[encoded data removed]",
      "text/plain": [
       "<Figure size 432x288 with 1 Axes>"
      ]
     },
     "metadata": {
      "needs_background": "light"
     },
     "output_type": "display_data"
    }
   ],
   "source": [
    "plt.plot(th_list, scores)\n",
    "plt.grid()"
   ]
  },
  {
   "cell_type": "code",
   "execution_count": 67,
   "metadata": {},
   "outputs": [
    {
     "name": "stdout",
     "output_type": "stream",
     "text": [
      "2782: 0.4350 [0.176]\n",
      "7843: 0.9667 [0.000]\n",
      "10534: 0.6778 [0.022]\n",
      "11254: 0.8639 [-0.028]\n",
      "18003: 0.7167 [0.122]\n",
      "20152: 0.8667 [-0.075]\n",
      "21767: 0.4056 [0.117]\n",
      "26709: 0.5222 [-0.014]\n",
      "26746: 0.6944 [0.031]\n",
      "28933: 0.5319 [0.124]\n",
      "31928: 0.9917 [0.000]\n",
      "42907: 0.8417 [0.108]\n",
      "44957: 0.7778 [0.039]\n",
      "50878: 0.7917 [-0.083]\n",
      "51010: 0.5167 [0.028]\n",
      "54955: 0.8583 [0.008]\n",
      "57610: 0.8889 [-0.019]\n"
     ]
    }
   ],
   "source": [
    "diff_scores9 = get_audio_score(best_final_labels, valid_df, score_dict)\n",
    "all_diff_scores[\"firstlabel_replace\"] = diff_scores9"
   ]
  },
  {
   "cell_type": "markdown",
   "metadata": {},
   "source": [
    " "
   ]
  },
  {
   "cell_type": "markdown",
   "metadata": {},
   "source": [
    " "
   ]
  },
  {
   "cell_type": "markdown",
   "metadata": {},
   "source": [
    "## PostProcessV6"
   ]
  },
  {
   "cell_type": "markdown",
   "metadata": {},
   "source": [
    "- oof_labels = \"nocall\" & birdcall_p >= 0.99だったら、first_labelを採用"
   ]
  },
  {
   "cell_type": "code",
   "execution_count": 68,
   "metadata": {},
   "outputs": [],
   "source": [
    "def post_process_v6(preds, pred_labels, birdcall_preds, df):\n",
    "    first_label = [const.INV_BIRD_CODE[bc] for bc in np.argsort(preds, axis=1)[:, -1]]\n",
    "\n",
    "    processed_pred_labels = []\n",
    "    for idx, labels in enumerate(pred_labels):\n",
    "        if labels == \"nocall\" and birdcall_preds[idx] >= 0.99 and np.max(preds[idx, :]) >= 0.1:\n",
    "            processed_pred_labels.append(first_label[idx])\n",
    "        else:\n",
    "            processed_pred_labels.append(labels)\n",
    "    \n",
    "    return processed_pred_labels"
   ]
  },
  {
   "cell_type": "code",
   "execution_count": 69,
   "metadata": {},
   "outputs": [],
   "source": [
    "oof = np.mean(concat_oof, axis=0)[use_idx, :]"
   ]
  },
  {
   "cell_type": "code",
   "execution_count": 70,
   "metadata": {},
   "outputs": [
    {
     "data": {
      "application/vnd.jupyter.widget-view+json": {
       "model_id": "382a7dc941ed4fb1b584f043f4442b41",
       "version_major": 2,
       "version_minor": 0
      },
      "text/plain": [
       "HBox(children=(IntProgress(value=0), HTML(value='')))"
      ]
     },
     "metadata": {},
     "output_type": "display_data"
    },
    {
     "name": "stdout",
     "output_type": "stream",
     "text": [
      "\n"
     ]
    }
   ],
   "source": [
    "th_list = []\n",
    "scores = []\n",
    "\n",
    "best_score = 0\n",
    "besth_th = 0\n",
    "best_final_labels = None\n",
    "\n",
    "for i in tqdm(range(100)):\n",
    "    th = i / 100.0\n",
    "\n",
    "    oof_labels = extract_label(oof, th)\n",
    "    post_labels = post_process_v6(oof, oof_labels, oof99, valid_df)\n",
    "\n",
    "    score = row_wise_micro_averaged_f1_score(val_y_labels, post_labels)\n",
    "    \n",
    "    if best_score < score:\n",
    "        best_score  = score\n",
    "        best_th = th\n",
    "        best_final_labels = oof_labels\n",
    "\n",
    "    th_list.append(th)\n",
    "    scores.append(score)"
   ]
  },
  {
   "cell_type": "code",
   "execution_count": 71,
   "metadata": {},
   "outputs": [
    {
     "name": "stdout",
     "output_type": "stream",
     "text": [
      "best score: 0.6666 (th=0.31)\n"
     ]
    }
   ],
   "source": [
    "print(f\"best score: {best_score:.4f} (th={best_th})\")   # best score: 0.6610 (th=0.36)"
   ]
  },
  {
   "cell_type": "code",
   "execution_count": 72,
   "metadata": {},
   "outputs": [
    {
     "data": {
      "image/png": "[encoded data removed]",
      "text/plain": [
       "<Figure size 432x288 with 1 Axes>"
      ]
     },
     "metadata": {
      "needs_background": "light"
     },
     "output_type": "display_data"
    }
   ],
   "source": [
    "plt.plot(th_list, scores)\n",
    "plt.grid()"
   ]
  },
  {
   "cell_type": "code",
   "execution_count": 73,
   "metadata": {},
   "outputs": [
    {
     "name": "stdout",
     "output_type": "stream",
     "text": [
      "2782: 0.2636 [0.004]\n",
      "7843: 0.9667 [0.000]\n",
      "10534: 0.6639 [0.008]\n",
      "11254: 0.8833 [-0.008]\n",
      "18003: 0.6194 [0.025]\n",
      "20152: 0.9417 [0.000]\n",
      "21767: 0.2972 [0.008]\n",
      "26709: 0.5361 [0.000]\n",
      "26746: 0.6778 [0.014]\n",
      "28933: 0.4292 [0.021]\n",
      "31928: 0.9917 [0.000]\n",
      "42907: 0.7333 [0.000]\n",
      "44957: 0.7472 [0.008]\n",
      "50878: 0.8667 [-0.008]\n",
      "51010: 0.4889 [0.000]\n",
      "54955: 0.8583 [0.008]\n",
      "57610: 0.9000 [-0.008]\n"
     ]
    }
   ],
   "source": [
    "diff_scores10 = get_audio_score(best_final_labels, valid_df, score_dict)\n",
    "all_diff_scores[\"nocall_birdcall_replace\"] = diff_scores10"
   ]
  },
  {
   "cell_type": "markdown",
   "metadata": {},
   "source": [
    " "
   ]
  },
  {
   "cell_type": "markdown",
   "metadata": {},
   "source": [
    " "
   ]
  },
  {
   "cell_type": "markdown",
   "metadata": {},
   "source": [
    "## PostProcessV7"
   ]
  },
  {
   "cell_type": "markdown",
   "metadata": {},
   "source": [
    "- audio_id全体のbirdcall_predsの平均値が0.5以上だったら、PostProcessV5"
   ]
  },
  {
   "cell_type": "code",
   "execution_count": 74,
   "metadata": {},
   "outputs": [],
   "source": [
    "def intersect(df, col1, col2):\n",
    "    intersect_list = []\n",
    "    for idx in df.index.values:\n",
    "        col1_array = df.loc[idx, col1].split(\" \")\n",
    "        col2_array = df.loc[idx, col2].split(\" \")\n",
    "        intersect = np.intersect1d(col1_array, col2_array)\n",
    "        intersect_list.append(\" \".join(list(intersect)))\n",
    "        \n",
    "    return intersect_list\n",
    "\n",
    "\n",
    "def shift(df, freq):\n",
    "    shift_array = np.array([None] * len(df))\n",
    "\n",
    "    gp = df.groupby(\"audio_id\")\n",
    "    for audio_id, audio_df in gp:\n",
    "        idxs = audio_df.index.values\n",
    "        audio_shift_array = audio_df[\"pred_labels\"].shift(freq).values\n",
    "        \n",
    "        if freq > 0:\n",
    "            audio_shift_array[:freq] = \"None\"\n",
    "        elif freq < 0:\n",
    "            audio_shift_array[freq:] = \"None\"\n",
    "            \n",
    "        shift_array[idxs] = audio_shift_array\n",
    "\n",
    "    return shift_array\n",
    "\n",
    "\n",
    "def arrange_label(label_array):\n",
    "    arranged_label_array = label_array.copy()\n",
    "    for idx, label in enumerate(label_array):\n",
    "        label_list = label.split(\" \")\n",
    "        if \"nocall\" in label_list and len(label_list) >= 2:\n",
    "            label_list.remove(\"nocall\")\n",
    "        \n",
    "        arranged_label_array[idx] = \" \".join(set(label_list))\n",
    "        \n",
    "    return arranged_label_array\n",
    "    \n",
    "\n",
    "def post_process_v7(preds, pred_labels, birdcall_preds, df, window_size=1):\n",
    "    df_  = df.copy()\n",
    "    \n",
    "    df_[\"pred_labels\"] = pred_labels\n",
    "    df_[\"first_label\"] = [const.INV_BIRD_CODE[bc] for bc in np.argsort(preds)[:, -1]]\n",
    "    df_[\"birdcall_preds\"] = birdcall_preds\n",
    "    df_[\"sum_birdcall_preds\"] = df_.groupby(\"audio_id\")[\"birdcall_preds\"].transform(\"mean\")\n",
    "    \n",
    "    for i in range(window_size):\n",
    "        df_[f\"pre_pred_labels{i}\"] = shift(df_, freq=(i + 1))\n",
    "        df_[f\"post_pred_labels{i}\"] = shift(df_, freq=-(i + 1))\n",
    "    \n",
    "        df_[f\"pre_intersect{i}\"] = intersect(df_, \"first_label\", f\"pre_pred_labels{i}\")\n",
    "        df_[f\"post_intersect{i}\"] = intersect(df_, \"first_label\", f\"post_pred_labels{i}\")\n",
    "    \n",
    "    concat_labels = df_[\"pred_labels\"]\n",
    "    for col in df_.columns:\n",
    "        if \"pre_intersect\" in col or \"post_intersect\" in col:\n",
    "            concat_labels += df_[col].apply(lambda x: f\" {x}\" if len(x) > 0 else \"\")\n",
    "            \n",
    "    df_[\"concat_labels\"] = arrange_label(concat_labels)\n",
    "    \n",
    "    post_pred_labels = []\n",
    "    for idx in df_.index:\n",
    "        audio_birdcall_preds = df_.loc[idx, \"sum_birdcall_preds\"]\n",
    "        if audio_birdcall_preds >= 0.5:\n",
    "            post_label = df_.loc[idx, \"concat_labels\"]\n",
    "        else:\n",
    "            post_label = df_.loc[idx, \"pred_labels\"]\n",
    "            \n",
    "        post_pred_labels.append(post_label)\n",
    "    \n",
    "    return post_pred_labels"
   ]
  },
  {
   "cell_type": "code",
   "execution_count": 75,
   "metadata": {},
   "outputs": [],
   "source": [
    "oof = np.mean(concat_oof, axis=0)[use_idx, :]"
   ]
  },
  {
   "cell_type": "code",
   "execution_count": 76,
   "metadata": {
    "scrolled": true
   },
   "outputs": [
    {
     "data": {
      "application/vnd.jupyter.widget-view+json": {
       "model_id": "56a7e4672ca54099883e322bb0871ac1",
       "version_major": 2,
       "version_minor": 0
      },
      "text/plain": [
       "HBox(children=(IntProgress(value=0), HTML(value='')))"
      ]
     },
     "metadata": {},
     "output_type": "display_data"
    },
    {
     "name": "stdout",
     "output_type": "stream",
     "text": [
      "\n"
     ]
    }
   ],
   "source": [
    "th_list = []\n",
    "scores = []\n",
    "\n",
    "best_score = 0\n",
    "besth_th = 0\n",
    "best_final_labels = None\n",
    "\n",
    "for i in tqdm(range(100)):\n",
    "    th = i / 100.0\n",
    "\n",
    "    oof_labels = extract_label(oof, th)\n",
    "    post_labels = post_process_v7(oof, oof_labels, oof99, valid_df, window_size=2)\n",
    "\n",
    "    score = row_wise_micro_averaged_f1_score(val_y_labels, post_labels)\n",
    "    \n",
    "    if best_score < score:\n",
    "        best_score  = score\n",
    "        best_th = th\n",
    "        best_final_labels = oof_labels\n",
    "\n",
    "    th_list.append(th)\n",
    "    scores.append(score)"
   ]
  },
  {
   "cell_type": "code",
   "execution_count": 77,
   "metadata": {},
   "outputs": [
    {
     "name": "stdout",
     "output_type": "stream",
     "text": [
      "best score: 0.7288 (th=0.27)\n"
     ]
    }
   ],
   "source": [
    "print(f\"best score: {best_score:.4f} (th={best_th})\")   # 0.7243 (th=0.26)"
   ]
  },
  {
   "cell_type": "code",
   "execution_count": 78,
   "metadata": {},
   "outputs": [
    {
     "data": {
      "image/png": "[encoded data removed]",
      "text/plain": [
       "<Figure size 432x288 with 1 Axes>"
      ]
     },
     "metadata": {
      "needs_background": "light"
     },
     "output_type": "display_data"
    }
   ],
   "source": [
    "plt.plot(th_list, scores)\n",
    "plt.grid()"
   ]
  },
  {
   "cell_type": "code",
   "execution_count": 79,
   "metadata": {},
   "outputs": [
    {
     "name": "stdout",
     "output_type": "stream",
     "text": [
      "2782: 0.3150 [0.056]\n",
      "7843: 0.9667 [0.000]\n",
      "10534: 0.6861 [0.031]\n",
      "11254: 0.8833 [-0.008]\n",
      "18003: 0.6361 [0.042]\n",
      "20152: 0.9333 [-0.008]\n",
      "21767: 0.3361 [0.047]\n",
      "26709: 0.5278 [-0.008]\n",
      "26746: 0.6778 [0.014]\n",
      "28933: 0.4625 [0.054]\n",
      "31928: 0.9917 [0.000]\n",
      "42907: 0.7417 [0.008]\n",
      "44957: 0.7389 [0.000]\n",
      "50878: 0.8417 [-0.033]\n",
      "51010: 0.4889 [0.000]\n",
      "54955: 0.8583 [0.008]\n",
      "57610: 0.8972 [-0.011]\n"
     ]
    }
   ],
   "source": [
    "diff_scores11 = get_audio_score(best_final_labels, valid_df, score_dict)\n",
    "all_diff_scores[\"birdcall_preds0.5_and_v5\"] = diff_scores11"
   ]
  },
  {
   "cell_type": "markdown",
   "metadata": {},
   "source": [
    " "
   ]
  },
  {
   "cell_type": "markdown",
   "metadata": {},
   "source": [
    " "
   ]
  },
  {
   "cell_type": "markdown",
   "metadata": {},
   "source": [
    "## PostProcessV8"
   ]
  },
  {
   "cell_type": "markdown",
   "metadata": {},
   "source": [
    "- PostProcessV5の修正版"
   ]
  },
  {
   "cell_type": "code",
   "execution_count": 80,
   "metadata": {
    "scrolled": true
   },
   "outputs": [],
   "source": [
    "def shift(df, pred_labels, freq):\n",
    "    shift_labels = [None] * len(df)\n",
    "\n",
    "    gp = df.groupby(\"audio_id\")\n",
    "    for audio_id, audio_df in gp:\n",
    "        idxs = audio_df.index.values\n",
    "        audio_shift_labels = np.roll(pred_labels[idxs[0]: idxs[-1] + 1], freq)\n",
    "        \n",
    "        if freq > 0:\n",
    "            audio_shift_labels[:freq] = \"None\"\n",
    "        elif freq < 0:\n",
    "            audio_shift_labels[freq:] = \"None\"\n",
    "            \n",
    "        shift_labels[idxs[0]: idxs[-1] + 1] = audio_shift_labels\n",
    "\n",
    "    return shift_labels\n",
    "\n",
    "\n",
    "def intersect(labels_list1, labels_list2):\n",
    "    intersect_list = []\n",
    "    for idx in range(len(labels_list1)):\n",
    "        lables1 = labels_list1[idx].split(\" \")\n",
    "        lables2 = labels_list2[idx].split(\" \")\n",
    "        \n",
    "        intersect = np.intersect1d(lables1, lables2)\n",
    "        if len(intersect) == 0:\n",
    "            intersect = [\"nocall\"]\n",
    "        intersect_list.append(\" \".join(list(intersect)))\n",
    "        \n",
    "    return intersect_list\n",
    "\n",
    "\n",
    "def add_label(labels_list1, labels_list2):\n",
    "    added_labels_list = []\n",
    "    for labels1, labels2 in zip(labels_list1, labels_list2):\n",
    "\n",
    "        if labels1 == \"nocall\":\n",
    "            if labels2 == \"nocall\":\n",
    "                added_labels_list.append(\"nocall\")\n",
    "            else:\n",
    "                added_labels_list.append(labels2)\n",
    "        \n",
    "        else:\n",
    "            if labels2 == \"nocall\":\n",
    "                added_labels_list.append(labels1)\n",
    "            else:\n",
    "                added_labels = list(set((labels1 + \" \" + labels2).split(\" \")))\n",
    "                added_labels_list.append(\" \".join(added_labels))\n",
    "    \n",
    "    return added_labels_list\n",
    "\n",
    "\n",
    "def post_process_v8(preds, pred_labels, df, window_size=1):\n",
    "    confident_labels = [const.INV_BIRD_CODE[bc] for bc in np.argsort(preds)[:, -1]]\n",
    "\n",
    "    final_labels_list = pred_labels.copy()\n",
    "    for w in range(window_size):\n",
    "        for freq in [w + 1, -(w + 1)]:\n",
    "            shift_labels = shift(df, pred_labels, freq)\n",
    "            shift_intersect_labels = intersect(confident_labels, shift_labels)\n",
    "            final_labels_list = add_label(final_labels_list, shift_intersect_labels)\n",
    "        \n",
    "    return final_labels_list"
   ]
  },
  {
   "cell_type": "code",
   "execution_count": 81,
   "metadata": {
    "scrolled": true
   },
   "outputs": [],
   "source": [
    "oof = np.mean(concat_oof, axis=0)[use_idx, :]"
   ]
  },
  {
   "cell_type": "code",
   "execution_count": 82,
   "metadata": {
    "scrolled": true
   },
   "outputs": [
    {
     "data": {
      "application/vnd.jupyter.widget-view+json": {
       "model_id": "79a1464b86ac40ff8a12c8658b0beb2b",
       "version_major": 2,
       "version_minor": 0
      },
      "text/plain": [
       "HBox(children=(IntProgress(value=0), HTML(value='')))"
      ]
     },
     "metadata": {},
     "output_type": "display_data"
    },
    {
     "name": "stdout",
     "output_type": "stream",
     "text": [
      "\n"
     ]
    }
   ],
   "source": [
    "th_list = []\n",
    "scores = []\n",
    "\n",
    "best_score = 0\n",
    "besth_th = 0\n",
    "best_final_labels = None\n",
    "\n",
    "for i in tqdm(range(100)):\n",
    "    th = i / 100.0\n",
    "\n",
    "    oof_labels = extract_label(oof, th)\n",
    "    post_labels = post_process_v8(oof, oof_labels, valid_df, window_size=3)\n",
    "\n",
    "    score = row_wise_micro_averaged_f1_score(val_y_labels, post_labels)\n",
    "    \n",
    "    if best_score < score:\n",
    "        best_score  = score\n",
    "        best_th = th\n",
    "        best_final_labels = post_labels\n",
    "\n",
    "    th_list.append(th)\n",
    "    scores.append(score)"
   ]
  },
  {
   "cell_type": "code",
   "execution_count": 83,
   "metadata": {},
   "outputs": [
    {
     "name": "stdout",
     "output_type": "stream",
     "text": [
      "best score: 0.7236 (th=0.29)\n"
     ]
    }
   ],
   "source": [
    "print(f\"best score: {best_score:.4f} (th={best_th})\")   # best score: 0.7224 (th=0.27)"
   ]
  },
  {
   "cell_type": "code",
   "execution_count": 84,
   "metadata": {},
   "outputs": [
    {
     "data": {
      "image/png": "[encoded data removed]",
      "text/plain": [
       "<Figure size 432x288 with 1 Axes>"
      ]
     },
     "metadata": {
      "needs_background": "light"
     },
     "output_type": "display_data"
    }
   ],
   "source": [
    "plt.plot(th_list, scores)\n",
    "plt.grid()"
   ]
  },
  {
   "cell_type": "code",
   "execution_count": 85,
   "metadata": {
    "scrolled": true
   },
   "outputs": [
    {
     "name": "stdout",
     "output_type": "stream",
     "text": [
      "2782: 0.4169 [0.158]\n",
      "7843: 0.9667 [0.000]\n",
      "10534: 0.6417 [-0.014]\n",
      "11254: 0.8639 [-0.028]\n",
      "18003: 0.7250 [0.131]\n",
      "20152: 0.8333 [-0.108]\n",
      "21767: 0.4111 [0.122]\n",
      "26709: 0.5472 [0.011]\n",
      "26746: 0.6778 [0.014]\n",
      "28933: 0.5292 [0.121]\n",
      "31928: 0.9917 [0.000]\n",
      "42907: 0.8583 [0.125]\n",
      "44957: 0.7778 [0.039]\n",
      "50878: 0.7750 [-0.100]\n",
      "51010: 0.5389 [0.050]\n",
      "54955: 0.8583 [0.008]\n",
      "57610: 0.8889 [-0.019]\n"
     ]
    }
   ],
   "source": [
    "best_labels8 = best_final_labels\n",
    "diff_scores12 = get_audio_score(best_final_labels, valid_df, score_dict)\n",
    "all_diff_scores[\"modified_firstlabel_replace\"] = diff_scores12"
   ]
  },
  {
   "cell_type": "code",
   "execution_count": 86,
   "metadata": {
    "scrolled": true
   },
   "outputs": [
    {
     "data": {
      "text/plain": [
       "nocall     132\n",
       "rucwar      74\n",
       "obnthr1      6\n",
       "wbwwre1      5\n",
       "yebfly       4\n",
       "rubwre1      3\n",
       "grasal1      3\n",
       "incdov       3\n",
       "brnjay       2\n",
       "belkin1      2\n",
       "bucmot2      2\n",
       "sthwoo1      1\n",
       "baywre1      1\n",
       "laufal1      1\n",
       "strfly1      1\n",
       "Name: preds, dtype: int64"
      ]
     },
     "execution_count": 86,
     "metadata": {},
     "output_type": "execute_result"
    }
   ],
   "source": [
    "a = valid_df.copy()\n",
    "a[\"preds\"] = best_final_labels\n",
    "a.iloc[:240][\"preds\"].value_counts()"
   ]
  },
  {
   "cell_type": "markdown",
   "metadata": {},
   "source": [
    " "
   ]
  },
  {
   "cell_type": "markdown",
   "metadata": {},
   "source": [
    " "
   ]
  },
  {
   "cell_type": "markdown",
   "metadata": {},
   "source": [
    "## Avg -> V2 -> V8"
   ]
  },
  {
   "cell_type": "code",
   "execution_count": 87,
   "metadata": {},
   "outputs": [],
   "source": [
    "def post_process_v2_plus(preds, df, c=2, q=0.99, w=1.5):\n",
    "    post_preds = preds.copy()\n",
    "    \n",
    "    gp = df.groupby(\"audio_id\")\n",
    "    for audio_id, audio_df in gp:\n",
    "        idxs = audio_df.index.values\n",
    "        \n",
    "        audio_preds = preds[idxs, :]\n",
    "        audio_preds_mean = np.mean(audio_preds, axis=0)\n",
    "        audio_preds_mean_ = audio_preds_mean / audio_preds_mean.max()\n",
    "        quantile = np.quantile(audio_preds_mean_, q)\n",
    "\n",
    "        for bc in np.argsort(audio_preds_mean_)[::-1]:\n",
    "            v = audio_preds_mean_[bc]\n",
    "            if v >= (quantile * c):\n",
    "                for idx in idxs:\n",
    "                    if np.argmax(post_preds[idx, :]) == bc:\n",
    "                        post_preds[idx, bc] *= w\n",
    "            else:\n",
    "                break\n",
    "\n",
    "    return post_preds"
   ]
  },
  {
   "cell_type": "code",
   "execution_count": 88,
   "metadata": {
    "scrolled": true
   },
   "outputs": [],
   "source": [
    "c=2.0\n",
    "q=0.99\n",
    "w=2.0\n",
    "\n",
    "oof = np.mean(concat_oof, axis=0)[use_idx, :]\n",
    "post_oof = post_process_v2_plus(oof, valid_df, c, q, w)"
   ]
  },
  {
   "cell_type": "code",
   "execution_count": 89,
   "metadata": {
    "scrolled": true
   },
   "outputs": [
    {
     "data": {
      "application/vnd.jupyter.widget-view+json": {
       "model_id": "4380489430bb430eaff10917aa7a822d",
       "version_major": 2,
       "version_minor": 0
      },
      "text/plain": [
       "HBox(children=(IntProgress(value=0, max=300), HTML(value='')))"
      ]
     },
     "metadata": {},
     "output_type": "display_data"
    },
    {
     "name": "stdout",
     "output_type": "stream",
     "text": [
      "\n"
     ]
    }
   ],
   "source": [
    "th_list = []\n",
    "scores = []\n",
    "\n",
    "best_score = 0\n",
    "besth_th = 0\n",
    "best_final_labels = None\n",
    "\n",
    "for i in tqdm(range(300)):\n",
    "    th = i / 100.0\n",
    "\n",
    "    oof_labels = extract_label(post_oof, th)\n",
    "    post_labels = post_process_v8(post_oof, oof_labels, valid_df, window_size=2)\n",
    "\n",
    "    score = row_wise_micro_averaged_f1_score(val_y_labels, post_labels)\n",
    "    \n",
    "    if best_score < score:\n",
    "        best_score  = score\n",
    "        best_th = th\n",
    "        best_final_labels = post_labels\n",
    "\n",
    "    th_list.append(th)\n",
    "    scores.append(score)"
   ]
  },
  {
   "cell_type": "code",
   "execution_count": 90,
   "metadata": {},
   "outputs": [
    {
     "name": "stdout",
     "output_type": "stream",
     "text": [
      "best score: 0.7333 (th=0.58)\n"
     ]
    }
   ],
   "source": [
    "print(f\"best score: {best_score:.4f} (th={best_th})\")   # 0.7294 (th=0.55)"
   ]
  },
  {
   "cell_type": "code",
   "execution_count": 91,
   "metadata": {
    "scrolled": true
   },
   "outputs": [
    {
     "data": {
      "image/png": "[encoded data removed]",
      "text/plain": [
       "<Figure size 432x288 with 1 Axes>"
      ]
     },
     "metadata": {
      "needs_background": "light"
     },
     "output_type": "display_data"
    }
   ],
   "source": [
    "plt.plot(th_list, scores)\n",
    "plt.grid()"
   ]
  },
  {
   "cell_type": "code",
   "execution_count": 92,
   "metadata": {
    "scrolled": false
   },
   "outputs": [
    {
     "name": "stdout",
     "output_type": "stream",
     "text": [
      "2782: 0.3906 [0.131]\n",
      "7843: 0.9667 [0.000]\n",
      "10534: 0.6778 [0.022]\n",
      "11254: 0.9000 [0.008]\n",
      "18003: 0.7333 [0.139]\n",
      "20152: 0.8833 [-0.058]\n",
      "21767: 0.3750 [0.086]\n",
      "26709: 0.5361 [0.000]\n",
      "26746: 0.6861 [0.022]\n",
      "28933: 0.5056 [0.097]\n",
      "31928: 1.0000 [0.008]\n",
      "42907: 0.8500 [0.117]\n",
      "44957: 0.8278 [0.089]\n",
      "50878: 0.8833 [0.008]\n",
      "51010: 0.4861 [-0.003]\n",
      "54955: 0.8333 [-0.017]\n",
      "57610: 0.9306 [0.022]\n"
     ]
    }
   ],
   "source": [
    "diff_scores13 = get_audio_score(best_final_labels, valid_df, score_dict)\n",
    "all_diff_scores[\"cqw_and_modified_firstlabel_replace\"] = diff_scores13"
   ]
  },
  {
   "cell_type": "code",
   "execution_count": 93,
   "metadata": {
    "scrolled": true
   },
   "outputs": [
    {
     "data": {
      "text/plain": [
       "nocall     152\n",
       "rucwar      71\n",
       "obnthr1      6\n",
       "rubwre1      3\n",
       "grasal1      3\n",
       "wbwwre1      3\n",
       "sthwoo1      1\n",
       "yebfly       1\n",
       "Name: preds, dtype: int64"
      ]
     },
     "execution_count": 93,
     "metadata": {},
     "output_type": "execute_result"
    }
   ],
   "source": [
    "a = valid_df.copy()\n",
    "a[\"preds\"] = best_final_labels\n",
    "a.iloc[:240][\"preds\"].value_counts()"
   ]
  },
  {
   "cell_type": "markdown",
   "metadata": {},
   "source": [
    " "
   ]
  },
  {
   "cell_type": "markdown",
   "metadata": {},
   "source": [
    " "
   ]
  },
  {
   "cell_type": "markdown",
   "metadata": {},
   "source": [
    "## PostProcessV9\n",
    "- https://www.kaggle.com/cdeotte/rainforest-post-process-lb-0-970\n",
    "- 全然うまくいかない......というかよく分かっていない"
   ]
  },
  {
   "cell_type": "code",
   "execution_count": 94,
   "metadata": {},
   "outputs": [],
   "source": [
    "def scale(probs, factor):\n",
    "    probs = probs.copy()\n",
    "    idx = np.where(probs!=1)[0]\n",
    "    odds = factor * probs[idx] / (1 - probs[idx])\n",
    "    probs[idx] =  odds / (1 + odds)\n",
    "    return probs\n",
    "\n",
    "\n",
    "def post_process_v9(preds):\n",
    "    post_preds = preds.copy()\n",
    "\n",
    "    post_preds -= post_preds.min(0, keepdims=True)\n",
    "    post_preds /= post_preds.max(0, keepdims=True)\n",
    "    d2 = np.mean(post_preds, axis=0)\n",
    "\n",
    "    for k in range(397):\n",
    "        s = (d2[k] / (1 - d2[k])) / 2.0\n",
    "        post_preds[:, k] = scale(post_preds[:, k], s)\n",
    "\n",
    "    return post_preds"
   ]
  },
  {
   "cell_type": "code",
   "execution_count": 95,
   "metadata": {
    "scrolled": true
   },
   "outputs": [],
   "source": [
    "oof = np.mean(concat_oof, axis=0)[use_idx, :]\n",
    "post_oof = post_process_v9(oof)"
   ]
  },
  {
   "cell_type": "code",
   "execution_count": 96,
   "metadata": {
    "scrolled": true
   },
   "outputs": [
    {
     "data": {
      "application/vnd.jupyter.widget-view+json": {
       "model_id": "7b95d5a2fd874f639c6bf585068d79bf",
       "version_major": 2,
       "version_minor": 0
      },
      "text/plain": [
       "HBox(children=(IntProgress(value=0), HTML(value='')))"
      ]
     },
     "metadata": {},
     "output_type": "display_data"
    },
    {
     "name": "stdout",
     "output_type": "stream",
     "text": [
      "\n"
     ]
    }
   ],
   "source": [
    "th_list = []\n",
    "scores = []\n",
    "\n",
    "best_score = 0\n",
    "besth_th = 0\n",
    "best_final_labels = None\n",
    "\n",
    "for i in tqdm(range(100)):\n",
    "    th = i / 100.0\n",
    "\n",
    "    oof_labels = extract_label(post_oof, th)\n",
    "    score = row_wise_micro_averaged_f1_score(val_y_labels, oof_labels)\n",
    "    \n",
    "    if best_score < score:\n",
    "        best_score  = score\n",
    "        best_th = th\n",
    "        best_final_labels = oof_labels\n",
    "\n",
    "    th_list.append(th)\n",
    "    scores.append(score)"
   ]
  },
  {
   "cell_type": "code",
   "execution_count": 97,
   "metadata": {},
   "outputs": [
    {
     "name": "stdout",
     "output_type": "stream",
     "text": [
      "best score: 0.5209 (th=0.86)\n"
     ]
    }
   ],
   "source": [
    "print(f\"best score: {best_score:.4f} (th={best_th})\")   # 0.7506 (th=0.27)"
   ]
  },
  {
   "cell_type": "code",
   "execution_count": 98,
   "metadata": {},
   "outputs": [
    {
     "data": {
      "image/png": "[encoded data removed]",
      "text/plain": [
       "<Figure size 432x288 with 1 Axes>"
      ]
     },
     "metadata": {
      "needs_background": "light"
     },
     "output_type": "display_data"
    }
   ],
   "source": [
    "plt.plot(th_list, scores)\n",
    "plt.grid()"
   ]
  },
  {
   "cell_type": "code",
   "execution_count": 99,
   "metadata": {
    "scrolled": false
   },
   "outputs": [
    {
     "name": "stdout",
     "output_type": "stream",
     "text": [
      "2782: 0.0194 [-0.240]\n",
      "7843: 0.9167 [-0.050]\n",
      "10534: 0.4500 [-0.206]\n",
      "11254: 0.7333 [-0.158]\n",
      "18003: 0.1583 [-0.436]\n",
      "20152: 0.9250 [-0.017]\n",
      "21767: 0.1950 [-0.094]\n",
      "26709: 0.4667 [-0.069]\n",
      "26746: 0.4917 [-0.172]\n",
      "28933: 0.1708 [-0.238]\n",
      "31928: 0.9417 [-0.050]\n",
      "42907: 0.5389 [-0.194]\n",
      "44957: 0.3833 [-0.356]\n",
      "50878: 0.7722 [-0.103]\n",
      "51010: 0.2375 [-0.251]\n",
      "54955: 0.7750 [-0.075]\n",
      "57610: 0.6806 [-0.228]\n"
     ]
    }
   ],
   "source": [
    "diff_scores13 = get_audio_score(best_final_labels, valid_df, score_dict)\n",
    "all_diff_scores[\"cqw_and_modified_firstlabel_replace\"] = diff_scores13"
   ]
  },
  {
   "cell_type": "markdown",
   "metadata": {},
   "source": [
    " "
   ]
  },
  {
   "cell_type": "markdown",
   "metadata": {},
   "source": [
    " "
   ]
  },
  {
   "cell_type": "markdown",
   "metadata": {},
   "source": [
    "## PostProcessV10\n",
    "- PPv8の修正版？"
   ]
  },
  {
   "cell_type": "code",
   "execution_count": 100,
   "metadata": {},
   "outputs": [],
   "source": [
    "def shift(df, pred_labels, freq):\n",
    "    shift_labels = [None] * len(df)\n",
    "\n",
    "    gp = df.groupby(\"audio_id\")\n",
    "    for audio_id, audio_df in gp:\n",
    "        idxs = audio_df.index.values\n",
    "        audio_shift_labels = np.roll(pred_labels[idxs[0]: idxs[-1] + 1], freq)\n",
    "        \n",
    "        if freq > 0:\n",
    "            audio_shift_labels[:freq] = \"None\"\n",
    "        elif freq < 0:\n",
    "            audio_shift_labels[freq:] = \"None\"\n",
    "            \n",
    "        shift_labels[idxs[0]: idxs[-1] + 1] = audio_shift_labels\n",
    "\n",
    "    return shift_labels\n",
    "\n",
    "\n",
    "def intersect(labels_list1, labels_list2):\n",
    "    intersect_list = []\n",
    "    for idx in range(len(labels_list1)):\n",
    "        lables1 = labels_list1[idx].split(\" \")\n",
    "        lables2 = labels_list2[idx].split(\" \")\n",
    "        \n",
    "        intersect = np.intersect1d(lables1, lables2)\n",
    "        if len(intersect) == 0:\n",
    "            intersect = [\"nocall\"]\n",
    "        intersect_list.append(\" \".join(list(intersect)))\n",
    "        \n",
    "    return intersect_list\n",
    "\n",
    "\n",
    "def add_label(labels_list1, labels_list2):\n",
    "    added_labels_list = []\n",
    "    for labels1, labels2 in zip(labels_list1, labels_list2):\n",
    "\n",
    "        if labels1 == \"nocall\":\n",
    "            if labels2 == \"nocall\":\n",
    "                added_labels_list.append(\"nocall\")\n",
    "            else:\n",
    "                added_labels_list.append(labels2)\n",
    "        \n",
    "        else:\n",
    "            if labels2 == \"nocall\":\n",
    "                added_labels_list.append(labels1)\n",
    "            else:\n",
    "                added_labels = list(set((labels1 + \" \" + labels2).split(\" \")))\n",
    "                added_labels_list.append(\" \".join(added_labels))\n",
    "    \n",
    "    return added_labels_list\n",
    "\n",
    "\n",
    "def post_process_v10(preds, pred_labels, df, window_size=1, c=2.0):\n",
    "    first_labels = []\n",
    "    for idx in df.index:\n",
    "        row_prob = preds[idx, :]\n",
    "        second_prob = np.sort(row_prob)[-2]\n",
    "\n",
    "        first_label_bc = np.argmax(row_prob)\n",
    "        v = row_prob[first_label_bc]\n",
    "        if v >= (second_prob * c):\n",
    "            first_labels.append(const.INV_BIRD_CODE[first_label_bc])\n",
    "        else:\n",
    "            first_labels.append(\"nocall\")\n",
    "\n",
    "    final_labels_list = pred_labels.copy()\n",
    "    for w in range(window_size):\n",
    "        for freq in [w + 1, -(w + 1)]:\n",
    "            shift_labels = shift(df, pred_labels, freq)\n",
    "            shift_intersect_labels = intersect(first_labels, shift_labels)\n",
    "            final_labels_list = add_label(final_labels_list, shift_intersect_labels)\n",
    "        \n",
    "    return final_labels_list"
   ]
  },
  {
   "cell_type": "code",
   "execution_count": 101,
   "metadata": {
    "scrolled": true
   },
   "outputs": [],
   "source": [
    "oof = np.mean(concat_oof, axis=0)[use_idx, :]"
   ]
  },
  {
   "cell_type": "code",
   "execution_count": 102,
   "metadata": {
    "scrolled": true
   },
   "outputs": [
    {
     "data": {
      "application/vnd.jupyter.widget-view+json": {
       "model_id": "d6cdc4a0bd3f4eb696e701c079ae0618",
       "version_major": 2,
       "version_minor": 0
      },
      "text/plain": [
       "HBox(children=(IntProgress(value=0), HTML(value='')))"
      ]
     },
     "metadata": {},
     "output_type": "display_data"
    },
    {
     "name": "stdout",
     "output_type": "stream",
     "text": [
      "\n"
     ]
    }
   ],
   "source": [
    "th_list = []\n",
    "scores = []\n",
    "\n",
    "best_score = 0\n",
    "besth_th = 0\n",
    "best_final_labels = None\n",
    "\n",
    "for i in tqdm(range(100)):\n",
    "    th = i / 100.0\n",
    "\n",
    "    oof_labels = extract_label(oof, th)\n",
    "    post_oof_labels = post_process_v10(oof, oof_labels, valid_df, window_size=2, c=2)\n",
    "    score = row_wise_micro_averaged_f1_score(val_y_labels, post_oof_labels)\n",
    "    \n",
    "    if best_score < score:\n",
    "        best_score  = score\n",
    "        best_th = th\n",
    "        best_final_labels = post_oof_labels\n",
    "\n",
    "    th_list.append(th)\n",
    "    scores.append(score)"
   ]
  },
  {
   "cell_type": "code",
   "execution_count": 103,
   "metadata": {},
   "outputs": [
    {
     "name": "stdout",
     "output_type": "stream",
     "text": [
      "best score: 0.7167 (th=0.27)\n"
     ]
    }
   ],
   "source": [
    "print(f\"best score: {best_score:.4f} (th={best_th})\")   # 0.7140 (th=0.29)"
   ]
  },
  {
   "cell_type": "code",
   "execution_count": 104,
   "metadata": {
    "scrolled": true
   },
   "outputs": [
    {
     "data": {
      "image/png": "[encoded data removed]",
      "text/plain": [
       "<Figure size 432x288 with 1 Axes>"
      ]
     },
     "metadata": {
      "needs_background": "light"
     },
     "output_type": "display_data"
    }
   ],
   "source": [
    "plt.plot(th_list, scores)\n",
    "plt.grid()"
   ]
  },
  {
   "cell_type": "code",
   "execution_count": 105,
   "metadata": {
    "scrolled": true
   },
   "outputs": [
    {
     "name": "stdout",
     "output_type": "stream",
     "text": [
      "2782: 0.3900 [0.131]\n",
      "7843: 0.9667 [0.000]\n",
      "10534: 0.6694 [0.014]\n",
      "11254: 0.8722 [-0.019]\n",
      "18003: 0.6944 [0.100]\n",
      "20152: 0.8667 [-0.075]\n",
      "21767: 0.3500 [0.061]\n",
      "26709: 0.5333 [-0.003]\n",
      "26746: 0.6861 [0.022]\n",
      "28933: 0.4986 [0.090]\n",
      "31928: 0.9917 [0.000]\n",
      "42907: 0.8250 [0.092]\n",
      "44957: 0.7639 [0.025]\n",
      "50878: 0.8250 [-0.050]\n",
      "51010: 0.5028 [0.014]\n",
      "54955: 0.8583 [0.008]\n",
      "57610: 0.8889 [-0.019]\n"
     ]
    }
   ],
   "source": [
    "best_labels10 = best_final_labels\n",
    "diff_scores14 = get_audio_score(best_final_labels, valid_df, score_dict)\n",
    "all_diff_scores[\"cqw_and_modified_firstlabel_replace\"] = diff_scores14"
   ]
  },
  {
   "cell_type": "markdown",
   "metadata": {},
   "source": [
    " "
   ]
  },
  {
   "cell_type": "markdown",
   "metadata": {},
   "source": [
    " "
   ]
  },
  {
   "cell_type": "markdown",
   "metadata": {},
   "source": [
    "## Avg -> V2 -> V10"
   ]
  },
  {
   "cell_type": "code",
   "execution_count": 106,
   "metadata": {},
   "outputs": [],
   "source": [
    "def post_process_v2_plus(preds, df, c=2, q=0.99, w=1.5):\n",
    "    post_preds = preds.copy()\n",
    "    \n",
    "    gp = df.groupby(\"audio_id\")\n",
    "    for audio_id, audio_df in gp:\n",
    "        idxs = audio_df.index.values\n",
    "        \n",
    "        audio_preds = preds[idxs, :]\n",
    "        audio_preds_mean = np.mean(audio_preds, axis=0)\n",
    "        audio_preds_mean_ = audio_preds_mean / audio_preds_mean.max()\n",
    "        quantile = np.quantile(audio_preds_mean_, q)\n",
    "\n",
    "        for bc in np.argsort(audio_preds_mean_)[::-1]:\n",
    "            v = audio_preds_mean_[bc]\n",
    "            if v >= (quantile * c):\n",
    "                for idx in idxs:\n",
    "                    if np.argmax(post_preds[idx, :]) == bc:\n",
    "                        post_preds[idx, bc] *= w\n",
    "            else:\n",
    "                break\n",
    "\n",
    "    return post_preds"
   ]
  },
  {
   "cell_type": "code",
   "execution_count": 107,
   "metadata": {
    "scrolled": true
   },
   "outputs": [],
   "source": [
    "c=2.5\n",
    "q=0.99\n",
    "w=2.0\n",
    "\n",
    "oof = np.mean(concat_oof, axis=0)[use_idx, :]\n",
    "post_oof = post_process_v2_plus(oof, valid_df, c, q, w)"
   ]
  },
  {
   "cell_type": "code",
   "execution_count": 108,
   "metadata": {
    "scrolled": true
   },
   "outputs": [
    {
     "data": {
      "application/vnd.jupyter.widget-view+json": {
       "model_id": "e2041f42a29243f2805588493140f484",
       "version_major": 2,
       "version_minor": 0
      },
      "text/plain": [
       "HBox(children=(IntProgress(value=0), HTML(value='')))"
      ]
     },
     "metadata": {},
     "output_type": "display_data"
    },
    {
     "name": "stdout",
     "output_type": "stream",
     "text": [
      "\n"
     ]
    }
   ],
   "source": [
    "th_list = []\n",
    "scores = []\n",
    "\n",
    "best_score = 0\n",
    "besth_th = 0\n",
    "best_final_labels = None\n",
    "\n",
    "for i in tqdm(range(100)):\n",
    "    th = i / 100.0\n",
    "\n",
    "    oof_labels = extract_label(post_oof, th)\n",
    "    post_labels = post_process_v10(post_oof, oof_labels, valid_df, window_size=5, c=2.0)\n",
    "\n",
    "    score = row_wise_micro_averaged_f1_score(val_y_labels, post_labels)\n",
    "    \n",
    "    if best_score < score:\n",
    "        best_score  = score\n",
    "        best_th = th\n",
    "        best_final_labels = post_labels\n",
    "\n",
    "    th_list.append(th)\n",
    "    scores.append(score)"
   ]
  },
  {
   "cell_type": "code",
   "execution_count": 109,
   "metadata": {},
   "outputs": [
    {
     "name": "stdout",
     "output_type": "stream",
     "text": [
      "best score: 0.7472 (th=0.65)\n"
     ]
    }
   ],
   "source": [
    "print(f\"best score: {best_score:.4f} (th={best_th})\")   # best score: 0.7472 (th=0.65)"
   ]
  },
  {
   "cell_type": "code",
   "execution_count": 110,
   "metadata": {
    "scrolled": true
   },
   "outputs": [
    {
     "data": {
      "image/png": "[encoded data removed]",
      "text/plain": [
       "<Figure size 432x288 with 1 Axes>"
      ]
     },
     "metadata": {
      "needs_background": "light"
     },
     "output_type": "display_data"
    }
   ],
   "source": [
    "plt.plot(th_list, scores)\n",
    "plt.grid()"
   ]
  },
  {
   "cell_type": "code",
   "execution_count": 111,
   "metadata": {
    "scrolled": true
   },
   "outputs": [
    {
     "name": "stdout",
     "output_type": "stream",
     "text": [
      "2782: 0.4197 [0.160]\n",
      "7843: 0.9667 [0.000]\n",
      "10534: 0.6750 [0.019]\n",
      "11254: 0.9000 [0.008]\n",
      "18003: 0.7583 [0.164]\n",
      "20152: 0.9750 [0.033]\n",
      "21767: 0.4000 [0.111]\n",
      "26709: 0.5444 [0.008]\n",
      "26746: 0.6861 [0.022]\n",
      "28933: 0.5056 [0.097]\n",
      "31928: 1.0000 [0.008]\n",
      "42907: 0.8250 [0.092]\n",
      "44957: 0.8278 [0.089]\n",
      "50878: 0.9333 [0.058]\n",
      "51010: 0.5056 [0.017]\n",
      "54955: 0.8333 [-0.017]\n",
      "57610: 0.9472 [0.039]\n"
     ]
    }
   ],
   "source": [
    "best_labels_2_10 = best_final_labels\n",
    "diff_scores13 = get_audio_score(best_final_labels, valid_df, score_dict)\n",
    "all_diff_scores[\"cqw_and_modified_firstlabel_replace\"] = diff_scores13"
   ]
  },
  {
   "cell_type": "code",
   "execution_count": 112,
   "metadata": {
    "scrolled": true
   },
   "outputs": [
    {
     "data": {
      "text/plain": [
       "nocall     147\n",
       "rucwar      76\n",
       "obnthr1      6\n",
       "wbwwre1      4\n",
       "rubwre1      3\n",
       "grasal1      2\n",
       "sthwoo1      1\n",
       "yebfly       1\n",
       "Name: preds, dtype: int64"
      ]
     },
     "execution_count": 112,
     "metadata": {},
     "output_type": "execute_result"
    }
   ],
   "source": [
    "a = valid_df.copy()\n",
    "a[\"preds\"] = best_final_labels\n",
    "a.iloc[:240][\"preds\"].value_counts()"
   ]
  },
  {
   "cell_type": "markdown",
   "metadata": {},
   "source": [
    " "
   ]
  },
  {
   "cell_type": "markdown",
   "metadata": {},
   "source": [
    " "
   ]
  },
  {
   "cell_type": "markdown",
   "metadata": {},
   "source": [
    "## Avg -> V2 -> nc -> V10"
   ]
  },
  {
   "cell_type": "code",
   "execution_count": 218,
   "metadata": {
    "scrolled": true
   },
   "outputs": [],
   "source": [
    "c=2.5\n",
    "q=0.99\n",
    "w=2.0\n",
    "\n",
    "oof = np.mean(concat_oof, axis=0)[use_idx, :]\n",
    "post_oof = post_process_v2_plus(oof, valid_df, c, q, w)"
   ]
  },
  {
   "cell_type": "code",
   "execution_count": 219,
   "metadata": {},
   "outputs": [],
   "source": [
    "birdcall_p = oof99\n",
    "\n",
    "for idx in range(len(post_oof)):\n",
    "    bp = birdcall_p[idx]\n",
    "    if bp <= 0.99:\n",
    "        col1_idx = np.argsort(post_oof[idx, :])[-1:]\n",
    "        post_oof[idx, col1_idx] /= 2"
   ]
  },
  {
   "cell_type": "code",
   "execution_count": 220,
   "metadata": {
    "scrolled": true
   },
   "outputs": [
    {
     "data": {
      "application/vnd.jupyter.widget-view+json": {
       "model_id": "751deba7126b4a878c056704916952fe",
       "version_major": 2,
       "version_minor": 0
      },
      "text/plain": [
       "HBox(children=(IntProgress(value=0), HTML(value='')))"
      ]
     },
     "metadata": {},
     "output_type": "display_data"
    },
    {
     "name": "stdout",
     "output_type": "stream",
     "text": [
      "\n"
     ]
    }
   ],
   "source": [
    "th_list = []\n",
    "scores = []\n",
    "\n",
    "best_score = 0\n",
    "besth_th = 0\n",
    "best_final_labels = None\n",
    "\n",
    "for i in tqdm(range(100)):\n",
    "    th = i / 100.0\n",
    "\n",
    "    oof_labels = extract_label(post_oof, th)\n",
    "    post_labels = post_process_v10(post_oof, oof_labels, valid_df, window_size=5, c=2.0)\n",
    "\n",
    "    score = row_wise_micro_averaged_f1_score(val_y_labels, post_labels)\n",
    "    \n",
    "    if best_score < score:\n",
    "        best_score  = score\n",
    "        best_th = th\n",
    "        best_final_labels = post_labels\n",
    "\n",
    "    th_list.append(th)\n",
    "    scores.append(score)"
   ]
  },
  {
   "cell_type": "code",
   "execution_count": 221,
   "metadata": {},
   "outputs": [
    {
     "name": "stdout",
     "output_type": "stream",
     "text": [
      "best score: 0.7472 (th=0.65)\n"
     ]
    }
   ],
   "source": [
    "print(f\"best score: {best_score:.4f} (th={best_th})\")   # best score: 0.7472 (th=0.65)"
   ]
  },
  {
   "cell_type": "code",
   "execution_count": 222,
   "metadata": {
    "scrolled": true
   },
   "outputs": [
    {
     "data": {
      "image/png": "[encoded data removed]",
      "text/plain": [
       "<Figure size 432x288 with 1 Axes>"
      ]
     },
     "metadata": {
      "needs_background": "light"
     },
     "output_type": "display_data"
    }
   ],
   "source": [
    "plt.plot(th_list, scores)\n",
    "plt.grid()"
   ]
  },
  {
   "cell_type": "code",
   "execution_count": 223,
   "metadata": {
    "scrolled": false
   },
   "outputs": [
    {
     "name": "stdout",
     "output_type": "stream",
     "text": [
      "2782: 0.4197 [0.160]\n",
      "7843: 0.9667 [0.000]\n",
      "10534: 0.6750 [0.019]\n",
      "11254: 0.9000 [0.008]\n",
      "18003: 0.7583 [0.164]\n",
      "20152: 0.9750 [0.033]\n",
      "21767: 0.4000 [0.111]\n",
      "26709: 0.5444 [0.008]\n",
      "26746: 0.6861 [0.022]\n",
      "28933: 0.5056 [0.097]\n",
      "31928: 1.0000 [0.008]\n",
      "42907: 0.8250 [0.092]\n",
      "44957: 0.8278 [0.089]\n",
      "50878: 0.9333 [0.058]\n",
      "51010: 0.5056 [0.017]\n",
      "54955: 0.8333 [-0.017]\n",
      "57610: 0.9472 [0.039]\n"
     ]
    }
   ],
   "source": [
    "best_labels_2_10 = best_final_labels\n",
    "diff_scores13 = get_audio_score(best_final_labels, valid_df, score_dict)\n",
    "all_diff_scores[\"cqw_and_modified_firstlabel_replace\"] = diff_scores13"
   ]
  },
  {
   "cell_type": "code",
   "execution_count": 217,
   "metadata": {
    "scrolled": true
   },
   "outputs": [
    {
     "data": {
      "text/plain": [
       "nocall     147\n",
       "rucwar      76\n",
       "obnthr1      6\n",
       "wbwwre1      4\n",
       "rubwre1      3\n",
       "grasal1      2\n",
       "sthwoo1      1\n",
       "yebfly       1\n",
       "Name: preds, dtype: int64"
      ]
     },
     "execution_count": 217,
     "metadata": {},
     "output_type": "execute_result"
    }
   ],
   "source": [
    "a = valid_df.copy()\n",
    "a[\"preds\"] = best_final_labels\n",
    "a.iloc[:240][\"preds\"].value_counts()"
   ]
  },
  {
   "cell_type": "markdown",
   "metadata": {},
   "source": [
    " "
   ]
  },
  {
   "cell_type": "markdown",
   "metadata": {},
   "source": [
    " "
   ]
  },
  {
   "cell_type": "markdown",
   "metadata": {},
   "source": [
    "## PostProcessV11"
   ]
  },
  {
   "cell_type": "code",
   "execution_count": 120,
   "metadata": {},
   "outputs": [],
   "source": [
    "def post_process_v11(preds, birdcall_preds, th=0.3, w=0.5):\n",
    "    post_preds = preds.copy()\n",
    "    for idx in range(len(preds)):\n",
    "        bc_prob = birdcall_preds[idx]\n",
    "        if bc_prob <= th:\n",
    "            post_preds[idx, :] = preds[idx, :] * w\n",
    "    \n",
    "    return post_preds"
   ]
  },
  {
   "cell_type": "code",
   "execution_count": 121,
   "metadata": {},
   "outputs": [],
   "source": [
    "oof = np.mean(concat_oof, axis=0)[use_idx, :]\n",
    "bc_oof = oof99.copy()\n",
    "post_oof = post_process_v11(oof, bc_oof, th=0.5, w=0.1)"
   ]
  },
  {
   "cell_type": "code",
   "execution_count": 122,
   "metadata": {},
   "outputs": [],
   "source": [
    "th_list = []\n",
    "scores = []\n",
    "\n",
    "best_score = 0\n",
    "besth_th = 0\n",
    "best_final_labels = None\n",
    "\n",
    "for i in range(100):\n",
    "    th = i / 100.0\n",
    "\n",
    "    oof_labels = extract_label(post_oof, th)\n",
    "\n",
    "    score = row_wise_micro_averaged_f1_score(val_y_labels, oof_labels)\n",
    "    \n",
    "    if best_score < score:\n",
    "        best_score  = score\n",
    "        best_th = th\n",
    "        best_final_labels = oof_labels\n",
    "\n",
    "    th_list.append(th)\n",
    "    scores.append(score)"
   ]
  },
  {
   "cell_type": "code",
   "execution_count": 123,
   "metadata": {},
   "outputs": [
    {
     "name": "stdout",
     "output_type": "stream",
     "text": [
      "best score: 0.7064 (th=0.25)\n"
     ]
    }
   ],
   "source": [
    "print(f\"best score: {best_score:.4f} (th={best_th})\")   # best score: 0.7027 (th=0.26)"
   ]
  },
  {
   "cell_type": "code",
   "execution_count": 124,
   "metadata": {
    "scrolled": true
   },
   "outputs": [
    {
     "data": {
      "image/png": "[encoded data removed]",
      "text/plain": [
       "<Figure size 432x288 with 1 Axes>"
      ]
     },
     "metadata": {
      "needs_background": "light"
     },
     "output_type": "display_data"
    }
   ],
   "source": [
    "plt.plot(th_list, scores)\n",
    "plt.grid()"
   ]
  },
  {
   "cell_type": "code",
   "execution_count": 125,
   "metadata": {
    "scrolled": false
   },
   "outputs": [
    {
     "name": "stdout",
     "output_type": "stream",
     "text": [
      "2782: 0.3281 [0.069]\n",
      "7843: 0.9667 [0.000]\n",
      "10534: 0.6861 [0.031]\n",
      "11254: 0.8722 [-0.019]\n",
      "18003: 0.6528 [0.058]\n",
      "20152: 0.9500 [0.008]\n",
      "21767: 0.3667 [0.078]\n",
      "26709: 0.5278 [-0.008]\n",
      "26746: 0.6833 [0.019]\n",
      "28933: 0.4583 [0.050]\n",
      "31928: 0.9917 [0.000]\n",
      "42907: 0.7250 [-0.008]\n",
      "44957: 0.7472 [0.008]\n",
      "50878: 0.8167 [-0.058]\n",
      "51010: 0.4889 [0.000]\n",
      "54955: 0.8583 [0.008]\n",
      "57610: 0.8889 [-0.019]\n"
     ]
    }
   ],
   "source": [
    "diff_scores1 = get_audio_score(best_final_labels, valid_df, score_dict)\n",
    "all_diff_scores[\"avg_nc\"] = diff_scores1"
   ]
  },
  {
   "cell_type": "markdown",
   "metadata": {},
   "source": [
    " "
   ]
  },
  {
   "cell_type": "markdown",
   "metadata": {},
   "source": [
    " "
   ]
  },
  {
   "cell_type": "markdown",
   "metadata": {},
   "source": [
    "## PostProcessV12\n",
    "- V2_plusの改良版"
   ]
  },
  {
   "cell_type": "code",
   "execution_count": 164,
   "metadata": {},
   "outputs": [],
   "source": [
    "def post_process_v12(preds, df, window_size=5, c=2, q=0.99, w=1.5):\n",
    "    post_preds = preds.copy()\n",
    "    \n",
    "    gp = df.groupby(\"audio_id\")\n",
    "    for audio_id, audio_df in gp:\n",
    "        idxs = audio_df.index.values\n",
    "        \n",
    "        for i, idx in enumerate(idxs):\n",
    "            if i < window_size:\n",
    "                start = idxs[0]\n",
    "                end = min(idx + window_size + 1, idxs[-1] + 1)\n",
    "            else:\n",
    "                start = idx - window_size\n",
    "                end = min(idx + window_size + 1, idxs[-1] + 1)\n",
    "\n",
    "            marginal_preds = preds[start: end, :]\n",
    "            marginal_preds_mean = np.mean(marginal_preds, axis=0)\n",
    "            quantile = np.quantile(marginal_preds_mean, q)\n",
    "            \n",
    "            for bc in np.argsort(marginal_preds_mean)[::-1]:\n",
    "                v = marginal_preds_mean[bc]\n",
    "                if v >= max(0.1, (quantile * c)) and np.argmax(post_preds[idx, :]) == bc:\n",
    "                    post_preds[idx, bc] *= w\n",
    "                else:\n",
    "                    break\n",
    "\n",
    "    return post_preds"
   ]
  },
  {
   "cell_type": "code",
   "execution_count": 165,
   "metadata": {},
   "outputs": [],
   "source": [
    "window_size = 10\n",
    "c=2.0\n",
    "q=0.99\n",
    "w=2.0\n",
    "\n",
    "oof = np.mean(concat_oof, axis=0)[use_idx, :]\n",
    "post_oof = post_process_v12(oof, valid_df, window_size, c, q, w)"
   ]
  },
  {
   "cell_type": "code",
   "execution_count": 166,
   "metadata": {},
   "outputs": [],
   "source": [
    "th_list = []\n",
    "scores = []\n",
    "\n",
    "best_score = 0\n",
    "besth_th = 0\n",
    "best_final_labels = None\n",
    "\n",
    "for i in range(100):\n",
    "    th = i / 100.0\n",
    "\n",
    "    oof_labels = extract_label(post_oof, th)\n",
    "\n",
    "    score = row_wise_micro_averaged_f1_score(val_y_labels, oof_labels)\n",
    "    \n",
    "    if best_score < score:\n",
    "        best_score  = score\n",
    "        best_th = th\n",
    "        best_final_labels = oof_labels\n",
    "\n",
    "    th_list.append(th)\n",
    "    scores.append(score)"
   ]
  },
  {
   "cell_type": "code",
   "execution_count": 167,
   "metadata": {},
   "outputs": [
    {
     "name": "stdout",
     "output_type": "stream",
     "text": [
      "best score: 0.7070 (th=0.31)\n"
     ]
    }
   ],
   "source": [
    "print(f\"best score: {best_score:.4f} (th={best_th})\")   # best score: 0.7027 (th=0.26)"
   ]
  },
  {
   "cell_type": "code",
   "execution_count": 168,
   "metadata": {
    "scrolled": true
   },
   "outputs": [
    {
     "data": {
      "image/png": "[encoded data removed]",
      "text/plain": [
       "<Figure size 432x288 with 1 Axes>"
      ]
     },
     "metadata": {
      "needs_background": "light"
     },
     "output_type": "display_data"
    }
   ],
   "source": [
    "plt.plot(th_list, scores)\n",
    "plt.grid()"
   ]
  },
  {
   "cell_type": "markdown",
   "metadata": {},
   "source": [
    " "
   ]
  },
  {
   "cell_type": "markdown",
   "metadata": {},
   "source": [
    " "
   ]
  },
  {
   "cell_type": "markdown",
   "metadata": {},
   "source": [
    "## Avg -> V12 -> V10"
   ]
  },
  {
   "cell_type": "code",
   "execution_count": 177,
   "metadata": {
    "scrolled": true
   },
   "outputs": [],
   "source": [
    "window_size = 50\n",
    "c = 2.5\n",
    "q=0.99\n",
    "w=1.5\n",
    "\n",
    "oof = np.mean(concat_oof, axis=0)[use_idx, :]\n",
    "post_oof = post_process_v12(oof, valid_df, window_size, c, q, w)"
   ]
  },
  {
   "cell_type": "code",
   "execution_count": 178,
   "metadata": {
    "scrolled": true
   },
   "outputs": [
    {
     "data": {
      "application/vnd.jupyter.widget-view+json": {
       "model_id": "02685004fe15451290c220e2e889cc60",
       "version_major": 2,
       "version_minor": 0
      },
      "text/plain": [
       "HBox(children=(IntProgress(value=0), HTML(value='')))"
      ]
     },
     "metadata": {},
     "output_type": "display_data"
    },
    {
     "name": "stdout",
     "output_type": "stream",
     "text": [
      "\n"
     ]
    }
   ],
   "source": [
    "th_list = []\n",
    "scores = []\n",
    "\n",
    "best_score = 0\n",
    "besth_th = 0\n",
    "best_final_labels = None\n",
    "\n",
    "for i in tqdm(range(100)):\n",
    "    th = i / 100.0\n",
    "\n",
    "    oof_labels = extract_label(post_oof, th)\n",
    "    post_labels = post_process_v10(post_oof, oof_labels, valid_df, window_size=5, c=2.0)\n",
    "\n",
    "    score = row_wise_micro_averaged_f1_score(val_y_labels, post_labels)\n",
    "    \n",
    "    if best_score < score:\n",
    "        best_score  = score\n",
    "        best_th = th\n",
    "        best_final_labels = post_labels\n",
    "\n",
    "    th_list.append(th)\n",
    "    scores.append(score)"
   ]
  },
  {
   "cell_type": "code",
   "execution_count": 179,
   "metadata": {},
   "outputs": [
    {
     "name": "stdout",
     "output_type": "stream",
     "text": [
      "best score: 0.7237 (th=0.42)\n"
     ]
    }
   ],
   "source": [
    "print(f\"best score: {best_score:.4f} (th={best_th})\")   # best score: 0.7472 (th=0.65)"
   ]
  },
  {
   "cell_type": "code",
   "execution_count": 180,
   "metadata": {
    "scrolled": true
   },
   "outputs": [
    {
     "data": {
      "image/png": "[encoded data removed]",
      "text/plain": [
       "<Figure size 432x288 with 1 Axes>"
      ]
     },
     "metadata": {
      "needs_background": "light"
     },
     "output_type": "display_data"
    }
   ],
   "source": [
    "plt.plot(th_list, scores)\n",
    "plt.grid()"
   ]
  },
  {
   "cell_type": "code",
   "execution_count": 181,
   "metadata": {
    "scrolled": true
   },
   "outputs": [
    {
     "name": "stdout",
     "output_type": "stream",
     "text": [
      "2782: 0.3531 [0.094]\n",
      "7843: 0.9667 [0.000]\n",
      "10534: 0.6444 [-0.011]\n",
      "11254: 0.8667 [-0.025]\n",
      "18003: 0.7167 [0.122]\n",
      "20152: 0.8750 [-0.067]\n",
      "21767: 0.3583 [0.069]\n",
      "26709: 0.5556 [0.019]\n",
      "26746: 0.6944 [0.031]\n",
      "28933: 0.5028 [0.094]\n",
      "31928: 1.0000 [0.008]\n",
      "42907: 0.8917 [0.158]\n",
      "44957: 0.7806 [0.042]\n",
      "50878: 0.8500 [-0.025]\n",
      "51010: 0.5000 [0.011]\n",
      "54955: 0.8333 [-0.017]\n",
      "57610: 0.9139 [0.006]\n"
     ]
    }
   ],
   "source": [
    "best_labels_2_10 = best_final_labels\n",
    "diff_scores13 = get_audio_score(best_final_labels, valid_df, score_dict)\n",
    "all_diff_scores[\"cqw_and_modified_firstlabel_replace\"] = diff_scores13"
   ]
  },
  {
   "cell_type": "code",
   "execution_count": 182,
   "metadata": {
    "scrolled": false
   },
   "outputs": [
    {
     "data": {
      "text/plain": [
       "nocall     149\n",
       "rucwar      69\n",
       "obnthr1      6\n",
       "wbwwre1      5\n",
       "rubwre1      3\n",
       "yebfly       3\n",
       "grasal1      2\n",
       "sthwoo1      1\n",
       "bucmot2      1\n",
       "strfly1      1\n",
       "Name: preds, dtype: int64"
      ]
     },
     "execution_count": 182,
     "metadata": {},
     "output_type": "execute_result"
    }
   ],
   "source": [
    "a = valid_df.copy()\n",
    "a[\"preds\"] = best_final_labels\n",
    "a.iloc[:240][\"preds\"].value_counts()"
   ]
  },
  {
   "cell_type": "markdown",
   "metadata": {},
   "source": [
    " "
   ]
  },
  {
   "cell_type": "markdown",
   "metadata": {},
   "source": [
    " "
   ]
  },
  {
   "cell_type": "markdown",
   "metadata": {},
   "source": [
    "## SED"
   ]
  },
  {
   "cell_type": "code",
   "execution_count": 137,
   "metadata": {},
   "outputs": [],
   "source": [
    "clip_framewise_outputs_dict = joblib.load(\"./clip_framewise_outputs_dict.pkl\")\n",
    "clip_clipwise_outputs_dict = joblib.load(\"./clip_clipwise_outputs_dict.pkl\")"
   ]
  },
  {
   "cell_type": "code",
   "execution_count": 138,
   "metadata": {},
   "outputs": [
    {
     "data": {
      "text/plain": [
       "[1, 0, 0, 0, 1, 0, 0, 0, 0, 0, 0, 0, 0, 1, 0, 0, 0, 0, 0, 0]"
      ]
     },
     "execution_count": 138,
     "metadata": {},
     "output_type": "execute_result"
    }
   ],
   "source": [
    "unit = 3001\n",
    "\n",
    "a = np.where(clip_framewise_outputs_dict[\"7843\"] >= 0.95, 1, 0)\n",
    "clip_list = []\n",
    "\n",
    "for i in range(20):\n",
    "    b = a[unit * i: unit * (i + 1), :]\n",
    "    c = np.where(b.sum(0) >= 1, 1, 0).sum()\n",
    "    clip_list.append(c)\n",
    "    \n",
    "clip_list"
   ]
  },
  {
   "cell_type": "markdown",
   "metadata": {},
   "source": [
    " "
   ]
  },
  {
   "cell_type": "markdown",
   "metadata": {},
   "source": [
    " "
   ]
  },
  {
   "cell_type": "markdown",
   "metadata": {},
   "source": [
    "## Final Voting\n",
    "- Simple Avg\n",
    "- Nocall Classification\n",
    "- V2\n",
    "- V8\n",
    "- V10\n",
    "- Avg > V2 > V10"
   ]
  },
  {
   "cell_type": "code",
   "execution_count": 139,
   "metadata": {},
   "outputs": [
    {
     "name": "stdout",
     "output_type": "stream",
     "text": [
      "vote_lim=0   0.7249\n",
      "vote_lim=1   0.7249\n",
      "vote_lim=2   0.7297\n",
      "vote_lim=3   0.7092\n",
      "vote_lim=4   0.7135\n"
     ]
    }
   ],
   "source": [
    "post_labels_list = [\n",
    "    best_labels1,\n",
    "    best_labels_nc,\n",
    "    best_labels2,\n",
    "    best_labels8,\n",
    "    best_labels_2_10,\n",
    "]\n",
    "\n",
    "for vote_lim in range(len(post_labels_list)):\n",
    "    final_oof_labels = voting(post_labels_list, vote_lim=vote_lim)\n",
    "    score = row_wise_micro_averaged_f1_score(val_y_labels, final_oof_labels)\n",
    "    print(f\"vote_lim={vote_lim}   {score:.4f}\")"
   ]
  },
  {
   "cell_type": "code",
   "execution_count": 140,
   "metadata": {
    "scrolled": true
   },
   "outputs": [
    {
     "data": {
      "text/html": [
       "<div>\n",
       "<style scoped>\n",
       "    .dataframe tbody tr th:only-of-type {\n",
       "        vertical-align: middle;\n",
       "    }\n",
       "\n",
       "    .dataframe tbody tr th {\n",
       "        vertical-align: top;\n",
       "    }\n",
       "\n",
       "    .dataframe thead th {\n",
       "        text-align: right;\n",
       "    }\n",
       "</style>\n",
       "<table border=\"1\" class=\"dataframe\">\n",
       "  <thead>\n",
       "    <tr style=\"text-align: right;\">\n",
       "      <th></th>\n",
       "      <th>post0</th>\n",
       "      <th>post1</th>\n",
       "      <th>post2</th>\n",
       "      <th>post3</th>\n",
       "      <th>post4</th>\n",
       "      <th>final</th>\n",
       "    </tr>\n",
       "  </thead>\n",
       "  <tbody>\n",
       "    <tr>\n",
       "      <th>0</th>\n",
       "      <td>wbwwre1</td>\n",
       "      <td>wbwwre1</td>\n",
       "      <td>nocall</td>\n",
       "      <td>wbwwre1</td>\n",
       "      <td>wbwwre1</td>\n",
       "      <td>wbwwre1</td>\n",
       "    </tr>\n",
       "    <tr>\n",
       "      <th>1</th>\n",
       "      <td>wbwwre1</td>\n",
       "      <td>wbwwre1</td>\n",
       "      <td>wbwwre1</td>\n",
       "      <td>wbwwre1</td>\n",
       "      <td>wbwwre1</td>\n",
       "      <td>wbwwre1</td>\n",
       "    </tr>\n",
       "    <tr>\n",
       "      <th>2</th>\n",
       "      <td>rubwre1 wbwwre1</td>\n",
       "      <td>rubwre1 wbwwre1</td>\n",
       "      <td>wbwwre1</td>\n",
       "      <td>wbwwre1</td>\n",
       "      <td>wbwwre1</td>\n",
       "      <td>wbwwre1</td>\n",
       "    </tr>\n",
       "    <tr>\n",
       "      <th>3</th>\n",
       "      <td>nocall</td>\n",
       "      <td>nocall</td>\n",
       "      <td>nocall</td>\n",
       "      <td>nocall</td>\n",
       "      <td>nocall</td>\n",
       "      <td>nocall</td>\n",
       "    </tr>\n",
       "    <tr>\n",
       "      <th>4</th>\n",
       "      <td>rubwre1</td>\n",
       "      <td>rubwre1</td>\n",
       "      <td>rubwre1</td>\n",
       "      <td>rubwre1</td>\n",
       "      <td>rubwre1</td>\n",
       "      <td>rubwre1</td>\n",
       "    </tr>\n",
       "    <tr>\n",
       "      <th>...</th>\n",
       "      <td>...</td>\n",
       "      <td>...</td>\n",
       "      <td>...</td>\n",
       "      <td>...</td>\n",
       "      <td>...</td>\n",
       "      <td>...</td>\n",
       "    </tr>\n",
       "    <tr>\n",
       "      <th>2035</th>\n",
       "      <td>nocall</td>\n",
       "      <td>nocall</td>\n",
       "      <td>nocall</td>\n",
       "      <td>nocall</td>\n",
       "      <td>nocall</td>\n",
       "      <td>nocall</td>\n",
       "    </tr>\n",
       "    <tr>\n",
       "      <th>2036</th>\n",
       "      <td>nocall</td>\n",
       "      <td>nocall</td>\n",
       "      <td>nocall</td>\n",
       "      <td>nocall</td>\n",
       "      <td>nocall</td>\n",
       "      <td>nocall</td>\n",
       "    </tr>\n",
       "    <tr>\n",
       "      <th>2037</th>\n",
       "      <td>nocall</td>\n",
       "      <td>nocall</td>\n",
       "      <td>nocall</td>\n",
       "      <td>nocall</td>\n",
       "      <td>nocall</td>\n",
       "      <td>nocall</td>\n",
       "    </tr>\n",
       "    <tr>\n",
       "      <th>2038</th>\n",
       "      <td>nocall</td>\n",
       "      <td>nocall</td>\n",
       "      <td>nocall</td>\n",
       "      <td>nocall</td>\n",
       "      <td>nocall</td>\n",
       "      <td>nocall</td>\n",
       "    </tr>\n",
       "    <tr>\n",
       "      <th>2039</th>\n",
       "      <td>nocall</td>\n",
       "      <td>nocall</td>\n",
       "      <td>nocall</td>\n",
       "      <td>nocall</td>\n",
       "      <td>nocall</td>\n",
       "      <td>nocall</td>\n",
       "    </tr>\n",
       "  </tbody>\n",
       "</table>\n",
       "<p>2040 rows × 6 columns</p>\n",
       "</div>"
      ],
      "text/plain": [
       "                post0            post1    post2    post3    post4    final\n",
       "0             wbwwre1          wbwwre1   nocall  wbwwre1  wbwwre1  wbwwre1\n",
       "1             wbwwre1          wbwwre1  wbwwre1  wbwwre1  wbwwre1  wbwwre1\n",
       "2     rubwre1 wbwwre1  rubwre1 wbwwre1  wbwwre1  wbwwre1  wbwwre1  wbwwre1\n",
       "3              nocall           nocall   nocall   nocall   nocall   nocall\n",
       "4             rubwre1          rubwre1  rubwre1  rubwre1  rubwre1  rubwre1\n",
       "...               ...              ...      ...      ...      ...      ...\n",
       "2035           nocall           nocall   nocall   nocall   nocall   nocall\n",
       "2036           nocall           nocall   nocall   nocall   nocall   nocall\n",
       "2037           nocall           nocall   nocall   nocall   nocall   nocall\n",
       "2038           nocall           nocall   nocall   nocall   nocall   nocall\n",
       "2039           nocall           nocall   nocall   nocall   nocall   nocall\n",
       "\n",
       "[2040 rows x 6 columns]"
      ]
     },
     "execution_count": 140,
     "metadata": {},
     "output_type": "execute_result"
    }
   ],
   "source": [
    "a = pd.DataFrame(post_labels_list).T\n",
    "a.columns = [f\"post{i}\" for i in range(len(post_labels_list))]\n",
    "a[\"final\"] = final_oof_labels\n",
    "a"
   ]
  },
  {
   "cell_type": "markdown",
   "metadata": {},
   "source": [
    " "
   ]
  },
  {
   "cell_type": "markdown",
   "metadata": {},
   "source": [
    " "
   ]
  },
  {
   "cell_type": "markdown",
   "metadata": {},
   "source": [
    "## 閾値研究"
   ]
  },
  {
   "cell_type": "code",
   "execution_count": 141,
   "metadata": {},
   "outputs": [],
   "source": [
    "def optim_th(y_labels, preds):\n",
    "    best_score = 0\n",
    "    besth_th = 0\n",
    "    best_final_labels = None\n",
    "    base_score = 0\n",
    "\n",
    "    for i in range(100):\n",
    "        th = i / 100.0\n",
    "\n",
    "        pred_labels = extract_label(preds, th)\n",
    "\n",
    "        score = row_wise_micro_averaged_f1_score(y_labels, pred_labels)\n",
    "\n",
    "        if best_score < score:\n",
    "            best_score  = score\n",
    "            best_th = th\n",
    "            best_final_labels = pred_labels\n",
    "            \n",
    "        if th == 0.33:\n",
    "            base_score = score\n",
    "        \n",
    "    return best_score, best_th, base_score\n",
    "\n",
    "\n",
    "def get_info(df):\n",
    "    site = df[\"site\"].values[0]\n",
    "    nocall_num = len(df[df[\"birds\"] == \"nocall\"])\n",
    "    birdcall_num = len(df[df[\"birds\"] != \"nocall\"])\n",
    "    return site, nocall_num, birdcall_num\n",
    "\n",
    "\n",
    "def get_preds_info(preds):\n",
    "    mean_row_mean = preds.mean(axis=0).mean()\n",
    "    mean_row_max = preds.max(axis=0).mean()\n",
    "    return mean_row_mean, mean_row_max\n",
    "\n",
    "def get_pred_labels_info(pred_labels):\n",
    "    pred_nocall_count = 0\n",
    "    for labels in pred_labels:\n",
    "        if labels == \"nocall\":\n",
    "            pred_nocall_count += 1\n",
    "    \n",
    "    return pred_nocall_count"
   ]
  },
  {
   "cell_type": "code",
   "execution_count": 142,
   "metadata": {},
   "outputs": [],
   "source": [
    "oof = np.mean(concat_oof, axis=0)[use_idx, :]\n",
    "oof_labels = extract_label(oof, th=0.26)"
   ]
  },
  {
   "cell_type": "code",
   "execution_count": 143,
   "metadata": {},
   "outputs": [],
   "source": [
    "th_dict = {}\n",
    "\n",
    "gp = valid_df.groupby(\"audio_id\")\n",
    "for audio_id, audio_df in gp:\n",
    "    idx = audio_df.index.values\n",
    "    score, th, base_score = optim_th(audio_df[\"birds\"].values, oof[idx, :])\n",
    "    site, nocall_num, birdcall_num = get_info(audio_df)\n",
    "    mean_row_mean, mean_row_max = get_preds_info(oof[idx, :])\n",
    "    birdcall_p = oof99[idx, :].mean()\n",
    "    pred_nocall_count = get_pred_labels_info(oof_labels[idx[0]: idx[-1] + 1])\n",
    "\n",
    "    th_dict[audio_id] = {\n",
    "        \"site\": site,\n",
    "        \"best_th\": th,\n",
    "        \"score\": score,\n",
    "        \"change_score\": score - base_score,\n",
    "        \"nocall_num\": nocall_num,\n",
    "        \"birdcall_num\": birdcall_num,\n",
    "        \"mean_row_mean\": mean_row_mean,\n",
    "        \"mean_row_max\": mean_row_max,\n",
    "        \"birdcall_p\": birdcall_p,\n",
    "        \"pred_nocall_count\": pred_nocall_count,\n",
    "    }"
   ]
  },
  {
   "cell_type": "code",
   "execution_count": 144,
   "metadata": {},
   "outputs": [
    {
     "data": {
      "text/html": [
       "<div>\n",
       "<style scoped>\n",
       "    .dataframe tbody tr th:only-of-type {\n",
       "        vertical-align: middle;\n",
       "    }\n",
       "\n",
       "    .dataframe tbody tr th {\n",
       "        vertical-align: top;\n",
       "    }\n",
       "\n",
       "    .dataframe thead th {\n",
       "        text-align: right;\n",
       "    }\n",
       "</style>\n",
       "<table border=\"1\" class=\"dataframe\">\n",
       "  <thead>\n",
       "    <tr style=\"text-align: right;\">\n",
       "      <th></th>\n",
       "      <th>site</th>\n",
       "      <th>best_th</th>\n",
       "      <th>score</th>\n",
       "      <th>change_score</th>\n",
       "      <th>nocall_num</th>\n",
       "      <th>birdcall_num</th>\n",
       "      <th>mean_row_mean</th>\n",
       "      <th>mean_row_max</th>\n",
       "      <th>birdcall_p</th>\n",
       "      <th>pred_nocall_count</th>\n",
       "    </tr>\n",
       "  </thead>\n",
       "  <tbody>\n",
       "    <tr>\n",
       "      <th>2782</th>\n",
       "      <td>SSW</td>\n",
       "      <td>0.05</td>\n",
       "      <td>0.545595</td>\n",
       "      <td>0.286151</td>\n",
       "      <td>0</td>\n",
       "      <td>120</td>\n",
       "      <td>0.002956</td>\n",
       "      <td>0.021019</td>\n",
       "      <td>0.993905</td>\n",
       "      <td>62</td>\n",
       "    </tr>\n",
       "    <tr>\n",
       "      <th>21767</th>\n",
       "      <td>COR</td>\n",
       "      <td>0.08</td>\n",
       "      <td>0.410278</td>\n",
       "      <td>0.121389</td>\n",
       "      <td>22</td>\n",
       "      <td>98</td>\n",
       "      <td>0.002633</td>\n",
       "      <td>0.031595</td>\n",
       "      <td>0.999986</td>\n",
       "      <td>86</td>\n",
       "    </tr>\n",
       "    <tr>\n",
       "      <th>28933</th>\n",
       "      <td>SSW</td>\n",
       "      <td>0.09</td>\n",
       "      <td>0.533611</td>\n",
       "      <td>0.125278</td>\n",
       "      <td>18</td>\n",
       "      <td>102</td>\n",
       "      <td>0.003043</td>\n",
       "      <td>0.026779</td>\n",
       "      <td>0.956717</td>\n",
       "      <td>66</td>\n",
       "    </tr>\n",
       "    <tr>\n",
       "      <th>42907</th>\n",
       "      <td>SSW</td>\n",
       "      <td>0.14</td>\n",
       "      <td>0.766667</td>\n",
       "      <td>0.033333</td>\n",
       "      <td>75</td>\n",
       "      <td>45</td>\n",
       "      <td>0.003003</td>\n",
       "      <td>0.020226</td>\n",
       "      <td>0.725713</td>\n",
       "      <td>92</td>\n",
       "    </tr>\n",
       "    <tr>\n",
       "      <th>18003</th>\n",
       "      <td>COR</td>\n",
       "      <td>0.14</td>\n",
       "      <td>0.666667</td>\n",
       "      <td>0.072222</td>\n",
       "      <td>24</td>\n",
       "      <td>96</td>\n",
       "      <td>0.002789</td>\n",
       "      <td>0.025409</td>\n",
       "      <td>0.993982</td>\n",
       "      <td>57</td>\n",
       "    </tr>\n",
       "    <tr>\n",
       "      <th>26746</th>\n",
       "      <td>COR</td>\n",
       "      <td>0.18</td>\n",
       "      <td>0.716667</td>\n",
       "      <td>0.052778</td>\n",
       "      <td>71</td>\n",
       "      <td>49</td>\n",
       "      <td>0.002787</td>\n",
       "      <td>0.022278</td>\n",
       "      <td>0.999573</td>\n",
       "      <td>103</td>\n",
       "    </tr>\n",
       "    <tr>\n",
       "      <th>7843</th>\n",
       "      <td>SSW</td>\n",
       "      <td>0.20</td>\n",
       "      <td>0.975000</td>\n",
       "      <td>0.008333</td>\n",
       "      <td>116</td>\n",
       "      <td>4</td>\n",
       "      <td>0.003631</td>\n",
       "      <td>0.008714</td>\n",
       "      <td>0.639814</td>\n",
       "      <td>120</td>\n",
       "    </tr>\n",
       "    <tr>\n",
       "      <th>54955</th>\n",
       "      <td>SSW</td>\n",
       "      <td>0.22</td>\n",
       "      <td>0.858333</td>\n",
       "      <td>0.008333</td>\n",
       "      <td>100</td>\n",
       "      <td>20</td>\n",
       "      <td>0.003258</td>\n",
       "      <td>0.014734</td>\n",
       "      <td>0.198811</td>\n",
       "      <td>116</td>\n",
       "    </tr>\n",
       "    <tr>\n",
       "      <th>51010</th>\n",
       "      <td>SSW</td>\n",
       "      <td>0.24</td>\n",
       "      <td>0.497222</td>\n",
       "      <td>0.008333</td>\n",
       "      <td>28</td>\n",
       "      <td>92</td>\n",
       "      <td>0.002965</td>\n",
       "      <td>0.033059</td>\n",
       "      <td>0.984260</td>\n",
       "      <td>72</td>\n",
       "    </tr>\n",
       "    <tr>\n",
       "      <th>10534</th>\n",
       "      <td>SSW</td>\n",
       "      <td>0.25</td>\n",
       "      <td>0.686111</td>\n",
       "      <td>0.030556</td>\n",
       "      <td>63</td>\n",
       "      <td>57</td>\n",
       "      <td>0.002890</td>\n",
       "      <td>0.033062</td>\n",
       "      <td>0.904794</td>\n",
       "      <td>80</td>\n",
       "    </tr>\n",
       "    <tr>\n",
       "      <th>26709</th>\n",
       "      <td>SSW</td>\n",
       "      <td>0.29</td>\n",
       "      <td>0.536111</td>\n",
       "      <td>0.000000</td>\n",
       "      <td>62</td>\n",
       "      <td>58</td>\n",
       "      <td>0.003137</td>\n",
       "      <td>0.017478</td>\n",
       "      <td>0.690525</td>\n",
       "      <td>110</td>\n",
       "    </tr>\n",
       "    <tr>\n",
       "      <th>44957</th>\n",
       "      <td>COR</td>\n",
       "      <td>0.30</td>\n",
       "      <td>0.755556</td>\n",
       "      <td>0.016667</td>\n",
       "      <td>49</td>\n",
       "      <td>71</td>\n",
       "      <td>0.003039</td>\n",
       "      <td>0.029295</td>\n",
       "      <td>0.994803</td>\n",
       "      <td>63</td>\n",
       "    </tr>\n",
       "    <tr>\n",
       "      <th>11254</th>\n",
       "      <td>COR</td>\n",
       "      <td>0.35</td>\n",
       "      <td>0.900000</td>\n",
       "      <td>0.008333</td>\n",
       "      <td>105</td>\n",
       "      <td>15</td>\n",
       "      <td>0.002994</td>\n",
       "      <td>0.031410</td>\n",
       "      <td>0.999824</td>\n",
       "      <td>99</td>\n",
       "    </tr>\n",
       "    <tr>\n",
       "      <th>31928</th>\n",
       "      <td>COR</td>\n",
       "      <td>0.39</td>\n",
       "      <td>1.000000</td>\n",
       "      <td>0.008333</td>\n",
       "      <td>120</td>\n",
       "      <td>0</td>\n",
       "      <td>0.002851</td>\n",
       "      <td>0.007997</td>\n",
       "      <td>0.862850</td>\n",
       "      <td>119</td>\n",
       "    </tr>\n",
       "    <tr>\n",
       "      <th>57610</th>\n",
       "      <td>COR</td>\n",
       "      <td>0.55</td>\n",
       "      <td>0.933333</td>\n",
       "      <td>0.025000</td>\n",
       "      <td>93</td>\n",
       "      <td>27</td>\n",
       "      <td>0.002938</td>\n",
       "      <td>0.023497</td>\n",
       "      <td>0.999944</td>\n",
       "      <td>89</td>\n",
       "    </tr>\n",
       "    <tr>\n",
       "      <th>20152</th>\n",
       "      <td>SSW</td>\n",
       "      <td>0.59</td>\n",
       "      <td>0.975000</td>\n",
       "      <td>0.033333</td>\n",
       "      <td>116</td>\n",
       "      <td>4</td>\n",
       "      <td>0.003217</td>\n",
       "      <td>0.015094</td>\n",
       "      <td>0.113140</td>\n",
       "      <td>114</td>\n",
       "    </tr>\n",
       "    <tr>\n",
       "      <th>50878</th>\n",
       "      <td>COR</td>\n",
       "      <td>0.80</td>\n",
       "      <td>0.983333</td>\n",
       "      <td>0.108333</td>\n",
       "      <td>115</td>\n",
       "      <td>5</td>\n",
       "      <td>0.002872</td>\n",
       "      <td>0.029540</td>\n",
       "      <td>0.999571</td>\n",
       "      <td>94</td>\n",
       "    </tr>\n",
       "  </tbody>\n",
       "</table>\n",
       "</div>"
      ],
      "text/plain": [
       "      site  best_th     score  change_score  nocall_num  birdcall_num  \\\n",
       "2782   SSW     0.05  0.545595      0.286151           0           120   \n",
       "21767  COR     0.08  0.410278      0.121389          22            98   \n",
       "28933  SSW     0.09  0.533611      0.125278          18           102   \n",
       "42907  SSW     0.14  0.766667      0.033333          75            45   \n",
       "18003  COR     0.14  0.666667      0.072222          24            96   \n",
       "26746  COR     0.18  0.716667      0.052778          71            49   \n",
       "7843   SSW     0.20  0.975000      0.008333         116             4   \n",
       "54955  SSW     0.22  0.858333      0.008333         100            20   \n",
       "51010  SSW     0.24  0.497222      0.008333          28            92   \n",
       "10534  SSW     0.25  0.686111      0.030556          63            57   \n",
       "26709  SSW     0.29  0.536111      0.000000          62            58   \n",
       "44957  COR     0.30  0.755556      0.016667          49            71   \n",
       "11254  COR     0.35  0.900000      0.008333         105            15   \n",
       "31928  COR     0.39  1.000000      0.008333         120             0   \n",
       "57610  COR     0.55  0.933333      0.025000          93            27   \n",
       "20152  SSW     0.59  0.975000      0.033333         116             4   \n",
       "50878  COR     0.80  0.983333      0.108333         115             5   \n",
       "\n",
       "       mean_row_mean  mean_row_max  birdcall_p  pred_nocall_count  \n",
       "2782        0.002956      0.021019    0.993905                 62  \n",
       "21767       0.002633      0.031595    0.999986                 86  \n",
       "28933       0.003043      0.026779    0.956717                 66  \n",
       "42907       0.003003      0.020226    0.725713                 92  \n",
       "18003       0.002789      0.025409    0.993982                 57  \n",
       "26746       0.002787      0.022278    0.999573                103  \n",
       "7843        0.003631      0.008714    0.639814                120  \n",
       "54955       0.003258      0.014734    0.198811                116  \n",
       "51010       0.002965      0.033059    0.984260                 72  \n",
       "10534       0.002890      0.033062    0.904794                 80  \n",
       "26709       0.003137      0.017478    0.690525                110  \n",
       "44957       0.003039      0.029295    0.994803                 63  \n",
       "11254       0.002994      0.031410    0.999824                 99  \n",
       "31928       0.002851      0.007997    0.862850                119  \n",
       "57610       0.002938      0.023497    0.999944                 89  \n",
       "20152       0.003217      0.015094    0.113140                114  \n",
       "50878       0.002872      0.029540    0.999571                 94  "
      ]
     },
     "execution_count": 144,
     "metadata": {},
     "output_type": "execute_result"
    }
   ],
   "source": [
    "score_df = pd.DataFrame.from_dict(th_dict, orient=\"index\")\n",
    "score_df.sort_values(by=\"best_th\")"
   ]
  },
  {
   "cell_type": "code",
   "execution_count": 145,
   "metadata": {},
   "outputs": [
    {
     "data": {
      "text/plain": [
       "0.7493814192343601"
      ]
     },
     "execution_count": 145,
     "metadata": {},
     "output_type": "execute_result"
    }
   ],
   "source": [
    "(score_df[\"score\"].values * 120).sum() / 2040"
   ]
  },
  {
   "cell_type": "code",
   "execution_count": null,
   "metadata": {},
   "outputs": [],
   "source": []
  },
  {
   "cell_type": "code",
   "execution_count": null,
   "metadata": {},
   "outputs": [],
   "source": []
  },
  {
   "cell_type": "code",
   "execution_count": null,
   "metadata": {},
   "outputs": [],
   "source": []
  },
  {
   "cell_type": "code",
   "execution_count": 146,
   "metadata": {
    "scrolled": false
   },
   "outputs": [
    {
     "data": {
      "text/html": [
       "<div>\n",
       "<style scoped>\n",
       "    .dataframe tbody tr th:only-of-type {\n",
       "        vertical-align: middle;\n",
       "    }\n",
       "\n",
       "    .dataframe tbody tr th {\n",
       "        vertical-align: top;\n",
       "    }\n",
       "\n",
       "    .dataframe thead th {\n",
       "        text-align: right;\n",
       "    }\n",
       "</style>\n",
       "<table border=\"1\" class=\"dataframe\">\n",
       "  <thead>\n",
       "    <tr style=\"text-align: right;\">\n",
       "      <th></th>\n",
       "      <th>nocall_num</th>\n",
       "      <th>site</th>\n",
       "      <th>score</th>\n",
       "      <th>avg</th>\n",
       "      <th>avg_nc</th>\n",
       "      <th>voting</th>\n",
       "      <th>avg_postv12</th>\n",
       "      <th>cqw_avg</th>\n",
       "      <th>std_avg</th>\n",
       "      <th>distance_avg</th>\n",
       "      <th>distance_avg_nc</th>\n",
       "      <th>distance_cqw_avg</th>\n",
       "      <th>firstlabel_replace</th>\n",
       "      <th>nocall_birdcall_replace</th>\n",
       "      <th>birdcall_preds0.5_and_v5</th>\n",
       "      <th>modified_firstlabel_replace</th>\n",
       "      <th>cqw_and_modified_firstlabel_replace</th>\n",
       "    </tr>\n",
       "  </thead>\n",
       "  <tbody>\n",
       "    <tr>\n",
       "      <th>2782</th>\n",
       "      <td>0.0</td>\n",
       "      <td>SSW</td>\n",
       "      <td>0.259444</td>\n",
       "      <td>0.068611</td>\n",
       "      <td>0.068611</td>\n",
       "      <td>0.045833</td>\n",
       "      <td>0.108611</td>\n",
       "      <td>0.086667</td>\n",
       "      <td>0.139444</td>\n",
       "      <td>0.195000</td>\n",
       "      <td>0.206111</td>\n",
       "      <td>0.195000</td>\n",
       "      <td>0.175556</td>\n",
       "      <td>0.004167</td>\n",
       "      <td>0.055556</td>\n",
       "      <td>0.157500</td>\n",
       "      <td>0.141667</td>\n",
       "    </tr>\n",
       "    <tr>\n",
       "      <th>28933</th>\n",
       "      <td>18.0</td>\n",
       "      <td>SSW</td>\n",
       "      <td>0.408333</td>\n",
       "      <td>0.058333</td>\n",
       "      <td>0.050000</td>\n",
       "      <td>0.058333</td>\n",
       "      <td>0.068056</td>\n",
       "      <td>0.054167</td>\n",
       "      <td>0.031944</td>\n",
       "      <td>0.128889</td>\n",
       "      <td>0.104167</td>\n",
       "      <td>0.128889</td>\n",
       "      <td>0.123611</td>\n",
       "      <td>0.020833</td>\n",
       "      <td>0.054167</td>\n",
       "      <td>0.120833</td>\n",
       "      <td>0.097222</td>\n",
       "    </tr>\n",
       "    <tr>\n",
       "      <th>21767</th>\n",
       "      <td>22.0</td>\n",
       "      <td>COR</td>\n",
       "      <td>0.288889</td>\n",
       "      <td>0.077778</td>\n",
       "      <td>0.077778</td>\n",
       "      <td>0.016667</td>\n",
       "      <td>0.086111</td>\n",
       "      <td>0.061111</td>\n",
       "      <td>0.072222</td>\n",
       "      <td>0.119444</td>\n",
       "      <td>0.141667</td>\n",
       "      <td>0.119444</td>\n",
       "      <td>0.116667</td>\n",
       "      <td>0.008333</td>\n",
       "      <td>0.047222</td>\n",
       "      <td>0.122222</td>\n",
       "      <td>0.077778</td>\n",
       "    </tr>\n",
       "    <tr>\n",
       "      <th>18003</th>\n",
       "      <td>24.0</td>\n",
       "      <td>COR</td>\n",
       "      <td>0.594444</td>\n",
       "      <td>0.058333</td>\n",
       "      <td>0.058333</td>\n",
       "      <td>0.025000</td>\n",
       "      <td>0.105556</td>\n",
       "      <td>0.066667</td>\n",
       "      <td>0.108333</td>\n",
       "      <td>0.083333</td>\n",
       "      <td>0.091667</td>\n",
       "      <td>0.083333</td>\n",
       "      <td>0.122222</td>\n",
       "      <td>0.025000</td>\n",
       "      <td>0.041667</td>\n",
       "      <td>0.130556</td>\n",
       "      <td>0.163889</td>\n",
       "    </tr>\n",
       "    <tr>\n",
       "      <th>51010</th>\n",
       "      <td>28.0</td>\n",
       "      <td>SSW</td>\n",
       "      <td>0.488889</td>\n",
       "      <td>0.000000</td>\n",
       "      <td>0.000000</td>\n",
       "      <td>0.000000</td>\n",
       "      <td>-0.012500</td>\n",
       "      <td>-0.063889</td>\n",
       "      <td>-0.255556</td>\n",
       "      <td>-0.255556</td>\n",
       "      <td>-0.255556</td>\n",
       "      <td>-0.255556</td>\n",
       "      <td>0.027778</td>\n",
       "      <td>0.000000</td>\n",
       "      <td>0.000000</td>\n",
       "      <td>0.050000</td>\n",
       "      <td>0.008333</td>\n",
       "    </tr>\n",
       "    <tr>\n",
       "      <th>44957</th>\n",
       "      <td>49.0</td>\n",
       "      <td>COR</td>\n",
       "      <td>0.738889</td>\n",
       "      <td>0.008333</td>\n",
       "      <td>0.008333</td>\n",
       "      <td>0.000000</td>\n",
       "      <td>-0.016667</td>\n",
       "      <td>0.041667</td>\n",
       "      <td>0.013889</td>\n",
       "      <td>-0.011111</td>\n",
       "      <td>-0.002778</td>\n",
       "      <td>-0.011111</td>\n",
       "      <td>0.038889</td>\n",
       "      <td>0.008333</td>\n",
       "      <td>0.000000</td>\n",
       "      <td>0.038889</td>\n",
       "      <td>0.088889</td>\n",
       "    </tr>\n",
       "    <tr>\n",
       "      <th>26709</th>\n",
       "      <td>62.0</td>\n",
       "      <td>SSW</td>\n",
       "      <td>0.536111</td>\n",
       "      <td>-0.025000</td>\n",
       "      <td>-0.008333</td>\n",
       "      <td>-0.008333</td>\n",
       "      <td>0.008333</td>\n",
       "      <td>-0.013889</td>\n",
       "      <td>-0.019444</td>\n",
       "      <td>-0.002778</td>\n",
       "      <td>0.013889</td>\n",
       "      <td>-0.002778</td>\n",
       "      <td>-0.013889</td>\n",
       "      <td>0.000000</td>\n",
       "      <td>-0.008333</td>\n",
       "      <td>0.011111</td>\n",
       "      <td>0.008333</td>\n",
       "    </tr>\n",
       "    <tr>\n",
       "      <th>10534</th>\n",
       "      <td>63.0</td>\n",
       "      <td>SSW</td>\n",
       "      <td>0.655556</td>\n",
       "      <td>0.030556</td>\n",
       "      <td>0.030556</td>\n",
       "      <td>0.033333</td>\n",
       "      <td>-0.161111</td>\n",
       "      <td>0.013889</td>\n",
       "      <td>-0.011111</td>\n",
       "      <td>-0.013889</td>\n",
       "      <td>-0.036111</td>\n",
       "      <td>-0.013889</td>\n",
       "      <td>0.022222</td>\n",
       "      <td>0.008333</td>\n",
       "      <td>0.030556</td>\n",
       "      <td>-0.013889</td>\n",
       "      <td>-0.066667</td>\n",
       "    </tr>\n",
       "    <tr>\n",
       "      <th>26746</th>\n",
       "      <td>71.0</td>\n",
       "      <td>COR</td>\n",
       "      <td>0.663889</td>\n",
       "      <td>0.019444</td>\n",
       "      <td>0.019444</td>\n",
       "      <td>0.019444</td>\n",
       "      <td>-0.016667</td>\n",
       "      <td>0.022222</td>\n",
       "      <td>0.000000</td>\n",
       "      <td>0.036111</td>\n",
       "      <td>0.022222</td>\n",
       "      <td>0.036111</td>\n",
       "      <td>0.030556</td>\n",
       "      <td>0.013889</td>\n",
       "      <td>0.013889</td>\n",
       "      <td>0.013889</td>\n",
       "      <td>0.005556</td>\n",
       "    </tr>\n",
       "    <tr>\n",
       "      <th>42907</th>\n",
       "      <td>75.0</td>\n",
       "      <td>SSW</td>\n",
       "      <td>0.733333</td>\n",
       "      <td>0.000000</td>\n",
       "      <td>-0.008333</td>\n",
       "      <td>-0.016667</td>\n",
       "      <td>-0.016667</td>\n",
       "      <td>-0.058333</td>\n",
       "      <td>-0.108333</td>\n",
       "      <td>-0.108333</td>\n",
       "      <td>-0.108333</td>\n",
       "      <td>-0.108333</td>\n",
       "      <td>0.108333</td>\n",
       "      <td>0.000000</td>\n",
       "      <td>0.008333</td>\n",
       "      <td>0.125000</td>\n",
       "      <td>0.091667</td>\n",
       "    </tr>\n",
       "    <tr>\n",
       "      <th>57610</th>\n",
       "      <td>93.0</td>\n",
       "      <td>COR</td>\n",
       "      <td>0.908333</td>\n",
       "      <td>-0.019444</td>\n",
       "      <td>-0.019444</td>\n",
       "      <td>-0.041667</td>\n",
       "      <td>-0.097222</td>\n",
       "      <td>0.005556</td>\n",
       "      <td>0.011111</td>\n",
       "      <td>-0.133333</td>\n",
       "      <td>-0.133333</td>\n",
       "      <td>-0.133333</td>\n",
       "      <td>-0.019444</td>\n",
       "      <td>-0.008333</td>\n",
       "      <td>-0.011111</td>\n",
       "      <td>-0.019444</td>\n",
       "      <td>0.038889</td>\n",
       "    </tr>\n",
       "    <tr>\n",
       "      <th>54955</th>\n",
       "      <td>100.0</td>\n",
       "      <td>SSW</td>\n",
       "      <td>0.850000</td>\n",
       "      <td>0.008333</td>\n",
       "      <td>0.008333</td>\n",
       "      <td>0.008333</td>\n",
       "      <td>-0.033333</td>\n",
       "      <td>-0.016667</td>\n",
       "      <td>-0.016667</td>\n",
       "      <td>-0.016667</td>\n",
       "      <td>-0.016667</td>\n",
       "      <td>-0.016667</td>\n",
       "      <td>0.008333</td>\n",
       "      <td>0.008333</td>\n",
       "      <td>0.008333</td>\n",
       "      <td>0.008333</td>\n",
       "      <td>-0.016667</td>\n",
       "    </tr>\n",
       "    <tr>\n",
       "      <th>11254</th>\n",
       "      <td>105.0</td>\n",
       "      <td>COR</td>\n",
       "      <td>0.891667</td>\n",
       "      <td>-0.019444</td>\n",
       "      <td>-0.019444</td>\n",
       "      <td>-0.019444</td>\n",
       "      <td>-0.133333</td>\n",
       "      <td>0.008333</td>\n",
       "      <td>-0.016667</td>\n",
       "      <td>-0.061111</td>\n",
       "      <td>-0.066667</td>\n",
       "      <td>-0.061111</td>\n",
       "      <td>-0.027778</td>\n",
       "      <td>-0.008333</td>\n",
       "      <td>-0.008333</td>\n",
       "      <td>-0.027778</td>\n",
       "      <td>0.008333</td>\n",
       "    </tr>\n",
       "    <tr>\n",
       "      <th>50878</th>\n",
       "      <td>115.0</td>\n",
       "      <td>COR</td>\n",
       "      <td>0.875000</td>\n",
       "      <td>-0.058333</td>\n",
       "      <td>-0.058333</td>\n",
       "      <td>-0.075000</td>\n",
       "      <td>-0.125000</td>\n",
       "      <td>0.016667</td>\n",
       "      <td>0.008333</td>\n",
       "      <td>0.058333</td>\n",
       "      <td>0.058333</td>\n",
       "      <td>0.058333</td>\n",
       "      <td>-0.083333</td>\n",
       "      <td>-0.008333</td>\n",
       "      <td>-0.033333</td>\n",
       "      <td>-0.100000</td>\n",
       "      <td>0.058333</td>\n",
       "    </tr>\n",
       "    <tr>\n",
       "      <th>20152</th>\n",
       "      <td>116.0</td>\n",
       "      <td>SSW</td>\n",
       "      <td>0.941667</td>\n",
       "      <td>-0.016667</td>\n",
       "      <td>0.008333</td>\n",
       "      <td>-0.008333</td>\n",
       "      <td>-0.050000</td>\n",
       "      <td>0.008333</td>\n",
       "      <td>-0.008333</td>\n",
       "      <td>-0.050000</td>\n",
       "      <td>0.025000</td>\n",
       "      <td>-0.050000</td>\n",
       "      <td>-0.075000</td>\n",
       "      <td>0.000000</td>\n",
       "      <td>-0.008333</td>\n",
       "      <td>-0.108333</td>\n",
       "      <td>0.033333</td>\n",
       "    </tr>\n",
       "    <tr>\n",
       "      <th>7843</th>\n",
       "      <td>116.0</td>\n",
       "      <td>SSW</td>\n",
       "      <td>0.966667</td>\n",
       "      <td>0.000000</td>\n",
       "      <td>0.000000</td>\n",
       "      <td>0.000000</td>\n",
       "      <td>0.000000</td>\n",
       "      <td>0.000000</td>\n",
       "      <td>0.000000</td>\n",
       "      <td>0.000000</td>\n",
       "      <td>0.008333</td>\n",
       "      <td>0.000000</td>\n",
       "      <td>0.000000</td>\n",
       "      <td>0.000000</td>\n",
       "      <td>0.000000</td>\n",
       "      <td>0.000000</td>\n",
       "      <td>0.000000</td>\n",
       "    </tr>\n",
       "    <tr>\n",
       "      <th>31928</th>\n",
       "      <td>120.0</td>\n",
       "      <td>COR</td>\n",
       "      <td>0.991667</td>\n",
       "      <td>0.000000</td>\n",
       "      <td>0.000000</td>\n",
       "      <td>0.000000</td>\n",
       "      <td>-0.016667</td>\n",
       "      <td>0.008333</td>\n",
       "      <td>-0.033333</td>\n",
       "      <td>-0.041667</td>\n",
       "      <td>-0.041667</td>\n",
       "      <td>-0.041667</td>\n",
       "      <td>0.000000</td>\n",
       "      <td>0.000000</td>\n",
       "      <td>0.000000</td>\n",
       "      <td>0.000000</td>\n",
       "      <td>0.008333</td>\n",
       "    </tr>\n",
       "  </tbody>\n",
       "</table>\n",
       "</div>"
      ],
      "text/plain": [
       "       nocall_num site     score       avg    avg_nc    voting  avg_postv12  \\\n",
       "2782          0.0  SSW  0.259444  0.068611  0.068611  0.045833     0.108611   \n",
       "28933        18.0  SSW  0.408333  0.058333  0.050000  0.058333     0.068056   \n",
       "21767        22.0  COR  0.288889  0.077778  0.077778  0.016667     0.086111   \n",
       "18003        24.0  COR  0.594444  0.058333  0.058333  0.025000     0.105556   \n",
       "51010        28.0  SSW  0.488889  0.000000  0.000000  0.000000    -0.012500   \n",
       "44957        49.0  COR  0.738889  0.008333  0.008333  0.000000    -0.016667   \n",
       "26709        62.0  SSW  0.536111 -0.025000 -0.008333 -0.008333     0.008333   \n",
       "10534        63.0  SSW  0.655556  0.030556  0.030556  0.033333    -0.161111   \n",
       "26746        71.0  COR  0.663889  0.019444  0.019444  0.019444    -0.016667   \n",
       "42907        75.0  SSW  0.733333  0.000000 -0.008333 -0.016667    -0.016667   \n",
       "57610        93.0  COR  0.908333 -0.019444 -0.019444 -0.041667    -0.097222   \n",
       "54955       100.0  SSW  0.850000  0.008333  0.008333  0.008333    -0.033333   \n",
       "11254       105.0  COR  0.891667 -0.019444 -0.019444 -0.019444    -0.133333   \n",
       "50878       115.0  COR  0.875000 -0.058333 -0.058333 -0.075000    -0.125000   \n",
       "20152       116.0  SSW  0.941667 -0.016667  0.008333 -0.008333    -0.050000   \n",
       "7843        116.0  SSW  0.966667  0.000000  0.000000  0.000000     0.000000   \n",
       "31928       120.0  COR  0.991667  0.000000  0.000000  0.000000    -0.016667   \n",
       "\n",
       "        cqw_avg   std_avg  distance_avg  distance_avg_nc  distance_cqw_avg  \\\n",
       "2782   0.086667  0.139444      0.195000         0.206111          0.195000   \n",
       "28933  0.054167  0.031944      0.128889         0.104167          0.128889   \n",
       "21767  0.061111  0.072222      0.119444         0.141667          0.119444   \n",
       "18003  0.066667  0.108333      0.083333         0.091667          0.083333   \n",
       "51010 -0.063889 -0.255556     -0.255556        -0.255556         -0.255556   \n",
       "44957  0.041667  0.013889     -0.011111        -0.002778         -0.011111   \n",
       "26709 -0.013889 -0.019444     -0.002778         0.013889         -0.002778   \n",
       "10534  0.013889 -0.011111     -0.013889        -0.036111         -0.013889   \n",
       "26746  0.022222  0.000000      0.036111         0.022222          0.036111   \n",
       "42907 -0.058333 -0.108333     -0.108333        -0.108333         -0.108333   \n",
       "57610  0.005556  0.011111     -0.133333        -0.133333         -0.133333   \n",
       "54955 -0.016667 -0.016667     -0.016667        -0.016667         -0.016667   \n",
       "11254  0.008333 -0.016667     -0.061111        -0.066667         -0.061111   \n",
       "50878  0.016667  0.008333      0.058333         0.058333          0.058333   \n",
       "20152  0.008333 -0.008333     -0.050000         0.025000         -0.050000   \n",
       "7843   0.000000  0.000000      0.000000         0.008333          0.000000   \n",
       "31928  0.008333 -0.033333     -0.041667        -0.041667         -0.041667   \n",
       "\n",
       "       firstlabel_replace  nocall_birdcall_replace  birdcall_preds0.5_and_v5  \\\n",
       "2782             0.175556                 0.004167                  0.055556   \n",
       "28933            0.123611                 0.020833                  0.054167   \n",
       "21767            0.116667                 0.008333                  0.047222   \n",
       "18003            0.122222                 0.025000                  0.041667   \n",
       "51010            0.027778                 0.000000                  0.000000   \n",
       "44957            0.038889                 0.008333                  0.000000   \n",
       "26709           -0.013889                 0.000000                 -0.008333   \n",
       "10534            0.022222                 0.008333                  0.030556   \n",
       "26746            0.030556                 0.013889                  0.013889   \n",
       "42907            0.108333                 0.000000                  0.008333   \n",
       "57610           -0.019444                -0.008333                 -0.011111   \n",
       "54955            0.008333                 0.008333                  0.008333   \n",
       "11254           -0.027778                -0.008333                 -0.008333   \n",
       "50878           -0.083333                -0.008333                 -0.033333   \n",
       "20152           -0.075000                 0.000000                 -0.008333   \n",
       "7843             0.000000                 0.000000                  0.000000   \n",
       "31928            0.000000                 0.000000                  0.000000   \n",
       "\n",
       "       modified_firstlabel_replace  cqw_and_modified_firstlabel_replace  \n",
       "2782                      0.157500                             0.141667  \n",
       "28933                     0.120833                             0.097222  \n",
       "21767                     0.122222                             0.077778  \n",
       "18003                     0.130556                             0.163889  \n",
       "51010                     0.050000                             0.008333  \n",
       "44957                     0.038889                             0.088889  \n",
       "26709                     0.011111                             0.008333  \n",
       "10534                    -0.013889                            -0.066667  \n",
       "26746                     0.013889                             0.005556  \n",
       "42907                     0.125000                             0.091667  \n",
       "57610                    -0.019444                             0.038889  \n",
       "54955                     0.008333                            -0.016667  \n",
       "11254                    -0.027778                             0.008333  \n",
       "50878                    -0.100000                             0.058333  \n",
       "20152                    -0.108333                             0.033333  \n",
       "7843                      0.000000                             0.000000  \n",
       "31928                     0.000000                             0.008333  "
      ]
     },
     "execution_count": 146,
     "metadata": {},
     "output_type": "execute_result"
    }
   ],
   "source": [
    "diff_df = pd.DataFrame.from_dict(all_diff_scores)\n",
    "columns = list(diff_df.columns)\n",
    "\n",
    "diff_df = pd.concat([\n",
    "    valid_df[valid_df[\"birds\"] == \"nocall\"].groupby(\"audio_id\").size(),\n",
    "    valid_df.groupby(\"audio_id\")[\"site\"].unique(),\n",
    "    pd.DataFrame.from_dict(score_dict, orient=\"index\", columns=[\"score\"]),\n",
    "    diff_df,\n",
    "], axis=1)\n",
    "\n",
    "diff_df.columns = [\"nocall_num\", \"site\", \"score\"] + columns\n",
    "\n",
    "diff_df[\"nocall_num\"] = diff_df[\"nocall_num\"].fillna(0)\n",
    "diff_df[\"site\"] = diff_df[\"site\"].apply(lambda x: x[0])\n",
    "\n",
    "diff_df.sort_values(by=\"nocall_num\")"
   ]
  },
  {
   "cell_type": "code",
   "execution_count": 147,
   "metadata": {},
   "outputs": [
    {
     "data": {
      "text/html": [
       "<div>\n",
       "<style scoped>\n",
       "    .dataframe tbody tr th:only-of-type {\n",
       "        vertical-align: middle;\n",
       "    }\n",
       "\n",
       "    .dataframe tbody tr th {\n",
       "        vertical-align: top;\n",
       "    }\n",
       "\n",
       "    .dataframe thead th {\n",
       "        text-align: right;\n",
       "    }\n",
       "</style>\n",
       "<table border=\"1\" class=\"dataframe\">\n",
       "  <thead>\n",
       "    <tr style=\"text-align: right;\">\n",
       "      <th></th>\n",
       "      <th>nocall_num</th>\n",
       "      <th>site</th>\n",
       "      <th>score</th>\n",
       "      <th>avg</th>\n",
       "      <th>avg_nc</th>\n",
       "      <th>voting</th>\n",
       "      <th>avg_postv12</th>\n",
       "      <th>cqw_avg</th>\n",
       "      <th>std_avg</th>\n",
       "      <th>distance_avg</th>\n",
       "      <th>distance_avg_nc</th>\n",
       "      <th>distance_cqw_avg</th>\n",
       "      <th>firstlabel_replace</th>\n",
       "      <th>nocall_birdcall_replace</th>\n",
       "      <th>birdcall_preds0.5_and_v5</th>\n",
       "      <th>modified_firstlabel_replace</th>\n",
       "      <th>cqw_and_modified_firstlabel_replace</th>\n",
       "    </tr>\n",
       "  </thead>\n",
       "  <tbody>\n",
       "    <tr>\n",
       "      <th>7843</th>\n",
       "      <td>116.0</td>\n",
       "      <td>SSW</td>\n",
       "      <td>0.966667</td>\n",
       "      <td>0.000000</td>\n",
       "      <td>0.000000</td>\n",
       "      <td>0.000000</td>\n",
       "      <td>0.000000</td>\n",
       "      <td>0.000000</td>\n",
       "      <td>0.000000</td>\n",
       "      <td>0.000000</td>\n",
       "      <td>0.008333</td>\n",
       "      <td>0.000000</td>\n",
       "      <td>0.000000</td>\n",
       "      <td>0.000000</td>\n",
       "      <td>0.000000</td>\n",
       "      <td>0.000000</td>\n",
       "      <td>0.000000</td>\n",
       "    </tr>\n",
       "    <tr>\n",
       "      <th>11254</th>\n",
       "      <td>105.0</td>\n",
       "      <td>COR</td>\n",
       "      <td>0.891667</td>\n",
       "      <td>-0.019444</td>\n",
       "      <td>-0.019444</td>\n",
       "      <td>-0.019444</td>\n",
       "      <td>-0.133333</td>\n",
       "      <td>0.008333</td>\n",
       "      <td>-0.016667</td>\n",
       "      <td>-0.061111</td>\n",
       "      <td>-0.066667</td>\n",
       "      <td>-0.061111</td>\n",
       "      <td>-0.027778</td>\n",
       "      <td>-0.008333</td>\n",
       "      <td>-0.008333</td>\n",
       "      <td>-0.027778</td>\n",
       "      <td>0.008333</td>\n",
       "    </tr>\n",
       "    <tr>\n",
       "      <th>20152</th>\n",
       "      <td>116.0</td>\n",
       "      <td>SSW</td>\n",
       "      <td>0.941667</td>\n",
       "      <td>-0.016667</td>\n",
       "      <td>0.008333</td>\n",
       "      <td>-0.008333</td>\n",
       "      <td>-0.050000</td>\n",
       "      <td>0.008333</td>\n",
       "      <td>-0.008333</td>\n",
       "      <td>-0.050000</td>\n",
       "      <td>0.025000</td>\n",
       "      <td>-0.050000</td>\n",
       "      <td>-0.075000</td>\n",
       "      <td>0.000000</td>\n",
       "      <td>-0.008333</td>\n",
       "      <td>-0.108333</td>\n",
       "      <td>0.033333</td>\n",
       "    </tr>\n",
       "    <tr>\n",
       "      <th>31928</th>\n",
       "      <td>120.0</td>\n",
       "      <td>COR</td>\n",
       "      <td>0.991667</td>\n",
       "      <td>0.000000</td>\n",
       "      <td>0.000000</td>\n",
       "      <td>0.000000</td>\n",
       "      <td>-0.016667</td>\n",
       "      <td>0.008333</td>\n",
       "      <td>-0.033333</td>\n",
       "      <td>-0.041667</td>\n",
       "      <td>-0.041667</td>\n",
       "      <td>-0.041667</td>\n",
       "      <td>0.000000</td>\n",
       "      <td>0.000000</td>\n",
       "      <td>0.000000</td>\n",
       "      <td>0.000000</td>\n",
       "      <td>0.008333</td>\n",
       "    </tr>\n",
       "    <tr>\n",
       "      <th>50878</th>\n",
       "      <td>115.0</td>\n",
       "      <td>COR</td>\n",
       "      <td>0.875000</td>\n",
       "      <td>-0.058333</td>\n",
       "      <td>-0.058333</td>\n",
       "      <td>-0.075000</td>\n",
       "      <td>-0.125000</td>\n",
       "      <td>0.016667</td>\n",
       "      <td>0.008333</td>\n",
       "      <td>0.058333</td>\n",
       "      <td>0.058333</td>\n",
       "      <td>0.058333</td>\n",
       "      <td>-0.083333</td>\n",
       "      <td>-0.008333</td>\n",
       "      <td>-0.033333</td>\n",
       "      <td>-0.100000</td>\n",
       "      <td>0.058333</td>\n",
       "    </tr>\n",
       "    <tr>\n",
       "      <th>54955</th>\n",
       "      <td>100.0</td>\n",
       "      <td>SSW</td>\n",
       "      <td>0.850000</td>\n",
       "      <td>0.008333</td>\n",
       "      <td>0.008333</td>\n",
       "      <td>0.008333</td>\n",
       "      <td>-0.033333</td>\n",
       "      <td>-0.016667</td>\n",
       "      <td>-0.016667</td>\n",
       "      <td>-0.016667</td>\n",
       "      <td>-0.016667</td>\n",
       "      <td>-0.016667</td>\n",
       "      <td>0.008333</td>\n",
       "      <td>0.008333</td>\n",
       "      <td>0.008333</td>\n",
       "      <td>0.008333</td>\n",
       "      <td>-0.016667</td>\n",
       "    </tr>\n",
       "  </tbody>\n",
       "</table>\n",
       "</div>"
      ],
      "text/plain": [
       "       nocall_num site     score       avg    avg_nc    voting  avg_postv12  \\\n",
       "7843        116.0  SSW  0.966667  0.000000  0.000000  0.000000     0.000000   \n",
       "11254       105.0  COR  0.891667 -0.019444 -0.019444 -0.019444    -0.133333   \n",
       "20152       116.0  SSW  0.941667 -0.016667  0.008333 -0.008333    -0.050000   \n",
       "31928       120.0  COR  0.991667  0.000000  0.000000  0.000000    -0.016667   \n",
       "50878       115.0  COR  0.875000 -0.058333 -0.058333 -0.075000    -0.125000   \n",
       "54955       100.0  SSW  0.850000  0.008333  0.008333  0.008333    -0.033333   \n",
       "\n",
       "        cqw_avg   std_avg  distance_avg  distance_avg_nc  distance_cqw_avg  \\\n",
       "7843   0.000000  0.000000      0.000000         0.008333          0.000000   \n",
       "11254  0.008333 -0.016667     -0.061111        -0.066667         -0.061111   \n",
       "20152  0.008333 -0.008333     -0.050000         0.025000         -0.050000   \n",
       "31928  0.008333 -0.033333     -0.041667        -0.041667         -0.041667   \n",
       "50878  0.016667  0.008333      0.058333         0.058333          0.058333   \n",
       "54955 -0.016667 -0.016667     -0.016667        -0.016667         -0.016667   \n",
       "\n",
       "       firstlabel_replace  nocall_birdcall_replace  birdcall_preds0.5_and_v5  \\\n",
       "7843             0.000000                 0.000000                  0.000000   \n",
       "11254           -0.027778                -0.008333                 -0.008333   \n",
       "20152           -0.075000                 0.000000                 -0.008333   \n",
       "31928            0.000000                 0.000000                  0.000000   \n",
       "50878           -0.083333                -0.008333                 -0.033333   \n",
       "54955            0.008333                 0.008333                  0.008333   \n",
       "\n",
       "       modified_firstlabel_replace  cqw_and_modified_firstlabel_replace  \n",
       "7843                      0.000000                             0.000000  \n",
       "11254                    -0.027778                             0.008333  \n",
       "20152                    -0.108333                             0.033333  \n",
       "31928                     0.000000                             0.008333  \n",
       "50878                    -0.100000                             0.058333  \n",
       "54955                     0.008333                            -0.016667  "
      ]
     },
     "execution_count": 147,
     "metadata": {},
     "output_type": "execute_result"
    }
   ],
   "source": [
    "diff_df[diff_df[\"nocall_num\"] >= 100]"
   ]
  },
  {
   "cell_type": "code",
   "execution_count": 148,
   "metadata": {},
   "outputs": [
    {
     "data": {
      "text/html": [
       "<div>\n",
       "<style scoped>\n",
       "    .dataframe tbody tr th:only-of-type {\n",
       "        vertical-align: middle;\n",
       "    }\n",
       "\n",
       "    .dataframe tbody tr th {\n",
       "        vertical-align: top;\n",
       "    }\n",
       "\n",
       "    .dataframe thead th {\n",
       "        text-align: right;\n",
       "    }\n",
       "</style>\n",
       "<table border=\"1\" class=\"dataframe\">\n",
       "  <thead>\n",
       "    <tr style=\"text-align: right;\">\n",
       "      <th></th>\n",
       "      <th>nocall_num</th>\n",
       "      <th>site</th>\n",
       "      <th>score</th>\n",
       "      <th>avg</th>\n",
       "      <th>avg_nc</th>\n",
       "      <th>voting</th>\n",
       "      <th>avg_postv12</th>\n",
       "      <th>cqw_avg</th>\n",
       "      <th>std_avg</th>\n",
       "      <th>distance_avg</th>\n",
       "      <th>distance_avg_nc</th>\n",
       "      <th>distance_cqw_avg</th>\n",
       "      <th>firstlabel_replace</th>\n",
       "      <th>nocall_birdcall_replace</th>\n",
       "      <th>birdcall_preds0.5_and_v5</th>\n",
       "      <th>modified_firstlabel_replace</th>\n",
       "      <th>cqw_and_modified_firstlabel_replace</th>\n",
       "    </tr>\n",
       "  </thead>\n",
       "  <tbody>\n",
       "    <tr>\n",
       "      <th>2782</th>\n",
       "      <td>0.0</td>\n",
       "      <td>SSW</td>\n",
       "      <td>0.259444</td>\n",
       "      <td>0.068611</td>\n",
       "      <td>0.068611</td>\n",
       "      <td>0.045833</td>\n",
       "      <td>0.108611</td>\n",
       "      <td>0.086667</td>\n",
       "      <td>0.139444</td>\n",
       "      <td>0.195000</td>\n",
       "      <td>0.206111</td>\n",
       "      <td>0.195000</td>\n",
       "      <td>0.175556</td>\n",
       "      <td>0.004167</td>\n",
       "      <td>0.055556</td>\n",
       "      <td>0.157500</td>\n",
       "      <td>0.141667</td>\n",
       "    </tr>\n",
       "    <tr>\n",
       "      <th>28933</th>\n",
       "      <td>18.0</td>\n",
       "      <td>SSW</td>\n",
       "      <td>0.408333</td>\n",
       "      <td>0.058333</td>\n",
       "      <td>0.050000</td>\n",
       "      <td>0.058333</td>\n",
       "      <td>0.068056</td>\n",
       "      <td>0.054167</td>\n",
       "      <td>0.031944</td>\n",
       "      <td>0.128889</td>\n",
       "      <td>0.104167</td>\n",
       "      <td>0.128889</td>\n",
       "      <td>0.123611</td>\n",
       "      <td>0.020833</td>\n",
       "      <td>0.054167</td>\n",
       "      <td>0.120833</td>\n",
       "      <td>0.097222</td>\n",
       "    </tr>\n",
       "    <tr>\n",
       "      <th>51010</th>\n",
       "      <td>28.0</td>\n",
       "      <td>SSW</td>\n",
       "      <td>0.488889</td>\n",
       "      <td>0.000000</td>\n",
       "      <td>0.000000</td>\n",
       "      <td>0.000000</td>\n",
       "      <td>-0.012500</td>\n",
       "      <td>-0.063889</td>\n",
       "      <td>-0.255556</td>\n",
       "      <td>-0.255556</td>\n",
       "      <td>-0.255556</td>\n",
       "      <td>-0.255556</td>\n",
       "      <td>0.027778</td>\n",
       "      <td>0.000000</td>\n",
       "      <td>0.000000</td>\n",
       "      <td>0.050000</td>\n",
       "      <td>0.008333</td>\n",
       "    </tr>\n",
       "    <tr>\n",
       "      <th>26709</th>\n",
       "      <td>62.0</td>\n",
       "      <td>SSW</td>\n",
       "      <td>0.536111</td>\n",
       "      <td>-0.025000</td>\n",
       "      <td>-0.008333</td>\n",
       "      <td>-0.008333</td>\n",
       "      <td>0.008333</td>\n",
       "      <td>-0.013889</td>\n",
       "      <td>-0.019444</td>\n",
       "      <td>-0.002778</td>\n",
       "      <td>0.013889</td>\n",
       "      <td>-0.002778</td>\n",
       "      <td>-0.013889</td>\n",
       "      <td>0.000000</td>\n",
       "      <td>-0.008333</td>\n",
       "      <td>0.011111</td>\n",
       "      <td>0.008333</td>\n",
       "    </tr>\n",
       "    <tr>\n",
       "      <th>10534</th>\n",
       "      <td>63.0</td>\n",
       "      <td>SSW</td>\n",
       "      <td>0.655556</td>\n",
       "      <td>0.030556</td>\n",
       "      <td>0.030556</td>\n",
       "      <td>0.033333</td>\n",
       "      <td>-0.161111</td>\n",
       "      <td>0.013889</td>\n",
       "      <td>-0.011111</td>\n",
       "      <td>-0.013889</td>\n",
       "      <td>-0.036111</td>\n",
       "      <td>-0.013889</td>\n",
       "      <td>0.022222</td>\n",
       "      <td>0.008333</td>\n",
       "      <td>0.030556</td>\n",
       "      <td>-0.013889</td>\n",
       "      <td>-0.066667</td>\n",
       "    </tr>\n",
       "    <tr>\n",
       "      <th>42907</th>\n",
       "      <td>75.0</td>\n",
       "      <td>SSW</td>\n",
       "      <td>0.733333</td>\n",
       "      <td>0.000000</td>\n",
       "      <td>-0.008333</td>\n",
       "      <td>-0.016667</td>\n",
       "      <td>-0.016667</td>\n",
       "      <td>-0.058333</td>\n",
       "      <td>-0.108333</td>\n",
       "      <td>-0.108333</td>\n",
       "      <td>-0.108333</td>\n",
       "      <td>-0.108333</td>\n",
       "      <td>0.108333</td>\n",
       "      <td>0.000000</td>\n",
       "      <td>0.008333</td>\n",
       "      <td>0.125000</td>\n",
       "      <td>0.091667</td>\n",
       "    </tr>\n",
       "    <tr>\n",
       "      <th>54955</th>\n",
       "      <td>100.0</td>\n",
       "      <td>SSW</td>\n",
       "      <td>0.850000</td>\n",
       "      <td>0.008333</td>\n",
       "      <td>0.008333</td>\n",
       "      <td>0.008333</td>\n",
       "      <td>-0.033333</td>\n",
       "      <td>-0.016667</td>\n",
       "      <td>-0.016667</td>\n",
       "      <td>-0.016667</td>\n",
       "      <td>-0.016667</td>\n",
       "      <td>-0.016667</td>\n",
       "      <td>0.008333</td>\n",
       "      <td>0.008333</td>\n",
       "      <td>0.008333</td>\n",
       "      <td>0.008333</td>\n",
       "      <td>-0.016667</td>\n",
       "    </tr>\n",
       "    <tr>\n",
       "      <th>7843</th>\n",
       "      <td>116.0</td>\n",
       "      <td>SSW</td>\n",
       "      <td>0.966667</td>\n",
       "      <td>0.000000</td>\n",
       "      <td>0.000000</td>\n",
       "      <td>0.000000</td>\n",
       "      <td>0.000000</td>\n",
       "      <td>0.000000</td>\n",
       "      <td>0.000000</td>\n",
       "      <td>0.000000</td>\n",
       "      <td>0.008333</td>\n",
       "      <td>0.000000</td>\n",
       "      <td>0.000000</td>\n",
       "      <td>0.000000</td>\n",
       "      <td>0.000000</td>\n",
       "      <td>0.000000</td>\n",
       "      <td>0.000000</td>\n",
       "    </tr>\n",
       "    <tr>\n",
       "      <th>20152</th>\n",
       "      <td>116.0</td>\n",
       "      <td>SSW</td>\n",
       "      <td>0.941667</td>\n",
       "      <td>-0.016667</td>\n",
       "      <td>0.008333</td>\n",
       "      <td>-0.008333</td>\n",
       "      <td>-0.050000</td>\n",
       "      <td>0.008333</td>\n",
       "      <td>-0.008333</td>\n",
       "      <td>-0.050000</td>\n",
       "      <td>0.025000</td>\n",
       "      <td>-0.050000</td>\n",
       "      <td>-0.075000</td>\n",
       "      <td>0.000000</td>\n",
       "      <td>-0.008333</td>\n",
       "      <td>-0.108333</td>\n",
       "      <td>0.033333</td>\n",
       "    </tr>\n",
       "  </tbody>\n",
       "</table>\n",
       "</div>"
      ],
      "text/plain": [
       "       nocall_num site     score       avg    avg_nc    voting  avg_postv12  \\\n",
       "2782          0.0  SSW  0.259444  0.068611  0.068611  0.045833     0.108611   \n",
       "28933        18.0  SSW  0.408333  0.058333  0.050000  0.058333     0.068056   \n",
       "51010        28.0  SSW  0.488889  0.000000  0.000000  0.000000    -0.012500   \n",
       "26709        62.0  SSW  0.536111 -0.025000 -0.008333 -0.008333     0.008333   \n",
       "10534        63.0  SSW  0.655556  0.030556  0.030556  0.033333    -0.161111   \n",
       "42907        75.0  SSW  0.733333  0.000000 -0.008333 -0.016667    -0.016667   \n",
       "54955       100.0  SSW  0.850000  0.008333  0.008333  0.008333    -0.033333   \n",
       "7843        116.0  SSW  0.966667  0.000000  0.000000  0.000000     0.000000   \n",
       "20152       116.0  SSW  0.941667 -0.016667  0.008333 -0.008333    -0.050000   \n",
       "\n",
       "        cqw_avg   std_avg  distance_avg  distance_avg_nc  distance_cqw_avg  \\\n",
       "2782   0.086667  0.139444      0.195000         0.206111          0.195000   \n",
       "28933  0.054167  0.031944      0.128889         0.104167          0.128889   \n",
       "51010 -0.063889 -0.255556     -0.255556        -0.255556         -0.255556   \n",
       "26709 -0.013889 -0.019444     -0.002778         0.013889         -0.002778   \n",
       "10534  0.013889 -0.011111     -0.013889        -0.036111         -0.013889   \n",
       "42907 -0.058333 -0.108333     -0.108333        -0.108333         -0.108333   \n",
       "54955 -0.016667 -0.016667     -0.016667        -0.016667         -0.016667   \n",
       "7843   0.000000  0.000000      0.000000         0.008333          0.000000   \n",
       "20152  0.008333 -0.008333     -0.050000         0.025000         -0.050000   \n",
       "\n",
       "       firstlabel_replace  nocall_birdcall_replace  birdcall_preds0.5_and_v5  \\\n",
       "2782             0.175556                 0.004167                  0.055556   \n",
       "28933            0.123611                 0.020833                  0.054167   \n",
       "51010            0.027778                 0.000000                  0.000000   \n",
       "26709           -0.013889                 0.000000                 -0.008333   \n",
       "10534            0.022222                 0.008333                  0.030556   \n",
       "42907            0.108333                 0.000000                  0.008333   \n",
       "54955            0.008333                 0.008333                  0.008333   \n",
       "7843             0.000000                 0.000000                  0.000000   \n",
       "20152           -0.075000                 0.000000                 -0.008333   \n",
       "\n",
       "       modified_firstlabel_replace  cqw_and_modified_firstlabel_replace  \n",
       "2782                      0.157500                             0.141667  \n",
       "28933                     0.120833                             0.097222  \n",
       "51010                     0.050000                             0.008333  \n",
       "26709                     0.011111                             0.008333  \n",
       "10534                    -0.013889                            -0.066667  \n",
       "42907                     0.125000                             0.091667  \n",
       "54955                     0.008333                            -0.016667  \n",
       "7843                      0.000000                             0.000000  \n",
       "20152                    -0.108333                             0.033333  "
      ]
     },
     "execution_count": 148,
     "metadata": {},
     "output_type": "execute_result"
    }
   ],
   "source": [
    "diff_df[diff_df[\"site\"] == \"SSW\"].sort_values(by=\"nocall_num\")"
   ]
  },
  {
   "cell_type": "code",
   "execution_count": 149,
   "metadata": {},
   "outputs": [
    {
     "data": {
      "text/html": [
       "<div>\n",
       "<style scoped>\n",
       "    .dataframe tbody tr th:only-of-type {\n",
       "        vertical-align: middle;\n",
       "    }\n",
       "\n",
       "    .dataframe tbody tr th {\n",
       "        vertical-align: top;\n",
       "    }\n",
       "\n",
       "    .dataframe thead th {\n",
       "        text-align: right;\n",
       "    }\n",
       "</style>\n",
       "<table border=\"1\" class=\"dataframe\">\n",
       "  <thead>\n",
       "    <tr style=\"text-align: right;\">\n",
       "      <th></th>\n",
       "      <th>nocall_num</th>\n",
       "      <th>site</th>\n",
       "      <th>score</th>\n",
       "      <th>avg</th>\n",
       "      <th>avg_nc</th>\n",
       "      <th>voting</th>\n",
       "      <th>avg_postv12</th>\n",
       "      <th>cqw_avg</th>\n",
       "      <th>std_avg</th>\n",
       "      <th>distance_avg</th>\n",
       "      <th>distance_avg_nc</th>\n",
       "      <th>distance_cqw_avg</th>\n",
       "      <th>firstlabel_replace</th>\n",
       "      <th>nocall_birdcall_replace</th>\n",
       "      <th>birdcall_preds0.5_and_v5</th>\n",
       "      <th>modified_firstlabel_replace</th>\n",
       "      <th>cqw_and_modified_firstlabel_replace</th>\n",
       "    </tr>\n",
       "  </thead>\n",
       "  <tbody>\n",
       "    <tr>\n",
       "      <th>21767</th>\n",
       "      <td>22.0</td>\n",
       "      <td>COR</td>\n",
       "      <td>0.288889</td>\n",
       "      <td>0.077778</td>\n",
       "      <td>0.077778</td>\n",
       "      <td>0.016667</td>\n",
       "      <td>0.086111</td>\n",
       "      <td>0.061111</td>\n",
       "      <td>0.072222</td>\n",
       "      <td>0.119444</td>\n",
       "      <td>0.141667</td>\n",
       "      <td>0.119444</td>\n",
       "      <td>0.116667</td>\n",
       "      <td>0.008333</td>\n",
       "      <td>0.047222</td>\n",
       "      <td>0.122222</td>\n",
       "      <td>0.077778</td>\n",
       "    </tr>\n",
       "    <tr>\n",
       "      <th>18003</th>\n",
       "      <td>24.0</td>\n",
       "      <td>COR</td>\n",
       "      <td>0.594444</td>\n",
       "      <td>0.058333</td>\n",
       "      <td>0.058333</td>\n",
       "      <td>0.025000</td>\n",
       "      <td>0.105556</td>\n",
       "      <td>0.066667</td>\n",
       "      <td>0.108333</td>\n",
       "      <td>0.083333</td>\n",
       "      <td>0.091667</td>\n",
       "      <td>0.083333</td>\n",
       "      <td>0.122222</td>\n",
       "      <td>0.025000</td>\n",
       "      <td>0.041667</td>\n",
       "      <td>0.130556</td>\n",
       "      <td>0.163889</td>\n",
       "    </tr>\n",
       "    <tr>\n",
       "      <th>44957</th>\n",
       "      <td>49.0</td>\n",
       "      <td>COR</td>\n",
       "      <td>0.738889</td>\n",
       "      <td>0.008333</td>\n",
       "      <td>0.008333</td>\n",
       "      <td>0.000000</td>\n",
       "      <td>-0.016667</td>\n",
       "      <td>0.041667</td>\n",
       "      <td>0.013889</td>\n",
       "      <td>-0.011111</td>\n",
       "      <td>-0.002778</td>\n",
       "      <td>-0.011111</td>\n",
       "      <td>0.038889</td>\n",
       "      <td>0.008333</td>\n",
       "      <td>0.000000</td>\n",
       "      <td>0.038889</td>\n",
       "      <td>0.088889</td>\n",
       "    </tr>\n",
       "    <tr>\n",
       "      <th>26746</th>\n",
       "      <td>71.0</td>\n",
       "      <td>COR</td>\n",
       "      <td>0.663889</td>\n",
       "      <td>0.019444</td>\n",
       "      <td>0.019444</td>\n",
       "      <td>0.019444</td>\n",
       "      <td>-0.016667</td>\n",
       "      <td>0.022222</td>\n",
       "      <td>0.000000</td>\n",
       "      <td>0.036111</td>\n",
       "      <td>0.022222</td>\n",
       "      <td>0.036111</td>\n",
       "      <td>0.030556</td>\n",
       "      <td>0.013889</td>\n",
       "      <td>0.013889</td>\n",
       "      <td>0.013889</td>\n",
       "      <td>0.005556</td>\n",
       "    </tr>\n",
       "    <tr>\n",
       "      <th>57610</th>\n",
       "      <td>93.0</td>\n",
       "      <td>COR</td>\n",
       "      <td>0.908333</td>\n",
       "      <td>-0.019444</td>\n",
       "      <td>-0.019444</td>\n",
       "      <td>-0.041667</td>\n",
       "      <td>-0.097222</td>\n",
       "      <td>0.005556</td>\n",
       "      <td>0.011111</td>\n",
       "      <td>-0.133333</td>\n",
       "      <td>-0.133333</td>\n",
       "      <td>-0.133333</td>\n",
       "      <td>-0.019444</td>\n",
       "      <td>-0.008333</td>\n",
       "      <td>-0.011111</td>\n",
       "      <td>-0.019444</td>\n",
       "      <td>0.038889</td>\n",
       "    </tr>\n",
       "    <tr>\n",
       "      <th>11254</th>\n",
       "      <td>105.0</td>\n",
       "      <td>COR</td>\n",
       "      <td>0.891667</td>\n",
       "      <td>-0.019444</td>\n",
       "      <td>-0.019444</td>\n",
       "      <td>-0.019444</td>\n",
       "      <td>-0.133333</td>\n",
       "      <td>0.008333</td>\n",
       "      <td>-0.016667</td>\n",
       "      <td>-0.061111</td>\n",
       "      <td>-0.066667</td>\n",
       "      <td>-0.061111</td>\n",
       "      <td>-0.027778</td>\n",
       "      <td>-0.008333</td>\n",
       "      <td>-0.008333</td>\n",
       "      <td>-0.027778</td>\n",
       "      <td>0.008333</td>\n",
       "    </tr>\n",
       "    <tr>\n",
       "      <th>50878</th>\n",
       "      <td>115.0</td>\n",
       "      <td>COR</td>\n",
       "      <td>0.875000</td>\n",
       "      <td>-0.058333</td>\n",
       "      <td>-0.058333</td>\n",
       "      <td>-0.075000</td>\n",
       "      <td>-0.125000</td>\n",
       "      <td>0.016667</td>\n",
       "      <td>0.008333</td>\n",
       "      <td>0.058333</td>\n",
       "      <td>0.058333</td>\n",
       "      <td>0.058333</td>\n",
       "      <td>-0.083333</td>\n",
       "      <td>-0.008333</td>\n",
       "      <td>-0.033333</td>\n",
       "      <td>-0.100000</td>\n",
       "      <td>0.058333</td>\n",
       "    </tr>\n",
       "    <tr>\n",
       "      <th>31928</th>\n",
       "      <td>120.0</td>\n",
       "      <td>COR</td>\n",
       "      <td>0.991667</td>\n",
       "      <td>0.000000</td>\n",
       "      <td>0.000000</td>\n",
       "      <td>0.000000</td>\n",
       "      <td>-0.016667</td>\n",
       "      <td>0.008333</td>\n",
       "      <td>-0.033333</td>\n",
       "      <td>-0.041667</td>\n",
       "      <td>-0.041667</td>\n",
       "      <td>-0.041667</td>\n",
       "      <td>0.000000</td>\n",
       "      <td>0.000000</td>\n",
       "      <td>0.000000</td>\n",
       "      <td>0.000000</td>\n",
       "      <td>0.008333</td>\n",
       "    </tr>\n",
       "  </tbody>\n",
       "</table>\n",
       "</div>"
      ],
      "text/plain": [
       "       nocall_num site     score       avg    avg_nc    voting  avg_postv12  \\\n",
       "21767        22.0  COR  0.288889  0.077778  0.077778  0.016667     0.086111   \n",
       "18003        24.0  COR  0.594444  0.058333  0.058333  0.025000     0.105556   \n",
       "44957        49.0  COR  0.738889  0.008333  0.008333  0.000000    -0.016667   \n",
       "26746        71.0  COR  0.663889  0.019444  0.019444  0.019444    -0.016667   \n",
       "57610        93.0  COR  0.908333 -0.019444 -0.019444 -0.041667    -0.097222   \n",
       "11254       105.0  COR  0.891667 -0.019444 -0.019444 -0.019444    -0.133333   \n",
       "50878       115.0  COR  0.875000 -0.058333 -0.058333 -0.075000    -0.125000   \n",
       "31928       120.0  COR  0.991667  0.000000  0.000000  0.000000    -0.016667   \n",
       "\n",
       "        cqw_avg   std_avg  distance_avg  distance_avg_nc  distance_cqw_avg  \\\n",
       "21767  0.061111  0.072222      0.119444         0.141667          0.119444   \n",
       "18003  0.066667  0.108333      0.083333         0.091667          0.083333   \n",
       "44957  0.041667  0.013889     -0.011111        -0.002778         -0.011111   \n",
       "26746  0.022222  0.000000      0.036111         0.022222          0.036111   \n",
       "57610  0.005556  0.011111     -0.133333        -0.133333         -0.133333   \n",
       "11254  0.008333 -0.016667     -0.061111        -0.066667         -0.061111   \n",
       "50878  0.016667  0.008333      0.058333         0.058333          0.058333   \n",
       "31928  0.008333 -0.033333     -0.041667        -0.041667         -0.041667   \n",
       "\n",
       "       firstlabel_replace  nocall_birdcall_replace  birdcall_preds0.5_and_v5  \\\n",
       "21767            0.116667                 0.008333                  0.047222   \n",
       "18003            0.122222                 0.025000                  0.041667   \n",
       "44957            0.038889                 0.008333                  0.000000   \n",
       "26746            0.030556                 0.013889                  0.013889   \n",
       "57610           -0.019444                -0.008333                 -0.011111   \n",
       "11254           -0.027778                -0.008333                 -0.008333   \n",
       "50878           -0.083333                -0.008333                 -0.033333   \n",
       "31928            0.000000                 0.000000                  0.000000   \n",
       "\n",
       "       modified_firstlabel_replace  cqw_and_modified_firstlabel_replace  \n",
       "21767                     0.122222                             0.077778  \n",
       "18003                     0.130556                             0.163889  \n",
       "44957                     0.038889                             0.088889  \n",
       "26746                     0.013889                             0.005556  \n",
       "57610                    -0.019444                             0.038889  \n",
       "11254                    -0.027778                             0.008333  \n",
       "50878                    -0.100000                             0.058333  \n",
       "31928                     0.000000                             0.008333  "
      ]
     },
     "execution_count": 149,
     "metadata": {},
     "output_type": "execute_result"
    }
   ],
   "source": [
    "diff_df[diff_df[\"site\"] == \"COR\"].sort_values(by=\"nocall_num\")"
   ]
  },
  {
   "cell_type": "code",
   "execution_count": null,
   "metadata": {},
   "outputs": [],
   "source": []
  },
  {
   "cell_type": "code",
   "execution_count": null,
   "metadata": {},
   "outputs": [],
   "source": []
  }
 ],
 "metadata": {
  "kernelspec": {
   "display_name": "plot",
   "language": "python",
   "name": "plot"
  },
  "language_info": {
   "codemirror_mode": {
    "name": "ipython",
    "version": 3
   },
   "file_extension": ".py",
   "mimetype": "text/x-python",
   "name": "python",
   "nbconvert_exporter": "python",
   "pygments_lexer": "ipython3",
   "version": "3.6.13"
  }
 },
 "nbformat": 4,
 "nbformat_minor": 4
}
