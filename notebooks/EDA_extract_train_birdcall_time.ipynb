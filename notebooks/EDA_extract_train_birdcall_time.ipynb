{
 "cells": [
  {
   "cell_type": "code",
   "execution_count": 1,
   "metadata": {},
   "outputs": [],
   "source": [
    "import gc\n",
    "import sys\n",
    "from collections import Counter\n",
    "from typing import Dict, Optional\n",
    "\n",
    "import numpy as np\n",
    "import pandas as pd\n",
    "from pathlib import Path\n",
    "from tqdm.notebook import tqdm\n",
    "import timm\n",
    "import torch\n",
    "import torch.nn as nn\n",
    "from torchlibrosa.stft import LogmelFilterBank, Spectrogram\n",
    "from torchlibrosa.augmentation import SpecAugmentation\n",
    "\n",
    "import librosa\n",
    "import audiomentations as audio\n",
    "from torch.utils.data import Dataset, DataLoader\n",
    "\n",
    "sys.path.append(\"../src\")\n",
    "import layer\n",
    "import const\n",
    "from utils import DataHandler\n",
    "from metrics import row_wise_micro_averaged_f1_score"
   ]
  },
  {
   "cell_type": "code",
   "execution_count": 2,
   "metadata": {},
   "outputs": [],
   "source": [
    "dh = DataHandler()"
   ]
  },
  {
   "cell_type": "code",
   "execution_count": 3,
   "metadata": {},
   "outputs": [],
   "source": [
    "DEVICE = \"cuda\"\n",
    "cfg = dh.load(\"../experiments/exp_070/config.yml\")"
   ]
  },
  {
   "cell_type": "code",
   "execution_count": 4,
   "metadata": {},
   "outputs": [],
   "source": [
    "cfg.data.valid.loader.batch_size = 128"
   ]
  },
  {
   "cell_type": "code",
   "execution_count": 5,
   "metadata": {},
   "outputs": [],
   "source": [
    "const.TRAIN_SOUNDSCAPES_DIR = Path(\"../data/input/train_soundscapes\")"
   ]
  },
  {
   "cell_type": "markdown",
   "metadata": {},
   "source": [
    "## Dataset"
   ]
  },
  {
   "cell_type": "code",
   "execution_count": 6,
   "metadata": {},
   "outputs": [],
   "source": [
    "class CustomValidDataset(Dataset):\n",
    "    def __init__(self, df: pd.DataFrame, cfg):\n",
    "        super().__init__()\n",
    "        self.cfg = cfg\n",
    "        self.filenames = df[\"filename\"].values\n",
    "        self.seconds = df[\"second\"].values\n",
    "        self.audio_dict = {}\n",
    "        self.primary_label = df[\"primary_label\"].values\n",
    "\n",
    "    def __len__(self):\n",
    "        return len(self.filenames)\n",
    "\n",
    "    def __getitem__(self, idx):\n",
    "        primary_label = self.primary_label[idx]\n",
    "        filename = self.filenames[idx]\n",
    "        seconds = self.seconds[idx]\n",
    "        path_name = str(f\"../data/input/train_short_audio/{primary_label}/{filename}\")\n",
    "\n",
    "        if filename not in self.audio_dict:\n",
    "            y, sr = librosa.load(path_name, sr=const.TARGET_SAMPLE_RATE)\n",
    "            self.audio_dict[filename] = y\n",
    "        else:\n",
    "            y = self.audio_dict[filename]\n",
    "\n",
    "        start_index = const.TARGET_SAMPLE_RATE * (seconds - 5)\n",
    "        end_index = const.TARGET_SAMPLE_RATE * seconds\n",
    "        y = y[start_index:end_index].astype(np.float32)\n",
    "        \n",
    "        if len(y) < const.TARGET_SAMPLE_RATE * 5:\n",
    "            padding = const.TARGET_SAMPLE_RATE * 5 - len(y)\n",
    "            offset = padding // 2\n",
    "            y = np.pad(y, (offset, const.TARGET_SAMPLE_RATE * 5 - len(y) - offset), \"constant\").astype(\n",
    "                np.float32\n",
    "            )\n",
    "\n",
    "        return y"
   ]
  },
  {
   "cell_type": "markdown",
   "metadata": {},
   "source": [
    "## Model"
   ]
  },
  {
   "cell_type": "code",
   "execution_count": 7,
   "metadata": {},
   "outputs": [],
   "source": [
    "class CustomModel(nn.Module):\n",
    "    def __init__(\n",
    "        self,\n",
    "        n_classes: int,\n",
    "        model_name: str,\n",
    "        args_spec: Dict,\n",
    "        in_channels: int = 1,\n",
    "        pooling_name: str = \"GeM\",\n",
    "        args_pooling: Optional[Dict] = None,\n",
    "    ):\n",
    "        super(CustomModel, self).__init__()\n",
    "\n",
    "        self.spectrogram_extractor = Spectrogram(\n",
    "            n_fft=args_spec.n_fft,\n",
    "            hop_length=args_spec.hop_length,\n",
    "            win_length=args_spec.n_fft,\n",
    "            window=\"hann\",\n",
    "            center=True,\n",
    "            pad_mode=\"reflect\",\n",
    "            freeze_parameters=True,\n",
    "        )\n",
    "\n",
    "        self.logmel_extractor = LogmelFilterBank(\n",
    "            sr=args_spec.sampling_rate,\n",
    "            n_fft=args_spec.n_fft,\n",
    "            n_mels=args_spec.n_mels,\n",
    "            fmin=args_spec.fmin,\n",
    "            fmax=args_spec.fmax,\n",
    "            ref=1.0,\n",
    "            amin=1e-10,\n",
    "            top_db=None,\n",
    "            freeze_parameters=True,\n",
    "        )\n",
    "\n",
    "        self.spec_augmenter = SpecAugmentation(\n",
    "            time_drop_width=64,\n",
    "            time_stripes_num=2,\n",
    "            freq_drop_width=8,\n",
    "            freq_stripes_num=2,\n",
    "        )\n",
    "\n",
    "        self.bn0 = nn.BatchNorm2d(args_spec.n_mels)\n",
    "\n",
    "        self.backbone = timm.create_model(\n",
    "            model_name, pretrained=True, in_chans=in_channels\n",
    "        )\n",
    "\n",
    "        final_in_features = list(self.backbone.children())[-1].in_features\n",
    "        self.backbone = nn.Sequential(*list(self.backbone.children())[:-2])\n",
    "\n",
    "        self.pooling = getattr(layer, pooling_name)(**args_pooling)\n",
    "\n",
    "        self.act = nn.ReLU()\n",
    "        self.drop = nn.Dropout(p=0.5)\n",
    "        self.fc = nn.Linear(final_in_features, n_classes)\n",
    "\n",
    "    def forward(self, x, is_train=True):\n",
    "        x = self.spectrogram_extractor(x)\n",
    "        x = self.logmel_extractor(x)\n",
    "\n",
    "        x = x.transpose(1, 3)\n",
    "        x = self.bn0(x)\n",
    "        x = x.transpose(1, 3)\n",
    "\n",
    "        # if is_train:\n",
    "        #     x = self.spec_augmenter(x)\n",
    "\n",
    "        x = x.contiguous().transpose(2, 3)\n",
    "\n",
    "        x = self.backbone(x)\n",
    "        x = self.pooling(x)\n",
    "        x = x.view(len(x), -1)\n",
    "        x = self.act(x)\n",
    "        x = self.drop(x)\n",
    "        x = self.fc(x)\n",
    "        return x"
   ]
  },
  {
   "cell_type": "markdown",
   "metadata": {},
   "source": [
    "## Factory"
   ]
  },
  {
   "cell_type": "code",
   "execution_count": 8,
   "metadata": {},
   "outputs": [],
   "source": [
    "def get_dataloader(df, cfg):\n",
    "    dataset = CustomValidDataset(\n",
    "            df=df,\n",
    "            cfg=cfg,\n",
    "        )\n",
    "\n",
    "    loader = DataLoader(dataset, **cfg.loader)\n",
    "    return loader"
   ]
  },
  {
   "cell_type": "markdown",
   "metadata": {},
   "source": [
    "## Main"
   ]
  },
  {
   "cell_type": "code",
   "execution_count": 9,
   "metadata": {
    "scrolled": true
   },
   "outputs": [],
   "source": [
    "train_df = dh.load(\"../data/input/train_metadata.csv\")\n",
    "\n",
    "train_df[\"target\"] = train_df[\"primary_label\"].map(const.BIRD_CODE)\n",
    "\n",
    "target_array = np.zeros((len(train_df), len(const.BIRD_CODE)))\n",
    "for idx, pl in enumerate(train_df[\"primary_label\"]):\n",
    "    target_array[idx, const.BIRD_CODE[pl]] += 1\n",
    "    \n",
    "target_df = pd.DataFrame(target_array, columns=list(const.BIRD_CODE.keys()))"
   ]
  },
  {
   "cell_type": "code",
   "execution_count": 10,
   "metadata": {},
   "outputs": [],
   "source": [
    "wave_length_df = pd.read_csv(\"../data/processed/train_short_wave_length.csv\")\n",
    "\n",
    "train_df[\"audio_time\"] = wave_length_df[\"wave_length\"] // (const.TARGET_SAMPLE_RATE)"
   ]
  },
  {
   "cell_type": "code",
   "execution_count": 11,
   "metadata": {},
   "outputs": [],
   "source": [
    "primary_labels = []\n",
    "filenames = []\n",
    "seconds = []\n",
    "\n",
    "for idx in train_df.index:\n",
    "    primary_label = train_df.loc[idx, \"primary_label\"]\n",
    "    filename = train_df.loc[idx, \"filename\"]\n",
    "    audio_time = train_df.loc[idx, \"audio_time\"]\n",
    "    \n",
    "    if audio_time % 5 == 0:\n",
    "        clip_seconds = list(range(5, audio_time + (5 - (audio_time % 5)), 5))\n",
    "    else:\n",
    "        clip_seconds = list(range(5, audio_time + (5 - (audio_time % 5)) + 1, 5))\n",
    "        \n",
    "    for s in clip_seconds:\n",
    "        primary_labels.append(primary_label)\n",
    "        filenames.append(filename)\n",
    "        seconds.append(s)"
   ]
  },
  {
   "cell_type": "code",
   "execution_count": 12,
   "metadata": {},
   "outputs": [],
   "source": [
    "valid_df = pd.DataFrame({\n",
    "    \"primary_label\": primary_labels,\n",
    "    \"filename\": filenames,\n",
    "    \"second\": seconds\n",
    "})"
   ]
  },
  {
   "cell_type": "code",
   "execution_count": 13,
   "metadata": {},
   "outputs": [],
   "source": [
    "def inference(df, cfg):\n",
    "    valid_loader = get_dataloader(df, cfg.data.valid)\n",
    "\n",
    "    model = CustomModel(\n",
    "        model_name=cfg.model.backbone,\n",
    "        n_classes=cfg.model.n_classes,\n",
    "        args_spec=cfg.model.spec_params,\n",
    "        **cfg.model.params\n",
    "    ).to(DEVICE)\n",
    "\n",
    "    model.load_state_dict(torch.load(\"../logs/exp_070_20210508193023_0.882/weight_best.pt\"))\n",
    "    \n",
    "    valid_preds = np.zeros((len(valid_loader.dataset), cfg.model.n_classes))\n",
    "\n",
    "    model.eval()\n",
    "    with torch.no_grad():\n",
    "        for i, images in enumerate(valid_loader):\n",
    "            images = images.to(DEVICE)\n",
    "\n",
    "            preds = model(images)\n",
    "\n",
    "            start_batch_idx = i * valid_loader.batch_size\n",
    "            end_batch_idx = (i + 1) * valid_loader.batch_size\n",
    "\n",
    "            valid_preds[start_batch_idx:end_batch_idx, :] = (preds.sigmoid().cpu().detach().numpy())\n",
    "            \n",
    "    return valid_preds"
   ]
  },
  {
   "cell_type": "code",
   "execution_count": 14,
   "metadata": {
    "scrolled": true
   },
   "outputs": [
    {
     "data": {
      "application/vnd.jupyter.widget-view+json": {
       "model_id": "c7ef6021a7c743cda6d2a57811e59079",
       "version_major": 2,
       "version_minor": 0
      },
      "text/plain": [
       "  0%|          | 0/397 [00:00<?, ?it/s]"
      ]
     },
     "metadata": {},
     "output_type": "display_data"
    }
   ],
   "source": [
    "gp = valid_df.groupby(\"primary_label\")\n",
    "\n",
    "preds_array = np.zeros((len(valid_df), cfg.model.n_classes))\n",
    "for pl, df in tqdm(gp):\n",
    "    idxs = df.index.values\n",
    "    preds_array[idxs, :] = inference(df, cfg)\n",
    "    \n",
    "np.save(\"./preds_train.npy\", preds_array)"
   ]
  },
  {
   "cell_type": "code",
   "execution_count": 15,
   "metadata": {},
   "outputs": [
    {
     "data": {
      "text/plain": [
       "(726640, 1)"
      ]
     },
     "execution_count": 15,
     "metadata": {},
     "output_type": "execute_result"
    }
   ],
   "source": [
    "preds_array.shape"
   ]
  },
  {
   "cell_type": "code",
   "execution_count": 23,
   "metadata": {
    "scrolled": true
   },
   "outputs": [],
   "source": [
    "# valid_df[\"preds_label\"] = [const.INV_BIRD_CODE[bc] for bc in np.argsort(preds_array, axis=1)[:, -1]]\n",
    "valid_df[\"preds\"] = preds_array"
   ]
  },
  {
   "cell_type": "code",
   "execution_count": 26,
   "metadata": {},
   "outputs": [
    {
     "data": {
      "text/html": [
       "<div>\n",
       "<style scoped>\n",
       "    .dataframe tbody tr th:only-of-type {\n",
       "        vertical-align: middle;\n",
       "    }\n",
       "\n",
       "    .dataframe tbody tr th {\n",
       "        vertical-align: top;\n",
       "    }\n",
       "\n",
       "    .dataframe thead th {\n",
       "        text-align: right;\n",
       "    }\n",
       "</style>\n",
       "<table border=\"1\" class=\"dataframe\">\n",
       "  <thead>\n",
       "    <tr style=\"text-align: right;\">\n",
       "      <th></th>\n",
       "      <th>primary_label</th>\n",
       "      <th>filename</th>\n",
       "      <th>second</th>\n",
       "      <th>preds_label</th>\n",
       "      <th>preds</th>\n",
       "    </tr>\n",
       "  </thead>\n",
       "  <tbody>\n",
       "    <tr>\n",
       "      <th>63</th>\n",
       "      <td>acafly</td>\n",
       "      <td>XC130140.ogg</td>\n",
       "      <td>20</td>\n",
       "      <td>acafly</td>\n",
       "      <td>0.376526</td>\n",
       "    </tr>\n",
       "    <tr>\n",
       "      <th>89</th>\n",
       "      <td>acafly</td>\n",
       "      <td>XC133047.ogg</td>\n",
       "      <td>10</td>\n",
       "      <td>acafly</td>\n",
       "      <td>0.265085</td>\n",
       "    </tr>\n",
       "    <tr>\n",
       "      <th>91</th>\n",
       "      <td>acafly</td>\n",
       "      <td>XC133047.ogg</td>\n",
       "      <td>20</td>\n",
       "      <td>acafly</td>\n",
       "      <td>0.479911</td>\n",
       "    </tr>\n",
       "    <tr>\n",
       "      <th>257</th>\n",
       "      <td>acafly</td>\n",
       "      <td>XC137858.ogg</td>\n",
       "      <td>550</td>\n",
       "      <td>acafly</td>\n",
       "      <td>0.057488</td>\n",
       "    </tr>\n",
       "    <tr>\n",
       "      <th>258</th>\n",
       "      <td>acafly</td>\n",
       "      <td>XC137858.ogg</td>\n",
       "      <td>555</td>\n",
       "      <td>acafly</td>\n",
       "      <td>0.049507</td>\n",
       "    </tr>\n",
       "    <tr>\n",
       "      <th>...</th>\n",
       "      <td>...</td>\n",
       "      <td>...</td>\n",
       "      <td>...</td>\n",
       "      <td>...</td>\n",
       "      <td>...</td>\n",
       "    </tr>\n",
       "    <tr>\n",
       "      <th>725690</th>\n",
       "      <td>yetvir</td>\n",
       "      <td>XC154485.ogg</td>\n",
       "      <td>10</td>\n",
       "      <td>acafly</td>\n",
       "      <td>0.131243</td>\n",
       "    </tr>\n",
       "    <tr>\n",
       "      <th>725691</th>\n",
       "      <td>yetvir</td>\n",
       "      <td>XC154485.ogg</td>\n",
       "      <td>15</td>\n",
       "      <td>acafly</td>\n",
       "      <td>0.100032</td>\n",
       "    </tr>\n",
       "    <tr>\n",
       "      <th>726251</th>\n",
       "      <td>yetvir</td>\n",
       "      <td>XC417449.ogg</td>\n",
       "      <td>40</td>\n",
       "      <td>acafly</td>\n",
       "      <td>0.215310</td>\n",
       "    </tr>\n",
       "    <tr>\n",
       "      <th>726411</th>\n",
       "      <td>yetvir</td>\n",
       "      <td>XC501230.ogg</td>\n",
       "      <td>55</td>\n",
       "      <td>acafly</td>\n",
       "      <td>0.193412</td>\n",
       "    </tr>\n",
       "    <tr>\n",
       "      <th>726413</th>\n",
       "      <td>yetvir</td>\n",
       "      <td>XC501230.ogg</td>\n",
       "      <td>65</td>\n",
       "      <td>acafly</td>\n",
       "      <td>0.153670</td>\n",
       "    </tr>\n",
       "  </tbody>\n",
       "</table>\n",
       "<p>9981 rows × 5 columns</p>\n",
       "</div>"
      ],
      "text/plain": [
       "       primary_label      filename  second preds_label     preds\n",
       "63            acafly  XC130140.ogg      20      acafly  0.376526\n",
       "89            acafly  XC133047.ogg      10      acafly  0.265085\n",
       "91            acafly  XC133047.ogg      20      acafly  0.479911\n",
       "257           acafly  XC137858.ogg     550      acafly  0.057488\n",
       "258           acafly  XC137858.ogg     555      acafly  0.049507\n",
       "...              ...           ...     ...         ...       ...\n",
       "725690        yetvir  XC154485.ogg      10      acafly  0.131243\n",
       "725691        yetvir  XC154485.ogg      15      acafly  0.100032\n",
       "726251        yetvir  XC417449.ogg      40      acafly  0.215310\n",
       "726411        yetvir  XC501230.ogg      55      acafly  0.193412\n",
       "726413        yetvir  XC501230.ogg      65      acafly  0.153670\n",
       "\n",
       "[9981 rows x 5 columns]"
      ]
     },
     "execution_count": 26,
     "metadata": {},
     "output_type": "execute_result"
    }
   ],
   "source": [
    "valid_df[valid_df[\"preds\"] < 0.5]"
   ]
  },
  {
   "cell_type": "code",
   "execution_count": 18,
   "metadata": {},
   "outputs": [
    {
     "data": {
      "text/html": [
       "<div>\n",
       "<style scoped>\n",
       "    .dataframe tbody tr th:only-of-type {\n",
       "        vertical-align: middle;\n",
       "    }\n",
       "\n",
       "    .dataframe tbody tr th {\n",
       "        vertical-align: top;\n",
       "    }\n",
       "\n",
       "    .dataframe thead th {\n",
       "        text-align: right;\n",
       "    }\n",
       "</style>\n",
       "<table border=\"1\" class=\"dataframe\">\n",
       "  <thead>\n",
       "    <tr style=\"text-align: right;\">\n",
       "      <th></th>\n",
       "      <th>primary_label</th>\n",
       "      <th>filename</th>\n",
       "      <th>second</th>\n",
       "      <th>preds_label</th>\n",
       "    </tr>\n",
       "  </thead>\n",
       "  <tbody>\n",
       "    <tr>\n",
       "      <th>1526</th>\n",
       "      <td>acowoo</td>\n",
       "      <td>XC110258.ogg</td>\n",
       "      <td>5</td>\n",
       "      <td>acafly</td>\n",
       "    </tr>\n",
       "    <tr>\n",
       "      <th>1527</th>\n",
       "      <td>acowoo</td>\n",
       "      <td>XC110258.ogg</td>\n",
       "      <td>10</td>\n",
       "      <td>acafly</td>\n",
       "    </tr>\n",
       "    <tr>\n",
       "      <th>1528</th>\n",
       "      <td>acowoo</td>\n",
       "      <td>XC110258.ogg</td>\n",
       "      <td>15</td>\n",
       "      <td>acafly</td>\n",
       "    </tr>\n",
       "    <tr>\n",
       "      <th>1529</th>\n",
       "      <td>acowoo</td>\n",
       "      <td>XC110258.ogg</td>\n",
       "      <td>20</td>\n",
       "      <td>acafly</td>\n",
       "    </tr>\n",
       "    <tr>\n",
       "      <th>1530</th>\n",
       "      <td>acowoo</td>\n",
       "      <td>XC110258.ogg</td>\n",
       "      <td>25</td>\n",
       "      <td>acafly</td>\n",
       "    </tr>\n",
       "    <tr>\n",
       "      <th>...</th>\n",
       "      <td>...</td>\n",
       "      <td>...</td>\n",
       "      <td>...</td>\n",
       "      <td>...</td>\n",
       "    </tr>\n",
       "    <tr>\n",
       "      <th>726635</th>\n",
       "      <td>yetvir</td>\n",
       "      <td>XC615888.ogg</td>\n",
       "      <td>60</td>\n",
       "      <td>acafly</td>\n",
       "    </tr>\n",
       "    <tr>\n",
       "      <th>726636</th>\n",
       "      <td>yetvir</td>\n",
       "      <td>XC615888.ogg</td>\n",
       "      <td>65</td>\n",
       "      <td>acafly</td>\n",
       "    </tr>\n",
       "    <tr>\n",
       "      <th>726637</th>\n",
       "      <td>yetvir</td>\n",
       "      <td>XC615888.ogg</td>\n",
       "      <td>70</td>\n",
       "      <td>acafly</td>\n",
       "    </tr>\n",
       "    <tr>\n",
       "      <th>726638</th>\n",
       "      <td>yetvir</td>\n",
       "      <td>XC615888.ogg</td>\n",
       "      <td>75</td>\n",
       "      <td>acafly</td>\n",
       "    </tr>\n",
       "    <tr>\n",
       "      <th>726639</th>\n",
       "      <td>yetvir</td>\n",
       "      <td>XC615888.ogg</td>\n",
       "      <td>80</td>\n",
       "      <td>acafly</td>\n",
       "    </tr>\n",
       "  </tbody>\n",
       "</table>\n",
       "<p>725114 rows × 4 columns</p>\n",
       "</div>"
      ],
      "text/plain": [
       "       primary_label      filename  second preds_label\n",
       "1526          acowoo  XC110258.ogg       5      acafly\n",
       "1527          acowoo  XC110258.ogg      10      acafly\n",
       "1528          acowoo  XC110258.ogg      15      acafly\n",
       "1529          acowoo  XC110258.ogg      20      acafly\n",
       "1530          acowoo  XC110258.ogg      25      acafly\n",
       "...              ...           ...     ...         ...\n",
       "726635        yetvir  XC615888.ogg      60      acafly\n",
       "726636        yetvir  XC615888.ogg      65      acafly\n",
       "726637        yetvir  XC615888.ogg      70      acafly\n",
       "726638        yetvir  XC615888.ogg      75      acafly\n",
       "726639        yetvir  XC615888.ogg      80      acafly\n",
       "\n",
       "[725114 rows x 4 columns]"
      ]
     },
     "execution_count": 18,
     "metadata": {},
     "output_type": "execute_result"
    }
   ],
   "source": [
    "valid_df[valid_df[\"primary_label\"] != valid_df[\"preds_label\"]]"
   ]
  },
  {
   "cell_type": "code",
   "execution_count": 19,
   "metadata": {},
   "outputs": [],
   "source": [
    "noise_time_df = valid_df[valid_df[\"primary_label\"] != valid_df[\"preds_label\"]].groupby(\"filename\")[\"second\"].unique().reset_index()\n",
    "noise_time_dict = dict(noise_time_df.values)\n",
    "\n",
    "for k, v in noise_time_dict.items():\n",
    "    noise_time_dict[k] = list(map(int, v))"
   ]
  },
  {
   "cell_type": "code",
   "execution_count": 20,
   "metadata": {
    "scrolled": true
   },
   "outputs": [],
   "source": [
    "dh.save(\"../data/processed/train_noise.json\", noise_time_dict)"
   ]
  },
  {
   "cell_type": "code",
   "execution_count": 21,
   "metadata": {},
   "outputs": [
    {
     "ename": "KeyError",
     "evalue": "'XC109605.ogg'",
     "output_type": "error",
     "traceback": [
      "\u001b[0;31m--------------------------------------------------------------------------\u001b[0m",
      "\u001b[0;31mKeyError\u001b[0m                                 Traceback (most recent call last)",
      "\u001b[0;32m<ipython-input-21-66082b8a0683>\u001b[0m in \u001b[0;36m<module>\u001b[0;34m\u001b[0m\n\u001b[0;32m----> 1\u001b[0;31m \u001b[0mnoise_time_dict\u001b[0m\u001b[0;34m[\u001b[0m\u001b[0;34m\"XC109605.ogg\"\u001b[0m\u001b[0;34m]\u001b[0m\u001b[0;34m\u001b[0m\u001b[0;34m\u001b[0m\u001b[0m\n\u001b[0m",
      "\u001b[0;31mKeyError\u001b[0m: 'XC109605.ogg'"
     ]
    }
   ],
   "source": [
    "noise_time_dict[\"XC109605.ogg\"]"
   ]
  },
  {
   "cell_type": "code",
   "execution_count": null,
   "metadata": {},
   "outputs": [],
   "source": [
    "noise_time_dict"
   ]
  },
  {
   "cell_type": "code",
   "execution_count": null,
   "metadata": {},
   "outputs": [],
   "source": [
    "g = True\n",
    "counter = 0\n",
    "\n",
    "while g:\n",
    "    counter += 1\n",
    "    if counter == 10:\n",
    "        g = False\n",
    "    print(counter)"
   ]
  },
  {
   "cell_type": "code",
   "execution_count": null,
   "metadata": {
    "scrolled": true
   },
   "outputs": [],
   "source": [
    "audio_time_df"
   ]
  },
  {
   "cell_type": "code",
   "execution_count": null,
   "metadata": {},
   "outputs": [],
   "source": [
    "len_y = 2037586\n",
    "samples = 32_000 * 5"
   ]
  },
  {
   "cell_type": "code",
   "execution_count": null,
   "metadata": {},
   "outputs": [],
   "source": [
    "start = np.random.randint(len_y - samples)"
   ]
  },
  {
   "cell_type": "code",
   "execution_count": null,
   "metadata": {},
   "outputs": [],
   "source": [
    "round_s = start // (32_000)\n"
   ]
  },
  {
   "cell_type": "code",
   "execution_count": null,
   "metadata": {},
   "outputs": [],
   "source": [
    "num = 44\n",
    "num - (num % 5) + 5"
   ]
  },
  {
   "cell_type": "code",
   "execution_count": null,
   "metadata": {},
   "outputs": [],
   "source": []
  }
 ],
 "metadata": {
  "kernelspec": {
   "display_name": "main",
   "language": "python",
   "name": "main"
  },
  "language_info": {
   "codemirror_mode": {
    "name": "ipython",
    "version": 3
   },
   "file_extension": ".py",
   "mimetype": "text/x-python",
   "name": "python",
   "nbconvert_exporter": "python",
   "pygments_lexer": "ipython3",
   "version": "3.8.8"
  }
 },
 "nbformat": 4,
 "nbformat_minor": 4
}
